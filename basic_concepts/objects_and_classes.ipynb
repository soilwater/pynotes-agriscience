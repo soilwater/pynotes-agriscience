{
 "cells": [
  {
   "cell_type": "raw",
   "id": "53bfd093-9e09-4f9b-8ba6-b731dd283c37",
   "metadata": {},
   "source": [
    "---\n",
    "title: \"Objects and classes\"\n",
    "author: \"Andres Patrignani\"\n",
    "date: \"1/4/2024\"\n",
    "keywords: [\"objects\", \"properties\", \"methods\", \"classes\"]\n",
    "---"
   ]
  },
  {
   "cell_type": "markdown",
   "id": "7dca2e8c-e7c3-4e18-ad73-a9e99e20cfba",
   "metadata": {},
   "source": [
    "Python's programming approach is centered around objects, a concept that encapsulates data and functionality. In Python, everything you use —be it variables, modules, or figures— is an object. This approach is part of what we call object-oriented programming (OOP), which is useful because it organizes code into small, reusable pieces, making it easier to understand and maintain. Think of objects as mini-programs that have their own properties (like characteristics or data) and methods (functions or actions they can perform). \n",
    "\n",
    "In Python, objects often have both properties and methods. A property is like an attribute of an object, while a method is a function that belongs to the object and usually performs some action or computation related to the object. Methods are called with parentheses and may take arguments.\n",
    "\n",
    "## Syntax\n",
    "\n",
    "Syntax for accessing object properties and methods:\n",
    "\n",
    "```python\n",
    "    object.property\n",
    "    object.method()\n",
    "```\n",
    "\n",
    "Syntax for defining our own objects using classes:\n",
    "```python\n",
    "class ClassName:\n",
    "    def __init__(self, attributes):\n",
    "        # Constructor method for initializing instance attributes\n",
    "\n",
    "    def method_name(self, parameters):\n",
    "        # Method of the class\n",
    "        \n",
    "```\n",
    "\n",
    "`ClassName` is the name of the class.</br>\n",
    "`__init__` is the constructor method.</br>\n",
    "`method_name` is a method of the class.\n",
    "\n",
    "\n",
    "Let's look at these concepts using a simple example and then we will create our own object."
   ]
  },
  {
   "cell_type": "markdown",
   "id": "4f126168-06b5-4b23-b423-4f6600d41882",
   "metadata": {},
   "source": [
    "## Properties and methods example\n",
    "\n",
    "I often find that using the NumPy module is a simple and clear way to illustrate the difference between properties/attributes and methods/functions."
   ]
  },
  {
   "cell_type": "raw",
   "id": "c367e467-e5d2-44a7-bda4-c12f4571bd1b",
   "metadata": {},
   "source": [
    "::: {.callout-note}\n",
    "## Jargon note\n",
    "\n",
    "The terms `property` and `attribute` are used interchangeably to represent characteristics of the object.\n",
    "\n",
    "Similarly, the term `method` is an another word to denote a `function` inside of an object. Methods (or functions) represent actions that can be performed on the object and are only available within a specific object.\n",
    "\n",
    ":::"
   ]
  },
  {
   "cell_type": "code",
   "execution_count": 2,
   "id": "77376f82-531f-413b-b677-2dc003a67f85",
   "metadata": {},
   "outputs": [
    {
     "name": "stdout",
     "output_type": "stream",
     "text": [
      "Properties\n",
      "(6,)\n",
      "6\n",
      "int64\n",
      "1\n",
      "\n",
      "Methods\n",
      "3.5\n",
      "21\n",
      "[ 1  3  6 10 15 21]\n",
      "[[1 2]\n",
      " [3 4]\n",
      " [5 6]]\n"
     ]
    }
   ],
   "source": [
    "import numpy as np\n",
    "\n",
    "# Define an array (this is an object)\n",
    "A = np.array([1, 2, 3, 4, 5, 6])\n",
    "\n",
    "# Properties of the Numpy array object\n",
    "print('Properties')\n",
    "print(A.shape) # Dimensions of the array\n",
    "print(A.size) # Total number of elements\n",
    "print(A.dtype) # Data type\n",
    "print(A.ndim) # NUmber of array dimensions\n",
    "\n",
    "# Methods/Functions of the Numpy array object\n",
    "print('') # Add a blank line\n",
    "print('Methods')\n",
    "print(A.mean()) # Method to compute average of all values\n",
    "print(A.sum()) # Method to compute sum of all values\n",
    "print(A.cumsum()) # Method to compute running sum of all values\n",
    "print(A.reshape(3,2)) # Reshape to a 3 by 2 matrix\n"
   ]
  },
  {
   "cell_type": "markdown",
   "id": "a36bf8f3-b957-4975-81f1-f5a90590503b",
   "metadata": {},
   "source": [
    "## Class example: Laboratory sample\n",
    "\n",
    "Consider a scenario where we operate a soil analysis laboratory receiving samples from various clients, such as farmers, gardeners, and golf course superintendents. Each soil sample possesses unique attributes that we need to record and analyze. These attributes might include the client's full name, the date the sample was received, a unique identifier, the location of sample collection, the analyses requested, and the results of these analyses. In this context, the primary unit of interest is the individual sample, and all the additional information represents its metadata.\n",
    "\n",
    "To efficiently manage this data, we can create a Python class specifically for our soil samples. This class will allow us to create a structured record for each new sample we receive, demonstrating Python's flexibility in creating custom objects tailored to our specific needs. We will use Python's uuid module to generate a unique identifier for each sample and the datetime module to timestamp when each sample object is created."
   ]
  },
  {
   "cell_type": "raw",
   "id": "d9cf2db9-2d9f-4406-9fdb-7719f57ec3e4",
   "metadata": {},
   "source": [
    "::: {.callout-note}\n",
    "## Note\n",
    "\n",
    "Classes are like blueprints for objects since they define what properties and methods an object will have. For more information check Python's official documentation about [objects and classes](https://docs.python.org/3/tutorial/classes.html)\n",
    ":::"
   ]
  },
  {
   "cell_type": "code",
   "execution_count": 51,
   "id": "ab50a77b-b4fb-499f-95ba-d5d64079c065",
   "metadata": {},
   "outputs": [],
   "source": [
    "import uuid\n",
    "import datetime\n",
    "import pprint\n",
    "\n",
    "class SoilSample:\n",
    "    \"\"\" Class that defines attributes and methods for new soil samples\"\"\"\n",
    "    \n",
    "    def __init__(self, customer_name, location, analyses_requested):\n",
    "        \"\"\"Attributes of the soil sample generated upon sample entry.\n",
    "        \n",
    "        Inputs\n",
    "        ----------\n",
    "        customer_name : string\n",
    "            Customer's full name\n",
    "        location : tuple\n",
    "            Geographic location (lat,lon) of sample collection\n",
    "        analyses_requested : list\n",
    "            Requested analyses\n",
    "        \"\"\"\n",
    "        self.sample_id = str(uuid.uuid4())  # Unique identifier for each sample\n",
    "        self.timestamp = datetime.datetime.now().strftime(\"%d-%b-%Y %H:%M:%S\") # Timestamp of sample entry\n",
    "        self.customer_name = customer_name  # Customer's full name\n",
    "        self.location = location # Geographic location of sample collection\n",
    "        self.analyses_requested = analyses_requested  # List of requested analyses\n",
    "        self.results = {}  # Dictionary to store results of analyses\n",
    "\n",
    "    def add_results(self, analysis_type, result):\n",
    "        \"\"\"Function that adds the name and results of a specific soil analysis.\"\"\"\n",
    "        self.results[analysis_type] = result  # Add analysis results\n",
    "\n",
    "    def summary(self):\n",
    "        \"\"\"Function that prints summary information for the sample.\"\"\"\n",
    "        info = (f\"Sample ID: {self.sample_id}\",\n",
    "                f\"Timestamp: {self.timestamp}\",\n",
    "                f\"Customer: {self.customer_name}\",\n",
    "                f\"Location: {self.location}\",\n",
    "                f\"Requested Analyses: {self.analyses_requested}\",\n",
    "                f\"Results: {self.results}\")\n",
    "        return pprint.pprint(info)\n",
    "\n"
   ]
  },
  {
   "cell_type": "raw",
   "id": "acdcc5d3-2e22-4f88-97cd-c44d55506eb3",
   "metadata": {},
   "source": [
    "::: {.callout-note}\n",
    "## What is `__init__()`?\n",
    "\n",
    "The `__init__()` function at the beginning of the class is a special method that gets called (another term for this action is *invoked*) automatically when we create a new instance of the class. Think of `__init__` as the setup of the object, where the initial state of a new object is defined by assigning values to its properties.\n",
    ":::\n",
    "\n",
    "\n",
    "::: {.callout-note}\n",
    "## What is `self`?\n",
    "\n",
    "When defining a class, the word `self` is used to refer to the instance of the class itself. It's a way for the class to reference its own attributes and methods and is usually defined with the words `self` or `this` (but it can be anything else you want). Typically it is a short word that is meaningful and easy to type. We will use `self` to match the official Python documentation.\n",
    "\n",
    "Imagine each class as a blueprint for building a house. Each house built from the blueprint is an instance (an occurrence) of the class. In this context, `self` is like saying *this particular house*, rather than the general blueprint.\n",
    ":::"
   ]
  },
  {
   "cell_type": "code",
   "execution_count": 45,
   "id": "188b49d8-5b4e-4c41-911b-b3c28f082889",
   "metadata": {},
   "outputs": [
    {
     "data": {
      "text/plain": [
       "\u001b[0;31mInit signature:\u001b[0m \u001b[0mSoilSample\u001b[0m\u001b[0;34m(\u001b[0m\u001b[0mcustomer_name\u001b[0m\u001b[0;34m,\u001b[0m \u001b[0mlocation\u001b[0m\u001b[0;34m,\u001b[0m \u001b[0manalyses_requested\u001b[0m\u001b[0;34m)\u001b[0m\u001b[0;34m\u001b[0m\u001b[0;34m\u001b[0m\u001b[0m\n",
       "\u001b[0;31mDocstring:\u001b[0m      <no docstring>\n",
       "\u001b[0;31mInit docstring:\u001b[0m\n",
       "Attributes of the soil sample generated upon sample entry.\n",
       "\n",
       "Inputs\n",
       "----------\n",
       "customer_name : string\n",
       "    Customer's full name\n",
       "location : tuple\n",
       "    Geographic location (lat,lon) of sample collection\n",
       "analyses_requested : list\n",
       "    Requested analyses\n",
       "\u001b[0;31mType:\u001b[0m           type\n",
       "\u001b[0;31mSubclasses:\u001b[0m     "
      ]
     },
     "metadata": {},
     "output_type": "display_data"
    }
   ],
   "source": [
    "# Access our own documentation\n",
    "SoilSample?\n"
   ]
  },
  {
   "cell_type": "code",
   "execution_count": 46,
   "id": "563cc252-b28b-4e81-8f9a-490d6343ba0f",
   "metadata": {},
   "outputs": [],
   "source": [
    "# Example usage. Create or instantiate a new object, in this case a new sample.\n",
    "new_sample = SoilSample(\"Andres Patrignani\", (39.210089, -96.590213), [\"pH\", \"Nitrogen\"])\n"
   ]
  },
  {
   "cell_type": "raw",
   "id": "2156149c-4e58-45b4-9723-29b86741c8de",
   "metadata": {},
   "source": [
    "::: {.callout-note}\n",
    "## What does *instantiation* mean?\n",
    "\n",
    "`Instantiation` is the term used in Python for the process of creating a new object from a blueprint, the class we just defined.\n",
    "\n",
    ":::"
   ]
  },
  {
   "cell_type": "code",
   "execution_count": 47,
   "id": "862f71b9-c026-4d2f-a00b-de0026b8ef58",
   "metadata": {},
   "outputs": [
    {
     "name": "stdout",
     "output_type": "stream",
     "text": [
      "Andres Patrignani\n",
      "04-Jan-2024 16:52:03\n"
     ]
    }
   ],
   "source": [
    "# Access properties generated when we created the new sample\n",
    "print(new_sample.customer_name)\n",
    "print(new_sample.timestamp)\n"
   ]
  },
  {
   "cell_type": "code",
   "execution_count": null,
   "id": "570dcb39-ed92-4a19-80ac-442169b47ce8",
   "metadata": {},
   "outputs": [],
   "source": [
    "# Use the add_results() method to add some information to our sample object\n",
    "new_sample.add_results(\"pH\", 6.5)\n",
    "new_sample.add_results(\"Nitrogen\", 20)\n"
   ]
  },
  {
   "cell_type": "code",
   "execution_count": 49,
   "id": "900fb0f2-db04-458f-a436-8fcd62537a4a",
   "metadata": {},
   "outputs": [
    {
     "name": "stdout",
     "output_type": "stream",
     "text": [
      "('Sample ID: 322a5b20-ed71-4c4e-b181-789fb6574d8d',\n",
      " 'Timestamp: 04-Jan-2024 16:52:03',\n",
      " 'Customer: Andres Patrignani',\n",
      " 'Location: (39.210089, -96.590213)',\n",
      " \"Requested Analyses: ['pH', 'Nitrogen']\",\n",
      " \"Results: {'pH': 6.5, 'Nitrogen': 20}\")\n"
     ]
    }
   ],
   "source": [
    "# Use the summary() method to print the information available for our sample\n",
    "new_sample.summary()\n"
   ]
  },
  {
   "cell_type": "raw",
   "id": "cf226ff2-f139-477a-92f2-d4a6b0173ce9",
   "metadata": {},
   "source": [
    "::: {.callout-note}\n",
    "## Inheritance\n",
    "\n",
    "A cool feature of classes in Python is their ability to inherit properties and methods from an already pre-defined class. This is called `inheritance`, and it allows programmers to build upon and extend the functionality of existing classes, creating new, more specialized versions without reinventing the wheel. After mastering the basics of classes and objects, exploring class inheritance is a must to take your coding skills to the next level.\n",
    "\n",
    ":::"
   ]
  },
  {
   "cell_type": "markdown",
   "id": "2b69602b-35c4-47b0-a487-51f85288899b",
   "metadata": {},
   "source": [
    "## Practice\n",
    "\n",
    "To take this exercise to the next level try the following improvements:\n",
    "\n",
    "- Add one new attribute and one new methods to the class\n",
    "\n",
    "- Use the `input()` function to request the required data for each sample from users\n",
    "\n",
    "- Use a `for loop` to pre-populate the results with `None` for each of the requested soil analyses. This will ensure that only those analyses are entered into the sample.\n",
    "\n",
    "- Create a way to store multiple sample entries. You can simply append each new sample to a variable defined at the beginning of your script, append the new entries to a text or .json file, use the pickle module, or use a databases like [sqlite3](https://docs.python.org/3/library/sqlite3.html), [MySQL](https://www.w3schools.com/python/python_mysql_getstarted.asp), or [TinyDB](https://tinydb.readthedocs.io/en/latest/getting-started.html) module"
   ]
  }
 ],
 "metadata": {
  "kernelspec": {
   "display_name": "Python 3 (ipykernel)",
   "language": "python",
   "name": "python3"
  },
  "language_info": {
   "codemirror_mode": {
    "name": "ipython",
    "version": 3
   },
   "file_extension": ".py",
   "mimetype": "text/x-python",
   "name": "python",
   "nbconvert_exporter": "python",
   "pygments_lexer": "ipython3",
   "version": "3.10.9"
  }
 },
 "nbformat": 4,
 "nbformat_minor": 5
}
