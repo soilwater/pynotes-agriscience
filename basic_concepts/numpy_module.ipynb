{
 "cells": [
  {
   "cell_type": "raw",
   "metadata": {},
   "source": [
    "---\n",
    "title: \"Numpy module\"\n",
    "author: \"Andres Patrignani\"\n",
    "date: \"1/8/2024\"\n",
    "keywords: [\"numpy\", \"element-wise\", \"vectorized\", \"numerical python\"]\n",
    "---"
   ]
  },
  {
   "cell_type": "markdown",
   "metadata": {},
   "source": [
    "Numpy is a Python library for efficient numerical computing that is widely used in data science and engineering. Numpy provides support for large, multi-dimensional arrays and matrices, along with a collection of high-level functions to operate on these arrays. The true power of Numpy lies in the ability to vectorize computations, which allow for element-wise operations on arrays without the need for explicit loops. This feature enhances performance and efficiency, particularly in data-intensive tasks. [Numpy Documentation](https://docs.scipy.org/doc/numpy/reference/index.html)\n"
   ]
  },
  {
   "cell_type": "markdown",
   "metadata": {},
   "source": [
    "## Element-wise computations using Numpy arrays\n",
    "\n",
    "We will start this tutorial by learning about some of the limitations of traditional Python lists. Then, the power of Numpy element-wise (or vectorized) computations will become evident. As much as I like agronomic examples, for the first few exercises I will use some trivial arrays of numbers to keep it simple.\n",
    "\n",
    "Vectorized or element-wise computations refer to operations that are performed on arrays (vectors, matrices) directly and simultaneously. Instead of processing elements one by one using loops, vectorized operations apply a single action to each element in the array without explicit iteration. This leads to more concise code and often improved performance. Both `vectorized` and `element-wise` temrs are correct and often are used interchangeably.\n",
    "\n",
    "Let's begin by importing the Numpy module, so that we already have it for the entire tutorial."
   ]
  },
  {
   "cell_type": "code",
   "execution_count": 3,
   "metadata": {},
   "outputs": [],
   "source": [
    "# Import numpy module\n",
    "import numpy as np\n",
    "import matplotlib.pyplot as plt # We will need this for some figures"
   ]
  },
  {
   "cell_type": "markdown",
   "metadata": {},
   "source": [
    "### Product of a regular list by a scalar"
   ]
  },
  {
   "cell_type": "code",
   "execution_count": 63,
   "metadata": {},
   "outputs": [
    {
     "name": "stdout",
     "output_type": "stream",
     "text": [
      "[1, 2, 3, 4, 1, 2, 3, 4, 1, 2, 3, 4]\n"
     ]
    }
   ],
   "source": [
    "# Create a list of elements\n",
    "A = [1,2,3,4]\n",
    "\n",
    "# Multiple the list by a scalar\n",
    "print(A * 3)\n"
   ]
  },
  {
   "cell_type": "markdown",
   "metadata": {},
   "source": [
    "### Product of two regular lists with the same shape"
   ]
  },
  {
   "cell_type": "code",
   "execution_count": 64,
   "metadata": {},
   "outputs": [
    {
     "ename": "TypeError",
     "evalue": "can't multiply sequence by non-int of type 'list'",
     "output_type": "error",
     "traceback": [
      "\u001b[0;31m---------------------------------------------------------------------------\u001b[0m",
      "\u001b[0;31mTypeError\u001b[0m                                 Traceback (most recent call last)",
      "Cell \u001b[0;32mIn[64], line 5\u001b[0m\n\u001b[1;32m      2\u001b[0m B \u001b[38;5;241m=\u001b[39m [\u001b[38;5;241m5\u001b[39m,\u001b[38;5;241m6\u001b[39m,\u001b[38;5;241m7\u001b[39m,\u001b[38;5;241m8\u001b[39m]\n\u001b[1;32m      4\u001b[0m \u001b[38;5;66;03m# Multiple the two lists together. Heads up! This will not work!\u001b[39;00m\n\u001b[0;32m----> 5\u001b[0m \u001b[38;5;28mprint\u001b[39m(\u001b[43mA\u001b[49m\u001b[38;5;241;43m*\u001b[39;49m\u001b[43mB\u001b[49m)\n",
      "\u001b[0;31mTypeError\u001b[0m: can't multiply sequence by non-int of type 'list'"
     ]
    }
   ],
   "source": [
    "# Create list B, with the same size as A\n",
    "B = [5,6,7,8]\n",
    "\n",
    "# Multiple the two lists together. Heads up! This will not work!\n",
    "print(A*B)\n"
   ]
  },
  {
   "cell_type": "markdown",
   "metadata": {},
   "source": [
    "The first operation repeats the list three times, which is probably not exactly what you were expecting. The second example results in an error. Now let's import the Numpy module and try these operations again to see what happens.\n"
   ]
  },
  {
   "cell_type": "markdown",
   "metadata": {},
   "source": [
    "### Product of a Numpy array by a scalar"
   ]
  },
  {
   "cell_type": "code",
   "execution_count": 65,
   "metadata": {},
   "outputs": [
    {
     "name": "stdout",
     "output_type": "stream",
     "text": [
      "<class 'numpy.ndarray'>\n",
      "[ 3  6  9 12]\n"
     ]
    }
   ],
   "source": [
    "# Create a list of elements\n",
    "A = np.array([1,2,3,4])\n",
    "\n",
    "# Check type of newly created Numpy array\n",
    "print(type(A))\n",
    "\n",
    "print(A * 3)"
   ]
  },
  {
   "cell_type": "markdown",
   "metadata": {},
   "source": [
    "### Product of two Numpy arrays with the same shape"
   ]
  },
  {
   "cell_type": "code",
   "execution_count": 66,
   "metadata": {},
   "outputs": [
    {
     "name": "stdout",
     "output_type": "stream",
     "text": [
      "[ 5 12 21 32]\n"
     ]
    }
   ],
   "source": [
    "# Re-define the previous arrays as numpy arrays\n",
    "A = np.array([1,2,3,4])\n",
    "B = np.array([5,6,7,8])\n",
    "\n",
    "print(A * B)\n"
   ]
  },
  {
   "cell_type": "markdown",
   "metadata": {},
   "source": [
    "### Other operations with Numpy arrays"
   ]
  },
  {
   "cell_type": "code",
   "execution_count": 67,
   "metadata": {},
   "outputs": [
    {
     "name": "stdout",
     "output_type": "stream",
     "text": [
      "[ 3  6  9 12]\n",
      "[ 6  8 10 12]\n",
      "[-4 -4 -4 -4]\n",
      "[ 5 12 21 32]\n",
      "[0.2        0.33333333 0.42857143 0.5       ]\n",
      "[5.09901951 6.32455532 7.61577311 8.94427191]\n",
      "10\n",
      "26\n"
     ]
    }
   ],
   "source": [
    "print(A * 3)   # Vector times a scalar\n",
    "print(A + B)\n",
    "print(A - B)\n",
    "print(A * B)\n",
    "print(A / B)\n",
    "print(np.sqrt(A**2 + B**2)) # Exponentiation Calculate hypotenuse of multiple rectangle triangle\n",
    "print(A.sum())\n",
    "print(B.sum())\n"
   ]
  },
  {
   "cell_type": "markdown",
   "metadata": {},
   "source": [
    "## Example 1: Compute soil water storage for a single field\n",
    "\n",
    "Soil water storage directly influences plant growth and crop yield since it is an essential processes for transpiration and nutrient uptake. In irrigated cropping systems, monitoring of soil water storage is important for irrigation scheduling and effective water management and conservation. \n",
    "\n",
    "Assume a field that has a soil profile with five horizons, each measuring: `10, 20, 30, 30, and 30` cm in thickness (so about 1.2 m depth). The volumetric water content for each horizon was determined by soil moisture sensors located at the center of each horizon, hence providing an average moisture value of: `0.350, 0.280, 0.255, 0.210, 0.137` $cm^3/cm^3$. Based on this information, compute the soil water storage for each soil horizon and the total for the entire soil profile. Recall that the volumetric water content represents the volume of water per unit volume of soil, so 0.350 $cm^3/cm^3$ is the same as 35% moisture by volume or by thickness of the soil horizon. How much irrigation water does a farmer need to add to reach a field capacity of 420 mm?"
   ]
  },
  {
   "cell_type": "code",
   "execution_count": 62,
   "metadata": {},
   "outputs": [
    {
     "name": "stdout",
     "output_type": "stream",
     "text": [
      "Storage for each layer: [35.  56.  76.5 63.  41.1]\n",
      "Total water storage in profile is: 271.6 mm\n",
      "Required irrigation: 148.4 mm\n"
     ]
    }
   ],
   "source": [
    "# Define variables\n",
    "theta_v = np.array([0.350, 0.280, 0.255, 0.210, 0.137]) # cm^3/cm^3\n",
    "depths = np.array([10, 20, 30, 30, 30]) * 10 # horizons in mm\n",
    "\n",
    "# Compute water storage for each layer\n",
    "storage_per_layer = theta_v * depths # mm of water per layer\n",
    "print('Storage for each layer:', np.round(storage_per_layer,1))\n",
    "\n",
    "# Compute soil water storage for the entire profile\n",
    "profile_storage = np.sum(storage_per_layer)\n",
    "print(f'Total water storage in profile is: {profile_storage:.1f} mm')\n",
    "\n",
    "field_capacity = 420 # mm\n",
    "irrigation_req = field_capacity - profile_storage\n",
    "print(f'Required irrigation: {irrigation_req:.1f} mm')\n"
   ]
  },
  {
   "cell_type": "raw",
   "metadata": {},
   "source": [
    "::: {.callout-note}\n",
    "## Note\n",
    "Let's review a few operations:\n",
    "\n",
    "`depths = np.array([10, 20, 30, 30, 30]) * 10` is the product of a vector and a scalar\n",
    "\n",
    "`storage_per_layer = theta_v * depths` is a vector times another vector\n",
    ":::"
   ]
  },
  {
   "cell_type": "markdown",
   "metadata": {},
   "source": [
    "## Example 2: Compute soil water storage for multiple fields\n",
    "\n",
    "Now imagine that we are managing three irrigated fields in the region? Assume that all the fields are nearby and have the same soil horizons, but farmers have different crops and irrigation strategies so they also have different soil moisture contents across the profile. What is the soil water storage of each field? How much water do we need to apply in each field to bring them back to field capacity?"
   ]
  },
  {
   "cell_type": "code",
   "execution_count": 63,
   "metadata": {},
   "outputs": [
    {
     "name": "stdout",
     "output_type": "stream",
     "text": [
      "[[ 35.   56.   76.5  63.   41.1]\n",
      " [ 25.   76.  106.5  33.   75. ]\n",
      " [ 15.   36.   46.5  33.   96. ]]\n",
      "[271.6 315.5 226.5]\n",
      "Irrigation for each field: [148.4 104.5 193.5] mm\n"
     ]
    }
   ],
   "source": [
    "# Example soil moisture for the 5 horizons and three fields\n",
    "# The first field is the same as in the previous exercise\n",
    "theta_v = np.array([[0.350, 0.280, 0.255, 0.210, 0.137],\n",
    "                    [0.250, 0.380, 0.355, 0.110, 0.250],\n",
    "                    [0.150, 0.180, 0.155, 0.110, 0.320]]) # cm^3/cm^3\n",
    "\n",
    "# Compute storage for all horizons\n",
    "storage_per_layer = theta_v * depths\n",
    "print(storage_per_layer)\n",
    "\n",
    "# Compute\n",
    "storage_profiles = np.sum(storage, axis=1) # axis=1 means add along columns\n",
    "print(storage_profiles)\n",
    "\n",
    "# Irrigation requirements\n",
    "irrigation_req = field_capacity - storage_profiles\n",
    "print('Irrigation for each field:', irrigation_req, 'mm')"
   ]
  },
  {
   "cell_type": "markdown",
   "metadata": {},
   "source": [
    "### Example 3: Determine the CEC of a soil\n",
    "\n",
    "The cation exchange capacity (CEC, meq/100 g of soil) of a soil is determined by the nature and amount of clay minerals and organic matter. Compute the CEC of a soil that has 32% clay and 3% organic matter. The clay fraction is represented by 30% kaolinite, 50% montmorillonite, and 20% vermiculite. The CEC for clay minerals and organic matter can be found in most soil fertility textbooks.\n"
   ]
  },
  {
   "cell_type": "code",
   "execution_count": 54,
   "metadata": {},
   "outputs": [
    {
     "name": "stdout",
     "output_type": "stream",
     "text": [
      "[0.04  0.096 0.16  0.064]\n",
      "[200  10 100 140]\n"
     ]
    }
   ],
   "source": [
    "# Determine percentage of each clay mineral\n",
    "\n",
    "om = np.array([4]) # percent\n",
    "om_cec = np.array([200]) # meq/100 g\n",
    "\n",
    "clay = 32 * np.array([30, 50, 20])/100 # This is the % of each clay type\n",
    "clay_cec = np.array([10, 100, 140]) # meq/100 g\n",
    "\n",
    "# Merge the fractions and CEC together into a single aray\n",
    "all_fractions = np.concatenate((om, clay))/100 # percent to fraction\n",
    "all_cec = np.concatenate((om_cec, clay_cec))\n",
    "\n",
    "print(all_fractions)\n",
    "print(all_cec)\n"
   ]
  },
  {
   "cell_type": "code",
   "execution_count": 34,
   "metadata": {},
   "outputs": [
    {
     "name": "stdout",
     "output_type": "stream",
     "text": [
      "The soil CEC is: 33.9 meq/100 g of soil\n"
     ]
    }
   ],
   "source": [
    "# Compute soil CEC as the weighed-sum of its components\n",
    "soil_cec = np.sum(all_cec * all_fractions)\n",
    "print(f'The soil CEC is: {soil_cec:.1f} meq/100 g of soil')\n"
   ]
  },
  {
   "cell_type": "raw",
   "metadata": {},
   "source": [
    "::: {.callout-note}\n",
    "## Note\n",
    "Let's review a few operations:\n",
    "\n",
    "`np.array([30, 50, 20])/100` is a vector divided by a scalar.\n",
    "\n",
    "`all_cec * all_fractions` is a vector times another vector\n",
    ":::"
   ]
  },
  {
   "cell_type": "markdown",
   "metadata": {},
   "source": [
    "### Create arrays with specific data types"
   ]
  },
  {
   "cell_type": "code",
   "execution_count": 68,
   "metadata": {},
   "outputs": [
    {
     "name": "stdout",
     "output_type": "stream",
     "text": [
      "[1 2 3 4]\n",
      "[1. 2. 3. 4.]\n"
     ]
    }
   ],
   "source": [
    "# An alternative by specifying the data type\n",
    "print(np.array([1,2,3,4], dtype=\"int64\"))\n",
    "print(np.array([1,2,3,4], dtype=\"float64\"))\n"
   ]
  },
  {
   "cell_type": "raw",
   "metadata": {},
   "source": [
    "::: {.callout-note}\n",
    "## Note\n",
    "\n",
    "A common pitfall among beginners is to create a numpy array only using parentheses like this: `array = np.array(1,2,3,4)`. This will not work.\n",
    "\n",
    ":::"
   ]
  },
  {
   "cell_type": "markdown",
   "metadata": {},
   "source": [
    "### Operations with two-dimensional arrays"
   ]
  },
  {
   "cell_type": "code",
   "execution_count": 69,
   "metadata": {},
   "outputs": [],
   "source": [
    "# Define arrays\n",
    "# The values in M and v were arbitrarily selected\n",
    "# so that the operations result in round numbers for clarity. You can change them.\n",
    "\n",
    "M = np.array([ [10,2,1], [25,6,55] ]) # 2D matrix\n",
    "v = np.array([0.2, 0.5, 1]) # 1D vector\n"
   ]
  },
  {
   "cell_type": "code",
   "execution_count": 70,
   "metadata": {},
   "outputs": [
    {
     "name": "stdout",
     "output_type": "stream",
     "text": [
      "(2, 3)\n",
      "6\n"
     ]
    }
   ],
   "source": [
    "# Access Numpy array shape and size properties\n",
    "print(M.shape) # rows and columns\n",
    "print(M.size) # Total number of elements\n"
   ]
  },
  {
   "cell_type": "code",
   "execution_count": 71,
   "metadata": {},
   "outputs": [
    {
     "name": "stdout",
     "output_type": "stream",
     "text": [
      "Matrix by a scalar\n",
      "[[ 20   4   2]\n",
      " [ 50  12 110]]\n",
      "Matrix by a vector with same number of columns\n",
      "[[ 2.  1.  1.]\n",
      " [ 5.  3. 55.]]\n",
      "Matrix by matrix of the same size\n",
      "[[ 100    4    1]\n",
      " [ 625   36 3025]]\n"
     ]
    }
   ],
   "source": [
    "# Element-wise multiplication\n",
    "print('Matrix by a scalar')\n",
    "print(M*2)\n",
    "\n",
    "print('Matrix by a vector with same number of columns')\n",
    "print(M * v)\n",
    "\n",
    "print('Matrix by matrix of the same size')\n",
    "print(M*M)\n"
   ]
  },
  {
   "cell_type": "code",
   "execution_count": 72,
   "metadata": {},
   "outputs": [
    {
     "name": "stdout",
     "output_type": "stream",
     "text": [
      "Dot product operation\n"
     ]
    },
    {
     "data": {
      "text/plain": [
       "array([ 4., 63.])"
      ]
     },
     "execution_count": 72,
     "metadata": {},
     "output_type": "execute_result"
    }
   ],
   "source": [
    "# Dot product (useful for linear algebra operations)\n",
    "print('Dot product operation')\n",
    "np.dot(M,v)\n"
   ]
  },
  {
   "cell_type": "markdown",
   "metadata": {},
   "source": [
    "### Reshape arrays\n"
   ]
  },
  {
   "cell_type": "code",
   "execution_count": 73,
   "metadata": {},
   "outputs": [
    {
     "name": "stdout",
     "output_type": "stream",
     "text": [
      "[[10  2  1]\n",
      " [25  6 55]]\n",
      "[[10  2]\n",
      " [ 1 25]\n",
      " [ 6 55]]\n",
      "[[10]\n",
      " [ 2]\n",
      " [ 1]\n",
      " [25]\n",
      " [ 6]\n",
      " [55]]\n",
      "(6, 1)\n"
     ]
    }
   ],
   "source": [
    "# Reshape M array (original 2 rows 3 columns)\n",
    "print(M)\n",
    "\n",
    "# Reshape to 3 rows and 2 columns\n",
    "print(M.reshape(3,2))\n",
    "\n",
    "# Reshape to 1 row and 0 columns (1D array)\n",
    "print(M.reshape(6,1))\n",
    "print(M.reshape(6,1).shape) # Check the shape\n",
    "\n",
    "# Similar"
   ]
  },
  {
   "cell_type": "markdown",
   "metadata": {},
   "source": [
    "## Numpy boolean operations\n"
   ]
  },
  {
   "cell_type": "code",
   "execution_count": 74,
   "metadata": {},
   "outputs": [
    {
     "name": "stdout",
     "output_type": "stream",
     "text": [
      "[False False  True False]\n",
      "[False  True False False]\n"
     ]
    }
   ],
   "source": [
    "expr1 = np.array([1,2,3,4]) == 3\n",
    "print(expr1)\n",
    "\n",
    "expr2 = np.array([1,2,3,4]) == 2\n",
    "print(expr2)\n"
   ]
  },
  {
   "cell_type": "code",
   "execution_count": 75,
   "metadata": {},
   "outputs": [
    {
     "name": "stdout",
     "output_type": "stream",
     "text": [
      "[False False False False]\n",
      "[False  True  True False]\n"
     ]
    }
   ],
   "source": [
    "# Elements in both vectors need to match to be considered True\n",
    "print(expr1 & expr2) # print(expr1 and expr2)\n",
    "\n",
    "# It is sufficient with a single match in one of the vectors\n",
    "print(expr1 | expr2) # print(expr1 or expr2)\n"
   ]
  },
  {
   "cell_type": "markdown",
   "metadata": {},
   "source": [
    "## Flattening\n",
    "\n",
    "Sometimes we want to serialize our 2D or 3D matrix into a long one-dimensional vector. This operation is called \"flattening\" and Numpy has a specific method to carry this operation that is called *flattening* and array.\n"
   ]
  },
  {
   "cell_type": "code",
   "execution_count": 76,
   "metadata": {},
   "outputs": [
    {
     "data": {
      "text/plain": [
       "array([10,  2,  1, 25,  6, 55])"
      ]
     },
     "execution_count": 76,
     "metadata": {},
     "output_type": "execute_result"
    }
   ],
   "source": [
    "# Flatten two-dimensional array M\n",
    "M.flatten()"
   ]
  },
  {
   "cell_type": "markdown",
   "metadata": {},
   "source": [
    "## Use the Numpy random module to create a random image\n",
    "\n",
    "To show some of the power of working with Numpy arrays we will create a random image. Images in the RGB (red-green-blue) color space are represented by three matrices that encode the color of each pixel. Colors are represented with an integer between 0 and 255. This is called an 8-bit integer, and there are only 2^8 = 256 possible integers. Because each image has three bands (one for red, one for green, and one for blue) there is a total of 17 million (256x256x256 or 256^3) possible colors for each pixel."
   ]
  },
  {
   "cell_type": "code",
   "execution_count": 77,
   "metadata": {},
   "outputs": [
    {
     "name": "stdout",
     "output_type": "stream",
     "text": [
      "Image size: (20, 30, 3)\n"
     ]
    },
    {
     "data": {
      "image/png": "[encoded data removed]",
      "text/plain": [
       "<Figure size 800x800 with 1 Axes>"
      ]
     },
     "metadata": {},
     "output_type": "display_data"
    }
   ],
   "source": [
    "# Define image size (keep it small so that you can see each pixel)\n",
    "rows = 20\n",
    "cols = 30\n",
    "\n",
    "# Set seed for reproducibility.\n",
    "# Everyone will obtain the same random numbers\n",
    "np.random.seed(1) \n",
    "\n",
    "# Create image bands\n",
    "# uint8 means unsigned interger of 8-bits\n",
    "R = np.random.randint(0, 255, [rows,cols], dtype='uint8') \n",
    "G = np.random.randint(0, 255, [rows,cols], dtype='uint8')\n",
    "B = np.random.randint(0, 255, [rows,cols], dtype='uint8')\n",
    "\n",
    "# Stack image bands (axis=2 means along the third dimension, or on top of each other)\n",
    "RGB = np.stack( (R,G,B), axis=2)\n",
    "print('Image size:', RGB.shape) # Shape of the RGB variable\n",
    "\n",
    "# Display image using the matplotlib library (we imported this at the top)\n",
    "plt.figure(figsize=(8,8))\n",
    "plt.imshow(RGB)\n",
    "plt.axis('off') # Mute this line to see what the image looks like without it.\n",
    "plt.show()\n"
   ]
  },
  {
   "cell_type": "markdown",
   "metadata": {},
   "source": [
    "## Numpy handy functions"
   ]
  },
  {
   "cell_type": "code",
   "execution_count": 82,
   "metadata": {},
   "outputs": [
    {
     "name": "stdout",
     "output_type": "stream",
     "text": [
      "range()\n",
      "[ 0 10 20 30 40 50 60 70 80 90]\n",
      "\n",
      "linspace()\n",
      "[ 0.   2.5  5.   7.5 10. ]\n",
      "\n",
      "zeros()\n",
      "[[0. 0. 0.]\n",
      " [0. 0. 0.]\n",
      " [0. 0. 0.]\n",
      " [0. 0. 0.]\n",
      " [0. 0. 0.]]\n",
      "\n",
      "ones()\n",
      "[[1. 1. 1.]\n",
      " [1. 1. 1.]\n",
      " [1. 1. 1.]\n",
      " [1. 1. 1.]]\n",
      "\n",
      "full()\n",
      "[[nan nan nan]\n",
      " [nan nan nan]\n",
      " [nan nan nan]\n",
      " [nan nan nan]]\n",
      "\n",
      "Grid of latitudes\n",
      "[[36. 37. 38. 39. 40.]\n",
      " [36. 37. 38. 39. 40.]\n",
      " [36. 37. 38. 39. 40.]\n",
      " [36. 37. 38. 39. 40.]\n",
      " [36. 37. 38. 39. 40.]]\n",
      "\n",
      "Grid of longitudes\n",
      "[[-102. -102. -102. -102. -102.]\n",
      " [-101. -101. -101. -101. -101.]\n",
      " [-100. -100. -100. -100. -100.]\n",
      " [ -99.  -99.  -99.  -99.  -99.]\n",
      " [ -98.  -98.  -98.  -98.  -98.]]\n"
     ]
    }
   ],
   "source": [
    "# Generate a range of integers\n",
    "# np.arange(start,stop,step)\n",
    "print('range()')\n",
    "print(np.arange(0,100,10))\n",
    "\n",
    "# Generate linear range\n",
    "# numpy.linspace(start, stop, num=50, endpoint=True)\n",
    "print('')\n",
    "print('linspace()')\n",
    "print(np.linspace(0, 10, 5))\n",
    "\n",
    "# Array of zeros\n",
    "print('')\n",
    "print('zeros()')\n",
    "print(np.zeros([5,3]))\n",
    "\n",
    "# Array of ones\n",
    "print('')\n",
    "print('ones()')\n",
    "print(np.ones([4,3]))\n",
    "\n",
    "# Array of NaN values\n",
    "print('')\n",
    "print('full()')\n",
    "print(np.full([4,3], np.nan)) # This also worksprint(np.ones([4,3])*np.nan)\n",
    "\n",
    "# Meshgrid (first create 1D vectors, then create a 2D mesh)\n",
    "N = 5\n",
    "lat = np.linspace(36, 40, N)\n",
    "lon = np.linspace(-102, -98, N)\n",
    "LAT,LON = np.meshgrid(lat,lon)\n",
    "print('')\n",
    "print('Grid of latitudes')\n",
    "print(LAT)\n",
    "print('')\n",
    "print('Grid of longitudes')\n",
    "print(LON)\n"
   ]
  },
  {
   "cell_type": "markdown",
   "metadata": {},
   "source": [
    "## Create a noisy wave\n",
    "\n",
    "With Numpy we can easily implement models, create timeseries, add noise, and perform trigonometric operations. In this example we will create a synthetic timeseries of air temperature using a cosine wave. To make this more realistic we will also add some noise.\n"
   ]
  },
  {
   "cell_type": "code",
   "execution_count": 90,
   "metadata": {},
   "outputs": [
    {
     "data": {
      "image/png": "[encoded data removed]",
      "text/plain": [
       "<Figure size 600x300 with 1 Axes>"
      ]
     },
     "metadata": {},
     "output_type": "display_data"
    }
   ],
   "source": [
    "# Set random seed for reproducibility\n",
    "np.random.seed(1) \n",
    "\n",
    "# Define wave inputs\n",
    "T_avg = 15 # Annual average in Celsius\n",
    "A = 10 # Annual amplitude [Celsius]\n",
    "doy = np.arange(1,366) # Vector of days of the year\n",
    "\n",
    "# Generate x and y axis\n",
    "x = 2 * np.pi * doy/365 # Convert doy into pi-radians \n",
    "y = T_avg - A*np.cos(x) # Sine wave\n",
    "\n",
    "# Add random noise\n",
    "noise = np.random.normal(0, 3, x.size)  # White noise having zero mean\n",
    "y_noisy = y + noise\n",
    "\n",
    "# Visualize wave using Matplotlib\n",
    "plt.figure(figsize=(6,3))\n",
    "plt.title('Noisy temperature timeseries')\n",
    "plt.plot(doy, y_noisy, '-k', label=\"Wave with noise\")\n",
    "plt.plot(doy, y, '-r', linewidth=2, label=\"Wave without noise\")\n",
    "plt.xlabel('Day of the Year', size=12)\n",
    "plt.ylabel('Air Temperature (Celsius)', size=12)\n",
    "plt.legend()\n",
    "plt.show()\n"
   ]
  },
  {
   "cell_type": "markdown",
   "metadata": {},
   "source": [
    "### Descriptive stats\n",
    "\n",
    "To finish our tutorial, let's inpsect Numpy methods to obtain some descriptive statistics for the wave we created earlier."
   ]
  },
  {
   "cell_type": "code",
   "execution_count": 86,
   "metadata": {},
   "outputs": [
    {
     "name": "stdout",
     "output_type": "stream",
     "text": [
      "Mean: 15.0\n",
      "Standard deviation: 7.0710678118654755\n",
      "Variance: 50.0\n",
      "Median: 15.000000000000007\n",
      "Minimum: 5.000092602638098\n",
      "Maximum: 24.999907397361902\n",
      "Index of minimum: 273\n",
      "Index of maximum: 90\n",
      "50th percentile: 15.000000000000007\n",
      "5th and 95th percentiles: [ 5.12930816 24.87069184]\n"
     ]
    }
   ],
   "source": [
    "# Descriptive stats\n",
    "print('Mean:', y.mean()) # Arithmetic average\n",
    "print('Standard deviation:', y.std()) # Standard deviation\n",
    "print('Variance:', y.var()) # Variance\n",
    "print('Median:', np.median(y)) # Median\n",
    "print('Minimum:', y.min()) # Minimum\n",
    "print('Maximum:', y.max()) # Maximum\n",
    "print('Index of minimum:', y.argmin()) # Position of minimum value\n",
    "print('Index of maximum:', y.argmax()) # Position of maximum value\n",
    "print('50th percentile:', np.percentile(y, 50)) # 50th percentile (should equal to the median)\n",
    "print('5th and 95th percentiles:', np.percentile(y, [5,95])) # 5th and 95th percentile\n"
   ]
  },
  {
   "cell_type": "markdown",
   "metadata": {},
   "source": [
    "## Reference\n",
    "\n",
    "Walt, S.V.D., Colbert, S.C. and Varoquaux, G., 2011. The NumPy array: a structure for efficient numerical computation. Computing in science & engineering, 13(2), pp.22-30."
   ]
  }
 ],
 "metadata": {
  "kernelspec": {
   "display_name": "Python 3 (ipykernel)",
   "language": "python",
   "name": "python3"
  },
  "language_info": {
   "codemirror_mode": {
    "name": "ipython",
    "version": 3
   },
   "file_extension": ".py",
   "mimetype": "text/x-python",
   "name": "python",
   "nbconvert_exporter": "python",
   "pygments_lexer": "ipython3",
   "version": "3.10.9"
  }
 },
 "nbformat": 4,
 "nbformat_minor": 4
}
