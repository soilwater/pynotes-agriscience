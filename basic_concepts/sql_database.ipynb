{
 "cells": [
  {
   "cell_type": "raw",
   "id": "cebf2c1f-0152-417a-91ba-8863f651cf68",
   "metadata": {},
   "source": [
    "---\n",
    "title: \"SQLite Database\"\n",
    "author: \"Andres Patrignani\"\n",
    "date: \"1/15/2024\"\n",
    "keywords: [\"database\", \"sql\", \"data\"]\n",
    "---"
   ]
  },
  {
   "cell_type": "markdown",
   "id": "ec05c68e-8369-4002-9ea3-e8f5aee83dc6",
   "metadata": {},
   "source": [
    "SQLite is a lightweight, disk-based database that doesn't require a separate server. Python comes with a built-in `sqlite3` module, which allows you to work with SQLite databases. SQL stands for Structured Query Language, which is a standardized programming language that is used to manage relational databases. To learn more about SQLite daabases, in this tutorial we will:\n",
    "\n",
    "1. create a simple database by adding and removing a few entries. This example illustrates how to start a new database from scratch without prior tabulated data.\n",
    "    \n",
    "2. create a more advanced database using a real-world dataset and the Pandas library. This example illustrates how to convert an existing spreadsheet with data into a database that you can then continue to add, update, modify, or delete data entries.\n",
    "\n",
    "## Additional software\n",
    "\n",
    "To access and inspect the database I recommend using an open source tool like [sqlitebrowser](https://sqlitebrowser.org/). With this tool you can also create, design, and edit sqlite databases, but we will do some of these steps using Python.\n",
    "\n",
    "## Key commands\n",
    "\n",
    "- `CREATE TABLE`: A SQL command used to create a new table in a database.\n",
    "- `INSERT`: A SQL command used to add new rows of data to a table in the database.\n",
    "- `SELECT`: A SQL command used to query data from a table, returning rows that match the specified criteria.\n",
    "- `UPDATE`: A SQL command used to modify existing data in a table.\n",
    "- `DELETE`: A SQL command used to remove rows from a table in the database.\n",
    "\n",
    "## Data types\n",
    "\n",
    "SQLite supports a variety of data types:\n",
    "\n",
    "- **TEXT**: For storing character data. SQLite supports UTF-8, UTF-16BE, and UTF-16LE encodings.\n",
    "\n",
    "- **INTEGER**: For storing integer values. The size can be from 1 byte to 8 bytes, depending on the magnitude of the value.\n",
    "\n",
    "- **REAL**: For storing floating-point values. It is a double-precision (8-byte) floating point number.\n",
    "\n",
    "- **BLOB**: Stands for Binary Large Object. Used to store data exactly as it was input, such as images, files, or binary data.\n",
    "\n",
    "- **NUMERIC**: This type can be used for both integers and floating-point numbers. SQLite decides whether to use integer or real based on the value's nature.\n",
    "\n",
    "- **BOOLEAN**: SQLite does not have a separate boolean storage class. Instead, boolean values are stored as integers 0 (false) and 1 (true).\n",
    "\n",
    "- **DATE and TIME**: SQLite does not have a storage class set aside for storing dates and/or times. Instead, they are stored as TEXT (as ISO8601 strings), REAL (as Julian day numbers), or INTEGER (as Unix Time, the number of seconds since 1970-01-01 00:00:00 UTC).\n",
    "\n",
    "In SQLite the datatype you specify for a column acts more like a hint than a strict enforcement, allowing for flexibility in the types of data that can be inserted into a column. This is a distinctive feature compared to more rigid type systems in other database management systems.\n"
   ]
  },
  {
   "cell_type": "markdown",
   "id": "cd16132f-537a-4292-b6e0-d2d24c6d7b40",
   "metadata": {},
   "source": [
    "## Set up a simple database\n",
    "\n",
    "After importing the `sqlite3` module we create a connection to a new SQLite database. If the file doesn't exist, the SQLite module will create it. This is convenient since we don't have to be constantly checking whether the database exists or worry about overwriting the database."
   ]
  },
  {
   "cell_type": "code",
   "execution_count": 110,
   "id": "e43bf146-b2b0-4c2a-a129-169dd8d3b4c8",
   "metadata": {},
   "outputs": [],
   "source": [
    "# Import modules\n",
    "import sqlite3\n"
   ]
  },
  {
   "cell_type": "code",
   "execution_count": 111,
   "id": "69862e18-80b7-48c1-a69b-c2196e714276",
   "metadata": {},
   "outputs": [],
   "source": [
    "# Connect to the database\n",
    "conn = sqlite3.connect('soils.db')\n"
   ]
  },
  {
   "cell_type": "code",
   "execution_count": 112,
   "id": "98356cd4-978e-411d-ad5e-dcf874414d27",
   "metadata": {},
   "outputs": [],
   "source": [
    "# Create a cursor object using the cursor() method\n",
    "cursor = conn.cursor()\n",
    "\n",
    "# Create table\n",
    "cursor.execute('''CREATE TABLE soils\n",
    "                 (id INTEGER PRIMARY KEY, date TEXT, lat REAL, lon REAL, vwc INTEGER);''')\n",
    "\n",
    "# Save (commit) the changes\n",
    "conn.commit()"
   ]
  },
  {
   "cell_type": "markdown",
   "id": "ee464bb0-744d-4487-9e49-a58ef43ebd80",
   "metadata": {},
   "source": [
    "### Add Data\n",
    "\n",
    "In SQLite databases, the construction `(?,?,?,?)` is used as a placeholder for parameter substitution in SQL statements, especially with the `INSERT`, `UPDATE`, and `SELECT` commands. This construction offers the following advantages:\n",
    "\n",
    "1. **SQL Injection Prevention**: By using placeholders, you prevent SQL injection, a common web security vulnerability where attackers can interfere with the queries that an application makes to its database.\n",
    "\n",
    "2. **Data Handling**: It automatically handles the quoting of strings and escaping of special characters, reducing errors in SQL query syntax due to data.\n",
    "\n",
    "3. **Query Efficiency**: When running similar queries multiple times, parameterized queries can improve performance as the database engine can reuse the query plan and execution path.\n",
    "\n",
    "\n",
    "Each `?` is a placeholder that is replaced with provided data values in a tuple when the `execute` method is called. This ensures that the values are properly formatted and inserted into the database, enhancing security and efficiency."
   ]
  },
  {
   "cell_type": "code",
   "execution_count": 113,
   "id": "467dad68-7252-4b6a-a7a3-04db34e5c3dc",
   "metadata": {},
   "outputs": [],
   "source": [
    "# Insert a row of data\n",
    "obs = ('2024-01-02', 37.54, -98.78, 38)\n",
    "cursor.execute(\"INSERT INTO soils (date, lat, lon, vwc) VALUES (?,?,?,?)\", obs1)\n",
    "\n",
    "# Save (commit) the changes\n",
    "conn.commit()"
   ]
  },
  {
   "cell_type": "markdown",
   "id": "2f2e2910-4711-4da4-bb03-66aa16ba85ad",
   "metadata": {},
   "source": [
    "### Add with multiple entries\n",
    "\n",
    "You can insert multiple entries at once using `executemany()`"
   ]
  },
  {
   "cell_type": "code",
   "execution_count": 114,
   "id": "ec3cc8fe-19f8-424e-bdad-653149c91916",
   "metadata": {},
   "outputs": [
    {
     "name": "stdout",
     "output_type": "stream",
     "text": [
      "(1, '2024-01-02', 37.54, -98.78, 38)\n",
      "(2, '2024-01-02', 36.54, -98.12, 18)\n",
      "(3, '2024-04-14', 38.46, -99.78, 21)\n",
      "(4, '2024-05-23', 38.35, -98.01, 29)\n"
     ]
    }
   ],
   "source": [
    "# A list of multiple crop records\n",
    "new_data = [('2024-01-02', 36.54, -98.12, 18),\n",
    "            ('2024-04-14', 38.46, -99.78, 21),\n",
    "            ('2024-05-23', 38.35, -98.01, 29)]\n",
    "\n",
    "# Inserting multiple records at a time\n",
    "cursor.executemany(\"INSERT INTO soils (date, lat, lon, vwc) VALUES (?,?,?,?)\", new_data)\n",
    "\n",
    "# Save (commit) the changes\n",
    "conn.commit()\n",
    "\n",
    "# Retrieve all data\n",
    "cursor.execute('SELECT * FROM soils;')\n",
    "for row in cursor.fetchall():\n",
    "    print(row)"
   ]
  },
  {
   "cell_type": "markdown",
   "id": "15d61b94-4b6f-4182-ad30-70ae0fc0b65c",
   "metadata": {},
   "source": [
    "### Query data\n",
    "\n",
    "To query specific data from a table in an SQLite database using the `SELECT` statement, you can specify conditions using the `WHERE` clause. Here's a basic syntax:\n",
    "\n",
    "```sql\n",
    "SELECT col1, col2, ... FROM table_name WHERE condition1 AND condition2;\n",
    "```\n",
    "\n",
    "To execute these queries remember to establish a connection, create a cursor object, execute the query using `cursor.execute(query)`, and then use `cursor.fetchall()` to retrieve the results. Close the connection to the database once you're done."
   ]
  },
  {
   "cell_type": "code",
   "execution_count": 115,
   "id": "ef49a90d-21f4-4997-870b-fcb9398023b3",
   "metadata": {},
   "outputs": [
    {
     "name": "stdout",
     "output_type": "stream",
     "text": [
      "(1, '2024-01-02', 37.54, -98.78, 38)\n",
      "(2, '2024-01-02', 36.54, -98.12, 18)\n",
      "(3, '2024-04-14', 38.46, -99.78, 21)\n",
      "(4, '2024-05-23', 38.35, -98.01, 29)\n"
     ]
    }
   ],
   "source": [
    "# Retrieve all data\n",
    "cursor.execute('SELECT * FROM soils;')\n",
    "for row in cursor.fetchall():\n",
    "    print(row)"
   ]
  },
  {
   "cell_type": "code",
   "execution_count": 116,
   "id": "73f76fc5-f418-48cb-a209-325df4b8c8a5",
   "metadata": {},
   "outputs": [
    {
     "name": "stdout",
     "output_type": "stream",
     "text": [
      "('2024-01-02',)\n"
     ]
    }
   ],
   "source": [
    "# Retrieve specific data\n",
    "cursor.execute('SELECT date FROM soils WHERE vwc >= 30;')\n",
    "for row in cursor.fetchall():\n",
    "    print(row)"
   ]
  },
  {
   "cell_type": "code",
   "execution_count": 117,
   "id": "49b7a8ac-5826-4a0e-b878-be9d69720af7",
   "metadata": {},
   "outputs": [],
   "source": [
    "# Retrieve specific data (note that we need spacify the date as a string)\n",
    "cursor.execute('SELECT lat,lon FROM soils WHERE date == \"2024-03-07\";')\n",
    "for row in cursor.fetchall():\n",
    "    print(row)"
   ]
  },
  {
   "cell_type": "code",
   "execution_count": 118,
   "id": "7590bc96-6398-4d06-9ee5-daf0bcbee43e",
   "metadata": {},
   "outputs": [
    {
     "name": "stdout",
     "output_type": "stream",
     "text": [
      "(1, '2024-01-02', 37.54, -98.78, 38)\n"
     ]
    }
   ],
   "source": [
    "cursor.execute('SELECT * FROM soils WHERE vwc >=30 AND vwc < 40;')\n",
    "for row in cursor.fetchall():\n",
    "    print(row)"
   ]
  },
  {
   "cell_type": "markdown",
   "id": "d8cc8b61-770f-4c97-89b3-719c6b6e3ee5",
   "metadata": {},
   "source": [
    "### Modify data\n",
    "\n",
    "You can update records that match certain criteria."
   ]
  },
  {
   "cell_type": "code",
   "execution_count": 119,
   "id": "cc18ca4f-23dd-44c6-aff4-9b19602d36f6",
   "metadata": {},
   "outputs": [],
   "source": [
    "# Update quantity for specific date note that this will update both rows with the same date)\n",
    "cursor.execute(\"UPDATE soils SET vwc = 15 WHERE date = '2024-01-02';\")\n",
    "\n",
    "# Save (commit) the changes\n",
    "conn.commit()"
   ]
  },
  {
   "cell_type": "raw",
   "id": "37f428ae-1107-43ac-8815-4af331a8de71",
   "metadata": {},
   "source": [
    "::: {.callout-caution}\n",
    "## Update SQLite\n",
    "Note that the previous command updates both rows with the same date. To only specify a single row we need to be more specific in our command.\n",
    ":::\n"
   ]
  },
  {
   "cell_type": "code",
   "execution_count": 120,
   "id": "f234d926-8899-4171-b30d-de92ba679b49",
   "metadata": {},
   "outputs": [
    {
     "name": "stdout",
     "output_type": "stream",
     "text": [
      "(1, '2024-01-02', 37.54, -98.78, 15)\n",
      "(2, '2024-01-02', 36.54, -98.12, 15)\n",
      "(3, '2024-04-14', 38.46, -99.78, 21)\n",
      "(4, '2024-05-23', 38.35, -98.01, 29)\n"
     ]
    }
   ],
   "source": [
    "# Retrieve all data\n",
    "cursor.execute('SELECT * FROM soils;')\n",
    "for row in cursor.fetchall():\n",
    "    print(row)"
   ]
  },
  {
   "cell_type": "code",
   "execution_count": 121,
   "id": "5b304792-5a69-4bc1-b7d0-ee8fa04f5852",
   "metadata": {},
   "outputs": [
    {
     "name": "stdout",
     "output_type": "stream",
     "text": [
      "(1, '2024-01-02', 37.54, -98.78, 15)\n",
      "(2, '2024-01-02', 36.54, -98.12, 5)\n",
      "(3, '2024-04-14', 38.46, -99.78, 21)\n",
      "(4, '2024-05-23', 38.35, -98.01, 29)\n"
     ]
    }
   ],
   "source": [
    "# Update quantity for specific date note that this will update both rows with the same date)\n",
    "cursor.execute(\"UPDATE soils SET vwc = 5 WHERE date = '2024-01-02' AND id = 2;\")\n",
    "\n",
    "# Save (commit) the changes\n",
    "conn.commit()\n",
    "\n",
    "# Retrieve all data\n",
    "cursor.execute('SELECT * FROM soils;')\n",
    "for row in cursor.fetchall():\n",
    "    print(row)"
   ]
  },
  {
   "cell_type": "markdown",
   "id": "14b2c9d6-a657-4bf8-9ee4-082e6d88d52f",
   "metadata": {},
   "source": [
    "### Remove data\n",
    "\n",
    "To remove records, use the DELETE statement."
   ]
  },
  {
   "cell_type": "code",
   "execution_count": 122,
   "id": "0a53cf03-a523-4124-be07-42b1d92039dd",
   "metadata": {},
   "outputs": [
    {
     "name": "stdout",
     "output_type": "stream",
     "text": [
      "(1, '2024-01-02', 37.54, -98.78, 15)\n",
      "(2, '2024-01-02', 36.54, -98.12, 5)\n",
      "(4, '2024-05-23', 38.35, -98.01, 29)\n"
     ]
    }
   ],
   "source": [
    "# Delete the Wheat record\n",
    "cursor.execute(\"DELETE FROM soils WHERE id = 3\")\n",
    "\n",
    "# Save (commit) the changes\n",
    "conn.commit()\n",
    "\n",
    "# Retrieve all data\n",
    "cursor.execute('SELECT * FROM soils;')\n",
    "for row in cursor.fetchall():\n",
    "    print(row)"
   ]
  },
  {
   "cell_type": "markdown",
   "id": "5c0695b2-6c9f-4ced-8f6f-4aaf684e2d87",
   "metadata": {},
   "source": [
    "### Add new column/header"
   ]
  },
  {
   "cell_type": "code",
   "execution_count": 123,
   "id": "2a0f823a-484a-46ef-9a0f-ce74b60b9f17",
   "metadata": {},
   "outputs": [
    {
     "name": "stdout",
     "output_type": "stream",
     "text": [
      "(1, '2024-01-02', 37.54, -98.78, 15, None)\n",
      "(2, '2024-01-02', 36.54, -98.12, 5, None)\n",
      "(4, '2024-05-23', 38.35, -98.01, 29, None)\n"
     ]
    }
   ],
   "source": [
    "# Add a new column\n",
    "# Use the DEFAULT construction like: DEFAULT 'Unknown' \n",
    "# to populate new column with custom value\n",
    "cursor.execute(\"ALTER TABLE soils ADD COLUMN soil_type TEXT;\")\n",
    "\n",
    "# Retrieve data one more time before we close the database\n",
    "cursor.execute('SELECT * FROM soils')\n",
    "for row in cursor.fetchall():\n",
    "    print(row)"
   ]
  },
  {
   "cell_type": "markdown",
   "id": "0c70d051-3d0e-48c1-a612-568bb957ffdd",
   "metadata": {},
   "source": [
    "### Closing the connection\n",
    "\n",
    "Once done with the operations, close the connection to the database."
   ]
  },
  {
   "cell_type": "code",
   "execution_count": 124,
   "id": "89114fe6-72fb-4421-89ba-2a360ee36040",
   "metadata": {},
   "outputs": [],
   "source": [
    "conn.close()"
   ]
  },
  {
   "cell_type": "markdown",
   "id": "534ddd02-baae-4c70-9ff0-89acd59fb650",
   "metadata": {},
   "source": [
    "## Use Pandas to set up database\n",
    "\n",
    "For this exercise we will use a table of sorghum yields for Franklin county, KS obtained in 2023. The dataset contains breeder brand, hybrid name, yield, moisture, and total weight. The spreadsheet contains metadata on the first line (which we are going to skip) and in the last few rows. From these last rows, we will use functions to match strings and retrieve the planting and harvest dates of the trial. We will then add this information to the dataframe, and then create an SQLite database.\n",
    "\n",
    "Pandas provides all the methods to read, clean, and export the Dataframe to a SQLite database."
   ]
  },
  {
   "cell_type": "code",
   "execution_count": 183,
   "id": "1d7311c2-023e-4abc-bcfc-b4d849d42c8d",
   "metadata": {},
   "outputs": [],
   "source": [
    "# Import modules\n",
    "import pandas as pd\n",
    "import sqlite3\n"
   ]
  },
  {
   "cell_type": "code",
   "execution_count": 184,
   "id": "1976f4c0-09a6-4af1-80a4-093ac514db3a",
   "metadata": {},
   "outputs": [
    {
     "data": {
      "text/html": [
       "<div>\n",
       "<style scoped>\n",
       "    .dataframe tbody tr th:only-of-type {\n",
       "        vertical-align: middle;\n",
       "    }\n",
       "\n",
       "    .dataframe tbody tr th {\n",
       "        vertical-align: top;\n",
       "    }\n",
       "\n",
       "    .dataframe thead th {\n",
       "        text-align: right;\n",
       "    }\n",
       "</style>\n",
       "<table border=\"1\" class=\"dataframe\">\n",
       "  <thead>\n",
       "    <tr style=\"text-align: right;\">\n",
       "      <th></th>\n",
       "      <th>BRAND</th>\n",
       "      <th>NAME</th>\n",
       "      <th>YIELD</th>\n",
       "      <th>PAVG</th>\n",
       "      <th>MOIST</th>\n",
       "      <th>TW</th>\n",
       "    </tr>\n",
       "  </thead>\n",
       "  <tbody>\n",
       "    <tr>\n",
       "      <th>0</th>\n",
       "      <td>POLANSKY</td>\n",
       "      <td>5719</td>\n",
       "      <td>137.2</td>\n",
       "      <td>107.8</td>\n",
       "      <td>14.7</td>\n",
       "      <td>59.1</td>\n",
       "    </tr>\n",
       "    <tr>\n",
       "      <th>1</th>\n",
       "      <td>DYNA-GRO</td>\n",
       "      <td>M60GB88</td>\n",
       "      <td>135.3</td>\n",
       "      <td>106.3</td>\n",
       "      <td>14.0</td>\n",
       "      <td>57.9</td>\n",
       "    </tr>\n",
       "    <tr>\n",
       "      <th>2</th>\n",
       "      <td>DYNA-GRO</td>\n",
       "      <td>GX22936</td>\n",
       "      <td>134.7</td>\n",
       "      <td>105.8</td>\n",
       "      <td>13.9</td>\n",
       "      <td>58.7</td>\n",
       "    </tr>\n",
       "    <tr>\n",
       "      <th>3</th>\n",
       "      <td>POLANSKY</td>\n",
       "      <td>5522</td>\n",
       "      <td>132.3</td>\n",
       "      <td>103.9</td>\n",
       "      <td>13.9</td>\n",
       "      <td>58.4</td>\n",
       "    </tr>\n",
       "    <tr>\n",
       "      <th>4</th>\n",
       "      <td>DYNA-GRO</td>\n",
       "      <td>GX22932</td>\n",
       "      <td>131.8</td>\n",
       "      <td>103.6</td>\n",
       "      <td>14.5</td>\n",
       "      <td>59.1</td>\n",
       "    </tr>\n",
       "  </tbody>\n",
       "</table>\n",
       "</div>"
      ],
      "text/plain": [
       "      BRAND     NAME  YIELD   PAVG  MOIST    TW\n",
       "0  POLANSKY     5719  137.2  107.8   14.7  59.1\n",
       "1  DYNA-GRO  M60GB88  135.3  106.3   14.0  57.9\n",
       "2  DYNA-GRO  GX22936  134.7  105.8   13.9  58.7\n",
       "3  POLANSKY     5522  132.3  103.9   13.9  58.4\n",
       "4  DYNA-GRO  GX22932  131.8  103.6   14.5  59.1"
      ]
     },
     "execution_count": 184,
     "metadata": {},
     "output_type": "execute_result"
    }
   ],
   "source": [
    "df = pd.read_csv('../datasets/sorghum_franklin_county_2023.csv',\n",
    "                skiprows=[0,1,3])\n",
    "# Inspect first few rows\n",
    "df.head()\n"
   ]
  },
  {
   "cell_type": "code",
   "execution_count": 185,
   "id": "35e294b6-c3a2-48b9-ba78-cab3d4d8ba4e",
   "metadata": {},
   "outputs": [
    {
     "data": {
      "text/html": [
       "<div>\n",
       "<style scoped>\n",
       "    .dataframe tbody tr th:only-of-type {\n",
       "        vertical-align: middle;\n",
       "    }\n",
       "\n",
       "    .dataframe tbody tr th {\n",
       "        vertical-align: top;\n",
       "    }\n",
       "\n",
       "    .dataframe thead th {\n",
       "        text-align: right;\n",
       "    }\n",
       "</style>\n",
       "<table border=\"1\" class=\"dataframe\">\n",
       "  <thead>\n",
       "    <tr style=\"text-align: right;\">\n",
       "      <th></th>\n",
       "      <th>BRAND</th>\n",
       "      <th>NAME</th>\n",
       "      <th>YIELD</th>\n",
       "      <th>PAVG</th>\n",
       "      <th>MOIST</th>\n",
       "      <th>TW</th>\n",
       "    </tr>\n",
       "  </thead>\n",
       "  <tbody>\n",
       "    <tr>\n",
       "      <th>18</th>\n",
       "      <td>DYNA-GRO</td>\n",
       "      <td>M67GB87</td>\n",
       "      <td>120.5</td>\n",
       "      <td>94.7</td>\n",
       "      <td>13.9</td>\n",
       "      <td>56.1</td>\n",
       "    </tr>\n",
       "    <tr>\n",
       "      <th>19</th>\n",
       "      <td>DYNA-GRO</td>\n",
       "      <td>M59GB94</td>\n",
       "      <td>117.7</td>\n",
       "      <td>92.5</td>\n",
       "      <td>13.8</td>\n",
       "      <td>57.7</td>\n",
       "    </tr>\n",
       "    <tr>\n",
       "      <th>20</th>\n",
       "      <td>NaN</td>\n",
       "      <td>AVERAGE</td>\n",
       "      <td>127.2</td>\n",
       "      <td>100.0</td>\n",
       "      <td>14.1</td>\n",
       "      <td>58.3</td>\n",
       "    </tr>\n",
       "    <tr>\n",
       "      <th>21</th>\n",
       "      <td>NaN</td>\n",
       "      <td>CV (%)</td>\n",
       "      <td>8.4</td>\n",
       "      <td>8.4</td>\n",
       "      <td>0.3</td>\n",
       "      <td>0.8</td>\n",
       "    </tr>\n",
       "    <tr>\n",
       "      <th>22</th>\n",
       "      <td>NaN</td>\n",
       "      <td>LSD (0.05)</td>\n",
       "      <td>5.2</td>\n",
       "      <td>4.1</td>\n",
       "      <td>0.3</td>\n",
       "      <td>0.3</td>\n",
       "    </tr>\n",
       "    <tr>\n",
       "      <th>23</th>\n",
       "      <td>*Yields must differ by more than the LSD value...</td>\n",
       "      <td>NaN</td>\n",
       "      <td>NaN</td>\n",
       "      <td>NaN</td>\n",
       "      <td>NaN</td>\n",
       "      <td>NaN</td>\n",
       "    </tr>\n",
       "    <tr>\n",
       "      <th>24</th>\n",
       "      <td>different.</td>\n",
       "      <td>NaN</td>\n",
       "      <td>NaN</td>\n",
       "      <td>NaN</td>\n",
       "      <td>NaN</td>\n",
       "      <td>NaN</td>\n",
       "    </tr>\n",
       "    <tr>\n",
       "      <th>25</th>\n",
       "      <td>Planted 5-24-23</td>\n",
       "      <td>NaN</td>\n",
       "      <td>NaN</td>\n",
       "      <td>NaN</td>\n",
       "      <td>NaN</td>\n",
       "      <td>NaN</td>\n",
       "    </tr>\n",
       "    <tr>\n",
       "      <th>26</th>\n",
       "      <td>Harvested 11-15-23</td>\n",
       "      <td>NaN</td>\n",
       "      <td>NaN</td>\n",
       "      <td>NaN</td>\n",
       "      <td>NaN</td>\n",
       "      <td>NaN</td>\n",
       "    </tr>\n",
       "    <tr>\n",
       "      <th>27</th>\n",
       "      <td>Fertility 117-38-25-20 Strip till</td>\n",
       "      <td>NaN</td>\n",
       "      <td>NaN</td>\n",
       "      <td>NaN</td>\n",
       "      <td>NaN</td>\n",
       "      <td>NaN</td>\n",
       "    </tr>\n",
       "  </tbody>\n",
       "</table>\n",
       "</div>"
      ],
      "text/plain": [
       "                                                BRAND        NAME  YIELD  \\\n",
       "18                                           DYNA-GRO     M67GB87  120.5   \n",
       "19                                           DYNA-GRO     M59GB94  117.7   \n",
       "20                                                NaN     AVERAGE  127.2   \n",
       "21                                                NaN      CV (%)    8.4   \n",
       "22                                                NaN  LSD (0.05)    5.2   \n",
       "23  *Yields must differ by more than the LSD value...         NaN    NaN   \n",
       "24                                        different.          NaN    NaN   \n",
       "25                                    Planted 5-24-23         NaN    NaN   \n",
       "26                                 Harvested 11-15-23         NaN    NaN   \n",
       "27                  Fertility 117-38-25-20 Strip till         NaN    NaN   \n",
       "\n",
       "     PAVG  MOIST    TW  \n",
       "18   94.7   13.9  56.1  \n",
       "19   92.5   13.8  57.7  \n",
       "20  100.0   14.1  58.3  \n",
       "21    8.4    0.3   0.8  \n",
       "22    4.1    0.3   0.3  \n",
       "23    NaN    NaN   NaN  \n",
       "24    NaN    NaN   NaN  \n",
       "25    NaN    NaN   NaN  \n",
       "26    NaN    NaN   NaN  \n",
       "27    NaN    NaN   NaN  "
      ]
     },
     "execution_count": 185,
     "metadata": {},
     "output_type": "execute_result"
    }
   ],
   "source": [
    "# Inspect last few rows\n",
    "df.tail(10)"
   ]
  },
  {
   "cell_type": "code",
   "execution_count": 186,
   "id": "e63d8152-3bda-4019-aa39-e49f7dff0f9b",
   "metadata": {},
   "outputs": [
    {
     "data": {
      "text/html": [
       "<div>\n",
       "<style scoped>\n",
       "    .dataframe tbody tr th:only-of-type {\n",
       "        vertical-align: middle;\n",
       "    }\n",
       "\n",
       "    .dataframe tbody tr th {\n",
       "        vertical-align: top;\n",
       "    }\n",
       "\n",
       "    .dataframe thead th {\n",
       "        text-align: right;\n",
       "    }\n",
       "</style>\n",
       "<table border=\"1\" class=\"dataframe\">\n",
       "  <thead>\n",
       "    <tr style=\"text-align: right;\">\n",
       "      <th></th>\n",
       "      <th>BRAND</th>\n",
       "      <th>NAME</th>\n",
       "      <th>YIELD</th>\n",
       "      <th>PAVG</th>\n",
       "      <th>MOIST</th>\n",
       "      <th>TW</th>\n",
       "    </tr>\n",
       "  </thead>\n",
       "  <tbody>\n",
       "    <tr>\n",
       "      <th>15</th>\n",
       "      <td>DYNA-GRO</td>\n",
       "      <td>M63GB78</td>\n",
       "      <td>122.7</td>\n",
       "      <td>96.4</td>\n",
       "      <td>13.9</td>\n",
       "      <td>58.0</td>\n",
       "    </tr>\n",
       "    <tr>\n",
       "      <th>16</th>\n",
       "      <td>DYNA-GRO</td>\n",
       "      <td>GX22937</td>\n",
       "      <td>121.3</td>\n",
       "      <td>95.4</td>\n",
       "      <td>14.2</td>\n",
       "      <td>58.4</td>\n",
       "    </tr>\n",
       "    <tr>\n",
       "      <th>17</th>\n",
       "      <td>DYNA-GRO</td>\n",
       "      <td>GX22923</td>\n",
       "      <td>121.2</td>\n",
       "      <td>95.2</td>\n",
       "      <td>13.7</td>\n",
       "      <td>55.8</td>\n",
       "    </tr>\n",
       "    <tr>\n",
       "      <th>18</th>\n",
       "      <td>DYNA-GRO</td>\n",
       "      <td>M67GB87</td>\n",
       "      <td>120.5</td>\n",
       "      <td>94.7</td>\n",
       "      <td>13.9</td>\n",
       "      <td>56.1</td>\n",
       "    </tr>\n",
       "    <tr>\n",
       "      <th>19</th>\n",
       "      <td>DYNA-GRO</td>\n",
       "      <td>M59GB94</td>\n",
       "      <td>117.7</td>\n",
       "      <td>92.5</td>\n",
       "      <td>13.8</td>\n",
       "      <td>57.7</td>\n",
       "    </tr>\n",
       "    <tr>\n",
       "      <th>23</th>\n",
       "      <td>*Yields must differ by more than the LSD value...</td>\n",
       "      <td>NaN</td>\n",
       "      <td>NaN</td>\n",
       "      <td>NaN</td>\n",
       "      <td>NaN</td>\n",
       "      <td>NaN</td>\n",
       "    </tr>\n",
       "    <tr>\n",
       "      <th>24</th>\n",
       "      <td>different.</td>\n",
       "      <td>NaN</td>\n",
       "      <td>NaN</td>\n",
       "      <td>NaN</td>\n",
       "      <td>NaN</td>\n",
       "      <td>NaN</td>\n",
       "    </tr>\n",
       "    <tr>\n",
       "      <th>25</th>\n",
       "      <td>Planted 5-24-23</td>\n",
       "      <td>NaN</td>\n",
       "      <td>NaN</td>\n",
       "      <td>NaN</td>\n",
       "      <td>NaN</td>\n",
       "      <td>NaN</td>\n",
       "    </tr>\n",
       "    <tr>\n",
       "      <th>26</th>\n",
       "      <td>Harvested 11-15-23</td>\n",
       "      <td>NaN</td>\n",
       "      <td>NaN</td>\n",
       "      <td>NaN</td>\n",
       "      <td>NaN</td>\n",
       "      <td>NaN</td>\n",
       "    </tr>\n",
       "    <tr>\n",
       "      <th>27</th>\n",
       "      <td>Fertility 117-38-25-20 Strip till</td>\n",
       "      <td>NaN</td>\n",
       "      <td>NaN</td>\n",
       "      <td>NaN</td>\n",
       "      <td>NaN</td>\n",
       "      <td>NaN</td>\n",
       "    </tr>\n",
       "  </tbody>\n",
       "</table>\n",
       "</div>"
      ],
      "text/plain": [
       "                                                BRAND     NAME  YIELD  PAVG  \\\n",
       "15                                           DYNA-GRO  M63GB78  122.7  96.4   \n",
       "16                                           DYNA-GRO  GX22937  121.3  95.4   \n",
       "17                                           DYNA-GRO  GX22923  121.2  95.2   \n",
       "18                                           DYNA-GRO  M67GB87  120.5  94.7   \n",
       "19                                           DYNA-GRO  M59GB94  117.7  92.5   \n",
       "23  *Yields must differ by more than the LSD value...      NaN    NaN   NaN   \n",
       "24                                        different.       NaN    NaN   NaN   \n",
       "25                                    Planted 5-24-23      NaN    NaN   NaN   \n",
       "26                                 Harvested 11-15-23      NaN    NaN   NaN   \n",
       "27                  Fertility 117-38-25-20 Strip till      NaN    NaN   NaN   \n",
       "\n",
       "    MOIST    TW  \n",
       "15   13.9  58.0  \n",
       "16   14.2  58.4  \n",
       "17   13.7  55.8  \n",
       "18   13.9  56.1  \n",
       "19   13.8  57.7  \n",
       "23    NaN   NaN  \n",
       "24    NaN   NaN  \n",
       "25    NaN   NaN  \n",
       "26    NaN   NaN  \n",
       "27    NaN   NaN  "
      ]
     },
     "execution_count": 186,
     "metadata": {},
     "output_type": "execute_result"
    }
   ],
   "source": [
    "df.dropna(subset='BRAND', inplace=True) \n",
    "df.tail(10)"
   ]
  },
  {
   "cell_type": "code",
   "execution_count": 187,
   "id": "31a6f7d5-0660-47f9-8ae3-d569b848b43c",
   "metadata": {},
   "outputs": [
    {
     "name": "stdout",
     "output_type": "stream",
     "text": [
      "5-24-23\n"
     ]
    }
   ],
   "source": [
    "# Extract planting date\n",
    "idx = df['BRAND'].str.contains(\"Planted\")\n",
    "planting_date_str = df.loc[idx, 'BRAND'].values[0]\n",
    "planting_date = planting_date_str.split(' ')[1]\n",
    "print(planting_date)\n"
   ]
  },
  {
   "cell_type": "code",
   "execution_count": 188,
   "id": "533895cc-9a49-4ea4-b863-9f96506133b3",
   "metadata": {},
   "outputs": [
    {
     "name": "stdout",
     "output_type": "stream",
     "text": [
      "11-15-23\n"
     ]
    }
   ],
   "source": [
    "# Extract harvest date\n",
    "idx = df['BRAND'].str.contains(\"Harvested\")\n",
    "harvest_date_str = df.loc[idx, 'BRAND'].values[0]\n",
    "harvest_date = harvest_date_str.split(' ')[1]\n",
    "print(harvest_date)"
   ]
  },
  {
   "cell_type": "code",
   "execution_count": 189,
   "id": "469c0a95-c79c-4b9b-8835-df19da379ece",
   "metadata": {},
   "outputs": [],
   "source": [
    "# Once we are done extracting metadata, let's remove the last few rows\n",
    "df = df.iloc[:-5]\n"
   ]
  },
  {
   "cell_type": "code",
   "execution_count": 195,
   "id": "547e5137-8000-4321-9e4d-3cf2702eae83",
   "metadata": {},
   "outputs": [
    {
     "data": {
      "text/html": [
       "<div>\n",
       "<style scoped>\n",
       "    .dataframe tbody tr th:only-of-type {\n",
       "        vertical-align: middle;\n",
       "    }\n",
       "\n",
       "    .dataframe tbody tr th {\n",
       "        vertical-align: top;\n",
       "    }\n",
       "\n",
       "    .dataframe thead th {\n",
       "        text-align: right;\n",
       "    }\n",
       "</style>\n",
       "<table border=\"1\" class=\"dataframe\">\n",
       "  <thead>\n",
       "    <tr style=\"text-align: right;\">\n",
       "      <th></th>\n",
       "      <th>brand</th>\n",
       "      <th>name</th>\n",
       "      <th>yield</th>\n",
       "      <th>pavg</th>\n",
       "      <th>moist</th>\n",
       "      <th>tw</th>\n",
       "      <th>planting_date</th>\n",
       "      <th>harvest_date</th>\n",
       "    </tr>\n",
       "  </thead>\n",
       "  <tbody>\n",
       "    <tr>\n",
       "      <th>0</th>\n",
       "      <td>POLANSKY</td>\n",
       "      <td>5719</td>\n",
       "      <td>137.2</td>\n",
       "      <td>107.8</td>\n",
       "      <td>14.7</td>\n",
       "      <td>59.1</td>\n",
       "      <td>5-24-23</td>\n",
       "      <td>11-15-23</td>\n",
       "    </tr>\n",
       "    <tr>\n",
       "      <th>1</th>\n",
       "      <td>DYNA-GRO</td>\n",
       "      <td>M60GB88</td>\n",
       "      <td>135.3</td>\n",
       "      <td>106.3</td>\n",
       "      <td>14.0</td>\n",
       "      <td>57.9</td>\n",
       "      <td>5-24-23</td>\n",
       "      <td>11-15-23</td>\n",
       "    </tr>\n",
       "    <tr>\n",
       "      <th>2</th>\n",
       "      <td>DYNA-GRO</td>\n",
       "      <td>GX22936</td>\n",
       "      <td>134.7</td>\n",
       "      <td>105.8</td>\n",
       "      <td>13.9</td>\n",
       "      <td>58.7</td>\n",
       "      <td>5-24-23</td>\n",
       "      <td>11-15-23</td>\n",
       "    </tr>\n",
       "    <tr>\n",
       "      <th>3</th>\n",
       "      <td>POLANSKY</td>\n",
       "      <td>5522</td>\n",
       "      <td>132.3</td>\n",
       "      <td>103.9</td>\n",
       "      <td>13.9</td>\n",
       "      <td>58.4</td>\n",
       "      <td>5-24-23</td>\n",
       "      <td>11-15-23</td>\n",
       "    </tr>\n",
       "    <tr>\n",
       "      <th>4</th>\n",
       "      <td>DYNA-GRO</td>\n",
       "      <td>GX22932</td>\n",
       "      <td>131.8</td>\n",
       "      <td>103.6</td>\n",
       "      <td>14.5</td>\n",
       "      <td>59.1</td>\n",
       "      <td>5-24-23</td>\n",
       "      <td>11-15-23</td>\n",
       "    </tr>\n",
       "  </tbody>\n",
       "</table>\n",
       "</div>"
      ],
      "text/plain": [
       "      brand     name  yield   pavg  moist    tw planting_date harvest_date\n",
       "0  POLANSKY     5719  137.2  107.8   14.7  59.1       5-24-23     11-15-23\n",
       "1  DYNA-GRO  M60GB88  135.3  106.3   14.0  57.9       5-24-23     11-15-23\n",
       "2  DYNA-GRO  GX22936  134.7  105.8   13.9  58.7       5-24-23     11-15-23\n",
       "3  POLANSKY     5522  132.3  103.9   13.9  58.4       5-24-23     11-15-23\n",
       "4  DYNA-GRO  GX22932  131.8  103.6   14.5  59.1       5-24-23     11-15-23"
      ]
     },
     "execution_count": 195,
     "metadata": {},
     "output_type": "execute_result"
    }
   ],
   "source": [
    "# Convert header names to lower case to avoid conflict with SQL syntax\n",
    "df.rename(str.lower, axis='columns', inplace=True)\n",
    "df.head()\n"
   ]
  },
  {
   "cell_type": "code",
   "execution_count": 196,
   "id": "9a8cfc5a-5beb-4dd0-9f54-21796b130844",
   "metadata": {},
   "outputs": [
    {
     "data": {
      "text/html": [
       "<div>\n",
       "<style scoped>\n",
       "    .dataframe tbody tr th:only-of-type {\n",
       "        vertical-align: middle;\n",
       "    }\n",
       "\n",
       "    .dataframe tbody tr th {\n",
       "        vertical-align: top;\n",
       "    }\n",
       "\n",
       "    .dataframe thead th {\n",
       "        text-align: right;\n",
       "    }\n",
       "</style>\n",
       "<table border=\"1\" class=\"dataframe\">\n",
       "  <thead>\n",
       "    <tr style=\"text-align: right;\">\n",
       "      <th></th>\n",
       "      <th>brand</th>\n",
       "      <th>name</th>\n",
       "      <th>yield</th>\n",
       "      <th>pavg</th>\n",
       "      <th>moist</th>\n",
       "      <th>tw</th>\n",
       "      <th>planting_date</th>\n",
       "      <th>harvest_date</th>\n",
       "    </tr>\n",
       "  </thead>\n",
       "  <tbody>\n",
       "    <tr>\n",
       "      <th>0</th>\n",
       "      <td>POLANSKY</td>\n",
       "      <td>5719</td>\n",
       "      <td>137.2</td>\n",
       "      <td>107.8</td>\n",
       "      <td>14.7</td>\n",
       "      <td>59.1</td>\n",
       "      <td>5-24-23</td>\n",
       "      <td>11-15-23</td>\n",
       "    </tr>\n",
       "    <tr>\n",
       "      <th>1</th>\n",
       "      <td>DYNA-GRO</td>\n",
       "      <td>M60GB88</td>\n",
       "      <td>135.3</td>\n",
       "      <td>106.3</td>\n",
       "      <td>14.0</td>\n",
       "      <td>57.9</td>\n",
       "      <td>5-24-23</td>\n",
       "      <td>11-15-23</td>\n",
       "    </tr>\n",
       "    <tr>\n",
       "      <th>2</th>\n",
       "      <td>DYNA-GRO</td>\n",
       "      <td>GX22936</td>\n",
       "      <td>134.7</td>\n",
       "      <td>105.8</td>\n",
       "      <td>13.9</td>\n",
       "      <td>58.7</td>\n",
       "      <td>5-24-23</td>\n",
       "      <td>11-15-23</td>\n",
       "    </tr>\n",
       "    <tr>\n",
       "      <th>3</th>\n",
       "      <td>POLANSKY</td>\n",
       "      <td>5522</td>\n",
       "      <td>132.3</td>\n",
       "      <td>103.9</td>\n",
       "      <td>13.9</td>\n",
       "      <td>58.4</td>\n",
       "      <td>5-24-23</td>\n",
       "      <td>11-15-23</td>\n",
       "    </tr>\n",
       "    <tr>\n",
       "      <th>4</th>\n",
       "      <td>DYNA-GRO</td>\n",
       "      <td>GX22932</td>\n",
       "      <td>131.8</td>\n",
       "      <td>103.6</td>\n",
       "      <td>14.5</td>\n",
       "      <td>59.1</td>\n",
       "      <td>5-24-23</td>\n",
       "      <td>11-15-23</td>\n",
       "    </tr>\n",
       "  </tbody>\n",
       "</table>\n",
       "</div>"
      ],
      "text/plain": [
       "      brand     name  yield   pavg  moist    tw planting_date harvest_date\n",
       "0  POLANSKY     5719  137.2  107.8   14.7  59.1       5-24-23     11-15-23\n",
       "1  DYNA-GRO  M60GB88  135.3  106.3   14.0  57.9       5-24-23     11-15-23\n",
       "2  DYNA-GRO  GX22936  134.7  105.8   13.9  58.7       5-24-23     11-15-23\n",
       "3  POLANSKY     5522  132.3  103.9   13.9  58.4       5-24-23     11-15-23\n",
       "4  DYNA-GRO  GX22932  131.8  103.6   14.5  59.1       5-24-23     11-15-23"
      ]
     },
     "execution_count": 196,
     "metadata": {},
     "output_type": "execute_result"
    }
   ],
   "source": [
    "# Add planting and harvest date to Dataframe to make it more complete\n",
    "df['planting_date'] = planting_date\n",
    "df['harvest_date'] = harvest_date\n",
    "df.head()\n"
   ]
  },
  {
   "cell_type": "code",
   "execution_count": 198,
   "id": "a7be8a2d-2ab5-4ce0-893e-adce3b08b457",
   "metadata": {},
   "outputs": [],
   "source": [
    "# Use Pandas to turn DataFrame into a SQL Database\n",
    "\n",
    "# Connect to SQLite database (if it doesn't exist, it will be created)\n",
    "conn = sqlite3.connect('sorghum_trial.db')\n",
    "\n",
    "# Write the data to a sqlite table\n",
    "df.to_sql('sorghum_trial', conn, index=False, if_exists='replace') # to overwrite use option if_exists='replace'\n",
    "\n",
    "# Close the connection\n",
    "conn.close()\n"
   ]
  },
  {
   "cell_type": "markdown",
   "id": "9c0896b1-15e1-4fcd-a6c4-eac1f813cfc2",
   "metadata": {},
   "source": [
    "### Connect, access all data, and close database"
   ]
  },
  {
   "cell_type": "code",
   "execution_count": 201,
   "id": "2027c241-e431-4612-8d42-49d670e66e27",
   "metadata": {},
   "outputs": [
    {
     "name": "stdout",
     "output_type": "stream",
     "text": [
      "('POLANSKY', '5719', 137.2, 107.8, 14.7, 59.1, '5-24-23', '11-15-23')\n",
      "('DYNA-GRO', 'M60GB88', 135.3, 106.3, 14.0, 57.9, '5-24-23', '11-15-23')\n",
      "('DYNA-GRO', 'GX22936', 134.7, 105.8, 13.9, 58.7, '5-24-23', '11-15-23')\n",
      "('POLANSKY', '5522', 132.3, 103.9, 13.9, 58.4, '5-24-23', '11-15-23')\n",
      "('DYNA-GRO', 'GX22932', 131.8, 103.6, 14.5, 59.1, '5-24-23', '11-15-23')\n",
      "('DYNA-GRO', 'M72GB71', 130.9, 102.9, 14.5, 59.0, '5-24-23', '11-15-23')\n",
      "('MATURITY CHECK', 'MED', 128.7, 101.1, 14.0, 58.2, '5-24-23', '11-15-23')\n",
      "('DYNA-GRO', 'M71GR91', 128.7, 101.1, 14.4, 59.3, '5-24-23', '11-15-23')\n",
      "('PIONEER', '86920', 128.1, 100.7, 13.9, 57.9, '5-24-23', '11-15-23')\n",
      "('MATURITY CHECK', 'EARLY', 127.9, 100.5, 14.2, 58.8, '5-24-23', '11-15-23')\n",
      "('POLANSKY', '5629', 126.5, 99.4, 13.8, 57.2, '5-24-23', '11-15-23')\n",
      "('MATURITY CHECK', 'LATE', 126.2, 99.2, 14.2, 58.3, '5-24-23', '11-15-23')\n",
      "('PIONEER', '84980', 125.5, 98.6, 14.1, 58.8, '5-24-23', '11-15-23')\n",
      "('DYNA-GRO', 'M60GB31', 124.9, 98.2, 14.2, 59.2, '5-24-23', '11-15-23')\n",
      "('DYNA-GRO', 'GX22934', 122.8, 96.5, 14.6, 59.5, '5-24-23', '11-15-23')\n",
      "('DYNA-GRO', 'M63GB78', 122.7, 96.4, 13.9, 58.0, '5-24-23', '11-15-23')\n",
      "('DYNA-GRO', 'GX22937', 121.3, 95.4, 14.2, 58.4, '5-24-23', '11-15-23')\n",
      "('DYNA-GRO', 'GX22923', 121.2, 95.2, 13.7, 55.8, '5-24-23', '11-15-23')\n",
      "('DYNA-GRO', 'M67GB87', 120.5, 94.7, 13.9, 56.1, '5-24-23', '11-15-23')\n",
      "('DYNA-GRO', 'M59GB94', 117.7, 92.5, 13.8, 57.7, '5-24-23', '11-15-23')\n",
      "\n",
      "('POLANSKY', '5719')\n",
      "('DYNA-GRO', 'M60GB88')\n",
      "('DYNA-GRO', 'GX22936')\n",
      "('POLANSKY', '5522')\n",
      "('DYNA-GRO', 'GX22932')\n",
      "('DYNA-GRO', 'M72GB71')\n"
     ]
    }
   ],
   "source": [
    "# Connect to SQLite database (if it doesn't exist, it will be created)\n",
    "conn = sqlite3.connect('sorghum_trial.db')\n",
    "\n",
    "# Create cursor\n",
    "cursor = conn.cursor()\n",
    "\n",
    "# Access all data\n",
    "cursor.execute('SELECT * FROM sorghum_trial')\n",
    "for row in cursor.fetchall():\n",
    "    print(row)\n",
    "    \n",
    "# Access all data\n",
    "print('') # Add some white space\n",
    "cursor.execute('SELECT brand, name FROM sorghum_trial WHERE yield > 130')\n",
    "for row in cursor.fetchall():\n",
    "    print(row)\n",
    "    \n",
    "# Close the connection\n",
    "conn.close()"
   ]
  }
 ],
 "metadata": {
  "kernelspec": {
   "display_name": "Python 3 (ipykernel)",
   "language": "python",
   "name": "python3"
  },
  "language_info": {
   "codemirror_mode": {
    "name": "ipython",
    "version": 3
   },
   "file_extension": ".py",
   "mimetype": "text/x-python",
   "name": "python",
   "nbconvert_exporter": "python",
   "pygments_lexer": "ipython3",
   "version": "3.10.9"
  }
 },
 "nbformat": 4,
 "nbformat_minor": 5
}
