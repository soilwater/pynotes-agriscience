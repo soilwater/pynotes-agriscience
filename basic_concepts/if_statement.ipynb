{
 "cells": [
  {
   "cell_type": "raw",
   "metadata": {},
   "source": [
    "---\n",
    "title: \"If statements\"\n",
    "author: \"Andres Patrignani\"\n",
    "date: \"1/6/2024\"\n",
    "keywords: [\"if statements\", \"control flow\"]\n",
    "---"
   ]
  },
  {
   "cell_type": "markdown",
   "metadata": {},
   "source": [
    "`if` statements control the flow of a program by evaluating whether a certain condition is true or false, and then executing specific actions based on that evaluation. The core syntax of an `if` statement involves specifying a condition and an action to be executed if that condition is true.\n",
    "\n",
    "## Syntax\n",
    "\n",
    "```python\n",
    "if condition:\n",
    "    # Code block executes if condition is true\n",
    "elif another_condition:\n",
    "    # Code block executes if another condition is true\n",
    "else:\n",
    "    # Code block executes if none of the above conditions are true\n",
    "```"
   ]
  },
  {
   "cell_type": "markdown",
   "metadata": {},
   "source": [
    "## Example 1: Soil pH\n",
    "\n",
    "Soil pH is a measure of soil acidity or alkalinity. The pH scale ranges from 0 to 14, with a pH of 7 considered neutral. Acidic soils have pH values below 7, indicating an abundance of hydrogen ions (H+), while alkaline soils have pH values above 7, indicating an excess of hydroxide ions (OH-). Soil pH plays a vital role in nutrient availability to plants, microbial activity, and soil structure."
   ]
  },
  {
   "cell_type": "code",
   "execution_count": 5,
   "metadata": {},
   "outputs": [
    {
     "name": "stdout",
     "output_type": "stream",
     "text": [
      "Neutral\n"
     ]
    }
   ],
   "source": [
    "pH = 7  # Soil pH\n",
    "\n",
    "if pH >= 0 and pH < 7:\n",
    "    soil_class = 'Acidic'\n",
    "elif pH == 7:\n",
    "    soil_class = 'Neutral'\n",
    "elif pH > 7 and pH <= 14:\n",
    "    soil_class = 'Alkaline'\n",
    "else:\n",
    "    soil_class = 'pH value out of range.'\n",
    "\n",
    "print(soil_class)"
   ]
  },
  {
   "cell_type": "markdown",
   "metadata": {},
   "source": [
    "## Example 2: Saline, sodic, and soline-sodic soils\n",
    "\n",
    "For instance, in soil science we can use `if` statements to categorize soils into saline, saline-sodic, or sodic based on electrical conductivity (EC) and the Sodium Adsorption Ratio (SAR). Sometimes soil pH is also a component of this classification, but to keep it simple we will only use EC and SAR for this example. We can write a program that uses `if` statements to classify salt-affected soils following this widely-used table:\n",
    "\n",
    "| Soil Type     |      EC     |   SAR  |\n",
    "|---------------|:------------:|:------:|\n",
    "| Normal        | < 4.0 dS/m  | < 13   |\n",
    "| Saline        | ≥ 4.0 dS/m  | < 13   |\n",
    "| Sodic         | < 4.0 dS/m  | ≥ 13   |\n",
    "| Saline-Sodic  | ≥ 4.0 dS/m  | ≥ 13   |\n",
    "\n",
    "[Here](https://extension.okstate.edu/fact-sheets/interpreting-soil-salinity-analyses.html) is a great fact sheet where you can learn more about saline, sodic, and saline-sodic soils\n"
   ]
  },
  {
   "cell_type": "code",
   "execution_count": 2,
   "metadata": {},
   "outputs": [
    {
     "name": "stdout",
     "output_type": "stream",
     "text": [
      "Soil is Sodic\n"
     ]
    }
   ],
   "source": [
    "ec = 3 # electrical conductivity in dS/m\n",
    "sar = 16 # sodium adsorption ratio (dimensionless)\n",
    "\n",
    "# Determine the category of soil\n",
    "if (ec >= 4.0) and (sar < 13):\n",
    "    classification = \"Saline\"\n",
    "\n",
    "elif (ec < 4.0) and (sar >= 13):\n",
    "    classification = \"Sodic\"\n",
    "\n",
    "elif (ec >= 4.0) and (sar >= 13):\n",
    "    classification = \"Saline-Sodic\"\n",
    "\n",
    "else:\n",
    "    classification = \"Normal\"\n",
    "    \n",
    "print(f'Soil is {classification}')\n",
    "      "
   ]
  },
  {
   "cell_type": "markdown",
   "metadata": {},
   "source": [
    "## Example 3: Climate classification based on aridity index\n",
    "\n",
    "To understand global climate variations, one useful metric is the Aridity Index (AI), which compares annual precipitation to atmospheric demand. Essentially, a lower AI indicates a drier region:\n",
    "\n",
    "$$ AI = \\frac{P}{PET}  $$\n",
    "\n",
    "where $P$ is the annual precipitation in mm and $PET$ is the annual cummulative potential evapotranspiration in mm.\n",
    "\n",
    "Over time, the definition of AI has evolved, leading to various classifications in the literature. Below is a simplified summary of these classifications:\n",
    "\n",
    "| Climate class |       Value      |\n",
    "|---------------|------------------|\n",
    "| Hyper-arid    | 0.03 < AI        |\n",
    "| Arid          | 0.03 < AI ≤ 0.20 |\n",
    "| Semi-arid     | 0.20 < AI ≤ 0.50 |\n",
    "| Dry sub-humid | 0.50 < AI ≤ 0.65 |\n",
    "| Sub-humid     | 0.65 < AI ≤ 0.75 |\n",
    "| Humid         |        AI > 0.75 |\n",
    "\n"
   ]
  },
  {
   "cell_type": "code",
   "execution_count": 11,
   "metadata": {},
   "outputs": [
    {
     "name": "stdout",
     "output_type": "stream",
     "text": [
      "Climate classification for this location is: Sub-humid (AI=0.67)\n"
     ]
    }
   ],
   "source": [
    "# Define annual precipitation and atmospheric demand for a location\n",
    "P = 1200   # mm per year\n",
    "PET = 1800 # mm per year\n",
    "\n",
    "# Compute Aridity Inde\n",
    "AI = P/PET \n",
    "\n",
    "# Find climate class\n",
    "if AI <= 0.03:\n",
    "    climate_class = 'Arid'\n",
    "    \n",
    "elif AI > 0.03 and AI <= 0.2:\n",
    "    climate_class = 'Arid'\n",
    "\n",
    "elif AI > 0.2 and AI <= 0.5:\n",
    "    climate_class = 'Semi-arid'\n",
    "\n",
    "elif AI > 0.5 and AI <= 0.65:\n",
    "    climate_class = 'Dry sub-humid'\n",
    "    \n",
    "elif AI > 0.65 and AI <= 0.75:\n",
    "    climate_class = 'Sub-humid'\n",
    "    \n",
    "else:\n",
    "    climate_class = 'Humid'\n",
    "    \n",
    "print('Climate classification for this location is:',climate_class,'(AI='+str(round(AI,2))+')')\n"
   ]
  },
  {
   "cell_type": "markdown",
   "metadata": {},
   "source": [
    "## Comparative anatomy of `If` statements\n",
    "\n",
    "#### Matlab\n",
    "```matlab\n",
    "pH = 7; % Soil pH\n",
    "\n",
    "if pH >= 0 && pH < 7\n",
    "    soil_class = 'Acidic';\n",
    "elseif pH == 7\n",
    "    soil_class = 'Neutral';\n",
    "elseif pH > 7 && pH <= 14\n",
    "    soil_class = 'Alkaline';\n",
    "else\n",
    "    soil_class = 'pH value out of range.';\n",
    "end\n",
    "\n",
    "disp(soil_class)\n",
    "\n",
    "```\n",
    "**Output**: `Neutral`\n",
    "\n",
    "\n",
    "#### Julia\n",
    "```julia\n",
    "pH = 7  # Soil pH\n",
    "\n",
    "if 0 <= pH < 7\n",
    "    soil_class = \"Acidic\"\n",
    "elseif pH == 7\n",
    "    soil_class = \"Neutral\"\n",
    "elseif 7 < pH <= 14\n",
    "    soil_class = \"Alkaline\"\n",
    "else\n",
    "    soil_class = \"pH value out of range.\"\n",
    "end\n",
    "\n",
    "println(soil_class)\n",
    "\n",
    "```\n",
    "**Output**: `Neutral`\n",
    "\n",
    "\n",
    "#### R\n",
    "```R\n",
    "pH <- 7  # Soil pH\n",
    "\n",
    "if (pH >= 0 & pH < 7) {\n",
    "    soil_class <- \"Acidic\"\n",
    "} else if (pH == 7) {\n",
    "    soil_class <- \"Neutral\"\n",
    "} else if (pH > 7 & pH <= 14) {\n",
    "    soil_class <- \"Alkaline\"\n",
    "} else {\n",
    "    soil_class <- \"pH value out of range.\"\n",
    "}\n",
    "\n",
    "print(soil_class)\n",
    "\n",
    "```\n",
    "**Output**: `[1] \"Neutral\"`\n",
    "\n",
    "\n",
    "#### JavaScript\n",
    "```javascript\n",
    "let pH = 7; // Soil pH\n",
    "\n",
    "let soil_class;\n",
    "if (pH >= 0 && pH < 7) {\n",
    "    soil_class = 'Acidic';\n",
    "} else if (pH === 7) {\n",
    "    soil_class = 'Neutral';\n",
    "} else if (pH > 7 && pH <= 14) {\n",
    "    soil_class = 'Alkaline';\n",
    "} else {\n",
    "    soil_class = 'pH value out of range.';\n",
    "}\n",
    "\n",
    "console.log(soil_class);\n",
    "\n",
    "```\n",
    "**Output**: `Neutral`\n",
    "\n",
    "\n",
    "#### Commonalities among programming languages:\n",
    "\n",
    "- All languages use a conditional `if` keyword to start the statement.\n",
    "- They employ logical conditions (e.g., `<`, `==`, `<=`) to evaluate true or false.\n",
    "- The use of `else if` or its equivalent for additional conditions.\n",
    "- The presence of `else` to handle cases that don't meet any `if` or `else if` conditions.\n",
    "- Block of code under each condition is indented or enclosed (e.g., `{}` in JavaScript, `end` in Matlab and Julia).\n"
   ]
  },
  {
   "cell_type": "markdown",
   "metadata": {},
   "source": [
    "## References\n",
    "\n",
    "Havlin, J. L., Tisdale, S. L., Nelson, W. L., & Beaton, J. D. (2016). Soil fertility and fertilizers. Pearson Education India.\n",
    "\n",
    "Spinoni, J., Vogt, J., Naumann, G., Carrao, H. and Barbosa, P., 2015. Towards identifying areas at climatological risk of desertification using the Köppen–Geiger classification and FAO aridity index. International Journal of Climatology, 35(9), pp.2210-2222.\n",
    "\n",
    "Zhang, H. 2017. Interpreting Soil Salinity Analyses. L-297. Oklahoma Cooperative Extension\n",
    "Service. [Link](https://extension.okstate.edu/fact-sheets/print-publications/l/interpreting-soil-salinity-analyses-l-297.pdf)\n",
    "\n",
    "Zomer, R. J., Xu, J., & Trabucco, A. (2022). Version 3 of the global aridity index and potential evapotranspiration database. Scientific Data, 9(1), 409."
   ]
  }
 ],
 "metadata": {
  "kernelspec": {
   "display_name": "Python 3 (ipykernel)",
   "language": "python",
   "name": "python3"
  },
  "language_info": {
   "codemirror_mode": {
    "name": "ipython",
    "version": 3
   },
   "file_extension": ".py",
   "mimetype": "text/x-python",
   "name": "python",
   "nbconvert_exporter": "python",
   "pygments_lexer": "ipython3",
   "version": "3.10.9"
  }
 },
 "nbformat": 4,
 "nbformat_minor": 4
}
