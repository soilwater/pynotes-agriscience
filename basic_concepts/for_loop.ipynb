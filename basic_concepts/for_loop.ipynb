{
 "cells": [
  {
   "cell_type": "raw",
   "metadata": {},
   "source": [
    "---\n",
    "title: \"For loop\"\n",
    "author: \"Andres Patrignani\"\n",
    "date: \"1/6/2024\"\n",
    "keywords: [\"for loops\", \"iteration\", \"iterable\"]\n",
    "---"
   ]
  },
  {
   "cell_type": "markdown",
   "metadata": {},
   "source": [
    "`For` loops are essential in programming for executing a block of code multiple times, automating repetitive tasks efficiently. They are particularly useful in data science for iterating through various data structures like lists and dictionaries. Unlike conventional counting that starts from 1, Python's `for loops` begin at index 0, iterating over sequences starting from the first element. \n",
    "\n",
    "## Syntax\n",
    "\n",
    "```python\n",
    "for item in iterable:\n",
    "    # Code block to execute for each item\n",
    "```\n",
    "\n",
    "## Example 1: Basic For loop\n",
    "\n",
    "Suppose we have a list of soil nitrogen levels from different test sites and we want to print each value. Here's how you can do it:\n"
   ]
  },
  {
   "cell_type": "code",
   "execution_count": 3,
   "metadata": {},
   "outputs": [
    {
     "name": "stdout",
     "output_type": "stream",
     "text": [
      "Soil Nitrogen Level: 15 mg/kg\n",
      "Soil Nitrogen Level: 20 mg/kg\n",
      "Soil Nitrogen Level: 10 mg/kg\n",
      "Soil Nitrogen Level: 25 mg/kg\n",
      "Soil Nitrogen Level: 18 mg/kg\n"
     ]
    }
   ],
   "source": [
    "# Example of a for loop\n",
    "\n",
    "# List of soil nitrogen levels in mg/kg\n",
    "nitrogen_levels = [15, 20, 10, 25, 18]\n",
    "\n",
    "# Iterating through the list\n",
    "for level in nitrogen_levels:\n",
    "    print(f\"Soil Nitrogen Level: {level} mg/kg\")"
   ]
  },
  {
   "cell_type": "markdown",
   "metadata": {},
   "source": [
    "## Example 2: For loop using the `enumerate` function\n",
    "The `enumerate` function adds a counter to the loop, providing the index position along with the value. This is helpful when you need to access the position of the elements as you iterate.\n",
    "\n",
    "Let's modify the previous example to include the sample number using enumerate:"
   ]
  },
  {
   "cell_type": "code",
   "execution_count": 8,
   "metadata": {},
   "outputs": [
    {
     "name": "stdout",
     "output_type": "stream",
     "text": [
      "Sample 1: Soil Nitrogen Level = 15 mg/kg\n",
      "Sample 2: Soil Nitrogen Level = 20 mg/kg\n",
      "Sample 3: Soil Nitrogen Level = 10 mg/kg\n",
      "Sample 4: Soil Nitrogen Level = 25 mg/kg\n",
      "Sample 5: Soil Nitrogen Level = 18 mg/kg\n"
     ]
    }
   ],
   "source": [
    "# Iterating through the list with enumerate\n",
    "for index, level in enumerate(nitrogen_levels):\n",
    "    print(f\"Sample {index + 1}: Soil Nitrogen Level = {level} mg/kg\")\n"
   ]
  },
  {
   "cell_type": "markdown",
   "metadata": {},
   "source": [
    "In this example, `index` represents the position of each element in the list (starting from 0), and `level` is the nitrogen level. We use `index + 1` in the print statement to start the sample numbering from 1 instead of 0."
   ]
  },
  {
   "cell_type": "markdown",
   "metadata": {},
   "source": [
    "## Example 3: Combine `for` loop with `if` statement\n",
    "\n",
    "Combining a `for` loop with `if` statements unleashes a powerful and precise control over data processing and decision-making within iterative sequences. The `for` loop provides a structured way to iterate over a range of elements in a collection, such as lists, tuples, or strings. When an `if` statement is nested within this loop, it introduces conditional logic, allowing the program to execute specific blocks of code only when certain criteria are met. This combination is incredibly versatile: it can be used for filtering data, conditional aggregation of data, and applying different operations to elements based on specific conditions.\n",
    "\n",
    "### Example 3a\n",
    "In this short example we will combine a `for` loop with `if` statements to generate the complementary DNA strand by iterating over each nucleotide. The code will also filter if there is an incorrect base and in which position that incorrect base is located.\n"
   ]
  },
  {
   "cell_type": "code",
   "execution_count": 1,
   "metadata": {},
   "outputs": [
    {
     "name": "stdout",
     "output_type": "stream",
     "text": [
      "TGGAATAGCCG\n"
     ]
    }
   ],
   "source": [
    "# Example of DNA strand\n",
    "strand = 'ACCTTATCGGC'\n",
    "\n",
    "# Create an empty complementary strand\n",
    "strand_c = ''\n",
    "\n",
    "# Iterate over each base in the DNA strand (a string)\n",
    "for k,base in enumerate(strand):\n",
    "    \n",
    "    if base == 'A':\n",
    "        strand_c += 'T'\n",
    "        \n",
    "    elif base == 'T':\n",
    "        strand_c += 'A'\n",
    "        \n",
    "    elif base == 'C':\n",
    "        strand_c += 'G'\n",
    "        \n",
    "    elif base == 'G':\n",
    "        strand_c += 'C'\n",
    "        \n",
    "    else:\n",
    "        print('Incorrect base', base, 'in position', k+1)\n",
    "    \n",
    "print(strand_c)"
   ]
  },
  {
   "cell_type": "markdown",
   "metadata": {},
   "source": [
    "Try inserting or changing one of the bases in the sequence for another character not representing a DNA nucleotide.\n",
    "\n",
    "### Example 3b\n",
    "\n",
    "In this example we will compute the total number of growing degree days for corn over the period of one week based on daily average air temperatures.\n"
   ]
  },
  {
   "cell_type": "code",
   "execution_count": 15,
   "metadata": {},
   "outputs": [
    {
     "name": "stdout",
     "output_type": "stream",
     "text": [
      "Total Growing Degree Days for the Week: 47 Celsius-Days\n"
     ]
    }
   ],
   "source": [
    "# Define daily temperatures for a week \n",
    "T_daily = [6, 12, 18, 8, 22, 19, 16] # degrees Celsius\n",
    "\n",
    "# Define base temperature for corn\n",
    "T_base = 8 # degrees Celsius\n",
    "\n",
    "# Initialize growing degree days accumulator\n",
    "gdd = 0\n",
    "\n",
    "# Loop through each day of the week\n",
    "for T in T_daily:\n",
    "\n",
    "    if T > T_base:\n",
    "        gdd_daily = T - T_base\n",
    "    else:\n",
    "        gdd_daily = 0\n",
    "\n",
    "    # Accumulate daily growing degree days\n",
    "    gdd += gdd_daily\n",
    "\n",
    "# Output total growing degree days for the week\n",
    "print(f\"Total Growing Degree Days for the Week: {gdd} Celsius-Days\")\n"
   ]
  },
  {
   "cell_type": "markdown",
   "metadata": {},
   "source": [
    "## Example 4: For loop using a dictionary"
   ]
  },
  {
   "cell_type": "code",
   "execution_count": 1,
   "metadata": {},
   "outputs": [
    {
     "name": "stdout",
     "output_type": "stream",
     "text": [
      "Record Weather in Topeka:\n",
      "  High Temperature: 40°C\n",
      "  Date of Occurrence: July 20, 2003\n",
      "Record Weather in Wichita:\n",
      "  High Temperature: 42°C\n",
      "  Date of Occurrence: August 8, 2010\n",
      "Record Weather in Lawrence:\n",
      "  High Temperature: 39°C\n",
      "  Date of Occurrence: June 15, 2006\n",
      "Record Weather in Manhattan:\n",
      "  High Temperature: 41°C\n",
      "  Date of Occurrence: July 18, 2003\n"
     ]
    }
   ],
   "source": [
    "# Record air temperatures for a few cities in Kansas\n",
    "kansas_weather = {\n",
    "    \"Topeka\": {\"Record High Temperature\": 40, \"Date\": \"July 20, 2003\"},\n",
    "    \"Wichita\": {\"Record High Temperature\": 42, \"Date\": \"August 8, 2010\"},\n",
    "    \"Lawrence\": {\"Record High Temperature\": 39, \"Date\": \"June 15, 2006\"},\n",
    "    \"Manhattan\": {\"Record High Temperature\": 41, \"Date\": \"July 18, 2003\"}\n",
    "}\n",
    "\n",
    "# Iterating through the dictionary\n",
    "for city, weather_details in kansas_weather.items():\n",
    "    print(f\"Record Weather in {city}:\")\n",
    "    print(f\"  High Temperature: {weather_details['Record High Temperature']}°C\")\n",
    "    print(f\"  Date of Occurrence: {weather_details['Date']}\")\n",
    "    "
   ]
  },
  {
   "cell_type": "markdown",
   "metadata": {},
   "source": [
    "The `.items()` method of a dictionary returns a view object as a list of tuples representing the key-value pairs of the dictionary. So, we can assign the `key` to one variable and the `value` to another variable when defining the `for` loop. \n",
    "\n",
    "Think of a view object as a window into the original data structure. It doesn't create a new copy of the data. View objects are useful because they allow you to work with the data in a flexible and memory-efficient way, and they are especially handy for working with large datasets.\n",
    "\n",
    "View objects do not support indexing directly like lists or tuples. If you need to access specific elements by index frequently, you should consider converting the view object to a list or tuple first.\n"
   ]
  },
  {
   "cell_type": "code",
   "execution_count": 11,
   "metadata": {},
   "outputs": [
    {
     "name": "stdout",
     "output_type": "stream",
     "text": [
      "dict_items([('Topeka', {'Record High Temperature': 40, 'Date': 'July 20, 2003'}), ('Wichita', {'Record High Temperature': 42, 'Date': 'August 8, 2010'}), ('Lawrence', {'Record High Temperature': 39, 'Date': 'June 15, 2006'}), ('Manhattan', {'Record High Temperature': 41, 'Date': 'July 18, 2003'})])\n"
     ]
    }
   ],
   "source": [
    "# Show the content returned by .items()\n",
    "print(kansas_weather.items())\n"
   ]
  },
  {
   "cell_type": "markdown",
   "metadata": {},
   "source": [
    "First item: `('Topeka', {'Record High Temperature': 40, 'Date': 'July 20, 2003'})`\n",
    "\n",
    "key: `'Topeka'`\n",
    "\n",
    "value: `{'Record High Temperature': 40, 'Date': 'July 20, 2003'}`"
   ]
  },
  {
   "cell_type": "markdown",
   "metadata": {},
   "source": [
    "## Example 5: Nested for loops\n",
    "\n",
    "Imagine we are analyzing soil samples from different fields. Each field has multiple samples, and each sample has various measurements. We'll use nested for loops to iterate through the fields and then through each measurement in the samples."
   ]
  },
  {
   "cell_type": "code",
   "execution_count": 7,
   "metadata": {},
   "outputs": [
    {
     "name": "stdout",
     "output_type": "stream",
     "text": [
      "Data for Field 1:\n",
      "  Sample - pH: 6.5, Moisture: 20%, Nitrogen: 3%\n",
      "  Sample - pH: 6.8, Moisture: 22%, Nitrogen: 3.2%\n",
      "Data for Field 2:\n",
      "  Sample - pH: 7.0, Moisture: 18%, Nitrogen: 2.8%\n",
      "  Sample - pH: 7.1, Moisture: 19%, Nitrogen: 2.9%\n"
     ]
    }
   ],
   "source": [
    "# Soil data from multiple fields\n",
    "soil_data = {\n",
    "    \"Field 1\": [\n",
    "        {\"pH\": 6.5, \"Moisture\": 20, \"Nitrogen\": 3},\n",
    "        {\"pH\": 6.8, \"Moisture\": 22, \"Nitrogen\": 3.2}\n",
    "    ],\n",
    "    \"Field 2\": [\n",
    "        {\"pH\": 7.0, \"Moisture\": 18, \"Nitrogen\": 2.8},\n",
    "        {\"pH\": 7.1, \"Moisture\": 19, \"Nitrogen\": 2.9}\n",
    "    ]\n",
    "}\n",
    "\n",
    "# Iterating through each field\n",
    "for field, samples in soil_data.items():\n",
    "    print(f\"Data for {field}:\")\n",
    "    \n",
    "    # Nested loop to iterate through each sample in the field\n",
    "    for sample in samples:\n",
    "        print(f\"  Sample - pH: {sample['pH']}, Moisture: {sample['Moisture']}%, Nitrogen: {sample['Nitrogen']}%\")\n"
   ]
  },
  {
   "cell_type": "markdown",
   "metadata": {},
   "source": [
    "In this example, `soil_data` is a dictionary where each key is a field, and the value is a list of soil samples (each sample is a dictionary of measurements). The first for loop iterates over the fields, and the nested loop iterates over the samples within each field, printing out the `pH`, `Moisture`, and `Nitrogen` content for each sample."
   ]
  },
  {
   "cell_type": "markdown",
   "metadata": {},
   "source": [
    "## Example 6: For loop using `break` and `continue`\n",
    "\n",
    "Imagine we are evaluating crop yields from different fields. We want to stop processing if we encounter a field with exceptionally low yield (signifying a possible data error or a major issue with the field) and skip over fields with average yields to focus on fields with exceptionally high or low yields."
   ]
  },
  {
   "cell_type": "code",
   "execution_count": 10,
   "metadata": {},
   "outputs": [
    {
     "name": "stdout",
     "output_type": "stream",
     "text": [
      "Field 2 is a potential outlier: 3.2 tons/ha\n"
     ]
    }
   ],
   "source": [
    "# Crop yield data (in tons per hectare) for different fields\n",
    "crop_yields = {\"Field 1\": 2.5, \"Field 2\": 3.2, \"Field 3\": 1.0, \"Field 4\": 3.8, \"Field 5\": 0.8}\n",
    "\n",
    "# Thresholds for yield consideration\n",
    "low_yield_threshold = 1.5\n",
    "high_yield_threshold = 3.0\n",
    "\n",
    "for field, yield_data in crop_yields.items():\n",
    "    if (yield_data < low_yield_threshold) or (yield_data > high_yield_threshold):\n",
    "        print(f\"{field} is a potential outlier: {yield_data} tons/ha\")\n",
    "        break  # Stop processing further as this could indicate a major issue\n",
    "    else:\n",
    "        continue\n",
    "\n"
   ]
  },
  {
   "cell_type": "markdown",
   "metadata": {},
   "source": [
    "We use `break` to stop the iteration when we encounter a yield below the `low_yield_threshold` or above `high_yield_threshold`, which could indicate an outlier that requires immediate attention.\n",
    "\n",
    "We use `continue` to skip to the next iteration without executing any additional code in hte loop. "
   ]
  },
  {
   "cell_type": "markdown",
   "metadata": {},
   "source": [
    "## Compative anatomy of `for` loops\n",
    "\n",
    "#### Python\n",
    "```python\n",
    "nitrogen_levels = [15, 20, 10, 25, 18]\n",
    "for level in nitrogen_levels:\n",
    "    print(f\"Soil Nitrogen Level: {level} mg/kg\")\n",
    "```\n",
    "\n",
    "#### Matlab\n",
    "```matlab\n",
    "nitrogen_levels = [15, 20, 10, 25, 18];\n",
    "for level = nitrogen_levels\n",
    "    fprintf('Soil Nitrogen Level: %d mg/kg\\n', level);\n",
    "end\n",
    "```\n",
    "\n",
    "#### Julia\n",
    "```julia\n",
    "nitrogen_levels = [15, 20, 10, 25, 18]\n",
    "for level in nitrogen_levels\n",
    "    println(\"Soil Nitrogen Level: $level mg/kg\")\n",
    "end\n",
    "```\n",
    "\n",
    "#### R\n",
    "```R\n",
    "nitrogen_levels <- c(15, 20, 10, 25, 18)\n",
    "for (level in nitrogen_levels) {\n",
    "  cat(\"Soil Nitrogen Level:\", level, \"mg/kg\\n\")\n",
    "}\n",
    "```\n",
    "\n",
    "#### JavaScript\n",
    "```javascript\n",
    "const nitrogen_levels = [15, 20, 10, 25, 18];\n",
    "for (let level of nitrogen_levels) {\n",
    "    console.log(`Soil Nitrogen Level: ${level} mg/kg`);\n",
    "}\n",
    "```\n",
    "\n",
    "#### Commonalities among programming languages:\n",
    "- All languages use a `for` keyword to start the loop.\n",
    "- They iterate over a collection of items, like an array or list.\n",
    "- Each language uses a variable to represent the current item in each iteration.\n",
    "- The body of the loop (code to be executed) is enclosed within a block defined by indentation or brackets.\n",
    "\n"
   ]
  }
 ],
 "metadata": {
  "kernelspec": {
   "display_name": "Python 3 (ipykernel)",
   "language": "python",
   "name": "python3"
  },
  "language_info": {
   "codemirror_mode": {
    "name": "ipython",
    "version": 3
   },
   "file_extension": ".py",
   "mimetype": "text/x-python",
   "name": "python",
   "nbconvert_exporter": "python",
   "pygments_lexer": "ipython3",
   "version": "3.10.9"
  }
 },
 "nbformat": 4,
 "nbformat_minor": 4
}
