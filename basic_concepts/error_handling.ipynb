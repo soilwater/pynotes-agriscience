{
 "cells": [
  {
   "cell_type": "raw",
   "metadata": {},
   "source": [
    "---\n",
    "title: \"Error handling\"\n",
    "author: \"Andres Patrignani\"\n",
    "date: \"1/7/2024\"\n",
    "keywords: [\"errors\", \"exception\", \"try\", \"except\"]\n",
    "---"
   ]
  },
  {
   "cell_type": "markdown",
   "metadata": {},
   "source": [
    "Error handling is a technique for managing and responding to exceptions, which are errors detected during execution of code. Effective error handling ensures that your program can deal with unexpected situations without crashing. This is particularly important in data-driven fields, where the input data might be unpredictable or in an unexpected format.\n",
    "\n",
    "## Syntax\n",
    "\n",
    "The primary constructs for error handling are `try`, `except`, `else`, and `finally`:\n",
    "\n",
    "`try`: This block lets you test a block of code for errors.\n",
    "\n",
    "`except`: This block handles the error or specifies a response to specific error types.\n",
    "\n",
    "`else`: (Optional) This block runs if no errors are raised in the try block.\n",
    "\n",
    "`finally`: (Optional) This block executes regardless of the result of the try-except blocks.\n",
    "\n",
    "```python\n",
    "try:\n",
    "    # Code block where exceptions might occur\n",
    "except SomeException:\n",
    "    # Code to handle the exception\n",
    "else:\n",
    "    # Code to execute if no exceptions occur (optional)\n",
    "finally:\n",
    "    # Code to execute regardless of exceptions (optional)\n",
    "```\n",
    "\n",
    "In addition to catching exceptions, Python allows programmers to raise their own exceptions using the `raise` statement. This can be useful for signaling specific error types in a way that is clear and tailored to your program's needs.\n",
    "\n",
    "Python also has the `isinstance()` function that enables easy checking of strict data types. This is a Pythonic and handy method to validate input data types in functions.\n"
   ]
  },
  {
   "cell_type": "markdown",
   "metadata": {},
   "source": [
    "## Example: Classification of soil acidity-alkalinity\n",
    "\n",
    "To illustrate these error handling concepts, let's write a simple function to determine whether a soil is acidic or alkaline based on its soil pH. This fucntion will not only require that we pass a numeric input to the function, but also that the range of soil pH is within 0 and 14.\n"
   ]
  },
  {
   "cell_type": "code",
   "execution_count": 6,
   "metadata": {},
   "outputs": [
    {
     "name": "stdout",
     "output_type": "stream",
     "text": [
      "The soil is acidic.\n",
      "The soil is alkaline.\n",
      "Invalid input: could not convert string to float: 'seven'\n",
      "Invalid input: pH value must be between 0 and 14.\n"
     ]
    },
    {
     "ename": "TypeError",
     "evalue": "Input type <class 'list'> is not valid. Must be int, float, or str.",
     "output_type": "error",
     "traceback": [
      "\u001b[0;31m---------------------------------------------------------------------------\u001b[0m",
      "\u001b[0;31mTypeError\u001b[0m                                 Traceback (most recent call last)",
      "Cell \u001b[0;32mIn[6], line 41\u001b[0m\n\u001b[1;32m     39\u001b[0m \u001b[38;5;28mprint\u001b[39m(test_soil_pH(\u001b[38;5;124m\"\u001b[39m\u001b[38;5;124mseven\u001b[39m\u001b[38;5;124m\"\u001b[39m))  \u001b[38;5;66;03m# Invalid input\u001b[39;00m\n\u001b[1;32m     40\u001b[0m \u001b[38;5;28mprint\u001b[39m(test_soil_pH(\u001b[38;5;241m15\u001b[39m))     \u001b[38;5;66;03m# Valid input, out of range\u001b[39;00m\n\u001b[0;32m---> 41\u001b[0m \u001b[38;5;28mprint\u001b[39m(\u001b[43mtest_soil_pH\u001b[49m\u001b[43m(\u001b[49m\u001b[43m[\u001b[49m\u001b[38;5;241;43m7.5\u001b[39;49m\u001b[43m]\u001b[49m\u001b[43m)\u001b[49m)\n",
      "Cell \u001b[0;32mIn[6], line 19\u001b[0m, in \u001b[0;36mtest_soil_pH\u001b[0;34m(pH_value)\u001b[0m\n\u001b[1;32m      2\u001b[0m \u001b[38;5;250m\u001b[39m\u001b[38;5;124;03m\"\"\"\u001b[39;00m\n\u001b[1;32m      3\u001b[0m \u001b[38;5;124;03mDetermines if soil is acidic, alkaline, or neutral based on its pH value.\u001b[39;00m\n\u001b[1;32m      4\u001b[0m \n\u001b[0;32m   (...)\u001b[0m\n\u001b[1;32m     15\u001b[0m \u001b[38;5;124;03mValueError: If the input is not within the valid pH range (0 to 14).\u001b[39;00m\n\u001b[1;32m     16\u001b[0m \u001b[38;5;124;03m\"\"\"\u001b[39;00m\n\u001b[1;32m     18\u001b[0m \u001b[38;5;28;01mif\u001b[39;00m \u001b[38;5;129;01mnot\u001b[39;00m \u001b[38;5;28misinstance\u001b[39m(pH_value, (\u001b[38;5;28mint\u001b[39m, \u001b[38;5;28mfloat\u001b[39m, \u001b[38;5;28mstr\u001b[39m)):\n\u001b[0;32m---> 19\u001b[0m     \u001b[38;5;28;01mraise\u001b[39;00m \u001b[38;5;167;01mTypeError\u001b[39;00m(\u001b[38;5;124mf\u001b[39m\u001b[38;5;124m\"\u001b[39m\u001b[38;5;124mInput type \u001b[39m\u001b[38;5;132;01m{\u001b[39;00m\u001b[38;5;28mtype\u001b[39m(pH_value)\u001b[38;5;132;01m}\u001b[39;00m\u001b[38;5;124m is not valid. Must be int, float, or str.\u001b[39m\u001b[38;5;124m\"\u001b[39m)\n\u001b[1;32m     21\u001b[0m \u001b[38;5;28;01mtry\u001b[39;00m:\n\u001b[1;32m     22\u001b[0m     pH_value \u001b[38;5;241m=\u001b[39m \u001b[38;5;28mfloat\u001b[39m(pH_value)\n",
      "\u001b[0;31mTypeError\u001b[0m: Input type <class 'list'> is not valid. Must be int, float, or str."
     ]
    }
   ],
   "source": [
    "def test_soil_pH(pH_value):\n",
    "    \"\"\"\n",
    "    Determines if soil is acidic, alkaline, or neutral based on its pH value.\n",
    "\n",
    "    Parameters:\n",
    "    pH_value (int, float, or str): The pH value of the soil. It should be a number \n",
    "                                  or a string that can be converted to a float. \n",
    "                                  Valid pH values range from 0 to 14.\n",
    "\n",
    "    Returns:\n",
    "    str: A description of the soil's acidity or alkalinity.\n",
    "    \n",
    "    Raises:\n",
    "    TypeError: If the input is not an int, float, or string.\n",
    "    ValueError: If the input is not within the valid pH range (0 to 14).\n",
    "    \"\"\"\n",
    "    \n",
    "    if not isinstance(pH_value, (int, float, str)):\n",
    "        raise TypeError(f\"Input type {type(pH_value)} is not valid. Must be int, float, or str.\")\n",
    "\n",
    "    try:\n",
    "        pH_value = float(pH_value)\n",
    "        if not (0 <= pH_value <= 14):\n",
    "            raise ValueError(\"pH value must be between 0 and 14.\")\n",
    "    except ValueError as e:\n",
    "        return f\"Invalid input: {e}\"\n",
    "\n",
    "    # Classify the soil based on its pH value\n",
    "    if pH_value < 7:\n",
    "        return \"The soil is acidic.\"\n",
    "    elif pH_value > 7:\n",
    "        return \"The soil is alkaline.\"\n",
    "    else:\n",
    "        return \"The soil is neutral.\"\n",
    "\n",
    "# Example usage of the function\n",
    "print(test_soil_pH(\"5.5\"))  # Acidic soil\n",
    "print(test_soil_pH(8.2))    # Alkaline soil\n",
    "print(test_soil_pH(\"seven\"))  # Invalid input\n",
    "print(test_soil_pH(15))     # Valid input, out of range\n",
    "print(test_soil_pH([7.5]))  # Invalid type\n"
   ]
  },
  {
   "cell_type": "markdown",
   "metadata": {},
   "source": [
    "## Explanation\n",
    "\n",
    "**Data type check with `isinstance`**: At the beginning of the function, we use `isinstance()` to check if the input is either an int, float, or str. The TypeError message includes the type of the wrong data type to inform the user about the nature of the error.\n",
    "\n",
    "**Conversion and range check**: Inside the `try` block, the function attempts to convert the input to a float and then checks if it's within the valid pH range, raising a ValueError if it's out of range.\n",
    "\n",
    "**Handling value error**: The except block catches and returns a message for any ValueError.\n"
   ]
  }
 ],
 "metadata": {
  "kernelspec": {
   "display_name": "Python 3 (ipykernel)",
   "language": "python",
   "name": "python3"
  },
  "language_info": {
   "codemirror_mode": {
    "name": "ipython",
    "version": 3
   },
   "file_extension": ".py",
   "mimetype": "text/x-python",
   "name": "python",
   "nbconvert_exporter": "python",
   "pygments_lexer": "ipython3",
   "version": "3.10.9"
  }
 },
 "nbformat": 4,
 "nbformat_minor": 4
}
