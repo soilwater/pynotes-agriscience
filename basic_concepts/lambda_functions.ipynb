{
 "cells": [
  {
   "cell_type": "raw",
   "metadata": {},
   "source": [
    "---\n",
    "title: \"Lambda functions\"\n",
    "author: \"Andres Patrignani\"\n",
    "date: \"1/6/2024\"\n",
    "keywords: [\"lambda functions\", \"anonymous functions\", \"functions\", \"modularity\"]\n",
    "---"
   ]
  },
  {
   "cell_type": "markdown",
   "metadata": {},
   "source": [
    "Lambda functions in Python offer an alternative way to create concise, one-line expressions for specific tasks, eliminating the need for a separate named function using the `def` keyword. They are characterized by their simplicity and ability to return a value directly without a `return` statement, making them perfect for quick, in-line operations like applying formulas in optimization routines or sorting and filtering data. Continuing with the analogy between regular functions and tools in a toolbox, think of lambda functions as the equivalent of using a kitchen knife or a coin in your pocket for quickly tightening a screw.\n",
    "\n",
    "## Syntax\n",
    "\n",
    "```python\n",
    "    lambda arguments: expression\n",
    "```\n",
    "\n",
    "Let's learn about Lambda functions by coding a few examples. We will start by importing the Numpy module, which we will need for some operations."
   ]
  },
  {
   "cell_type": "code",
   "execution_count": 14,
   "metadata": {},
   "outputs": [],
   "source": [
    "# Import modules\n",
    "import numpy as np"
   ]
  },
  {
   "cell_type": "markdown",
   "metadata": {},
   "source": [
    "## Example 1: Convert degrees Fahrenheit to Celsius\n",
    "\n",
    "Consider a scenario where you need to convert temperatures from degrees Fahrenheit to degrees Celsius frequently. Instead of repeatedly typing the conversion formula, you can encapsulate the expression in a lambda function for easy reuse. This approach not only avoids code repetition, but also reduces the risk of errors, as you write the formula just once and then call the lambda function by its name whenever needed.\n",
    "\n",
    "$$C = \\frac{5}{9}(F-32)$$\n",
    "\n",
    "where $F$ is temperature in degrees Fahrenheit and $C$ is the resulting temperature in degrees Celsius."
   ]
  },
  {
   "cell_type": "code",
   "execution_count": 15,
   "metadata": {},
   "outputs": [],
   "source": [
    "# Define the lambda function (note the bold green reserved word)\n",
    "fahrenheit_to_Celsius = lambda F: 5/9 * (F-32)\n"
   ]
  },
  {
   "cell_type": "code",
   "execution_count": 19,
   "metadata": {},
   "outputs": [
    {
     "name": "stdout",
     "output_type": "stream",
     "text": [
      "A temperature of 212.0 °F is equivalent to 100.0 °C\n"
     ]
    }
   ],
   "source": [
    "# Call the function\n",
    "F = 212 # temperature in degrees Fahrenheit\n",
    "C = fahrenheit_to_Celsius(212)\n",
    "\n",
    "print(f\"A temperature of {F:.1f} °F is equivalent to {C:.1f} °C\")"
   ]
  },
  {
   "cell_type": "markdown",
   "metadata": {},
   "source": [
    "## Breakdown of Lambda function components\n",
    "\n",
    "Similar to what we did with regular functions, let's breakdown the components of a lambda function.\n",
    "\n",
    "1. **Defining the Lambda function**:\n",
    "\n",
    "   ```python\n",
    "   fahrenheit_to_Celsius = lambda F: 5/9 * (F-32)\n",
    "   ```\n",
    "   This line defines a lambda function named `fahrenheit_to_Celsius`.\n",
    "\n",
    "2. **Lambda keyword**:\n",
    "\n",
    "   - `lambda`: This is the keyword that signifies the start of a lambda function in Python. It's followed by the parameters and the expression that makes up the function.\n",
    "\n",
    "3. **Parameter**:\n",
    "\n",
    "   - `F`: This represents the parameter of the lambda function. In this case, `F` is the input temperature in degrees Fahrenheit that you want to convert to Celsius.\n",
    "\n",
    "4. **Function expression**:\n",
    "\n",
    "   - `5/9*(F-32)`: This is the expression that gets executed when the lambda function is called. It's the formula for converting degrees Fahrenheit to Celsius.\n"
   ]
  },
  {
   "cell_type": "raw",
   "metadata": {},
   "source": [
    "::: {.callout-warning}\n",
    "## Note\n",
    "\n",
    "Note that, other than a simple line comment, `Lambda` functions offer very limited possibilities to provide associated documentation for the code, inputs, and outputs. If you need to a multi-line function or even a single-line function with detailed documentation, then a regular Python function is the way to go.\n",
    ":::"
   ]
  },
  {
   "cell_type": "markdown",
   "metadata": {},
   "source": [
    "## Example 2: Estimate atmospheric pressure from altitude\n",
    "\n",
    "Estimating atmospheric pressure from altitude (learn more about the topic [here](https://en.wikipedia.org/wiki/Atmospheric_pressure?oldformat=true)) is a classic problem in environmental science and meteorology, and using Python functions is an excellent tool for solving it. \n",
    "\n",
    "$$P = 101.3 \\; exp\\Bigg(\\frac{-h}{8400} \\Bigg) $$\n",
    "\n",
    "where $P$ is atmospheric pressure in $kPa$ and $h$ is altitude above sea level in meters. The coefficient 8400 is the result of aggregating the values for the gravitational acceleration, the molar mass of dry air, the universal gas constant, and sea level standard temperature; and converting from $Pa$ to $kPa$."
   ]
  },
  {
   "cell_type": "code",
   "execution_count": 20,
   "metadata": {},
   "outputs": [],
   "source": [
    "# Define lambda function\n",
    "estimate_atm_pressure = lambda A: 101.3 * np.exp(-A/8400) # atm pressure in kPa\n"
   ]
  },
  {
   "cell_type": "code",
   "execution_count": 23,
   "metadata": {},
   "outputs": [
    {
     "name": "stdout",
     "output_type": "stream",
     "text": [
      "Pressure in Kansas City, KS at an elevation of 280 m is 98.0 kPa\n"
     ]
    }
   ],
   "source": [
    "# Compute atmospheric pressure for Kansas City, KS\n",
    "city = \"Kansas City, KS\"\n",
    "h = 280 # meters a.s.l.\n",
    "P = estimate_atm_pressure(h)\n",
    "\n",
    "print(f\"Pressure in {city} at an elevation of {h} m is {P:.1f} kPa\")\n"
   ]
  },
  {
   "cell_type": "code",
   "execution_count": 24,
   "metadata": {},
   "outputs": [
    {
     "name": "stdout",
     "output_type": "stream",
     "text": [
      "Pressure in Denver, CO at an elevation of 1600 m is 83.7 kPa.\n"
     ]
    }
   ],
   "source": [
    "# Compute atmospheric pressure for Denver, CO\n",
    "city = \"Denver, CO\"\n",
    "h = 1600 # meters a.s.l. \n",
    "P = estimate_atm_pressure(h)\n",
    "\n",
    "print(f\"Pressure in {city} at an elevation of {h} m is {P:.1f} kPa.\")\n"
   ]
  },
  {
   "cell_type": "markdown",
   "metadata": {},
   "source": [
    "## Example 3: Volume of tree trunk\n",
    "\n",
    "In the fields of forestry and ecology, trunk volume is a key metric for assessing and monitoring tree size. While tree trunks can have complex shapes, their general resemblance to cones allows for reasonably accurate volume estimations using basic measurements like trunk diameter and height. You can learn more about [measuring tree volumes here](https://www.wikiwand.com/en/Tree_volume_measurement). To calculate trunk volume, we can use a simplified formula: \n",
    "\n",
    "$$ V = \\frac{\\pi \\; h \\; (D_1^2 + D_1^2 + D_1 D_2)}{12} $$\n",
    "\n",
    "where $D_1$, $D_2$ are the diameters of the top and bottom circular cross-sections of the tree.\n",
    "\n",
    "Let's implement this formula using a Lambda function and then I propose computing the approximate volume of a Giant Sequoia. The [*General Sherman*](https://www.wikiwand.com/en/General_Sherman_\\(tree\\)), located in the Sequoia National Park in California, is the largest single-stem living tree on Earth with an approximate hight of 84 m and a diameter at breast height of about 7.7 m. This example for computing tree volumes illustrates the practical application of programming in environmental science."
   ]
  },
  {
   "cell_type": "code",
   "execution_count": 25,
   "metadata": {},
   "outputs": [
    {
     "name": "stdout",
     "output_type": "stream",
     "text": [
      "The trunk volume of a Giant Sequoia is 1495 cubic meters\n",
      "Trunk volume is 59.8% the size of an Olympic-size pool\n"
     ]
    }
   ],
   "source": [
    "compute_trunk_volume = lambda d1, d2, h: (np.pi * h * (d1**2 + d2**2 + d1*d2))/12\n",
    "\n",
    "# Approximate tree dimensions (these values result\n",
    "diameter_base = 7.7 # meters\n",
    "diamter_top = 1 # meters (I assumed this value for the top of the stem)\n",
    "height = 84 # meters\n",
    "\n",
    "# Compute volume. The results is remarkably similar tot he reported 1,487 m^3\n",
    "trunk_volume = compute_trunk_volume(diameter_base, diamter_top, height) # m^3\n",
    "\n",
    "print(f\"The trunk volume of a Giant Sequoia is {trunk_volume:.0f} cubic meters\")\n",
    "\n",
    "# Find relative volume compared to an Olympic-size (50m x 25m x 2m) swimming pool.\n",
    "pool_volume = 50 * 25 * 2\n",
    "rel_volume = trunk_volume/pool_volume*100 # Relative volume trunk/pool\n",
    "\n",
    "# Ratio of volumes\n",
    "print(f\"Trunk volume is {rel_volume:.1f}% the size of an Olympic-size pool\")"
   ]
  },
  {
   "cell_type": "markdown",
   "metadata": {},
   "source": [
    "## Example 4: Calculate the sodium adsorption ratio (SAR).\n",
    "\n",
    "The Sodium Adsorption Ratio (SAR) is a water quality indicator for determining the suitability for agricultural irrigation. In high concetrations, sodium has a negative impact on plant growth and disperses soil colloids, which has a detrimental impact on soil aggregation, soil structure and infiltration. It uses the concentrations of sodium, calcium, and magnesium ions measured in milliequivalents per liter (meq/L) to calculate the SAR value based on the formula:\n",
    "\n",
    "$$ SAR = \\frac{\\text{Na}^+}{\\sqrt{\\frac{\\text{Ca}^{2+} + \\text{Mg}^{2+}}{2}}}$$\n",
    "\n",
    "\n"
   ]
  },
  {
   "cell_type": "code",
   "execution_count": 51,
   "metadata": {},
   "outputs": [],
   "source": [
    "# Define lambda function\n",
    "calculate_sar = lambda na,ca,mg: na / ((ca+mg) / 2)**0.5\n"
   ]
  },
  {
   "cell_type": "code",
   "execution_count": 54,
   "metadata": {},
   "outputs": [
    {
     "name": "stdout",
     "output_type": "stream",
     "text": [
      "Sodium Adsorption Ratio (SAR) is: 5.3\n"
     ]
    }
   ],
   "source": [
    "# Determine SAR value for a water sample with the following ion concentrations\n",
    "\n",
    "na = 10  # Sodium ion concentration in meq/L\n",
    "ca = 5   # Calcium ion concentration in meq/L\n",
    "mg = 2   # Magnesium ion concentration in meq/L\n",
    "\n",
    "sar_value = calculate_sar(na, ca, mg)\n",
    "print(f\"Sodium Adsorption Ratio (SAR) is: {sar_value:.1f}\")\n",
    "\n",
    "# SAR values <5 are typically excellent for irrigation, \n",
    "# while SAR values >15 are typically unsuitable for irrigation of most crops."
   ]
  },
  {
   "cell_type": "markdown",
   "metadata": {},
   "source": [
    "## Example 5: Compute soil porosity\n",
    "\n",
    "Soil porosity refers to the percentage of the soil's volume that is occupied by voids that can be occupied by air and water. Soil porosity is a soil physical property that conditions the soil's ability to hold and transmit water, heat, and air, and is essential for root growth and microbial activity. For a given textural class, soils with lower porosity values tend to be compacted compared to soils with greater porosity values.\n",
    "\n",
    "Porosity ($f$, dimensionless) is defined as the volume of voids over the total volume of soil, and it can be approximated using bulk density ($\\rho_b$) and particle density ($\\rho_s$, often assumed to have a value of 2.65 $g cm^{-3}$ for mineral soils):\n",
    "\n",
    "$$ f = \\Bigg( 1 - \\frac{\\rho_b}{\\rho_s} \\Bigg)$$"
   ]
  },
  {
   "cell_type": "code",
   "execution_count": 26,
   "metadata": {},
   "outputs": [
    {
     "name": "stdout",
     "output_type": "stream",
     "text": [
      "The porosity of a soil with a bulk density of 1.35 g/cm^3 is 49.1 %\n"
     ]
    }
   ],
   "source": [
    "# Define lambda function\n",
    "# bd is the bulk density\n",
    "calculate_porosity = lambda bd: 1 - (bd/2.65)\n",
    "\n",
    "# Compute soil porosity\n",
    "bd = 1.35 # Bulk density in g/cm^3\n",
    "f = calculate_porosity(bd)\n",
    "\n",
    "# Print result\n",
    "print(f'The porosity of a soil with a bulk density of {bd:.2f} g/cm^3 is {f*100:.1f} %')"
   ]
  },
  {
   "cell_type": "markdown",
   "metadata": {},
   "source": [
    "## Example 6: Estimate osmotic potential\n",
    "\n",
    "In soil science, osmotic potential ($\\psi_o$, kPa) represents the measure of the soil's capacity to retain water due to the presence of dissolved solutes. Osmotic potential directly influences soil moisture dynamics and plant water uptake, impacting crop productivity and ecosystem health. For instance, soils with lower osmotic potential (i.e., more negative values), typically resulting from a higher concentration of solutes, create a greater challenge for plants to extract water, potentially impacting their growth and survival. The osmotic potential of the soil solution can be approximated based on measurements of the bulk electrical conductivity of a saturation paste extract and volumetric water content using the following formula:\n",
    "\n",
    "$$ \\psi_{o} = 36 \\ EC_b \\ \\frac{\\theta_s}{\\theta}$$\n",
    "\n",
    "where $EC_b$ is the bulk electrical conductivity of the saturation paste extract in $dS m^{-1}$, $\\theta_s$ is the voluemtric water content at saturation in $cm^3 cm^{-3}$, and $\\theta$ is the volumetric water content $cm^3 cm^{-3}$. The term $36 \\ EC_b$ represents the osmotic potential at saturation $\\psi_{os}$"
   ]
  },
  {
   "cell_type": "code",
   "execution_count": 8,
   "metadata": {},
   "outputs": [
    {
     "name": "stdout",
     "output_type": "stream",
     "text": [
      "Osmotic potential is 108.0 kPa\n"
     ]
    }
   ],
   "source": [
    "# Define lambda function\n",
    "calculate_osmotic = lambda theta,theta_s,EC: 36 * EC * theta_s/theta\n",
    "\n",
    "# Compute osmotic potential\n",
    "theta_s = 0.45 # cm^3/cm^3\n",
    "theta = 0.15 # cm^3/cm^3\n",
    "EC = 1 # dS/m\n",
    "\n",
    "psi_o = calculate_osmotic(theta,theta_s,EC)\n",
    "print(f\"Osmotic potential is {psi_o:.1f} kPa\")\n"
   ]
  },
  {
   "cell_type": "markdown",
   "metadata": {},
   "source": [
    "## Practice\n",
    "\n",
    "- Implement Stoke's Law as a lambda function. Then, call the function to estimate the terminal velocity of a 1 mm diamter sand particle in water and a 1 mm raindrop in air.\n",
    "\n",
    "- Implement a quadratic polynomial describing a yield-nitrogen response curve. Here is one model that you can try, but there are many empirical yield-N relationships in the literature: $y = -0.0034 x^2 + 0.9613 x + 115.6$"
   ]
  }
 ],
 "metadata": {
  "kernelspec": {
   "display_name": "Python 3 (ipykernel)",
   "language": "python",
   "name": "python3"
  },
  "language_info": {
   "codemirror_mode": {
    "name": "ipython",
    "version": 3
   },
   "file_extension": ".py",
   "mimetype": "text/x-python",
   "name": "python",
   "nbconvert_exporter": "python",
   "pygments_lexer": "ipython3",
   "version": "3.10.9"
  }
 },
 "nbformat": 4,
 "nbformat_minor": 4
}
