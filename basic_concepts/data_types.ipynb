{
 "cells": [
  {
   "cell_type": "raw",
   "metadata": {},
   "source": [
    "---\n",
    "title: \"Data types\"\n",
    "author: \"Andres Patrignani\"\n",
    "date: \"1/4/2024\"\n",
    "keywords: [\"data types\", \"integers\", \"floats\", \"strings\", \"booleans\"]\n",
    "---"
   ]
  },
  {
   "cell_type": "markdown",
   "metadata": {},
   "source": [
    "In Python, data types are categories that determine the kind of value an object can have and the operations that can be performed on it. The most basic data types include integers (`int`), floating-point numbers (`float`), strings (`str`), and booleans (`bool`). Each of these types serves a specific purpose: integers for whole numbers, floats for decimal numbers, strings for text, and booleans for true/false values. Understanding these data types is crucial as they form the building blocks of Python coding, influencing how you store, handle, and interact with data in your programs."
   ]
  },
  {
   "cell_type": "markdown",
   "metadata": {},
   "source": [
    "## Integers"
   ]
  },
  {
   "cell_type": "code",
   "execution_count": 1,
   "metadata": {},
   "outputs": [
    {
     "name": "stdout",
     "output_type": "stream",
     "text": [
      "8\n",
      "<class 'int'>\n"
     ]
    }
   ],
   "source": [
    "plants_per_m2 = 8\n",
    "print(plants_per_m2)\n",
    "print(type(plants_per_m2)) # This is class int\n"
   ]
  },
  {
   "cell_type": "markdown",
   "metadata": {},
   "source": [
    "## Floating point"
   ]
  },
  {
   "cell_type": "code",
   "execution_count": 2,
   "metadata": {},
   "outputs": [
    {
     "name": "stdout",
     "output_type": "stream",
     "text": [
      "3.4\n",
      "<class 'float'>\n"
     ]
    }
   ],
   "source": [
    "rainfall_amount = 3.4 # inches\n",
    "print(rainfall_amount)\n",
    "print(type(rainfall_amount)) # This is class float (numbers with decimal places)\n"
   ]
  },
  {
   "cell_type": "markdown",
   "metadata": {},
   "source": [
    "## Strings"
   ]
  },
  {
   "cell_type": "code",
   "execution_count": 17,
   "metadata": {},
   "outputs": [
    {
     "name": "stdout",
     "output_type": "stream",
     "text": [
      "Winter wheat\n",
      "Triticum aestivum\n",
      "<class 'str'>\n",
      "<class 'str'>\n"
     ]
    }
   ],
   "source": [
    "# Strings are defined using single quotes ...\n",
    "common_name = 'Winter wheat'\n",
    "\n",
    "# ... or double quotes\n",
    "scientific_name = 'Triticum aestivum'\n",
    "\n",
    "# ... but do not mix them\n",
    "\n",
    "print(common_name)\n",
    "print(scientific_name)\n",
    "\n",
    "print(type(common_name))\n",
    "print(type(scientific_name))\n"
   ]
  },
  {
   "cell_type": "code",
   "execution_count": 4,
   "metadata": {},
   "outputs": [
    {
     "name": "stdout",
     "output_type": "stream",
     "text": [
      "The layer(s) of generally loose mineral and/or organic material \n",
      "that are affected by physical, chemical, and/or biological processes\n",
      "at or near the planetary surface and usually hold liquids, gases, \n",
      "and biota and support plants.\n"
     ]
    }
   ],
   "source": [
    "# For longer blocks that span multiple lines we can use triple quotes (''' or \"\"\")\n",
    "\n",
    "soil_definition = \"\"\"The layer(s) of generally loose mineral and/or organic material \n",
    "that are affected by physical, chemical, and/or biological processes\n",
    "at or near the planetary surface and usually hold liquids, gases, \n",
    "and biota and support plants.\"\"\"\n",
    "\n",
    "print(soil_definition)\n"
   ]
  },
  {
   "cell_type": "raw",
   "metadata": {},
   "source": [
    "::: {.callout-note}\n",
    "## Note\n",
    "The multi-line string appears as separate lines due to hidden line breaks at the end of each line, like when we press the Enter key. These breaks are represented by `\\n`, which are not displayed,  but can be used for splitting the long string into individual lines. Try the following line: `soil_definition.splitlines()`, which is equivalent to `soil_definition.split('\\n')`\n",
    ":::"
   ]
  },
  {
   "cell_type": "code",
   "execution_count": 7,
   "metadata": {},
   "outputs": [
    {
     "name": "stdout",
     "output_type": "stream",
     "text": [
      "corn_riley_2024\n",
      "corn\n"
     ]
    }
   ],
   "source": [
    "# Split a string\n",
    "filename = 'corn_riley_2024.csv' # Filename with corn yield data for Riley county in 2024\n",
    "\n",
    "# Split the string and assign the result to different variables\n",
    "# This only works if the number of variables on the LHS matches the number of outputs\n",
    "# Try running filename.split('.') on its own to see the resulting list\n",
    "base_filename, ext_filename = filename.split('.')\n",
    "print(base_filename)\n",
    "\n",
    "# Now we can do the same, but splitting at the underscore\n",
    "crop, county, year = base_filename.split('_')\n",
    "\n",
    "print(crop)"
   ]
  },
  {
   "cell_type": "raw",
   "metadata": {},
   "source": [
    "::: {.callout-note}\n",
    "## Note\n",
    "The command `base_filename, ext_filename = filename.split('.')` splits the string at the `.`, and automatically assigns each of the resulting elements (`'corn_riley_2024' and 'csv'`) to each variable on the left-hand side. If you only run `filename.split('.')` the result is a list with two elements: `['corn_riley_2024', 'csv']`\n",
    "\n",
    ":::"
   ]
  },
  {
   "cell_type": "code",
   "execution_count": 9,
   "metadata": {},
   "outputs": [
    {
     "name": "stdout",
     "output_type": "stream",
     "text": [
      "corn-riley-2024.csv\n"
     ]
    }
   ],
   "source": [
    "# Replace characteres\n",
    "print(filename.replace('_', '-'))\n"
   ]
  },
  {
   "cell_type": "code",
   "execution_count": 12,
   "metadata": {},
   "outputs": [
    {
     "name": "stdout",
     "output_type": "stream",
     "text": [
      "/User/Documents/Datasets/myfile.csv\n"
     ]
    }
   ],
   "source": [
    "# Join strings using the `+` operator\n",
    "filename = \"myfile\"\n",
    "extension = \".csv\"\n",
    "path = \"/User/Documents/Datasets/\"\n",
    "\n",
    "fullpath_file = path + filename + extension\n",
    "print(fullpath_file)"
   ]
  },
  {
   "cell_type": "code",
   "execution_count": 16,
   "metadata": {},
   "outputs": [
    {
     "name": "stdout",
     "output_type": "stream",
     "text": [
      "True\n",
      "False\n"
     ]
    }
   ],
   "source": [
    "# Find if word starts with one of the following sequences\n",
    "print(base_filename.startswith(('corn','maize'))) # Note that the input is a tuple\n",
    "\n",
    "# Find if word ends with one of the following sequences\n",
    "print(base_filename.endswith(('2022','2023')))   # Note that the input is a tuple"
   ]
  },
  {
   "cell_type": "code",
   "execution_count": 40,
   "metadata": {},
   "outputs": [
    {
     "name": "stdout",
     "output_type": "stream",
     "text": [
      "Today's Precipitation at the Manhattan station was 25 mm.\n",
      "Today's Precipitation at the Manhattan station was 25 mm.\n",
      "fit: a=0.300, b=0.100, c=120.0\n",
      "DOY:A001\n",
      "DOY:A365\n"
     ]
    }
   ],
   "source": [
    "# Passing variables into strings\n",
    "station = 'Manhattan'\n",
    "precip_amount = 25\n",
    "precip_units = 'mm'\n",
    "\n",
    "# Option 1 (preferred): f-string format (note the leading f)\n",
    "option_1 = f\"Today's Precipitation at the {station} station was {precip_amount} {precip_units}.\"\n",
    "print(option_1)\n",
    "\n",
    "# Option 2: %-string\n",
    "# Note how much longer this syntax is. This also requires to keep track of the order of the variables\n",
    "option_2 = \"Today's Precipitation at the %s station was %s %s.\" % (station, precip_amount, precip_units)\n",
    "print(option_2)\n",
    "\n",
    "# ... however this syntax can sometimes be handy.\n",
    "# Say you want to report parameter values using a label for one of your plots\n",
    "par_values = [0.3, 0.1, 120] # Three parameter values, a list typically obtained by curve fitting\n",
    "label = 'fit: a=%5.3f, b=%5.3f, c=%5.1f' % tuple(par_values)\n",
    "print(label)\n"
   ]
  },
  {
   "cell_type": "code",
   "execution_count": null,
   "metadata": {},
   "outputs": [],
   "source": [
    "# Formatting of values in strings\n",
    "soil_pH = 6.7832\n",
    "crop_name = \"corn\"\n",
    "\n",
    "# Using an f-string to embed variables and format the pH value\n",
    "message = f\"The soil pH suitable for growing {crop_name} is {soil_pH:.2f}.\""
   ]
  },
  {
   "cell_type": "markdown",
   "metadata": {},
   "source": [
    "To specify the number of decimals for a value in an f-string, you can use the colon `:` followed by a format specifier inside the curly braces `{}`. For example, `{variable:.2f}` will format the variable to two decimal places. In this example, `{soil_pH:.2f}` within the f-string takes the `soil_pH` variable and formats it to two decimal places. The `:.2f` part is the format specifier, where `.` indicates precision, `2` is the number of decimal places, and `f` denotes floating-point number formatting. This approach is highly efficient and readable, making f-strings a favorite among Python programmers."
   ]
  },
  {
   "cell_type": "code",
   "execution_count": 52,
   "metadata": {},
   "outputs": [
    {
     "name": "stdout",
     "output_type": "stream",
     "text": [
      "DOY:A001\n"
     ]
    }
   ],
   "source": [
    "# Say that you want to download data using the url from the NASA-MODIS satellite for a specific day of the year\n",
    "doy = 1\n",
    "print(f\"DOY:A{doy:03d}\")"
   ]
  },
  {
   "cell_type": "markdown",
   "metadata": {},
   "source": [
    "In the f-string `f\"A{number:03d}\"`, `{number:03d}` formats the variable `number`. The `03d` specifier means that the number should be padded with zeros to make it three digits long (`d` stands for 'decimal integer' and `03` means 'three digits wide, padded with zeros'). The letter 'A' is added as a prefix directly in the string. So, if `number` is `1`, it gets formatted as `001`, and the complete string becomes `A001`."
   ]
  },
  {
   "cell_type": "code",
   "execution_count": 48,
   "metadata": {},
   "outputs": [
    {
     "name": "stdout",
     "output_type": "stream",
     "text": [
      "False\n",
      "True\n"
     ]
    }
   ],
   "source": [
    "# Compare strings\n",
    "print('loam' == 'Loam') # Returns False since case matters\n",
    "\n",
    "print('loam' == 'Loam'.lower()) # Returns True since we convert the second word to lower case"
   ]
  },
  {
   "cell_type": "raw",
   "metadata": {},
   "source": [
    "::: {.callout-note}\n",
    "## Note\n",
    "When comparing strings, using either `lower()` or `upper()` helps standarizing the strings before the boolean operation. This is particularly useful if you need to request information from users or deal with messy datasets that are not consistent.\n",
    ":::"
   ]
  },
  {
   "cell_type": "markdown",
   "metadata": {},
   "source": [
    "## Booleans\n",
    "\n",
    "Boolean data types represent one of two values: `True` or `False`. Booleans are particularly powerful when used with conditional statements like `if`. By evaluating a boolean expression in an `if` statement, you can control the flow of your program, allowing it to make decisions and execute different code based on certain conditions. For instance, an `if` statement can check if a condition is `True`, and only then execute a specific block of code. Check the section about `if` statements for some examples.\n",
    "\n",
    "\n",
    "**Boolean logical operators**</br>\n",
    "`or`: Will evaluate to `True` **if at least one (but not necessarily both)** statements is `True`</br>\n",
    "`and`: Will evaluate to `True` **only if both** statements are `True`</br>\n",
    "`not`: Reverses the result of the statement</br>\n",
    "\n",
    "**Boolean comparison operators**</br>\n",
    "`==`: equal </br>\n",
    "`!=`: not equal </br>\n",
    "`>=`: greater or equal than </br>\n",
    "`<=`: less or equal than </br>\n",
    "`>`: greater than </br>\n",
    "`<`: less than </br>\n"
   ]
  },
  {
   "cell_type": "raw",
   "metadata": {},
   "source": [
    "::: {.callout-note}\n",
    "\n",
    "## Note\n",
    "\n",
    "Python evaluates conditional arguments from left to right. The evaluation halts as soon as the outcome is determined, and the resulting value is returned. Python does not evaluate subsequent operands unless it is necessary to resolve the result.\n",
    ":::\n"
   ]
  },
  {
   "cell_type": "code",
   "execution_count": 5,
   "metadata": {},
   "outputs": [
    {
     "name": "stdout",
     "output_type": "stream",
     "text": [
      "True\n",
      "<class 'bool'>\n"
     ]
    }
   ],
   "source": [
    "# Example boolean logical operator\n",
    "\n",
    "adequate_moisture = True\n",
    "print(adequate_moisture)\n",
    "print(type(adequate_moisture))\n"
   ]
  },
  {
   "cell_type": "code",
   "execution_count": 6,
   "metadata": {},
   "outputs": [
    {
     "name": "stdout",
     "output_type": "stream",
     "text": [
      "True\n"
     ]
    }
   ],
   "source": [
    "# Example boolean comparison operators\n",
    "optimal_moisture_level = 30  # optimal soil moisture level as a percentage\n",
    "current_moisture_level = 25  # current soil moisture level as a percentage\n",
    "\n",
    "is_moisture_optimal = current_moisture_level >= optimal_moisture_level\n",
    "print(is_moisture_optimal)"
   ]
  },
  {
   "cell_type": "code",
   "execution_count": 7,
   "metadata": {},
   "outputs": [
    {
     "name": "stdout",
     "output_type": "stream",
     "text": [
      "True\n"
     ]
    }
   ],
   "source": [
    "chance_rain_tonight = 10  # probability of rainfall as a percentage\n",
    "\n",
    "water_plants = (current_moisture_level >= optimal_moisture_level) and (chance_rain_tonight < 50)\n",
    "print(water_plants)\n"
   ]
  },
  {
   "cell_type": "markdown",
   "metadata": {},
   "source": [
    "## Conversion between data types\n",
    "\n",
    "In Python, converting between different data types, a process known as type casting, is a common and straightforward operation. You can convert data types using built-in functions like `int()`, `float()`, `str()`, and `bool()`. For instance, `int()` can change a floating-point number or a string into an integer, `float()` can turn an integer or string into a floating-point number, and `str()` can convert an integer or float into a string. These conversions are especially useful when you need to perform operations that require specific data types, such as mathematical calculations or text manipulation. However, it's important to be mindful that attempting to convert incompatible types (like trying to turn a non-numeric string into a number) can lead to errors."
   ]
  },
  {
   "cell_type": "code",
   "execution_count": 12,
   "metadata": {},
   "outputs": [
    {
     "name": "stdout",
     "output_type": "stream",
     "text": [
      "8\n",
      "<class 'int'>\n",
      "8\n",
      "<class 'str'>\n"
     ]
    }
   ],
   "source": [
    "# Integers to string\n",
    "\n",
    "int_num = 8\n",
    "print(int_num)\n",
    "print(type(int_num)) # Print data type before conversion\n",
    "\n",
    "int_str = str(int_num)\n",
    "print(int_str)\n",
    "print(type(int_str)) # Print resulting data type \n"
   ]
  },
  {
   "cell_type": "code",
   "execution_count": 13,
   "metadata": {},
   "outputs": [
    {
     "name": "stdout",
     "output_type": "stream",
     "text": [
      "3.1415\n",
      "<class 'float'>\n",
      "3.1415\n",
      "<class 'str'>\n"
     ]
    }
   ],
   "source": [
    "# Floats to string\n",
    "\n",
    "float_num = 3.1415\n",
    "print(float_num)\n",
    "print(type(float_num)) # Print data type before conversion\n",
    "\n",
    "float_str = str(float_num)\n",
    "print(float_str)\n",
    "print(type(float_str)) # Print resulting data type "
   ]
  },
  {
   "cell_type": "code",
   "execution_count": 15,
   "metadata": {},
   "outputs": [
    {
     "name": "stdout",
     "output_type": "stream",
     "text": [
      "3.0\n",
      "<class 'float'>\n"
     ]
    },
    {
     "data": {
      "text/plain": [
       "True"
      ]
     },
     "execution_count": 15,
     "metadata": {},
     "output_type": "execute_result"
    }
   ],
   "source": [
    "# Strings to integers/floats\n",
    "\n",
    "float_str = '3'\n",
    "float_num = float(float_str)\n",
    "print(float_num)\n",
    "print(type(float_num))\n",
    "\n",
    "# Check if string is numeric\n",
    "float_str.isnumeric()\n"
   ]
  },
  {
   "cell_type": "code",
   "execution_count": 16,
   "metadata": {},
   "outputs": [
    {
     "name": "stdout",
     "output_type": "stream",
     "text": [
      "4\n",
      "<class 'int'>\n"
     ]
    }
   ],
   "source": [
    "# Floats to integers\n",
    "float_num = 4.9\n",
    "int_num = int(float_num)\n",
    "\n",
    "print(int_num)\n",
    "print(type(int_num))\n"
   ]
  },
  {
   "cell_type": "markdown",
   "metadata": {},
   "source": [
    "In some cases Python will change the class according to the operation. For instance, the following code starts from two integers and results in a floating point."
   ]
  },
  {
   "cell_type": "code",
   "execution_count": 26,
   "metadata": {},
   "outputs": [
    {
     "name": "stdout",
     "output_type": "stream",
     "text": [
      "<class 'int'>\n",
      "<class 'int'>\n",
      "2.5\n",
      "<class 'float'>\n"
     ]
    }
   ],
   "source": [
    "numerator = 5\n",
    "denominator = 2\n",
    "print(type(numerator))\n",
    "print(type(denominator))\n",
    "\n",
    "answer = numerator / denominator  # Two integers\n",
    "print(answer)\n",
    "print(type(answer))   # Result is a float\n"
   ]
  }
 ],
 "metadata": {
  "kernelspec": {
   "display_name": "Python 3 (ipykernel)",
   "language": "python",
   "name": "python3"
  },
  "language_info": {
   "codemirror_mode": {
    "name": "ipython",
    "version": 3
   },
   "file_extension": ".py",
   "mimetype": "text/x-python",
   "name": "python",
   "nbconvert_exporter": "python",
   "pygments_lexer": "ipython3",
   "version": "3.10.9"
  }
 },
 "nbformat": 4,
 "nbformat_minor": 4
}
