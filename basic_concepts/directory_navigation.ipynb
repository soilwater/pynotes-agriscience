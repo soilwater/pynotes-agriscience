{
 "cells": [
  {
   "cell_type": "raw",
   "id": "e4a0d2e3-0cf2-4606-8230-a2450bc44054",
   "metadata": {},
   "source": [
    "---\n",
    "title: \"Directory navigation\"\n",
    "author: \"Andres Patrignani\"\n",
    "date: \"1/10/2024\"\n",
    "keywords: [\"directory\", \"files\", \"folders\", \"navigation\"]\n",
    "---"
   ]
  },
  {
   "cell_type": "markdown",
   "id": "88be04aa-d971-4211-9c19-718044433452",
   "metadata": {},
   "source": [
    "Navigting directories is essential for reading, saving, changing, adding, and removing data files. Python's `os` and 'glob' modules provide plenty of tools for directory navigation and file operations.\n",
    "\n",
    "## `os` module\n",
    "The operating, `os`, module provides a way of using operating system-dependent functionality like reading or writing to the file system, managing file and directory paths, and working with file permissions.\n"
   ]
  },
  {
   "cell_type": "code",
   "execution_count": 3,
   "id": "3d71d956-b3ce-45d9-b84e-04db6b6289fe",
   "metadata": {},
   "outputs": [],
   "source": [
    "# Import module\n",
    "import os"
   ]
  },
  {
   "cell_type": "code",
   "execution_count": 4,
   "id": "6ab66930-4169-4d79-b23b-6d117bc9ef30",
   "metadata": {},
   "outputs": [
    {
     "name": "stdout",
     "output_type": "stream",
     "text": [
      "Current Working Directory: /Users/andrespatrignani/Soil Water Lab Dropbox/Andres Patrignani/Teaching/Scientific programming/pynotes/notebooks\n"
     ]
    }
   ],
   "source": [
    "# Finding current working directory\n",
    "current_dir = os.getcwd()\n",
    "print(\"Current Working Directory:\", current_dir)\n"
   ]
  },
  {
   "cell_type": "code",
   "execution_count": null,
   "id": "e1fc7f4e-26e7-46ec-9d67-7ffa61eb1451",
   "metadata": {},
   "outputs": [],
   "source": [
    "# Changing Directory\n",
    "os.chdir('/path/to/new/directory')  # Navigate to a new directory\n",
    "\n",
    "# Move up one directory (exit current folder)\n",
    "os.chdir('..')\n",
    "\n",
    "# Create new directory\n",
    "new_dir = os.path.join(current_dir, 'soil_data')\n",
    "os.makedirs(new_dir, exist_ok=True)  # it will override if directory already exists\n",
    "\n",
    "# Remove empty directory\n",
    "dir_to_remove = os.path.join(os.getcwd(), 'soil_data')\n",
    "os.rmdir(dir_to_remove)\n",
    "\n",
    "# Remove directory containing files (need to import shutil module)\n",
    "# shutil.rmtree(dir_to_remove)\n"
   ]
  },
  {
   "cell_type": "code",
   "execution_count": null,
   "id": "f4c19fa5-ef39-4bcd-93f3-6e1ddc14702d",
   "metadata": {},
   "outputs": [],
   "source": [
    "# Splitting file names into parts\n",
    "file_name = \"soil_samples.csv\"\n",
    "file_path = os.path.join(current_dir, file_name)\n",
    "dir_name, file_name = os.path.split(file_path)\n",
    "file_name_only, file_extension = os.path.splitext(file_name)\n",
    "print(\"Directory:\", dir_name, \"File Name:\", file_name_only, \"Extension:\", file_extension)\n"
   ]
  },
  {
   "cell_type": "code",
   "execution_count": null,
   "id": "f31e3144-cd1e-4bcb-ae90-0edfe0178c6a",
   "metadata": {},
   "outputs": [],
   "source": [
    "# List specific files\n",
    "files_list = os.listdir(current_dir)\n",
    "for file in files_list:\n",
    "    if file.endswith(\".txt\"):\n",
    "        print(file)\n"
   ]
  },
  {
   "cell_type": "markdown",
   "id": "923fbfb7-9fc9-45ee-b509-fdccd4cebe22",
   "metadata": {},
   "source": [
    "## Using the `glob` module\n",
    "\n",
    "The `glob` module is similar to the `os` module, but is widely used for file name pattern matching and allows you to search for files and directories using a convenient wildcard matching that is particularly handy for listing files in a directory, especially when you're interested in files of a specific type (such as csv, txt, jpg). To target files with a specific extension, we use a wildcard symbol (`*`), which acts as a placeholder for `'all files of a particular type'`. For example, to list all the text files in a given directory, we use the pattern `*.txt`.\n"
   ]
  },
  {
   "cell_type": "code",
   "execution_count": null,
   "id": "437235b5-2808-4ffa-a7ee-7932b30c07ea",
   "metadata": {},
   "outputs": [],
   "source": [
    "# Import module\n",
    "import glob"
   ]
  },
  {
   "cell_type": "code",
   "execution_count": null,
   "id": "b7869d39-043b-4f9f-a1e7-8196b54255b5",
   "metadata": {},
   "outputs": [],
   "source": [
    "# Get current working directory\n",
    "print(glob.os.getcwd())\n",
    "\n",
    "# Move up one directory (exit current folder)\n",
    "glob.os.chdir('..')\n",
    "\n",
    "# Get all files in directory\n",
    "print(glob.os.listdir())\n",
    "\n",
    "# List and store all files with specific file extension\n",
    "txt_files = [file in glob.glob(\"*.txt\")] # This is a list comprehension\n"
   ]
  }
 ],
 "metadata": {
  "kernelspec": {
   "display_name": "Python 3 (ipykernel)",
   "language": "python",
   "name": "python3"
  },
  "language_info": {
   "codemirror_mode": {
    "name": "ipython",
    "version": 3
   },
   "file_extension": ".py",
   "mimetype": "text/x-python",
   "name": "python",
   "nbconvert_exporter": "python",
   "pygments_lexer": "ipython3",
   "version": "3.10.9"
  }
 },
 "nbformat": 4,
 "nbformat_minor": 5
}
