{
 "cells": [
  {
   "cell_type": "raw",
   "metadata": {},
   "source": [
    "---\n",
    "title: \"Functions\"\n",
    "author: \"Andres Patrignani\"\n",
    "date: \"1/6/2024\"\n",
    "keywords: [\"functions\", \"modularity\"]\n",
    "---"
   ]
  },
  {
   "cell_type": "markdown",
   "metadata": {},
   "source": [
    "In this tutorial, we delve into the basics of functions, covering key concepts like function declaration, inputs, outputs, and documentation through docstrings. Functions are powerful tools, akin to a wrench or screwdriver in a toolbox, that are used for executing specific tasks within your code. Functions are essentially named encapsulated snippets of code that can be reused multiple times. Function help organizing your code, avoiding code repetition, and reduce errors. This reusability not only enhances the modularity of your current project, but also extends to future projects, allowing you to build a personal library of useful functions. \n",
    "\n",
    "Utilizing functions involves two key steps:\n",
    "\n",
    "1) define or declare the function, setting up what it does and how, \n",
    "2) call or invoke the function whenever you need its functionality in your code. \n",
    "    \n",
    "This two-step process (defining and calling functions) is fundamental to programming and is crucial for creating well-structured, maintainable, and scalable code.\n",
    "\n",
    "## Syntax\n",
    "\n",
    "This is the main syntax to define your own functions:\n",
    "\n",
    "```python\n",
    "def function_name(parameters, par_opt=par_value):\n",
    "    # Code block\n",
    "    return result\n",
    "```\n",
    "\n",
    "Let's look at a few function examples to see this two-step process in action.\n"
   ]
  },
  {
   "cell_type": "code",
   "execution_count": 1,
   "metadata": {},
   "outputs": [],
   "source": [
    "# Import necessary modules\n",
    "import numpy as np\n"
   ]
  },
  {
   "cell_type": "markdown",
   "metadata": {},
   "source": [
    "## Example function: Compute vapor pressure deficit\n",
    "\n",
    "The vapor pressure deficit (VPD) represents the \"thirst\" of the atmosphere and is computed as the difference between the saturation vapor pressure and the actual vapor pressure. The saturation vapor pressure can be accurately approximated as a function of air temperature using the empirical [Tetens equation](https://www.wikiwand.com/en/Tetens_equation). Here is the set equations to compute VPD:\n",
    "\n",
    "**Saturation vapor pressure:**\n",
    "$$e_{sat} = 0.611 \\; exp\\Bigg(\\frac{17.502 \\ T} {T + 240.97}\\Bigg)$$\n",
    "\n",
    "**Actual vapor pressure:**\n",
    "$$e_{act} = e_{sat} \\frac{RH}{100}$$\n",
    "\n",
    "**Vapor pressure deficit:**\n",
    "$$VPD = e_{sat} - e_{act}$$\n",
    "\n",
    "**Variables**\n",
    "\n",
    "$e_{sat}$ is the saturation vapor pressure deficit (kPa)\n",
    "\n",
    "$e_{act}$ is the actual vapor pressure (kPa)\n",
    "\n",
    "$VPD$ is the vapor pressure deficit (kPa)\n",
    "\n",
    "$T$ is air temperature ($^\\circ$C)\n",
    "\n",
    "$RH$ is relative humidity (%)"
   ]
  },
  {
   "cell_type": "markdown",
   "metadata": {},
   "source": [
    "### Define function\n",
    "\n",
    "In the following example we will focus on the main building blocks of a function, but we will ignore error handling and checks to ensure that inputs have the proper data type. For more details on how to properly handle errors and ensure inputs have the correct data type see the error handling tutorial."
   ]
  },
  {
   "cell_type": "code",
   "execution_count": 11,
   "metadata": {},
   "outputs": [],
   "source": [
    "# Define function\n",
    "\n",
    "def compute_vpd(T, RH, unit='kPa'):\n",
    "    \"\"\"\n",
    "    Function that computes the air vapor pressure deficit (vpd).\n",
    "\n",
    "    Parameters:\n",
    "    T (integer, float): Air temperature in degrees Celsius.\n",
    "    RH (integer, float): Air relative humidity in percentage.\n",
    "    unit (string): Unit of the output vpd value. \n",
    "                    One of the following: kPa (default), bars, psi\n",
    "\n",
    "    Returns:\n",
    "    float: Vapor pressure deficit in kiloPascals (kPa).\n",
    "    \n",
    "    Authors:\n",
    "    Andres Patrignani\n",
    "\n",
    "    Date created:\n",
    "    6 January 2024\n",
    "    \n",
    "    Reference:\n",
    "    Campbell, G. S., & Norman, J. M. (2000).\n",
    "    An introduction to environmental biophysics. Springer Science & Business Media.\n",
    "    \"\"\"\n",
    "\n",
    "    # Compute saturation vapor pressure\n",
    "    e_sat = 0.611 * np.exp((17.502*T) / (T + 240.97)) # kPa\n",
    "\n",
    "    # Compute actual vapor pressure\n",
    "    e_act = e_sat * RH/100 # kPa\n",
    "\n",
    "    # Compute vapor pressure deficit\n",
    "    vpd = e_sat - e_act # kPa\n",
    "    \n",
    "    # Change units if necessary\n",
    "    if unit == 'bars':\n",
    "        vpd *= 0.01 # Same as vpd = vpd * 0.01\n",
    "    \n",
    "    elif unit == 'psi':\n",
    "        vpd *= 0.1450377377 # Convert to pounds per square inch (psi)\n",
    "\n",
    "    return vpd\n"
   ]
  },
  {
   "cell_type": "raw",
   "metadata": {},
   "source": [
    "::: {.callout-note}\n",
    "## Syntax note\n",
    "\n",
    "Did you notice the expression `vpd *= 0.01`? This is a compact way in Python to do `vpd = vpd * 0.01`. You can also use it with other operators, like `+=` for adding or `-=` for subtracting values from a variable.\n",
    ":::"
   ]
  },
  {
   "cell_type": "markdown",
   "metadata": {},
   "source": [
    "### Description of function components\n",
    "\n",
    "1. **Function Definition**: `def compute_vpd(T, RH, unit='kPa'):`\n",
    "   This line defines the function with the name `compute_vpd`, which takes two parameters, `T` for temperature and `RH` for relative humidity. The function also includes an optional argument `unit=` that has a default value of `kPa`.\n",
    "\n",
    "2. **Docstring**: \n",
    "\n",
    "    ```python\n",
    "    \"\"\"\n",
    "    Function that computes the air vapor pressure deficit (vpd).\n",
    "\n",
    "    Parameters:\n",
    "    T (integer, float): Air temperature in degrees Celsius.\n",
    "    RH (integer, float): Air relative humidity in percentage.\n",
    "    unit (string): Unit of the output vpd value. \n",
    "                    One of the following: kPa (default), bars, psi\n",
    "\n",
    "    Returns:\n",
    "    float: Vapor pressure deficit in kiloPascals (kPa).\n",
    "\n",
    "    Authors:\n",
    "    Andres Patrignani\n",
    "\n",
    "    Date created:\n",
    "    6 January 2024\n",
    "\n",
    "    Reference:\n",
    "    Campbell, G. S., & Norman, J. M. (2000).\n",
    "    An introduction to environmental biophysics. Springer Science & Business Media.\n",
    "    \"\"\"\n",
    "    ```\n",
    "   The triple-quoted string right after the function definition is the docstring. It provides a brief description of the function, its parameters, their data types, and what the function returns.\n",
    "\n",
    "3. **Saturation Vapor Pressure Calculation**:\n",
    "\n",
    "    ```python\n",
    "    e_sat = 0.611 * np.exp((17.502*T) / (T + 240.97))  # kPa\n",
    "    ```\n",
    "   This line of code calculates the saturation vapor pressure (`e_sat`) using air temperature `T`. It's a mathematical expression that uses the `exp` function from the NumPy library (`np`), which should be imported at the beginning of the script.\n",
    "\n",
    "4. **Actual Vapor Pressure Calculation**: \n",
    "\n",
    "    ```python\n",
    "    e_act = e_sat * RH/100  # kPa\n",
    "    ```\n",
    "   This line calculates the actual vapor pressure (`e_act`) based on the saturation vapor pressure and the relative humidity `RH` of air.\n",
    "\n",
    "5. **Vapor Pressure Deficit Calculation**: \n",
    "\n",
    "    ```python\n",
    "    vpd = e_sat - e_act  # kPa\n",
    "    ```\n",
    "   Here, the vapor pressure deficit (`vpd`) is computed by subtracting the actual vapor pressure from the saturation vapor pressure.\n",
    "\n",
    "6. **Unit conversion**:\n",
    "\n",
    "    ```python\n",
    "    # Change units if necessary\n",
    "    if unit == 'bars':\n",
    "        vpd = vpd * 0.01\n",
    "\n",
    "    elif unit == 'psi':\n",
    "        vpd = vpd * 0.1450377377 # Convert to pounds per square inch (psi)\n",
    "    ```\n",
    "    In this step we change the units of the resulting `vpd` before returning the output. Note that since the value of `vpd` using the equations in the function is already in `kPa`, so there is no need to handle this scenario in the `if` statement.\n",
    "    \n",
    "6. **Return Statement**: \n",
    "\n",
    "   ```python\n",
    "   return vpd\n",
    "   ```\n",
    "   The `return` statement sends back the result of the function (`vpd`) to wherever the function was called.\n"
   ]
  },
  {
   "cell_type": "raw",
   "metadata": {},
   "source": [
    "::: {.callout-note}\n",
    "## Note\n",
    "\n",
    "In Python functions, you can use optional parameters with default values for flexibility, placing them after mandatory parameters in the function's definition.\n",
    ":::"
   ]
  },
  {
   "cell_type": "markdown",
   "metadata": {},
   "source": [
    "### Call function\n",
    "\n",
    "Having named our function and defined its inputs, we can now invoke the function without duplicating the code."
   ]
  },
  {
   "cell_type": "code",
   "execution_count": 12,
   "metadata": {},
   "outputs": [
    {
     "name": "stdout",
     "output_type": "stream",
     "text": [
      "The vapor pressure deficit is 0.79 kPa\n"
     ]
    }
   ],
   "source": [
    "# Define input variables\n",
    "T = 25 # degrees Celsius\n",
    "RH = 75 # percentage\n",
    "\n",
    "# Call the function (without using the optional argument)\n",
    "vpd = compute_vpd(T, RH)\n",
    "\n",
    "# Display variable value\n",
    "print(f'The vapor pressure deficit is {vpd:.2f} kPa')\n"
   ]
  },
  {
   "cell_type": "code",
   "execution_count": 13,
   "metadata": {},
   "outputs": [
    {
     "name": "stdout",
     "output_type": "stream",
     "text": [
      "The vapor pressure deficit is 0.008 bars\n"
     ]
    }
   ],
   "source": [
    "# Call the function using the optional argument to specify the unit in `bars`\n",
    "vpd = compute_vpd(T, RH, unit='bars')\n",
    "\n",
    "# Display variable value\n",
    "print(f'The vapor pressure deficit is {vpd:.3f} bars')\n"
   ]
  },
  {
   "cell_type": "code",
   "execution_count": 14,
   "metadata": {},
   "outputs": [
    {
     "name": "stdout",
     "output_type": "stream",
     "text": [
      "The vapor pressure deficit is 0.115 psi\n"
     ]
    }
   ],
   "source": [
    "# Call the function using the optional argument to specify the unit in `psi`\n",
    "vpd = compute_vpd(T, RH, unit='psi')\n",
    "\n",
    "# Display variable value\n",
    "print(f'The vapor pressure deficit is {vpd:.3f} psi')"
   ]
  },
  {
   "cell_type": "raw",
   "metadata": {},
   "source": [
    "::: {.callout-important}\n",
    "## Important\n",
    "\n",
    "In Python, the sequence in which you pass input arguments into a function is critical because the function expects them in the order they were defined. If you call `compute_vpd` with the inputs in the wrong order, like `compute_vpd(RH, T)`, the function will still execute, but it will use relative humidity (`RH`) as temperature and temperature (`T`) as humidity, leading to incorrect results. To ensure accuracy, you must match the order to the function's definition: `compute_vpd(T, RH)`.\n",
    ":::"
   ]
  },
  {
   "cell_type": "markdown",
   "metadata": {},
   "source": [
    "### Evaluate function performance\n",
    "\n",
    "Code performance in terms of execution time directly impacts the data analysis and visualization experience. The `perf_counter()` method within the `time` module provides a high-resolution timer that can be used to track the execution time of your code, offering a precise measure of performance. By recording the time immediately before and after a block of code runs, and then calculating the difference, `perf_counter()` helps you understand how long your code takes to execute. This is particularly useful for optimizing code and identifying bottlenecks in your Python programs. However, it is important to balance performance with the principle that premature optimization in the early stages of a project is often counterproductive. Optimization should come at a later stage when the code is correct and its performance bottlenecks are clearly identified.\n"
   ]
  },
  {
   "cell_type": "code",
   "execution_count": 15,
   "metadata": {},
   "outputs": [
    {
     "name": "stdout",
     "output_type": "stream",
     "text": [
      "Elapsed time: 7.727195043116808e-05 seconds\n"
     ]
    }
   ],
   "source": [
    "# Import time module\n",
    "import time\n",
    "\n",
    "# Get initial time\n",
    "tic = time.perf_counter() \n",
    "\n",
    "vpd = compute_vpd(T, RH, unit='bars')\n",
    "\n",
    "# Get final time\n",
    "toc = time.perf_counter() \n",
    "\n",
    "# Compute elapsed time\n",
    "elapsed_time = toc - tic\n",
    "print(\"Elapsed time:\", elapsed_time, \"seconds\")"
   ]
  },
  {
   "cell_type": "markdown",
   "metadata": {},
   "source": [
    "### Access function help (the docstring)"
   ]
  },
  {
   "cell_type": "code",
   "execution_count": 6,
   "metadata": {},
   "outputs": [
    {
     "data": {
      "text/plain": [
       "\u001b[0;31mSignature:\u001b[0m \u001b[0mcompute_vpd\u001b[0m\u001b[0;34m(\u001b[0m\u001b[0mT\u001b[0m\u001b[0;34m,\u001b[0m \u001b[0mRH\u001b[0m\u001b[0;34m,\u001b[0m \u001b[0munit\u001b[0m\u001b[0;34m=\u001b[0m\u001b[0;34m'kPa'\u001b[0m\u001b[0;34m)\u001b[0m\u001b[0;34m\u001b[0m\u001b[0;34m\u001b[0m\u001b[0m\n",
       "\u001b[0;31mDocstring:\u001b[0m\n",
       "Function that computes the air vapor pressure deficit (vpd).\n",
       "\n",
       "Parameters:\n",
       "T (integer, float): Air temperature in degrees Celsius.\n",
       "RH (integer, float): Air relative humidity in percentage.\n",
       "unit (string): Unit of the output vpd value. \n",
       "                One of the following: kPa (default), bars, psi\n",
       "\n",
       "Returns:\n",
       "float: Vapor pressure deficit in kiloPascals (kPa).\n",
       "\n",
       "Authors:\n",
       "Andres Patrignani\n",
       "\n",
       "Date created:\n",
       "6 January 2024\n",
       "\n",
       "Reference:\n",
       "Campbell, G. S., & Norman, J. M. (2000).\n",
       "An introduction to environmental biophysics. Springer Science & Business Media.\n",
       "\u001b[0;31mFile:\u001b[0m      /var/folders/w1/cgh8d8y962g9c6p4_dxgbn2jh5jy11/T/ipykernel_40431/2839097177.py\n",
       "\u001b[0;31mType:\u001b[0m      function"
      ]
     },
     "metadata": {},
     "output_type": "display_data"
    }
   ],
   "source": [
    "compute_vpd?"
   ]
  },
  {
   "cell_type": "markdown",
   "metadata": {},
   "source": [
    "## Function variable scope\n",
    "\n",
    "One aspect of Python functions that we did not cover is variable scope. In Python, variables defined inside a function are local to that function and can't be accessed from outside of it, while variables defined outside of functions are global and can be accessed from anywhere in the script. It's like having a conversation in a private room (function) versus a public area (global scope).\n",
    "\n",
    "To prevent confusion, it's best to follow good naming conventions for variables in your scripts. However, in extensive scripts with numerous functions—both written by you and imported from other modules—tracking every variable name can be challenging. This is where the local variable scope of Python functions comes to rescue, ensuring that variables within a function don't interfere with those outside.\n",
    "\n",
    "Below are a few examples to practice and consider.\n"
   ]
  },
  {
   "cell_type": "code",
   "execution_count": 7,
   "metadata": {
    "tags": []
   },
   "outputs": [
    {
     "name": "stdout",
     "output_type": "stream",
     "text": [
      "1\n"
     ]
    }
   ],
   "source": [
    "# Example: Access a global variable from inside of a function\n",
    "variable_outside = 1 # Accessible from anywhere in the script\n",
    "\n",
    "def my_function():\n",
    "    variable_inside = 2 # Only accessible within this function (it's not being used for anything in this case)\n",
    "    print(variable_outside)\n",
    "    \n",
    "# Invoke the function\n",
    "my_function()\n"
   ]
  },
  {
   "cell_type": "code",
   "execution_count": 8,
   "metadata": {
    "tags": []
   },
   "outputs": [
    {
     "ename": "UnboundLocalError",
     "evalue": "local variable 'variable_outside' referenced before assignment",
     "output_type": "error",
     "traceback": [
      "\u001b[0;31m---------------------------------------------------------------------------\u001b[0m",
      "\u001b[0;31mUnboundLocalError\u001b[0m                         Traceback (most recent call last)",
      "Cell \u001b[0;32mIn[8], line 10\u001b[0m\n\u001b[1;32m      7\u001b[0m     \u001b[38;5;28mprint\u001b[39m(variable_outside)\n\u001b[1;32m      9\u001b[0m \u001b[38;5;66;03m# Invoke the function\u001b[39;00m\n\u001b[0;32m---> 10\u001b[0m \u001b[43mmy_function\u001b[49m\u001b[43m(\u001b[49m\u001b[43m)\u001b[49m\n",
      "Cell \u001b[0;32mIn[8], line 6\u001b[0m, in \u001b[0;36mmy_function\u001b[0;34m()\u001b[0m\n\u001b[1;32m      5\u001b[0m \u001b[38;5;28;01mdef\u001b[39;00m \u001b[38;5;21mmy_function\u001b[39m():\n\u001b[0;32m----> 6\u001b[0m     variable_outside \u001b[38;5;241m+\u001b[39m\u001b[38;5;241m=\u001b[39m \u001b[38;5;241m5\u001b[39m \u001b[38;5;66;03m# If you mute this line with a comment `#`, it works fine.\u001b[39;00m\n\u001b[1;32m      7\u001b[0m     \u001b[38;5;28mprint\u001b[39m(variable_outside)\n",
      "\u001b[0;31mUnboundLocalError\u001b[0m: local variable 'variable_outside' referenced before assignment"
     ]
    }
   ],
   "source": [
    "# Example: Modify global variable from inside of a function (will not work)\n",
    "# See next example for a working solution\n",
    "variable_outside = 1 # Accessible from anywhere in the script\n",
    "\n",
    "def my_function():\n",
    "    variable_outside += 5 # If you mute this line with a comment `#`, it works fine.\n",
    "    print(variable_outside)\n",
    "    \n",
    "# Invoke the function\n",
    "my_function()\n",
    "\n",
    "# See, Python is allowing us to print `variable_outside`, but as soon as we\n",
    "# request to perform an operation on it, it searches in the local workspace of the function\n",
    "# for a variable called `variable_outside`, but since this variable has not been defined\n",
    "# WITHIN the function, then it throws an error. \n",
    "# This is a good thing, and a safety net to prevent costly mistakes."
   ]
  },
  {
   "cell_type": "code",
   "execution_count": 9,
   "metadata": {
    "tags": []
   },
   "outputs": [
    {
     "name": "stdout",
     "output_type": "stream",
     "text": [
      "6\n",
      "6\n"
     ]
    }
   ],
   "source": [
    "# Example: Modify global variables inside of a function\n",
    "# This is an advance feature that I would advice against when learning how to code\n",
    "\n",
    "variable_outside = 1 # Accessible from anywhere in the script\n",
    "\n",
    "def my_function():\n",
    "    global variable_outside # We tell Python to use the variable defined outside in the next line\n",
    "    \n",
    "    variable_outside += 5 # If you mute this line with a comment `#`, it works fine.\n",
    "    print(variable_outside)\n",
    "    \n",
    "# Invoke the function\n",
    "my_function() # The function changes the value of the variable_outside\n",
    "\n",
    "# Print the value of the variable\n",
    "print(variable_outside) # Same value as before since we changed it inside the function"
   ]
  },
  {
   "cell_type": "code",
   "execution_count": 10,
   "metadata": {
    "tags": []
   },
   "outputs": [
    {
     "name": "stdout",
     "output_type": "stream",
     "text": [
      "6\n",
      "1\n"
     ]
    }
   ],
   "source": [
    "# Example: A global and a local variable with the same name\n",
    "\n",
    "variable_outside = 1 # Accessible from anywhere in the script\n",
    "\n",
    "def my_function():\n",
    "    variable_outside = 1 # A different variable with the same name. Only available inside the function\n",
    "    variable_outside += 5 # We are changing the value in the previous line, not the one defined outside\n",
    "    print(variable_outside)\n",
    "    \n",
    "# Invoke the function\n",
    "my_function() # This prints the variable inside the function\n",
    "\n",
    "# This prints the variable we defined at the top, which remains unchanged\n",
    "print(variable_outside)"
   ]
  },
  {
   "cell_type": "markdown",
   "metadata": {},
   "source": [
    "## Python handy functions: map, filter, and reduce\n"
   ]
  },
  {
   "cell_type": "markdown",
   "metadata": {},
   "source": [
    "### map\n",
    "**Description**: Applies a given function to each item of an iterable (like a list) and returns a map object.\n",
    "**Use-case**: Transforming data elements in a collection.\n"
   ]
  },
  {
   "cell_type": "code",
   "execution_count": 16,
   "metadata": {},
   "outputs": [
    {
     "name": "stdout",
     "output_type": "stream",
     "text": [
      "[32.0, 50.0, 68.0, 212.0]\n"
     ]
    }
   ],
   "source": [
    "celsius = [0,10,20,100]\n",
    "fahrenheit = list(map(lambda x: (x*9/5)+32, celsius))\n",
    "print(fahrenheit)\n"
   ]
  },
  {
   "cell_type": "code",
   "execution_count": 17,
   "metadata": {},
   "outputs": [
    {
     "name": "stdout",
     "output_type": "stream",
     "text": [
      "UAAGCCCGUUUAUACG\n"
     ]
    }
   ],
   "source": [
    "# Convert a DNA sequence into RNA\n",
    "# Remember that RNA contains uracil instead of thymine \n",
    "dna = 'ATTCGGGCAAATATGC'\n",
    "lookup = dict({\"A\":\"U\", \"T\":\"A\", \"C\":\"G\", \"G\":\"C\"})\n",
    "rna = list(map(lambda x: lookup[x], dna))\n",
    "print(''.join(rna))\n"
   ]
  },
  {
   "cell_type": "markdown",
   "metadata": {},
   "source": [
    "### filter\n",
    "\n",
    "**Description**: Filters elements of an iterable based on a function that tests each element.\n",
    "**Use-case**: Selecting elements that meet specific criteria.\n"
   ]
  },
  {
   "cell_type": "code",
   "execution_count": 55,
   "metadata": {},
   "outputs": [
    {
     "data": {
      "text/plain": [
       "['A', 'A', 'A', 'A', 'A']"
      ]
     },
     "execution_count": 55,
     "metadata": {},
     "output_type": "execute_result"
    }
   ],
   "source": [
    "# Get the occurrence of all adenine nucleotides\n",
    "dna = 'ATTCGGGCAAATATGC'\n",
    "list(filter(lambda x: x == \"A\", dna))\n"
   ]
  },
  {
   "cell_type": "code",
   "execution_count": 20,
   "metadata": {},
   "outputs": [
    {
     "name": "stdout",
     "output_type": "stream",
     "text": [
      "[1.84]\n"
     ]
    }
   ],
   "source": [
    "# Find compacted soils\n",
    "bulk_densities = [1.01, 1.52, 1.84, 1.45, 1.32]\n",
    "compacted_soils = list(filter(lambda x: x > 1.6, bulk_densities))\n",
    "print(compacted_soils)\n"
   ]
  },
  {
   "cell_type": "code",
   "execution_count": 22,
   "metadata": {},
   "outputs": [
    {
     "data": {
      "text/plain": [
       "[90, 150]"
      ]
     },
     "execution_count": 22,
     "metadata": {},
     "output_type": "execute_result"
    }
   ],
   "source": [
    "# Find hydrophobic soils based on regular function\n",
    "def is_hydrophobic(contact_angle):\n",
    "    \"\"\"\n",
    "    Function that determines whether a soil is hydrophobic\n",
    "    based on its contact angle.\n",
    "    \"\"\"\n",
    "    if contact_angle < 90:\n",
    "        repel = False\n",
    "    elif contact_angle >= 90 and contact_angle <= 180:\n",
    "        repel = True\n",
    "    \n",
    "    return repel\n",
    "\n",
    "contact_angles = [5,10,20,50,90,150]\n",
    "list(filter(is_hydrophobic, contact_angles))\n"
   ]
  },
  {
   "cell_type": "markdown",
   "metadata": {},
   "source": [
    "### reduce\n",
    "\n",
    "**Description**: Applies a function cumulatively to the items of an iterable, reducing the iterable to a single value.\n",
    "**Use-case**: Aggregating data elements."
   ]
  },
  {
   "cell_type": "code",
   "execution_count": 24,
   "metadata": {},
   "outputs": [],
   "source": [
    "from functools import reduce"
   ]
  },
  {
   "cell_type": "code",
   "execution_count": 25,
   "metadata": {},
   "outputs": [
    {
     "name": "stdout",
     "output_type": "stream",
     "text": [
      "6500\n"
     ]
    }
   ],
   "source": [
    "# Compute total yield\n",
    "crop_yields = [1200, 1500, 1800, 2000]\n",
    "total_yield = reduce(lambda x, y: x + y, crop_yields)\n",
    "print(total_yield)"
   ]
  },
  {
   "cell_type": "raw",
   "metadata": {},
   "source": [
    "::: {.callout-note}\n",
    "## Note\n",
    "\n",
    "While the `map`, `filter`, and `reduce` functions are useful in standard Python, the functions are less critical when working with Pandas or NumPy, as these libraries already provide built-in, optimized methods for element-wise operations and data manipulation. Numpy typically surpasses the need for `map`, `filter`, or `reduce` in most scenarios.\n",
    ":::\n"
   ]
  },
  {
   "cell_type": "markdown",
   "metadata": {},
   "source": [
    "## Comparative anatomy of functions\n",
    "\n",
    "##### Python\n",
    "```python\n",
    "def hypotenuse(C1, C2):\n",
    "    H = (C1**2 + C2**2)**0.5\n",
    "    return H\n",
    "\n",
    "hypotenuse(3, 4)\n",
    "```\n",
    "\n",
    "##### Matlab\n",
    "```matlab\n",
    "function H = hypotenuse(C1, C2)\n",
    "    H = sqrt(C1^2 + C2^2);\n",
    "end\n",
    "\n",
    "hypotenuse(3, 4)\n",
    "```\n",
    "\n",
    "##### Julia\n",
    "```julia\n",
    "function hypotenuse(C1, C2)\n",
    "    H = sqrt(C1^2 + C2^2)\n",
    "    return H\n",
    "end\n",
    "\n",
    "hypotenuse(3, 4)\n",
    "```\n",
    "\n",
    "##### R\n",
    "```R\n",
    "hypotenuse <- function(C1, C2) {\n",
    "    H = sqrt(C1^2 + C2^2)\n",
    "    return(H)\n",
    "}\n",
    "\n",
    "hypotenuse(3, 4)\n",
    "```\n",
    "\n",
    "##### JavaScript\n",
    "```javascript\n",
    "function hypotenuse(C1, C2) {\n",
    "    let H = Math.sqrt(C1**2 + C2**2);\n",
    "    return H;\n",
    "}\n",
    "\n",
    "hypotenuse(3, 4);\n",
    "```\n",
    "\n",
    "##### Commonalities among programming languages:\n",
    "- All languages use a keyword (like `function` or `def`) to define a function.\n",
    "- They specify function names and accept parameters within parentheses.\n",
    "- The body of the function is enclosed in a block (using braces `{}` like in JavaScript and R, indentation in the case of Python, or `end` in the case of Julia and Matlab).\n",
    "- Return statements are used to output the result of the function.\n",
    "- Functions are invoked by calling their name followed by arguments in parentheses."
   ]
  },
  {
   "cell_type": "markdown",
   "metadata": {},
   "source": [
    "## Practice\n",
    "\n",
    "1. Create a function that computes the amount of lime required to increase an acidic soil pH. You can find examples in most soil fertility textbooks or extension fact sheets from multiple land-grant universities in the U.S.\n",
    "\n",
    "2. Create a function that determines the amount of nitrogen required by a crop based on the amount of nitrates available at pre-planting, a yield goal for your region, and the amount of nitrogen required to produce the the yield goal.\n",
    "\n",
    "3. Create a function to compute the amount of water storage in the soil profile from inputs of volumetric water content and soil depth.\n",
    "\n",
    "4. Create a function that accepts latitude and longitude coordinates in decimal degrees and returns the latitude and longitude values in [sexagesimal degrees](https://www.wikiwand.com/en/Sexagesimal). The function should accept Lat and Lon values as separate inputs e.g. `fun(lat,lon)` and must return a list of tuples with four components for each coordinate: degrees, minutes, seconds, and quadrant. The quadrant would be North/South for latitude and East/West for longitude. For instance: `fun(19.536111, -155.576111)` should result in `[(19,32,10,'N'),(155,34,34,'W')]`\n"
   ]
  }
 ],
 "metadata": {
  "kernelspec": {
   "display_name": "Python 3 (ipykernel)",
   "language": "python",
   "name": "python3"
  },
  "language_info": {
   "codemirror_mode": {
    "name": "ipython",
    "version": 3
   },
   "file_extension": ".py",
   "mimetype": "text/x-python",
   "name": "python",
   "nbconvert_exporter": "python",
   "pygments_lexer": "ipython3",
   "version": "3.10.9"
  }
 },
 "nbformat": 4,
 "nbformat_minor": 4
}
