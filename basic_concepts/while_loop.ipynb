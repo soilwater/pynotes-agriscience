{
 "cells": [
  {
   "cell_type": "raw",
   "metadata": {},
   "source": [
    "---\n",
    "title: \"While loop\"\n",
    "author: \"Andres Patrignani\"\n",
    "date: \"1/8/2024\"\n",
    "keywords: [\"while loop\", \"iteration\"]\n",
    "---"
   ]
  },
  {
   "cell_type": "markdown",
   "metadata": {},
   "source": [
    "A `while` loop is used to repeatedly execute a block of code as long as a certain condition remains true. Unlike `for` loops, the `while` loop is particularly useful when the number of iterations isn’t predetermined, and you need to keep running the code until a specific condition is met or changes.\n",
    "\n",
    "## Syntax\n",
    "```python\n",
    "while condition:\n",
    "    # Code to execute repeatedly\n",
    "```\n",
    "\n",
    "`condition`: A Boolean expression that determines whether the loop continues.\n"
   ]
  },
  {
   "cell_type": "markdown",
   "metadata": {},
   "source": [
    "Let's look at a trivial example:"
   ]
  },
  {
   "cell_type": "code",
   "execution_count": 54,
   "metadata": {},
   "outputs": [
    {
     "name": "stdout",
     "output_type": "stream",
     "text": [
      "0\n",
      "1\n",
      "2\n"
     ]
    }
   ],
   "source": [
    "A = 0\n",
    "while A < 3:\n",
    "    print(A)\n",
    "    A += 1\n",
    "    "
   ]
  },
  {
   "cell_type": "markdown",
   "metadata": {},
   "source": [
    "This example will only print values 0, 1, and 2. As soon as the third iteration ends, the value of `A` becomes `3`, the condition that `A<3` is no longer true, and the while loop breaks before starting the fourth iteration."
   ]
  },
  {
   "cell_type": "markdown",
   "metadata": {},
   "source": [
    "## Example 1: Irrigation decision\n",
    "\n",
    "In this example we simulate a simple irrigation system that adjusts water application based on the soil moisture level, ensuring that the crop receives adequate water. The system checks the soil moisture level every day and decides whether to irrigate based on the soil moisture level. We assume that evapotranspiration reduces the moisture level daily, and that irrigation increases the soil moisture."
   ]
  },
  {
   "cell_type": "code",
   "execution_count": 2,
   "metadata": {},
   "outputs": [
    {
     "name": "stdout",
     "output_type": "stream",
     "text": [
      "Day 1: Soil moisture is 90%.\n",
      "No irrigation needed today.\n",
      "Day 2: Soil moisture is 85%.\n",
      "No irrigation needed today.\n",
      "Day 3: Soil moisture is 80%.\n",
      "No irrigation needed today.\n",
      "Day 4: Soil moisture is 75%.\n",
      "No irrigation needed today.\n",
      "Day 5: Soil moisture is 70%.\n",
      "No irrigation needed today.\n",
      "Day 6: Soil moisture is 65%.\n",
      "Irrigating...\n",
      "Soil moisture after irrigation is 85%.\n",
      "Day 7: Soil moisture is 80%.\n",
      "No irrigation needed today.\n",
      "Day 8: Soil moisture is 75%.\n",
      "No irrigation needed today.\n",
      "Day 9: Soil moisture is 70%.\n",
      "No irrigation needed today.\n",
      "Day 10: Soil moisture is 65%.\n",
      "Irrigating...\n",
      "Soil moisture after irrigation is 85%.\n"
     ]
    }
   ],
   "source": [
    "soil_moisture = 90 # initial soil moisture (mm)\n",
    "moisture_threshold = 70 # moisture  below which irrigation is needed (mm)\n",
    "irrigation_amount = 20 # irrigation amount (mm)\n",
    "daily_et = 5 # daily evapotranspiration (mm)\n",
    "\n",
    "# Simulate daily check over a 10-day period\n",
    "day = 0\n",
    "while day < 10:\n",
    "    print(f\"Day {day + 1}: Soil moisture is {soil_moisture}%.\")\n",
    "    \n",
    "    # Check if irrigation is needed\n",
    "    if soil_moisture < moisture_threshold:\n",
    "        print(\"Irrigating...\")\n",
    "        soil_moisture += irrigation_amount\n",
    "        print(f\"Soil moisture after irrigation is {soil_moisture}%.\")\n",
    "    else:\n",
    "        print(\"No irrigation needed today.\")\n",
    "    \n",
    "    # Update soil moisture for next day\n",
    "    soil_moisture -= daily_et\n",
    "    day += 1"
   ]
  },
  {
   "cell_type": "markdown",
   "metadata": {},
   "source": [
    "## Example 2: Guess the soil taxonomic order\n",
    "\n",
    "The soil taxonomic orders form the highest category in the soil classification system, each order representing distinct characteristics and soil formation processes. The twelve orders provide a framework for understanding soil properties and their implications for agriculture, environmental management, and land use. [This website](https://www.nrcs.usda.gov/resources/education-and-teaching-materials/the-twelve-orders-of-soil-taxonomy) has great pictures of real soil profiles and additional useful information.\n",
    "\n",
    "It's always fun to play games, but crafting your own is even better. This exercise was written so that you can change the information contained in the `database` dictionary with some other data that sparks your interest. For soil scientists, this is an excellent opportunity to review your knowledge about the soil taxonomy."
   ]
  },
  {
   "cell_type": "code",
   "execution_count": 2,
   "metadata": {},
   "outputs": [
    {
     "name": "stdout",
     "output_type": "stream",
     "text": [
      "Guess the soil taxonomic order! Type 'hint' for a hint.\n",
      "First Hint: Highly weathered, tropical soils.\n"
     ]
    },
    {
     "name": "stdin",
     "output_type": "stream",
     "text": [
      "Your guess:  Oxisols\n"
     ]
    },
    {
     "name": "stdout",
     "output_type": "stream",
     "text": [
      "Correct! It was Oxisols.\n"
     ]
    }
   ],
   "source": [
    "import random\n",
    "\n",
    "# Dictionary of soil orders with a hint\n",
    "database = {\n",
    "    \"Alfisols\": [\"Fertile, with subsurface clay accumulation.\", \"Starts with 'A'\"],\n",
    "    \"Andisols\": [\"Formed from volcanic materials, high in organic matter.\", \"Starts with 'A'\"],\n",
    "    \"Aridisols\": [\"Dry soils, often found in deserts.\", \"Starts with 'A'\"],\n",
    "    \"Entisols\": [\"Young soils with minimal horizon development.\", \"Starts with 'E'\"],\n",
    "    \"Gelisols\": [\"Contain permafrost, found in cold regions.\", \"Starts with 'G'\"],\n",
    "    \"Histosols\": [\"Organic, often water-saturated soils like peat.\", \"Starts with 'H'\"],\n",
    "    \"Inceptisols\": [\"Young, with weak horizon development.\", \"Starts with 'I'\"],\n",
    "    \"Mollisols\": [\"Dark, rich in organic matter, found under grasslands.\", \"Starts with 'M'\"],\n",
    "    \"Oxisols\": [\"Highly weathered, tropical soils.\", \"Starts with 'O'\"],\n",
    "    \"Spodosols\": [\"Acidic, with organic and mineral layers.\", \"Starts with 'S'\"],\n",
    "    \"Ultisols\": [\"Weathered, acidic soils with subsurface clay.\", \"Starts with 'U'\"],\n",
    "    \"Vertisols\": [\"Rich in clay, expand and contract with moisture.\", \"Starts with 'V'\"]\n",
    "}\n",
    "\n",
    "\n",
    "# Select a random soil taxonomic order and its hints\n",
    "# Each item is a list of tuples\n",
    "selection, hints = random.choice(list(database.items()))\n",
    "hints_iter = iter(hints)\n",
    "\n",
    "print(\"Guess the soil taxonomic order! Type 'hint' for a hint.\")\n",
    "\n",
    "# Initial hint\n",
    "print(\"First Hint:\", next(hints_iter))\n",
    "\n",
    "# While loop for guessing game\n",
    "while True:\n",
    "    guess = input(\"Your guess: \").strip().lower()\n",
    "\n",
    "    if guess == selection.lower():\n",
    "        print(f\"Correct! It was {selection}.\")\n",
    "        break\n",
    "        \n",
    "    elif guess == \"hint\":\n",
    "        try:\n",
    "            print(\"Hint:\", next(hints_iter))\n",
    "        except StopIteration:\n",
    "            print(\"No more hints. Please make a guess.\")\n",
    "    else:\n",
    "        print(\"Incorrect, try again or type 'hint' for another hint.\")\n"
   ]
  },
  {
   "cell_type": "markdown",
   "metadata": {},
   "source": [
    "### Explanation\n",
    "\n",
    "The `iter()` function is used to create an iterator from an iterable object, like a list or a dictionary. Once you have an iterator, you can use the `next()` function to sequentially access elements from the iterator. Each call to `next()` retrieves the next element in the sequence. When `next()` reaches the end of the sequence and there are no more elements to return, it raises a `StopIteration` exception. This combination of a loop and `iter()` allows for a controlled iteration process, especially useful in situations where you need to process elements one at a time.\n",
    "\n",
    "The `strip()` method removes any leading and trailing whitespace (like spaces, tabs, or new lines) from the input string. This is helpful to ensure that extra spaces do not affect the comparison of the user's guess to the correct answer. \n",
    "\n",
    "The `lower()` method then converts the string to lowercase. This ensures that the comparison is case-insensitive, meaning that \"Oxisols\", \"oxisols\", and \"OXISOLS\" are all treated as the same guess."
   ]
  },
  {
   "cell_type": "markdown",
   "metadata": {},
   "source": [
    "## References\n",
    "\n",
    "- The twelve orders of soil taxonomy. United States Department of Agriculture website: https://www.nrcs.usda.gov/resources/education-and-teaching-materials/the-twelve-orders-of-soil-taxonomy. Accessed on 8 January 2024"
   ]
  }
 ],
 "metadata": {
  "kernelspec": {
   "display_name": "Python 3 (ipykernel)",
   "language": "python",
   "name": "python3"
  },
  "language_info": {
   "codemirror_mode": {
    "name": "ipython",
    "version": 3
   },
   "file_extension": ".py",
   "mimetype": "text/x-python",
   "name": "python",
   "nbconvert_exporter": "python",
   "pygments_lexer": "ipython3",
   "version": "3.10.9"
  }
 },
 "nbformat": 4,
 "nbformat_minor": 4
}
