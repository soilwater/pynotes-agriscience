{
 "cells": [
  {
   "cell_type": "raw",
   "metadata": {},
   "source": [
    "---\n",
    "title: \"Indexing and slicing\"\n",
    "author: \"Andres Patrignani\"\n",
    "date: \"1/5/2024\"\n",
    "keywords: [\"indexing\", \"slicing\", \"access data\", \"arrays\"]\n",
    "---"
   ]
  },
  {
   "cell_type": "markdown",
   "metadata": {},
   "source": [
    "Indexing and slicing are fundamental concepts used to retrieve and modify data within sequences like strings, lists, and arrays. Python uses zero-based indexing, meaning that the first element of any sequence is accessed with index 0, not 1. **Indexing** allows you to access individual elements, while **slicing** lets you access a subset, or a slice, of a sequence.\n"
   ]
  },
  {
   "cell_type": "raw",
   "metadata": {},
   "source": [
    "::: {.callout-note}\n",
    "## Note\n",
    "0-based indexing offers some practical advantages in terms of memory management and algorithmic efficiency. This indexing system simplifies pointer arithmetic, as the index corresponds directly to the offset from the base address in memory. With 1-based indexing, an extra subtraction is needed. There is also a historical reason due to the influence of earlier programming languages, like C, that were also 0-based indexing. \n",
    ":::"
   ]
  },
  {
   "cell_type": "markdown",
   "metadata": {},
   "source": [
    "## Syntax for indexing and slicing one-dimensional arrays\n",
    "\n",
    "```python\n",
    "# Indexing a one-dimensional array\n",
    "element = array[index]\n",
    "\n",
    "# Slicing a one-dimensional array\n",
    "sub_array = array[start_index:end_index:step]\n",
    "```\n",
    "\n",
    "Omitting `start_index` (e.g., `array[:end_index])` slices from the beginning to `end_index`.\n",
    "\n",
    "Omitting `end_index` (e.g., `array[start_index:])` slices from `start_index` to the end of the array."
   ]
  },
  {
   "cell_type": "code",
   "execution_count": 5,
   "metadata": {},
   "outputs": [
    {
     "name": "stdout",
     "output_type": "stream",
     "text": [
      "[0, 1, 2, 3, 4, 5, 6, 7, 8, 9]\n",
      "0\n",
      "[0, 1]\n",
      "[7, 8, 9]\n",
      "[0, 1, 2, 3, 4, 5, 6, 7, 8, 9]\n",
      "[0, 2, 4, 6, 8]\n",
      "[0, 2, 4, 6, 8]\n",
      "[0, 1, 2]\n",
      "[4, 5, 6, 7, 8]\n",
      "9\n",
      "9\n"
     ]
    }
   ],
   "source": [
    "# Generate intengers from 0 to the specified number (non-inclusive)\n",
    "numbers = list(range(10)) \n",
    "print(numbers)\n",
    "\n",
    "# Find the first element of the list (indexing operation)\n",
    "print(numbers[0])\n",
    "\n",
    "# First and second element\n",
    "print(numbers[0:2])  \n",
    "\n",
    "# Print last three elements\n",
    "print(numbers[-3:]) \n",
    "\n",
    "# All elements (from 0 and on)\n",
    "print(numbers[0:])\n",
    "\n",
    "# Every other element (specifying the total number of element)\n",
    "print(numbers[0:10:2]) \n",
    "\n",
    "# Every other element (without specifying the total number of elements)\n",
    "print(numbers[0:-1:2])\n",
    "\n",
    "# Print the first 3 elements\n",
    "print(numbers[:3])\n",
    "\n",
    "# Slice from the 4th to the next-to-last element\n",
    "print(numbers[4:-1]) \n",
    "\n",
    "# Print the last item of the list\n",
    "print(numbers[-1])\n",
    "print(numbers[len(numbers)-1])\n"
   ]
  },
  {
   "cell_type": "markdown",
   "metadata": {},
   "source": [
    "## Syntax for indexing and slicing two-dimensional arrays\n",
    "\n",
    "```python\n",
    "# Indexing a two-dimensional array\n",
    "element = array[row_index][column_index]\n",
    "\n",
    "# Slicing a two-dimensional array (with step)\n",
    "sub_array = array[row_start:row_end:row_step, column_start:column_end:column_step]\n",
    "```\n",
    "\n",
    "Omitting `row_start` (e.g., `array[:row_end, :]`) slices from the beginning to `row_end` in all columns. Here \"all columns\" is represented by the `:` operator. Similarly you can use `:` to represent all rows.\n",
    "\n",
    "Omitting `row_end` (e.g., `array[row_start:, :]`) slices from `row_start` to the end in all columns."
   ]
  },
  {
   "cell_type": "code",
   "execution_count": 6,
   "metadata": {},
   "outputs": [
    {
     "name": "stdout",
     "output_type": "stream",
     "text": [
      "[[5 0 3 3 7]\n",
      " [9 3 5 2 4]\n",
      " [7 6 8 8 1]\n",
      " [6 7 7 8 1]\n",
      " [5 9 8 9 4]]\n"
     ]
    }
   ],
   "source": [
    "import numpy as np\n",
    "\n",
    "# Indexing and slicing a two-dimensional array\n",
    "np.random.seed(0)\n",
    "M = np.random.randint(0,10,[5,5])\n",
    "print(M)\n",
    "\n",
    "# Write five python commands to obtain:\n",
    "# top row\n",
    "# bottom row\n",
    "# right-most column\n",
    "# left-most column\n",
    "# upper-right 3x3 matrix\n"
   ]
  },
  {
   "cell_type": "code",
   "execution_count": 7,
   "metadata": {},
   "outputs": [
    {
     "name": "stdout",
     "output_type": "stream",
     "text": [
      "Top row\n",
      "[5 0 3 3 7]\n",
      "[5 0 3 3 7]\n",
      "[5 0 3 3 7]\n",
      "\n",
      "Bottom row\n",
      "[5 9 8 9 4]\n",
      "[5 9 8 9 4]\n",
      "[5 9 8 9 4]\n",
      "\n",
      "Right-most column\n",
      "[7 4 1 1 4]\n",
      "\n",
      "Left-most column\n",
      "[5 9 7 6 5]\n",
      "\n",
      "Upper 3x3 matrix\n",
      "[[3 3 7]\n",
      " [5 2 4]\n",
      " [8 8 1]]\n",
      "[[3 3 7]\n",
      " [5 2 4]\n",
      " [8 8 1]]\n"
     ]
    }
   ],
   "source": [
    "# Solutions\n",
    "\n",
    "# Top row\n",
    "print('Top row')\n",
    "print(M[0,:]) # Preferred\n",
    "print(M[:1][0])\n",
    "print(M[0])\n",
    "print('')\n",
    "\n",
    "# Bottom row\n",
    "print('Bottom row')\n",
    "print(M[-1,:]) # Preferred\n",
    "print(M[-1])\n",
    "print(M[4,:]) # Requires knowing size of array in advance\n",
    "print('')\n",
    "\n",
    "# Right-most column\n",
    "print('Right-most column')\n",
    "print(M[:,-1])\n",
    "print('')\n",
    "\n",
    "# Left-most column\n",
    "print('Left-most column')\n",
    "print(M[:,0])\n",
    "print('')\n",
    "\n",
    "# Upper-right 3x3 matrix\n",
    "print('Upper 3x3 matrix')\n",
    "print(M[0:3,M.shape[1]-3:M.shape[1]])  # More versatile\n",
    "print(M[0:3,2:M.shape[1]])\n"
   ]
  },
  {
   "cell_type": "markdown",
   "metadata": {},
   "source": [
    "## References\n",
    "\n",
    "Source: https://stackoverflow.com/questions/509211/understanding-slice-notation\n"
   ]
  }
 ],
 "metadata": {
  "kernelspec": {
   "display_name": "Python 3 (ipykernel)",
   "language": "python",
   "name": "python3"
  },
  "language_info": {
   "codemirror_mode": {
    "name": "ipython",
    "version": 3
   },
   "file_extension": ".py",
   "mimetype": "text/x-python",
   "name": "python",
   "nbconvert_exporter": "python",
   "pygments_lexer": "ipython3",
   "version": "3.10.9"
  }
 },
 "nbformat": 4,
 "nbformat_minor": 4
}
