{
 "cells": [
  {
   "cell_type": "raw",
   "id": "1e38e787-bd60-47c3-b516-1e50b0fd483b",
   "metadata": {},
   "source": [
    "---\n",
    "title: \"Working with dates and times\"\n",
    "author: \"Andres Patrignani\"\n",
    "date: \"1/10/2024\"\n",
    "keywords: [\"dates\", \"times\", \"timestamps\"]\n",
    "---"
   ]
  },
  {
   "cell_type": "markdown",
   "id": "5c7d6270-d9a9-4a8c-a88a-78e149bf3206",
   "metadata": {},
   "source": [
    "Common tasks in crop and soil sciences usually require dealing with temporal information in the form of timestamps. Whether is the date a soil sample was collected, the day a crop was planted, or the timestamps recorded by dataloggers monitoring the weather, working with dates and times is a ubiquitous task in agronomy and related fields. \n",
    "\n",
    "Python's `datetime` module is an excellent and versatile tool for handling dates and times. Here, we'll explore its syntax and functionality with practical examples.\n",
    "\n",
    "### List of shorthands to represent date and time components\n",
    "`%d` = two-digit day </br>\n",
    "`%m` = two-digit month </br>\n",
    "`%Y` = two-digit year </br>\n",
    "`%H` = two-digit hour </br>\n",
    "`%M` = two-digit minute </br>\n",
    "`%S` = two-digit second </br>\n",
    "`%b` = three-letter month </br>\n",
    "`%a` = Three-letter day of the week </br>\n",
    "`%A` = Full day of the week </br>"
   ]
  },
  {
   "cell_type": "code",
   "execution_count": 3,
   "id": "23907d72-99b8-4206-9840-979d89467628",
   "metadata": {},
   "outputs": [],
   "source": [
    "# Import module\n",
    "from datetime import datetime, timedelta\n"
   ]
  },
  {
   "cell_type": "markdown",
   "id": "a9ff5e2f-dc69-4b83-9a22-09e8d3543568",
   "metadata": {},
   "source": [
    "## Basic `datetime` Syntax\n"
   ]
  },
  {
   "cell_type": "code",
   "execution_count": 5,
   "id": "921302b5-a6be-4dd6-9e3d-118a266622ba",
   "metadata": {},
   "outputs": [
    {
     "name": "stdout",
     "output_type": "stream",
     "text": [
      "<class 'datetime.datetime'>\n",
      "Current Date and Time: 2024-01-12 16:56:03.399852\n",
      "Planting Date and Time: 2022-04-15 08:30:00\n",
      "Harvest Date: 2022-09-15 14:00:00\n",
      "Harvest Date: Thursday, September 15, 2022\n"
     ]
    }
   ],
   "source": [
    "# Current date and time\n",
    "now = datetime.now()\n",
    "print(type(now)) # show data type\n",
    "print(\"Current Date and Time:\", now)\n",
    "\n",
    "# Specific date and time\n",
    "planting_date = datetime(2022, 4, 15, 8, 30)\n",
    "print(\"Planting Date and Time:\", planting_date.strftime('%Y-%m-%d %H:%M:%S'))\n",
    "\n",
    "# Parsing String to Datetime\n",
    "harvest_date = datetime.strptime(\"2022-09-15 14:00:00\", '%Y-%m-%d %H:%M:%S')\n",
    "print(\"Harvest Date:\", harvest_date)\n",
    "\n",
    "# We can also add custom datetime format in f-strings\n",
    "print(f\"Harvest Date: {harvest_date:%A, %B %d, %Y}\")"
   ]
  },
  {
   "cell_type": "markdown",
   "id": "2f63b1be-6cd7-4ae3-9e41-1799b93a65c6",
   "metadata": {},
   "source": [
    "## Working with `timedelta`"
   ]
  },
  {
   "cell_type": "code",
   "execution_count": 14,
   "id": "796bbbd2-5b55-48f2-a468-30f650f5f8dc",
   "metadata": {},
   "outputs": [
    {
     "name": "stdout",
     "output_type": "stream",
     "text": [
      "Days Between Planting and Harvest: 153\n",
      "Total Seconds: 13239000.0\n",
      "Total hours: 3678 hours\n",
      "Crop emergence was on: 2022-04-25 08:30:00\n"
     ]
    }
   ],
   "source": [
    "# Difference between two dates\n",
    "duration = harvest_date - planting_date\n",
    "print(\"Days Between Planting and Harvest:\", duration.days)\n",
    "\n",
    "# Total seconds of the duration\n",
    "print(\"Total Seconds:\", duration.total_seconds())\n",
    "\n",
    "# Use total seconds to compute number of hours\n",
    "print(\"Total hours:\", round(duration.total_seconds()/3600), 'hours') # 3600 seconds per hour\n",
    "\n",
    "# Adding ten days\n",
    "emergence_date = planting_date + timedelta(days=10)\n",
    "print(\"Crop emergence was on:\", emergence_date)\n"
   ]
  },
  {
   "cell_type": "markdown",
   "id": "7a5426ce-564f-422f-8290-0f62ccff9c84",
   "metadata": {},
   "source": [
    "## Using `Pandas` for datetime operations"
   ]
  },
  {
   "cell_type": "code",
   "execution_count": 15,
   "id": "8bf05ef2-6c10-4a33-baea-42f5e97b58df",
   "metadata": {},
   "outputs": [],
   "source": [
    "# Import module\n",
    "import pandas as pd\n"
   ]
  },
  {
   "cell_type": "code",
   "execution_count": 21,
   "id": "6b776f8f-c504-4c8c-815b-f928e5c86b26",
   "metadata": {},
   "outputs": [
    {
     "data": {
      "text/html": [
       "<div>\n",
       "<style scoped>\n",
       "    .dataframe tbody tr th:only-of-type {\n",
       "        vertical-align: middle;\n",
       "    }\n",
       "\n",
       "    .dataframe tbody tr th {\n",
       "        vertical-align: top;\n",
       "    }\n",
       "\n",
       "    .dataframe thead th {\n",
       "        text-align: right;\n",
       "    }\n",
       "</style>\n",
       "<table border=\"1\" class=\"dataframe\">\n",
       "  <thead>\n",
       "    <tr style=\"text-align: right;\">\n",
       "      <th></th>\n",
       "      <th>planting_dates</th>\n",
       "      <th>harvest_dates</th>\n",
       "      <th>growing_season_length</th>\n",
       "    </tr>\n",
       "  </thead>\n",
       "  <tbody>\n",
       "    <tr>\n",
       "      <th>0</th>\n",
       "      <td>2020-04-15</td>\n",
       "      <td>2020-09-15</td>\n",
       "      <td>153 days</td>\n",
       "    </tr>\n",
       "    <tr>\n",
       "      <th>1</th>\n",
       "      <td>2021-04-25</td>\n",
       "      <td>2021-10-01</td>\n",
       "      <td>159 days</td>\n",
       "    </tr>\n",
       "    <tr>\n",
       "      <th>2</th>\n",
       "      <td>2022-04-07</td>\n",
       "      <td>2022-09-25</td>\n",
       "      <td>171 days</td>\n",
       "    </tr>\n",
       "  </tbody>\n",
       "</table>\n",
       "</div>"
      ],
      "text/plain": [
       "  planting_dates harvest_dates growing_season_length\n",
       "0     2020-04-15    2020-09-15              153 days\n",
       "1     2021-04-25    2021-10-01              159 days\n",
       "2     2022-04-07    2022-09-25              171 days"
      ]
     },
     "execution_count": 21,
     "metadata": {},
     "output_type": "execute_result"
    }
   ],
   "source": [
    "# Create a DataFrame with dates\n",
    "df = pd.DataFrame({\n",
    "    \"planting_dates\": [\"2020-04-15\", \"2021-04-25\", \"2022-04-7\"],\n",
    "    \"harvest_dates\": [\"2020-09-15\", \"2021-10-1\", \"2022-09-25\"]\n",
    "})\n",
    "\n",
    "# Convert string to datetime in Pandas\n",
    "df['planting_dates'] = pd.to_datetime(df['planting_dates'], format='%Y-%m-%d')\n",
    "df['harvest_dates'] = pd.to_datetime(df['harvest_dates'], format='%Y-%m-%d')\n",
    "\n",
    "# Add a timedelta column\n",
    "df['growing_season_length'] = df['harvest_dates'] - df['planting_dates']\n",
    "\n",
    "# Display dataframe\n",
    "df.head()\n"
   ]
  }
 ],
 "metadata": {
  "kernelspec": {
   "display_name": "Python 3 (ipykernel)",
   "language": "python",
   "name": "python3"
  },
  "language_info": {
   "codemirror_mode": {
    "name": "ipython",
    "version": 3
   },
   "file_extension": ".py",
   "mimetype": "text/x-python",
   "name": "python",
   "nbconvert_exporter": "python",
   "pygments_lexer": "ipython3",
   "version": "3.10.9"
  }
 },
 "nbformat": 4,
 "nbformat_minor": 5
}
