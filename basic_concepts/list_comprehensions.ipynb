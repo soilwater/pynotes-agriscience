{
 "cells": [
  {
   "cell_type": "raw",
   "id": "ed0da92d-eec0-4714-8a18-f7d05d2401d9",
   "metadata": {},
   "source": [
    "---\n",
    "title: \"List comprehensions\"\n",
    "author: \"Andres Patrignani\"\n",
    "date: \"1/25/2024\"\n",
    "keywords: [\"autoregression\", \"temperature\", \"time series\"]\n",
    "---"
   ]
  },
  {
   "cell_type": "markdown",
   "id": "171a4202-cfa0-4e29-b931-73f4aba092f9",
   "metadata": {},
   "source": [
    "List comprehensions in Python provide a concise way to create lists. They are used for transforming one list into another, where each element of the new list is the result of some operation applied to each member of the original list. List comprehensions are more compact and faster than using a for-loop to create lists.\n",
    "\n",
    "To make an analogy, list comprehensions are to for loops, what lambda functions are to regular functions. Like lambda functions, list comprehensions offer a shorthand to define a new list. Both list comprehensions and lambda functions are about brevity and simplicity, that otherwise would require more verbose coding with for loops and regular functions."
   ]
  },
  {
   "cell_type": "markdown",
   "id": "76e465a7-4f44-421e-86e0-274a0dafb884",
   "metadata": {},
   "source": [
    "## Example 1: Convert temperature units"
   ]
  },
  {
   "cell_type": "markdown",
   "id": "c96740cf-3e7b-4306-b37a-5e99b0d5ed41",
   "metadata": {},
   "source": [
    "If you have a list of daily average temperatures in Celsius from various farm locations, you can convert them to Fahrenheit using a list comprehension"
   ]
  },
  {
   "cell_type": "code",
   "execution_count": 2,
   "id": "2be50904-5643-49f6-af47-de4ec400f381",
   "metadata": {},
   "outputs": [
    {
     "name": "stdout",
     "output_type": "stream",
     "text": [
      "[71.6, 64.4, 77.0]\n"
     ]
    }
   ],
   "source": [
    "# Convert temperatures\n",
    "celsius = [22, 18, 25]  # Example temperatures in Celsius\n",
    "fahrenheit = [(c * 9/5) + 32 for c in celsius]\n",
    "print(fahrenheit)\n"
   ]
  },
  {
   "cell_type": "markdown",
   "id": "f2d84d5e-e1ab-41c8-88a8-020ef5283216",
   "metadata": {},
   "source": [
    "## Example 2: Conver from lbs/acre to kg/ha\n",
    "\n",
    "Suppose you have a list of crop yields in bushels per acre for a farm. You can easily calculate the yields in kilograms per hectare if you know the conversion factors between units."
   ]
  },
  {
   "cell_type": "code",
   "execution_count": 7,
   "id": "e54a4641-b532-47a9-87b6-a8ba25d18379",
   "metadata": {},
   "outputs": [
    {
     "name": "stdout",
     "output_type": "stream",
     "text": [
      "[7526, 9407, 11289]\n"
     ]
    }
   ],
   "source": [
    "bushels_per_acre = [120, 150, 180]  # Example yields in bushels\n",
    "kg_per_bushel = 25.4  # Conversion factor for corn\n",
    "acres_per_hectare = 0.405\n",
    "\n",
    "kg_per_hectare = [round(yld * kg_per_bushel / acres_per_hectare) for yld in bushels_per_acre]\n",
    "print(kg_per_hectare)"
   ]
  },
  {
   "cell_type": "markdown",
   "id": "a8133009-8623-4f13-b8e2-11fa9006493b",
   "metadata": {},
   "source": [
    "## Example 3: Classify soil pH\n",
    "\n",
    "This example is a bit more advanced and also includes `if` statements."
   ]
  },
  {
   "cell_type": "code",
   "execution_count": 3,
   "id": "a37c6eeb-5290-4ca0-8693-ad878a1c9507",
   "metadata": {},
   "outputs": [
    {
     "name": "stdout",
     "output_type": "stream",
     "text": [
      "['acidic', 'neutral', 'alkaline']\n"
     ]
    }
   ],
   "source": [
    "# Classify soil pH into acidic, neutral, or alkaline.\n",
    "soil_ph = [6.5, 7.0, 8.2] \n",
    "ph_class = ['acidic' if ph < 7 else 'alkaline' if ph > 7 else 'neutral' for ph in soil_ph]\n",
    "print(ph_class)"
   ]
  }
 ],
 "metadata": {
  "kernelspec": {
   "display_name": "Python 3 (ipykernel)",
   "language": "python",
   "name": "python3"
  },
  "language_info": {
   "codemirror_mode": {
    "name": "ipython",
    "version": 3
   },
   "file_extension": ".py",
   "mimetype": "text/x-python",
   "name": "python",
   "nbconvert_exporter": "python",
   "pygments_lexer": "ipython3",
   "version": "3.10.9"
  }
 },
 "nbformat": 4,
 "nbformat_minor": 5
}
