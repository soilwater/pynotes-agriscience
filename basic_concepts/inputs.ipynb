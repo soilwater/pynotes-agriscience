{
 "cells": [
  {
   "cell_type": "raw",
   "metadata": {},
   "source": [
    "---\n",
    "title: \"Inputs\"\n",
    "author: \"Andres Patrignani\"\n",
    "date: \"1/7/2024\"\n",
    "keywords: [\"input\", \"user data\"]\n",
    "---"
   ]
  },
  {
   "cell_type": "markdown",
   "metadata": {},
   "source": [
    "The `input()` function is a straightforward way to receive user input, making Python scripts interactive and adaptable to user-driven data. When `input()` is called, the program pauses and waits for the user to type something into the console. Once the user presses the `Enter` key, the input is read as a string (even if you entered a number). This function is particularly useful for interactive programs where user data is required.\n",
    "\n",
    "To illustrate the `input()` function we will use code from other tutorials in this book to classify soils into saline, sodic, or saline-sodic soils, so that you can see how lessons in data types, functions, and control flow play together to create programs.\n"
   ]
  },
  {
   "cell_type": "code",
   "execution_count": 9,
   "metadata": {},
   "outputs": [
    {
     "name": "stdin",
     "output_type": "stream",
     "text": [
      "Enter location where soil was collected:  Manhattan, KS\n",
      "Enter the soil EC (dS/m):  5.6\n",
      "Enter the soil Na (meq/L:  100\n",
      "Enter the soil Ca (meq/L:  20\n",
      "Enter the soil Mg (meq/L:  10\n"
     ]
    },
    {
     "name": "stdout",
     "output_type": "stream",
     "text": [
      "Soil from Manhattan, KS is Saline-Sodic (EC=5.6 dS/m and SAR=25.8)\n"
     ]
    }
   ],
   "source": [
    "# ----- Request input from user -----\n",
    "soil_location = input(\"Enter location where soil was collected: \") # Manhattan, KS\n",
    "soil_ec = float(input(\"Enter the soil EC (dS/m): \")) # EC = 5.6 dS/m\n",
    "soil_na = float(input(\"Enter the soil Na (meq/L: \")) # Na = 100 meq/L\n",
    "soil_ca = float(input(\"Enter the soil Ca (meq/L: \")) # Ca = 20 meq/L\n",
    "soil_mg = float(input(\"Enter the soil Mg (meq/L: \")) # Mg = 10 meq/L\n",
    "\n",
    "\n",
    "# ----- Define functions -----\n",
    "# Define lambda function to compute SAR\n",
    "calculate_sar = lambda na,ca,mg: na / ((ca+mg) / 2)**0.5\n",
    "\n",
    "# Define regular function for classifying soil based on EC and SAR\n",
    "def classify_soil(ec,sar):\n",
    "    if (ec >= 4.0) and (sar < 13):\n",
    "        classification = \"Saline\"\n",
    "    elif (ec < 4.0) and (sar >= 13):\n",
    "        classification = \"Sodic\"\n",
    "    elif (ec >= 4.0) and (sar >= 13):\n",
    "        classification = \"Saline-Sodic\"\n",
    "    else:\n",
    "        classification = \"Normal\"\n",
    "    return classification\n",
    "\n",
    "\n",
    "# ----- Call functions -----\n",
    "# Compute SAR calling lambd function\n",
    "soil_sar = calculate_sar(soil_na, soil_ca, soil_mg)\n",
    "\n",
    "# Classify soil calling regular function\n",
    "soil_class = classify_soil(soil_ec, soil_sar)\n",
    "\n",
    "\n",
    "# ----- Display results -----\n",
    "# Print soil classification including EC and SAR values\n",
    "print(f'Soil from {soil_location} is {soil_class} (EC={soil_ec:.1f} dS/m and SAR={soil_sar:.1f})')\n"
   ]
  },
  {
   "cell_type": "markdown",
   "metadata": {},
   "source": [
    "## Practice\n",
    "\n",
    "- Create a script that computes the soil bulk density, porosity, gravimetric water content, and volumetric water content given the mass of wet soil, mass of oven-dry soil, and the volume of the soil. Your code should contain a function that includes an optional input parameter for particle density with a default value of 2.65 g/cm^3."
   ]
  }
 ],
 "metadata": {
  "kernelspec": {
   "display_name": "Python 3 (ipykernel)",
   "language": "python",
   "name": "python3"
  },
  "language_info": {
   "codemirror_mode": {
    "name": "ipython",
    "version": 3
   },
   "file_extension": ".py",
   "mimetype": "text/x-python",
   "name": "python",
   "nbconvert_exporter": "python",
   "pygments_lexer": "ipython3",
   "version": "3.10.9"
  }
 },
 "nbformat": 4,
 "nbformat_minor": 4
}
