{
 "cells": [
  {
   "cell_type": "raw",
   "id": "d4e13cec-a144-4cd5-abc8-663f2717f6a9",
   "metadata": {},
   "source": [
    "---\n",
    "title: \"Widgets\"\n",
    "author: \"Andres Patrignani\"\n",
    "date: \"1/9/2024\"\n",
    "keywords: [\"widgets\", \"interactivity\", \"ipywidgets\"]\n",
    "---"
   ]
  },
  {
   "cell_type": "markdown",
   "id": "167d8b88-c8dd-4228-82e5-420615ce5231",
   "metadata": {},
   "source": [
    "Adding interactivity to Jupyter notebooks can be a great way of improving exploratory data analysis and real-time interactive data visualization. The [ipywidgets](https://ipywidgets.readthedocs.io/en/latest/index.html) library provides a powerful toolset for creating interactive widget elements like sliders, dropdowns, and buttons in Jupyter notebooks.\n",
    "\n",
    "The following examples will demonstrate:\n",
    "\n",
    "- the basic syntax to create widgets and set custom parameters\n",
    "- how to define a function that ingests widget values \n",
    "- how to connect the widget and the function\n"
   ]
  },
  {
   "cell_type": "raw",
   "id": "464fb885-74f0-45a0-8f94-a0d0c820650f",
   "metadata": {},
   "source": [
    "::: {.callout-note}\n",
    "## Note\n",
    "\n",
    "The widgets may not appear in the online version of the tutorial. Either copy the code and run it in your local Jupyter notebook or download the notebook from the Github repository.\n",
    ":::"
   ]
  },
  {
   "cell_type": "markdown",
   "id": "8e5feb39-f2ee-4227-8471-c30c7e6c6147",
   "metadata": {},
   "source": [
    "## Example 1: Convert bushels to metric tons\n",
    "\n",
    "A common task in agronomy is to convert grain yields from bushels to metric tons. We will use `ipywidgets` to create interactive dropdowns and slider widgets to facilitate the convertion between these two units for common crops.\n"
   ]
  },
  {
   "cell_type": "code",
   "execution_count": 1,
   "id": "468ff67c-4760-4cec-9970-f62a974acb2c",
   "metadata": {},
   "outputs": [],
   "source": [
    "# Import modules\n",
    "import ipywidgets as widgets\n"
   ]
  },
  {
   "cell_type": "code",
   "execution_count": 2,
   "id": "072a2b0e-7e9e-4fc0-932c-fa5606912566",
   "metadata": {},
   "outputs": [
    {
     "data": {
      "application/vnd.jupyter.widget-view+json": {
       "model_id": "fc33226cc54244acb0ffc0ae9151e65a",
       "version_major": 2,
       "version_minor": 0
      },
      "text/plain": [
       "interactive(children=(Dropdown(description='Crop', index=4, options=('Barley', 'Corn', 'Sorghum', 'Soybeans', …"
      ]
     },
     "metadata": {},
     "output_type": "display_data"
    }
   ],
   "source": [
    "# Define widget\n",
    "crop_dropdown = widgets.Dropdown(options=['Barley','Corn','Sorghum','Soybeans','Wheat'],\n",
    "                                 value='Wheat', description='Crop')\n",
    "bushels_slider = widgets.FloatSlider(value=40, min=0, max=200, step=1,\n",
    "                                    description='Bushels/acre')\n",
    "\n",
    "# Define function\n",
    "def bushels_to_tons(crop, bu):\n",
    "    \"\"\"Function that converts bushels to metric tons for common crops.\n",
    "       Source: https://grains.org/\n",
    "    \"\"\"\n",
    "    # Define constants\n",
    "    lbs_per_ton = 0.453592/1000\n",
    "    acres_per_ha = 2.47105\n",
    "    \n",
    "    # Convert bu -> lbs -> tons\n",
    "    if crop == 'Barley':\n",
    "        tons =  bu * 48 * lbs_per_ton \n",
    "        \n",
    "    elif crop == 'Corn' or crop == 'Sorghum':\n",
    "        tons =  bu * 56 * lbs_per_ton\n",
    "        \n",
    "    elif crop == 'Wheat' or crop == 'Soybeans':\n",
    "        tons = bu * 60 * lbs_per_ton\n",
    "        \n",
    "    # Convert acre -> hectares\n",
    "    tons = round(tons * acres_per_ha, 2)\n",
    "    return widgets.FloatText(value=tons, description='Tons/ha', disabled=True)\n",
    "\n",
    "\n",
    "# Define interactivity\n",
    "widgets.interact(bushels_to_tons, crop=crop_dropdown, bu=bushels_slider);\n"
   ]
  },
  {
   "cell_type": "markdown",
   "id": "1605492d-53fe-462a-b86f-3e9fdf62b139",
   "metadata": {},
   "source": [
    "## Example 2: Runoff-Precipitation\n",
    "\n",
    "Widgets are also a great tool to explore and learn how models representing real-world processes respond to input changes. In this example we will explore how the curve number of a soil is related to the amount of runoff for a range of precipitation amounts."
   ]
  },
  {
   "cell_type": "code",
   "execution_count": 4,
   "id": "ec47111f-d07a-4c63-8fae-ac48997b807d",
   "metadata": {},
   "outputs": [],
   "source": [
    "import ipywidgets as widgets\n",
    "import matplotlib.pyplot as plt\n",
    "import numpy as np\n",
    "plt.style.use('ggplot')"
   ]
  },
  {
   "cell_type": "code",
   "execution_count": 11,
   "id": "06e669f2-1e4f-4111-a71c-3e11dfa766c2",
   "metadata": {},
   "outputs": [
    {
     "data": {
      "application/vnd.jupyter.widget-view+json": {
       "model_id": "cdeb5c05e71b44638f2e2f0ae96355cc",
       "version_major": 2,
       "version_minor": 0
      },
      "text/plain": [
       "interactive(children=(IntSlider(value=50, description='Curve number', min=1), Output()), _dom_classes=('widget…"
      ]
     },
     "metadata": {},
     "output_type": "display_data"
    }
   ],
   "source": [
    "# Create widget\n",
    "cn_slider = widgets.IntSlider(50, min=1, max=100, description='Curve number')\n",
    "\n",
    "# Create function\n",
    "def estimate_runoff(cn):\n",
    "    \"\"\"Function that computes runoff based on the \n",
    "    curve number method proposed by the Soil Conservation Service\n",
    "    Source: https://www.wikiwand.com/en/Runoff_curve_number\n",
    "\n",
    "    Inputs\n",
    "    cn : Curve number. 0 means fully permeable and 100 means fully impervious.\n",
    "    \n",
    "    Returns\n",
    "    Figure of runoff as a function of precipitation\n",
    "    \"\"\"\n",
    "\n",
    "    P = np.arange(0, 12, step=0.01) # Precipitation in inches\n",
    "    RO = np.zeros_like(P)\n",
    "    S = 1000/cn - 10\n",
    "    Ia = S * 0.05 # Initial abstraction (inches)\n",
    "    idx = P > Ia\n",
    "    RO[idx] = (P[idx] - Ia)**2 / (P[idx] - Ia + S)\n",
    "\n",
    "    # Create figure\n",
    "    plt.figure(figsize=(6,4))\n",
    "    plt.plot(P,RO,'--k')\n",
    "    plt.title('Curve Number Method')\n",
    "    plt.xlabel('Precipitation (inches)')\n",
    "    plt.ylabel('Runoff (inches)')\n",
    "    plt.xlim([0,12])\n",
    "    plt.ylim([0,12])\n",
    "    return plt.show()\n",
    "\n",
    "# Define interactivity\n",
    "widgets.interact(estimate_runoff, cn=cn_slider);\n"
   ]
  },
  {
   "cell_type": "code",
   "execution_count": null,
   "id": "5d35d906-9df4-420f-a314-3cbd381edfa7",
   "metadata": {},
   "outputs": [],
   "source": []
  }
 ],
 "metadata": {
  "kernelspec": {
   "display_name": "Python 3 (ipykernel)",
   "language": "python",
   "name": "python3"
  },
  "language_info": {
   "codemirror_mode": {
    "name": "ipython",
    "version": 3
   },
   "file_extension": ".py",
   "mimetype": "text/x-python",
   "name": "python",
   "nbconvert_exporter": "python",
   "pygments_lexer": "ipython3",
   "version": "3.10.9"
  }
 },
 "nbformat": 4,
 "nbformat_minor": 5
}
