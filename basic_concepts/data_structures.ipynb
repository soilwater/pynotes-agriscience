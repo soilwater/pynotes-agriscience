{
 "cells": [
  {
   "cell_type": "raw",
   "id": "ca104c46-15d7-4786-8e25-87a85d3b9aef",
   "metadata": {},
   "source": [
    "---\n",
    "title: \"Data structures\"\n",
    "author: \"Andres Patrignani\"\n",
    "date: \"1/4/2024\"\n",
    "keywords: [\"data structures\", \"list\", \"tuple\", \"dictionary\"]\n",
    "---"
   ]
  },
  {
   "cell_type": "markdown",
   "id": "6481c1bb-613d-4051-b930-d17734329f39",
   "metadata": {},
   "source": [
    "In the realm of programming and data science, data structures act as containers where information is stored for later use. Python offers a variety of built-in data structures like lists, tuples, sets, and dictionaries, each with its own unique properties and use cases. \n",
    "\n",
    "The choice of the right data structure often depends on factors like scalability, data format, data complexity, and the programmer's preference. Consider devoting some time before starting a new script to test and select an appropriate data structure for your program.\n"
   ]
  },
  {
   "cell_type": "markdown",
   "id": "50db212a-5ab8-4123-9f86-dc138d1db430",
   "metadata": {},
   "source": [
    "## Lists\n",
    "\n",
    "Lists are versatile data structures defined by square brackets `[ ]` that ideal for storing sequences of elements, such as strings, numbers, or a mix of different data types. **Lists are mutable**, meaning that you can modify their content. Lists also support nesting, where a list can contain other lists. A key feature of lists is the ability to access elements through indexing (for single item) or slicing (for multiple items). While similar to arrays in other languages, like Matlab, it's important to note that Python lists do not natively support element-wise operations, a functionality that is characteristic of NumPy arrays, a more advanced module that we will explore later.\n"
   ]
  },
  {
   "cell_type": "code",
   "execution_count": 1,
   "id": "3d2fc0ce-a6d0-48c3-9cbd-8ae578cd0351",
   "metadata": {},
   "outputs": [
    {
     "name": "stdout",
     "output_type": "stream",
     "text": [
      "['Sand', 'Loam', 'Silty clay', 'Silt loam', 'Silt']\n",
      "<class 'list'>\n"
     ]
    }
   ],
   "source": [
    "# List with same data type\n",
    "soil_texture = [\"Sand\", \"Loam\", \"Silty clay\", \"Silt loam\", \"Silt\"] # Strings (soil textural classes)\n",
    "mean_sand = [92, 40, 5, 20, 5]  # Integers (percent sand for each soil textural class)\n",
    "\n",
    "print(soil_texture)\n",
    "print(type(soil_texture)) # Print type of data structure\n",
    "    \n",
    "# List with mixed data types (strings, floats, and an entire dictionary)\n",
    "# Sample ID, soil texture, pH value, and multiple nutrient concentration in ppm\n",
    "soil_sample = [\"Sample_001\", \"Loam\", 6.5, {\"N\": 20, \"P\": 15, \"K\": 5}]  \n"
   ]
  },
  {
   "cell_type": "code",
   "execution_count": 2,
   "id": "db8b16ba-915e-4394-a138-d81e5fc2bae2",
   "metadata": {},
   "outputs": [
    {
     "name": "stdout",
     "output_type": "stream",
     "text": [
      "Sand\n",
      "6.5\n"
     ]
    }
   ],
   "source": [
    "# Indexing a list\n",
    "print(soil_texture[0]) # Accesses the first item\n",
    "print(soil_sample[2])\n"
   ]
  },
  {
   "cell_type": "code",
   "execution_count": 3,
   "id": "dbcbdd76-06ed-4a93-aded-bffc3996e7d3",
   "metadata": {},
   "outputs": [
    {
     "name": "stdout",
     "output_type": "stream",
     "text": [
      "['Silty clay', 'Silt loam']\n",
      "['Silty clay', 'Silt loam', 'Silt']\n",
      "['Sand', 'Loam', 'Silty clay']\n"
     ]
    }
   ],
   "source": [
    "# Slicing a list\n",
    "print(soil_texture[2:4])\n",
    "print(soil_texture[2:])\n",
    "print(soil_texture[:3])\n"
   ]
  },
  {
   "cell_type": "code",
   "execution_count": 4,
   "id": "28ebbaa1-9922-4561-ba28-f844509e6350",
   "metadata": {},
   "outputs": [
    {
     "name": "stdout",
     "output_type": "stream",
     "text": [
      "5\n"
     ]
    }
   ],
   "source": [
    "# Find the length of a list\n",
    "print(len(soil_texture))  # Returns the number of items\n"
   ]
  },
  {
   "cell_type": "raw",
   "id": "f9601a3c-c1ce-49bb-9df6-e53759843ae8",
   "metadata": {},
   "source": [
    "::: {.callout-note}\n",
    "## Note\n",
    "Can you guess how many items are in the `soil_sample` list? Use Python to check your answer!\n",
    ":::"
   ]
  },
  {
   "cell_type": "code",
   "execution_count": 5,
   "id": "a7b6d3a8-1054-4354-ba68-c42c8e03233c",
   "metadata": {},
   "outputs": [
    {
     "name": "stdout",
     "output_type": "stream",
     "text": [
      "['Sand', 'Loam', 'Silty clay', 'Silt loam', 'Silt', 'Clay']\n"
     ]
    }
   ],
   "source": [
    "# Append elements to a list\n",
    "soil_texture.append(\"Clay\")  # Adds 'Barley' to the list 'crops'\n",
    "print(soil_texture)\n"
   ]
  },
  {
   "cell_type": "code",
   "execution_count": 6,
   "id": "f25cf3fa-b53f-45dd-9cd8-ba6b87ddd982",
   "metadata": {},
   "outputs": [
    {
     "name": "stdout",
     "output_type": "stream",
     "text": [
      "['Sand', 'Loam', 'Silty clay', 'Silt loam', 'Silt', 'Clay', 'Loamy sand', 'Sandy loam']\n"
     ]
    }
   ],
   "source": [
    "# Append multiple elements\n",
    "soil_texture.extend([\"Loamy sand\", \"Sandy loam\"])\n",
    "print(soil_texture)\n"
   ]
  },
  {
   "cell_type": "raw",
   "id": "ee897953-acf0-4b7c-b2c0-17e16bb8e0d2",
   "metadata": {},
   "source": [
    "::: {.callout-note}\n",
    "## Note\n",
    "Appending multiple items using the `append()` method will result in nested lists, while using the `extend()` method will results in merged lists. Give it a try and see if you can observe the difference.\n",
    ":::"
   ]
  },
  {
   "cell_type": "code",
   "execution_count": 7,
   "id": "60f7cdba-7a7f-4ef3-8353-e107c18cfba5",
   "metadata": {},
   "outputs": [
    {
     "name": "stdout",
     "output_type": "stream",
     "text": [
      "['Sand', 'Loam', 'Silty clay', 'Silt loam', 'Silt', 'Loamy sand', 'Sandy loam']\n"
     ]
    }
   ],
   "source": [
    "# Remove list element\n",
    "soil_texture.remove(\"Clay\")\n",
    "print(soil_texture)\n"
   ]
  },
  {
   "cell_type": "code",
   "execution_count": 8,
   "id": "89c804ac-74a3-416c-bd82-beb6aedb1537",
   "metadata": {},
   "outputs": [
    {
     "name": "stdout",
     "output_type": "stream",
     "text": [
      "['Sand', 'Loam', 'Clay', 'Silty clay', 'Silt loam', 'Silt', 'Loamy sand', 'Sandy loam']\n"
     ]
    }
   ],
   "source": [
    "# Insert an item at a specified position or index\n",
    "soil_texture.insert(2, \"Clay\")  # Inserts 'Clay' back again, but at index 2\n",
    "print(soil_texture)\n"
   ]
  },
  {
   "cell_type": "code",
   "execution_count": 9,
   "id": "b1098725-176c-4cce-a73b-45bd5c5968e8",
   "metadata": {},
   "outputs": [
    {
     "name": "stdout",
     "output_type": "stream",
     "text": [
      "['Sand', 'Loam', 'Clay', 'Silty clay', 'Silt', 'Loamy sand', 'Sandy loam']\n"
     ]
    }
   ],
   "source": [
    "# Remove element based on index\n",
    "soil_texture.pop(4)\n",
    "print(soil_texture)\n"
   ]
  },
  {
   "cell_type": "code",
   "execution_count": 10,
   "id": "969b8d43-0ed1-490b-95b9-3a6ba999eaf9",
   "metadata": {},
   "outputs": [
    {
     "name": "stdout",
     "output_type": "stream",
     "text": [
      "['Sand', 'Silty clay', 'Silt', 'Loamy sand', 'Sandy loam']\n"
     ]
    }
   ],
   "source": [
    "# An alternative method to delete one or more elements of the list.\n",
    "del soil_texture[1:3]\n",
    "print(soil_texture)\n"
   ]
  },
  {
   "cell_type": "markdown",
   "id": "52a35ee2-a501-40ce-bb31-fda99fb2e289",
   "metadata": {},
   "source": [
    "## Tuples\n",
    "\n",
    "Tuples are an efficient data structure defined by parentheses `( )`, and are especially useful for storing fixed sets of elements like coordinates in a two-dimensional plane (e.g., `point(x, y)`) or  triplets of color values in the RGB color space (e.g., `(r, g, b)`). While tuples can be nested within lists and support operations similar to lists, like indexing and slicing, the main difference is that **tuples are immutable**. Once a tuple is created, its content cannot be changed. This makes tuples particularly valuable for storing critical information that must remain constant in your code.\n"
   ]
  },
  {
   "cell_type": "code",
   "execution_count": 11,
   "id": "5fb593fa-5e46-4ab4-8249-0deb486bbc49",
   "metadata": {},
   "outputs": [
    {
     "name": "stdout",
     "output_type": "stream",
     "text": [
      "[(19.536111, -155.576111, 3397), (39.106704, -96.608968, 320)]\n"
     ]
    }
   ],
   "source": [
    "# Geographic coordinates \n",
    "mauna_loa = (19.536111, -155.576111, 3397) # Mauna Load Observatory in Hawaii, USA\n",
    "konza_prairie = (39.106704, -96.608968, 320) # Konza Prairie in Kansas, USA\n",
    "\n",
    "locations = [mauna_loa, konza_prairie]\n",
    "print(locations)\n"
   ]
  },
  {
   "cell_type": "code",
   "execution_count": 12,
   "id": "7dcec63e-8e24-4eb0-827e-2bbe9672b1fe",
   "metadata": {},
   "outputs": [
    {
     "name": "stdout",
     "output_type": "stream",
     "text": [
      "[(0, 0, 0), (255, 255, 255), (0, 255, 0)]\n",
      "<class 'tuple'>\n"
     ]
    }
   ],
   "source": [
    "# A list of tuples\n",
    "colors = [(0,0,0), (255,255,255), (0,255,0)] # Each tuple refers to black, white, and green.\n",
    "print(colors)\n",
    "print(type(colors[0]))"
   ]
  },
  {
   "cell_type": "raw",
   "id": "d8fbb125-91e8-44a0-85ec-7eaf18385c56",
   "metadata": {},
   "source": [
    "::: {.callout-note}\n",
    "## Note\n",
    "What happens if we want to change the first element of the third tuple from 0 to 255?\n",
    "Hint: `colors[2][0] = 255`\n",
    ":::"
   ]
  },
  {
   "cell_type": "markdown",
   "id": "26f0fe46-a729-4b42-b83d-d1b67083dbb0",
   "metadata": {},
   "source": [
    "## Dictionaries\n",
    "\n",
    "Dictionaries are a highly versatile and popular data structure that have the peculiar ability to store and retrieve data using key-value pairs defined within curly braces `{ }` or using the `dict()` function. This means that you can access, add, or modify data using unique keys, making dictionaries incredibly efficient for organizing and handling data using named references. \n",
    "\n",
    "Dictionaries are particularly useful in situations where data doesn't fit neatly into a matrix or table format and has multiple attributes, such as weather data, where you might store various weather parameters (temperature, humidity, wind speed) using descriptive keys. Unlike lists or tuples, dictionaries aren't ordered by nature, but they excel in scenarios where each piece of data needs to be associated with a specific identifier. This structure provides a straightforward and intuitive way to manage complex, unstructured data."
   ]
  },
  {
   "cell_type": "code",
   "execution_count": 13,
   "id": "a121375c-305f-4a9d-94a2-a45811d782e5",
   "metadata": {},
   "outputs": [
    {
     "name": "stdout",
     "output_type": "stream",
     "text": [
      "{'city': 'Manhattan', 'state': 'Kansas', 'coords': (39.208722, -96.592248, 350), 'data': [{'date': '20220101', 'precipitation': {'value': 12.5, 'unit': 'mm', 'instrument': 'TE525'}, 'air_temperature': {'value': 5.6, 'units': 'Celsius', 'instrument': 'ATMOS14'}}, {'date': '20220102', 'precipitation': {'value': 0, 'unit': 'mm', 'instrument': 'TE525'}, 'air_temperature': {'value': 1.3, 'units': 'Celsius', 'instrument': 'ATMOS14'}}]}\n",
      "<class 'dict'>\n"
     ]
    }
   ],
   "source": [
    "# Weather data is often stored in dictionary or dictionary-like data structures.\n",
    "D = {'city':'Manhattan',\n",
    "     'state':'Kansas',\n",
    "     'coords': (39.208722, -96.592248, 350),\n",
    "     'data': [{'date' : '20220101', \n",
    "              'precipitation' : {'value':12.5, 'unit':'mm', 'instrument':'TE525'},\n",
    "              'air_temperature' : {'value':5.6, 'units':'Celsius', 'instrument':'ATMOS14'}\n",
    "              },\n",
    "              {'date' : '20220102', \n",
    "              'precipitation' : {'value':0, 'unit':'mm', 'instrument':'TE525'},\n",
    "              'air_temperature' : {'value':1.3, 'units':'Celsius', 'instrument':'ATMOS14'}\n",
    "              }]\n",
    "    }\n",
    "\n",
    "print(D)\n",
    "print(type(D))"
   ]
  },
  {
   "cell_type": "markdown",
   "id": "57d94be8-3219-465b-89dd-8923908e6c6b",
   "metadata": {},
   "source": [
    "The example above has several interesting features:\n",
    "- The city and state names are ordinary strings\n",
    "- The geographic coordinates (latitude, longitude, and elevation) are grouped using a tuple.\n",
    "- Weather data for each day is a list of dictionaries\n",
    "- In a single dictionary we have observations for a given timestamp together with the associated metadata including units, sensors, and location. Personally I think that dictionaries are ideal data structures in the context of reproducible science.\n"
   ]
  },
  {
   "cell_type": "raw",
   "id": "52340a7a-a285-4973-8f07-9a3214358dbe",
   "metadata": {},
   "source": [
    "::: {.callout-note}\n",
    "## Note\n",
    "\n",
    "The structure of the dictionary above depends on programmer preferences. For instance, rather than grouping all three coordinates into a tuple, a different programmer may prefer to store the values under individual `name:value` pairs, such as: `latitude : 39.208722`, `longitude : -96.592248`, and `altitude : 350`)\n",
    ":::"
   ]
  },
  {
   "cell_type": "markdown",
   "id": "d1984915-1850-4bae-8d32-de4161fbe1f5",
   "metadata": {},
   "source": [
    "## Sets\n",
    "\n",
    "Sets are a unique and somewhat less commonly used data structure compared to lists, tuples, and dictionaries. Sets are defined with curly braces `{ }` (without defining key-value pairs) or the `set()` function and are similar to mathematical sets, meaning they store unordered collections of unique items. In other words, Sets don't allow for duplicate items, items cannot be changed (although items can be added and removed), and items are not indexed. This makes sets ideal for operations like determining membership, eliminating duplicates, and performing mathematical set operations such as unions, intersections, and differences. In scenarios like database querying or data analysis where you need to compare different datasets, sets can be used to find common elements (intersection), all elements (union), or differences between datasets."
   ]
  },
  {
   "cell_type": "code",
   "execution_count": 14,
   "id": "b218d08d-bd82-4242-bddf-1b12fe6c85bd",
   "metadata": {},
   "outputs": [
    {
     "name": "stdout",
     "output_type": "stream",
     "text": [
      "{'Crabgrass', 'Foxtail', 'Thistle', 'Dandelion'}\n"
     ]
    }
   ],
   "source": [
    "# Union operation\n",
    "field1_weeds = set([\"Dandelion\", \"Crabgrass\", \"Thistle\", \"Dandelion\"])\n",
    "field2_weeds = set([\"Thistle\", \"Crabgrass\", \"Foxtail\"])\n",
    "unique_weeds = field1_weeds.union(field2_weeds)\n",
    "print(unique_weeds)\n"
   ]
  },
  {
   "cell_type": "code",
   "execution_count": 15,
   "id": "2b7b7ba4-9282-451f-b909-8b2fa8f6154c",
   "metadata": {},
   "outputs": [
    {
     "name": "stdout",
     "output_type": "stream",
     "text": [
      "{'Crabgrass', 'Thistle'}\n"
     ]
    }
   ],
   "source": [
    "# Intersection operation\n",
    "common_weeds = field1_weeds.intersection(field2_weeds)\n",
    "print(common_weeds)\n"
   ]
  },
  {
   "cell_type": "code",
   "execution_count": 16,
   "id": "518ee0f0-d164-4429-a93c-06b44cf1c7cc",
   "metadata": {},
   "outputs": [
    {
     "name": "stdout",
     "output_type": "stream",
     "text": [
      "{'Dandelion'}\n",
      "{'Foxtail'}\n"
     ]
    }
   ],
   "source": [
    "# Difference operation\n",
    "different_weeds_in_field1 = field1_weeds.difference(field2_weeds)\n",
    "print(different_weeds_in_field1)\n",
    "\n",
    "different_weeds_in_field2 = field2_weeds.difference(field1_weeds)\n",
    "print(different_weeds_in_field2)\n"
   ]
  },
  {
   "cell_type": "code",
   "execution_count": 17,
   "id": "32f261ac-019b-4caf-a551-dd28ae22d8cb",
   "metadata": {},
   "outputs": [
    {
     "data": {
      "text/plain": [
       "{'Clover', 'Crabgrass', 'Dandelion', 'Foxtail', 'Pigweed', 'Thistle'}"
      ]
     },
     "execution_count": 17,
     "metadata": {},
     "output_type": "execute_result"
    }
   ],
   "source": [
    "# We can also chain more variables if needed\n",
    "field3_weeds = set([\"Pigweed\", \"Clover\"])\n",
    "field1_weeds.union(field2_weeds).union(field3_weeds)\n"
   ]
  },
  {
   "cell_type": "raw",
   "id": "ec9b595d-7d11-4b83-94d4-c1851e524e7a",
   "metadata": {},
   "source": [
    "::: {.callout-note}\n",
    "## Note\n",
    "\n",
    "For this particular example, you could leverage a `set` data structure to easily compare field notes from multiple agronomists collecting information across farmer fields in a given region and quickly determine dominant weed species.\n",
    ":::"
   ]
  },
  {
   "cell_type": "markdown",
   "id": "7995917c-4c6e-452c-89c5-43bc12f3cd3b",
   "metadata": {},
   "source": [
    "## Practice\n",
    "\n",
    "1. Create a list with the scientific names of three common grasses in the US Great Plains: big bluestem, switchgrass, indian grass, and little bluestem.\n",
    "\n",
    "2. Using a periodic table, store in a dictionary the name, symbol, atomic mass, melting point, and boiling point of oxygen, nitrogen, phosphorus, and hydrogen. Then, write two separate python statements to retrieve the boiling point of oxygen and hydrogen. Combined, these two atoms can form water, which has a boiling point of 100 degrees Celsius. How does this value compare to the boiling point of the individual elements?\n",
    "\n",
    "3. Without editing the dictionary that you created in the previous point, append the properties for a new element: carbon.\n",
    "\n",
    "4. Create a list of tuples encoding the latitude, longitude, and altitude of three national parks of your choice.\n"
   ]
  }
 ],
 "metadata": {
  "kernelspec": {
   "display_name": "Python 3 (ipykernel)",
   "language": "python",
   "name": "python3"
  },
  "language_info": {
   "codemirror_mode": {
    "name": "ipython",
    "version": 3
   },
   "file_extension": ".py",
   "mimetype": "text/x-python",
   "name": "python",
   "nbconvert_exporter": "python",
   "pygments_lexer": "ipython3",
   "version": "3.10.9"
  }
 },
 "nbformat": 4,
 "nbformat_minor": 5
}
