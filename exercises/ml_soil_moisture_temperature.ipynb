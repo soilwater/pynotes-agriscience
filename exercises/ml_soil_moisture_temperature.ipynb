{
 "cells": [
  {
   "cell_type": "raw",
   "id": "77ca81bc-a2cb-4166-8777-8c0fbdbe1117",
   "metadata": {},
   "source": [
    "---\n",
    "title: \"Estimate daily VPD\"\n",
    "author: \"Andres Patrignani\"\n",
    "date: \"2/3/2024\"\n",
    "keywords: [\"vapor pressure deficit\", \"vpd\"]\n",
    "---"
   ]
  },
  {
   "cell_type": "code",
   "execution_count": 10,
   "id": "82ccf90e-86f2-448b-8921-edbaf95d6862",
   "metadata": {},
   "outputs": [],
   "source": [
    "# Import modules\n",
    "import numpy as np\n",
    "import pandas as pd\n",
    "import matplotlib.pyplot as plt\n"
   ]
  },
  {
   "cell_type": "code",
   "execution_count": 7,
   "id": "70ff51e7-e581-43dc-8d39-c3cde92085e5",
   "metadata": {},
   "outputs": [
    {
     "data": {
      "text/html": [
       "<div>\n",
       "<style scoped>\n",
       "    .dataframe tbody tr th:only-of-type {\n",
       "        vertical-align: middle;\n",
       "    }\n",
       "\n",
       "    .dataframe tbody tr th {\n",
       "        vertical-align: top;\n",
       "    }\n",
       "\n",
       "    .dataframe thead th {\n",
       "        text-align: right;\n",
       "    }\n",
       "</style>\n",
       "<table border=\"1\" class=\"dataframe\">\n",
       "  <thead>\n",
       "    <tr style=\"text-align: right;\">\n",
       "      <th></th>\n",
       "      <th>datetime</th>\n",
       "      <th>pressure</th>\n",
       "      <th>tavg</th>\n",
       "      <th>rhavg</th>\n",
       "      <th>prcp</th>\n",
       "      <th>srad</th>\n",
       "      <th>wspd</th>\n",
       "      <th>wdir</th>\n",
       "      <th>vpd</th>\n",
       "      <th>vwc_5cm</th>\n",
       "      <th>vwc_20cm</th>\n",
       "      <th>vwc_40cm</th>\n",
       "      <th>soiltemp_5cm</th>\n",
       "      <th>soiltemp_20cm</th>\n",
       "      <th>soiltemp_40cm</th>\n",
       "      <th>battv</th>\n",
       "      <th>discharge</th>\n",
       "    </tr>\n",
       "  </thead>\n",
       "  <tbody>\n",
       "    <tr>\n",
       "      <th>0</th>\n",
       "      <td>2022-01-01 00:00:00</td>\n",
       "      <td>96.40</td>\n",
       "      <td>-4.4</td>\n",
       "      <td>98.012</td>\n",
       "      <td>0.0</td>\n",
       "      <td>NaN</td>\n",
       "      <td>5.94</td>\n",
       "      <td>0.717</td>\n",
       "      <td>0.01</td>\n",
       "      <td>0.257</td>\n",
       "      <td>0.307</td>\n",
       "      <td>0.359</td>\n",
       "      <td>5.2</td>\n",
       "      <td>6.7</td>\n",
       "      <td>7.6</td>\n",
       "      <td>8745.0</td>\n",
       "      <td>0.0</td>\n",
       "    </tr>\n",
       "    <tr>\n",
       "      <th>1</th>\n",
       "      <td>2022-01-01 01:00:00</td>\n",
       "      <td>96.39</td>\n",
       "      <td>-5.2</td>\n",
       "      <td>97.873</td>\n",
       "      <td>0.0</td>\n",
       "      <td>NaN</td>\n",
       "      <td>6.22</td>\n",
       "      <td>4.717</td>\n",
       "      <td>0.01</td>\n",
       "      <td>0.257</td>\n",
       "      <td>0.307</td>\n",
       "      <td>0.359</td>\n",
       "      <td>4.9</td>\n",
       "      <td>6.6</td>\n",
       "      <td>7.6</td>\n",
       "      <td>8719.0</td>\n",
       "      <td>0.0</td>\n",
       "    </tr>\n",
       "    <tr>\n",
       "      <th>2</th>\n",
       "      <td>2022-01-01 02:00:00</td>\n",
       "      <td>96.44</td>\n",
       "      <td>-6.1</td>\n",
       "      <td>95.025</td>\n",
       "      <td>0.0</td>\n",
       "      <td>NaN</td>\n",
       "      <td>5.56</td>\n",
       "      <td>0.717</td>\n",
       "      <td>0.02</td>\n",
       "      <td>0.257</td>\n",
       "      <td>0.307</td>\n",
       "      <td>0.359</td>\n",
       "      <td>4.7</td>\n",
       "      <td>6.5</td>\n",
       "      <td>7.6</td>\n",
       "      <td>8719.0</td>\n",
       "      <td>0.0</td>\n",
       "    </tr>\n",
       "  </tbody>\n",
       "</table>\n",
       "</div>"
      ],
      "text/plain": [
       "             datetime  pressure  tavg   rhavg  prcp  srad  wspd   wdir   vpd  \\\n",
       "0 2022-01-01 00:00:00     96.40  -4.4  98.012   0.0   NaN  5.94  0.717  0.01   \n",
       "1 2022-01-01 01:00:00     96.39  -5.2  97.873   0.0   NaN  6.22  4.717  0.01   \n",
       "2 2022-01-01 02:00:00     96.44  -6.1  95.025   0.0   NaN  5.56  0.717  0.02   \n",
       "\n",
       "   vwc_5cm  vwc_20cm  vwc_40cm  soiltemp_5cm  soiltemp_20cm  soiltemp_40cm  \\\n",
       "0    0.257     0.307     0.359           5.2            6.7            7.6   \n",
       "1    0.257     0.307     0.359           4.9            6.6            7.6   \n",
       "2    0.257     0.307     0.359           4.7            6.5            7.6   \n",
       "\n",
       "    battv  discharge  \n",
       "0  8745.0        0.0  \n",
       "1  8719.0        0.0  \n",
       "2  8719.0        0.0  "
      ]
     },
     "execution_count": 7,
     "metadata": {},
     "output_type": "execute_result"
    }
   ],
   "source": [
    "# Read data\n",
    "df = pd.read_csv('../datasets/kings_creek_2022_2023_hourly.csv',\n",
    "                 parse_dates=['datetime'])\n",
    "df.head(3)"
   ]
  },
  {
   "cell_type": "code",
   "execution_count": 8,
   "id": "bc8f13ae-6011-45bc-ab9d-77f11846e4aa",
   "metadata": {},
   "outputs": [],
   "source": [
    "# Compute photosynthetically active radiation\n",
    "df['par'] = df['srad'] * 0.48"
   ]
  },
  {
   "cell_type": "code",
   "execution_count": 9,
   "id": "ea98a98d-fb56-444f-86f1-0535d039eea2",
   "metadata": {},
   "outputs": [
    {
     "ename": "NameError",
     "evalue": "name 'np' is not defined",
     "output_type": "error",
     "traceback": [
      "\u001b[0;31m---------------------------------------------------------------------------\u001b[0m",
      "\u001b[0;31mNameError\u001b[0m                                 Traceback (most recent call last)",
      "Cell \u001b[0;32mIn[9], line 11\u001b[0m\n\u001b[1;32m      9\u001b[0m alpha \u001b[38;5;241m=\u001b[39m \u001b[38;5;241m0.005\u001b[39m\n\u001b[1;32m     10\u001b[0m beta \u001b[38;5;241m=\u001b[39m \u001b[38;5;241m0.002\u001b[39m\n\u001b[0;32m---> 11\u001b[0m T2 \u001b[38;5;241m=\u001b[39m \u001b[38;5;241m1\u001b[39m\u001b[38;5;241m/\u001b[39mbeta \u001b[38;5;241m*\u001b[39m \u001b[43mnp\u001b[49m\u001b[38;5;241m.\u001b[39mlog(\u001b[38;5;241m1\u001b[39m \u001b[38;5;241m+\u001b[39m np\u001b[38;5;241m.\u001b[39mexp(alpha\u001b[38;5;241m*\u001b[39mT1))\n\u001b[1;32m     12\u001b[0m HI \u001b[38;5;241m=\u001b[39m \u001b[38;5;241m0.45\u001b[39m\n",
      "\u001b[0;31mNameError\u001b[0m: name 'np' is not defined"
     ]
    }
   ],
   "source": [
    "# Model parameters\n",
    "k = 8 # kPa\n",
    "TUE = 15\n",
    "RUE = 1.85\n",
    "T_base = 10\n",
    "K = 0.7\n",
    "Lmax = 7\n",
    "T1 = 900\n",
    "alpha = 0.005\n",
    "beta = 0.002\n",
    "T2 = 1/beta * np.log(1 + np.exp(alpha*T1))\n",
    "HI = 0.45 # Approximate harvest index\n"
   ]
  },
  {
   "cell_type": "code",
   "execution_count": null,
   "id": "6318c5f4-8516-4116-8f76-760712555eda",
   "metadata": {},
   "outputs": [],
   "source": [
    "GDD_cum = np.full_like(N, np.nan)\n",
    "\n",
    "for t in range(1,N):\n",
    "    GDD[t] = np.maximum(T_avg-T_base, 0)\n",
    "    GDD_cum[t] = GDD_cum[t-1] + GDD[t]\n",
    "    LAI[t] = np.maximum(Lmax*(1/(1+np.exp(-alpha*(GDD[t]-T1))) - np.exp(beta*(GDD[t]-T2))),0)\n",
    "    Gr[t] = PAR[t] * (1-np.exp(-K*LAI[t])) * RUE * FTSW[t]\n",
    "    Tr[t] = Gr[t] * VPD[t]/k\n"
   ]
  },
  {
   "cell_type": "code",
   "execution_count": 5,
   "id": "2ae625e0-2c38-4c56-a3fd-487f0e243214",
   "metadata": {},
   "outputs": [],
   "source": [
    "df['R-B index'] = df['discharge_diff_sum'] /df['discharge_sum']\n"
   ]
  },
  {
   "cell_type": "code",
   "execution_count": 6,
   "id": "d68106b3-e0be-4472-b198-23740362829c",
   "metadata": {},
   "outputs": [
    {
     "data": {
      "text/plain": [
       "[<matplotlib.lines.Line2D at 0x7f9f3f0a3160>]"
      ]
     },
     "execution_count": 6,
     "metadata": {},
     "output_type": "execute_result"
    },
    {
     "data": {
      "image/png": "[encoded data removed]",
      "text/plain": [
       "<Figure size 640x480 with 1 Axes>"
      ]
     },
     "metadata": {},
     "output_type": "display_data"
    }
   ],
   "source": [
    "plt.plot(df['R-B index'])"
   ]
  }
 ],
 "metadata": {
  "kernelspec": {
   "display_name": "Python 3 (ipykernel)",
   "language": "python",
   "name": "python3"
  },
  "language_info": {
   "codemirror_mode": {
    "name": "ipython",
    "version": 3
   },
   "file_extension": ".py",
   "mimetype": "text/x-python",
   "name": "python",
   "nbconvert_exporter": "python",
   "pygments_lexer": "ipython3",
   "version": "3.10.9"
  }
 },
 "nbformat": 4,
 "nbformat_minor": 5
}
