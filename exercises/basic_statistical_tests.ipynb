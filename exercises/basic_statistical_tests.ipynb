{
 "cells": [
  {
   "cell_type": "raw",
   "id": "d4e0b545-ad51-42bf-98e4-b019709255ba",
   "metadata": {},
   "source": [
    "---\n",
    "title: \"Basic statistical tests\"\n",
    "author: \"Andres Patrignani\"\n",
    "date: \"3/18/2024\"\n",
    "keywords: [\"ttest\", \"anova\", \"analysis of variance\", \"Tukey test\"]\n",
    "---"
   ]
  },
  {
   "cell_type": "markdown",
   "id": "2451cfb7-a37c-4e81-91c5-e80dfa3b4173",
   "metadata": {},
   "source": [
    "## Power analysis"
   ]
  },
  {
   "cell_type": "code",
   "execution_count": 96,
   "id": "ed489b40-ddf3-4e60-b05c-39f06606d5b3",
   "metadata": {},
   "outputs": [],
   "source": [
    "# Import modules\n",
    "import numpy as np\n"
   ]
  },
  {
   "cell_type": "markdown",
   "id": "ec0ce069-c1bd-4361-8819-2091d23ae89d",
   "metadata": {},
   "source": [
    "A power analysis is an important concept in experimental design and hypothesis testing, as it helps researchers determine the appropriate sample size needed to detect a significant effect, if it exists. Without adequate power, studies may fail to detect genuine effects, leading to inconclusive or misleading results.\n",
    "\n",
    "In this context, pilot experiments are essential to quantify the approximate variability of a response variable. In the example below our goal is to identify how many downward-facing images we need to collect in a field to compute the percentage of green canopy cover withing a 5% with a 95% confidence. The provided values are the result of an exploratory field data collection to compute the variability of the field. The power analysis rests on the notion that:\n",
    "\n",
    "$$ n = \\Bigg( \\frac{1.96 \\sigma}{\\delta} \\Bigg)^2 $$\n",
    "\n",
    "where $n$ is the number of samples to be collected, $\\delta$ is the error marging with 95% confidence, 1.96 is the z-score, and $\\sigma$ is the standard deviation (required in advance). For more insights, check the manuscript by [Patrignani and Ochsner, 2015](https://doi.org/10.2134/agronj15.0150)."
   ]
  },
  {
   "cell_type": "code",
   "execution_count": 113,
   "id": "0c4d4c29-883b-4ad5-b732-4b034d631dc7",
   "metadata": {},
   "outputs": [],
   "source": [
    "# Values from a pilot experiment\n",
    "canopy_cover = np.array([25, 16, 19, 23, 12]) # Percent\n"
   ]
  },
  {
   "cell_type": "code",
   "execution_count": 114,
   "id": "a01e37b5-73ab-461b-b25d-dae47bc026e7",
   "metadata": {},
   "outputs": [
    {
     "name": "stdout",
     "output_type": "stream",
     "text": [
      "Sample size needed: 3\n"
     ]
    }
   ],
   "source": [
    "# Define parameters\n",
    "z_score = 1.96  # z-score for a 95% confidence level\n",
    "margin_of_error = 5  # Margin of error\n",
    "standard_deviation = np.std(canopy_cover)\n",
    "\n",
    "# Calculate sample size\n",
    "sample_size = (z_score * standard_deviation / margin_of_error) ** 2\n",
    "\n",
    "print(\"Sample size needed:\", round(sample_size))"
   ]
  },
  {
   "cell_type": "markdown",
   "id": "cc022302-9450-4976-bcc6-fb12455ddeb4",
   "metadata": {},
   "source": [
    "## One-sample T-test\n",
    "\n",
    "The `scipy.stats` module includes function like `ttest_1samp` that enables researchers to determine whether the mean of a sample significantly differs from a known population mean. For instance, suppose a farmer wants to assess whether a new wheat variety significantly increases the average yield of a specific crop compared to the historical average yield. By collecting yield data from different wheat variety and using `ttest_1samp`, the farmer can infer whether the observed increase in yield by the fields with the new variety is statistically significant. \n",
    "\n",
    "\n",
    "**Question**: Do newer wheat varieties have a statistically significant performance compared to the existing varieties?"
   ]
  },
  {
   "cell_type": "code",
   "execution_count": 1,
   "id": "e35daebb-30bc-44c9-b96e-53861b1a48eb",
   "metadata": {
    "tags": []
   },
   "outputs": [],
   "source": [
    "# Import modules\n",
    "import pandas as pd\n",
    "from scipy import stats\n"
   ]
  },
  {
   "cell_type": "code",
   "execution_count": 2,
   "id": "f5f77623-5382-4607-8661-2012a914d532",
   "metadata": {
    "tags": []
   },
   "outputs": [
    {
     "data": {
      "text/html": [
       "<div>\n",
       "<style scoped>\n",
       "    .dataframe tbody tr th:only-of-type {\n",
       "        vertical-align: middle;\n",
       "    }\n",
       "\n",
       "    .dataframe tbody tr th {\n",
       "        vertical-align: top;\n",
       "    }\n",
       "\n",
       "    .dataframe thead th {\n",
       "        text-align: right;\n",
       "    }\n",
       "</style>\n",
       "<table border=\"1\" class=\"dataframe\">\n",
       "  <thead>\n",
       "    <tr style=\"text-align: right;\">\n",
       "      <th></th>\n",
       "      <th>brand</th>\n",
       "      <th>name</th>\n",
       "      <th>yield_bu_ac</th>\n",
       "    </tr>\n",
       "  </thead>\n",
       "  <tbody>\n",
       "    <tr>\n",
       "      <th>0</th>\n",
       "      <td>LIMAGRAIN</td>\n",
       "      <td>LCH19DH-152-6</td>\n",
       "      <td>50.7</td>\n",
       "    </tr>\n",
       "    <tr>\n",
       "      <th>1</th>\n",
       "      <td>POLANSKY</td>\n",
       "      <td>ROCKSTAR</td>\n",
       "      <td>45.2</td>\n",
       "    </tr>\n",
       "    <tr>\n",
       "      <th>2</th>\n",
       "      <td>KWA</td>\n",
       "      <td>KS WESTERN STAR</td>\n",
       "      <td>44.5</td>\n",
       "    </tr>\n",
       "  </tbody>\n",
       "</table>\n",
       "</div>"
      ],
      "text/plain": [
       "       brand             name  yield_bu_ac\n",
       "0  LIMAGRAIN    LCH19DH-152-6         50.7\n",
       "1   POLANSKY         ROCKSTAR         45.2\n",
       "2        KWA  KS WESTERN STAR         44.5"
      ]
     },
     "execution_count": 2,
     "metadata": {},
     "output_type": "execute_result"
    }
   ],
   "source": [
    "# Read dataset\n",
    "df_new_varieties = pd.read_csv('../datasets/wheat_variety_trial_2023_greeley_county.csv', skiprows=[0])\n",
    "df_new_varieties.head(3)\n"
   ]
  },
  {
   "cell_type": "code",
   "execution_count": 3,
   "id": "96f11557-4584-439c-886e-03313c2519f9",
   "metadata": {
    "tags": []
   },
   "outputs": [],
   "source": [
    "# Define historical average yield of farm\n",
    "historical_mean_yield = 8 # bu/ac\n"
   ]
  },
  {
   "cell_type": "code",
   "execution_count": 4,
   "id": "79ade177-fe95-46d6-a4b0-a7c7c251689d",
   "metadata": {},
   "outputs": [
    {
     "data": {
      "text/plain": [
       "34.0"
      ]
     },
     "execution_count": 4,
     "metadata": {},
     "output_type": "execute_result"
    }
   ],
   "source": [
    "# Estimate mean of all new varieties\n",
    "df_new_varieties['yield_bu_ac'].mean().round()\n"
   ]
  },
  {
   "cell_type": "markdown",
   "id": "eafca752-7775-465a-a688-fd15540f12f6",
   "metadata": {},
   "source": [
    "### Two-sided test\n",
    "\n",
    "*Null hypothesis*: the mean yield of the new varieties **is the same** as the historical field yield (popmean).\n",
    "\n",
    "*Alternative hypothesis*: the mean yield of the new varieties **is different** than the historical field yield (popmean).\n"
   ]
  },
  {
   "cell_type": "code",
   "execution_count": 5,
   "id": "4a2c465d-3750-4851-ba02-b0bac80cb976",
   "metadata": {},
   "outputs": [
    {
     "name": "stdout",
     "output_type": "stream",
     "text": [
      "t_statistic: 22.10361576051108\n",
      "p_value: 5.9931027593421575e-21\n"
     ]
    }
   ],
   "source": [
    "# Define historical average yield of farm\n",
    "# Perform a one-sample t-test for each new variety against the historical data\n",
    "results_two_sided = stats.ttest_1samp(df_new_varieties['yield_bu_ac'],\n",
    "                                         historical_mean_yield,\n",
    "                                         alternative='two-sided')\n",
    "\n",
    "print(f\"t_statistic: {results_two_sided[0]}\")\n",
    "print(f\"p_value: {results_two_sided[1]}\")\n"
   ]
  },
  {
   "cell_type": "code",
   "execution_count": 6,
   "id": "160bad9f-1456-4f2d-9d57-f38f4b65e403",
   "metadata": {},
   "outputs": [
    {
     "name": "stdout",
     "output_type": "stream",
     "text": [
      "We reject the null hypothesis in favor of the alternative hypothesis that \n",
      "    the mean yield of new varieties is statistically different from the historical yield.\n"
     ]
    }
   ],
   "source": [
    "# Define significance level\n",
    "alpha = 0.05\n",
    "\n",
    "# Find whether we accept or reject the null hypothesis\n",
    "if results_two_sided[1] < alpha:\n",
    "    print(\"\"\"We reject the null hypothesis in favor of the alternative hypothesis that \n",
    "    the mean yield of new varieties is statistically different from the historical yield.\"\"\")\n",
    "else:\n",
    "    print(\"\"\"We accept the null hypothesis. There is no statistically significant evidence that the combined \n",
    "    mean yield of new varieties differs from the historical yield.\"\"\")\n",
    "\n"
   ]
  },
  {
   "cell_type": "markdown",
   "id": "1dd3d7e5-6a19-41ed-8946-39de11e438c3",
   "metadata": {},
   "source": [
    "### Two-sided confidence intervals"
   ]
  },
  {
   "cell_type": "code",
   "execution_count": 7,
   "id": "e77e6bb5-128a-4605-9ee9-8b626d4968fa",
   "metadata": {
    "tags": []
   },
   "outputs": [
    {
     "name": "stdout",
     "output_type": "stream",
     "text": [
      "ConfidenceInterval(low=31.6727760618944, high=36.47873908962076)\n"
     ]
    }
   ],
   "source": [
    "# Compute 95% confidence intervals\n",
    "ci = results_two_sided.confidence_interval(confidence_level=0.95)\n",
    "print(ci)"
   ]
  },
  {
   "cell_type": "markdown",
   "id": "6997e746-25dd-4a76-a9bc-81249d6d7d38",
   "metadata": {
    "tags": []
   },
   "source": [
    "### One-sided test (less option)\n",
    "\n",
    "*Null hypothesis*: The mean of all new varieties is **not less** than the historical yield.\n",
    "\n",
    "*Alternative hypothesis*: The mean of all new varieties is **less** than the historical yield."
   ]
  },
  {
   "cell_type": "code",
   "execution_count": 9,
   "id": "ff3bafa7-3c1f-4e40-9112-6c28362c778c",
   "metadata": {
    "tags": []
   },
   "outputs": [
    {
     "name": "stdout",
     "output_type": "stream",
     "text": [
      "TtestResult(statistic=22.10361576051108, pvalue=1.0, df=32)\n"
     ]
    }
   ],
   "source": [
    "results_one_sided = stats.ttest_1samp(df_new_varieties['yield_bu_ac'], \n",
    "                            popmean=historical_mean_yield,\n",
    "                            alternative='less')\n",
    "\n",
    "print(results_one_sided)\n"
   ]
  },
  {
   "cell_type": "code",
   "execution_count": 10,
   "id": "fce129c7-b5f4-4d64-a737-dca8642c607f",
   "metadata": {},
   "outputs": [
    {
     "name": "stdout",
     "output_type": "stream",
     "text": [
      "We accept the null hypothesis that the mean of the new varieties \n",
      "          is not less than the historical yield\n"
     ]
    }
   ],
   "source": [
    "if results_one_sided[1] < alpha:\n",
    "    print(\"\"\"We reject the null hypothesisin favor of the alternative hypothesis that \n",
    "    the mean of the new varieties is less than the historical yield\"\"\")\n",
    "else:\n",
    "    print(\"\"\"We accept the null hypothesis that the mean of the new varieties \n",
    "          is not less than the historical yield\"\"\")\n",
    "\n"
   ]
  },
  {
   "cell_type": "markdown",
   "id": "f992ee73-0ede-48e8-9ac7-9ab9ac59f51a",
   "metadata": {
    "tags": []
   },
   "source": [
    "### One-sided test (greater)\n",
    "\n",
    "*Null hypothesis*: The mean of all new varieties is **not greater** than the historical yield.\n",
    "\n",
    "*Alternative hypothesis*: The mean of all new varieties is **greater** than the historical yield."
   ]
  },
  {
   "cell_type": "code",
   "execution_count": 12,
   "id": "c4d63c3e-a56f-4f65-bf04-aa3c3458558c",
   "metadata": {
    "tags": []
   },
   "outputs": [
    {
     "name": "stdout",
     "output_type": "stream",
     "text": [
      "TtestResult(statistic=22.10361576051108, pvalue=2.9965513796710787e-21, df=32)\n"
     ]
    }
   ],
   "source": [
    "results_one_sided = stats.ttest_1samp(df_new_varieties['yield_bu_ac'], \n",
    "                            popmean=historical_mean_yield,\n",
    "                            alternative='greater')\n",
    "\n",
    "print(results_one_sided)\n"
   ]
  },
  {
   "cell_type": "code",
   "execution_count": 13,
   "id": "3c3fb336-19bd-42cd-8d61-9d1f78a33773",
   "metadata": {},
   "outputs": [
    {
     "name": "stdout",
     "output_type": "stream",
     "text": [
      "We reject the null hypothesis in favor of the alternative hypothesis that\n",
      "    the mean of the new varieties is greater than the historical yield\n"
     ]
    }
   ],
   "source": [
    "if results_one_sided[1] < alpha:\n",
    "    print(\"\"\"We reject the null hypothesis in favor of the alternative hypothesis that\n",
    "    the mean of the new varieties is greater than the historical yield\"\"\")\n",
    "else:\n",
    "    print(\"\"\"We accept the null hypothesis that the mean of the new varieties \n",
    "          is not greater than the historical yield\"\"\")\n",
    "\n"
   ]
  },
  {
   "cell_type": "markdown",
   "id": "d7a947aa-debe-4dcf-9160-ab4ca284895f",
   "metadata": {},
   "source": [
    "## Two-sample T-test\n",
    "\n",
    "This analysis calculates the T-test for the means of two independent samples. In this exercise we will evaluate if the mean grain yield of two different corn hybrids are statistically different from each other.\n",
    "\n",
    "*Null hypothesis*: The mean yield of the two corn hybrids are not statistically different from each other.\n",
    "\n",
    "*Alternative hypothesis*: The means of the two corn hybrids are statistically different."
   ]
  },
  {
   "cell_type": "code",
   "execution_count": 2,
   "id": "d8c3f378-ff72-411e-8afb-c1523601854d",
   "metadata": {
    "tags": []
   },
   "outputs": [],
   "source": [
    "# Import modules\n",
    "import pandas as pd\n",
    "from scipy import stats\n"
   ]
  },
  {
   "cell_type": "code",
   "execution_count": 3,
   "id": "6152f6e0-896e-4c71-b98a-1091bcc8d5eb",
   "metadata": {
    "tags": []
   },
   "outputs": [
    {
     "data": {
      "text/html": [
       "<div>\n",
       "<style scoped>\n",
       "    .dataframe tbody tr th:only-of-type {\n",
       "        vertical-align: middle;\n",
       "    }\n",
       "\n",
       "    .dataframe tbody tr th {\n",
       "        vertical-align: top;\n",
       "    }\n",
       "\n",
       "    .dataframe thead th {\n",
       "        text-align: right;\n",
       "    }\n",
       "</style>\n",
       "<table border=\"1\" class=\"dataframe\">\n",
       "  <thead>\n",
       "    <tr style=\"text-align: right;\">\n",
       "      <th></th>\n",
       "      <th>brand</th>\n",
       "      <th>replication</th>\n",
       "      <th>yield_bu_ac</th>\n",
       "      <th>lodging_perc</th>\n",
       "    </tr>\n",
       "  </thead>\n",
       "  <tbody>\n",
       "    <tr>\n",
       "      <th>0</th>\n",
       "      <td>LEWIS</td>\n",
       "      <td>1</td>\n",
       "      <td>172.9</td>\n",
       "      <td>47</td>\n",
       "    </tr>\n",
       "    <tr>\n",
       "      <th>1</th>\n",
       "      <td>LEWIS</td>\n",
       "      <td>2</td>\n",
       "      <td>218.3</td>\n",
       "      <td>20</td>\n",
       "    </tr>\n",
       "    <tr>\n",
       "      <th>2</th>\n",
       "      <td>LEWIS</td>\n",
       "      <td>3</td>\n",
       "      <td>196.8</td>\n",
       "      <td>40</td>\n",
       "    </tr>\n",
       "  </tbody>\n",
       "</table>\n",
       "</div>"
      ],
      "text/plain": [
       "   brand  replication  yield_bu_ac  lodging_perc\n",
       "0  LEWIS            1        172.9            47\n",
       "1  LEWIS            2        218.3            20\n",
       "2  LEWIS            3        196.8            40"
      ]
     },
     "execution_count": 3,
     "metadata": {},
     "output_type": "execute_result"
    }
   ],
   "source": [
    "df = pd.read_csv('../datasets/corn_dryland_trial.csv', skiprows=[0])\n",
    "df.head(3)\n"
   ]
  },
  {
   "cell_type": "code",
   "execution_count": 4,
   "id": "1f29df15-9e63-4ca1-8b2a-5ef4d15d1072",
   "metadata": {
    "tags": []
   },
   "outputs": [
    {
     "data": {
      "text/html": [
       "<div>\n",
       "<style scoped>\n",
       "    .dataframe tbody tr th:only-of-type {\n",
       "        vertical-align: middle;\n",
       "    }\n",
       "\n",
       "    .dataframe tbody tr th {\n",
       "        vertical-align: top;\n",
       "    }\n",
       "\n",
       "    .dataframe thead th {\n",
       "        text-align: right;\n",
       "    }\n",
       "</style>\n",
       "<table border=\"1\" class=\"dataframe\">\n",
       "  <thead>\n",
       "    <tr style=\"text-align: right;\">\n",
       "      <th></th>\n",
       "      <th>replication</th>\n",
       "      <th>yield_bu_ac</th>\n",
       "      <th>lodging_perc</th>\n",
       "    </tr>\n",
       "    <tr>\n",
       "      <th>brand</th>\n",
       "      <th></th>\n",
       "      <th></th>\n",
       "      <th></th>\n",
       "    </tr>\n",
       "  </thead>\n",
       "  <tbody>\n",
       "    <tr>\n",
       "      <th>LEWIS</th>\n",
       "      <td>3.0</td>\n",
       "      <td>194.46</td>\n",
       "      <td>43.4</td>\n",
       "    </tr>\n",
       "    <tr>\n",
       "      <th>NK</th>\n",
       "      <td>3.0</td>\n",
       "      <td>170.40</td>\n",
       "      <td>61.0</td>\n",
       "    </tr>\n",
       "  </tbody>\n",
       "</table>\n",
       "</div>"
      ],
      "text/plain": [
       "       replication  yield_bu_ac  lodging_perc\n",
       "brand                                        \n",
       "LEWIS          3.0       194.46          43.4\n",
       "NK             3.0       170.40          61.0"
      ]
     },
     "execution_count": 4,
     "metadata": {},
     "output_type": "execute_result"
    }
   ],
   "source": [
    "# Find mean for each brand\n",
    "df.groupby(by='brand').mean()\n"
   ]
  },
  {
   "cell_type": "code",
   "execution_count": 5,
   "id": "805333b0-6e18-4e95-9339-46c8fc076def",
   "metadata": {
    "tags": []
   },
   "outputs": [],
   "source": [
    "# Get yield values for each group\n",
    "idx_group_1 = df['brand'] == 'LEWIS'\n",
    "values_group_1 = df.loc[idx_group_1,'yield_bu_ac']\n",
    "\n",
    "idx_group_2 = df['brand'] == 'NK'\n",
    "values_group_2 = df.loc[idx_group_2,'yield_bu_ac']\n"
   ]
  },
  {
   "cell_type": "code",
   "execution_count": 6,
   "id": "26174b44-acae-410f-81f3-259264dae028",
   "metadata": {
    "tags": []
   },
   "outputs": [
    {
     "name": "stdout",
     "output_type": "stream",
     "text": [
      "2.1525722332699373 0.06352024499469316\n"
     ]
    }
   ],
   "source": [
    "# PRint statistical results\n",
    "t_statistic, p_value = stats.ttest_ind(values_group_1, values_group_2)\n",
    "print(t_statistic, p_value)\n"
   ]
  },
  {
   "cell_type": "code",
   "execution_count": 8,
   "id": "c7af583a-8e88-4c75-a663-8def086e54ff",
   "metadata": {},
   "outputs": [
    {
     "name": "stdout",
     "output_type": "stream",
     "text": [
      "We accept the null hypothesis that the mean of the two hybrids\n",
      "          are equal.\n"
     ]
    }
   ],
   "source": [
    "alpha = 0.05\n",
    "\n",
    "if p_value < alpha:\n",
    "    print(\"\"\"We reject the null hypothesis in favor of the alternative hypothesis that\n",
    "    the mean of the two hybrids are statistically different from each other.\"\"\")\n",
    "else:\n",
    "    print(\"\"\"We accept the null hypothesis that the mean of the two hybrids\n",
    "          are equal.\"\"\")\n"
   ]
  },
  {
   "cell_type": "markdown",
   "id": "b2f67920-9bc2-4f8e-a70f-ef8f95d9f835",
   "metadata": {},
   "source": [
    "We can plot the data using a boxplot and inspect if the notches (which represent the 95% confidence interval of the median) overlap. If they do, then that suggests that the median values are not statistically different."
   ]
  },
  {
   "cell_type": "code",
   "execution_count": 69,
   "id": "650073c3-825c-4fe6-9365-edbf9157eca7",
   "metadata": {},
   "outputs": [
    {
     "data": {
      "image/png": "[encoded data removed]",
      "text/plain": [
       "<Figure size 400x500 with 1 Axes>"
      ]
     },
     "metadata": {},
     "output_type": "display_data"
    }
   ],
   "source": [
    "df.boxplot(figsize=(4,5), column='yield_bu_ac', by='brand', \n",
    "           notch=True, showmeans=True, ylabel='Yield (bu/ac)');"
   ]
  },
  {
   "cell_type": "markdown",
   "id": "320dba07-92b1-4c7b-9585-d1eb5c132bcf",
   "metadata": {},
   "source": [
    "# Analysis of Variance\n",
    "\n",
    "The goal of analysis of variance (ANOVA) is to assess whether there are statistically significant differences between the means of three or more groups. It helps to determine whether any observed differences in the group means are likely to be genuine or simply due to random variation. \n",
    "\n",
    "A **one-way ANOVA** is used to analyze the effect of a single categorical factor on a continuous variable.\n",
    "\n",
    "A **two-way ANOVA** is used to assess the influence of two categorical factors simultaneously on a continuous variable. It allows for examining both main effects of each factor as well as their interaction effect.\n",
    "\n",
    "In this exercise we will use a dataset of corn yield for different treatments of nitrogen fertilizer on multiple US states. The dataset is a subset of the study published by Tremblay et al., 2012 (see references for more details) and it was obtained from (http://www.nue.okstate.edu/).\n"
   ]
  },
  {
   "cell_type": "code",
   "execution_count": 71,
   "id": "113aeeb6-37a6-41c3-823b-443c8f9bd86c",
   "metadata": {
    "tags": []
   },
   "outputs": [],
   "source": [
    "import pandas as pd\n",
    "from scipy import stats\n",
    "import matplotlib.pyplot as plt\n",
    "from statsmodels.formula.api import ols\n",
    "from statsmodels.stats.anova import anova_lm\n",
    "from statsmodels.stats.multicomp import MultiComparison\n"
   ]
  },
  {
   "cell_type": "code",
   "execution_count": 72,
   "id": "e625fcc0-9627-4983-a238-05eaae9078f1",
   "metadata": {
    "tags": []
   },
   "outputs": [
    {
     "data": {
      "text/html": [
       "<div>\n",
       "<style scoped>\n",
       "    .dataframe tbody tr th:only-of-type {\n",
       "        vertical-align: middle;\n",
       "    }\n",
       "\n",
       "    .dataframe tbody tr th {\n",
       "        vertical-align: top;\n",
       "    }\n",
       "\n",
       "    .dataframe thead th {\n",
       "        text-align: right;\n",
       "    }\n",
       "</style>\n",
       "<table border=\"1\" class=\"dataframe\">\n",
       "  <thead>\n",
       "    <tr style=\"text-align: right;\">\n",
       "      <th></th>\n",
       "      <th>Year</th>\n",
       "      <th>State</th>\n",
       "      <th>Site</th>\n",
       "      <th>Textural_class</th>\n",
       "      <th>Replications</th>\n",
       "      <th>Treatments</th>\n",
       "      <th>N_Planting_kg_ha</th>\n",
       "      <th>N_Sidedress_kg_ha</th>\n",
       "      <th>N_Total_kg_ha</th>\n",
       "      <th>Yield_T_ha</th>\n",
       "    </tr>\n",
       "  </thead>\n",
       "  <tbody>\n",
       "    <tr>\n",
       "      <th>0</th>\n",
       "      <td>2006</td>\n",
       "      <td>Illinois</td>\n",
       "      <td>Pad</td>\n",
       "      <td>Silt loam</td>\n",
       "      <td>1</td>\n",
       "      <td>1</td>\n",
       "      <td>0</td>\n",
       "      <td>0</td>\n",
       "      <td>0</td>\n",
       "      <td>3.26</td>\n",
       "    </tr>\n",
       "    <tr>\n",
       "      <th>1</th>\n",
       "      <td>2006</td>\n",
       "      <td>Illinois</td>\n",
       "      <td>Pad</td>\n",
       "      <td>Silt loam</td>\n",
       "      <td>1</td>\n",
       "      <td>3</td>\n",
       "      <td>36</td>\n",
       "      <td>0</td>\n",
       "      <td>36</td>\n",
       "      <td>4.15</td>\n",
       "    </tr>\n",
       "    <tr>\n",
       "      <th>2</th>\n",
       "      <td>2006</td>\n",
       "      <td>Illinois</td>\n",
       "      <td>Pad</td>\n",
       "      <td>Silt loam</td>\n",
       "      <td>1</td>\n",
       "      <td>5</td>\n",
       "      <td>36</td>\n",
       "      <td>54</td>\n",
       "      <td>90</td>\n",
       "      <td>8.64</td>\n",
       "    </tr>\n",
       "    <tr>\n",
       "      <th>3</th>\n",
       "      <td>2006</td>\n",
       "      <td>Illinois</td>\n",
       "      <td>Pad</td>\n",
       "      <td>Silt loam</td>\n",
       "      <td>1</td>\n",
       "      <td>7</td>\n",
       "      <td>36</td>\n",
       "      <td>107</td>\n",
       "      <td>143</td>\n",
       "      <td>10.52</td>\n",
       "    </tr>\n",
       "    <tr>\n",
       "      <th>4</th>\n",
       "      <td>2006</td>\n",
       "      <td>Illinois</td>\n",
       "      <td>Pad</td>\n",
       "      <td>Silt loam</td>\n",
       "      <td>1</td>\n",
       "      <td>9</td>\n",
       "      <td>36</td>\n",
       "      <td>161</td>\n",
       "      <td>197</td>\n",
       "      <td>11.47</td>\n",
       "    </tr>\n",
       "  </tbody>\n",
       "</table>\n",
       "</div>"
      ],
      "text/plain": [
       "   Year     State Site Textural_class  Replications  Treatments  \\\n",
       "0  2006  Illinois  Pad      Silt loam             1           1   \n",
       "1  2006  Illinois  Pad      Silt loam             1           3   \n",
       "2  2006  Illinois  Pad      Silt loam             1           5   \n",
       "3  2006  Illinois  Pad      Silt loam             1           7   \n",
       "4  2006  Illinois  Pad      Silt loam             1           9   \n",
       "\n",
       "   N_Planting_kg_ha  N_Sidedress_kg_ha  N_Total_kg_ha  Yield_T_ha  \n",
       "0                 0                  0              0        3.26  \n",
       "1                36                  0             36        4.15  \n",
       "2                36                 54             90        8.64  \n",
       "3                36                107            143       10.52  \n",
       "4                36                161            197       11.47  "
      ]
     },
     "execution_count": 72,
     "metadata": {},
     "output_type": "execute_result"
    }
   ],
   "source": [
    "# Load data\n",
    "df = pd.read_csv(\"../datasets/corn_nue_multiple_locs.csv\")\n",
    "df.head()\n"
   ]
  },
  {
   "cell_type": "code",
   "execution_count": 73,
   "id": "040e67ea-b086-489f-8ec8-7158229a3abd",
   "metadata": {
    "tags": []
   },
   "outputs": [
    {
     "name": "stdout",
     "output_type": "stream",
     "text": [
      "['Pad' 'Dixon' 'Manhattan' 'Copeland' 'Diederick']\n",
      "[1 3 5 7 9]\n",
      "[1 2 3 4]\n",
      "(120, 10)\n"
     ]
    }
   ],
   "source": [
    "# Print some useful properties of the dataset\n",
    "print(df['Site'].unique())        # Locations\n",
    "print(df['Treatments'].unique())   # Treatments\n",
    "print(df['Replications'].unique()) # Replications\n",
    "print(df.shape)\n",
    "\n"
   ]
  },
  {
   "cell_type": "code",
   "execution_count": 74,
   "id": "42c4abfd-dfed-4c30-a612-fb64e6e128ce",
   "metadata": {
    "tags": []
   },
   "outputs": [
    {
     "data": {
      "image/png": "[encoded data removed]",
      "text/plain": [
       "<Figure size 500x500 with 1 Axes>"
      ]
     },
     "metadata": {},
     "output_type": "display_data"
    }
   ],
   "source": [
    "# Examine yield data using boxplots for all locations combined\n",
    "df.boxplot(figsize=(5,5), column='Yield_T_ha', by='N_Total_kg_ha')\n",
    "plt.show()\n"
   ]
  },
  {
   "cell_type": "code",
   "execution_count": 75,
   "id": "270f6587-403f-416e-b2a4-35610e04436e",
   "metadata": {
    "tags": []
   },
   "outputs": [
    {
     "data": {
      "image/png": "[encoded data removed]",
      "text/plain": [
       "<Figure size 400x500 with 1 Axes>"
      ]
     },
     "metadata": {},
     "output_type": "display_data"
    }
   ],
   "source": [
    "# Examine yield by state\n",
    "df.boxplot(figsize=(4,5), column='Yield_T_ha', by='State')\n",
    "plt.show()\n"
   ]
  },
  {
   "cell_type": "code",
   "execution_count": 76,
   "id": "f5d84466-374d-4b4f-be18-86d07f8afeda",
   "metadata": {
    "tags": []
   },
   "outputs": [
    {
     "data": {
      "image/png": "[encoded data removed]",
      "text/plain": [
       "<Figure size 400x500 with 1 Axes>"
      ]
     },
     "metadata": {},
     "output_type": "display_data"
    }
   ],
   "source": [
    "# Examine yield by site\n",
    "df.boxplot(figsize=(4,5), column='Yield_T_ha', by='Site')\n",
    "plt.show()\n"
   ]
  },
  {
   "cell_type": "markdown",
   "id": "283ffae7-8010-42d4-9a3b-92e262036dba",
   "metadata": {},
   "source": [
    "## ANOVA assumptions\n",
    "\n",
    "1. Samples drawn from a population are normally distributed. **Test**: Shapiro-Wilk\n",
    "\n",
    "2. Samples drawn from all populations have (approximately) the same variance. This property is called homoscedasticity or homogeneity of variances.\" **Tests**: Bartlett's and Levene's tests.\n",
    "\n",
    "3. Samples are independent of each other. Test: No test. Here we rely on the nature of the variable being observed and the experimental design.\n"
   ]
  },
  {
   "cell_type": "code",
   "execution_count": 77,
   "id": "834e9829-30ea-4867-bb1e-059d8bd3dd7b",
   "metadata": {},
   "outputs": [
    {
     "data": {
      "text/plain": [
       "ShapiroResult(statistic=0.9829135537147522, pvalue=0.1326330304145813)"
      ]
     },
     "execution_count": 77,
     "metadata": {},
     "output_type": "execute_result"
    }
   ],
   "source": [
    "# Test the assumption of normality\n",
    "# Shapiro-WIlk's null hypothesis: Data was obtained from a normal distribution\n",
    "stats.shapiro(df['Yield_T_ha'])\n"
   ]
  },
  {
   "cell_type": "code",
   "execution_count": 78,
   "id": "b1aca52e-7fc9-4062-88fe-e3d4fd57046b",
   "metadata": {},
   "outputs": [
    {
     "data": {
      "text/plain": [
       "BartlettResult(statistic=6.054092711026625, pvalue=0.19514485256182393)"
      ]
     },
     "execution_count": 78,
     "metadata": {},
     "output_type": "execute_result"
    }
   ],
   "source": [
    "# Test for homogeneity of variance\n",
    "# Bartlett's null hypothesis: All the groups have equal variance\n",
    "\n",
    "D = {}\n",
    "for tmt in df['Treatments'].unique():\n",
    "    idx_tmt = df['Treatments'] == tmt\n",
    "    D[tmt] = df.loc[idx_tmt, 'Yield_T_ha'].values\n",
    "    \n",
    "#print(D)\n",
    "stats.bartlett(D[1], D[3], D[5], D[7], D[9])\n"
   ]
  },
  {
   "cell_type": "markdown",
   "id": "0236bbe9-8e11-4998-9a3a-9fd434878df4",
   "metadata": {},
   "source": [
    "## One-way ANOVA\n",
    "\n",
    "Here we will compare an independent variable with a single predictor. The predictor `N_Total_kg_ha` will be used as a categorical varaible. Alternatively we could use the `Treatments` column, but it is easier to read the table if we present the values using the actual treatment values, so that we quickly devise which Nitrogen rates show statistical differences.\n",
    "\n",
    "Below we will explore the one-way ANOVA using both SciPy (simpler code) and Statsmodels (more complete output)\n"
   ]
  },
  {
   "cell_type": "markdown",
   "id": "6702fffb-d967-457e-9a7b-99b6b8dc6d7d",
   "metadata": {},
   "source": [
    "### Using SciPy module"
   ]
  },
  {
   "cell_type": "code",
   "execution_count": 82,
   "id": "ad9e7263-b5c6-48a6-8d95-135965bc8551",
   "metadata": {},
   "outputs": [
    {
     "data": {
      "text/plain": [
       "F_onewayResult(statistic=11.431258827879908, pvalue=7.582810948341893e-08)"
      ]
     },
     "execution_count": 82,
     "metadata": {},
     "output_type": "execute_result"
    }
   ],
   "source": [
    "# One-way test\n",
    "stats.f_oneway(D[1], D[3], D[5], D[7], D[9])\n"
   ]
  },
  {
   "cell_type": "code",
   "execution_count": 83,
   "id": "3c9d5b91-1b22-4085-9617-c197f4f71464",
   "metadata": {},
   "outputs": [
    {
     "name": "stdout",
     "output_type": "stream",
     "text": [
      "Tukey's HSD Pairwise Group Comparisons (95.0% Confidence Interval)\n",
      "Comparison  Statistic  p-value  Lower CI  Upper CI\n",
      " (0 - 1)     -1.317     0.519    -3.642     1.007\n",
      " (0 - 2)     -3.036     0.004    -5.361    -0.711\n",
      " (0 - 3)     -4.310     0.000    -6.634    -1.985\n",
      " (0 - 4)     -4.745     0.000    -7.070    -2.421\n",
      " (1 - 0)      1.317     0.519    -1.007     3.642\n",
      " (1 - 2)     -1.718     0.250    -4.043     0.607\n",
      " (1 - 3)     -2.992     0.005    -5.317    -0.667\n",
      " (1 - 4)     -3.428     0.001    -5.753    -1.103\n",
      " (2 - 0)      3.036     0.004     0.711     5.361\n",
      " (2 - 1)      1.718     0.250    -0.607     4.043\n",
      " (2 - 3)     -1.274     0.553    -3.599     1.051\n",
      " (2 - 4)     -1.710     0.255    -4.034     0.615\n",
      " (3 - 0)      4.310     0.000     1.985     6.634\n",
      " (3 - 1)      2.992     0.005     0.667     5.317\n",
      " (3 - 2)      1.274     0.553    -1.051     3.599\n",
      " (3 - 4)     -0.436     0.985    -2.761     1.889\n",
      " (4 - 0)      4.745     0.000     2.421     7.070\n",
      " (4 - 1)      3.428     0.001     1.103     5.753\n",
      " (4 - 2)      1.710     0.255    -0.615     4.034\n",
      " (4 - 3)      0.436     0.985    -1.889     2.761\n",
      "\n"
     ]
    }
   ],
   "source": [
    "# Tukey test\n",
    "print(stats.tukey_hsd(D[1], D[3], D[5], D[7], D[9]))"
   ]
  },
  {
   "cell_type": "markdown",
   "id": "1b20cd51-a397-42d8-862e-112f869baad6",
   "metadata": {},
   "source": [
    "### Using Statsmodels module"
   ]
  },
  {
   "cell_type": "code",
   "execution_count": 84,
   "id": "31b53053-2dae-47ea-a51c-29737d76769b",
   "metadata": {
    "tags": []
   },
   "outputs": [
    {
     "data": {
      "text/html": [
       "<div>\n",
       "<style scoped>\n",
       "    .dataframe tbody tr th:only-of-type {\n",
       "        vertical-align: middle;\n",
       "    }\n",
       "\n",
       "    .dataframe tbody tr th {\n",
       "        vertical-align: top;\n",
       "    }\n",
       "\n",
       "    .dataframe thead th {\n",
       "        text-align: right;\n",
       "    }\n",
       "</style>\n",
       "<table border=\"1\" class=\"dataframe\">\n",
       "  <thead>\n",
       "    <tr style=\"text-align: right;\">\n",
       "      <th></th>\n",
       "      <th>df</th>\n",
       "      <th>sum_sq</th>\n",
       "      <th>mean_sq</th>\n",
       "      <th>F</th>\n",
       "      <th>PR(&gt;F)</th>\n",
       "    </tr>\n",
       "  </thead>\n",
       "  <tbody>\n",
       "    <tr>\n",
       "      <th>C(N_Total_kg_ha)</th>\n",
       "      <td>4.0</td>\n",
       "      <td>386.085542</td>\n",
       "      <td>96.521385</td>\n",
       "      <td>11.431259</td>\n",
       "      <td>7.582811e-08</td>\n",
       "    </tr>\n",
       "    <tr>\n",
       "      <th>Residual</th>\n",
       "      <td>115.0</td>\n",
       "      <td>971.018108</td>\n",
       "      <td>8.443636</td>\n",
       "      <td>NaN</td>\n",
       "      <td>NaN</td>\n",
       "    </tr>\n",
       "  </tbody>\n",
       "</table>\n",
       "</div>"
      ],
      "text/plain": [
       "                     df      sum_sq    mean_sq          F        PR(>F)\n",
       "C(N_Total_kg_ha)    4.0  386.085542  96.521385  11.431259  7.582811e-08\n",
       "Residual          115.0  971.018108   8.443636        NaN           NaN"
      ]
     },
     "execution_count": 84,
     "metadata": {},
     "output_type": "execute_result"
    }
   ],
   "source": [
    "# Anova table with statsmodels\n",
    "formula = 'Yield_T_ha ~ C(N_Total_kg_ha)'\n",
    "anova_lm(ols(formula, data=df).fit())\n",
    "\n"
   ]
  },
  {
   "cell_type": "markdown",
   "id": "0b711977-8ec3-4a7c-9811-5a32fa66a469",
   "metadata": {},
   "source": [
    "The ANOVA table shows the there is significant differences between treatments. The catch is that we don't know which groups are different. The ANOVA table only tells us that at least one  group has a mean value that is substantially (read *significantly*) different from the rest.\n",
    "\n",
    "The **F** is the F-statistic to test the null hypothesis that the corresponding coefficient is zero. The goal is to compare the mean variability within groups to the mean variability between groups. The F-statistic is just the ratio of the two (96.5/8.44=11.4). 96.52 is the variability between groups and 8.44 is the variability within the groups.\n",
    "\n",
    "\n",
    "The **pValue** of the F-statistic indicates whether a factor is not significant at the 5% significance level given the other terms in the model.\n",
    "\n",
    "A mean multicomparison test can help us identify which treatments show signifcant differences.\n"
   ]
  },
  {
   "cell_type": "code",
   "execution_count": 85,
   "id": "c0d1d4dc-91c3-4bb6-a02f-73c3c109c0b8",
   "metadata": {
    "tags": []
   },
   "outputs": [
    {
     "name": "stdout",
     "output_type": "stream",
     "text": [
      "Multiple Comparison of Means - Tukey HSD, FWER=0.05\n",
      "===================================================\n",
      "group1 group2 meandiff p-adj   lower  upper  reject\n",
      "---------------------------------------------------\n",
      "     0     36   1.3175 0.5192 -1.0073 3.6423  False\n",
      "     0     90   3.0358  0.004   0.711 5.3607   True\n",
      "     0    143   4.3096    0.0  1.9847 6.6344   True\n",
      "     0    197   4.7454    0.0  2.4206 7.0703   True\n",
      "    36     90   1.7183 0.2499 -0.6065 4.0432  False\n",
      "    36    143   2.9921 0.0047  0.6672 5.3169   True\n",
      "    36    197   3.4279 0.0008  1.1031 5.7528   True\n",
      "    90    143   1.2738 0.5527 -1.0511 3.5986  False\n",
      "    90    197   1.7096 0.2547 -0.6153 4.0344  False\n",
      "   143    197   0.4358 0.9852  -1.889 2.7607  False\n",
      "---------------------------------------------------\n"
     ]
    }
   ],
   "source": [
    "# Multicomparison test\n",
    "groups = MultiComparison(df[\"Yield_T_ha\"],df['N_Total_kg_ha']).tukeyhsd(alpha=0.05)\n",
    "print(groups)\n"
   ]
  },
  {
   "cell_type": "code",
   "execution_count": 86,
   "id": "1e4119eb-86b3-45f7-8824-ca12ff189806",
   "metadata": {
    "tags": []
   },
   "outputs": [
    {
     "data": {
      "image/png": "[encoded data removed]",
      "text/plain": [
       "<Figure size 500x400 with 1 Axes>"
      ]
     },
     "metadata": {},
     "output_type": "display_data"
    }
   ],
   "source": [
    "# Visualize significantly different groups relative to a specific group\n",
    "groups.plot_simultaneous(figsize=(5,4), comparison_name=90)\n",
    "plt.xlabel('Corn yield in T/ha', size=12)\n",
    "plt.ylabel('Nitrogen Treatments in kg/ha', size=12)\n",
    "plt.show()\n"
   ]
  },
  {
   "cell_type": "markdown",
   "id": "4596b195-6b61-4b67-8ef9-332f9b7de1de",
   "metadata": {},
   "source": [
    "## Two-way ANOVA\n",
    "\n",
    "In this case we will add two predictors variables, soil textural class and total nitrogen applied. In many cases researchers add `Location` as a proxy for local environmental conditions (including soil) and `Year` as a proxy for the particular weather conditions during each growing season. In this case we have soil textural class available, so we will make use of that first, since it will give our results broader applications that, in principle, can be related to soil types elsewhere.\n"
   ]
  },
  {
   "cell_type": "code",
   "execution_count": 87,
   "id": "857b6d2a-af1e-488d-bfe9-2180d6c030a7",
   "metadata": {
    "tags": []
   },
   "outputs": [
    {
     "data": {
      "text/html": [
       "<div>\n",
       "<style scoped>\n",
       "    .dataframe tbody tr th:only-of-type {\n",
       "        vertical-align: middle;\n",
       "    }\n",
       "\n",
       "    .dataframe tbody tr th {\n",
       "        vertical-align: top;\n",
       "    }\n",
       "\n",
       "    .dataframe thead th {\n",
       "        text-align: right;\n",
       "    }\n",
       "</style>\n",
       "<table border=\"1\" class=\"dataframe\">\n",
       "  <thead>\n",
       "    <tr style=\"text-align: right;\">\n",
       "      <th></th>\n",
       "      <th>df</th>\n",
       "      <th>sum_sq</th>\n",
       "      <th>mean_sq</th>\n",
       "      <th>F</th>\n",
       "      <th>PR(&gt;F)</th>\n",
       "    </tr>\n",
       "  </thead>\n",
       "  <tbody>\n",
       "    <tr>\n",
       "      <th>C(N_Total_kg_ha)</th>\n",
       "      <td>4.0</td>\n",
       "      <td>386.085542</td>\n",
       "      <td>96.521385</td>\n",
       "      <td>11.750059</td>\n",
       "      <td>5.022955e-08</td>\n",
       "    </tr>\n",
       "    <tr>\n",
       "      <th>C(Textural_class)</th>\n",
       "      <td>1.0</td>\n",
       "      <td>34.560000</td>\n",
       "      <td>34.560000</td>\n",
       "      <td>4.207172</td>\n",
       "      <td>4.254546e-02</td>\n",
       "    </tr>\n",
       "    <tr>\n",
       "      <th>Residual</th>\n",
       "      <td>114.0</td>\n",
       "      <td>936.458108</td>\n",
       "      <td>8.214545</td>\n",
       "      <td>NaN</td>\n",
       "      <td>NaN</td>\n",
       "    </tr>\n",
       "  </tbody>\n",
       "</table>\n",
       "</div>"
      ],
      "text/plain": [
       "                      df      sum_sq    mean_sq          F        PR(>F)\n",
       "C(N_Total_kg_ha)     4.0  386.085542  96.521385  11.750059  5.022955e-08\n",
       "C(Textural_class)    1.0   34.560000  34.560000   4.207172  4.254546e-02\n",
       "Residual           114.0  936.458108   8.214545        NaN           NaN"
      ]
     },
     "execution_count": 87,
     "metadata": {},
     "output_type": "execute_result"
    }
   ],
   "source": [
    "# Two predictors\n",
    "formula = 'Yield_T_ha ~ C(N_Total_kg_ha) + C(Textural_class)'\n",
    "anova_lm(ols(formula, data=df).fit())\n"
   ]
  },
  {
   "cell_type": "markdown",
   "id": "4c2e6593-ff08-4c4c-9bc3-a1527d2df7af",
   "metadata": {},
   "source": [
    "Soil textual class was barely significant considering all locations and years at the the 0.05 level."
   ]
  },
  {
   "cell_type": "code",
   "execution_count": 88,
   "id": "529d3270-fe2d-421e-a642-c0e79fafb45c",
   "metadata": {
    "tags": []
   },
   "outputs": [
    {
     "data": {
      "text/html": [
       "<div>\n",
       "<style scoped>\n",
       "    .dataframe tbody tr th:only-of-type {\n",
       "        vertical-align: middle;\n",
       "    }\n",
       "\n",
       "    .dataframe tbody tr th {\n",
       "        vertical-align: top;\n",
       "    }\n",
       "\n",
       "    .dataframe thead th {\n",
       "        text-align: right;\n",
       "    }\n",
       "</style>\n",
       "<table border=\"1\" class=\"dataframe\">\n",
       "  <thead>\n",
       "    <tr style=\"text-align: right;\">\n",
       "      <th></th>\n",
       "      <th>df</th>\n",
       "      <th>sum_sq</th>\n",
       "      <th>mean_sq</th>\n",
       "      <th>F</th>\n",
       "      <th>PR(&gt;F)</th>\n",
       "    </tr>\n",
       "  </thead>\n",
       "  <tbody>\n",
       "    <tr>\n",
       "      <th>C(N_Total_kg_ha)</th>\n",
       "      <td>4.0</td>\n",
       "      <td>386.085542</td>\n",
       "      <td>96.521385</td>\n",
       "      <td>12.530231</td>\n",
       "      <td>1.960683e-08</td>\n",
       "    </tr>\n",
       "    <tr>\n",
       "      <th>C(Textural_class)</th>\n",
       "      <td>1.0</td>\n",
       "      <td>34.560000</td>\n",
       "      <td>34.560000</td>\n",
       "      <td>4.486516</td>\n",
       "      <td>3.641510e-02</td>\n",
       "    </tr>\n",
       "    <tr>\n",
       "      <th>C(N_Total_kg_ha):C(Textural_class)</th>\n",
       "      <td>4.0</td>\n",
       "      <td>89.119178</td>\n",
       "      <td>22.279795</td>\n",
       "      <td>2.892322</td>\n",
       "      <td>2.547188e-02</td>\n",
       "    </tr>\n",
       "    <tr>\n",
       "      <th>Residual</th>\n",
       "      <td>110.0</td>\n",
       "      <td>847.338930</td>\n",
       "      <td>7.703081</td>\n",
       "      <td>NaN</td>\n",
       "      <td>NaN</td>\n",
       "    </tr>\n",
       "  </tbody>\n",
       "</table>\n",
       "</div>"
      ],
      "text/plain": [
       "                                       df      sum_sq    mean_sq          F  \\\n",
       "C(N_Total_kg_ha)                      4.0  386.085542  96.521385  12.530231   \n",
       "C(Textural_class)                     1.0   34.560000  34.560000   4.486516   \n",
       "C(N_Total_kg_ha):C(Textural_class)    4.0   89.119178  22.279795   2.892322   \n",
       "Residual                            110.0  847.338930   7.703081        NaN   \n",
       "\n",
       "                                          PR(>F)  \n",
       "C(N_Total_kg_ha)                    1.960683e-08  \n",
       "C(Textural_class)                   3.641510e-02  \n",
       "C(N_Total_kg_ha):C(Textural_class)  2.547188e-02  \n",
       "Residual                                     NaN  "
      ]
     },
     "execution_count": 88,
     "metadata": {},
     "output_type": "execute_result"
    }
   ],
   "source": [
    "# Two predictors with interaction\n",
    "formula = 'Yield_T_ha ~ C(N_Total_kg_ha) * C(Textural_class)'\n",
    "anova_lm(ols(formula, data=df).fit())\n"
   ]
  },
  {
   "cell_type": "markdown",
   "id": "9eab63b5-c2b5-412c-b66f-6fbbfdfa09e2",
   "metadata": {},
   "source": [
    "The interaction of nitrogen rate and textural class also resulted statistically significant at the 0.05 level."
   ]
  },
  {
   "cell_type": "code",
   "execution_count": 89,
   "id": "edfe2e2f-e5c0-4eb2-90ef-ce6666ee9ea7",
   "metadata": {
    "tags": []
   },
   "outputs": [
    {
     "data": {
      "text/html": [
       "<div>\n",
       "<style scoped>\n",
       "    .dataframe tbody tr th:only-of-type {\n",
       "        vertical-align: middle;\n",
       "    }\n",
       "\n",
       "    .dataframe tbody tr th {\n",
       "        vertical-align: top;\n",
       "    }\n",
       "\n",
       "    .dataframe thead th {\n",
       "        text-align: right;\n",
       "    }\n",
       "</style>\n",
       "<table border=\"1\" class=\"dataframe\">\n",
       "  <thead>\n",
       "    <tr style=\"text-align: right;\">\n",
       "      <th></th>\n",
       "      <th>df</th>\n",
       "      <th>sum_sq</th>\n",
       "      <th>mean_sq</th>\n",
       "      <th>F</th>\n",
       "      <th>PR(&gt;F)</th>\n",
       "    </tr>\n",
       "  </thead>\n",
       "  <tbody>\n",
       "    <tr>\n",
       "      <th>C(N_Total_kg_ha)</th>\n",
       "      <td>4.0</td>\n",
       "      <td>386.085542</td>\n",
       "      <td>96.521385</td>\n",
       "      <td>20.522835</td>\n",
       "      <td>3.270251e-12</td>\n",
       "    </tr>\n",
       "    <tr>\n",
       "      <th>State</th>\n",
       "      <td>2.0</td>\n",
       "      <td>234.432785</td>\n",
       "      <td>117.216393</td>\n",
       "      <td>24.923106</td>\n",
       "      <td>1.989675e-09</td>\n",
       "    </tr>\n",
       "    <tr>\n",
       "      <th>C(Year)</th>\n",
       "      <td>2.0</td>\n",
       "      <td>112.504702</td>\n",
       "      <td>56.252351</td>\n",
       "      <td>11.960642</td>\n",
       "      <td>2.328310e-05</td>\n",
       "    </tr>\n",
       "    <tr>\n",
       "      <th>C(N_Total_kg_ha):State</th>\n",
       "      <td>8.0</td>\n",
       "      <td>140.688973</td>\n",
       "      <td>17.586122</td>\n",
       "      <td>3.739245</td>\n",
       "      <td>7.649526e-04</td>\n",
       "    </tr>\n",
       "    <tr>\n",
       "      <th>C(N_Total_kg_ha):C(Year)</th>\n",
       "      <td>8.0</td>\n",
       "      <td>36.595110</td>\n",
       "      <td>4.574389</td>\n",
       "      <td>0.972628</td>\n",
       "      <td>4.621589e-01</td>\n",
       "    </tr>\n",
       "    <tr>\n",
       "      <th>State:C(Year)</th>\n",
       "      <td>4.0</td>\n",
       "      <td>3.745613</td>\n",
       "      <td>0.936403</td>\n",
       "      <td>0.199103</td>\n",
       "      <td>9.382617e-01</td>\n",
       "    </tr>\n",
       "    <tr>\n",
       "      <th>C(N_Total_kg_ha):State:C(Year)</th>\n",
       "      <td>16.0</td>\n",
       "      <td>14.832950</td>\n",
       "      <td>0.927059</td>\n",
       "      <td>0.197116</td>\n",
       "      <td>9.996634e-01</td>\n",
       "    </tr>\n",
       "    <tr>\n",
       "      <th>Residual</th>\n",
       "      <td>95.0</td>\n",
       "      <td>446.796537</td>\n",
       "      <td>4.703121</td>\n",
       "      <td>NaN</td>\n",
       "      <td>NaN</td>\n",
       "    </tr>\n",
       "  </tbody>\n",
       "</table>\n",
       "</div>"
      ],
      "text/plain": [
       "                                  df      sum_sq     mean_sq          F  \\\n",
       "C(N_Total_kg_ha)                 4.0  386.085542   96.521385  20.522835   \n",
       "State                            2.0  234.432785  117.216393  24.923106   \n",
       "C(Year)                          2.0  112.504702   56.252351  11.960642   \n",
       "C(N_Total_kg_ha):State           8.0  140.688973   17.586122   3.739245   \n",
       "C(N_Total_kg_ha):C(Year)         8.0   36.595110    4.574389   0.972628   \n",
       "State:C(Year)                    4.0    3.745613    0.936403   0.199103   \n",
       "C(N_Total_kg_ha):State:C(Year)  16.0   14.832950    0.927059   0.197116   \n",
       "Residual                        95.0  446.796537    4.703121        NaN   \n",
       "\n",
       "                                      PR(>F)  \n",
       "C(N_Total_kg_ha)                3.270251e-12  \n",
       "State                           1.989675e-09  \n",
       "C(Year)                         2.328310e-05  \n",
       "C(N_Total_kg_ha):State          7.649526e-04  \n",
       "C(N_Total_kg_ha):C(Year)        4.621589e-01  \n",
       "State:C(Year)                   9.382617e-01  \n",
       "C(N_Total_kg_ha):State:C(Year)  9.996634e-01  \n",
       "Residual                                 NaN  "
      ]
     },
     "execution_count": 89,
     "metadata": {},
     "output_type": "execute_result"
    }
   ],
   "source": [
    "# Classical ANOVA with Treatment, Location, and Year interactions\n",
    "formula = 'Yield_T_ha ~ C(N_Total_kg_ha) * State * C(Year)'\n",
    "anova_lm(ols(formula, data=df).fit())\n"
   ]
  },
  {
   "cell_type": "markdown",
   "id": "5231a7b3-5b49-4db1-a62a-a09152cda8a5",
   "metadata": {},
   "source": [
    "In a multi-treatment, multi-year, and multi-state study, it is not surprising that treatment, site, and year resulted highly significant (P<0.01).\n",
    "\n",
    "Note that the interactions `N_Total_kg_ha:Year`, `State:Year`, and `N_Total_kg_ha:State:Year` were not significant at the P<0.05 level."
   ]
  },
  {
   "cell_type": "markdown",
   "id": "7cf3c33f-7262-4fc9-8fa2-d1f48a9d18ba",
   "metadata": {},
   "source": [
    "## References\n",
    "\n",
    "Patrignani, A., & Ochsner, T. E. (2015). Canopeo: A powerful new tool for measuring fractional green canopy cover. Agronomy journal, 107(6), 2312-2320.\n",
    "\n",
    "Tremblay, N.,  Y.M. Bouroubi,  C. Bélec,  R.W. Mullen,  N.R. Kitchen,  W.E. Thomason,  S. Ebelhar,  D.B. Mengel,  W.R. Raun,  D.D. Francis,  E.D. Vories, and I. Ortiz-Monasterio. 2012. Corn response to nitrogen is influenced by soil texture and weather. Agron. J. 104:1658–1671. doi:10.2134/agronj2012.018.\n"
   ]
  }
 ],
 "metadata": {
  "kernelspec": {
   "display_name": "Python 3 (ipykernel)",
   "language": "python",
   "name": "python3"
  },
  "language_info": {
   "codemirror_mode": {
    "name": "ipython",
    "version": 3
   },
   "file_extension": ".py",
   "mimetype": "text/x-python",
   "name": "python",
   "nbconvert_exporter": "python",
   "pygments_lexer": "ipython3",
   "version": "3.10.9"
  }
 },
 "nbformat": 4,
 "nbformat_minor": 5
}
