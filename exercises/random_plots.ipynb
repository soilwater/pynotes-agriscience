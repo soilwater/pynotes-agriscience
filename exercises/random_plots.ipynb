{
 "cells": [
  {
   "cell_type": "raw",
   "metadata": {},
   "source": [
    "---\n",
    "title: \"Random plot generator\"\n",
    "author: \"Andres Patrignani\"\n",
    "date: \"1/18/2024\"\n",
    "keywords: [\"plots\", \"experiments\", \"random\"]\n",
    "---"
   ]
  },
  {
   "cell_type": "markdown",
   "metadata": {},
   "source": [
    "One of the most common tasks when designing a new research experiment is the randomization of treatments. This statistical procedure spans multiple disciplines, from field plots in agronomy to Petri dishes in microbiology. The idea of setting a proper experiment design is to ensure that differences in the observed variable are mostly due to treatment effects and not other factors.\n",
    "\n",
    "There are multiple experimental designs, but the three of the most popular are complete randomized design, randomized complete block design, and Latin square design. \n",
    "\n",
    "**Complete randomized design**: In a completely randomized design (CRD), treatments are allocated entirely at random, ensuring that each experimental unit has an equal probability of receiving any given treatment. This design is particularly effective in homogeneous conditions where each unit is expected to respond similarly to treatments. In CRD, it is possible for the same treatment to be repeated across different units within the same replication. The assumption of homogeneous conditions enables any treatment to be assigned to any experimental unit without bias.\n",
    "\n",
    "**Randomized complete block design**: Unlike CRD, in a randomized complete block design (RCBD), the primary goal is to minimize experimental error by accounting for known sources of variability among experimental units, such as terrain slope, temperature gradients in greenhouses, or varying light conditions. This is achieved by grouping similar experimental units into \"blocks\" that are expected to respond uniformly to treatments. Within each block, treatments are randomly assigned in such a way that each treatment appears exactly once. This ensures that the effect of each treatment can be assessed independently of block-to-block variation, enhancing the evaluation of treatment effects.\n",
    "\n",
    "**Latin square design**: The Latin square design is used to control for two sources of variation in experimental setups. In this design, each treatment appears exactly once in each row and each column of the square, akin to a Latin puzzle, hence the name. For example, if there are five treatments, they will be arranged in a 5x5 square. This setup ensures that the effects of row and column variables are evenly distributed, reducing experimental error and isolating the treatment effects more effectively. The Latin square design is an efficient way to handle two-dimensional heterogeneity in experimental designs in controlled studies (e.g., greenhouse studies).\n",
    "\n",
    "The goal of this exercise is to create a Python script that generates randomized plot labels given a list of treatments and number of replications.\n"
   ]
  },
  {
   "cell_type": "code",
   "execution_count": 10,
   "metadata": {},
   "outputs": [],
   "source": [
    "# Import modules\n",
    "import numpy as np\n"
   ]
  },
  {
   "cell_type": "code",
   "execution_count": 68,
   "metadata": {},
   "outputs": [],
   "source": [
    "# Define treatments and replicates\n",
    "treatments = np.array([\"N0\", \"N25\", \"N50\", \"N100\", \"N200\"]) # Nitrogen in kg N/hectare\n",
    "\n",
    "# Define number replicates\n",
    "replicates = 5\n"
   ]
  },
  {
   "cell_type": "markdown",
   "metadata": {},
   "source": [
    "## Complete randomized design"
   ]
  },
  {
   "cell_type": "code",
   "execution_count": 70,
   "metadata": {},
   "outputs": [
    {
     "name": "stdout",
     "output_type": "stream",
     "text": [
      "[['N50' 'N50' 'N100' 'N0' 'N200']\n",
      " ['N50' 'N100' 'N100' 'N0' 'N0']\n",
      " ['N200' 'N25' 'N25' 'N200' 'N0']\n",
      " ['N100' 'N0' 'N100' 'N200' 'N200']\n",
      " ['N25' 'N25' 'N50' 'N50' 'N25']]\n"
     ]
    }
   ],
   "source": [
    "# Randomized complete block\n",
    "np.random.seed(1)\n",
    "\n",
    "# Create the experimental units\n",
    "exp_units_crd = np.repeat(treatments, replicates)\n",
    "\n",
    "# Randomize the order of the experimental units (inplace operation)\n",
    "np.random.shuffle(exp_units_crd)\n",
    "\n",
    "# Divide array into individual replicates for easier reading\n",
    "exp_units_crd = np.reshape(exp_units_crd, (replicates,treatments.shape[0]))\n",
    "print(exp_units_crd)\n"
   ]
  },
  {
   "cell_type": "markdown",
   "metadata": {},
   "source": [
    "## Complete randomized block"
   ]
  },
  {
   "cell_type": "code",
   "execution_count": 71,
   "metadata": {},
   "outputs": [
    {
     "name": "stdout",
     "output_type": "stream",
     "text": [
      "[['N0' 'N25' 'N50' 'N100' 'N200']\n",
      " ['N50' 'N25' 'N200' 'N0' 'N100']\n",
      " ['N0' 'N50' 'N200' 'N100' 'N25']\n",
      " ['N50' 'N100' 'N25' 'N200' 'N0']\n",
      " ['N100' 'N0' 'N25' 'N50' 'N200']]\n"
     ]
    }
   ],
   "source": [
    "# Complete randomized\n",
    "np.random.seed(1)\n",
    "\n",
    "# Create array of experimental units\n",
    "# In field experiments it is common to keep the first block sorted\n",
    "# to have as a reference during field visits. This is not a problem\n",
    "# since the sorted array is one of the possible block arrangements\n",
    "exp_units_rcbd = treatments\n",
    "\n",
    "for i in range(replicates-1):\n",
    "    \n",
    "    # Draw treatments without replacement\n",
    "    block = np.random.choice(treatments, size=treatments.size, replace=False)\n",
    "    exp_units_rcbd = np.vstack((exp_units_rcbd, block))\n",
    "\n",
    "print(exp_units_rcbd)\n"
   ]
  },
  {
   "cell_type": "markdown",
   "metadata": {},
   "source": [
    "## Latin square design"
   ]
  },
  {
   "cell_type": "code",
   "execution_count": 72,
   "metadata": {},
   "outputs": [
    {
     "name": "stdout",
     "output_type": "stream",
     "text": [
      "[['N100' 'N200' 'N0' 'N25' 'N50']\n",
      " ['N200' 'N0' 'N25' 'N50' 'N100']\n",
      " ['N25' 'N50' 'N100' 'N200' 'N0']\n",
      " ['N0' 'N25' 'N50' 'N100' 'N200']\n",
      " ['N50' 'N100' 'N200' 'N0' 'N25']]\n"
     ]
    }
   ],
   "source": [
    "# Latin square\n",
    "np.random.seed(1)\n",
    "\n",
    "# Create experimental units, all rows with the same treatments\n",
    "exp_units_latsq = np.tile(treatments,replicates).reshape((replicates,treatments.size))\n",
    "\n",
    "# Create array with random shift steps\n",
    "shifts = np.random.choice(range(replicates), size=replicates, replace=False)\n",
    "\n",
    "for n,k in enumerate(shifts):\n",
    "    \n",
    "    # Shift first block by a random step\n",
    "    exp_units_latsq[n] = np.roll(exp_units_latsq[n], k)\n",
    "\n",
    "print(exp_units_latsq)\n"
   ]
  },
  {
   "cell_type": "markdown",
   "metadata": {},
   "source": [
    "## Practice\n",
    "\n",
    "- Practice by coding other experimental designs, like split-plot design."
   ]
  },
  {
   "cell_type": "markdown",
   "metadata": {},
   "source": [
    "## References\n",
    "\n",
    "Jayaraman, K., 1984. FORSPA-FAO Publication A Statistical Manual for forestry Research (No. Fe 25). FAO,. http://www.fao.org/3/X6831E/X6831E07.htm\n"
   ]
  }
 ],
 "metadata": {
  "kernelspec": {
   "display_name": "Python 3 (ipykernel)",
   "language": "python",
   "name": "python3"
  },
  "language_info": {
   "codemirror_mode": {
    "name": "ipython",
    "version": 3
   },
   "file_extension": ".py",
   "mimetype": "text/x-python",
   "name": "python",
   "nbconvert_exporter": "python",
   "pygments_lexer": "ipython3",
   "version": "3.10.9"
  }
 },
 "nbformat": 4,
 "nbformat_minor": 4
}
