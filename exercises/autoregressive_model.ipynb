{
 "cells": [
  {
   "cell_type": "raw",
   "metadata": {},
   "source": [
    "---\n",
    "title: \"Autogregressive model\"\n",
    "author: \"Andres Patrignani\"\n",
    "date: \"1/31/2024\"\n",
    "keywords: [\"autoregression\", \"evapotranspiration\", \"time series\"]\n",
    "---"
   ]
  },
  {
   "cell_type": "markdown",
   "metadata": {},
   "source": []
  },
  {
   "cell_type": "code",
   "execution_count": null,
   "metadata": {},
   "outputs": [],
   "source": [
    "# Import modules\n",
    "import numpy as np\n",
    "import pandas as pd\n",
    "import matplotlib.pyplot as plt\n",
    "\n",
    "from statsmodels.graphics.tsaplots import plot_acf, plot_pacf\n",
    "from statsmodels.tsa.seasonal import seasonal_decompose\n",
    "from statsmodels.tsa.arima.model import ARIMA\n"
   ]
  },
  {
   "cell_type": "markdown",
   "metadata": {},
   "source": [
    "## Atmospheric carbon dioxide data"
   ]
  },
  {
   "cell_type": "code",
   "execution_count": null,
   "metadata": {},
   "outputs": [],
   "source": [
    "# Define column names\n",
    "col_names = ['year','month','decimal_date','avg_co2',\n",
    "             'de_seasonalized','days','std','uncertainty']\n",
    "\n",
    "# Read dataset with custom column names\n",
    "df = pd.read_csv('../datasets/co2_mm_mlo.txt', comment='#', delimiter='\\s+', names=col_names)\n",
    "\n",
    "# Display a few rows\n",
    "df.head(3)\n"
   ]
  },
  {
   "cell_type": "code",
   "execution_count": null,
   "metadata": {},
   "outputs": [],
   "source": [
    "# Add date column\n",
    "df['date'] = pd.to_datetime({'year':df['year'],\n",
    "                             'month':df['month'],\n",
    "                             'day':1})\n",
    "\n",
    "# Set timestamp as index (specify the freq for the statsmodels package)\n",
    "df.set_index('date', inplace=True)\n",
    "df.index.freq = 'MS' # print(df.index.freq) to check that is not None\n",
    "df.head(3)\n"
   ]
  },
  {
   "cell_type": "code",
   "execution_count": null,
   "metadata": {},
   "outputs": [],
   "source": [
    "# Check if we have any missing values\n",
    "df.isna().sum()\n"
   ]
  },
  {
   "cell_type": "code",
   "execution_count": null,
   "metadata": {},
   "outputs": [],
   "source": [
    "# Visualize time series data\n",
    "plt.figure(figsize=(6,4))\n",
    "plt.plot(df['avg_co2'])\n",
    "plt.ylabel('$CO_2$ (ppm)')\n",
    "plt.show()\n"
   ]
  },
  {
   "cell_type": "markdown",
   "metadata": {},
   "source": [
    "### Test for stationarity\n",
    "\n",
    "Stationarity in a time series implies that the statistical properties of the series like mean, variance, and autocorrelation are constant over time. In a stationary time series, these properties do not depend on the time at which the series is observed, meaning that the series does not exhibit trends or seasonal effects. Non-stationary data typically show clear trends, cyclical patterns, or other systematic changes over time. Non-stationary time series often need to be transformed (or de-trended) to become stationary before analysis.\n",
    "\n",
    "The Dickey-Fuller (`adfuller`) test provided by the `statsmodels` library can be helpful to statistically test for stationarity.\n",
    "\n",
    "**Dickey-Fuller test**\n",
    "- Null Hypothesis: The series is NOT stationary\n",
    "- Alternate Hypothesis: The series is stationary.\n",
    "\n",
    "The null hypothesis can be rejected if `p-value<0.05`.  Hence, if the p-value is >0.05, the series is non-stationary.\n"
   ]
  },
  {
   "cell_type": "code",
   "execution_count": null,
   "metadata": {},
   "outputs": [],
   "source": [
    "# Dickey-Fuller test\n",
    "adfuller(df['avg_co2'], autolag=\"AIC\")"
   ]
  },
  {
   "cell_type": "markdown",
   "metadata": {},
   "source": [
    "### Create training and testing sets"
   ]
  },
  {
   "cell_type": "code",
   "execution_count": null,
   "metadata": {},
   "outputs": [],
   "source": [
    "N_train = round(df.shape[0] * 0.95)\n",
    "df_train = df[:N_train]\n",
    "df_test = df[N_train+1:]\n"
   ]
  },
  {
   "cell_type": "markdown",
   "metadata": {},
   "source": [
    "### Decompose time series"
   ]
  },
  {
   "cell_type": "code",
   "execution_count": null,
   "metadata": {},
   "outputs": [],
   "source": [
    "# Decompose time series\n",
    "# Extrapolate to avoid NaNs\n",
    "results = seasonal_decompose(df_train['avg_co2'], \n",
    "                             model='additive', \n",
    "                             period=12,\n",
    "                             extrapolate_trend='freq')\n",
    " "
   ]
  },
  {
   "cell_type": "code",
   "execution_count": null,
   "metadata": {},
   "outputs": [],
   "source": [
    "# Create figure with trend components\n",
    "plt.figure(figsize=(6,6))\n",
    " \n",
    "plt.subplot(3,1,1)\n",
    "plt.title('Trend')\n",
    "plt.plot(results.trend, label='Trend')\n",
    "plt.ylabel('$CO_2$ (ppm)')\n",
    " \n",
    "plt.subplot(3,1,2)\n",
    "plt.title('Seasonality')\n",
    "plt.plot(results.seasonal, label='Seasonal')\n",
    "plt.ylabel('$CO_2$ (ppm)')\n",
    "\n",
    "plt.subplot(3,1,3)\n",
    "plt.title('Residuals')\n",
    "plt.plot(results.resid, label='Residuals')\n",
    "plt.ylabel('$CO_2$ (ppm)')\n",
    "\n",
    "plt.subplots_adjust(hspace=0.5)\n",
    "plt.show()"
   ]
  },
  {
   "cell_type": "markdown",
   "metadata": {},
   "source": [
    "## Examine autocorrelation lags\n",
    "\n",
    "The `statsmodels` module offers an extensive library of functions for time series analysis. In addition to autocorrelation function, we can also apply a partial autocorrelation function, that removes the effect of intermediate lags. For instance, the PACF between time `t` and time `t-4` is the pure autocorrelation without the effect of `t-1`, `t-2`, and `t-3`."
   ]
  },
  {
   "cell_type": "code",
   "execution_count": null,
   "metadata": {},
   "outputs": [],
   "source": [
    "# Create figure\n",
    "fig, ax = plt.subplots(figsize=(8,5), ncols=1, nrows=2)\n",
    "\n",
    "# Plot the autocorrelation function\n",
    "plot_acf(df['avg_co2'], ax=ax[0])\n",
    "ax[0].set_xlabel('Lag (days)')\n",
    "ax[0].set_ylabel('Correlation coefficient')\n",
    "\n",
    "# Plot the partial autocorrelation function\n",
    "plot_pacf(df['avg_co2'], ax[1], method='ywm')\n",
    "ax[1].set_xlabel('Lag (days)')\n",
    "ax[1].set_ylabel('Correlation coefficient')\n",
    "\n",
    "fig.subplots_adjust(hspace=0.5)\n",
    "plt.show()\n"
   ]
  },
  {
   "cell_type": "code",
   "execution_count": null,
   "metadata": {},
   "outputs": [],
   "source": [
    "# Fit model to train set\n",
    "# (p,d,q) => autoregressive, differences, and moving average\n",
    "# (p,d,q,s) => autoregressive, differences, moving average, and periodicity\n",
    "\n",
    "model = ARIMA(df_train['avg_co2'],\n",
    "              order=(2,0,0), \n",
    "              seasonal_order=(1,0,0,12),\n",
    "              dates=df_train.index,\n",
    "              trend=[1,1,1] # Use quadratic polynomial to approximate main trend\n",
    "             ).fit()\n",
    "\n",
    "# seasonal_order (3,0,0,12) means that we add 12, 24, and 36 month lags"
   ]
  },
  {
   "cell_type": "code",
   "execution_count": null,
   "metadata": {},
   "outputs": [],
   "source": [
    "# Mean absolute error\n",
    "print(model.mae,'ppm')\n"
   ]
  },
  {
   "cell_type": "code",
   "execution_count": null,
   "metadata": {},
   "outputs": [],
   "source": [
    "# Print summary statistics\n",
    "model.summary()\n"
   ]
  },
  {
   "cell_type": "markdown",
   "metadata": {},
   "source": [
    "### Predict with autoregressive model"
   ]
  },
  {
   "cell_type": "code",
   "execution_count": null,
   "metadata": {},
   "outputs": [],
   "source": [
    "pred_values = model.predict(start=df_test.index[0],\n",
    "                            end=df_test.index[-2])"
   ]
  },
  {
   "cell_type": "code",
   "execution_count": null,
   "metadata": {},
   "outputs": [],
   "source": [
    "plt.plot(pred_values)\n",
    "plt.plot(df_test['avg_co2'])"
   ]
  },
  {
   "cell_type": "code",
   "execution_count": null,
   "metadata": {},
   "outputs": [],
   "source": [
    "### Compute forecast error\n",
    "plt.figure(figsize=(6,6))\n",
    "model.plot_diagnostics()\n",
    "plt.show()\n"
   ]
  },
  {
   "cell_type": "markdown",
   "metadata": {},
   "source": [
    "## Practice\n",
    "\n",
    "- Using the `statsmodels` library to add a deterministic process to the model in the form of a fourier series. [Hint](https://www.statsmodels.org/stable/examples/notebooks/generated/autoregressions.html)"
   ]
  }
 ],
 "metadata": {
  "kernelspec": {
   "display_name": "Python 3 (ipykernel)",
   "language": "python",
   "name": "python3"
  },
  "language_info": {
   "codemirror_mode": {
    "name": "ipython",
    "version": 3
   },
   "file_extension": ".py",
   "mimetype": "text/x-python",
   "name": "python",
   "nbconvert_exporter": "python",
   "pygments_lexer": "ipython3",
   "version": "3.10.9"
  }
 },
 "nbformat": 4,
 "nbformat_minor": 4
}
