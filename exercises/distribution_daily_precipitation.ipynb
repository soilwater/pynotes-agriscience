{
 "cells": [
  {
   "cell_type": "raw",
   "metadata": {},
   "source": [
    "---\n",
    "title: \"Distribution daily precipitation\"\n",
    "author: \"Andres Patrignani\"\n",
    "date: \"1/11/2024\"\n",
    "keywords: [\"precipitation distribution\", \"histogram\", \"probability density function\"]\n",
    "---"
   ]
  },
  {
   "cell_type": "markdown",
   "metadata": {},
   "source": [
    "The size of daily rainfall events is a relevant variable in agronomy, hydrology, and forestry. Small rainfall events are often intercepted by plant canopies and litter on the soil surface, so they are not very effective for increasing soil moisture.\n",
    "\n",
    "In this tutorial we will explored a long-term (1980-2020) dataset for Greeley county in western Kansas to create a histogram and fit a probability density function to records of daily rainfall events.\n"
   ]
  },
  {
   "cell_type": "code",
   "execution_count": 2,
   "metadata": {},
   "outputs": [],
   "source": [
    "# Import modules\n",
    "import numpy as np\n",
    "import pandas as pd\n",
    "import matplotlib.pyplot as plt\n",
    "from scipy import stats\n"
   ]
  },
  {
   "cell_type": "markdown",
   "metadata": {},
   "source": [
    "## Read and prepare dataset for analysis\n"
   ]
  },
  {
   "cell_type": "code",
   "execution_count": 5,
   "metadata": {},
   "outputs": [
    {
     "data": {
      "text/html": [
       "<div>\n",
       "<style scoped>\n",
       "    .dataframe tbody tr th:only-of-type {\n",
       "        vertical-align: middle;\n",
       "    }\n",
       "\n",
       "    .dataframe tbody tr th {\n",
       "        vertical-align: top;\n",
       "    }\n",
       "\n",
       "    .dataframe thead th {\n",
       "        text-align: right;\n",
       "    }\n",
       "</style>\n",
       "<table border=\"1\" class=\"dataframe\">\n",
       "  <thead>\n",
       "    <tr style=\"text-align: right;\">\n",
       "      <th></th>\n",
       "      <th>id</th>\n",
       "      <th>longitude</th>\n",
       "      <th>latitude</th>\n",
       "      <th>timestamp</th>\n",
       "      <th>doy</th>\n",
       "      <th>pr</th>\n",
       "      <th>rmax</th>\n",
       "      <th>rmin</th>\n",
       "      <th>sph</th>\n",
       "      <th>srad</th>\n",
       "      <th>...</th>\n",
       "      <th>tmmn</th>\n",
       "      <th>tmmx</th>\n",
       "      <th>vs</th>\n",
       "      <th>erc</th>\n",
       "      <th>eto</th>\n",
       "      <th>bi</th>\n",
       "      <th>fm100</th>\n",
       "      <th>fm1000</th>\n",
       "      <th>etr</th>\n",
       "      <th>vpd</th>\n",
       "    </tr>\n",
       "  </thead>\n",
       "  <tbody>\n",
       "    <tr>\n",
       "      <th>0</th>\n",
       "      <td>19800101</td>\n",
       "      <td>-101.805968</td>\n",
       "      <td>38.480534</td>\n",
       "      <td>1980-01-01</td>\n",
       "      <td>1</td>\n",
       "      <td>2.942802</td>\n",
       "      <td>89.670753</td>\n",
       "      <td>54.058212</td>\n",
       "      <td>0.002494</td>\n",
       "      <td>7.778843</td>\n",
       "      <td>...</td>\n",
       "      <td>-7.795996</td>\n",
       "      <td>3.151758</td>\n",
       "      <td>2.893231</td>\n",
       "      <td>15.399130</td>\n",
       "      <td>0.831915</td>\n",
       "      <td>-3.175810e-07</td>\n",
       "      <td>20.635117</td>\n",
       "      <td>18.033571</td>\n",
       "      <td>1.249869</td>\n",
       "      <td>0.193092</td>\n",
       "    </tr>\n",
       "    <tr>\n",
       "      <th>1</th>\n",
       "      <td>19800102</td>\n",
       "      <td>-101.805968</td>\n",
       "      <td>38.480534</td>\n",
       "      <td>1980-01-02</td>\n",
       "      <td>2</td>\n",
       "      <td>0.446815</td>\n",
       "      <td>100.000000</td>\n",
       "      <td>52.695320</td>\n",
       "      <td>0.003245</td>\n",
       "      <td>5.499405</td>\n",
       "      <td>...</td>\n",
       "      <td>-5.106787</td>\n",
       "      <td>1.702234</td>\n",
       "      <td>2.518820</td>\n",
       "      <td>21.250834</td>\n",
       "      <td>0.520971</td>\n",
       "      <td>2.130799e+01</td>\n",
       "      <td>20.802979</td>\n",
       "      <td>18.478359</td>\n",
       "      <td>0.691624</td>\n",
       "      <td>0.085504</td>\n",
       "    </tr>\n",
       "    <tr>\n",
       "      <th>2</th>\n",
       "      <td>19800103</td>\n",
       "      <td>-101.805968</td>\n",
       "      <td>38.480534</td>\n",
       "      <td>1980-01-03</td>\n",
       "      <td>3</td>\n",
       "      <td>0.000000</td>\n",
       "      <td>100.000000</td>\n",
       "      <td>65.851830</td>\n",
       "      <td>0.002681</td>\n",
       "      <td>9.102443</td>\n",
       "      <td>...</td>\n",
       "      <td>-9.276953</td>\n",
       "      <td>-0.898444</td>\n",
       "      <td>2.564172</td>\n",
       "      <td>21.070301</td>\n",
       "      <td>0.403031</td>\n",
       "      <td>2.138025e+01</td>\n",
       "      <td>21.159216</td>\n",
       "      <td>18.454714</td>\n",
       "      <td>0.511131</td>\n",
       "      <td>0.050106</td>\n",
       "    </tr>\n",
       "  </tbody>\n",
       "</table>\n",
       "<p>3 rows × 21 columns</p>\n",
       "</div>"
      ],
      "text/plain": [
       "         id   longitude   latitude  timestamp  doy        pr        rmax  \\\n",
       "0  19800101 -101.805968  38.480534 1980-01-01    1  2.942802   89.670753   \n",
       "1  19800102 -101.805968  38.480534 1980-01-02    2  0.446815  100.000000   \n",
       "2  19800103 -101.805968  38.480534 1980-01-03    3  0.000000  100.000000   \n",
       "\n",
       "        rmin       sph      srad  ...      tmmn      tmmx        vs  \\\n",
       "0  54.058212  0.002494  7.778843  ... -7.795996  3.151758  2.893231   \n",
       "1  52.695320  0.003245  5.499405  ... -5.106787  1.702234  2.518820   \n",
       "2  65.851830  0.002681  9.102443  ... -9.276953 -0.898444  2.564172   \n",
       "\n",
       "         erc       eto            bi      fm100     fm1000       etr       vpd  \n",
       "0  15.399130  0.831915 -3.175810e-07  20.635117  18.033571  1.249869  0.193092  \n",
       "1  21.250834  0.520971  2.130799e+01  20.802979  18.478359  0.691624  0.085504  \n",
       "2  21.070301  0.403031  2.138025e+01  21.159216  18.454714  0.511131  0.050106  \n",
       "\n",
       "[3 rows x 21 columns]"
      ]
     },
     "execution_count": 5,
     "metadata": {},
     "output_type": "execute_result"
    }
   ],
   "source": [
    "# Load data\n",
    "filename = '../datasets/Greeley_Kansas.csv'\n",
    "df = pd.read_csv(filename, parse_dates=['timestamp'])\n",
    "\n",
    "# Check first few rows\n",
    "df.head(3)\n"
   ]
  },
  {
   "cell_type": "code",
   "execution_count": 6,
   "metadata": {},
   "outputs": [
    {
     "data": {
      "text/html": [
       "<div>\n",
       "<style scoped>\n",
       "    .dataframe tbody tr th:only-of-type {\n",
       "        vertical-align: middle;\n",
       "    }\n",
       "\n",
       "    .dataframe tbody tr th {\n",
       "        vertical-align: top;\n",
       "    }\n",
       "\n",
       "    .dataframe thead th {\n",
       "        text-align: right;\n",
       "    }\n",
       "</style>\n",
       "<table border=\"1\" class=\"dataframe\">\n",
       "  <thead>\n",
       "    <tr style=\"text-align: right;\">\n",
       "      <th></th>\n",
       "      <th>id</th>\n",
       "      <th>year</th>\n",
       "      <th>longitude</th>\n",
       "      <th>latitude</th>\n",
       "      <th>timestamp</th>\n",
       "      <th>doy</th>\n",
       "      <th>pr</th>\n",
       "      <th>rmax</th>\n",
       "      <th>rmin</th>\n",
       "      <th>sph</th>\n",
       "      <th>...</th>\n",
       "      <th>tmmn</th>\n",
       "      <th>tmmx</th>\n",
       "      <th>vs</th>\n",
       "      <th>erc</th>\n",
       "      <th>eto</th>\n",
       "      <th>bi</th>\n",
       "      <th>fm100</th>\n",
       "      <th>fm1000</th>\n",
       "      <th>etr</th>\n",
       "      <th>vpd</th>\n",
       "    </tr>\n",
       "  </thead>\n",
       "  <tbody>\n",
       "    <tr>\n",
       "      <th>0</th>\n",
       "      <td>19800101</td>\n",
       "      <td>1980</td>\n",
       "      <td>-101.805968</td>\n",
       "      <td>38.480534</td>\n",
       "      <td>1980-01-01</td>\n",
       "      <td>1</td>\n",
       "      <td>2.942802</td>\n",
       "      <td>89.670753</td>\n",
       "      <td>54.058212</td>\n",
       "      <td>0.002494</td>\n",
       "      <td>...</td>\n",
       "      <td>-7.795996</td>\n",
       "      <td>3.151758</td>\n",
       "      <td>2.893231</td>\n",
       "      <td>15.399130</td>\n",
       "      <td>0.831915</td>\n",
       "      <td>-3.175810e-07</td>\n",
       "      <td>20.635117</td>\n",
       "      <td>18.033571</td>\n",
       "      <td>1.249869</td>\n",
       "      <td>0.193092</td>\n",
       "    </tr>\n",
       "    <tr>\n",
       "      <th>1</th>\n",
       "      <td>19800102</td>\n",
       "      <td>1980</td>\n",
       "      <td>-101.805968</td>\n",
       "      <td>38.480534</td>\n",
       "      <td>1980-01-02</td>\n",
       "      <td>2</td>\n",
       "      <td>0.446815</td>\n",
       "      <td>100.000000</td>\n",
       "      <td>52.695320</td>\n",
       "      <td>0.003245</td>\n",
       "      <td>...</td>\n",
       "      <td>-5.106787</td>\n",
       "      <td>1.702234</td>\n",
       "      <td>2.518820</td>\n",
       "      <td>21.250834</td>\n",
       "      <td>0.520971</td>\n",
       "      <td>2.130799e+01</td>\n",
       "      <td>20.802979</td>\n",
       "      <td>18.478359</td>\n",
       "      <td>0.691624</td>\n",
       "      <td>0.085504</td>\n",
       "    </tr>\n",
       "    <tr>\n",
       "      <th>2</th>\n",
       "      <td>19800103</td>\n",
       "      <td>1980</td>\n",
       "      <td>-101.805968</td>\n",
       "      <td>38.480534</td>\n",
       "      <td>1980-01-03</td>\n",
       "      <td>3</td>\n",
       "      <td>0.000000</td>\n",
       "      <td>100.000000</td>\n",
       "      <td>65.851830</td>\n",
       "      <td>0.002681</td>\n",
       "      <td>...</td>\n",
       "      <td>-9.276953</td>\n",
       "      <td>-0.898444</td>\n",
       "      <td>2.564172</td>\n",
       "      <td>21.070301</td>\n",
       "      <td>0.403031</td>\n",
       "      <td>2.138025e+01</td>\n",
       "      <td>21.159216</td>\n",
       "      <td>18.454714</td>\n",
       "      <td>0.511131</td>\n",
       "      <td>0.050106</td>\n",
       "    </tr>\n",
       "  </tbody>\n",
       "</table>\n",
       "<p>3 rows × 22 columns</p>\n",
       "</div>"
      ],
      "text/plain": [
       "         id  year   longitude   latitude  timestamp  doy        pr  \\\n",
       "0  19800101  1980 -101.805968  38.480534 1980-01-01    1  2.942802   \n",
       "1  19800102  1980 -101.805968  38.480534 1980-01-02    2  0.446815   \n",
       "2  19800103  1980 -101.805968  38.480534 1980-01-03    3  0.000000   \n",
       "\n",
       "         rmax       rmin       sph  ...      tmmn      tmmx        vs  \\\n",
       "0   89.670753  54.058212  0.002494  ... -7.795996  3.151758  2.893231   \n",
       "1  100.000000  52.695320  0.003245  ... -5.106787  1.702234  2.518820   \n",
       "2  100.000000  65.851830  0.002681  ... -9.276953 -0.898444  2.564172   \n",
       "\n",
       "         erc       eto            bi      fm100     fm1000       etr       vpd  \n",
       "0  15.399130  0.831915 -3.175810e-07  20.635117  18.033571  1.249869  0.193092  \n",
       "1  21.250834  0.520971  2.130799e+01  20.802979  18.478359  0.691624  0.085504  \n",
       "2  21.070301  0.403031  2.138025e+01  21.159216  18.454714  0.511131  0.050106  \n",
       "\n",
       "[3 rows x 22 columns]"
      ]
     },
     "execution_count": 6,
     "metadata": {},
     "output_type": "execute_result"
    }
   ],
   "source": [
    "# Add year column, so that we can group events and totals by year\n",
    "df.insert(1, 'year', df['timestamp'].dt.year)\n",
    "df.head(3)\n"
   ]
  },
  {
   "cell_type": "markdown",
   "metadata": {},
   "source": [
    "## Find value and date of largest daily rainfall event on record\n",
    "\n",
    "To add some context, let's find out what is the largest daily rainfall event in the period 1980-2020 for Greeley county, KS."
   ]
  },
  {
   "cell_type": "code",
   "execution_count": 7,
   "metadata": {},
   "outputs": [
    {
     "name": "stdout",
     "output_type": "stream",
     "text": [
      "The largest rainfall was 68.6 mm\n",
      "and occurred on 2010-05-18\n"
     ]
    }
   ],
   "source": [
    "# Find largest rainfall event and the date\n",
    "amount_largest_event = df['pr'].max()\n",
    "idx_largest_event = df['pr'].argmax()\n",
    "date_largest_event = df.loc[idx_largest_event, 'timestamp']\n",
    "\n",
    "print(f'The largest rainfall was {amount_largest_event:.1f} mm')\n",
    "print(f'and occurred on {date_largest_event:%Y-%m-%d}')\n"
   ]
  },
  {
   "cell_type": "markdown",
   "metadata": {},
   "source": [
    "## Probability density function of precipitation amount\n",
    "\n",
    "The most important step before creating the histogram is to identify days with daily rainfall greater than 0 mm. If we don't do this, we will include a large number of zero occurrences, that will affect the distribution. We know that it does not rain every day in this region, but when it does, what is the typical size of a rainfall event?"
   ]
  },
  {
   "cell_type": "code",
   "execution_count": 8,
   "metadata": {},
   "outputs": [],
   "source": [
    "# Boolean to identify days with rainfall greater than 0 mm\n",
    "idx_rained = df['pr'] > 0\n",
    "\n",
    "# For brevity we will create a new variable with all the precipitation events >0 mm\n",
    "data = df.loc[idx_rained,'pr']\n"
   ]
  },
  {
   "cell_type": "code",
   "execution_count": 15,
   "metadata": {},
   "outputs": [
    {
     "name": "stdout",
     "output_type": "stream",
     "text": [
      "Median daily rainfall is 2.1 mm\n"
     ]
    }
   ],
   "source": [
    "# Determine median daily rainfall (not considering days without rain)\n",
    "median_rainfall = data.median()\n",
    "print(f'Median daily rainfall is {median_rainfall:.1f} mm')\n"
   ]
  },
  {
   "cell_type": "code",
   "execution_count": 21,
   "metadata": {},
   "outputs": [
    {
     "name": "stdout",
     "output_type": "stream",
     "text": [
      "FitParams(s=1.5673979274845327, loc=0.23667991099824695, scale=1.6451037468195546)\n"
     ]
    }
   ],
   "source": [
    "# Fit theoretical distribution function\n",
    "# I assumed a lognormal distribution based on the shape of the histogram\n",
    "# and the fact that rainfall cannot be negative\n",
    "bounds = [(1, 10),(0.1,10),(0,10)] # Guess bounds for `s` parameters of the lognorm pdf\n",
    "fitted_pdf = stats.fit(stats.lognorm, data, bounds)\n",
    "print(fitted_pdf.params)\n",
    "\n"
   ]
  },
  {
   "cell_type": "code",
   "execution_count": 22,
   "metadata": {},
   "outputs": [
    {
     "data": {
      "image/png": "[encoded data removed]",
      "text/plain": [
       "<Figure size 600x400 with 1 Axes>"
      ]
     },
     "metadata": {},
     "output_type": "display_data"
    }
   ],
   "source": [
    "# Create vector from 0 to x_max to plot the lognorm pdf\n",
    "x = np.linspace(data.min(), data.max(), num=1000)\n",
    "\n",
    "# Create figure\n",
    "plt.figure(figsize=(6,4))\n",
    "plt.title('Daily Precipitation Greeley County, KS 1980-2020')\n",
    "plt.hist(data, bins=200, density=True,\n",
    "         facecolor='lightgrey', edgecolor='k', label='Histogram')\n",
    "plt.axvline(median_rainfall, linestyle='--', color='k', label='Median')\n",
    "plt.plot(x, stats.lognorm.pdf(x, *fitted_pdf.params), color='r', label='lognorm pdf')\n",
    "plt.xlabel('Precipitation (mm)')\n",
    "plt.ylabel('Density')\n",
    "plt.xlim([0, 20])\n",
    "plt.legend()\n",
    "plt.show()\n"
   ]
  },
  {
   "cell_type": "markdown",
   "metadata": {},
   "source": [
    "## Cumulative density function\n",
    "\n",
    "We can also ask: What is the probability of having a daily rainfall event equal or lower than `x` amount? The empirical cumulative dsitribution can help us answer this question. Note that if we ask `greater`  than `x` amount, we will need to use the complementary cumulative distribution function (basically `1-p`)."
   ]
  },
  {
   "cell_type": "code",
   "execution_count": 25,
   "metadata": {},
   "outputs": [
    {
     "name": "stdout",
     "output_type": "stream",
     "text": [
      "The probability of having a rainfall event  <= 5 mm is 0.75\n",
      "The probability of having a rainfall event  > 5 mm is 0.25\n"
     ]
    }
   ],
   "source": [
    "# Select rainfall events lower or equal than a specific amount\n",
    "amount = 5\n",
    "\n",
    "# Use actual data to estimate the probability\n",
    "p = stats.lognorm.cdf(amount, *fitted_pdf.params)\n",
    "print(f'The probability of having a rainfall event  <= {amount} mm is {p:.2f}')\n",
    "print(f'The probability of having a rainfall event  > {amount} mm is {1-p:.2f}')"
   ]
  },
  {
   "cell_type": "raw",
   "metadata": {},
   "source": [
    "::: {.callout-note}\n",
    "## Note\n",
    "To determine the probability using the observations, rather than the fitted theoretical distribution, we can simply use the number of favorable cases over the total number of possibilities, like this:\n",
    "```python\n",
    "idx_threshold = data <= amount\n",
    "p = np.sum(idx_threshold) / np.sum(idx_rained)\n",
    "```\n",
    ":::\n"
   ]
  },
  {
   "cell_type": "code",
   "execution_count": 24,
   "metadata": {},
   "outputs": [
    {
     "data": {
      "image/png": "[encoded data removed]",
      "text/plain": [
       "<Figure size 600x400 with 1 Axes>"
      ]
     },
     "metadata": {},
     "output_type": "display_data"
    }
   ],
   "source": [
    "# Cumulative distributions\n",
    "plt.figure(figsize=(6,4))\n",
    "plt.ecdf(data, label=\"Empirical CDF\")\n",
    "plt.hist(data, bins=200, density=True, histtype=\"step\",\n",
    "         cumulative=True, label=\"Cumulative histogram\")\n",
    "plt.plot(x, stats.lognorm.cdf(x, *fitted_pdf.params), label='Theoretical CDF')\n",
    "\n",
    "plt.plot([amount, amount, 0],[0, p, p], linestyle='--', color='k')\n",
    "plt.title('Daily Precipitation Greeley County, KS 1980-2020')\n",
    "plt.xlabel('Precipitation (mm)')\n",
    "plt.ylabel('Cumulative density')\n",
    "plt.xlim([0, 20])\n",
    "plt.legend()\n",
    "plt.show()"
   ]
  },
  {
   "cell_type": "markdown",
   "metadata": {},
   "source": [
    "In this tutorial we learned that:\n",
    "- typical daily rainfall events in places like western Kansas tend to be very small, in the order of 2 mm. We found this by inspecting a histogram and computing the median of all days with measurable rainfall.\n",
    "\n",
    "- the probability of having rainfall events larger than 5 mm is only 25%. We found this by using a cumulative density function. If we consider that rainfall interception by plant canopies and crop residue can range from 1 to several millimeters, daily rainfall events will be ineffective reaching the soil surface in regions with this type of daily rainfall distributions, where most of the soil water recharge will depend on larger rainfall events.\n",
    "\n",
    "## References\n",
    "Clark, O. R. (1940). Interception of rainfall by prairie grasses, weeds, and certain crop plants. Ecological monographs, 10(2), 243-277.\n",
    "\n",
    "Dunkerley, D. (2000). Measuring interception loss and canopy storage in dryland vegetation: a brief review and evaluation of available research strategies. Hydrological Processes, 14(4), 669-678.\n",
    "\n",
    "Kang, Y., Wang, Q. G., Liu, H. J., & Liu, P. S. (2004). Winter wheat canopy-interception with its influence factors under sprinkler irrigation. In 2004 ASAE Annual Meeting (p. 1). American Society of Agricultural and Biological Engineers."
   ]
  }
 ],
 "metadata": {
  "kernelspec": {
   "display_name": "Python 3 (ipykernel)",
   "language": "python",
   "name": "python3"
  },
  "language_info": {
   "codemirror_mode": {
    "name": "ipython",
    "version": 3
   },
   "file_extension": ".py",
   "mimetype": "text/x-python",
   "name": "python",
   "nbconvert_exporter": "python",
   "pygments_lexer": "ipython3",
   "version": "3.10.9"
  }
 },
 "nbformat": 4,
 "nbformat_minor": 4
}
