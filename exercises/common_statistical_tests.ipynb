{
 "cells": [
  {
   "cell_type": "raw",
   "id": "d4e0b545-ad51-42bf-98e4-b019709255ba",
   "metadata": {},
   "source": [
    "---\n",
    "title: \"Common statistical analyses\"\n",
    "author: \"Andres Patrignani\"\n",
    "date: \"3/18/2024\"\n",
    "keywords: [\"ttest\", \"anova\", \"analysis of variance\", \"Tukey test\"]\n",
    "---"
   ]
  },
  {
   "cell_type": "markdown",
   "id": "cc022302-9450-4976-bcc6-fb12455ddeb4",
   "metadata": {},
   "source": [
    "## One-sample T-test\n",
    "\n",
    "The two-sided null hypothesis of this test is that the mean of a population is equal to a specific value. The null hypothesis of the one-sided alternative tests whether the mean of the population is lower/greater than the specified value.\n",
    "\n",
    "In this example we will load a dataset of grain yield for multiple wheat varieties."
   ]
  },
  {
   "cell_type": "code",
   "execution_count": 130,
   "id": "e35daebb-30bc-44c9-b96e-53861b1a48eb",
   "metadata": {
    "tags": []
   },
   "outputs": [],
   "source": [
    "# Import modules\n",
    "import pandas as pd\n",
    "from scipy import stats\n"
   ]
  },
  {
   "cell_type": "code",
   "execution_count": 131,
   "id": "f5f77623-5382-4607-8661-2012a914d532",
   "metadata": {
    "tags": []
   },
   "outputs": [
    {
     "data": {
      "text/html": [
       "<div>\n",
       "<style scoped>\n",
       "    .dataframe tbody tr th:only-of-type {\n",
       "        vertical-align: middle;\n",
       "    }\n",
       "\n",
       "    .dataframe tbody tr th {\n",
       "        vertical-align: top;\n",
       "    }\n",
       "\n",
       "    .dataframe thead th {\n",
       "        text-align: right;\n",
       "    }\n",
       "</style>\n",
       "<table border=\"1\" class=\"dataframe\">\n",
       "  <thead>\n",
       "    <tr style=\"text-align: right;\">\n",
       "      <th></th>\n",
       "      <th>brand</th>\n",
       "      <th>name</th>\n",
       "      <th>yield_bu_ac</th>\n",
       "    </tr>\n",
       "  </thead>\n",
       "  <tbody>\n",
       "    <tr>\n",
       "      <th>0</th>\n",
       "      <td>LIMAGRAIN</td>\n",
       "      <td>LCH19DH-152-6</td>\n",
       "      <td>50.7</td>\n",
       "    </tr>\n",
       "    <tr>\n",
       "      <th>1</th>\n",
       "      <td>POLANSKY</td>\n",
       "      <td>ROCKSTAR</td>\n",
       "      <td>45.2</td>\n",
       "    </tr>\n",
       "    <tr>\n",
       "      <th>2</th>\n",
       "      <td>KWA</td>\n",
       "      <td>KS WESTERN STAR</td>\n",
       "      <td>44.5</td>\n",
       "    </tr>\n",
       "  </tbody>\n",
       "</table>\n",
       "</div>"
      ],
      "text/plain": [
       "       brand             name  yield_bu_ac\n",
       "0  LIMAGRAIN    LCH19DH-152-6         50.7\n",
       "1   POLANSKY         ROCKSTAR         45.2\n",
       "2        KWA  KS WESTERN STAR         44.5"
      ]
     },
     "execution_count": 131,
     "metadata": {},
     "output_type": "execute_result"
    }
   ],
   "source": [
    "# Read dataset\n",
    "df = pd.read_csv('../datasets/wheat_variety_trial_2023_greeley_county.csv', skiprows=[0])\n",
    "df.head(3)\n"
   ]
  },
  {
   "cell_type": "markdown",
   "id": "eafca752-7775-465a-a688-fd15540f12f6",
   "metadata": {},
   "source": [
    "### Two-sided test\n",
    "\n",
    "Test if the mean of the underlying distribution (mean of all yields from the variety trials) is **different** than the given population mean (the average yield obtained in our farm)"
   ]
  },
  {
   "cell_type": "code",
   "execution_count": 132,
   "id": "96f11557-4584-439c-886e-03313c2519f9",
   "metadata": {
    "tags": []
   },
   "outputs": [],
   "source": [
    "# Define average yield of farm nearby the performance trial.\n",
    "# This is the expected value of the null hypothesis\n",
    "yield_field = 38 # bu/ac # Also try a lower yield of 30 bu/ac\n"
   ]
  },
  {
   "cell_type": "code",
   "execution_count": 133,
   "id": "39a661ef-229f-42c2-860e-c3bb862ccec3",
   "metadata": {
    "tags": []
   },
   "outputs": [
    {
     "name": "stdout",
     "output_type": "stream",
     "text": [
      "TtestResult(statistic=-3.326459315498179, pvalue=0.0022179731272333153, df=32)\n"
     ]
    }
   ],
   "source": [
    "results = stats.ttest_1samp(df['yield_bu_ac'], popmean=yield_field, alternative='two-sided')\n",
    "print(results)\n"
   ]
  },
  {
   "cell_type": "markdown",
   "id": "4b6dd3c2-9e5b-4232-abe0-c78a88d60e28",
   "metadata": {},
   "source": [
    "We conclude that the mean yield from our farm is different than the average yield of the underlying distribution of the crop performance trial."
   ]
  },
  {
   "cell_type": "markdown",
   "id": "1dd3d7e5-6a19-41ed-8946-39de11e438c3",
   "metadata": {},
   "source": [
    "### Two-sided confidence intervals"
   ]
  },
  {
   "cell_type": "code",
   "execution_count": 134,
   "id": "e77e6bb5-128a-4605-9ee9-8b626d4968fa",
   "metadata": {
    "tags": []
   },
   "outputs": [
    {
     "name": "stdout",
     "output_type": "stream",
     "text": [
      "ConfidenceInterval(low=31.6727760618944, high=36.47873908962076)\n"
     ]
    }
   ],
   "source": [
    "# Compute 95% confidence intervals\n",
    "ci = results.confidence_interval(confidence_level=0.95)\n",
    "print(ci)"
   ]
  },
  {
   "cell_type": "markdown",
   "id": "f992ee73-0ede-48e8-9ac7-9ab9ac59f51a",
   "metadata": {
    "tags": []
   },
   "source": [
    "### One-sided test\n",
    "\n",
    "Test if the mean of the underlying distribution (mean of all yields from the variety trials) is **less** than the given population mean (the average yield obtained in our farm)."
   ]
  },
  {
   "cell_type": "code",
   "execution_count": 129,
   "id": "c4d63c3e-a56f-4f65-bf04-aa3c3458558c",
   "metadata": {
    "tags": []
   },
   "outputs": [
    {
     "name": "stdout",
     "output_type": "stream",
     "text": [
      "TtestResult(statistic=-3.326459315498179, pvalue=0.0011089865636166576, df=32)\n"
     ]
    }
   ],
   "source": [
    "results = stats.ttest_1samp(df['yield_bu_ac'], popmean=yield_field, alternative='less')\n",
    "print(results)\n"
   ]
  },
  {
   "cell_type": "markdown",
   "id": "d7a947aa-debe-4dcf-9160-ab4ca284895f",
   "metadata": {},
   "source": [
    "## Two-sample T-test"
   ]
  },
  {
   "cell_type": "code",
   "execution_count": 145,
   "id": "d8c3f378-ff72-411e-8afb-c1523601854d",
   "metadata": {
    "tags": []
   },
   "outputs": [],
   "source": [
    "# Import modules\n",
    "import pandas as pd\n",
    "from scipy import stats"
   ]
  },
  {
   "cell_type": "code",
   "execution_count": 158,
   "id": "6152f6e0-896e-4c71-b98a-1091bcc8d5eb",
   "metadata": {
    "tags": []
   },
   "outputs": [
    {
     "data": {
      "text/html": [
       "<div>\n",
       "<style scoped>\n",
       "    .dataframe tbody tr th:only-of-type {\n",
       "        vertical-align: middle;\n",
       "    }\n",
       "\n",
       "    .dataframe tbody tr th {\n",
       "        vertical-align: top;\n",
       "    }\n",
       "\n",
       "    .dataframe thead th {\n",
       "        text-align: right;\n",
       "    }\n",
       "</style>\n",
       "<table border=\"1\" class=\"dataframe\">\n",
       "  <thead>\n",
       "    <tr style=\"text-align: right;\">\n",
       "      <th></th>\n",
       "      <th>brand</th>\n",
       "      <th>yield_bu_ac</th>\n",
       "      <th>lodging_perc</th>\n",
       "    </tr>\n",
       "  </thead>\n",
       "  <tbody>\n",
       "    <tr>\n",
       "      <th>0</th>\n",
       "      <td>LEWIS</td>\n",
       "      <td>172.9</td>\n",
       "      <td>47</td>\n",
       "    </tr>\n",
       "    <tr>\n",
       "      <th>1</th>\n",
       "      <td>LEWIS</td>\n",
       "      <td>218.3</td>\n",
       "      <td>20</td>\n",
       "    </tr>\n",
       "    <tr>\n",
       "      <th>2</th>\n",
       "      <td>LEWIS</td>\n",
       "      <td>196.8</td>\n",
       "      <td>40</td>\n",
       "    </tr>\n",
       "  </tbody>\n",
       "</table>\n",
       "</div>"
      ],
      "text/plain": [
       "   brand  yield_bu_ac  lodging_perc\n",
       "0  LEWIS        172.9            47\n",
       "1  LEWIS        218.3            20\n",
       "2  LEWIS        196.8            40"
      ]
     },
     "execution_count": 158,
     "metadata": {},
     "output_type": "execute_result"
    }
   ],
   "source": [
    "df = pd.read_csv('../datasets/corn_dryland_trial.csv', skiprows=[0])\n",
    "df.head(3)\n"
   ]
  },
  {
   "cell_type": "code",
   "execution_count": 159,
   "id": "1f29df15-9e63-4ca1-8b2a-5ef4d15d1072",
   "metadata": {
    "tags": []
   },
   "outputs": [
    {
     "data": {
      "text/html": [
       "<div>\n",
       "<style scoped>\n",
       "    .dataframe tbody tr th:only-of-type {\n",
       "        vertical-align: middle;\n",
       "    }\n",
       "\n",
       "    .dataframe tbody tr th {\n",
       "        vertical-align: top;\n",
       "    }\n",
       "\n",
       "    .dataframe thead th {\n",
       "        text-align: right;\n",
       "    }\n",
       "</style>\n",
       "<table border=\"1\" class=\"dataframe\">\n",
       "  <thead>\n",
       "    <tr style=\"text-align: right;\">\n",
       "      <th></th>\n",
       "      <th>yield_bu_ac</th>\n",
       "      <th>lodging_perc</th>\n",
       "    </tr>\n",
       "    <tr>\n",
       "      <th>brand</th>\n",
       "      <th></th>\n",
       "      <th></th>\n",
       "    </tr>\n",
       "  </thead>\n",
       "  <tbody>\n",
       "    <tr>\n",
       "      <th>LEWIS</th>\n",
       "      <td>194.46</td>\n",
       "      <td>43.4</td>\n",
       "    </tr>\n",
       "    <tr>\n",
       "      <th>NK</th>\n",
       "      <td>170.40</td>\n",
       "      <td>61.0</td>\n",
       "    </tr>\n",
       "  </tbody>\n",
       "</table>\n",
       "</div>"
      ],
      "text/plain": [
       "       yield_bu_ac  lodging_perc\n",
       "brand                           \n",
       "LEWIS       194.46          43.4\n",
       "NK          170.40          61.0"
      ]
     },
     "execution_count": 159,
     "metadata": {},
     "output_type": "execute_result"
    }
   ],
   "source": [
    "# Find mean for each brand\n",
    "df.groupby(by='brand').mean()\n"
   ]
  },
  {
   "cell_type": "markdown",
   "id": "9865134c-77b8-4074-af1a-836f36423772",
   "metadata": {},
   "source": [
    "**Question**: Are these means statistically different?"
   ]
  },
  {
   "cell_type": "code",
   "execution_count": 160,
   "id": "805333b0-6e18-4e95-9339-46c8fc076def",
   "metadata": {
    "tags": []
   },
   "outputs": [],
   "source": [
    "idx_group_1 = df['brand'] == 'LEWIS'\n",
    "values_group_1 = df.loc[idx_group_1,'yield_bu_ac']\n",
    "\n",
    "idx_group_2 = df['brand'] == 'NK'\n",
    "values_group_2 = df.loc[idx_group_2,'yield_bu_ac']\n"
   ]
  },
  {
   "cell_type": "code",
   "execution_count": 161,
   "id": "26174b44-acae-410f-81f3-259264dae028",
   "metadata": {
    "tags": []
   },
   "outputs": [
    {
     "data": {
      "text/plain": [
       "TtestResult(statistic=2.1525722332699373, pvalue=0.06352024499469316, df=8.0)"
      ]
     },
     "execution_count": 161,
     "metadata": {},
     "output_type": "execute_result"
    }
   ],
   "source": [
    "stats.ttest_ind(values_group_1, values_group_2)"
   ]
  },
  {
   "cell_type": "markdown",
   "id": "320dba07-92b1-4c7b-9585-d1eb5c132bcf",
   "metadata": {},
   "source": [
    "# Analysis of Variance\n",
    "\n",
    "Perhaps there is no other statistical analysis as popular as the analysis of variance (ANOVA). The main purpose of an ANOVA test is to detect whether the means of a specific observation variable between groups (e.g. grain yield of corn plots subjected to different levels of fertilizer application, biomass production of two watersheds exposed to different burning regimes, etc.) are *significantly* different. The word *significantly* has special meaning in this context and represents conclusion of our analysis under a set  error rate. As you can imagine, detecting whether two or more things are different from each other requires agreement on some baseline.\n",
    "\n",
    "A one-way anova is used to test the hypothesis that the samples in the variable (e.g., grain yield) of different groups are drawn from populations with the same mean against the alternative hypothesis that the population means are not all the same. Rejecting the null hypothesis would imply that at least one of the means is different. \n",
    "\n",
    "In this exercise we will use a dataset of corn yield for different treatments of nitrogen fertilizer on multiple US states. The dataset is a subset of the study published by Tremblay et al., 2012 (see references for more details) and it was obtained from (http://www.nue.okstate.edu/).\n",
    "\n",
    "Does the application of nitrogen fertilizer result in systematically greater corn yields or are the yield differences a mere consequence of random noise?\n"
   ]
  },
  {
   "cell_type": "code",
   "execution_count": 1,
   "id": "113aeeb6-37a6-41c3-823b-443c8f9bd86c",
   "metadata": {
    "tags": []
   },
   "outputs": [],
   "source": [
    "import pandas as pd\n",
    "from scipy import stats\n",
    "import matplotlib.pyplot as plt\n",
    "from statsmodels.formula.api import ols\n",
    "from statsmodels.stats.anova import anova_lm\n",
    "from statsmodels.stats.multicomp import MultiComparison\n"
   ]
  },
  {
   "cell_type": "code",
   "execution_count": 2,
   "id": "e625fcc0-9627-4983-a238-05eaae9078f1",
   "metadata": {
    "tags": []
   },
   "outputs": [
    {
     "data": {
      "text/html": [
       "<div>\n",
       "<style scoped>\n",
       "    .dataframe tbody tr th:only-of-type {\n",
       "        vertical-align: middle;\n",
       "    }\n",
       "\n",
       "    .dataframe tbody tr th {\n",
       "        vertical-align: top;\n",
       "    }\n",
       "\n",
       "    .dataframe thead th {\n",
       "        text-align: right;\n",
       "    }\n",
       "</style>\n",
       "<table border=\"1\" class=\"dataframe\">\n",
       "  <thead>\n",
       "    <tr style=\"text-align: right;\">\n",
       "      <th></th>\n",
       "      <th>Year</th>\n",
       "      <th>State</th>\n",
       "      <th>Site</th>\n",
       "      <th>Textural_class</th>\n",
       "      <th>Replications</th>\n",
       "      <th>Treatments</th>\n",
       "      <th>N_Planting_kg_ha</th>\n",
       "      <th>N_Sidedress_kg_ha</th>\n",
       "      <th>N_Total_kg_ha</th>\n",
       "      <th>Yield_T_ha</th>\n",
       "    </tr>\n",
       "  </thead>\n",
       "  <tbody>\n",
       "    <tr>\n",
       "      <th>0</th>\n",
       "      <td>2006</td>\n",
       "      <td>Illinois</td>\n",
       "      <td>Pad</td>\n",
       "      <td>Silt loam</td>\n",
       "      <td>1</td>\n",
       "      <td>1</td>\n",
       "      <td>0</td>\n",
       "      <td>0</td>\n",
       "      <td>0</td>\n",
       "      <td>3.26</td>\n",
       "    </tr>\n",
       "    <tr>\n",
       "      <th>1</th>\n",
       "      <td>2006</td>\n",
       "      <td>Illinois</td>\n",
       "      <td>Pad</td>\n",
       "      <td>Silt loam</td>\n",
       "      <td>1</td>\n",
       "      <td>3</td>\n",
       "      <td>36</td>\n",
       "      <td>0</td>\n",
       "      <td>36</td>\n",
       "      <td>4.15</td>\n",
       "    </tr>\n",
       "    <tr>\n",
       "      <th>2</th>\n",
       "      <td>2006</td>\n",
       "      <td>Illinois</td>\n",
       "      <td>Pad</td>\n",
       "      <td>Silt loam</td>\n",
       "      <td>1</td>\n",
       "      <td>5</td>\n",
       "      <td>36</td>\n",
       "      <td>54</td>\n",
       "      <td>90</td>\n",
       "      <td>8.64</td>\n",
       "    </tr>\n",
       "    <tr>\n",
       "      <th>3</th>\n",
       "      <td>2006</td>\n",
       "      <td>Illinois</td>\n",
       "      <td>Pad</td>\n",
       "      <td>Silt loam</td>\n",
       "      <td>1</td>\n",
       "      <td>7</td>\n",
       "      <td>36</td>\n",
       "      <td>107</td>\n",
       "      <td>143</td>\n",
       "      <td>10.52</td>\n",
       "    </tr>\n",
       "    <tr>\n",
       "      <th>4</th>\n",
       "      <td>2006</td>\n",
       "      <td>Illinois</td>\n",
       "      <td>Pad</td>\n",
       "      <td>Silt loam</td>\n",
       "      <td>1</td>\n",
       "      <td>9</td>\n",
       "      <td>36</td>\n",
       "      <td>161</td>\n",
       "      <td>197</td>\n",
       "      <td>11.47</td>\n",
       "    </tr>\n",
       "  </tbody>\n",
       "</table>\n",
       "</div>"
      ],
      "text/plain": [
       "   Year     State Site Textural_class  Replications  Treatments  \\\n",
       "0  2006  Illinois  Pad      Silt loam             1           1   \n",
       "1  2006  Illinois  Pad      Silt loam             1           3   \n",
       "2  2006  Illinois  Pad      Silt loam             1           5   \n",
       "3  2006  Illinois  Pad      Silt loam             1           7   \n",
       "4  2006  Illinois  Pad      Silt loam             1           9   \n",
       "\n",
       "   N_Planting_kg_ha  N_Sidedress_kg_ha  N_Total_kg_ha  Yield_T_ha  \n",
       "0                 0                  0              0        3.26  \n",
       "1                36                  0             36        4.15  \n",
       "2                36                 54             90        8.64  \n",
       "3                36                107            143       10.52  \n",
       "4                36                161            197       11.47  "
      ]
     },
     "execution_count": 2,
     "metadata": {},
     "output_type": "execute_result"
    }
   ],
   "source": [
    "# Load data\n",
    "df = pd.read_csv(\"../datasets/corn_nue_multiple_locs.csv\")\n",
    "df.head()\n"
   ]
  },
  {
   "cell_type": "code",
   "execution_count": 3,
   "id": "040e67ea-b086-489f-8ec8-7158229a3abd",
   "metadata": {
    "tags": []
   },
   "outputs": [
    {
     "name": "stdout",
     "output_type": "stream",
     "text": [
      "['Pad' 'Dixon' 'Manhattan' 'Copeland' 'Diederick']\n",
      "[1 3 5 7 9]\n",
      "[1 2 3 4]\n",
      "(120, 10)\n"
     ]
    }
   ],
   "source": [
    "# Print some useful properties of the dataset\n",
    "print(df['Site'].unique())        # Locations\n",
    "print(df['Treatments'].unique())   # Treatments\n",
    "print(df['Replications'].unique()) # Replications\n",
    "print(df.shape)\n",
    "\n"
   ]
  },
  {
   "cell_type": "code",
   "execution_count": 4,
   "id": "42c4abfd-dfed-4c30-a612-fb64e6e128ce",
   "metadata": {
    "tags": []
   },
   "outputs": [
    {
     "data": {
      "image/png": "[encoded data removed]",
      "text/plain": [
       "<Figure size 640x480 with 1 Axes>"
      ]
     },
     "metadata": {},
     "output_type": "display_data"
    }
   ],
   "source": [
    "# Examine yield data using boxplots for all locations combined\n",
    "df.boxplot(column='Yield_T_ha', by='N_Total_kg_ha')\n",
    "plt.show()\n"
   ]
  },
  {
   "cell_type": "code",
   "execution_count": 7,
   "id": "270f6587-403f-416e-b2a4-35610e04436e",
   "metadata": {
    "tags": []
   },
   "outputs": [
    {
     "data": {
      "image/png": "[encoded data removed]",
      "text/plain": [
       "<Figure size 640x480 with 1 Axes>"
      ]
     },
     "metadata": {},
     "output_type": "display_data"
    }
   ],
   "source": [
    "# Examine yield by state\n",
    "df.boxplot(column='Yield_T_ha', by='State')\n",
    "plt.show()\n"
   ]
  },
  {
   "cell_type": "code",
   "execution_count": 8,
   "id": "f5d84466-374d-4b4f-be18-86d07f8afeda",
   "metadata": {
    "tags": []
   },
   "outputs": [
    {
     "data": {
      "image/png": "[encoded data removed]",
      "text/plain": [
       "<Figure size 640x480 with 1 Axes>"
      ]
     },
     "metadata": {},
     "output_type": "display_data"
    }
   ],
   "source": [
    "# Examine yield by site\n",
    "df.boxplot(column='Yield_T_ha', by='Site')\n",
    "plt.show()\n"
   ]
  },
  {
   "cell_type": "markdown",
   "id": "283ffae7-8010-42d4-9a3b-92e262036dba",
   "metadata": {},
   "source": [
    "## ANOVA assumptions\n",
    "\n",
    "1. Samples drawn from a population are normally distributed. **Test**: Shapiro-Wilk\n",
    "\n",
    "2. Samples drawn from all populations have (approximately) the same variance. This property is called homoscedasticity or homogeneity of variances.\" **Tests**: Bartlett's and Levene's tests.\n",
    "\n",
    "3. Samples are independent of each other. Test: No test. Here we rely on the nature of the variable being observed and the experimental design.\n"
   ]
  },
  {
   "cell_type": "code",
   "execution_count": 11,
   "id": "834e9829-30ea-4867-bb1e-059d8bd3dd7b",
   "metadata": {},
   "outputs": [
    {
     "data": {
      "text/plain": [
       "ShapiroResult(statistic=0.9829135537147522, pvalue=0.1326330304145813)"
      ]
     },
     "execution_count": 11,
     "metadata": {},
     "output_type": "execute_result"
    }
   ],
   "source": [
    "# Test the assumption of normality\n",
    "# Shapiro-WIlk's null hypothesis: Data was obtained from a normal distribution\n",
    "stats.shapiro(df['Yield_T_ha'])\n"
   ]
  },
  {
   "cell_type": "code",
   "execution_count": 12,
   "id": "b1aca52e-7fc9-4062-88fe-e3d4fd57046b",
   "metadata": {},
   "outputs": [
    {
     "data": {
      "text/plain": [
       "BartlettResult(statistic=6.054092711026625, pvalue=0.19514485256182393)"
      ]
     },
     "execution_count": 12,
     "metadata": {},
     "output_type": "execute_result"
    }
   ],
   "source": [
    "# Test for homogeneity of variance\n",
    "# Bartlett's null hypothesis: All the groups have equal variance\n",
    "\n",
    "D = {}\n",
    "for tmt in df['Treatments'].unique():\n",
    "    idx_tmt = df['Treatments'] == tmt\n",
    "    D[tmt] = df.loc[idx_tmt, 'Yield_T_ha'].values\n",
    "    \n",
    "#print(D)\n",
    "stats.bartlett(D[1], D[3], D[5], D[7], D[9])\n"
   ]
  },
  {
   "cell_type": "markdown",
   "id": "0236bbe9-8e11-4998-9a3a-9fd434878df4",
   "metadata": {},
   "source": [
    "## One-way ANOVA\n",
    "\n",
    "Here we will compare an independent variable with a single predictor. The predictor `N_Total_kg_ha` will be used as a categorical varaible. Alternatively we could use the `Treatments` column, but it is easier to read the table if we present the values using the actual treatment values, so that we quickly devise which Nitrogen rates show statistical differences.\n"
   ]
  },
  {
   "cell_type": "markdown",
   "id": "6702fffb-d967-457e-9a7b-99b6b8dc6d7d",
   "metadata": {},
   "source": [
    "### Using SciPy module"
   ]
  },
  {
   "cell_type": "code",
   "execution_count": 14,
   "id": "ad9e7263-b5c6-48a6-8d95-135965bc8551",
   "metadata": {},
   "outputs": [
    {
     "data": {
      "text/plain": [
       "F_onewayResult(statistic=11.431258827879908, pvalue=7.582810948341893e-08)"
      ]
     },
     "execution_count": 14,
     "metadata": {},
     "output_type": "execute_result"
    }
   ],
   "source": [
    "# One-way test\n",
    "stats.f_oneway(D[1], D[3], D[5], D[7], D[9])\n"
   ]
  },
  {
   "cell_type": "code",
   "execution_count": 15,
   "id": "3c9d5b91-1b22-4085-9617-c197f4f71464",
   "metadata": {},
   "outputs": [
    {
     "name": "stdout",
     "output_type": "stream",
     "text": [
      "Tukey's HSD Pairwise Group Comparisons (95.0% Confidence Interval)\n",
      "Comparison  Statistic  p-value  Lower CI  Upper CI\n",
      " (0 - 1)     -1.317     0.519    -3.642     1.007\n",
      " (0 - 2)     -3.036     0.004    -5.361    -0.711\n",
      " (0 - 3)     -4.310     0.000    -6.634    -1.985\n",
      " (0 - 4)     -4.745     0.000    -7.070    -2.421\n",
      " (1 - 0)      1.317     0.519    -1.007     3.642\n",
      " (1 - 2)     -1.718     0.250    -4.043     0.607\n",
      " (1 - 3)     -2.992     0.005    -5.317    -0.667\n",
      " (1 - 4)     -3.428     0.001    -5.753    -1.103\n",
      " (2 - 0)      3.036     0.004     0.711     5.361\n",
      " (2 - 1)      1.718     0.250    -0.607     4.043\n",
      " (2 - 3)     -1.274     0.553    -3.599     1.051\n",
      " (2 - 4)     -1.710     0.255    -4.034     0.615\n",
      " (3 - 0)      4.310     0.000     1.985     6.634\n",
      " (3 - 1)      2.992     0.005     0.667     5.317\n",
      " (3 - 2)      1.274     0.553    -1.051     3.599\n",
      " (3 - 4)     -0.436     0.985    -2.761     1.889\n",
      " (4 - 0)      4.745     0.000     2.421     7.070\n",
      " (4 - 1)      3.428     0.001     1.103     5.753\n",
      " (4 - 2)      1.710     0.255    -0.615     4.034\n",
      " (4 - 3)      0.436     0.985    -1.889     2.761\n",
      "\n"
     ]
    }
   ],
   "source": [
    "# Tukey test\n",
    "print(stats.tukey_hsd(D[1], D[3], D[5], D[7], D[9]))"
   ]
  },
  {
   "cell_type": "markdown",
   "id": "1b20cd51-a397-42d8-862e-112f869baad6",
   "metadata": {},
   "source": [
    "### Using Statsmodels module"
   ]
  },
  {
   "cell_type": "code",
   "execution_count": 25,
   "id": "31b53053-2dae-47ea-a51c-29737d76769b",
   "metadata": {
    "tags": []
   },
   "outputs": [
    {
     "data": {
      "text/html": [
       "<div>\n",
       "<style scoped>\n",
       "    .dataframe tbody tr th:only-of-type {\n",
       "        vertical-align: middle;\n",
       "    }\n",
       "\n",
       "    .dataframe tbody tr th {\n",
       "        vertical-align: top;\n",
       "    }\n",
       "\n",
       "    .dataframe thead th {\n",
       "        text-align: right;\n",
       "    }\n",
       "</style>\n",
       "<table border=\"1\" class=\"dataframe\">\n",
       "  <thead>\n",
       "    <tr style=\"text-align: right;\">\n",
       "      <th></th>\n",
       "      <th>df</th>\n",
       "      <th>sum_sq</th>\n",
       "      <th>mean_sq</th>\n",
       "      <th>F</th>\n",
       "      <th>PR(&gt;F)</th>\n",
       "    </tr>\n",
       "  </thead>\n",
       "  <tbody>\n",
       "    <tr>\n",
       "      <th>C(N_Total_kg_ha)</th>\n",
       "      <td>4.0</td>\n",
       "      <td>386.085542</td>\n",
       "      <td>96.521385</td>\n",
       "      <td>11.431259</td>\n",
       "      <td>7.582811e-08</td>\n",
       "    </tr>\n",
       "    <tr>\n",
       "      <th>Residual</th>\n",
       "      <td>115.0</td>\n",
       "      <td>971.018108</td>\n",
       "      <td>8.443636</td>\n",
       "      <td>NaN</td>\n",
       "      <td>NaN</td>\n",
       "    </tr>\n",
       "  </tbody>\n",
       "</table>\n",
       "</div>"
      ],
      "text/plain": [
       "                     df      sum_sq    mean_sq          F        PR(>F)\n",
       "C(N_Total_kg_ha)    4.0  386.085542  96.521385  11.431259  7.582811e-08\n",
       "Residual          115.0  971.018108   8.443636        NaN           NaN"
      ]
     },
     "execution_count": 25,
     "metadata": {},
     "output_type": "execute_result"
    }
   ],
   "source": [
    "# Anova table with statsmodels\n",
    "formula = 'Yield_T_ha ~ C(N_Total_kg_ha)'\n",
    "anova_lm(ols(formula, data=df).fit())\n",
    "\n"
   ]
  },
  {
   "cell_type": "markdown",
   "id": "0b711977-8ec3-4a7c-9811-5a32fa66a469",
   "metadata": {},
   "source": [
    "The ANOVA table shows the there is significant differences between treatments. The catch is that we don't know which groups are different. The ANOVA table only tells us that at least one  group has a mean value that is substantially (read *significantly*) different from the rest.\n",
    "\n",
    "The **F** is the F-statistic to test the null hypothesis that the corresponding coefficient is zero. The goal is to compare the mean variability within groups to the mean variability between groups. The F-statistic is just the ratio of the two (96.5/8.44=11.4). 96.52 is the variability between groups and 8.44 is the variability within the groups.\n",
    "\n",
    "\n",
    "The **pValue** of the F-statistic indicates whether a factor is not significant at the 5% significance level given the other terms in the model.\n",
    "\n",
    "A mean multicomparison test can help us identify which treatments show signifcant differences.\n"
   ]
  },
  {
   "cell_type": "code",
   "execution_count": 23,
   "id": "c0d1d4dc-91c3-4bb6-a02f-73c3c109c0b8",
   "metadata": {
    "tags": []
   },
   "outputs": [
    {
     "name": "stdout",
     "output_type": "stream",
     "text": [
      "Multiple Comparison of Means - Tukey HSD, FWER=0.05\n",
      "===================================================\n",
      "group1 group2 meandiff p-adj   lower  upper  reject\n",
      "---------------------------------------------------\n",
      "     0     36   1.3175 0.5192 -1.0073 3.6423  False\n",
      "     0     90   3.0358  0.004   0.711 5.3607   True\n",
      "     0    143   4.3096    0.0  1.9847 6.6344   True\n",
      "     0    197   4.7454    0.0  2.4206 7.0703   True\n",
      "    36     90   1.7183 0.2499 -0.6065 4.0432  False\n",
      "    36    143   2.9921 0.0047  0.6672 5.3169   True\n",
      "    36    197   3.4279 0.0008  1.1031 5.7528   True\n",
      "    90    143   1.2738 0.5527 -1.0511 3.5986  False\n",
      "    90    197   1.7096 0.2547 -0.6153 4.0344  False\n",
      "   143    197   0.4358 0.9852  -1.889 2.7607  False\n",
      "---------------------------------------------------\n"
     ]
    }
   ],
   "source": [
    "# Multicomparison test\n",
    "groups = MultiComparison(df[\"Yield_T_ha\"],df['N_Total_kg_ha']).tukeyhsd(alpha=0.05)\n",
    "print(groups)\n"
   ]
  },
  {
   "cell_type": "code",
   "execution_count": 24,
   "id": "1e4119eb-86b3-45f7-8824-ca12ff189806",
   "metadata": {
    "tags": []
   },
   "outputs": [
    {
     "data": {
      "image/png": "[encoded data removed]",
      "text/plain": [
       "<Figure size 1000x600 with 1 Axes>"
      ]
     },
     "metadata": {},
     "output_type": "display_data"
    }
   ],
   "source": [
    "# Visualize significantly different groups relative to a specific group\n",
    "groups.plot_simultaneous(comparison_name=90)\n",
    "plt.xlabel('Corn yield in T/ha', size=12)\n",
    "plt.ylabel('Nitrogen Treatments in kg/ha', size=12)\n",
    "plt.show()\n"
   ]
  },
  {
   "cell_type": "markdown",
   "id": "4596b195-6b61-4b67-8ef9-332f9b7de1de",
   "metadata": {},
   "source": [
    "## Two-way ANOVA\n",
    "\n",
    "In this case we will add two predictors variables, soil textural class and total nitrogen applied. In many cases researchers add `Location` as a proxy for local environmental conditions (including soil) and `Year` as a proxy for the particular weather conditions during each growing season. In this case we have soil textural class available, so we will make use of that first, since it will give our results broader applications that, in principle, can be related to soil types elsewhere.\n"
   ]
  },
  {
   "cell_type": "code",
   "execution_count": 18,
   "id": "857b6d2a-af1e-488d-bfe9-2180d6c030a7",
   "metadata": {
    "tags": []
   },
   "outputs": [
    {
     "data": {
      "text/html": [
       "<div>\n",
       "<style scoped>\n",
       "    .dataframe tbody tr th:only-of-type {\n",
       "        vertical-align: middle;\n",
       "    }\n",
       "\n",
       "    .dataframe tbody tr th {\n",
       "        vertical-align: top;\n",
       "    }\n",
       "\n",
       "    .dataframe thead th {\n",
       "        text-align: right;\n",
       "    }\n",
       "</style>\n",
       "<table border=\"1\" class=\"dataframe\">\n",
       "  <thead>\n",
       "    <tr style=\"text-align: right;\">\n",
       "      <th></th>\n",
       "      <th>df</th>\n",
       "      <th>sum_sq</th>\n",
       "      <th>mean_sq</th>\n",
       "      <th>F</th>\n",
       "      <th>PR(&gt;F)</th>\n",
       "    </tr>\n",
       "  </thead>\n",
       "  <tbody>\n",
       "    <tr>\n",
       "      <th>C(N_Total_kg_ha)</th>\n",
       "      <td>4.0</td>\n",
       "      <td>386.085542</td>\n",
       "      <td>96.521385</td>\n",
       "      <td>11.750059</td>\n",
       "      <td>5.022955e-08</td>\n",
       "    </tr>\n",
       "    <tr>\n",
       "      <th>C(Textural_class)</th>\n",
       "      <td>1.0</td>\n",
       "      <td>34.560000</td>\n",
       "      <td>34.560000</td>\n",
       "      <td>4.207172</td>\n",
       "      <td>4.254546e-02</td>\n",
       "    </tr>\n",
       "    <tr>\n",
       "      <th>Residual</th>\n",
       "      <td>114.0</td>\n",
       "      <td>936.458108</td>\n",
       "      <td>8.214545</td>\n",
       "      <td>NaN</td>\n",
       "      <td>NaN</td>\n",
       "    </tr>\n",
       "  </tbody>\n",
       "</table>\n",
       "</div>"
      ],
      "text/plain": [
       "                      df      sum_sq    mean_sq          F        PR(>F)\n",
       "C(N_Total_kg_ha)     4.0  386.085542  96.521385  11.750059  5.022955e-08\n",
       "C(Textural_class)    1.0   34.560000  34.560000   4.207172  4.254546e-02\n",
       "Residual           114.0  936.458108   8.214545        NaN           NaN"
      ]
     },
     "execution_count": 18,
     "metadata": {},
     "output_type": "execute_result"
    }
   ],
   "source": [
    "# Two predictors\n",
    "formula = 'Yield_T_ha ~ C(N_Total_kg_ha) + C(Textural_class)'\n",
    "anova_lm(ols(formula, data=df).fit())\n"
   ]
  },
  {
   "cell_type": "markdown",
   "id": "4c2e6593-ff08-4c4c-9bc3-a1527d2df7af",
   "metadata": {},
   "source": [
    "Soil textual class was barely significant considering all locations and years at the the 0.05 level."
   ]
  },
  {
   "cell_type": "code",
   "execution_count": 19,
   "id": "529d3270-fe2d-421e-a642-c0e79fafb45c",
   "metadata": {
    "tags": []
   },
   "outputs": [
    {
     "data": {
      "text/html": [
       "<div>\n",
       "<style scoped>\n",
       "    .dataframe tbody tr th:only-of-type {\n",
       "        vertical-align: middle;\n",
       "    }\n",
       "\n",
       "    .dataframe tbody tr th {\n",
       "        vertical-align: top;\n",
       "    }\n",
       "\n",
       "    .dataframe thead th {\n",
       "        text-align: right;\n",
       "    }\n",
       "</style>\n",
       "<table border=\"1\" class=\"dataframe\">\n",
       "  <thead>\n",
       "    <tr style=\"text-align: right;\">\n",
       "      <th></th>\n",
       "      <th>df</th>\n",
       "      <th>sum_sq</th>\n",
       "      <th>mean_sq</th>\n",
       "      <th>F</th>\n",
       "      <th>PR(&gt;F)</th>\n",
       "    </tr>\n",
       "  </thead>\n",
       "  <tbody>\n",
       "    <tr>\n",
       "      <th>C(N_Total_kg_ha)</th>\n",
       "      <td>4.0</td>\n",
       "      <td>386.085542</td>\n",
       "      <td>96.521385</td>\n",
       "      <td>12.530231</td>\n",
       "      <td>1.960683e-08</td>\n",
       "    </tr>\n",
       "    <tr>\n",
       "      <th>C(Textural_class)</th>\n",
       "      <td>1.0</td>\n",
       "      <td>34.560000</td>\n",
       "      <td>34.560000</td>\n",
       "      <td>4.486516</td>\n",
       "      <td>3.641510e-02</td>\n",
       "    </tr>\n",
       "    <tr>\n",
       "      <th>C(N_Total_kg_ha):C(Textural_class)</th>\n",
       "      <td>4.0</td>\n",
       "      <td>89.119178</td>\n",
       "      <td>22.279795</td>\n",
       "      <td>2.892322</td>\n",
       "      <td>2.547188e-02</td>\n",
       "    </tr>\n",
       "    <tr>\n",
       "      <th>Residual</th>\n",
       "      <td>110.0</td>\n",
       "      <td>847.338930</td>\n",
       "      <td>7.703081</td>\n",
       "      <td>NaN</td>\n",
       "      <td>NaN</td>\n",
       "    </tr>\n",
       "  </tbody>\n",
       "</table>\n",
       "</div>"
      ],
      "text/plain": [
       "                                       df      sum_sq    mean_sq          F  \\\n",
       "C(N_Total_kg_ha)                      4.0  386.085542  96.521385  12.530231   \n",
       "C(Textural_class)                     1.0   34.560000  34.560000   4.486516   \n",
       "C(N_Total_kg_ha):C(Textural_class)    4.0   89.119178  22.279795   2.892322   \n",
       "Residual                            110.0  847.338930   7.703081        NaN   \n",
       "\n",
       "                                          PR(>F)  \n",
       "C(N_Total_kg_ha)                    1.960683e-08  \n",
       "C(Textural_class)                   3.641510e-02  \n",
       "C(N_Total_kg_ha):C(Textural_class)  2.547188e-02  \n",
       "Residual                                     NaN  "
      ]
     },
     "execution_count": 19,
     "metadata": {},
     "output_type": "execute_result"
    }
   ],
   "source": [
    "# Two predictors with interaction\n",
    "formula = 'Yield_T_ha ~ C(N_Total_kg_ha) * C(Textural_class)'\n",
    "anova_lm(ols(formula, data=df).fit())\n"
   ]
  },
  {
   "cell_type": "markdown",
   "id": "9eab63b5-c2b5-412c-b66f-6fbbfdfa09e2",
   "metadata": {},
   "source": [
    "The interaction of nitrogen rate and textural class also resulted statistically significant at the 0.05 level."
   ]
  },
  {
   "cell_type": "code",
   "execution_count": 20,
   "id": "edfe2e2f-e5c0-4eb2-90ef-ce6666ee9ea7",
   "metadata": {
    "tags": []
   },
   "outputs": [
    {
     "data": {
      "text/html": [
       "<div>\n",
       "<style scoped>\n",
       "    .dataframe tbody tr th:only-of-type {\n",
       "        vertical-align: middle;\n",
       "    }\n",
       "\n",
       "    .dataframe tbody tr th {\n",
       "        vertical-align: top;\n",
       "    }\n",
       "\n",
       "    .dataframe thead th {\n",
       "        text-align: right;\n",
       "    }\n",
       "</style>\n",
       "<table border=\"1\" class=\"dataframe\">\n",
       "  <thead>\n",
       "    <tr style=\"text-align: right;\">\n",
       "      <th></th>\n",
       "      <th>df</th>\n",
       "      <th>sum_sq</th>\n",
       "      <th>mean_sq</th>\n",
       "      <th>F</th>\n",
       "      <th>PR(&gt;F)</th>\n",
       "    </tr>\n",
       "  </thead>\n",
       "  <tbody>\n",
       "    <tr>\n",
       "      <th>C(N_Total_kg_ha)</th>\n",
       "      <td>4.0</td>\n",
       "      <td>386.085542</td>\n",
       "      <td>96.521385</td>\n",
       "      <td>20.522835</td>\n",
       "      <td>3.270251e-12</td>\n",
       "    </tr>\n",
       "    <tr>\n",
       "      <th>State</th>\n",
       "      <td>2.0</td>\n",
       "      <td>234.432785</td>\n",
       "      <td>117.216393</td>\n",
       "      <td>24.923106</td>\n",
       "      <td>1.989675e-09</td>\n",
       "    </tr>\n",
       "    <tr>\n",
       "      <th>C(Year)</th>\n",
       "      <td>2.0</td>\n",
       "      <td>112.504702</td>\n",
       "      <td>56.252351</td>\n",
       "      <td>11.960642</td>\n",
       "      <td>2.328310e-05</td>\n",
       "    </tr>\n",
       "    <tr>\n",
       "      <th>C(N_Total_kg_ha):State</th>\n",
       "      <td>8.0</td>\n",
       "      <td>140.688973</td>\n",
       "      <td>17.586122</td>\n",
       "      <td>3.739245</td>\n",
       "      <td>7.649526e-04</td>\n",
       "    </tr>\n",
       "    <tr>\n",
       "      <th>C(N_Total_kg_ha):C(Year)</th>\n",
       "      <td>8.0</td>\n",
       "      <td>36.595110</td>\n",
       "      <td>4.574389</td>\n",
       "      <td>0.972628</td>\n",
       "      <td>4.621589e-01</td>\n",
       "    </tr>\n",
       "    <tr>\n",
       "      <th>State:C(Year)</th>\n",
       "      <td>4.0</td>\n",
       "      <td>3.745613</td>\n",
       "      <td>0.936403</td>\n",
       "      <td>0.199103</td>\n",
       "      <td>9.382617e-01</td>\n",
       "    </tr>\n",
       "    <tr>\n",
       "      <th>C(N_Total_kg_ha):State:C(Year)</th>\n",
       "      <td>16.0</td>\n",
       "      <td>14.832950</td>\n",
       "      <td>0.927059</td>\n",
       "      <td>0.197116</td>\n",
       "      <td>9.996634e-01</td>\n",
       "    </tr>\n",
       "    <tr>\n",
       "      <th>Residual</th>\n",
       "      <td>95.0</td>\n",
       "      <td>446.796537</td>\n",
       "      <td>4.703121</td>\n",
       "      <td>NaN</td>\n",
       "      <td>NaN</td>\n",
       "    </tr>\n",
       "  </tbody>\n",
       "</table>\n",
       "</div>"
      ],
      "text/plain": [
       "                                  df      sum_sq     mean_sq          F  \\\n",
       "C(N_Total_kg_ha)                 4.0  386.085542   96.521385  20.522835   \n",
       "State                            2.0  234.432785  117.216393  24.923106   \n",
       "C(Year)                          2.0  112.504702   56.252351  11.960642   \n",
       "C(N_Total_kg_ha):State           8.0  140.688973   17.586122   3.739245   \n",
       "C(N_Total_kg_ha):C(Year)         8.0   36.595110    4.574389   0.972628   \n",
       "State:C(Year)                    4.0    3.745613    0.936403   0.199103   \n",
       "C(N_Total_kg_ha):State:C(Year)  16.0   14.832950    0.927059   0.197116   \n",
       "Residual                        95.0  446.796537    4.703121        NaN   \n",
       "\n",
       "                                      PR(>F)  \n",
       "C(N_Total_kg_ha)                3.270251e-12  \n",
       "State                           1.989675e-09  \n",
       "C(Year)                         2.328310e-05  \n",
       "C(N_Total_kg_ha):State          7.649526e-04  \n",
       "C(N_Total_kg_ha):C(Year)        4.621589e-01  \n",
       "State:C(Year)                   9.382617e-01  \n",
       "C(N_Total_kg_ha):State:C(Year)  9.996634e-01  \n",
       "Residual                                 NaN  "
      ]
     },
     "execution_count": 20,
     "metadata": {},
     "output_type": "execute_result"
    }
   ],
   "source": [
    "# Classical ANOVA with Treatment, Location, and Year interactions\n",
    "formula = 'Yield_T_ha ~ C(N_Total_kg_ha) * State * C(Year)'\n",
    "anova_lm(ols(formula, data=df).fit())\n"
   ]
  },
  {
   "cell_type": "markdown",
   "id": "5231a7b3-5b49-4db1-a62a-a09152cda8a5",
   "metadata": {},
   "source": [
    "In a multi-treatment, multi-year, and multi-state study, it is not surprising that treatment, site, and year resulted highly significant (P<0.01).\n",
    "\n",
    "Note that the interactions `N_Total_kg_ha:Year`, `State:Year`, and `N_Total_kg_ha:State:Year` were not significant at the P<0.05 level."
   ]
  },
  {
   "cell_type": "markdown",
   "id": "7cf3c33f-7262-4fc9-8fa2-d1f48a9d18ba",
   "metadata": {},
   "source": [
    "## References\n",
    "\n",
    "Tremblay, N.,  Y.M. Bouroubi,  C. Bélec,  R.W. Mullen,  N.R. Kitchen,  W.E. Thomason,  S. Ebelhar,  D.B. Mengel,  W.R. Raun,  D.D. Francis,  E.D. Vories, and I. Ortiz-Monasterio. 2012. Corn response to nitrogen is influenced by soil texture and weather. Agron. J. 104:1658–1671. doi:10.2134/agronj2012.018.\n"
   ]
  }
 ],
 "metadata": {
  "kernelspec": {
   "display_name": "Python 3 (ipykernel)",
   "language": "python",
   "name": "python3"
  },
  "language_info": {
   "codemirror_mode": {
    "name": "ipython",
    "version": 3
   },
   "file_extension": ".py",
   "mimetype": "text/x-python",
   "name": "python",
   "nbconvert_exporter": "python",
   "pygments_lexer": "ipython3",
   "version": "3.10.9"
  }
 },
 "nbformat": 4,
 "nbformat_minor": 5
}
