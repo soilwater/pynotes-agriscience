{
 "cells": [
  {
   "cell_type": "raw",
   "id": "0276859e-160c-400e-a9da-a732e99d5673",
   "metadata": {},
   "source": [
    "---\n",
    "title: \"Semivariogram\"\n",
    "author: \"Andres Patrignani\"\n",
    "date: \"3/27/2024\"\n",
    "keywords: [\"spatial variability\", \"semivariogram\", \"soil moisture\"]\n",
    "---"
   ]
  },
  {
   "cell_type": "code",
   "execution_count": 65,
   "id": "b349569b-ced0-4012-98a9-d66a20bfd0d3",
   "metadata": {
    "tags": []
   },
   "outputs": [],
   "source": [
    "# Import modules\n",
    "import numpy as np\n",
    "import geopandas as gpd\n",
    "import matplotlib.pyplot as plt"
   ]
  },
  {
   "cell_type": "code",
   "execution_count": 28,
   "id": "e9e82d72-c055-4337-91b7-81dba75b1ea6",
   "metadata": {
    "tags": []
   },
   "outputs": [],
   "source": [
    "# Define coordiante reference systems\n",
    "crs_utm = 32614 # UTM Zone 14\n",
    "crs_wgs = 4326 # WGS84"
   ]
  },
  {
   "cell_type": "code",
   "execution_count": 14,
   "id": "68314dc0-5f5e-441f-a8d5-779f7130f285",
   "metadata": {
    "tags": []
   },
   "outputs": [
    {
     "data": {
      "text/html": [
       "<div>\n",
       "<style scoped>\n",
       "    .dataframe tbody tr th:only-of-type {\n",
       "        vertical-align: middle;\n",
       "    }\n",
       "\n",
       "    .dataframe tbody tr th {\n",
       "        vertical-align: top;\n",
       "    }\n",
       "\n",
       "    .dataframe thead th {\n",
       "        text-align: right;\n",
       "    }\n",
       "</style>\n",
       "<table border=\"1\" class=\"dataframe\">\n",
       "  <thead>\n",
       "    <tr style=\"text-align: right;\">\n",
       "      <th></th>\n",
       "      <th>TimeStamp</th>\n",
       "      <th>Record</th>\n",
       "      <th>Zone</th>\n",
       "      <th>Latitude</th>\n",
       "      <th>Longitude</th>\n",
       "      <th>Moisture</th>\n",
       "      <th>Period</th>\n",
       "      <th>Attenuation</th>\n",
       "      <th>Permittivity</th>\n",
       "      <th>Probe Model</th>\n",
       "      <th>field_11</th>\n",
       "      <th>Display</th>\n",
       "      <th>geometry</th>\n",
       "    </tr>\n",
       "  </thead>\n",
       "  <tbody>\n",
       "    <tr>\n",
       "      <th>0</th>\n",
       "      <td>7/8/19 12:04</td>\n",
       "      <td>1015</td>\n",
       "      <td>ZONE 00078</td>\n",
       "      <td>39.11056</td>\n",
       "      <td>-96.61091</td>\n",
       "      <td>45.02</td>\n",
       "      <td>1.8469</td>\n",
       "      <td>2.5216</td>\n",
       "      <td>30.789</td>\n",
       "      <td>CD659 12cm rods</td>\n",
       "      <td></td>\n",
       "      <td>3710</td>\n",
       "      <td>None</td>\n",
       "    </tr>\n",
       "    <tr>\n",
       "      <th>1</th>\n",
       "      <td>7/8/19 12:04</td>\n",
       "      <td>1016</td>\n",
       "      <td>ZONE 00078</td>\n",
       "      <td>39.11056</td>\n",
       "      <td>-96.61091</td>\n",
       "      <td>45.02</td>\n",
       "      <td>1.8469</td>\n",
       "      <td>2.5216</td>\n",
       "      <td>30.789</td>\n",
       "      <td>CD659 12cm rods</td>\n",
       "      <td></td>\n",
       "      <td>3710</td>\n",
       "      <td>None</td>\n",
       "    </tr>\n",
       "    <tr>\n",
       "      <th>2</th>\n",
       "      <td>7/8/19 12:05</td>\n",
       "      <td>1017</td>\n",
       "      <td>ZONE 00078</td>\n",
       "      <td>39.11056</td>\n",
       "      <td>-96.61091</td>\n",
       "      <td>28.59</td>\n",
       "      <td>1.5564</td>\n",
       "      <td>1.5221</td>\n",
       "      <td>15.659</td>\n",
       "      <td>CD659 12cm rods</td>\n",
       "      <td></td>\n",
       "      <td>3710</td>\n",
       "      <td>None</td>\n",
       "    </tr>\n",
       "  </tbody>\n",
       "</table>\n",
       "</div>"
      ],
      "text/plain": [
       "      TimeStamp Record        Zone  Latitude  Longitude Moisture  Period  \\\n",
       "0  7/8/19 12:04   1015  ZONE 00078  39.11056  -96.61091    45.02  1.8469   \n",
       "1  7/8/19 12:04   1016  ZONE 00078  39.11056  -96.61091    45.02  1.8469   \n",
       "2  7/8/19 12:05   1017  ZONE 00078  39.11056  -96.61091    28.59  1.5564   \n",
       "\n",
       "  Attenuation Permittivity      Probe Model field_11 Display geometry  \n",
       "0      2.5216       30.789  CD659 12cm rods             3710     None  \n",
       "1      2.5216       30.789  CD659 12cm rods             3710     None  \n",
       "2      1.5221       15.659  CD659 12cm rods             3710     None  "
      ]
     },
     "execution_count": 14,
     "metadata": {},
     "output_type": "execute_result"
    }
   ],
   "source": [
    "# Read spatial data\n",
    "gdf = gpd.read_file('../datasets/spatial/soil_moisture_surveys/kona_08_jul_2019.csv')\n",
    "gdf.head(3)\n"
   ]
  },
  {
   "cell_type": "code",
   "execution_count": 29,
   "id": "f5f0852e-6f4f-4371-9508-921097677990",
   "metadata": {
    "tags": []
   },
   "outputs": [
    {
     "data": {
      "text/html": [
       "<div>\n",
       "<style scoped>\n",
       "    .dataframe tbody tr th:only-of-type {\n",
       "        vertical-align: middle;\n",
       "    }\n",
       "\n",
       "    .dataframe tbody tr th {\n",
       "        vertical-align: top;\n",
       "    }\n",
       "\n",
       "    .dataframe thead th {\n",
       "        text-align: right;\n",
       "    }\n",
       "</style>\n",
       "<table border=\"1\" class=\"dataframe\">\n",
       "  <thead>\n",
       "    <tr style=\"text-align: right;\">\n",
       "      <th></th>\n",
       "      <th>TimeStamp</th>\n",
       "      <th>Record</th>\n",
       "      <th>Zone</th>\n",
       "      <th>Latitude</th>\n",
       "      <th>Longitude</th>\n",
       "      <th>Moisture</th>\n",
       "      <th>Period</th>\n",
       "      <th>Attenuation</th>\n",
       "      <th>Permittivity</th>\n",
       "      <th>Probe Model</th>\n",
       "      <th>field_11</th>\n",
       "      <th>Display</th>\n",
       "      <th>geometry</th>\n",
       "    </tr>\n",
       "  </thead>\n",
       "  <tbody>\n",
       "    <tr>\n",
       "      <th>0</th>\n",
       "      <td>7/8/19 12:04</td>\n",
       "      <td>1015</td>\n",
       "      <td>ZONE 00078</td>\n",
       "      <td>39.11056</td>\n",
       "      <td>-96.61091</td>\n",
       "      <td>45.02</td>\n",
       "      <td>1.8469</td>\n",
       "      <td>2.5216</td>\n",
       "      <td>30.789</td>\n",
       "      <td>CD659 12cm rods</td>\n",
       "      <td></td>\n",
       "      <td>3710</td>\n",
       "      <td>POINT (-96.61091 39.11056)</td>\n",
       "    </tr>\n",
       "    <tr>\n",
       "      <th>1</th>\n",
       "      <td>7/8/19 12:04</td>\n",
       "      <td>1016</td>\n",
       "      <td>ZONE 00078</td>\n",
       "      <td>39.11056</td>\n",
       "      <td>-96.61091</td>\n",
       "      <td>45.02</td>\n",
       "      <td>1.8469</td>\n",
       "      <td>2.5216</td>\n",
       "      <td>30.789</td>\n",
       "      <td>CD659 12cm rods</td>\n",
       "      <td></td>\n",
       "      <td>3710</td>\n",
       "      <td>POINT (-96.61091 39.11056)</td>\n",
       "    </tr>\n",
       "    <tr>\n",
       "      <th>2</th>\n",
       "      <td>7/8/19 12:05</td>\n",
       "      <td>1017</td>\n",
       "      <td>ZONE 00078</td>\n",
       "      <td>39.11056</td>\n",
       "      <td>-96.61091</td>\n",
       "      <td>28.59</td>\n",
       "      <td>1.5564</td>\n",
       "      <td>1.5221</td>\n",
       "      <td>15.659</td>\n",
       "      <td>CD659 12cm rods</td>\n",
       "      <td></td>\n",
       "      <td>3710</td>\n",
       "      <td>POINT (-96.61091 39.11056)</td>\n",
       "    </tr>\n",
       "  </tbody>\n",
       "</table>\n",
       "</div>"
      ],
      "text/plain": [
       "      TimeStamp Record        Zone  Latitude  Longitude Moisture  Period  \\\n",
       "0  7/8/19 12:04   1015  ZONE 00078  39.11056  -96.61091    45.02  1.8469   \n",
       "1  7/8/19 12:04   1016  ZONE 00078  39.11056  -96.61091    45.02  1.8469   \n",
       "2  7/8/19 12:05   1017  ZONE 00078  39.11056  -96.61091    28.59  1.5564   \n",
       "\n",
       "  Attenuation Permittivity      Probe Model field_11 Display  \\\n",
       "0      2.5216       30.789  CD659 12cm rods             3710   \n",
       "1      2.5216       30.789  CD659 12cm rods             3710   \n",
       "2      1.5221       15.659  CD659 12cm rods             3710   \n",
       "\n",
       "                     geometry  \n",
       "0  POINT (-96.61091 39.11056)  \n",
       "1  POINT (-96.61091 39.11056)  \n",
       "2  POINT (-96.61091 39.11056)  "
      ]
     },
     "execution_count": 29,
     "metadata": {},
     "output_type": "execute_result"
    }
   ],
   "source": [
    "## Add Point geometry from lat and long values\n",
    "points = gpd.points_from_xy(gdf['Longitude'], gdf['Latitude'], crs=crs_wgs)\n",
    "gdf['geometry'] = points\n",
    "gdf.head(3)"
   ]
  },
  {
   "cell_type": "code",
   "execution_count": 59,
   "id": "5570c78d-9dbc-481c-a040-271d06e9bd33",
   "metadata": {
    "tags": []
   },
   "outputs": [],
   "source": [
    "# Conver moisture to float (for some reason it is imported as str)\n",
    "# type(gdf.loc[0,'Moisture'])\n",
    "gdf['Moisture'] = gdf['Moisture'].astype(float)"
   ]
  },
  {
   "cell_type": "code",
   "execution_count": 60,
   "id": "84649144-cf6e-4aee-b65f-58ffae084c4d",
   "metadata": {
    "tags": []
   },
   "outputs": [
    {
     "data": {
      "image/png": "[encoded data removed]",
      "text/plain": [
       "<Figure size 500x400 with 1 Axes>"
      ]
     },
     "metadata": {},
     "output_type": "display_data"
    }
   ],
   "source": [
    "# Inspect spatial data\n",
    "plt.figure(figsize=(5,4))\n",
    "plt.title('KONA field')\n",
    "gdf.plot(ax=plt.gca(), marker='.', color='k')\n",
    "plt.xlabel('Longitude')\n",
    "plt.ylabel('Latitude')\n",
    "plt.show()\n"
   ]
  },
  {
   "cell_type": "code",
   "execution_count": 61,
   "id": "0babaaba-7e58-48d0-8e9c-fe11d8606a3a",
   "metadata": {
    "tags": []
   },
   "outputs": [
    {
     "data": {
      "text/html": [
       "<div>\n",
       "<style scoped>\n",
       "    .dataframe tbody tr th:only-of-type {\n",
       "        vertical-align: middle;\n",
       "    }\n",
       "\n",
       "    .dataframe tbody tr th {\n",
       "        vertical-align: top;\n",
       "    }\n",
       "\n",
       "    .dataframe thead th {\n",
       "        text-align: right;\n",
       "    }\n",
       "</style>\n",
       "<table border=\"1\" class=\"dataframe\">\n",
       "  <thead>\n",
       "    <tr style=\"text-align: right;\">\n",
       "      <th></th>\n",
       "      <th>TimeStamp</th>\n",
       "      <th>Record</th>\n",
       "      <th>Zone</th>\n",
       "      <th>Latitude</th>\n",
       "      <th>Longitude</th>\n",
       "      <th>Moisture</th>\n",
       "      <th>Period</th>\n",
       "      <th>Attenuation</th>\n",
       "      <th>Permittivity</th>\n",
       "      <th>Probe Model</th>\n",
       "      <th>field_11</th>\n",
       "      <th>Display</th>\n",
       "      <th>geometry</th>\n",
       "    </tr>\n",
       "  </thead>\n",
       "  <tbody>\n",
       "    <tr>\n",
       "      <th>355</th>\n",
       "      <td>7/8/19 13:37</td>\n",
       "      <td>105</td>\n",
       "      <td>ZONE 00004</td>\n",
       "      <td>39.11057</td>\n",
       "      <td>-96.61315</td>\n",
       "      <td>41.01</td>\n",
       "      <td>1.7339</td>\n",
       "      <td>1.7514</td>\n",
       "      <td>26.0185</td>\n",
       "      <td>CD659 12cm rods</td>\n",
       "      <td></td>\n",
       "      <td>4182</td>\n",
       "      <td>POINT (706371.780 4331759.255)</td>\n",
       "    </tr>\n",
       "    <tr>\n",
       "      <th>356</th>\n",
       "      <td>7/8/19 13:38</td>\n",
       "      <td>106</td>\n",
       "      <td>[Unspecified Zone]</td>\n",
       "      <td>39.11031</td>\n",
       "      <td>-96.61314</td>\n",
       "      <td>40.26</td>\n",
       "      <td>1.7203</td>\n",
       "      <td>1.7317</td>\n",
       "      <td>25.2192</td>\n",
       "      <td>CD659 12cm rods</td>\n",
       "      <td></td>\n",
       "      <td>4182</td>\n",
       "      <td>POINT (706373.403 4331730.420)</td>\n",
       "    </tr>\n",
       "    <tr>\n",
       "      <th>357</th>\n",
       "      <td>7/8/19 13:39</td>\n",
       "      <td>107</td>\n",
       "      <td>ZONE 00010</td>\n",
       "      <td>39.11013</td>\n",
       "      <td>-96.61287</td>\n",
       "      <td>38.80</td>\n",
       "      <td>1.6932</td>\n",
       "      <td>1.5264</td>\n",
       "      <td>23.7587</td>\n",
       "      <td>CD659 12cm rods</td>\n",
       "      <td></td>\n",
       "      <td>4182</td>\n",
       "      <td>POINT (706397.276 4331711.055)</td>\n",
       "    </tr>\n",
       "  </tbody>\n",
       "</table>\n",
       "</div>"
      ],
      "text/plain": [
       "        TimeStamp Record                Zone  Latitude  Longitude  Moisture  \\\n",
       "355  7/8/19 13:37    105          ZONE 00004  39.11057  -96.61315     41.01   \n",
       "356  7/8/19 13:38    106  [Unspecified Zone]  39.11031  -96.61314     40.26   \n",
       "357  7/8/19 13:39    107          ZONE 00010  39.11013  -96.61287     38.80   \n",
       "\n",
       "     Period Attenuation Permittivity      Probe Model field_11 Display  \\\n",
       "355  1.7339      1.7514      26.0185  CD659 12cm rods             4182   \n",
       "356  1.7203      1.7317      25.2192  CD659 12cm rods             4182   \n",
       "357  1.6932      1.5264      23.7587  CD659 12cm rods             4182   \n",
       "\n",
       "                           geometry  \n",
       "355  POINT (706371.780 4331759.255)  \n",
       "356  POINT (706373.403 4331730.420)  \n",
       "357  POINT (706397.276 4331711.055)  "
      ]
     },
     "execution_count": 61,
     "metadata": {},
     "output_type": "execute_result"
    }
   ],
   "source": [
    "# Convert point coordinates to UTM, so that we can work in meters to compute distances within the field\n",
    "gdf.to_crs(crs=crs_utm, inplace=True)\n",
    "gdf.tail(3)\n"
   ]
  },
  {
   "cell_type": "code",
   "execution_count": 41,
   "id": "22fae9f1-5f54-402b-a76e-3d8c5e781685",
   "metadata": {
    "tags": []
   },
   "outputs": [],
   "source": [
    "# Compute distances between all pairs of points\n",
    "x = gdf['geometry'].x.values\n",
    "y = gdf['geometry'].y.values\n"
   ]
  },
  {
   "cell_type": "code",
   "execution_count": 70,
   "id": "63c6445b-ad8a-4700-8cc9-ee9128592a18",
   "metadata": {
    "tags": []
   },
   "outputs": [],
   "source": [
    "# Compute\n",
    "dist = []\n",
    "Z_diff = []\n",
    "for k in range(gdf.shape[0]):\n",
    "    dist.append(gdf[\"geometry\"].distance(gdf.loc[k, 'geometry']).values) \n",
    "    Z_diff.append((gdf['Moisture'] - gdf.loc[k, 'Moisture'])**2)"
   ]
  },
  {
   "cell_type": "code",
   "execution_count": 71,
   "id": "86baf2f6-8e11-4718-8548-f3eeee12e7c8",
   "metadata": {
    "tags": []
   },
   "outputs": [
    {
     "data": {
      "text/plain": [
       "<matplotlib.collections.PathCollection at 0x178356add90>"
      ]
     },
     "execution_count": 71,
     "metadata": {},
     "output_type": "execute_result"
    },
    {
     "data": {
      "image/png": "[encoded data removed]",
      "text/plain": [
       "<Figure size 640x480 with 1 Axes>"
      ]
     },
     "metadata": {},
     "output_type": "display_data"
    }
   ],
   "source": [
    "plt.scatter(dist, Z_diff)"
   ]
  },
  {
   "cell_type": "code",
   "execution_count": 12,
   "id": "8018d3ed-6cba-470d-8a37-fafe8c78e1b7",
   "metadata": {
    "tags": []
   },
   "outputs": [],
   "source": [
    "expon_variogram = lambda h,par: par[2] + par[0]*(1-np.exp(-3*h/par[1]))\n"
   ]
  },
  {
   "cell_type": "code",
   "execution_count": 45,
   "id": "1ef0f2d1-76c7-43d5-bb2f-d169c0b40003",
   "metadata": {
    "tags": []
   },
   "outputs": [
    {
     "data": {
      "text/plain": [
       "0                         POINT EMPTY\n",
       "1                         POINT EMPTY\n",
       "2                         POINT EMPTY\n",
       "3      POINT (706565.507 4331763.241)\n",
       "4      POINT (706565.507 4331763.241)\n",
       "                    ...              \n",
       "353    POINT (706565.507 4331763.241)\n",
       "354    POINT (706565.507 4331763.241)\n",
       "355    POINT (706565.507 4331763.241)\n",
       "356    POINT (706565.507 4331763.241)\n",
       "357    POINT (706565.507 4331763.241)\n",
       "Name: geometry, Length: 358, dtype: geometry"
      ]
     },
     "execution_count": 45,
     "metadata": {},
     "output_type": "execute_result"
    }
   ],
   "source": [
    "gdf.loc[0,'geometry'] - gdf['geometry']"
   ]
  },
  {
   "cell_type": "code",
   "execution_count": 49,
   "id": "70500ccd-1568-4c0d-bf1c-c5b8116b32f7",
   "metadata": {
    "tags": []
   },
   "outputs": [
    {
     "data": {
      "text/plain": [
       "0        0.000000\n",
       "1        0.000000\n",
       "2        0.000000\n",
       "3       34.030449\n",
       "4       23.828281\n",
       "          ...    \n",
       "353    141.526536\n",
       "354    171.019465\n",
       "355    193.768173\n",
       "356    194.887235\n",
       "357    176.138922\n",
       "Length: 358, dtype: float64"
      ]
     },
     "execution_count": 49,
     "metadata": {},
     "output_type": "execute_result"
    }
   ],
   "source": [
    "gdf[\"geometry\"].distance(gdf.loc[0, 'geometry'])"
   ]
  },
  {
   "cell_type": "code",
   "execution_count": 48,
   "id": "c562a6b9-b022-4bb9-8543-cb4c1e43adac",
   "metadata": {
    "tags": []
   },
   "outputs": [
    {
     "data": {
      "image/svg+xml": [
       "<svg xmlns=\"http://www.w3.org/2000/svg\" xmlns:xlink=\"http://www.w3.org/1999/xlink\" width=\"100.0\" height=\"100.0\" viewBox=\"706564.5071172077 4331762.240575481 2.0 2.0\" preserveAspectRatio=\"xMinYMin meet\"><g transform=\"matrix(1,0,0,-1,0,8663526.481150962)\"><circle cx=\"706565.5071172077\" cy=\"4331763.240575481\" r=\"0.06\" stroke=\"#555555\" stroke-width=\"0.02\" fill=\"#66cc99\" opacity=\"0.6\" /></g></svg>"
      ],
      "text/plain": [
       "<POINT (706565.507 4331763.241)>"
      ]
     },
     "execution_count": 48,
     "metadata": {},
     "output_type": "execute_result"
    }
   ],
   "source": [
    "gdf.loc[0, 'geometry']"
   ]
  }
 ],
 "metadata": {
  "kernelspec": {
   "display_name": "Python 3 (ipykernel)",
   "language": "python",
   "name": "python3"
  },
  "language_info": {
   "codemirror_mode": {
    "name": "ipython",
    "version": 3
   },
   "file_extension": ".py",
   "mimetype": "text/x-python",
   "name": "python",
   "nbconvert_exporter": "python",
   "pygments_lexer": "ipython3",
   "version": "3.11.5"
  }
 },
 "nbformat": 4,
 "nbformat_minor": 5
}
