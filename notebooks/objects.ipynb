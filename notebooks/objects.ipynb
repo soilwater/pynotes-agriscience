{
 "cells": [
  {
   "cell_type": "markdown",
   "metadata": {},
   "source": [
    "# Objects\n",
    "\n",
    "Everything in Python is an object. The following code snippets are aimed at showing some of the features of objects and its properties and methods.\n",
    "\n",
    "> Use the `TAB` key after writing few characters to trigger autocompletion of object properties and methods.`"
   ]
  },
  {
   "cell_type": "markdown",
   "metadata": {},
   "source": [
    "## Methods\n",
    "\n",
    "Methods are functions attached to an object. Below there are few examples:\n",
    "\n",
    "- sort() method of list objects. This method sorts the elements of a list.\n",
    "\n",
    "- upper() method of string objects. This method converts all the letters of a string to upper case letters.\n",
    "\n",
    "- mean() method of Numpy objects. This method computes the arithmetic average of a Numpy array either column-wise or row-wise.\n"
   ]
  },
  {
   "cell_type": "code",
   "execution_count": 6,
   "metadata": {},
   "outputs": [
    {
     "name": "stdout",
     "output_type": "stream",
     "text": [
      "<class 'list'>\n",
      "<built-in method sort of list object at 0x10b662380>\n",
      "[1, 2, 3]\n"
     ]
    }
   ],
   "source": [
    "# sort() method of a list object\n",
    "\n",
    "a = [2,1,3]    # Generate a trivial list\n",
    "print(type(a)) # Print its type\n",
    "print(a.sort)  # Show that sort() is a method of lists. Print not using the ()\n",
    "\n",
    "# The address 0x10b662380 is a pointer in memory.\n",
    " \n",
    "a.sort()  # Invoke the built-in method\n",
    "print(a) # Print the sorted list\n"
   ]
  },
  {
   "cell_type": "code",
   "execution_count": 8,
   "metadata": {},
   "outputs": [
    {
     "name": "stdout",
     "output_type": "stream",
     "text": [
      "<class 'str'>\n",
      "<built-in method upper of str object at 0x108c31170>\n",
      "SOIL\n"
     ]
    }
   ],
   "source": [
    "# upper() method of string objects\n",
    "\n",
    "b = \"soil\"     # Generate a string\n",
    "print(type(b)) # Print its type\n",
    "print(b.upper) # # Show that upper() is a method of lists. Invoke not using the ()\n",
    "print(b.upper()) # Let's use the built-in method and print the upper case word\n"
   ]
  },
  {
   "cell_type": "code",
   "execution_count": 11,
   "metadata": {},
   "outputs": [
    {
     "name": "stdout",
     "output_type": "stream",
     "text": [
      "[[ 5 11  8  9]\n",
      " [11  5  0  0]\n",
      " [ 1  7  6  9]]\n",
      "<class 'numpy.ndarray'>\n",
      "<built-in method mean of numpy.ndarray object at 0x10bbf83f0>\n",
      "[5.66666667 7.66666667 4.66666667 6.        ]\n",
      "[8.25 4.   5.75]\n"
     ]
    }
   ],
   "source": [
    "# Import numpy module\n",
    "import numpy as np\n",
    "\n",
    "np.random.seed(1) # Set seed for reproducibility\n",
    "array = np.array(np.random.randint(12, size=(3,4))) # Create array of 3 rows and 4 columns\n",
    "print(array)\n",
    "print(type(array)) # Print object type\n",
    "print(array.mean) # Showthat .mean() is a method of numpy objects\n",
    "print(array.mean(axis=0)) # Invoke mean() along axis 0 (column-wise)\n",
    "print(array.mean(axis=1)) # Invoke mean() along axis 1 (row-wise)\n"
   ]
  },
  {
   "cell_type": "markdown",
   "metadata": {},
   "source": [
    "## Properties"
   ]
  },
  {
   "cell_type": "code",
   "execution_count": 64,
   "metadata": {},
   "outputs": [
    {
     "name": "stdout",
     "output_type": "stream",
     "text": [
      "<class 'numpy.dtype'>\n",
      "float64\n",
      "<class 'tuple'>\n",
      "(3, 4)\n",
      "<class 'int'>\n",
      "12\n"
     ]
    }
   ],
   "source": [
    "# These are properties of the object\n",
    "\n",
    "# Type of elements in the array (float 64 bits in this case)\n",
    "print(type(array.dtype))\n",
    "print(array.dtype)\n",
    "      \n",
    "# Dimensions of the array\n",
    "print(type(array.shape))\n",
    "print(array.shape) # returns a tuple\n",
    "\n",
    "# Total number of elements\n",
    "print(type(array.size))\n",
    "print(array.size)\n"
   ]
  },
  {
   "cell_type": "markdown",
   "metadata": {},
   "source": [
    "## References\n",
    "\n",
    "Python official documentation about objects and classes: https://docs.python.org/3/tutorial/classes.html"
   ]
  }
 ],
 "metadata": {
  "kernelspec": {
   "display_name": "Python 3",
   "language": "python",
   "name": "python3"
  },
  "language_info": {
   "codemirror_mode": {
    "name": "ipython",
    "version": 3
   },
   "file_extension": ".py",
   "mimetype": "text/x-python",
   "name": "python",
   "nbconvert_exporter": "python",
   "pygments_lexer": "ipython3",
   "version": "3.8.5"
  }
 },
 "nbformat": 4,
 "nbformat_minor": 4
}
