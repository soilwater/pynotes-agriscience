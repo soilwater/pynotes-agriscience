{
 "cells": [
  {
   "cell_type": "markdown",
   "metadata": {},
   "source": [
    "# Random group generator\n",
    "\n",
    "Create a Python script that generates a random list of individuals organized in `N` groups of `K` members.\n",
    " \n",
    "The goal is to write a script that generates the specified number of groups with the specified number of random members.\n"
   ]
  },
  {
   "cell_type": "code",
   "execution_count": 1,
   "metadata": {},
   "outputs": [],
   "source": [
    "# Import modules\n",
    "import random\n",
    "import pprint\n"
   ]
  },
  {
   "cell_type": "code",
   "execution_count": 27,
   "metadata": {},
   "outputs": [],
   "source": [
    "# List of names\n",
    "names_list = [\n",
    "    'Albert Einstein',\n",
    "    'Hendrik Lorentz',\n",
    "    'Enrico Fermi',\n",
    "    'Peter Higgs',\n",
    "    'Richard Feynman',\n",
    "    'Niels Bohr',\n",
    "    'Antoine Becquerel',\n",
    "    'Gustav Hertz',\n",
    "    'Ernest Lawrence',\n",
    "    'Wilhelm Röntgen',\n",
    "    'Paul Dirac',\n",
    "    'Marie Curie',\n",
    "    'Max Planck',\n",
    "    'Erwin Schrödinger',\n",
    "    'Hideki Yukawa'\n",
    "]\n"
   ]
  },
  {
   "cell_type": "code",
   "execution_count": 13,
   "metadata": {},
   "outputs": [],
   "source": [
    "# Set parameters\n",
    "n_groups = 3  # Define number of groups\n",
    "k_members = 4 # Define number of members per group\n",
    "total_people = n_groups*k_members\n",
    "\n",
    "if total_people > len(names_list):\n",
    "    print(\"There are fewer people in the database than those requested\")\n",
    "    \n",
    "if total_people == 0:\n",
    "    print('Number of groups and number of memebrs per group cannot be zero')\n",
    "    "
   ]
  },
  {
   "cell_type": "markdown",
   "metadata": {},
   "source": [
    "## Solution using lists\n",
    "\n",
    "This solution simply selects a random name, removes the name from the list, and prints the name. We use the individual name to remove it from the list using the `remove()` method."
   ]
  },
  {
   "cell_type": "code",
   "execution_count": 9,
   "metadata": {},
   "outputs": [
    {
     "name": "stdout",
     "output_type": "stream",
     "text": [
      "Group 1: Wilhelm Röntgen\n",
      "Group 1: Albert Einstein\n",
      "Group 1: Erwin Schrödinger\n",
      "Group 1: Peter Higgs\n",
      "Group 2: Max Planck\n",
      "Group 2: Hideki Yukawa\n",
      "Group 2: Ernest Lawrence\n",
      "Group 2: Hendrik Lorentz\n",
      "Group 3: Niels Bohr\n",
      "Group 3: Gustav Hertz\n",
      "Group 3: Marie Curie\n",
      "Group 3: Enrico Fermi\n"
     ]
    }
   ],
   "source": [
    "for i in range(0,n_groups):\n",
    "    for j in range(0,k_members):\n",
    "        rand_index = random.randint(0,len(names_list)-1) # Need to add -1 to avoid indexing out of range\n",
    "        rand_person = names_list[rand_index]\n",
    "        print('Group ' + str(i + 1) + ':', rand_person)\n",
    "        names_list.remove(rand_person)\n",
    "            "
   ]
  },
  {
   "cell_type": "markdown",
   "metadata": {},
   "source": [
    "## Solution using a dictionary\n",
    "\n",
    "This solution is similar to the prvious solution, but it stores the names into a dictionary and makes use of the pretty print module for a nicer display. In this alternative we also remove a specific individual by its corresponding index using the `pop()` method."
   ]
  },
  {
   "cell_type": "code",
   "execution_count": 17,
   "metadata": {},
   "outputs": [
    {
     "name": "stdout",
     "output_type": "stream",
     "text": [
      "{'G1': ['Peter Higgs', 'Max Planck', 'Albert Einstein', 'Richard Feynman'],\n",
      " 'G2': ['Enrico Fermi',\n",
      "        'Wilhelm Röntgen',\n",
      "        'Erwin Schrödinger',\n",
      "        'Hideki Yukawa'],\n",
      " 'G3': ['Niels Bohr', 'Marie Curie', 'Gustav Hertz', 'Paul Dirac']}\n"
     ]
    }
   ],
   "source": [
    "result = {} # Initialize an empty dictionary\n",
    "\n",
    "for i in range(0,n_groups):\n",
    "    group_name = 'G' + str(i+1)\n",
    "    group_list = []\n",
    "    for j in range(0,k_members):\n",
    "        rand_index = random.randint(0,len(names_list)-1) # Need to add -1 to avoid indexing out of range\n",
    "        rand_person = names_list[rand_index].split(',')[0]\n",
    "        group_list.append(rand_person)\n",
    "        names_list.pop(rand_index)\n",
    "\n",
    "    result[group_name] = group_list\n",
    "        \n",
    "pprint.pprint(result)\n"
   ]
  },
  {
   "cell_type": "markdown",
   "metadata": {},
   "source": [
    "## Solution using sample method\n",
    "\n",
    "Uses sampling without replacement to select all the names at once."
   ]
  },
  {
   "cell_type": "code",
   "execution_count": 20,
   "metadata": {},
   "outputs": [
    {
     "name": "stdout",
     "output_type": "stream",
     "text": [
      "Group 1 : Ernest Lawrence\n",
      "Group 1 : Albert Einstein\n",
      "Group 1 : Hendrik Lorentz\n",
      "Group 1 : Niels Bohr\n",
      "Group 2 : Richard Feynman\n",
      "Group 2 : Marie Curie\n",
      "Group 2 : Enrico Fermi\n",
      "Group 2 : Erwin Schrödinger\n",
      "Group 3 : Peter Higgs\n",
      "Group 3 : Paul Dirac\n",
      "Group 3 : Wilhelm Röntgen\n",
      "Group 3 : Max Planck\n"
     ]
    }
   ],
   "source": [
    "random_names = random.sample(names_list, k=total_people)\n",
    "\n",
    "# Print names and assign a group\n",
    "counter = 0  # Initialize the counter\n",
    "for i in range(1,n_groups+1):\n",
    "    for j in range(1,k_members+1):\n",
    "        print('Group',i,':',random_names[counter])\n",
    "        counter = counter + 1  # Add one unit before starting next iteration\n"
   ]
  },
  {
   "cell_type": "markdown",
   "metadata": {},
   "source": [
    "## Solution using Numpy\n",
    "\n",
    "This script groups a set of people into n groups with a maximum of k randomly selected members per group."
   ]
  },
  {
   "cell_type": "code",
   "execution_count": 29,
   "metadata": {},
   "outputs": [
    {
     "name": "stdout",
     "output_type": "stream",
     "text": [
      "Group: 1 Gustav Hertz\n",
      "Group: 1 Hendrik Lorentz\n",
      "Group: 1 Marie Curie\n",
      "Group: 1 Wilhelm Röntgen\n",
      "Group: 2 Max Planck\n",
      "Group: 2 Albert Einstein\n",
      "Group: 2 Richard Feynman\n",
      "Group: 2 Erwin Schrödinger\n",
      "Group: 3 Peter Higgs\n",
      "Group: 3 Paul Dirac\n",
      "Group: 3 Niels Bohr\n",
      "Group: 3 Hideki Yukawa\n"
     ]
    }
   ],
   "source": [
    "import numpy as np\n",
    "N = len(names_list)\n",
    "groups = []\n",
    "\n",
    "# Generate array of groups (as integers), with a maximum number \n",
    "# of k_members per group\n",
    "for i in range(int(n_groups)):\n",
    "    groups = np.append(groups,np.ones(k_members)*i+1).astype(int)\n",
    "\n",
    "# Shuffle the group numbers\n",
    "np.random.shuffle(names_list)\n",
    "\n",
    "for i in range(len(groups)):\n",
    "    print('Group:',groups[i],names_list[i])"
   ]
  }
 ],
 "metadata": {
  "kernelspec": {
   "display_name": "Python 3",
   "language": "python",
   "name": "python3"
  },
  "language_info": {
   "codemirror_mode": {
    "name": "ipython",
    "version": 3
   },
   "file_extension": ".py",
   "mimetype": "text/x-python",
   "name": "python",
   "nbconvert_exporter": "python",
   "pygments_lexer": "ipython3",
   "version": "3.8.5"
  }
 },
 "nbformat": 4,
 "nbformat_minor": 4
}
