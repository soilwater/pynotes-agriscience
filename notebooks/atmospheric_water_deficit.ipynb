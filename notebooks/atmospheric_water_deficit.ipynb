{
 "cells": [
  {
   "cell_type": "markdown",
   "metadata": {},
   "source": [
    "# Atmospheric Water Deficit\n",
    "\n",
    "In environmental sciences many times we are concerned with soil water deficits that can affect vegetation growth and limit root growth, above ground biomass accumulation, and grain yield. Estimating soil water deficits can be hard, even if we use a model. A more simplistic approach consists of using observations of precipitation and potential evapotrasnpiration observations to approximate the state of the soil mositure conditions. Of course, this is just a metric based on atmopsheric variables, but both precipitation and potential evapotranspiration are strongly linked to soil moisture dynamics and in some cases might be enough for practical hydrological applications and climate characterization.\n"
   ]
  },
  {
   "cell_type": "code",
   "execution_count": 70,
   "metadata": {},
   "outputs": [],
   "source": [
    "# Import modules\n",
    "import pandas as pd\n",
    "import matplotlib.pyplot as plt\n"
   ]
  },
  {
   "cell_type": "code",
   "execution_count": 71,
   "metadata": {},
   "outputs": [
    {
     "data": {
      "text/html": [
       "<div>\n",
       "<style scoped>\n",
       "    .dataframe tbody tr th:only-of-type {\n",
       "        vertical-align: middle;\n",
       "    }\n",
       "\n",
       "    .dataframe tbody tr th {\n",
       "        vertical-align: top;\n",
       "    }\n",
       "\n",
       "    .dataframe thead th {\n",
       "        text-align: right;\n",
       "    }\n",
       "</style>\n",
       "<table border=\"1\" class=\"dataframe\">\n",
       "  <thead>\n",
       "    <tr style=\"text-align: right;\">\n",
       "      <th></th>\n",
       "      <th>date</th>\n",
       "      <th>doy</th>\n",
       "      <th>precip</th>\n",
       "      <th>et</th>\n",
       "    </tr>\n",
       "  </thead>\n",
       "  <tbody>\n",
       "    <tr>\n",
       "      <th>0</th>\n",
       "      <td>2/28/1997</td>\n",
       "      <td>59</td>\n",
       "      <td>0.0</td>\n",
       "      <td>1.57</td>\n",
       "    </tr>\n",
       "    <tr>\n",
       "      <th>1</th>\n",
       "      <td>3/1/1997</td>\n",
       "      <td>60</td>\n",
       "      <td>0.0</td>\n",
       "      <td>2.24</td>\n",
       "    </tr>\n",
       "    <tr>\n",
       "      <th>2</th>\n",
       "      <td>3/2/1997</td>\n",
       "      <td>61</td>\n",
       "      <td>0.0</td>\n",
       "      <td>2.01</td>\n",
       "    </tr>\n",
       "    <tr>\n",
       "      <th>3</th>\n",
       "      <td>3/3/1997</td>\n",
       "      <td>62</td>\n",
       "      <td>0.0</td>\n",
       "      <td>4.34</td>\n",
       "    </tr>\n",
       "    <tr>\n",
       "      <th>4</th>\n",
       "      <td>3/4/1997</td>\n",
       "      <td>63</td>\n",
       "      <td>0.0</td>\n",
       "      <td>3.20</td>\n",
       "    </tr>\n",
       "  </tbody>\n",
       "</table>\n",
       "</div>"
      ],
      "text/plain": [
       "        date  doy  precip    et\n",
       "0  2/28/1997   59     0.0  1.57\n",
       "1   3/1/1997   60     0.0  2.24\n",
       "2   3/2/1997   61     0.0  2.01\n",
       "3   3/3/1997   62     0.0  4.34\n",
       "4   3/4/1997   63     0.0  3.20"
      ]
     },
     "execution_count": 71,
     "metadata": {},
     "output_type": "execute_result"
    }
   ],
   "source": [
    "# Load data for Hollis, OK as in Figure\n",
    "data = pd.read_csv('../datasets/hollis_ok_precip_et.csv')\n",
    "data.head()\n"
   ]
  },
  {
   "cell_type": "markdown",
   "metadata": {},
   "source": [
    "Before we proceed, let's convert the dates from `string` format to `datetime` format. This will allow us to easily generate plots involving dates with Matplotlib and it will also allow us to compute the day of the year."
   ]
  },
  {
   "cell_type": "code",
   "execution_count": 72,
   "metadata": {},
   "outputs": [
    {
     "data": {
      "text/plain": [
       "pandas._libs.tslibs.timestamps.Timestamp"
      ]
     },
     "execution_count": 72,
     "metadata": {},
     "output_type": "execute_result"
    }
   ],
   "source": [
    "# Let's prove that the current format is string\n",
    "type(data[\"date\"][0])\n",
    "\n",
    "# Convert to datetime using Pandas\n",
    "data.date = pd.to_datetime(data[\"date\"])\n",
    "\n",
    "# Let's prove that the new format is indeed in datetime format\n",
    "type(data[\"date\"][0])\n"
   ]
  },
  {
   "cell_type": "markdown",
   "metadata": {},
   "source": [
    "The next step constits of computing the cumulative sum of precipitation and evapotranspiration. In this case we will match the window of 15 days used in the reference manuscript by Torres et al., 2013.\n",
    "\n",
    "We will set a `window of 7 days` and we will not make any computation for the first 15 values of the time series. this will prevent that we compute extremely low values of atmospheric water deficit due to lack of observations in the window. In other word, we will start computing the 15-day rolling sum after day number 15 (full window with data)."
   ]
  },
  {
   "cell_type": "code",
   "execution_count": 80,
   "metadata": {},
   "outputs": [
    {
     "data": {
      "text/html": [
       "<div>\n",
       "<style scoped>\n",
       "    .dataframe tbody tr th:only-of-type {\n",
       "        vertical-align: middle;\n",
       "    }\n",
       "\n",
       "    .dataframe tbody tr th {\n",
       "        vertical-align: top;\n",
       "    }\n",
       "\n",
       "    .dataframe thead th {\n",
       "        text-align: right;\n",
       "    }\n",
       "</style>\n",
       "<table border=\"1\" class=\"dataframe\">\n",
       "  <thead>\n",
       "    <tr style=\"text-align: right;\">\n",
       "      <th></th>\n",
       "      <th>date</th>\n",
       "      <th>doy</th>\n",
       "      <th>precip</th>\n",
       "      <th>et</th>\n",
       "      <th>precip_cum</th>\n",
       "      <th>et_cum</th>\n",
       "      <th>awd</th>\n",
       "    </tr>\n",
       "  </thead>\n",
       "  <tbody>\n",
       "    <tr>\n",
       "      <th>0</th>\n",
       "      <td>1997-02-28</td>\n",
       "      <td>59</td>\n",
       "      <td>0.0</td>\n",
       "      <td>1.57</td>\n",
       "      <td>NaN</td>\n",
       "      <td>NaN</td>\n",
       "      <td>NaN</td>\n",
       "    </tr>\n",
       "    <tr>\n",
       "      <th>1</th>\n",
       "      <td>1997-03-01</td>\n",
       "      <td>60</td>\n",
       "      <td>0.0</td>\n",
       "      <td>2.24</td>\n",
       "      <td>NaN</td>\n",
       "      <td>NaN</td>\n",
       "      <td>NaN</td>\n",
       "    </tr>\n",
       "    <tr>\n",
       "      <th>2</th>\n",
       "      <td>1997-03-02</td>\n",
       "      <td>61</td>\n",
       "      <td>0.0</td>\n",
       "      <td>2.01</td>\n",
       "      <td>NaN</td>\n",
       "      <td>NaN</td>\n",
       "      <td>NaN</td>\n",
       "    </tr>\n",
       "    <tr>\n",
       "      <th>3</th>\n",
       "      <td>1997-03-03</td>\n",
       "      <td>62</td>\n",
       "      <td>0.0</td>\n",
       "      <td>4.34</td>\n",
       "      <td>NaN</td>\n",
       "      <td>NaN</td>\n",
       "      <td>NaN</td>\n",
       "    </tr>\n",
       "    <tr>\n",
       "      <th>4</th>\n",
       "      <td>1997-03-04</td>\n",
       "      <td>63</td>\n",
       "      <td>0.0</td>\n",
       "      <td>3.20</td>\n",
       "      <td>NaN</td>\n",
       "      <td>NaN</td>\n",
       "      <td>NaN</td>\n",
       "    </tr>\n",
       "    <tr>\n",
       "      <th>5</th>\n",
       "      <td>1997-03-05</td>\n",
       "      <td>64</td>\n",
       "      <td>0.0</td>\n",
       "      <td>3.96</td>\n",
       "      <td>NaN</td>\n",
       "      <td>NaN</td>\n",
       "      <td>NaN</td>\n",
       "    </tr>\n",
       "    <tr>\n",
       "      <th>6</th>\n",
       "      <td>1997-03-06</td>\n",
       "      <td>65</td>\n",
       "      <td>0.0</td>\n",
       "      <td>3.80</td>\n",
       "      <td>0.0</td>\n",
       "      <td>21.12</td>\n",
       "      <td>NaN</td>\n",
       "    </tr>\n",
       "    <tr>\n",
       "      <th>7</th>\n",
       "      <td>1997-03-07</td>\n",
       "      <td>66</td>\n",
       "      <td>0.0</td>\n",
       "      <td>4.23</td>\n",
       "      <td>0.0</td>\n",
       "      <td>23.78</td>\n",
       "      <td>NaN</td>\n",
       "    </tr>\n",
       "    <tr>\n",
       "      <th>8</th>\n",
       "      <td>1997-03-08</td>\n",
       "      <td>67</td>\n",
       "      <td>0.0</td>\n",
       "      <td>0.91</td>\n",
       "      <td>0.0</td>\n",
       "      <td>22.45</td>\n",
       "      <td>NaN</td>\n",
       "    </tr>\n",
       "    <tr>\n",
       "      <th>9</th>\n",
       "      <td>1997-03-09</td>\n",
       "      <td>68</td>\n",
       "      <td>0.0</td>\n",
       "      <td>4.27</td>\n",
       "      <td>0.0</td>\n",
       "      <td>24.71</td>\n",
       "      <td>NaN</td>\n",
       "    </tr>\n",
       "  </tbody>\n",
       "</table>\n",
       "</div>"
      ],
      "text/plain": [
       "        date  doy  precip    et  precip_cum  et_cum  awd\n",
       "0 1997-02-28   59     0.0  1.57         NaN     NaN  NaN\n",
       "1 1997-03-01   60     0.0  2.24         NaN     NaN  NaN\n",
       "2 1997-03-02   61     0.0  2.01         NaN     NaN  NaN\n",
       "3 1997-03-03   62     0.0  4.34         NaN     NaN  NaN\n",
       "4 1997-03-04   63     0.0  3.20         NaN     NaN  NaN\n",
       "5 1997-03-05   64     0.0  3.96         NaN     NaN  NaN\n",
       "6 1997-03-06   65     0.0  3.80         0.0   21.12  NaN\n",
       "7 1997-03-07   66     0.0  4.23         0.0   23.78  NaN\n",
       "8 1997-03-08   67     0.0  0.91         0.0   22.45  NaN\n",
       "9 1997-03-09   68     0.0  4.27         0.0   24.71  NaN"
      ]
     },
     "execution_count": 80,
     "metadata": {},
     "output_type": "execute_result"
    }
   ],
   "source": [
    "# Compute cumulative precipitation\n",
    "window = 7 # days\n",
    "data[\"precip_cum\"] = data[\"precip\"].rolling(window).sum()\n",
    "\n",
    "# Compute cumulative evapotranspiration\n",
    "data[\"et_cum\"] = data[\"et\"].rolling(window).sum()\n",
    "data.head(10)\n"
   ]
  },
  {
   "cell_type": "code",
   "execution_count": 81,
   "metadata": {},
   "outputs": [],
   "source": [
    "# Compute atmospheric water deficit\n",
    "data[\"awd\"] = data[\"et_cum\"] - data[\"precip_cum\"]\n"
   ]
  },
  {
   "cell_type": "code",
   "execution_count": 82,
   "metadata": {},
   "outputs": [
    {
     "data": {
      "text/html": [
       "<div>\n",
       "<style scoped>\n",
       "    .dataframe tbody tr th:only-of-type {\n",
       "        vertical-align: middle;\n",
       "    }\n",
       "\n",
       "    .dataframe tbody tr th {\n",
       "        vertical-align: top;\n",
       "    }\n",
       "\n",
       "    .dataframe thead th {\n",
       "        text-align: right;\n",
       "    }\n",
       "</style>\n",
       "<table border=\"1\" class=\"dataframe\">\n",
       "  <thead>\n",
       "    <tr style=\"text-align: right;\">\n",
       "      <th></th>\n",
       "      <th>date</th>\n",
       "      <th>doy</th>\n",
       "      <th>precip</th>\n",
       "      <th>et</th>\n",
       "      <th>precip_cum</th>\n",
       "      <th>et_cum</th>\n",
       "      <th>awd</th>\n",
       "    </tr>\n",
       "  </thead>\n",
       "  <tbody>\n",
       "    <tr>\n",
       "      <th>0</th>\n",
       "      <td>1997-02-28</td>\n",
       "      <td>59</td>\n",
       "      <td>0.0</td>\n",
       "      <td>1.57</td>\n",
       "      <td>NaN</td>\n",
       "      <td>NaN</td>\n",
       "      <td>NaN</td>\n",
       "    </tr>\n",
       "    <tr>\n",
       "      <th>1</th>\n",
       "      <td>1997-03-01</td>\n",
       "      <td>60</td>\n",
       "      <td>0.0</td>\n",
       "      <td>2.24</td>\n",
       "      <td>NaN</td>\n",
       "      <td>NaN</td>\n",
       "      <td>NaN</td>\n",
       "    </tr>\n",
       "    <tr>\n",
       "      <th>2</th>\n",
       "      <td>1997-03-02</td>\n",
       "      <td>61</td>\n",
       "      <td>0.0</td>\n",
       "      <td>2.01</td>\n",
       "      <td>NaN</td>\n",
       "      <td>NaN</td>\n",
       "      <td>NaN</td>\n",
       "    </tr>\n",
       "    <tr>\n",
       "      <th>3</th>\n",
       "      <td>1997-03-03</td>\n",
       "      <td>62</td>\n",
       "      <td>0.0</td>\n",
       "      <td>4.34</td>\n",
       "      <td>NaN</td>\n",
       "      <td>NaN</td>\n",
       "      <td>NaN</td>\n",
       "    </tr>\n",
       "    <tr>\n",
       "      <th>4</th>\n",
       "      <td>1997-03-04</td>\n",
       "      <td>63</td>\n",
       "      <td>0.0</td>\n",
       "      <td>3.20</td>\n",
       "      <td>NaN</td>\n",
       "      <td>NaN</td>\n",
       "      <td>NaN</td>\n",
       "    </tr>\n",
       "  </tbody>\n",
       "</table>\n",
       "</div>"
      ],
      "text/plain": [
       "        date  doy  precip    et  precip_cum  et_cum  awd\n",
       "0 1997-02-28   59     0.0  1.57         NaN     NaN  NaN\n",
       "1 1997-03-01   60     0.0  2.24         NaN     NaN  NaN\n",
       "2 1997-03-02   61     0.0  2.01         NaN     NaN  NaN\n",
       "3 1997-03-03   62     0.0  4.34         NaN     NaN  NaN\n",
       "4 1997-03-04   63     0.0  3.20         NaN     NaN  NaN"
      ]
     },
     "execution_count": 82,
     "metadata": {},
     "output_type": "execute_result"
    }
   ],
   "source": [
    "# Compute the day of the year for each date\n",
    "data[\"doy\"] = data[\"date\"].dt.dayofyear\n",
    "data.head()"
   ]
  },
  {
   "cell_type": "code",
   "execution_count": 83,
   "metadata": {},
   "outputs": [],
   "source": [
    "# We do this simplify the following statements\n",
    "grouped_awd_data = data[\"awd\"].groupby(data[\"doy\"]) # This is an object\n",
    "\n",
    "# Compute median\n",
    "mean_awd = grouped_awd_data.mean()\n",
    "\n",
    "# Get groups (which are the unique days of the year)\n",
    "doy_awd = list(grouped_awd_data.groups.keys())\n"
   ]
  },
  {
   "cell_type": "code",
   "execution_count": 84,
   "metadata": {},
   "outputs": [],
   "source": [
    "# Pitfall 1: Convert dictionary keys into list using square brackets\n",
    "doy_awd_pitfall_1 = [ grouped_awd_data.groups.keys() ] \n",
    "\n",
    "# Print the variable to see the nesting of the keys: [dict_keys([1, 2, 3, 4, 5,\n"
   ]
  },
  {
   "cell_type": "code",
   "execution_count": 85,
   "metadata": {},
   "outputs": [
    {
     "name": "stdout",
     "output_type": "stream",
     "text": [
      "Aligned with grouped AWD data: [1, 2, 3, 4, 5, 6, 7, 8, 9, 10]\n",
      "Not aligned with grouped AWD data: [59 60 61 62 63 64 65 66 67 68]\n"
     ]
    }
   ],
   "source": [
    "# Pitfall 2: Get unique day of the year\n",
    "doy_awd_pitfall_2 = data[\"doy\"].unique()\n",
    "\n",
    "# Show first few elements to illustrate the difference between the two appraoches\n",
    "print('Aligned with grouped AWD data:',doy_awd[0:10])\n",
    "print('Not aligned with grouped AWD data:',doy_awd_pitfall_2[0:10])"
   ]
  },
  {
   "cell_type": "code",
   "execution_count": 132,
   "metadata": {},
   "outputs": [
    {
     "data": {
      "image/png": "[encoded data removed]",
      "text/plain": [
       "<Figure size 576x432 with 1 Axes>"
      ]
     },
     "metadata": {
      "needs_background": "light"
     },
     "output_type": "display_data"
    }
   ],
   "source": [
    "# Plot current variables\n",
    "plt.figure(figsize=(8,6))\n",
    "plt.title(\"Hollis, OK\", size=16)\n",
    "plt.plot(doy_awd, mean_awd, '-o')\n",
    "plt.xlabel('Day of Year', size=16)\n",
    "plt.ylabel('Atmospheric water deficit (mm)', size=16)\n",
    "plt.show()\n"
   ]
  },
  {
   "cell_type": "code",
   "execution_count": 127,
   "metadata": {},
   "outputs": [],
   "source": [
    "# Calculate probability of AWD > 50 mm\n",
    "drought_threshold = 50\n",
    "idx = data[\"awd\"] > drought_threshold\n",
    "awd_prob_50mm = idx.groupby(data[\"doy\"]).sum() / grouped_awd_data.size()\n"
   ]
  },
  {
   "cell_type": "code",
   "execution_count": 131,
   "metadata": {},
   "outputs": [
    {
     "data": {
      "image/png": "[encoded data removed]",
      "text/plain": [
       "<Figure size 576x432 with 1 Axes>"
      ]
     },
     "metadata": {
      "needs_background": "light"
     },
     "output_type": "display_data"
    }
   ],
   "source": [
    "# Plot probability chart\n",
    "plt.figure(figsize=(8,6))\n",
    "plt.title(\"Hollis, OK\", size=16)\n",
    "plt.plot(doy_awd, awd_prob_50mm, '-o')\n",
    "plt.xlabel('Day of Year', size=16)\n",
    "plt.ylabel('Drought probability', size=16)\n",
    "plt.show()\n"
   ]
  },
  {
   "cell_type": "markdown",
   "metadata": {},
   "source": [
    "## References\n",
    "\n",
    "Torres, G.M., Lollato, R.P. and Ochsner, T.E., 2013. Comparison of drought probability assessments based on atmospheric water deficit and soil water deficit. Agronomy Journal, 105(2), pp.428-436."
   ]
  }
 ],
 "metadata": {
  "kernelspec": {
   "display_name": "Python 3",
   "language": "python",
   "name": "python3"
  },
  "language_info": {
   "codemirror_mode": {
    "name": "ipython",
    "version": 3
   },
   "file_extension": ".py",
   "mimetype": "text/x-python",
   "name": "python",
   "nbconvert_exporter": "python",
   "pygments_lexer": "ipython3",
   "version": "3.8.5"
  }
 },
 "nbformat": 4,
 "nbformat_minor": 4
}
