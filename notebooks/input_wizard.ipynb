{
 "cells": [
  {
   "cell_type": "markdown",
   "metadata": {},
   "source": [
    "# Input Wizard\n",
    "\n",
    "Metadata entry is a common task in laboratories that handle samples of some sort (e.g. DNA, tissue, soil, seeds, etc.). Assigning a unique identification number to each sample is essential for tracking samples around the lab and keeping an organized database.\n",
    "\n",
    "In this example we will use Python to create a simple data entry wizard for soil samples. We will assign a unique ID to each new sample as well as sample metadata (e.g. responsible, location, soil attributes, etc.).\n",
    "\n",
    "To allow an unlimited entry of samples by lab personnel we will couple the `input()` function with a `while` loop.\n",
    "\n",
    "In order to create a more serious data entry system we need to allow users to modify their inputs and to implement some error checks to minimize the chance of user-entry errors. For instance, if by chance a user enters a negative ring volume, then we need to catch this and let the user correct the mistake. This wizard is only aimed at practicing basic data types and control flow. A better way to create this wizard would be to create a class for the specific samples."
   ]
  },
  {
   "cell_type": "code",
   "execution_count": 5,
   "metadata": {},
   "outputs": [
    {
     "name": "stdin",
     "output_type": "stream",
     "text": [
      "Name of responsible person ('John Smith'): Andres Patrignani\n",
      "Latitude(e.g. '35.6', North is positive): 39.111\n",
      "Longitude (e.g. '-97.8', W is negative): -96.611\n",
      "Nearest town ('Manhattan, KS'): Ashland Bottoms, KS\n",
      "Ring number: 1\n",
      "Mass of wet soil including ring (g): 150\n",
      "Mass of oven-dried soil with ring (g): 120\n",
      "Do you want to add a new sample? (y/n) n\n"
     ]
    }
   ],
   "source": [
    "# Universally Unique IDentifier module\n",
    "import uuid \n",
    "import pprint\n",
    "\n",
    "new_entry_flag = True\n",
    "D = dict()\n",
    "\n",
    "while new_entry_flag:\n",
    "        \n",
    "    # Generate sample unique ID\n",
    "    sample_id = str(uuid.uuid1()) # to make the UUID a string\n",
    "\n",
    "    # Request responsible\n",
    "    responsible = input(\"Name of responsible person ('John Smith'):\")\n",
    "\n",
    "    # Request sample location\n",
    "    latitude = input(\"Latitude(e.g. '35.6', North is positive):\")\n",
    "    longitude = input(\"Longitude (e.g. '-97.8', W is negative):\")\n",
    "    location = input(\"Nearest town ('Manhattan, KS'):\")\n",
    "    city, state = location.split(\",\")\n",
    "\n",
    "    # Request ring number\n",
    "    ring_number = input(\"Ring number:\")\n",
    "    ring_number = int(ring_number)\n",
    "\n",
    "    # Automatically compute known values for all samples\n",
    "    ring_volume = 100 # cm^3\n",
    "    mass_empty_ring = 15 # g\n",
    "\n",
    "    # Request mass of wet soil\n",
    "    mass_wet_soil = input(\"Mass of wet soil including ring (g):\")\n",
    "    mass_wet_soil = float(mass_wet_soil)\n",
    "\n",
    "    # Request mass of oven-dry soil\n",
    "    mass_oven_dry_soil = input(\"Mass of oven-dried soil with ring (g):\")\n",
    "    mass_oven_dry_soil = float(mass_oven_dry_soil)\n",
    "\n",
    "    # Compute volumetric water content\n",
    "    mass_water = mass_wet_soil - mass_oven_dry_soil # g\n",
    "    density_water = 0.998 # g/cm^3\n",
    "    volumetric_water_content = mass_water*density_water/ring_volume # cm^3 water/cm^3 of soil\n",
    "\n",
    "    # Initialize dictionary for storing samples\n",
    "    D[sample_id] = {'responsible': responsible,\n",
    "                    'lat': latitude,\n",
    "                    'lon': longitude,\n",
    "                    'city': city,\n",
    "                    'state': state,\n",
    "                    'ring_number': ring_number,\n",
    "                    'volumetric_water': round(volumetric_water_content,3)}\n",
    "    \n",
    "    # Ask user if they want to exit\n",
    "    new_entry_msg = input(\"Do you want to add a new sample? (y/n)\").lower() # Force to be lower case\n",
    "    if new_entry_msg == 'n' or new_entry_msg == 'no':\n",
    "        new_entry_flag = False\n",
    "    "
   ]
  },
  {
   "cell_type": "code",
   "execution_count": 6,
   "metadata": {},
   "outputs": [
    {
     "name": "stdout",
     "output_type": "stream",
     "text": [
      "{'1aa13a9c-5765-11eb-88e4-f45c89ca92fb': {'city': 'Ashland Bottoms',\n",
      "                                          'lat': '39.111',\n",
      "                                          'lon': '-96.611',\n",
      "                                          'responsible': 'Andres Patrignani',\n",
      "                                          'ring_number': 1,\n",
      "                                          'state': ' KS',\n",
      "                                          'volumetric_water': 0.299}}\n"
     ]
    }
   ],
   "source": [
    "# Display entries (maybe not a good idea if you have hundreds or thousands of entries)\n",
    "pprint.pprint(D)\n"
   ]
  },
  {
   "cell_type": "code",
   "execution_count": 7,
   "metadata": {},
   "outputs": [
    {
     "name": "stdout",
     "output_type": "stream",
     "text": [
      "['1aa13a9c-5765-11eb-88e4-f45c89ca92fb']\n"
     ]
    }
   ],
   "source": [
    "# Get all dictionary keys as a list\n",
    "all_samples = [*D]\n",
    "print(all_samples)"
   ]
  }
 ],
 "metadata": {
  "kernelspec": {
   "display_name": "Python 3",
   "language": "python",
   "name": "python3"
  },
  "language_info": {
   "codemirror_mode": {
    "name": "ipython",
    "version": 3
   },
   "file_extension": ".py",
   "mimetype": "text/x-python",
   "name": "python",
   "nbconvert_exporter": "python",
   "pygments_lexer": "ipython3",
   "version": "3.8.5"
  }
 },
 "nbformat": 4,
 "nbformat_minor": 4
}
