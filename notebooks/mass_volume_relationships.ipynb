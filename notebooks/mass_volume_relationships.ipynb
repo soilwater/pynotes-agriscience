{
 "cells": [
  {
   "cell_type": "markdown",
   "metadata": {},
   "source": [
    "# Soil Mass-Volume Relationships\n",
    "\n",
    "**Problem 1**\n",
    "\n",
    "A cylindrical soil sample with an inner diameter of 5.00 cm and height of 5.00 cm has a wet mass of 180.0 g. After oven-drying the soil sample at 105 degrees Celsius for 48 hours the sample has a dry mass of 147.0 g. Based on the provided information, calculate: porosity, bulk density, gravimetric water content, volumetric water content, and relative saturation, and soil water storage expressed in mm and inches of water. Assume that water has a density of 0.998 g cm$^{-3}$.\n"
   ]
  },
  {
   "cell_type": "code",
   "execution_count": 3,
   "metadata": {},
   "outputs": [],
   "source": [
    "# Import modules\n",
    "import math\n"
   ]
  },
  {
   "cell_type": "code",
   "execution_count": 20,
   "metadata": {},
   "outputs": [],
   "source": [
    "# Problem information\n",
    "ring_diameter = 5.00 # cm\n",
    "ring_height = 5.00 # cm\n",
    "wet_mass = 180.0 # grams\n",
    "dry_mass = 147.0 # grams\n",
    "density_water = 0.998 # g/cm^3 at 20 Celsius\n"
   ]
  },
  {
   "cell_type": "code",
   "execution_count": 8,
   "metadata": {},
   "outputs": [
    {
     "name": "stdout",
     "output_type": "stream",
     "text": [
      "Volume of sample is: 98 cm^3\n"
     ]
    }
   ],
   "source": [
    "# Sample volume\n",
    "volume = math.pi * (ring_diameter/2)**2 * ring_height\n",
    "print('Volume of sample is:', round(volume), 'cm^3')\n"
   ]
  },
  {
   "cell_type": "code",
   "execution_count": 14,
   "metadata": {},
   "outputs": [
    {
     "name": "stdout",
     "output_type": "stream",
     "text": [
      "Bulk density of the sample is: 1.5 g/cm^3\n"
     ]
    }
   ],
   "source": [
    "# Bulk density\n",
    "bulk_density = dry_mass/volume\n",
    "print('Bulk density of the sample is:', round(bulk_density,2), 'g/cm^3')\n"
   ]
  },
  {
   "cell_type": "code",
   "execution_count": 16,
   "metadata": {},
   "outputs": [
    {
     "name": "stdout",
     "output_type": "stream",
     "text": [
      "Porosity of the sample is: 0.43\n"
     ]
    }
   ],
   "source": [
    "# Porosity\n",
    "particle_density = 2.65 # g/cm^3\n",
    "f = 1 - bulk_density/particle_density \n",
    "print('Porosity of the sample is:', round(f,2))\n"
   ]
  },
  {
   "cell_type": "code",
   "execution_count": 17,
   "metadata": {},
   "outputs": [
    {
     "name": "stdout",
     "output_type": "stream",
     "text": [
      "Gravimetric water content is: 0.224 g/g\n"
     ]
    }
   ],
   "source": [
    "# Gravimetric soil mositure \n",
    "# Mass of water per unit mass of dry soil. Typically in g/g or kg/kg\n",
    "theta_g = (wet_mass - dry_mass) / dry_mass\n",
    "print('Gravimetric water content is:', round(theta_g,3), 'g/g')\n"
   ]
  },
  {
   "cell_type": "code",
   "execution_count": 21,
   "metadata": {},
   "outputs": [
    {
     "name": "stdout",
     "output_type": "stream",
     "text": [
      "Volumetric water content is: 0.337 cm^3/cm^3\n"
     ]
    }
   ],
   "source": [
    "# Volumetric soil mositure\n",
    "# Volume of water per unit volume of dry soil. Typically in cm^3/cm^3 or m^3/m^3\n",
    "density_water\n",
    "theta_v = theta_g * bulk_density/density_water\n",
    "print('Volumetric water content is:', round(theta_v,3), 'cm^3/cm^3')\n"
   ]
  },
  {
   "cell_type": "code",
   "execution_count": 24,
   "metadata": {},
   "outputs": [
    {
     "name": "stdout",
     "output_type": "stream",
     "text": [
      "Relative saturation is: 0.77\n"
     ]
    }
   ],
   "source": [
    "# Relative saturation\n",
    "rel_sat = theta_v/f\n",
    "print('Relative saturation is:', round(rel_sat,2))\n"
   ]
  },
  {
   "cell_type": "code",
   "execution_count": 29,
   "metadata": {},
   "outputs": [
    {
     "name": "stdout",
     "output_type": "stream",
     "text": [
      "The soil water storage in mm is: 16.8 mm\n",
      "The soil water storage in inches is: 0.663 inches\n"
     ]
    }
   ],
   "source": [
    "# Storage\n",
    "storage_mm = theta_v * ring_height*10\n",
    "storage_in = storage_mm/25.4\n",
    "print('The soil water storage in mm is:', round(storage_mm,1), 'mm')\n",
    "print('The soil water storage in inches is:', round(storage_in,3), 'inches')\n"
   ]
  },
  {
   "cell_type": "markdown",
   "metadata": {},
   "source": [
    "**Problem 2**\n",
    "\n",
    "How many liters of water are stored in the top 1 meter of the soil profile of a field that has an area of 64 hectares (about 160 acres)? Assume the soil moisture of the field is the volumetric water content computer in the previous problem."
   ]
  },
  {
   "cell_type": "code",
   "execution_count": 34,
   "metadata": {},
   "outputs": [
    {
     "name": "stdout",
     "output_type": "stream",
     "text": [
      "There are  215557669 L of water\n",
      "This is equivalent to 57482 olympic swimming pools\n"
     ]
    }
   ],
   "source": [
    "# Liters of water in a field\n",
    "field_area = 64*10000 # m^2\n",
    "profile_length = 1 # meters\n",
    "equivalent_height = profile_length * theta_v # m of water\n",
    "volume_of_water = field_area * equivalent_height # m^3 of water\n",
    "# Use; 1 m^3 = 1,000 liters\n",
    "liters_of_water = volume_of_water * 1000\n",
    "\n",
    "print('There are ', round(liters_of_water), 'L of water')\n",
    "print('This is equivalent to',round(liters_of_water/(50*25*3)), 'olympic swimming pools')\n"
   ]
  },
  {
   "cell_type": "markdown",
   "metadata": {},
   "source": [
    "**Problem 3**\n",
    "The composition of the soil in the top 1 meter of the field in the previous problem is 20% sand, 60% silt, and 20% clay by mass. Compute the amount of sand required to change the composition to 21% sand, 59% silt, and 20% clay. Assume that the bulk density of the field is the value computed in problem 1.\n"
   ]
  },
  {
   "cell_type": "code",
   "execution_count": 36,
   "metadata": {},
   "outputs": [
    {
     "name": "stdout",
     "output_type": "stream",
     "text": [
      "Replacing a 1% soil texture would require 9583 Mg (or metric tons)\n"
     ]
    }
   ],
   "source": [
    "field_volume = field_area * 1 # m^3\n",
    "field_mass = field_volume * bulk_density # in Mg/m^3 since g/cm^3 = Mg/m^3\n",
    "\n",
    "print('Replacing a 1% soil texture would require', round(field_mass/100), 'Mg (or metric tons)')\n"
   ]
  }
 ],
 "metadata": {
  "kernelspec": {
   "display_name": "Python 3",
   "language": "python",
   "name": "python3"
  },
  "language_info": {
   "codemirror_mode": {
    "name": "ipython",
    "version": 3
   },
   "file_extension": ".py",
   "mimetype": "text/x-python",
   "name": "python",
   "nbconvert_exporter": "python",
   "pygments_lexer": "ipython3",
   "version": "3.7.6"
  }
 },
 "nbformat": 4,
 "nbformat_minor": 4
}
