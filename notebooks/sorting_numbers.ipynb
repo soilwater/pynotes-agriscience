{
 "cells": [
  {
   "cell_type": "markdown",
   "metadata": {},
   "source": [
    "# Sorting Numbers\n",
    "\n",
    "Sorting a shuffled list of numbers is one of my favorite puzzles. It has nothing to do with Environmental Sciences, but it is a beatifull example to learn to think logically, refine strategies, and wrestle against the white canvas. At first glance the challenge looks simple. Our brain has been faced with this operation so many times that we do not realize the level of complexity behind sorting a mere list of a handful of integers.\n",
    "\n",
    "**Challenge**: Write a script to sort the sequence `2, 4, 1, 5, 3` in *ascending* order without using the `sort()` built-in method. \n",
    "\n",
    "I suggest you first solve this exercise by hand using pencial and paper. Think about the steps that you take while sorting this list of numbers and develop a **tentative strategy** that you can implement in Python (or any other language). Don't worry if it doesn't work on the first attempt. After each try you will gain more knowledge on what works and what does not. Then go back to you initial plan and try to improve it. If your code does not work after several tries, you need to be willing to completely discard your initial plan and be willing to start from scratch again with a new tentative strategy. It's this process of coming up with new (and sometimes better) alternatives that I encourage you to practice. \n",
    "\n",
    "The demon of frustration always shows up after few unsuccessful tries. Just prepare a cup of coffee or tea and be prepare to have some joy.\n",
    "\n",
    "The solution is obvious, but I will still give you the solution using the `sort()` method."
   ]
  },
  {
   "cell_type": "code",
   "execution_count": 103,
   "metadata": {},
   "outputs": [],
   "source": [
    "# Sort the following sequence\n",
    "seq = [2,4,1,5,3]\n"
   ]
  },
  {
   "cell_type": "code",
   "execution_count": null,
   "metadata": {},
   "outputs": [],
   "source": [
    "# Answer using the sort() built-in method\n",
    "seq.sort()\n",
    "print(seq)\n"
   ]
  },
  {
   "cell_type": "markdown",
   "metadata": {},
   "source": [
    "\n",
    "The solution that I present here is neither the most efficient nor the most elegant. The solution below is what I came up when I was faced with the challenge after sketching and trying different alternatives, without searching online for the solution. If you are one of those students that like to sneak peek the solution online \"just to get you started\", then I recommend you disable your internet connection.\n",
    "\n",
    "Here are some points on the logic of the solution below for sorting the values in ascending order.\n",
    "\n",
    "* If the current item of the list is greater than the previous value in the list, then do nothing. For instance, when we get to `4`, since `4 > 2`, then we leave `4` in its current place.\n",
    "\n",
    "* If the current item of the list is smaller than the previous value in the list, then swap them. We will do this by removing the current item and then inserting it in front of the preceding value. For instance, when the `for` loop gets to the value of `1`, since `1 < 4` then we move `1` before `4`. At this point the initial sequence will be `[2,1,4,5,3]`. Something similar will occur with the number `3`. During this iteration, the loop keeps moving, so to move the number `1` before the number `2` we will need to repeat the entire process again, which gives rise to the next logical step. \n",
    "\n",
    "* Repeat until the list is sorted. We will need some sort of condition to let the interpreter know when the list is sorted. We will leave this step for later to focus on the previous steps.\n"
   ]
  },
  {
   "cell_type": "code",
   "execution_count": 5,
   "metadata": {},
   "outputs": [
    {
     "name": "stdout",
     "output_type": "stream",
     "text": [
      "[1, 2, 3, 4, 5]\n"
     ]
    }
   ],
   "source": [
    "# Compact solution\n",
    "seq = [2,4,1,5,3]\n",
    "sorted_seq = []\n",
    "while len(seq) > 0:  # more pythonic alternative: while seq:\n",
    "    seqitem = seq[0]\n",
    "    if len(sorted_seq) == 0: # more pythonic alternative: not sorted_seq:\n",
    "        sorted_seq.append(seqitem)\n",
    "        seq.remove(seqitem)\n",
    "    else:\n",
    "        for index,sorteditem in enumerate(sorted_seq):\n",
    "            if seqitem < sorteditem:\n",
    "                sorted_seq.insert(index,seqitem)\n",
    "                seq.remove(seqitem)\n",
    "                break\n",
    "             \n",
    "            elif index == len(sorted_seq)-1:\n",
    "                sorted_seq.append(seqitem)\n",
    "                seq.remove(seqitem)\n",
    "                break\n",
    "            \n",
    "print(sorted_seq)\n"
   ]
  },
  {
   "cell_type": "code",
   "execution_count": 1,
   "metadata": {},
   "outputs": [
    {
     "name": "stdout",
     "output_type": "stream",
     "text": [
      "At the beginning the list seq looks like this: [2, 4, 1, 5, 3]\n",
      "At the beginning the list sorted_seq looks like this: []\n",
      "sorted_seq is empty, so Python runs this section\n",
      "Because sorted_seq is empty, we append: 2 to sorted_seq: [2]\n",
      "and we remove: 2 from seq, which now has these elements: [4, 1, 5, 3]\n",
      "sorted_seq is no longer empty, so Python is running this section\n",
      "4 was compared to 2\n",
      "because 4 is higher than all the numbers in sorted_seq, it was moved to the end of sorted_seq\n",
      "The sorted_seq now looks like this: [2, 4]\n",
      "The list seq now looks like this: [1, 5, 3]\n",
      "sorted_seq is no longer empty, so Python is running this section\n",
      "1 was compared to 2\n",
      "because 1 is smaller than 2 it was moved before 2\n",
      "The sorted_seq now looks like this: [1, 2, 4]\n",
      "The list seq now looks like this: [5, 3]\n",
      "sorted_seq is no longer empty, so Python is running this section\n",
      "5 was compared to 1\n",
      "because we have not reach the end of sorted_seq, and 5 is greater than 1 we move on onto the next value in sorted_seq\n",
      "5 was compared to 2\n",
      "because we have not reach the end of sorted_seq, and 5 is greater than 2 we move on onto the next value in sorted_seq\n",
      "5 was compared to 4\n",
      "because 5 is higher than all the numbers in sorted_seq, it was moved to the end of sorted_seq\n",
      "The sorted_seq now looks like this: [1, 2, 4, 5]\n",
      "The list seq now looks like this: [3]\n",
      "sorted_seq is no longer empty, so Python is running this section\n",
      "3 was compared to 1\n",
      "because we have not reach the end of sorted_seq, and 3 is greater than 1 we move on onto the next value in sorted_seq\n",
      "3 was compared to 2\n",
      "because we have not reach the end of sorted_seq, and 3 is greater than 2 we move on onto the next value in sorted_seq\n",
      "3 was compared to 4\n",
      "because 3 is smaller than 4 it was moved before 4\n",
      "The sorted_seq now looks like this: [1, 2, 3, 4, 5]\n",
      "The list seq now looks like this: []\n",
      "Because there are no elements left in seq, the while loop is terminated.\n",
      "The sorted sequence looks like this: [1, 2, 3, 4, 5]\n"
     ]
    }
   ],
   "source": [
    "# Annotated solution\n",
    "seq = [2,4,1,5,3]\n",
    "sorted_seq = []\n",
    "\n",
    "print('At the beginning the list seq looks like this:',seq)\n",
    "print('At the beginning the list sorted_seq looks like this:',sorted_seq)\n",
    "\n",
    "while seq:\n",
    "    seqitem = seq[0]\n",
    "    if not sorted_seq:\n",
    "        print('sorted_seq is empty, so Python runs this section')\n",
    "        \n",
    "        sorted_seq.append(seqitem)\n",
    "        print('Because sorted_seq is empty, we append:', seqitem, 'to sorted_seq:',sorted_seq)\n",
    "        \n",
    "        seq.remove(seqitem)\n",
    "        print('and we remove:',seqitem, 'from seq, which now has these elements:',seq)\n",
    "\n",
    "    else:\n",
    "        print('sorted_seq is no longer empty, so Python is running this section')\n",
    "        \n",
    "        for index,sorteditem in enumerate(sorted_seq):\n",
    "            print(seqitem,'was compared to',sorteditem)\n",
    "            if seqitem < sorteditem:\n",
    "                \n",
    "                sorted_seq.insert(index,seqitem)\n",
    "                print('because',seqitem,'is smaller than',sorteditem,'it was moved before',sorteditem)\n",
    "                print('The sorted_seq now looks like this:',sorted_seq)\n",
    "                \n",
    "                seq.remove(seqitem)\n",
    "                print('The list seq now looks like this:',seq)\n",
    "                \n",
    "                break\n",
    "            \n",
    "\n",
    "            # If we reach the end of the loop that means we are dealing with\n",
    "            # a number higher than any value in the sorted sequence, \n",
    "            # so we move it to the last location\n",
    "            elif index == len(sorted_seq)-1:\n",
    "                \n",
    "                sorted_seq.append(seqitem)\n",
    "                print('because',seqitem,'is higher than all the numbers in sorted_seq, it was moved to the end of sorted_seq')\n",
    "                print('The sorted_seq now looks like this:',sorted_seq)\n",
    "                \n",
    "                seq.remove(seqitem)\n",
    "                print('The list seq now looks like this:',seq)\n",
    "\n",
    "                break\n",
    "            \n",
    "            print('because we have not reach the end of sorted_seq, and',seqitem,'is greater than',sorteditem,'we move on onto the next value in sorted_seq')\n",
    "                \n",
    "#print('The list seq now looks like this:',seq)\n",
    "print('Because there are no elements left in seq, the while loop is terminated.')\n",
    "print('The sorted sequence looks like this:',sorted_seq)\n"
   ]
  },
  {
   "cell_type": "markdown",
   "metadata": {},
   "source": [
    "To solve the problem I decided to use a `while` loop. This loop can be practical when we want to keep running a routine until a specific condition is satisfied. The only drawback of `while` loops is that during prototyping the condition might never be met, in which case the `while` loop will not stop and can freeze your notebook and even your computer. I suggest using the printing command to display some steps and see if the loop is working as expected. If your computer does not respond or the code is taking long time, then consider interrupting the Python kernel.\n",
    "\n",
    "## Additional thoughts and practice ideas\n",
    "\n",
    "* Can you modify the code to sort numbers in *descending* order?\n",
    "\n",
    "* What happens if we pass a list of non-unique integers? For instance: `[2, 3, 1, 5, 4, 1]`\n",
    "\n",
    "* What happens if the list has some missing integers? For instance: `[2, 1, 5, 4]`\n",
    "\n",
    "* What happens if the list has floating point numbers? For instance: `[2, 1.1, 5.1, 4, 3.2, 1]`\n",
    "\n",
    "* Can you convert the script into a function to sort any sequence of numbers?\n"
   ]
  }
 ],
 "metadata": {
  "kernelspec": {
   "display_name": "Python 3",
   "language": "python",
   "name": "python3"
  },
  "language_info": {
   "codemirror_mode": {
    "name": "ipython",
    "version": 3
   },
   "file_extension": ".py",
   "mimetype": "text/x-python",
   "name": "python",
   "nbconvert_exporter": "python",
   "pygments_lexer": "ipython3",
   "version": "3.7.6"
  }
 },
 "nbformat": 4,
 "nbformat_minor": 4
}
