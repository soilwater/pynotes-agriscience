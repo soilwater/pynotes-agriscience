{
 "cells": [
  {
   "cell_type": "markdown",
   "metadata": {},
   "source": [
    "# Time module\n",
    "\n",
    "The time module is widely used when we need simple time information or when we need to test the performance of some code."
   ]
  },
  {
   "cell_type": "code",
   "execution_count": 1,
   "metadata": {},
   "outputs": [],
   "source": [
    "import time"
   ]
  },
  {
   "cell_type": "markdown",
   "metadata": {},
   "source": [
    "An easy way to obtain the current and detailed information about the local time is by using the `localtime()` method."
   ]
  },
  {
   "cell_type": "code",
   "execution_count": 2,
   "metadata": {},
   "outputs": [
    {
     "name": "stdout",
     "output_type": "stream",
     "text": [
      "time.struct_time(tm_year=2020, tm_mon=1, tm_mday=30, tm_hour=10, tm_min=51, tm_sec=33, tm_wday=3, tm_yday=30, tm_isdst=0)\n"
     ]
    },
    {
     "data": {
      "text/plain": [
       "time.struct_time"
      ]
     },
     "execution_count": 2,
     "metadata": {},
     "output_type": "execute_result"
    }
   ],
   "source": [
    "clk = time.localtime()\n",
    "print(clk)\n",
    "type(clk)  # Type struct_time"
   ]
  },
  {
   "cell_type": "markdown",
   "metadata": {},
   "source": [
    "The returned object contains information about the year, hour, and even seconds. You can see the object attributes in the printed output. You can then use this information to retrieve the piece of information that you need for your application. Here are some examples, but you should explore other attributes by typing `clk.` and then the `Tab key`\n"
   ]
  },
  {
   "cell_type": "code",
   "execution_count": 3,
   "metadata": {},
   "outputs": [
    {
     "name": "stdout",
     "output_type": "stream",
     "text": [
      "2020\n",
      "10\n",
      "33\n"
     ]
    }
   ],
   "source": [
    "print(clk.tm_year)\n",
    "print(clk.tm_hour)\n",
    "print(clk.tm_sec)"
   ]
  },
  {
   "cell_type": "markdown",
   "metadata": {},
   "source": [
    "## Python is synchronous\n",
    "\n",
    "The Python interpreter executes one line at the time and will only proceed to the following line once the current line has finished. This means that if you have a line that takes time to execute, the entire code will be on hold. The up side of this behavior is that it makes code easy to write following a clear logical sequence. This may seem obvious, but not all programming languages behave this way.\n",
    "\n",
    "The time module can be used to demonstrate this important propererty of Python. Let's first print few lines in sequential order:"
   ]
  },
  {
   "cell_type": "code",
   "execution_count": 4,
   "metadata": {},
   "outputs": [
    {
     "name": "stdout",
     "output_type": "stream",
     "text": [
      "Executed step 1\n",
      "Executed step 2\n",
      "Executed step 3\n",
      "See, Python is synchronous!\n"
     ]
    }
   ],
   "source": [
    "print('Executed step 1')\n",
    "print('Executed step 2')\n",
    "print('Executed step 3')\n",
    "print('See, Python is synchronous!')"
   ]
  },
  {
   "cell_type": "markdown",
   "metadata": {},
   "source": [
    "Using the `sleep()` method we can introduce a pause (defined in seconds) between lines of code to mimic a time consuming computation."
   ]
  },
  {
   "cell_type": "code",
   "execution_count": 5,
   "metadata": {},
   "outputs": [
    {
     "name": "stdout",
     "output_type": "stream",
     "text": [
      "Executing step 1\n",
      "Executing step 2\n",
      "Executed step 3\n",
      "See, Python is synchronous!\n"
     ]
    }
   ],
   "source": [
    "# Applying a time delay. In this case, the time delay mimics a long computation\n",
    "print('Executing step 1')\n",
    "time.sleep(5)  # in seconds\n",
    "print('Executing step 2')\n",
    "time.sleep(3)  # in seconds\n",
    "print('Executed step 3')\n",
    "print('See, Python is synchronous!')"
   ]
  },
  {
   "cell_type": "markdown",
   "metadata": {},
   "source": [
    "As you can see the \"step 2\" and \"step 3\" commands did not execute right away. \n",
    "\n",
    ">In Python a single line can block the execution of the entire code. Note that when the Jupyter Lab is busy there is a light gray bracket next to the code cell that shows `[*]:`, When the interpreter finished the execution of the cell code you will see a number such as `[5]:`."
   ]
  },
  {
   "cell_type": "markdown",
   "metadata": {},
   "source": [
    "## Evaluate code performance\n",
    "\n",
    "Use the time module to check and document the performance of your script. While we can easily use the `localtime()` method, the module offers a more accurate method called `perf_counter()` that brings up the clock with the highest resolution.\n",
    "\n",
    "Note that unlike `localtime()`, where we stored time information into a variable, the reference point of the returned value by the `perf_counter()` method is undefined, so that only the difference between the results of consecutive calls is meaningful. Source: https://docs.python.org/3/library/time.html\n",
    "\n",
    "To mimic a clock (and the Matlab functions for timing code) I will assign the variable `tic` to store the initial time and the variable `toc` to store the final time."
   ]
  },
  {
   "cell_type": "code",
   "execution_count": 7,
   "metadata": {},
   "outputs": [
    {
     "name": "stdout",
     "output_type": "stream",
     "text": [
      "Temperature outside is 27.8 Celsius\n",
      "Elapsed time: 0.0004749069998979394\n"
     ]
    }
   ],
   "source": [
    "tic = time.perf_counter(); # Get initial time\n",
    "\n",
    "# Start code\n",
    "F = 82 # Temperature in [F]\n",
    "C = (F - 32) * 5/9\n",
    "print('Temperature outside is',round(C,1),'Celsius')\n",
    "# end code\n",
    "\n",
    "toc = time.perf_counter(); # Get final time\n",
    "\n",
    "print('Elapsed time:', toc - tic)"
   ]
  },
  {
   "cell_type": "markdown",
   "metadata": {},
   "source": [
    "## Format time strings\n",
    "\n",
    "Dates and time can be represented in a wide variety of formats across the world. There are also conventions to convert local time in one place to local time in a different location. To handle all these possibilities, the Python time module has a `strftime()` method to print the same information in multiple formats. The format largely depends on the application. For instance, if we are interested in a process that changes on daily time steps, then we can probably omit hours, minutes, seconds, and milliseconds from the output, so that it is legible and clear to the user or reader of that date. Below I present few examples to show you the basic syntax. Feel free to try any of the following formats.\n",
    "\n",
    "\n",
    "**%a**    Locale’s abbreviated weekday name\n",
    "\n",
    "**%d**    Day of the month as a decimal number [01,31]\n",
    "\n",
    "**%b**    Locale’s abbreviated month name\n",
    "\n",
    "**%Y**    Year with century as a decimal number\n",
    "\n",
    "**%H**    Hour (24-hour clock) as a decimal number [00,23]\n",
    "\n",
    "**%M**    Minute as a decimal number [00,59]\n",
    "\n",
    "**%S**    Second as a decimal number [00,61]\n",
    "\n"
   ]
  },
  {
   "cell_type": "code",
   "execution_count": 11,
   "metadata": {},
   "outputs": [
    {
     "data": {
      "text/plain": [
       "'Thu, 30 Jan 2020'"
      ]
     },
     "execution_count": 11,
     "metadata": {},
     "output_type": "execute_result"
    }
   ],
   "source": [
    "time.strftime(\"%a, %d %b %Y\", time.localtime())"
   ]
  },
  {
   "cell_type": "code",
   "execution_count": 8,
   "metadata": {},
   "outputs": [
    {
     "data": {
      "text/plain": [
       "'Thu, 30 Jan 2020 16:58:06 +0000'"
      ]
     },
     "execution_count": 8,
     "metadata": {},
     "output_type": "execute_result"
    }
   ],
   "source": [
    "# UTC (Coordinated Universal Time) or GMT (Greenwich Meridian Time)\n",
    "time.strftime(\"%a, %d %b %Y %H:%M:%S +0000\", time.gmtime())"
   ]
  },
  {
   "cell_type": "code",
   "execution_count": 9,
   "metadata": {},
   "outputs": [
    {
     "data": {
      "text/plain": [
       "'Thu, 30 Jan 2020 10:58:07 +0000'"
      ]
     },
     "execution_count": 9,
     "metadata": {},
     "output_type": "execute_result"
    }
   ],
   "source": [
    "# Formatted local time\n",
    "time.strftime(\"%a, %d %b %Y %H:%M:%S +0000\", time.localtime())"
   ]
  },
  {
   "cell_type": "markdown",
   "metadata": {},
   "source": [
    "## References\n",
    "\n",
    "Official Python docs for the time module: <https://docs.python.org/3/library/time.html>\n"
   ]
  }
 ],
 "metadata": {
  "kernelspec": {
   "display_name": "Python 3",
   "language": "python",
   "name": "python3"
  },
  "language_info": {
   "codemirror_mode": {
    "name": "ipython",
    "version": 3
   },
   "file_extension": ".py",
   "mimetype": "text/x-python",
   "name": "python",
   "nbconvert_exporter": "python",
   "pygments_lexer": "ipython3",
   "version": "3.7.0"
  }
 },
 "nbformat": 4,
 "nbformat_minor": 4
}
