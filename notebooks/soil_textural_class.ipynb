{
 "cells": [
  {
   "cell_type": "markdown",
   "metadata": {},
   "source": [
    "# Soil texture\n",
    "\n",
    "A simple code to automate the determination of the soil textural class based on the percent of sand and clay according to the US Department of Agriculture Natural Resources Conservation Service (NRCS). There are a total of 12 soil textural classes and this classification is typically done by hand using the textural triangle:\n",
    "\n",
    "<img src=\"https://www.nrcs.usda.gov/Internet/FSE_MEDIA/nrcs142p2_050619.jpg\"/>"
   ]
  },
  {
   "cell_type": "code",
   "execution_count": 2,
   "metadata": {},
   "outputs": [],
   "source": [
    "def soiltexturalclass(sand,clay):\n",
    "    \"\"\"Function that returns the USDA \n",
    "    soil textural class given \n",
    "    the percent sand and clay.\n",
    "    \n",
    "    Inputs = Percetnage of sand and clay\n",
    "    \"\"\"\n",
    "    \n",
    "    silt = 100 - sand - clay\n",
    "    \n",
    "    if sand + clay > 100 or sand < 0 or clay < 0:\n",
    "        raise Exception('Inputs adds over 100% or are negative')\n",
    "\n",
    "    elif silt + 1.5*clay < 15:\n",
    "        textural_class = 'sand'\n",
    "\n",
    "    elif silt + 1.5*clay >= 15 and silt + 2*clay < 30:\n",
    "        textural_class = 'loamy sand'\n",
    "\n",
    "    elif (clay >= 7 and clay < 20 and sand > 52 and silt + 2*clay >= 30) or (clay < 7 and silt < 50 and silt + 2*clay >= 30):\n",
    "        textural_class = 'sandy loam'\n",
    "\n",
    "    elif clay >= 7 and clay < 27 and silt >= 28 and silt < 50 and sand <= 52:\n",
    "        textural_class = 'loam'\n",
    "\n",
    "    elif (silt >= 50 and clay >= 12 and clay < 27) or (silt >= 50 and silt < 80 and clay < 12):\n",
    "        textural_class = 'silt loam'\n",
    "\n",
    "    elif silt >= 80 and clay < 12:\n",
    "        textural_class = 'silt'\n",
    "\n",
    "    elif clay >= 20 and clay < 35 and silt < 28 and sand > 45:\n",
    "        textural_class = 'sandy clay loam'\n",
    "\n",
    "    elif clay >= 27 and clay < 40 and sand > 20 and sand <= 45:\n",
    "        textural_class = 'clay loam'\n",
    "\n",
    "    elif clay >= 27 and clay < 40 and sand <= 20:\n",
    "        textural_class = 'silty clay loam'\n",
    "\n",
    "    elif clay >= 35 and sand > 45:\n",
    "        textural_class = 'sandy clay'\n",
    "\n",
    "    elif clay >= 40 and silt >= 40:\n",
    "        textural_class = 'silty clay'\n",
    "\n",
    "    elif clay >= 40 and sand <= 45 and silt < 40:\n",
    "        textural_class = 'clay'\n",
    "\n",
    "    else:\n",
    "        textural_class = 'na'\n",
    "\n",
    "    return textural_class\n"
   ]
  },
  {
   "cell_type": "code",
   "execution_count": 3,
   "metadata": {},
   "outputs": [
    {
     "data": {
      "text/plain": [
       "'clay'"
      ]
     },
     "execution_count": 3,
     "metadata": {},
     "output_type": "execute_result"
    }
   ],
   "source": [
    "# Calculate soil texture for an example soil\n",
    "sand = 10\n",
    "clay = 90\n",
    "soiltexturalclass(sand,clay)"
   ]
  },
  {
   "cell_type": "markdown",
   "metadata": {},
   "source": [
    "## References\n",
    "\n",
    "- E. Benham and R.J. Ahrens, W.D. 2009. Clarification of Soil Texture Class Boundaries. Nettleton National Soil Survey Center, USDA-NRCS, Lincoln, Nebraska."
   ]
  }
 ],
 "metadata": {
  "kernelspec": {
   "display_name": "Python 3",
   "language": "python",
   "name": "python3"
  },
  "language_info": {
   "codemirror_mode": {
    "name": "ipython",
    "version": 3
   },
   "file_extension": ".py",
   "mimetype": "text/x-python",
   "name": "python",
   "nbconvert_exporter": "python",
   "pygments_lexer": "ipython3",
   "version": "3.7.6"
  }
 },
 "nbformat": 4,
 "nbformat_minor": 4
}
