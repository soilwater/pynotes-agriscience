{
 "cells": [
  {
   "cell_type": "markdown",
   "metadata": {},
   "source": [
    "# Importing modules\n",
    "\n",
    "One of the most basic operations in Python is importing modules. Modules (a.k.a packages, toolboxes) contain python code that we can load to add extra functionality to our program. Of course, this means that somehow we need to learn which are the available modules that we can import. This is something that you can learn in a coding class, looking at the Python documentation, or by simply searching on the web.\n",
    "\n",
    "This chapter focuses on simple and frequently used core Python modules. More extensive and powerful modules such as `numpy` and `pandas` have an entire chapter dedicated to it.\n",
    "\n",
    "## Importing module syntax\n",
    "There are multiple ways of importing Python modules depending on whether you want to import the entire module, assign a shorter alias, or import a specific sub-module.\n",
    "\n",
    "**Option 1**<br/>\n",
    "Syntax:  `import <module>`<br/>\n",
    "Example: `import math` <br/>\n",
    "Commonly used when the name of the module is already short\n",
    "\n",
    "**Option 2**<br/>\n",
    "Syntax:  `import <module> as <alias>` <br/>\n",
    "Example: `import numpy as np`<br/>\n",
    "Commonly used with modules that are used extensively and that may be called multiple times within a single line of code.\n",
    "\n",
    "**Option 3**<br/>\n",
    "Syntax:  `import <module>.<submodule> as <alias>`<br/>\n",
    "Example: `import matplotlib.pyplot as plt`\n",
    "\n",
    "**Option 4**<br/>\n",
    "Syntax:  `from <module> import <submodule> as <alias>`<br/>\n",
    "Example: `from numpy import random as rand` "
   ]
  },
  {
   "cell_type": "markdown",
   "metadata": {},
   "source": [
    "## System module\n",
    "The system, \"sys\", module has multiple functions (also known as methods) that allow us to obtain information about the python interpreter. Modules are imported once, usually at the the top of the code or notebook. For instance, we can check our python version as follows:"
   ]
  },
  {
   "cell_type": "code",
   "execution_count": 4,
   "metadata": {},
   "outputs": [
    {
     "name": "stdout",
     "output_type": "stream",
     "text": [
      "3.7.0 (default, Jun 28 2018, 07:39:16) \n",
      "[Clang 4.0.1 (tags/RELEASE_401/final)]\n"
     ]
    }
   ],
   "source": [
    "import sys\n",
    "print(sys.version) # Useful to check your python version"
   ]
  }
 ],
 "metadata": {
  "kernelspec": {
   "display_name": "Python 3",
   "language": "python",
   "name": "python3"
  },
  "language_info": {
   "codemirror_mode": {
    "name": "ipython",
    "version": 3
   },
   "file_extension": ".py",
   "mimetype": "text/x-python",
   "name": "python",
   "nbconvert_exporter": "python",
   "pygments_lexer": "ipython3",
   "version": "3.7.0"
  }
 },
 "nbformat": 4,
 "nbformat_minor": 4
}
