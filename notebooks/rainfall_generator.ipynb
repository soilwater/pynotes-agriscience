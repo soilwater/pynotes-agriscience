{
 "cells": [
  {
   "cell_type": "markdown",
   "metadata": {},
   "source": [
    "# Rainfall Generator\n",
    "\n",
    "Weather data is ubiquitous and important for most daily activities. In agriculture, weather plays a preponderant role since it dictates the growth and eventual crop yield (fiber, biomass, or grain).\n",
    "\n",
    "Air temperature and precipitation are by far the most commonly monitored variables, followed by relative humidity, wind speed and direccion, solar radiation, soil temperature, and soil moisture.\n",
    "\n",
    "We will create a weather generator to generate daily minimum and maximum air temperature and precipitation scenarios. To understand the process we will examine long-term data for a specific location. Based on the trends we will build the weather generator.\n",
    "\n",
    "> This weather generator is for teaching purposes only and lacks the statistical rigor of research tools. The exercise is only intended as a primer for students learning how to creating simple scripts using random modules. For more advanced tools, please visit the references section.\n"
   ]
  },
  {
   "cell_type": "code",
   "execution_count": 177,
   "metadata": {},
   "outputs": [],
   "source": [
    "# Import modules\n",
    "import pandas as pd\n",
    "import numpy as np\n",
    "import matplotlib.pyplot as plt\n",
    "\n",
    "from scipy.stats import gamma\n",
    "from scipy.optimize import curve_fit\n"
   ]
  },
  {
   "cell_type": "code",
   "execution_count": 178,
   "metadata": {},
   "outputs": [
    {
     "data": {
      "text/html": [
       "<div>\n",
       "<style scoped>\n",
       "    .dataframe tbody tr th:only-of-type {\n",
       "        vertical-align: middle;\n",
       "    }\n",
       "\n",
       "    .dataframe tbody tr th {\n",
       "        vertical-align: top;\n",
       "    }\n",
       "\n",
       "    .dataframe thead th {\n",
       "        text-align: right;\n",
       "    }\n",
       "</style>\n",
       "<table border=\"1\" class=\"dataframe\">\n",
       "  <thead>\n",
       "    <tr style=\"text-align: right;\">\n",
       "      <th></th>\n",
       "      <th>WBANNO</th>\n",
       "      <th>LST_DATE</th>\n",
       "      <th>CRX_VN</th>\n",
       "      <th>LONGITUDE</th>\n",
       "      <th>LATITUDE</th>\n",
       "      <th>T_DAILY_MAX</th>\n",
       "      <th>T_DAILY_MIN</th>\n",
       "      <th>T_DAILY_MEAN</th>\n",
       "      <th>T_DAILY_AVG</th>\n",
       "      <th>P_DAILY_CALC</th>\n",
       "      <th>...</th>\n",
       "      <th>SOIL_MOISTURE_5_DAILY</th>\n",
       "      <th>SOIL_MOISTURE_10_DAILY</th>\n",
       "      <th>SOIL_MOISTURE_20_DAILY</th>\n",
       "      <th>SOIL_MOISTURE_50_DAILY</th>\n",
       "      <th>SOIL_MOISTURE_100_DAILY</th>\n",
       "      <th>SOIL_TEMP_5_DAILY</th>\n",
       "      <th>SOIL_TEMP_10_DAILY</th>\n",
       "      <th>SOIL_TEMP_20_DAILY</th>\n",
       "      <th>SOIL_TEMP_50_DAILY</th>\n",
       "      <th>SOIL_TEMP_100_DAILY</th>\n",
       "    </tr>\n",
       "  </thead>\n",
       "  <tbody>\n",
       "    <tr>\n",
       "      <th>0</th>\n",
       "      <td>53974</td>\n",
       "      <td>20031001</td>\n",
       "      <td>1.201</td>\n",
       "      <td>-96.61</td>\n",
       "      <td>39.1</td>\n",
       "      <td>-9999.0</td>\n",
       "      <td>-9999.0</td>\n",
       "      <td>-9999.0</td>\n",
       "      <td>-9999.0</td>\n",
       "      <td>-9999.0</td>\n",
       "      <td>...</td>\n",
       "      <td>-99.0</td>\n",
       "      <td>-99.0</td>\n",
       "      <td>-99.0</td>\n",
       "      <td>-99</td>\n",
       "      <td>-99</td>\n",
       "      <td>-9999.0</td>\n",
       "      <td>-9999.0</td>\n",
       "      <td>-9999.0</td>\n",
       "      <td>-9999.0</td>\n",
       "      <td>-9999.0</td>\n",
       "    </tr>\n",
       "    <tr>\n",
       "      <th>1</th>\n",
       "      <td>53974</td>\n",
       "      <td>20031002</td>\n",
       "      <td>1.201</td>\n",
       "      <td>-96.61</td>\n",
       "      <td>39.1</td>\n",
       "      <td>18.9</td>\n",
       "      <td>2.5</td>\n",
       "      <td>10.7</td>\n",
       "      <td>11.7</td>\n",
       "      <td>0.0</td>\n",
       "      <td>...</td>\n",
       "      <td>-99.0</td>\n",
       "      <td>-99.0</td>\n",
       "      <td>-99.0</td>\n",
       "      <td>-99</td>\n",
       "      <td>-99</td>\n",
       "      <td>-9999.0</td>\n",
       "      <td>-9999.0</td>\n",
       "      <td>-9999.0</td>\n",
       "      <td>-9999.0</td>\n",
       "      <td>-9999.0</td>\n",
       "    </tr>\n",
       "    <tr>\n",
       "      <th>2</th>\n",
       "      <td>53974</td>\n",
       "      <td>20031003</td>\n",
       "      <td>1.201</td>\n",
       "      <td>-96.61</td>\n",
       "      <td>39.1</td>\n",
       "      <td>22.6</td>\n",
       "      <td>8.1</td>\n",
       "      <td>15.4</td>\n",
       "      <td>14.8</td>\n",
       "      <td>0.0</td>\n",
       "      <td>...</td>\n",
       "      <td>-99.0</td>\n",
       "      <td>-99.0</td>\n",
       "      <td>-99.0</td>\n",
       "      <td>-99</td>\n",
       "      <td>-99</td>\n",
       "      <td>-9999.0</td>\n",
       "      <td>-9999.0</td>\n",
       "      <td>-9999.0</td>\n",
       "      <td>-9999.0</td>\n",
       "      <td>-9999.0</td>\n",
       "    </tr>\n",
       "    <tr>\n",
       "      <th>3</th>\n",
       "      <td>53974</td>\n",
       "      <td>20031004</td>\n",
       "      <td>1.201</td>\n",
       "      <td>-96.61</td>\n",
       "      <td>39.1</td>\n",
       "      <td>22.6</td>\n",
       "      <td>3.8</td>\n",
       "      <td>13.2</td>\n",
       "      <td>14.0</td>\n",
       "      <td>0.0</td>\n",
       "      <td>...</td>\n",
       "      <td>-99.0</td>\n",
       "      <td>-99.0</td>\n",
       "      <td>-99.0</td>\n",
       "      <td>-99</td>\n",
       "      <td>-99</td>\n",
       "      <td>-9999.0</td>\n",
       "      <td>-9999.0</td>\n",
       "      <td>-9999.0</td>\n",
       "      <td>-9999.0</td>\n",
       "      <td>-9999.0</td>\n",
       "    </tr>\n",
       "    <tr>\n",
       "      <th>4</th>\n",
       "      <td>53974</td>\n",
       "      <td>20031005</td>\n",
       "      <td>1.201</td>\n",
       "      <td>-96.61</td>\n",
       "      <td>39.1</td>\n",
       "      <td>25.0</td>\n",
       "      <td>10.6</td>\n",
       "      <td>17.8</td>\n",
       "      <td>17.3</td>\n",
       "      <td>0.0</td>\n",
       "      <td>...</td>\n",
       "      <td>-99.0</td>\n",
       "      <td>-99.0</td>\n",
       "      <td>-99.0</td>\n",
       "      <td>-99</td>\n",
       "      <td>-99</td>\n",
       "      <td>-9999.0</td>\n",
       "      <td>-9999.0</td>\n",
       "      <td>-9999.0</td>\n",
       "      <td>-9999.0</td>\n",
       "      <td>-9999.0</td>\n",
       "    </tr>\n",
       "  </tbody>\n",
       "</table>\n",
       "<p>5 rows × 28 columns</p>\n",
       "</div>"
      ],
      "text/plain": [
       "   WBANNO  LST_DATE  CRX_VN  LONGITUDE  LATITUDE  T_DAILY_MAX  T_DAILY_MIN  \\\n",
       "0   53974  20031001   1.201     -96.61      39.1      -9999.0      -9999.0   \n",
       "1   53974  20031002   1.201     -96.61      39.1         18.9          2.5   \n",
       "2   53974  20031003   1.201     -96.61      39.1         22.6          8.1   \n",
       "3   53974  20031004   1.201     -96.61      39.1         22.6          3.8   \n",
       "4   53974  20031005   1.201     -96.61      39.1         25.0         10.6   \n",
       "\n",
       "   T_DAILY_MEAN  T_DAILY_AVG  P_DAILY_CALC  ...  SOIL_MOISTURE_5_DAILY  \\\n",
       "0       -9999.0      -9999.0       -9999.0  ...                  -99.0   \n",
       "1          10.7         11.7           0.0  ...                  -99.0   \n",
       "2          15.4         14.8           0.0  ...                  -99.0   \n",
       "3          13.2         14.0           0.0  ...                  -99.0   \n",
       "4          17.8         17.3           0.0  ...                  -99.0   \n",
       "\n",
       "  SOIL_MOISTURE_10_DAILY  SOIL_MOISTURE_20_DAILY  SOIL_MOISTURE_50_DAILY  \\\n",
       "0                  -99.0                   -99.0                     -99   \n",
       "1                  -99.0                   -99.0                     -99   \n",
       "2                  -99.0                   -99.0                     -99   \n",
       "3                  -99.0                   -99.0                     -99   \n",
       "4                  -99.0                   -99.0                     -99   \n",
       "\n",
       "   SOIL_MOISTURE_100_DAILY  SOIL_TEMP_5_DAILY  SOIL_TEMP_10_DAILY  \\\n",
       "0                      -99            -9999.0             -9999.0   \n",
       "1                      -99            -9999.0             -9999.0   \n",
       "2                      -99            -9999.0             -9999.0   \n",
       "3                      -99            -9999.0             -9999.0   \n",
       "4                      -99            -9999.0             -9999.0   \n",
       "\n",
       "   SOIL_TEMP_20_DAILY  SOIL_TEMP_50_DAILY  SOIL_TEMP_100_DAILY  \n",
       "0             -9999.0             -9999.0              -9999.0  \n",
       "1             -9999.0             -9999.0              -9999.0  \n",
       "2             -9999.0             -9999.0              -9999.0  \n",
       "3             -9999.0             -9999.0              -9999.0  \n",
       "4             -9999.0             -9999.0              -9999.0  \n",
       "\n",
       "[5 rows x 28 columns]"
      ]
     },
     "execution_count": 178,
     "metadata": {},
     "output_type": "execute_result"
    }
   ],
   "source": [
    "# Load sample data\n",
    "df = pd.read_csv(\"../datasets/KS_Manhattan_6_SSW.csv\")\n",
    "df.head()\n"
   ]
  },
  {
   "cell_type": "code",
   "execution_count": 179,
   "metadata": {},
   "outputs": [
    {
     "data": {
      "text/plain": [
       "0   2003-10-01\n",
       "1   2003-10-02\n",
       "2   2003-10-03\n",
       "3   2003-10-04\n",
       "4   2003-10-05\n",
       "Name: LST_DATE, dtype: datetime64[ns]"
      ]
     },
     "execution_count": 179,
     "metadata": {},
     "output_type": "execute_result"
    }
   ],
   "source": [
    "# Convert date string to pandas datetime format\n",
    "df[\"LST_DATE\"] = pd.to_datetime(df[\"LST_DATE\"], format=\"%Y%m%d\")\n",
    "df[\"LST_DATE\"].head() # CHeck our conversion.\n"
   ]
  },
  {
   "cell_type": "code",
   "execution_count": 180,
   "metadata": {},
   "outputs": [],
   "source": [
    "# Convert missing values represented as -9999 to NaN\n",
    "df[df == -9999] = np.nan\n"
   ]
  },
  {
   "cell_type": "code",
   "execution_count": 181,
   "metadata": {},
   "outputs": [],
   "source": [
    "# Add year, month, and day of the year to summarize data in future steps.\n",
    "df[\"YEAR\"] = df[\"LST_DATE\"].dt.year\n",
    "df[\"MONTH\"] = df[\"LST_DATE\"].dt.month\n",
    "df[\"DOY\"] = df[\"LST_DATE\"].dt.dayofyear\n"
   ]
  },
  {
   "cell_type": "code",
   "execution_count": 152,
   "metadata": {},
   "outputs": [
    {
     "data": {
      "image/png": "[encoded data removed]",
      "text/plain": [
       "<Figure size 576x432 with 1 Axes>"
      ]
     },
     "metadata": {
      "needs_background": "light"
     },
     "output_type": "display_data"
    }
   ],
   "source": [
    "# Observe trends in precipitation data (2004 to 2016)\n",
    "plt.figure(figsize=(8,6))\n",
    "plt.xlim(0,400)\n",
    "for year in range(2004,2017):\n",
    "    idx_year = df[\"YEAR\"] == year\n",
    "    cdf = df[\"P_DAILY_CALC\"][idx_year].cumsum()\n",
    "    plt.plot(range(1,len(cdf)+1),cdf)\n",
    "    #plt.annotate(str(year), xy=(370,cdf.values[-1]))\n",
    "    "
   ]
  },
  {
   "cell_type": "code",
   "execution_count": 173,
   "metadata": {},
   "outputs": [
    {
     "data": {
      "image/png": "[encoded data removed]",
      "text/plain": [
       "<Figure size 576x432 with 1 Axes>"
      ]
     },
     "metadata": {
      "needs_background": "light"
     },
     "output_type": "display_data"
    }
   ],
   "source": [
    "# Observe histograms of precipitation\n",
    "\n",
    "plt.figure(figsize=(8,6))\n",
    "for year in range(2004,2017):\n",
    "    idx_year = df[\"YEAR\"] == year\n",
    "    rainfall_year = df[\"P_DAILY_CALC\"][idx_year]\n",
    "    rainfall_year = rainfall_year[rainfall_year > 1]\n",
    "    plt.hist(rainfall_year, bins=25)\n"
   ]
  },
  {
   "cell_type": "markdown",
   "metadata": {},
   "source": [
    "## Modeling rainfall as a Markov chain. \n",
    "\n",
    "This type of rainfall generators is kwnon as the Richardson-type (Richardson and Wright, 1984). The model computes the rainfall at time *t* as a function of time *t-1* in three steps. \n",
    "\n",
    "To be consistent with the original manuscript by Richardson and Wright, 1984 we will use the term \"wet\" for a day with measurable rainfall and \"dry\" for a day without measurable rainfall.\n",
    "\n",
    "**Step 1**: Find if the previous (i.e. *t-1*) day was dry (no measurable rainfall) or wet (some measurable rainfall)\n",
    "\n",
    "**Step 2**: Then compute the probability of having a rainfall event on day *t* given the condition on the previous day. So, here we need to have two different probability values, one that we will use if yesterday was dry, and another if yesterday was wet. \n",
    "\n",
    "- What is the probability of having a wet day if yesterday was dry? (i.e. P(W/D) )\n",
    "\n",
    "- What is the probability of having a wet day if yesterday was wet? (i.e. P(W/W) )\n",
    "\n",
    "As you can see if we only use two values and we are generating rainfall for a long period, then may not accurately simulate seasonal rainfall trends. TO solve this some models use Wet-Dry and Wet-Wet on a monthly basis. In this step we generate a yes/no answer. We will deal with the amount in the next step. \n",
    "\n",
    "**Step 3**: If as a consequence of the random process we obtain that on day *t* there is a rainfall event, then we have to compute the amount. To do this we will use a gamma distribution, which is suited to heavily skewed distributions, such as those resulting from histograms of daily rainfall. Again, here we probably want to have some parameters that describe this distribution at least on a monthly basis to capture the seasonal effects on rainfall amounts.\n",
    "\n",
    "\n",
    "We will first run an example using the loaded dataset to learn how to compute the Wet-Dry and Wet-Wet probabilities for the entire year. It's important that we first learn how to compute the simplest step before moving into a more detailed characterization of the rainfall process on a monthly basis.\n"
   ]
  },
  {
   "cell_type": "code",
   "execution_count": 182,
   "metadata": {},
   "outputs": [
    {
     "name": "stdout",
     "output_type": "stream",
     "text": [
      "0.4166666666666667\n",
      "0.20590604026845638\n"
     ]
    }
   ],
   "source": [
    "# Rainfall probability Wet-Dry and Wet-Wet\n",
    "WW = []\n",
    "WD = []\n",
    "month_WW = []\n",
    "month_WD = []\n",
    "\n",
    "# Extract variables from DataFrame to sherten variable names\n",
    "months = df[\"MONTH\"]\n",
    "rainfall = df[\"P_DAILY_CALC\"]\n",
    "\n",
    "for i in range(1,df.shape[0]):\n",
    "    if rainfall[i-1] > 0:\n",
    "        \n",
    "        # Get current month\n",
    "        month_WW.append(months[i])\n",
    "        \n",
    "        if rainfall[i] > 0:\n",
    "            WW.append(1)\n",
    "        else:\n",
    "            WW.append(0)\n",
    "    \n",
    "    elif rainfall[i-1] == 0:\n",
    "        \n",
    "        month_WD.append(months[i])\n",
    "        if rainfall[i] > 0:\n",
    "            WD.append(1)\n",
    "        else:\n",
    "            WD.append(0)\n",
    "\n",
    "print(sum(WW)/len(WW))\n",
    "print(sum(WD)/len(WD))\n"
   ]
  },
  {
   "cell_type": "code",
   "execution_count": 183,
   "metadata": {},
   "outputs": [
    {
     "data": {
      "text/html": [
       "<div>\n",
       "<style scoped>\n",
       "    .dataframe tbody tr th:only-of-type {\n",
       "        vertical-align: middle;\n",
       "    }\n",
       "\n",
       "    .dataframe tbody tr th {\n",
       "        vertical-align: top;\n",
       "    }\n",
       "\n",
       "    .dataframe thead th {\n",
       "        text-align: right;\n",
       "    }\n",
       "</style>\n",
       "<table border=\"1\" class=\"dataframe\">\n",
       "  <thead>\n",
       "    <tr style=\"text-align: right;\">\n",
       "      <th></th>\n",
       "      <th>month</th>\n",
       "      <th>WW</th>\n",
       "    </tr>\n",
       "  </thead>\n",
       "  <tbody>\n",
       "    <tr>\n",
       "      <th>1315</th>\n",
       "      <td>9</td>\n",
       "      <td>0</td>\n",
       "    </tr>\n",
       "    <tr>\n",
       "      <th>1316</th>\n",
       "      <td>9</td>\n",
       "      <td>0</td>\n",
       "    </tr>\n",
       "    <tr>\n",
       "      <th>1317</th>\n",
       "      <td>9</td>\n",
       "      <td>1</td>\n",
       "    </tr>\n",
       "    <tr>\n",
       "      <th>1318</th>\n",
       "      <td>9</td>\n",
       "      <td>0</td>\n",
       "    </tr>\n",
       "    <tr>\n",
       "      <th>1319</th>\n",
       "      <td>10</td>\n",
       "      <td>1</td>\n",
       "    </tr>\n",
       "  </tbody>\n",
       "</table>\n",
       "</div>"
      ],
      "text/plain": [
       "      month  WW\n",
       "1315      9   0\n",
       "1316      9   0\n",
       "1317      9   1\n",
       "1318      9   0\n",
       "1319     10   1"
      ]
     },
     "execution_count": 183,
     "metadata": {},
     "output_type": "execute_result"
    }
   ],
   "source": [
    "# Wet/Wet\n",
    "df_WW = pd.DataFrame([month_WW,WW]).T\n",
    "df_WW.columns = [\"month\",\"WW\"]\n",
    "df_WW.tail(5)\n"
   ]
  },
  {
   "cell_type": "code",
   "execution_count": 184,
   "metadata": {},
   "outputs": [
    {
     "data": {
      "text/html": [
       "<div>\n",
       "<style scoped>\n",
       "    .dataframe tbody tr th:only-of-type {\n",
       "        vertical-align: middle;\n",
       "    }\n",
       "\n",
       "    .dataframe tbody tr th {\n",
       "        vertical-align: top;\n",
       "    }\n",
       "\n",
       "    .dataframe thead th {\n",
       "        text-align: right;\n",
       "    }\n",
       "</style>\n",
       "<table border=\"1\" class=\"dataframe\">\n",
       "  <thead>\n",
       "    <tr style=\"text-align: right;\">\n",
       "      <th></th>\n",
       "      <th>month</th>\n",
       "      <th>WD</th>\n",
       "    </tr>\n",
       "  </thead>\n",
       "  <tbody>\n",
       "    <tr>\n",
       "      <th>3720</th>\n",
       "      <td>9</td>\n",
       "      <td>0</td>\n",
       "    </tr>\n",
       "    <tr>\n",
       "      <th>3721</th>\n",
       "      <td>9</td>\n",
       "      <td>0</td>\n",
       "    </tr>\n",
       "    <tr>\n",
       "      <th>3722</th>\n",
       "      <td>10</td>\n",
       "      <td>0</td>\n",
       "    </tr>\n",
       "    <tr>\n",
       "      <th>3723</th>\n",
       "      <td>10</td>\n",
       "      <td>0</td>\n",
       "    </tr>\n",
       "    <tr>\n",
       "      <th>3724</th>\n",
       "      <td>10</td>\n",
       "      <td>1</td>\n",
       "    </tr>\n",
       "  </tbody>\n",
       "</table>\n",
       "</div>"
      ],
      "text/plain": [
       "      month  WD\n",
       "3720      9   0\n",
       "3721      9   0\n",
       "3722     10   0\n",
       "3723     10   0\n",
       "3724     10   1"
      ]
     },
     "execution_count": 184,
     "metadata": {},
     "output_type": "execute_result"
    }
   ],
   "source": [
    "# Wet/Dry\n",
    "df_WD = pd.DataFrame([month_WD, WD]).T\n",
    "df_WD.columns = [\"month\",\"WD\"]\n",
    "df_WD.tail(5)\n"
   ]
  },
  {
   "cell_type": "markdown",
   "metadata": {},
   "source": [
    "## Daily rainfall probability per month"
   ]
  },
  {
   "cell_type": "code",
   "execution_count": 185,
   "metadata": {},
   "outputs": [],
   "source": [
    "# Compute monthly probabilities per month\n",
    "monthly_WW = df_WW.groupby(\"month\").sum()/df_WW.groupby(\"month\").count()\n",
    "monthly_WD = df_WD.groupby(\"month\").sum()/df_WD.groupby(\"month\").count()\n"
   ]
  },
  {
   "cell_type": "code",
   "execution_count": 186,
   "metadata": {},
   "outputs": [
    {
     "data": {
      "text/html": [
       "<div>\n",
       "<style scoped>\n",
       "    .dataframe tbody tr th:only-of-type {\n",
       "        vertical-align: middle;\n",
       "    }\n",
       "\n",
       "    .dataframe tbody tr th {\n",
       "        vertical-align: top;\n",
       "    }\n",
       "\n",
       "    .dataframe thead th {\n",
       "        text-align: right;\n",
       "    }\n",
       "</style>\n",
       "<table border=\"1\" class=\"dataframe\">\n",
       "  <thead>\n",
       "    <tr style=\"text-align: right;\">\n",
       "      <th></th>\n",
       "      <th>WW</th>\n",
       "      <th>WD</th>\n",
       "    </tr>\n",
       "    <tr>\n",
       "      <th>month</th>\n",
       "      <th></th>\n",
       "      <th></th>\n",
       "    </tr>\n",
       "  </thead>\n",
       "  <tbody>\n",
       "    <tr>\n",
       "      <th>1</th>\n",
       "      <td>0.338028</td>\n",
       "      <td>0.141176</td>\n",
       "    </tr>\n",
       "    <tr>\n",
       "      <th>2</th>\n",
       "      <td>0.320513</td>\n",
       "      <td>0.161184</td>\n",
       "    </tr>\n",
       "    <tr>\n",
       "      <th>3</th>\n",
       "      <td>0.401709</td>\n",
       "      <td>0.219048</td>\n",
       "    </tr>\n",
       "    <tr>\n",
       "      <th>4</th>\n",
       "      <td>0.503448</td>\n",
       "      <td>0.273063</td>\n",
       "    </tr>\n",
       "    <tr>\n",
       "      <th>5</th>\n",
       "      <td>0.480769</td>\n",
       "      <td>0.290909</td>\n",
       "    </tr>\n",
       "    <tr>\n",
       "      <th>6</th>\n",
       "      <td>0.442953</td>\n",
       "      <td>0.293680</td>\n",
       "    </tr>\n",
       "    <tr>\n",
       "      <th>7</th>\n",
       "      <td>0.415254</td>\n",
       "      <td>0.228571</td>\n",
       "    </tr>\n",
       "    <tr>\n",
       "      <th>8</th>\n",
       "      <td>0.412214</td>\n",
       "      <td>0.245847</td>\n",
       "    </tr>\n",
       "    <tr>\n",
       "      <th>9</th>\n",
       "      <td>0.362745</td>\n",
       "      <td>0.201258</td>\n",
       "    </tr>\n",
       "    <tr>\n",
       "      <th>10</th>\n",
       "      <td>0.409524</td>\n",
       "      <td>0.193353</td>\n",
       "    </tr>\n",
       "    <tr>\n",
       "      <th>11</th>\n",
       "      <td>0.388889</td>\n",
       "      <td>0.129794</td>\n",
       "    </tr>\n",
       "    <tr>\n",
       "      <th>12</th>\n",
       "      <td>0.381579</td>\n",
       "      <td>0.144092</td>\n",
       "    </tr>\n",
       "  </tbody>\n",
       "</table>\n",
       "</div>"
      ],
      "text/plain": [
       "             WW        WD\n",
       "month                    \n",
       "1      0.338028  0.141176\n",
       "2      0.320513  0.161184\n",
       "3      0.401709  0.219048\n",
       "4      0.503448  0.273063\n",
       "5      0.480769  0.290909\n",
       "6      0.442953  0.293680\n",
       "7      0.415254  0.228571\n",
       "8      0.412214  0.245847\n",
       "9      0.362745  0.201258\n",
       "10     0.409524  0.193353\n",
       "11     0.388889  0.129794\n",
       "12     0.381579  0.144092"
      ]
     },
     "execution_count": 186,
     "metadata": {},
     "output_type": "execute_result"
    }
   ],
   "source": [
    "# Create table of parameters\n",
    "coeff = pd.concat([monthly_WW, monthly_WD], axis=1)\n",
    "coeff\n"
   ]
  },
  {
   "cell_type": "markdown",
   "metadata": {},
   "source": [
    "## Daily rainfall amount probability"
   ]
  },
  {
   "cell_type": "code",
   "execution_count": 187,
   "metadata": {},
   "outputs": [],
   "source": [
    "# Fit gamma distribution to each month\n",
    "monthly_shape = []\n",
    "monthly_scale = []\n",
    "unique_months = list(range(1,13))\n",
    "for m in unique_months:\n",
    "    idx_month = df[\"MONTH\"] == m\n",
    "    x = df[\"P_DAILY_CALC\"].loc[idx_month]\n",
    "    x = x[~np.isnan(x)]\n",
    "    x = x[x>0]\n",
    "    shape, loc, scale = gamma.fit(x, floc=0)\n",
    "    monthly_shape.append(shape)\n",
    "    monthly_scale.append(scale)\n"
   ]
  },
  {
   "cell_type": "code",
   "execution_count": 188,
   "metadata": {},
   "outputs": [
    {
     "data": {
      "text/html": [
       "<div>\n",
       "<style scoped>\n",
       "    .dataframe tbody tr th:only-of-type {\n",
       "        vertical-align: middle;\n",
       "    }\n",
       "\n",
       "    .dataframe tbody tr th {\n",
       "        vertical-align: top;\n",
       "    }\n",
       "\n",
       "    .dataframe thead th {\n",
       "        text-align: right;\n",
       "    }\n",
       "</style>\n",
       "<table border=\"1\" class=\"dataframe\">\n",
       "  <thead>\n",
       "    <tr style=\"text-align: right;\">\n",
       "      <th></th>\n",
       "      <th>WW</th>\n",
       "      <th>WD</th>\n",
       "      <th>shape</th>\n",
       "      <th>scale</th>\n",
       "    </tr>\n",
       "    <tr>\n",
       "      <th>month</th>\n",
       "      <th></th>\n",
       "      <th></th>\n",
       "      <th></th>\n",
       "      <th></th>\n",
       "    </tr>\n",
       "  </thead>\n",
       "  <tbody>\n",
       "    <tr>\n",
       "      <th>1</th>\n",
       "      <td>0.338028</td>\n",
       "      <td>0.141176</td>\n",
       "      <td>0.748257</td>\n",
       "      <td>4.166760</td>\n",
       "    </tr>\n",
       "    <tr>\n",
       "      <th>2</th>\n",
       "      <td>0.320513</td>\n",
       "      <td>0.161184</td>\n",
       "      <td>0.678656</td>\n",
       "      <td>8.142081</td>\n",
       "    </tr>\n",
       "    <tr>\n",
       "      <th>3</th>\n",
       "      <td>0.401709</td>\n",
       "      <td>0.219048</td>\n",
       "      <td>0.632519</td>\n",
       "      <td>11.092325</td>\n",
       "    </tr>\n",
       "    <tr>\n",
       "      <th>4</th>\n",
       "      <td>0.503448</td>\n",
       "      <td>0.273063</td>\n",
       "      <td>0.589697</td>\n",
       "      <td>15.483557</td>\n",
       "    </tr>\n",
       "    <tr>\n",
       "      <th>5</th>\n",
       "      <td>0.480769</td>\n",
       "      <td>0.290909</td>\n",
       "      <td>0.630033</td>\n",
       "      <td>13.661336</td>\n",
       "    </tr>\n",
       "    <tr>\n",
       "      <th>6</th>\n",
       "      <td>0.442953</td>\n",
       "      <td>0.293680</td>\n",
       "      <td>0.599585</td>\n",
       "      <td>22.291664</td>\n",
       "    </tr>\n",
       "    <tr>\n",
       "      <th>7</th>\n",
       "      <td>0.415254</td>\n",
       "      <td>0.228571</td>\n",
       "      <td>0.677182</td>\n",
       "      <td>16.648971</td>\n",
       "    </tr>\n",
       "    <tr>\n",
       "      <th>8</th>\n",
       "      <td>0.412214</td>\n",
       "      <td>0.245847</td>\n",
       "      <td>0.625811</td>\n",
       "      <td>21.885339</td>\n",
       "    </tr>\n",
       "    <tr>\n",
       "      <th>9</th>\n",
       "      <td>0.362745</td>\n",
       "      <td>0.201258</td>\n",
       "      <td>0.585308</td>\n",
       "      <td>15.593047</td>\n",
       "    </tr>\n",
       "    <tr>\n",
       "      <th>10</th>\n",
       "      <td>0.409524</td>\n",
       "      <td>0.193353</td>\n",
       "      <td>0.659315</td>\n",
       "      <td>11.230858</td>\n",
       "    </tr>\n",
       "    <tr>\n",
       "      <th>11</th>\n",
       "      <td>0.388889</td>\n",
       "      <td>0.129794</td>\n",
       "      <td>0.628394</td>\n",
       "      <td>10.430029</td>\n",
       "    </tr>\n",
       "    <tr>\n",
       "      <th>12</th>\n",
       "      <td>0.381579</td>\n",
       "      <td>0.144092</td>\n",
       "      <td>0.668791</td>\n",
       "      <td>9.900732</td>\n",
       "    </tr>\n",
       "  </tbody>\n",
       "</table>\n",
       "</div>"
      ],
      "text/plain": [
       "             WW        WD     shape      scale\n",
       "month                                         \n",
       "1      0.338028  0.141176  0.748257   4.166760\n",
       "2      0.320513  0.161184  0.678656   8.142081\n",
       "3      0.401709  0.219048  0.632519  11.092325\n",
       "4      0.503448  0.273063  0.589697  15.483557\n",
       "5      0.480769  0.290909  0.630033  13.661336\n",
       "6      0.442953  0.293680  0.599585  22.291664\n",
       "7      0.415254  0.228571  0.677182  16.648971\n",
       "8      0.412214  0.245847  0.625811  21.885339\n",
       "9      0.362745  0.201258  0.585308  15.593047\n",
       "10     0.409524  0.193353  0.659315  11.230858\n",
       "11     0.388889  0.129794  0.628394  10.430029\n",
       "12     0.381579  0.144092  0.668791   9.900732"
      ]
     },
     "execution_count": 188,
     "metadata": {},
     "output_type": "execute_result"
    }
   ],
   "source": [
    "# Append amount parameters to monthly lookup table\n",
    "coeff[\"shape\"] = monthly_shape\n",
    "coeff[\"scale\"] = monthly_scale\n",
    "coeff.head(12)\n"
   ]
  },
  {
   "cell_type": "markdown",
   "metadata": {},
   "source": [
    "Check that our gamma function can generate sound rainfall distributions. Note that the figure below is the pdf function, not the actual rainfall. The y-axis contains density information, while the x-axis contains rainfall data."
   ]
  },
  {
   "cell_type": "code",
   "execution_count": 189,
   "metadata": {},
   "outputs": [
    {
     "data": {
      "image/png": "[encoded data removed]",
      "text/plain": [
       "<Figure size 432x288 with 1 Axes>"
      ]
     },
     "metadata": {
      "needs_background": "light"
     },
     "output_type": "display_data"
    }
   ],
   "source": [
    "# Demonstrate distribution of rainfall amount distribution for last month of fitting\n",
    "a,b,c = gamma.fit(x, floc=0)\n",
    "plt.hist(x, density=True)\n",
    "plt.plot(np.linspace(0.1,50,100), gamma.pdf(np.linspace(0.1,50,100),a,b,c))\n",
    "plt.show()\n"
   ]
  },
  {
   "cell_type": "markdown",
   "metadata": {},
   "source": [
    "## Build simulator"
   ]
  },
  {
   "cell_type": "code",
   "execution_count": 190,
   "metadata": {},
   "outputs": [],
   "source": [
    "# Define rainfall simulator\n",
    "def rainfall_gen(dates,coeff):\n",
    "    \n",
    "    P = np.ones(dates.shape[0])*np.nan\n",
    "    P[0] = 0\n",
    "\n",
    "    for t in range(1,dates.shape[0]):\n",
    "        month = dates.month[t]\n",
    "        if P[t-1] == 0:\n",
    "            if np.random.rand() > coeff[\"WD\"][month]:\n",
    "                P[t] = 0\n",
    "            else:\n",
    "                P[t] = gamma.rvs(coeff[\"shape\"][month],0,coeff[\"scale\"][month])\n",
    "                P[t] = np.round(P[t]*10)/10\n",
    "\n",
    "        elif P[t-1] > 0:\n",
    "            if np.random.rand() > coeff[\"WW\"][month]:\n",
    "                P[t] = 0\n",
    "            else:\n",
    "                P[t] = gamma.rvs(coeff[\"shape\"][month],0,coeff[\"scale\"][month])\n",
    "                P[t] = np.round(P[t]*10)/10\n",
    "\n",
    "    P_total = P.sum()\n",
    "    return P\n"
   ]
  },
  {
   "cell_type": "markdown",
   "metadata": {},
   "source": [
    "## Create rainfall scenarios"
   ]
  },
  {
   "cell_type": "code",
   "execution_count": 193,
   "metadata": {},
   "outputs": [
    {
     "data": {
      "image/png": "[encoded data removed]",
      "text/plain": [
       "<Figure size 432x288 with 1 Axes>"
      ]
     },
     "metadata": {
      "needs_background": "light"
     },
     "output_type": "display_data"
    }
   ],
   "source": [
    "# Create an example set of dates\n",
    "dates = pd.date_range(\"1-jan-2018\",\"31-dec-2018\",freq=\"D\")\n",
    "\n",
    "# Call rainfall generator multiple times and plot cumulative rainfall\n",
    "for i in range(20):\n",
    "    P = rainfall_gen(dates,coeff)\n",
    "    #print(\"Total rainfall\",round(P.sum()))\n",
    "    plt.plot(P.cumsum())\n",
    "    \n",
    "plt.title(\"Cumulative rainfall per year\")\n",
    "plt.xlabel(\"DOY\")\n",
    "plt.ylabel(\"Rainfall amount (mm)\")\n",
    "plt.show()\n"
   ]
  },
  {
   "cell_type": "code",
   "execution_count": 195,
   "metadata": {},
   "outputs": [
    {
     "data": {
      "image/png": "[encoded data removed]",
      "text/plain": [
       "<Figure size 864x288 with 1 Axes>"
      ]
     },
     "metadata": {
      "needs_background": "light"
     },
     "output_type": "display_data"
    }
   ],
   "source": [
    "# Plot the last iteration\n",
    "plt.figure(figsize=(12,4))\n",
    "plt.bar(dates,P)\n",
    "plt.title(\"Daily rainfall\") # for last year of the previous simulation\n",
    "plt.ylabel(\"Rainfall amount (mm)\")\n",
    "plt.show()\n"
   ]
  },
  {
   "cell_type": "markdown",
   "metadata": {},
   "source": [
    "## References\n",
    "\n",
    "Intergernmental Panel on Climate Change Data Distribution Centre: https://www.ipcc-data.org/guidelines/pages/weather_generators.html\n",
    "\n",
    "Jones, P., Harpham, C., Kilsby, C., Glenis, V. and Burton, A., 2010. UK Climate Projections science report: Projections of future daily climate for the UK from the Weather Generator.\n",
    "\n",
    "Kilsby, C.G., Jones, P.D., Burton, A., Ford, A.C., Fowler, H.J., Harpham, C., James, P., Smith, A. and Wilby, R.L., 2007. A daily weather generator for use in climate change studies. Environmental Modelling & Software, 22(12), pp.1705-1719.\n",
    "\n",
    "Richardson, C.W., 1982. Dependence structure of daily temperature and solar radiation. Transactions of the ASAE, 25(3), pp.735-0739.\n",
    "\n",
    "Richardson, C.W. and Wright, D.A., 1984. WGEN: A model for generating daily weather variables."
   ]
  }
 ],
 "metadata": {
  "kernelspec": {
   "display_name": "Python 3",
   "language": "python",
   "name": "python3"
  },
  "language_info": {
   "codemirror_mode": {
    "name": "ipython",
    "version": 3
   },
   "file_extension": ".py",
   "mimetype": "text/x-python",
   "name": "python",
   "nbconvert_exporter": "python",
   "pygments_lexer": "ipython3",
   "version": "3.8.5"
  }
 },
 "nbformat": 4,
 "nbformat_minor": 4
}
