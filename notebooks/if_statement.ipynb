{
 "cells": [
  {
   "cell_type": "markdown",
   "metadata": {},
   "source": [
    "# If Statements\n",
    "\n",
    "The `if` statements play a fundamental role controlling the logical flow of the code. A sequence of decision rules instruct the computer to execut specific commands. `If` statements evaluate whether a condition is `True` or `False`, and at that point the code bifurcates. Sometimes there are multiple conditions as part of a single `if` statement, in which the code could branch into many different options.\n"
   ]
  },
  {
   "cell_type": "code",
   "execution_count": 3,
   "metadata": {},
   "outputs": [
    {
     "name": "stdout",
     "output_type": "stream",
     "text": [
      "It's freezing outside\n"
     ]
    }
   ],
   "source": [
    "## Trivial example\n",
    "T_air = -4 # degrees Celsius\n",
    "\n",
    "if T_air <= 0:\n",
    "    print(\"It's freezing outside\")\n",
    "elif T_air > 0 and T_air <= 15:\n",
    "    print(\"It's cool outside\")\n",
    "\n",
    "elif T_air > 15 and T_air <30:\n",
    "    print(\"It's nice outside\")\n",
    "\n",
    "else:\n",
    "    print(\"It's too hot outside\")"
   ]
  },
  {
   "cell_type": "markdown",
   "metadata": {},
   "source": [
    ">`if` statements allow us to include multiple options using the `elif` (else if) keyword accompained by a conditional statement. \n"
   ]
  },
  {
   "cell_type": "markdown",
   "metadata": {},
   "source": [
    "## Odd or even?\n",
    "\n",
    "A simple exercise to learn the basic structure of `If` staments is to compute and print whether a given number is odd or even. Even numbers are divisible by 2 with a reminder of zero whereas odd numbers are not divisible by 2 and have remainder greater than zero. To perform this operation we can use the Python `modulo` operator, which represented by `%`."
   ]
  },
  {
   "cell_type": "code",
   "execution_count": 4,
   "metadata": {},
   "outputs": [
    {
     "name": "stdout",
     "output_type": "stream",
     "text": [
      "Number is even\n"
     ]
    }
   ],
   "source": [
    "# If and Else statement\n",
    "value = 8\n",
    "\n",
    "if value % 2 == 0:\n",
    "    print('Number is even')\n",
    "else:\n",
    "    print('Number is odd')\n"
   ]
  },
  {
   "cell_type": "markdown",
   "metadata": {},
   "source": [
    "Using the same code within a `for loop` we can easily check all the numbers from one to ten."
   ]
  },
  {
   "cell_type": "code",
   "execution_count": 5,
   "metadata": {},
   "outputs": [
    {
     "name": "stdout",
     "output_type": "stream",
     "text": [
      "Number 1 is odd\n",
      "Number 2 is even\n",
      "Number 3 is odd\n",
      "Number 4 is even\n",
      "Number 5 is odd\n",
      "Number 6 is even\n",
      "Number 7 is odd\n",
      "Number 8 is even\n",
      "Number 9 is odd\n",
      "Number 10 is even\n"
     ]
    }
   ],
   "source": [
    "for value in range(1,11):\n",
    "    if value % 2 == 0:\n",
    "        print('Number',value,'is even')\n",
    "    else:\n",
    "        print('Number',value,'is odd')\n",
    "        "
   ]
  },
  {
   "cell_type": "markdown",
   "metadata": {},
   "source": [
    "## Climate Classification\n",
    "\n",
    "A simple way of characterizing the different regions of our planet is by computing the ratio between the annual precipitation and the atmospheric demand. The smaller the ratio, the drier the place. The Aridity Index (AI) is used by the United Nations Environmental Program (UNEP) to classify environments based on the annual climate. The Aridity Index has gone through many versions and is currently defined by the Food and Agriculture Organization (FAO) as:\n",
    "\n",
    "$$ AI = \\frac{P}{PET}  $$\n",
    "\n",
    "where $P$ is the annual precipitation and $PET$ is the annual cummulative potential evapotranspiration.\n",
    "\n",
    "\n",
    "Table of climate classification according to the aridity index defined by the FAO\n",
    "```\n",
    "| Climate class |       Value      |\n",
    "|---------------|------------------|\n",
    "| Desert        |        AI ≤ 0.03 |\n",
    "| Hyper-arid    | 0.03 < AI ≤ 0.05 |\n",
    "| Arid          | 0.05 < AI ≤ 0.20 |\n",
    "| Semi-arid     | 0.20 < AI ≤ 0.50 |\n",
    "| Dry           | 0.50 < AI ≤ 0.65 |\n",
    "| Sub-humid     | 0.65 < AI ≤ 0.75 |\n",
    "| Humid         |        AI > 0.75 |\n",
    "```\n"
   ]
  },
  {
   "cell_type": "code",
   "execution_count": 6,
   "metadata": {},
   "outputs": [],
   "source": [
    "# Define annual precipitation and atmospheric demand for a location\n",
    "P = 1000   # mm per year\n",
    "PET = 1800 # mm per year"
   ]
  },
  {
   "cell_type": "code",
   "execution_count": 7,
   "metadata": {},
   "outputs": [
    {
     "name": "stdout",
     "output_type": "stream",
     "text": [
      "Climate classification is: Dry (AI=0.56)\n"
     ]
    }
   ],
   "source": [
    "#Compute Aridity Index\n",
    "AI = P/PET\n",
    "\n",
    "# Find climate class\n",
    "if AI <= 0.03:\n",
    "    climate_class = 'Desert'\n",
    "    \n",
    "elif AI > 0.03 and AI <= 0.05:\n",
    "    climate_class = 'Hyper-arid'\n",
    "    \n",
    "elif AI > 0.05 and AI <= 0.2:\n",
    "    climate_class = 'Arid'\n",
    "\n",
    "elif AI > 0.2 and AI <= 0.5:\n",
    "    climate_class = 'Semi-arid'\n",
    "\n",
    "elif AI > 0.5 and AI <= 0.65:\n",
    "    climate_class = 'Dry'\n",
    "    \n",
    "elif AI > 0.65 and AI <= 0.75:\n",
    "    climate_class = 'Sub-humid'\n",
    "    \n",
    "else:\n",
    "    climate_class = 'Humid'\n",
    "    \n",
    "print('Climate classification is:',climate_class,'(AI='+str(round(AI,2))+')')\n"
   ]
  },
  {
   "cell_type": "markdown",
   "metadata": {},
   "source": [
    "## References\n",
    "\n",
    "Spinoni, J., Vogt, J., Naumann, G., Carrao, H. and Barbosa, P., 2015. Towards identifying areas at climatological risk of desertification using the Köppen–Geiger classification and FAO aridity index. International Journal of Climatology, 35(9), pp.2210-2222."
   ]
  }
 ],
 "metadata": {
  "kernelspec": {
   "display_name": "Python 3",
   "language": "python",
   "name": "python3"
  },
  "language_info": {
   "codemirror_mode": {
    "name": "ipython",
    "version": 3
   },
   "file_extension": ".py",
   "mimetype": "text/x-python",
   "name": "python",
   "nbconvert_exporter": "python",
   "pygments_lexer": "ipython3",
   "version": "3.8.5"
  }
 },
 "nbformat": 4,
 "nbformat_minor": 4
}
