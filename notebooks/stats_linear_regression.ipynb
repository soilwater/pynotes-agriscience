{
 "cells": [
  {
   "cell_type": "markdown",
   "metadata": {},
   "source": [
    "# Linear Regression\n",
    "\n",
    "Perhaps there is no other task more common in curve fitting than optimizing the parameters of a linear model using least squares. The linear model is one simplest (of course after the constant model) models to fit our data and usually represents our first choice when we don't know any better.\n",
    "\n",
    "The linear model is described by:\n",
    "\n",
    "$$ y = a + bx $$\n",
    "\n",
    "where:\n",
    "\n",
    "$y$ is the dependent variable. The output of our model.\n",
    "\n",
    "$a$ is the intercept at the ordinate. Position on the x-axis that our model intersects the y-axis. This value can be positive or negative.\n",
    "\n",
    "$b$ is the slope of our model. It represents the rate of change of the curve. This value can be positive or negative.\n",
    "\n",
    "$x$ is the independent variable. The input of our model.\n",
    "\n",
    "\n",
    "In this exercise we will look at simple examples of linear dependency for some weather variables. The weather variables are just an excuse to use real observations and avoid relying on synthetic data. The dataset was obtained from the [Kansas Meosnet station near Gypsum, KS](https://www.google.com/maps/@38.725139,-97.4441767,42m/data=!3m1!1e3). It's important to highlight that the dataset contains atmopsheric and soil variables (soil temperature and soil moisture at multiple depths).\n",
    "\n",
    "Soil temperature is recorded by a custom made soil temperature sensor and by the Campbel Scientific 655 (CS655) soil water reflectometer sensor, which records both soil water and soil temperature.\n"
   ]
  },
  {
   "cell_type": "code",
   "execution_count": 1,
   "metadata": {},
   "outputs": [],
   "source": [
    "# Import modules\n",
    "import numpy as np\n",
    "import pandas as pd\n",
    "import matplotlib.pyplot as plt\n",
    "from scipy import stats\n"
   ]
  },
  {
   "cell_type": "code",
   "execution_count": 2,
   "metadata": {},
   "outputs": [],
   "source": [
    "# Load some weather data\n",
    "df = pd.read_csv('../datasets/gypsum_ks_daily_2018.csv')\n"
   ]
  },
  {
   "cell_type": "code",
   "execution_count": 3,
   "metadata": {},
   "outputs": [
    {
     "data": {
      "text/html": [
       "<div>\n",
       "<style scoped>\n",
       "    .dataframe tbody tr th:only-of-type {\n",
       "        vertical-align: middle;\n",
       "    }\n",
       "\n",
       "    .dataframe tbody tr th {\n",
       "        vertical-align: top;\n",
       "    }\n",
       "\n",
       "    .dataframe thead th {\n",
       "        text-align: right;\n",
       "    }\n",
       "</style>\n",
       "<table border=\"1\" class=\"dataframe\">\n",
       "  <thead>\n",
       "    <tr style=\"text-align: right;\">\n",
       "      <th></th>\n",
       "      <th>TIMESTAMP</th>\n",
       "      <th>STATION</th>\n",
       "      <th>PRESSUREAVG</th>\n",
       "      <th>PRESSUREMAX</th>\n",
       "      <th>PRESSUREMIN</th>\n",
       "      <th>SLPAVG</th>\n",
       "      <th>TEMP2MAVG</th>\n",
       "      <th>TEMP2MMIN</th>\n",
       "      <th>TEMP2MMAX</th>\n",
       "      <th>TEMP10MAVG</th>\n",
       "      <th>...</th>\n",
       "      <th>SOILTMP10MAX</th>\n",
       "      <th>SOILTMP10MIN</th>\n",
       "      <th>SOILTMP5AVG655</th>\n",
       "      <th>SOILTMP10AVG655</th>\n",
       "      <th>SOILTMP20AVG655</th>\n",
       "      <th>SOILTMP50AVG655</th>\n",
       "      <th>VWC5CM</th>\n",
       "      <th>VWC10CM</th>\n",
       "      <th>VWC20CM</th>\n",
       "      <th>VWC50CM</th>\n",
       "    </tr>\n",
       "  </thead>\n",
       "  <tbody>\n",
       "    <tr>\n",
       "      <th>0</th>\n",
       "      <td>1/1/18 0:00</td>\n",
       "      <td>Gypsum</td>\n",
       "      <td>99.44</td>\n",
       "      <td>100.03</td>\n",
       "      <td>98.73</td>\n",
       "      <td>104.44</td>\n",
       "      <td>-15.15</td>\n",
       "      <td>-19.56</td>\n",
       "      <td>-11.00</td>\n",
       "      <td>-15.31</td>\n",
       "      <td>...</td>\n",
       "      <td>-1.18</td>\n",
       "      <td>-2.45</td>\n",
       "      <td>-1.33</td>\n",
       "      <td>-1.14</td>\n",
       "      <td>0.74</td>\n",
       "      <td>3.50</td>\n",
       "      <td>0.1377</td>\n",
       "      <td>0.1167</td>\n",
       "      <td>0.2665</td>\n",
       "      <td>0.2203</td>\n",
       "    </tr>\n",
       "    <tr>\n",
       "      <th>1</th>\n",
       "      <td>1/2/18 0:00</td>\n",
       "      <td>Gypsum</td>\n",
       "      <td>99.79</td>\n",
       "      <td>100.14</td>\n",
       "      <td>99.40</td>\n",
       "      <td>104.88</td>\n",
       "      <td>-16.48</td>\n",
       "      <td>-22.10</td>\n",
       "      <td>-10.40</td>\n",
       "      <td>-16.38</td>\n",
       "      <td>...</td>\n",
       "      <td>-1.56</td>\n",
       "      <td>-3.46</td>\n",
       "      <td>-2.10</td>\n",
       "      <td>-1.82</td>\n",
       "      <td>0.28</td>\n",
       "      <td>3.13</td>\n",
       "      <td>0.1234</td>\n",
       "      <td>0.1021</td>\n",
       "      <td>0.2642</td>\n",
       "      <td>0.2196</td>\n",
       "    </tr>\n",
       "    <tr>\n",
       "      <th>2</th>\n",
       "      <td>1/3/18 0:00</td>\n",
       "      <td>Gypsum</td>\n",
       "      <td>98.87</td>\n",
       "      <td>99.52</td>\n",
       "      <td>97.94</td>\n",
       "      <td>103.81</td>\n",
       "      <td>-11.03</td>\n",
       "      <td>-20.64</td>\n",
       "      <td>-2.71</td>\n",
       "      <td>-10.66</td>\n",
       "      <td>...</td>\n",
       "      <td>-1.49</td>\n",
       "      <td>-3.61</td>\n",
       "      <td>-2.21</td>\n",
       "      <td>-1.93</td>\n",
       "      <td>-0.08</td>\n",
       "      <td>2.76</td>\n",
       "      <td>0.1206</td>\n",
       "      <td>0.0965</td>\n",
       "      <td>0.2353</td>\n",
       "      <td>0.2189</td>\n",
       "    </tr>\n",
       "    <tr>\n",
       "      <th>3</th>\n",
       "      <td>1/4/18 0:00</td>\n",
       "      <td>Gypsum</td>\n",
       "      <td>98.22</td>\n",
       "      <td>98.54</td>\n",
       "      <td>97.90</td>\n",
       "      <td>102.99</td>\n",
       "      <td>-5.83</td>\n",
       "      <td>-11.79</td>\n",
       "      <td>0.24</td>\n",
       "      <td>-5.01</td>\n",
       "      <td>...</td>\n",
       "      <td>-0.98</td>\n",
       "      <td>-2.67</td>\n",
       "      <td>-1.60</td>\n",
       "      <td>-1.46</td>\n",
       "      <td>-0.21</td>\n",
       "      <td>2.45</td>\n",
       "      <td>0.1235</td>\n",
       "      <td>0.0973</td>\n",
       "      <td>0.2094</td>\n",
       "      <td>0.2182</td>\n",
       "    </tr>\n",
       "    <tr>\n",
       "      <th>4</th>\n",
       "      <td>1/5/18 0:00</td>\n",
       "      <td>Gypsum</td>\n",
       "      <td>98.10</td>\n",
       "      <td>98.42</td>\n",
       "      <td>97.75</td>\n",
       "      <td>102.88</td>\n",
       "      <td>-4.73</td>\n",
       "      <td>-14.22</td>\n",
       "      <td>5.36</td>\n",
       "      <td>-4.23</td>\n",
       "      <td>...</td>\n",
       "      <td>-0.72</td>\n",
       "      <td>-2.81</td>\n",
       "      <td>-1.54</td>\n",
       "      <td>-1.38</td>\n",
       "      <td>-0.25</td>\n",
       "      <td>2.25</td>\n",
       "      <td>0.1249</td>\n",
       "      <td>0.0976</td>\n",
       "      <td>0.2047</td>\n",
       "      <td>0.2180</td>\n",
       "    </tr>\n",
       "  </tbody>\n",
       "</table>\n",
       "<p>5 rows × 44 columns</p>\n",
       "</div>"
      ],
      "text/plain": [
       "     TIMESTAMP STATION  PRESSUREAVG  PRESSUREMAX  PRESSUREMIN  SLPAVG  \\\n",
       "0  1/1/18 0:00  Gypsum        99.44       100.03        98.73  104.44   \n",
       "1  1/2/18 0:00  Gypsum        99.79       100.14        99.40  104.88   \n",
       "2  1/3/18 0:00  Gypsum        98.87        99.52        97.94  103.81   \n",
       "3  1/4/18 0:00  Gypsum        98.22        98.54        97.90  102.99   \n",
       "4  1/5/18 0:00  Gypsum        98.10        98.42        97.75  102.88   \n",
       "\n",
       "   TEMP2MAVG  TEMP2MMIN  TEMP2MMAX  TEMP10MAVG  ...  SOILTMP10MAX  \\\n",
       "0     -15.15     -19.56     -11.00      -15.31  ...         -1.18   \n",
       "1     -16.48     -22.10     -10.40      -16.38  ...         -1.56   \n",
       "2     -11.03     -20.64      -2.71      -10.66  ...         -1.49   \n",
       "3      -5.83     -11.79       0.24       -5.01  ...         -0.98   \n",
       "4      -4.73     -14.22       5.36       -4.23  ...         -0.72   \n",
       "\n",
       "   SOILTMP10MIN  SOILTMP5AVG655  SOILTMP10AVG655  SOILTMP20AVG655  \\\n",
       "0         -2.45           -1.33            -1.14             0.74   \n",
       "1         -3.46           -2.10            -1.82             0.28   \n",
       "2         -3.61           -2.21            -1.93            -0.08   \n",
       "3         -2.67           -1.60            -1.46            -0.21   \n",
       "4         -2.81           -1.54            -1.38            -0.25   \n",
       "\n",
       "   SOILTMP50AVG655  VWC5CM  VWC10CM  VWC20CM  VWC50CM  \n",
       "0             3.50  0.1377   0.1167   0.2665   0.2203  \n",
       "1             3.13  0.1234   0.1021   0.2642   0.2196  \n",
       "2             2.76  0.1206   0.0965   0.2353   0.2189  \n",
       "3             2.45  0.1235   0.0973   0.2094   0.2182  \n",
       "4             2.25  0.1249   0.0976   0.2047   0.2180  \n",
       "\n",
       "[5 rows x 44 columns]"
      ]
     },
     "execution_count": 3,
     "metadata": {},
     "output_type": "execute_result"
    }
   ],
   "source": [
    "# Explore headers\n",
    "df.head(5)\n"
   ]
  },
  {
   "cell_type": "code",
   "execution_count": 4,
   "metadata": {},
   "outputs": [
    {
     "data": {
      "text/html": [
       "<div>\n",
       "<style scoped>\n",
       "    .dataframe tbody tr th:only-of-type {\n",
       "        vertical-align: middle;\n",
       "    }\n",
       "\n",
       "    .dataframe tbody tr th {\n",
       "        vertical-align: top;\n",
       "    }\n",
       "\n",
       "    .dataframe thead th {\n",
       "        text-align: right;\n",
       "    }\n",
       "</style>\n",
       "<table border=\"1\" class=\"dataframe\">\n",
       "  <thead>\n",
       "    <tr style=\"text-align: right;\">\n",
       "      <th></th>\n",
       "      <th>TIMESTAMP</th>\n",
       "      <th>STATION</th>\n",
       "      <th>PRESSUREAVG</th>\n",
       "      <th>PRESSUREMAX</th>\n",
       "      <th>PRESSUREMIN</th>\n",
       "      <th>SLPAVG</th>\n",
       "      <th>TEMP2MAVG</th>\n",
       "      <th>TEMP2MMIN</th>\n",
       "      <th>TEMP2MMAX</th>\n",
       "      <th>TEMP10MAVG</th>\n",
       "      <th>...</th>\n",
       "      <th>SOILTMP10MAX</th>\n",
       "      <th>SOILTMP10MIN</th>\n",
       "      <th>SOILTMP5AVG655</th>\n",
       "      <th>SOILTMP10AVG655</th>\n",
       "      <th>SOILTMP20AVG655</th>\n",
       "      <th>SOILTMP50AVG655</th>\n",
       "      <th>VWC5CM</th>\n",
       "      <th>VWC10CM</th>\n",
       "      <th>VWC20CM</th>\n",
       "      <th>VWC50CM</th>\n",
       "    </tr>\n",
       "  </thead>\n",
       "  <tbody>\n",
       "    <tr>\n",
       "      <th>360</th>\n",
       "      <td>12/27/18 0:00</td>\n",
       "      <td>Gypsum</td>\n",
       "      <td>96.71</td>\n",
       "      <td>97.59</td>\n",
       "      <td>95.54</td>\n",
       "      <td>101.17</td>\n",
       "      <td>9.22</td>\n",
       "      <td>5.78</td>\n",
       "      <td>12.36</td>\n",
       "      <td>9.18</td>\n",
       "      <td>...</td>\n",
       "      <td>7.24</td>\n",
       "      <td>3.58</td>\n",
       "      <td>5.15</td>\n",
       "      <td>4.97</td>\n",
       "      <td>4.60</td>\n",
       "      <td>5.18</td>\n",
       "      <td>0.3561</td>\n",
       "      <td>0.3666</td>\n",
       "      <td>0.3534</td>\n",
       "      <td>0.2972</td>\n",
       "    </tr>\n",
       "    <tr>\n",
       "      <th>361</th>\n",
       "      <td>12/28/18 0:00</td>\n",
       "      <td>Gypsum</td>\n",
       "      <td>95.77</td>\n",
       "      <td>96.97</td>\n",
       "      <td>95.02</td>\n",
       "      <td>100.21</td>\n",
       "      <td>2.60</td>\n",
       "      <td>-4.05</td>\n",
       "      <td>12.36</td>\n",
       "      <td>2.44</td>\n",
       "      <td>...</td>\n",
       "      <td>7.45</td>\n",
       "      <td>3.46</td>\n",
       "      <td>6.26</td>\n",
       "      <td>6.26</td>\n",
       "      <td>6.24</td>\n",
       "      <td>5.77</td>\n",
       "      <td>0.3786</td>\n",
       "      <td>0.3810</td>\n",
       "      <td>0.3856</td>\n",
       "      <td>0.3445</td>\n",
       "    </tr>\n",
       "    <tr>\n",
       "      <th>362</th>\n",
       "      <td>12/29/18 0:00</td>\n",
       "      <td>Gypsum</td>\n",
       "      <td>97.72</td>\n",
       "      <td>98.44</td>\n",
       "      <td>96.89</td>\n",
       "      <td>102.44</td>\n",
       "      <td>-4.92</td>\n",
       "      <td>-8.76</td>\n",
       "      <td>-2.09</td>\n",
       "      <td>-5.07</td>\n",
       "      <td>...</td>\n",
       "      <td>3.46</td>\n",
       "      <td>1.63</td>\n",
       "      <td>2.35</td>\n",
       "      <td>2.72</td>\n",
       "      <td>4.30</td>\n",
       "      <td>5.93</td>\n",
       "      <td>0.3588</td>\n",
       "      <td>0.3645</td>\n",
       "      <td>0.3699</td>\n",
       "      <td>0.3204</td>\n",
       "    </tr>\n",
       "    <tr>\n",
       "      <th>363</th>\n",
       "      <td>12/30/18 0:00</td>\n",
       "      <td>Gypsum</td>\n",
       "      <td>98.16</td>\n",
       "      <td>98.55</td>\n",
       "      <td>97.54</td>\n",
       "      <td>102.95</td>\n",
       "      <td>-6.38</td>\n",
       "      <td>-9.77</td>\n",
       "      <td>-0.55</td>\n",
       "      <td>-6.49</td>\n",
       "      <td>...</td>\n",
       "      <td>1.63</td>\n",
       "      <td>0.97</td>\n",
       "      <td>1.22</td>\n",
       "      <td>1.58</td>\n",
       "      <td>2.96</td>\n",
       "      <td>5.26</td>\n",
       "      <td>0.3477</td>\n",
       "      <td>0.3539</td>\n",
       "      <td>0.3612</td>\n",
       "      <td>0.3131</td>\n",
       "    </tr>\n",
       "    <tr>\n",
       "      <th>364</th>\n",
       "      <td>12/31/18 0:00</td>\n",
       "      <td>Gypsum</td>\n",
       "      <td>96.75</td>\n",
       "      <td>97.64</td>\n",
       "      <td>96.08</td>\n",
       "      <td>101.38</td>\n",
       "      <td>0.28</td>\n",
       "      <td>-5.52</td>\n",
       "      <td>8.13</td>\n",
       "      <td>0.21</td>\n",
       "      <td>...</td>\n",
       "      <td>0.98</td>\n",
       "      <td>0.71</td>\n",
       "      <td>0.82</td>\n",
       "      <td>1.15</td>\n",
       "      <td>2.32</td>\n",
       "      <td>4.67</td>\n",
       "      <td>0.3373</td>\n",
       "      <td>0.3455</td>\n",
       "      <td>0.3557</td>\n",
       "      <td>0.3089</td>\n",
       "    </tr>\n",
       "  </tbody>\n",
       "</table>\n",
       "<p>5 rows × 44 columns</p>\n",
       "</div>"
      ],
      "text/plain": [
       "         TIMESTAMP STATION  PRESSUREAVG  PRESSUREMAX  PRESSUREMIN  SLPAVG  \\\n",
       "360  12/27/18 0:00  Gypsum        96.71        97.59        95.54  101.17   \n",
       "361  12/28/18 0:00  Gypsum        95.77        96.97        95.02  100.21   \n",
       "362  12/29/18 0:00  Gypsum        97.72        98.44        96.89  102.44   \n",
       "363  12/30/18 0:00  Gypsum        98.16        98.55        97.54  102.95   \n",
       "364  12/31/18 0:00  Gypsum        96.75        97.64        96.08  101.38   \n",
       "\n",
       "     TEMP2MAVG  TEMP2MMIN  TEMP2MMAX  TEMP10MAVG  ...  SOILTMP10MAX  \\\n",
       "360       9.22       5.78      12.36        9.18  ...          7.24   \n",
       "361       2.60      -4.05      12.36        2.44  ...          7.45   \n",
       "362      -4.92      -8.76      -2.09       -5.07  ...          3.46   \n",
       "363      -6.38      -9.77      -0.55       -6.49  ...          1.63   \n",
       "364       0.28      -5.52       8.13        0.21  ...          0.98   \n",
       "\n",
       "     SOILTMP10MIN  SOILTMP5AVG655  SOILTMP10AVG655  SOILTMP20AVG655  \\\n",
       "360          3.58            5.15             4.97             4.60   \n",
       "361          3.46            6.26             6.26             6.24   \n",
       "362          1.63            2.35             2.72             4.30   \n",
       "363          0.97            1.22             1.58             2.96   \n",
       "364          0.71            0.82             1.15             2.32   \n",
       "\n",
       "     SOILTMP50AVG655  VWC5CM  VWC10CM  VWC20CM  VWC50CM  \n",
       "360             5.18  0.3561   0.3666   0.3534   0.2972  \n",
       "361             5.77  0.3786   0.3810   0.3856   0.3445  \n",
       "362             5.93  0.3588   0.3645   0.3699   0.3204  \n",
       "363             5.26  0.3477   0.3539   0.3612   0.3131  \n",
       "364             4.67  0.3373   0.3455   0.3557   0.3089  \n",
       "\n",
       "[5 rows x 44 columns]"
      ]
     },
     "execution_count": 4,
     "metadata": {},
     "output_type": "execute_result"
    }
   ],
   "source": [
    "# Explore last few rows\n",
    "df.tail(5)\n"
   ]
  },
  {
   "cell_type": "code",
   "execution_count": 5,
   "metadata": {},
   "outputs": [
    {
     "data": {
      "text/plain": [
       "TIMESTAMP          0\n",
       "STATION            0\n",
       "PRESSUREAVG        0\n",
       "PRESSUREMAX        0\n",
       "PRESSUREMIN        0\n",
       "SLPAVG             0\n",
       "TEMP2MAVG          1\n",
       "TEMP2MMIN          1\n",
       "TEMP2MMAX          2\n",
       "TEMP10MAVG         0\n",
       "TEMP10MMIN         1\n",
       "TEMP10MMAX         2\n",
       "RELHUM2MAVG        0\n",
       "RELHUM2MMAX        0\n",
       "RELHUM2MMIN        1\n",
       "RELHUM10MAVG       0\n",
       "RELHUM10MMAX       0\n",
       "RELHUM10MMIN       1\n",
       "VPDEFAVG           1\n",
       "PRECIP             0\n",
       "SRAVG              0\n",
       "SR                 0\n",
       "WSPD2MAVG          0\n",
       "WSPD2MMAX          0\n",
       "WSPD10MAVG         0\n",
       "WSPD10MMAX         0\n",
       "WDIR2M             0\n",
       "WDIR2MSTD          0\n",
       "WDIR10M            0\n",
       "WDIR10MSTD         0\n",
       "SOILTMP5AVG        0\n",
       "SOILTMP5MAX        0\n",
       "SOILTMP5MIN        0\n",
       "SOILTMP10AVG       0\n",
       "SOILTMP10MAX       0\n",
       "SOILTMP10MIN       0\n",
       "SOILTMP5AVG655     0\n",
       "SOILTMP10AVG655    0\n",
       "SOILTMP20AVG655    0\n",
       "SOILTMP50AVG655    0\n",
       "VWC5CM             0\n",
       "VWC10CM            0\n",
       "VWC20CM            0\n",
       "VWC50CM            0\n",
       "dtype: int64"
      ]
     },
     "execution_count": 5,
     "metadata": {},
     "output_type": "execute_result"
    }
   ],
   "source": [
    "# Examine data to see whether we have NaN values or not\n",
    "df.isna().sum()\n"
   ]
  },
  {
   "cell_type": "markdown",
   "metadata": {},
   "source": [
    "When dealing with real data the presence of missing values is typically the rule than the exception. In our case, most variables have no missing values, but of them do. In this case we can take advantage of some built-in methods to fill these values. An alternative is to remove these rows using the `dropna()` method. Note that missing values represented with a different placeholder (e.g. -99, -9999) will not be detected as NaN. We need to manually fill in these with NaNs using the `fillna()` method or using a boolean index.\n",
    "\n",
    ">Booleans represent zeros (`False`) and ones (`True`), so two bits. We can actually add them up using the Pandas library using the `sum()` method to summarize the total number of missing values represented as NaN in our dataset.\n"
   ]
  },
  {
   "cell_type": "code",
   "execution_count": 6,
   "metadata": {},
   "outputs": [],
   "source": [
    "# Fill missing values\n",
    "df = df.fillna(method='backfill')\n"
   ]
  },
  {
   "cell_type": "markdown",
   "metadata": {},
   "source": [
    "For a single column we can simply do `data['TEMP10MAVG'].fillna(method='backfill')`"
   ]
  },
  {
   "cell_type": "markdown",
   "metadata": {},
   "source": [
    "## Air temperature vs Soil temperature\n",
    "\n",
    "Together with soil moisture, soil temperature is and important variabl dictating the planting date, particularly of summer crops such as corn. On average crops are seeded at about 5 cm (2 inches or 0.05 meter) depth, and while there is an increasing number of networks monitoring soil temperature, air temperature is by far a more common variable even from backyard weather stations.\n",
    "\n",
    "So a valid question would be to think whether we can estimate soil temperature at the planting depth using readily available air temperature observations. To find the answer we can use data from stations monitoring both variables to give as an idea of the relationship. We will fit a linear model and see whether the model provides adequate predictive power for common practical applications.\n"
   ]
  },
  {
   "cell_type": "code",
   "execution_count": 7,
   "metadata": {},
   "outputs": [
    {
     "data": {
      "image/png": "[encoded data removed]",
      "text/plain": [
       "<Figure size 432x288 with 1 Axes>"
      ]
     },
     "metadata": {
      "needs_background": "light"
     },
     "output_type": "display_data"
    }
   ],
   "source": [
    "# Compare air temperature at 2 and 10 meters.\n",
    "plt.scatter(df[\"TEMP2MAVG\"], df[\"SOILTMP5AVG655\"])\n",
    "plt.xlabel('Air temperature at 2 meters (Celsius)')\n",
    "plt.ylabel('Soil temperature at 0.05 meters depth (Celsius)')\n",
    "plt.show()\n"
   ]
  },
  {
   "cell_type": "code",
   "execution_count": 8,
   "metadata": {},
   "outputs": [
    {
     "name": "stdout",
     "output_type": "stream",
     "text": [
      "slope: 0.8667839222050925\n",
      "intercept: 3.503863329087279\n",
      "r: 0.9480160047071207\n",
      "r-squared: 0.8987343451808514\n",
      "p-value: 1.3681157460919794e-182\n"
     ]
    }
   ],
   "source": [
    "# Fit linear model using linregress\n",
    "fit_info = stats.linregress(df[\"TEMP2MAVG\"], df[\"SOILTMP5AVG655\"])\n",
    "\n",
    "# Display individual parameters\n",
    "print('slope:',fit_info.slope)\n",
    "print('intercept:',fit_info.intercept)\n",
    "print('r:',fit_info.rvalue)\n",
    "print('r-squared:',fit_info.rvalue**2)\n",
    "print('p-value:',fit_info.pvalue)\n",
    "\n"
   ]
  },
  {
   "cell_type": "code",
   "execution_count": 9,
   "metadata": {},
   "outputs": [],
   "source": [
    "# Predict soil temperature at 0.05 m based on air temperature at 2 m \n",
    "y_pred = fit_info.intercept + fit_info.slope*df[\"TEMP2MAVG\"]\n"
   ]
  },
  {
   "cell_type": "markdown",
   "metadata": {},
   "source": [
    "Alternatively you can call the `linregress()` method with multiple output arguments: `slope, intercept, r_val, p_val, std_err = stats.linregress(df[\"TEMP2MAVG\"], df[\"SOILTMP5AVG655\"])`. In this case all the outputs will be assigned their own variable name. There is no rule about which method you should use. If you are dealing with multiple models and fitted parameters, it might be a good idea to encapsulate the slopes, intercepts, and goodness of fit into a single variable to simplify variable names and reduce code complexity.\n"
   ]
  },
  {
   "cell_type": "code",
   "execution_count": null,
   "metadata": {},
   "outputs": [],
   "source": [
    "# Figure of data and linear model\n",
    "plt.scatter(df[\"TEMP2MAVG\"], df[\"SOILTMP5AVG655\"], marker='o', color='b', alpha=0.5, label='obs')\n",
    "plt.plot(df[\"TEMP2MAVG\"], y_pred, '-k', label='pred')\n",
    "plt.legend()\n",
    "plt.xlabel('Air temperature at 2 meters (Celsius)')\n",
    "plt.ylabel('Soil temperature at 0.05 meters depth (Celsius)')\n",
    "plt.show()\n"
   ]
  },
  {
   "cell_type": "markdown",
   "metadata": {},
   "source": [
    "## Examine residuals"
   ]
  },
  {
   "cell_type": "code",
   "execution_count": 11,
   "metadata": {},
   "outputs": [
    {
     "name": "stdout",
     "output_type": "stream",
     "text": [
      "1.5184200928572005e-15\n"
     ]
    },
    {
     "data": {
      "image/png": "[encoded data removed]",
      "text/plain": [
       "<Figure size 432x288 with 1 Axes>"
      ]
     },
     "metadata": {
      "needs_background": "light"
     },
     "output_type": "display_data"
    }
   ],
   "source": [
    "# Compute residuals\n",
    "residuals = df[\"SOILTMP5AVG655\"] - y_pred # Observed - predicted\n",
    "\n",
    "# Do residuals have a mean of zero?\n",
    "print(stats.tmean(residuals))\n",
    "\n",
    "# Always plot residuals\n",
    "plt.figure()\n",
    "plt.scatter(df[\"TEMP2MAVG\"], residuals, marker='o', color='g', alpha=0.3)\n",
    "plt.xlabel(\"Observed air temperature at 2 meters (Celsius) \")\n",
    "plt.ylabel(\"Residuals (Celsius) \")\n",
    "plt.show()\n"
   ]
  },
  {
   "cell_type": "markdown",
   "metadata": {},
   "source": [
    "## Compute accuracy\n",
    "\n",
    "We will take advantage of the built-in median absolute errormetric from the `scipy.stats` module. The median absolute error represents the typical error and is more robust agains outliers than the mean absolute error and the root mean squared error.\n"
   ]
  },
  {
   "cell_type": "code",
   "execution_count": 12,
   "metadata": {},
   "outputs": [
    {
     "name": "stdout",
     "output_type": "stream",
     "text": [
      "MAE= 3.19 Celsius\n"
     ]
    }
   ],
   "source": [
    "# Median absolute error. \n",
    "MAE = stats.median_absolute_deviation(residuals)\n",
    "print(\"MAE=\", round(MAE,2), 'Celsius')\n"
   ]
  },
  {
   "cell_type": "markdown",
   "metadata": {},
   "source": [
    "## Remarks\n",
    "\n",
    "- There is a positive relationship between air and soil temperature, as expected. While it seems obvious, note that this may not be true for deeper soil temperatures. It takes time for heat to move to deeper layers and there can be strong delays at greater depths and a linear model may no longer be valid.\n",
    "\n",
    "- The coefficient of linear correlation (R) between air temperature and soil temperature at 5 cm depth was strong (R = 0.95).\n",
    "\n",
    "- The low p-value (P<0.001) shows that the regression is statistically significant.\n",
    "\n",
    "- Despite the overall high linear correlation, the relationship is not that strong at temperatures below freezing. From the plot of residuals we can see up to 10 degrees error. To better capture this pattern we need a non-linear model. Since our scope is in summer crops, then this probably not that important.\n",
    "\n",
    "- Using data for 2018, the linear model can predict soil temperature at 5 cm depth from air temperature obsrvations at 2 m height with an accuracy of about 3 Celsius across the range of -20 to 30 degrees Celsius.\n"
   ]
  },
  {
   "cell_type": "markdown",
   "metadata": {},
   "source": [
    "## Additional exercises\n",
    "\n",
    "- Can you find other linear relationships in the dataset? Hint: Daily average air temperature (TEMP2MAVG) vs average daily atmospheric pressure (PRESSUREAVG).\n",
    "\n",
    "- What is the sign of the slope? What does it mean?\n"
   ]
  },
  {
   "cell_type": "code",
   "execution_count": null,
   "metadata": {},
   "outputs": [],
   "source": [
    "import seaborn as sns\n",
    "\n",
    "df_reduced = df[:,2:6]\n",
    "\n",
    "# with regression\n",
    "sns.pairplot(df_reduced, kind=\"reg\")\n",
    "plt.show()\n",
    " \n",
    "# without regression\n",
    "sns.pairplot(df_reduced, kind=\"scatter\")\n",
    "plot.show()\n"
   ]
  }
 ],
 "metadata": {
  "kernelspec": {
   "display_name": "Python 3",
   "language": "python",
   "name": "python3"
  },
  "language_info": {
   "codemirror_mode": {
    "name": "ipython",
    "version": 3
   },
   "file_extension": ".py",
   "mimetype": "text/x-python",
   "name": "python",
   "nbconvert_exporter": "python",
   "pygments_lexer": "ipython3",
   "version": "3.7.7"
  }
 },
 "nbformat": 4,
 "nbformat_minor": 4
}
