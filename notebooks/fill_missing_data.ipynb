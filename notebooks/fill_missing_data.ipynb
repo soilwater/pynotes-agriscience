{
 "cells": [
  {
   "cell_type": "markdown",
   "metadata": {},
   "source": [
    "# Fill Missing Soil Moisture Timeseries\n",
    "\n",
    "Once in a while we handle a dataset containing missing values. Interpolation can help us to fill in some of these gaps. Interpolation can also be used to estimate values between observations without the need for collecting or storing more data.\n",
    "\n",
    "Using a daily dataset of weather data for the Kansas Mesonet located near Gypsum, KS we will fill few missing observation of air temperature and then we will create an hourly timeseries of volumetric water content from a daily timeseries using multiple one-dimensional interpolation methods.\n"
   ]
  },
  {
   "cell_type": "code",
   "execution_count": 136,
   "metadata": {},
   "outputs": [],
   "source": [
    "import pandas as pd\n",
    "import numpy as np\n",
    "import matplotlib.pyplot as plt\n"
   ]
  },
  {
   "cell_type": "code",
   "execution_count": 137,
   "metadata": {},
   "outputs": [
    {
     "data": {
      "text/html": [
       "<div>\n",
       "<style scoped>\n",
       "    .dataframe tbody tr th:only-of-type {\n",
       "        vertical-align: middle;\n",
       "    }\n",
       "\n",
       "    .dataframe tbody tr th {\n",
       "        vertical-align: top;\n",
       "    }\n",
       "\n",
       "    .dataframe thead th {\n",
       "        text-align: right;\n",
       "    }\n",
       "</style>\n",
       "<table border=\"1\" class=\"dataframe\">\n",
       "  <thead>\n",
       "    <tr style=\"text-align: right;\">\n",
       "      <th></th>\n",
       "      <th>TIMESTAMP</th>\n",
       "      <th>STATION</th>\n",
       "      <th>PRESSUREAVG</th>\n",
       "      <th>PRESSUREMAX</th>\n",
       "      <th>PRESSUREMIN</th>\n",
       "      <th>SLPAVG</th>\n",
       "      <th>TEMP2MAVG</th>\n",
       "      <th>TEMP2MMIN</th>\n",
       "      <th>TEMP2MMAX</th>\n",
       "      <th>TEMP10MAVG</th>\n",
       "      <th>...</th>\n",
       "      <th>SOILTMP10MAX</th>\n",
       "      <th>SOILTMP10MIN</th>\n",
       "      <th>SOILTMP5AVG655</th>\n",
       "      <th>SOILTMP10AVG655</th>\n",
       "      <th>SOILTMP20AVG655</th>\n",
       "      <th>SOILTMP50AVG655</th>\n",
       "      <th>VWC5CM</th>\n",
       "      <th>VWC10CM</th>\n",
       "      <th>VWC20CM</th>\n",
       "      <th>VWC50CM</th>\n",
       "    </tr>\n",
       "  </thead>\n",
       "  <tbody>\n",
       "    <tr>\n",
       "      <th>0</th>\n",
       "      <td>1/1/18 0:00</td>\n",
       "      <td>Gypsum</td>\n",
       "      <td>99.44</td>\n",
       "      <td>100.03</td>\n",
       "      <td>98.73</td>\n",
       "      <td>104.44</td>\n",
       "      <td>-15.15</td>\n",
       "      <td>-19.56</td>\n",
       "      <td>-11.00</td>\n",
       "      <td>-15.31</td>\n",
       "      <td>...</td>\n",
       "      <td>-1.18</td>\n",
       "      <td>-2.45</td>\n",
       "      <td>-1.33</td>\n",
       "      <td>-1.14</td>\n",
       "      <td>0.74</td>\n",
       "      <td>3.50</td>\n",
       "      <td>0.1377</td>\n",
       "      <td>0.1167</td>\n",
       "      <td>0.2665</td>\n",
       "      <td>0.2203</td>\n",
       "    </tr>\n",
       "    <tr>\n",
       "      <th>1</th>\n",
       "      <td>1/2/18 0:00</td>\n",
       "      <td>Gypsum</td>\n",
       "      <td>99.79</td>\n",
       "      <td>100.14</td>\n",
       "      <td>99.40</td>\n",
       "      <td>104.88</td>\n",
       "      <td>-16.48</td>\n",
       "      <td>-22.10</td>\n",
       "      <td>-10.40</td>\n",
       "      <td>-16.38</td>\n",
       "      <td>...</td>\n",
       "      <td>-1.56</td>\n",
       "      <td>-3.46</td>\n",
       "      <td>-2.10</td>\n",
       "      <td>-1.82</td>\n",
       "      <td>0.28</td>\n",
       "      <td>3.13</td>\n",
       "      <td>0.1234</td>\n",
       "      <td>0.1021</td>\n",
       "      <td>0.2642</td>\n",
       "      <td>0.2196</td>\n",
       "    </tr>\n",
       "    <tr>\n",
       "      <th>2</th>\n",
       "      <td>1/3/18 0:00</td>\n",
       "      <td>Gypsum</td>\n",
       "      <td>98.87</td>\n",
       "      <td>99.52</td>\n",
       "      <td>97.94</td>\n",
       "      <td>103.81</td>\n",
       "      <td>-11.03</td>\n",
       "      <td>-20.64</td>\n",
       "      <td>-2.71</td>\n",
       "      <td>-10.66</td>\n",
       "      <td>...</td>\n",
       "      <td>-1.49</td>\n",
       "      <td>-3.61</td>\n",
       "      <td>-2.21</td>\n",
       "      <td>-1.93</td>\n",
       "      <td>-0.08</td>\n",
       "      <td>2.76</td>\n",
       "      <td>0.1206</td>\n",
       "      <td>0.0965</td>\n",
       "      <td>0.2353</td>\n",
       "      <td>0.2189</td>\n",
       "    </tr>\n",
       "    <tr>\n",
       "      <th>3</th>\n",
       "      <td>1/4/18 0:00</td>\n",
       "      <td>Gypsum</td>\n",
       "      <td>98.22</td>\n",
       "      <td>98.54</td>\n",
       "      <td>97.90</td>\n",
       "      <td>102.99</td>\n",
       "      <td>-5.83</td>\n",
       "      <td>-11.79</td>\n",
       "      <td>0.24</td>\n",
       "      <td>-5.01</td>\n",
       "      <td>...</td>\n",
       "      <td>-0.98</td>\n",
       "      <td>-2.67</td>\n",
       "      <td>-1.60</td>\n",
       "      <td>-1.46</td>\n",
       "      <td>-0.21</td>\n",
       "      <td>2.45</td>\n",
       "      <td>0.1235</td>\n",
       "      <td>0.0973</td>\n",
       "      <td>0.2094</td>\n",
       "      <td>0.2182</td>\n",
       "    </tr>\n",
       "    <tr>\n",
       "      <th>4</th>\n",
       "      <td>1/5/18 0:00</td>\n",
       "      <td>Gypsum</td>\n",
       "      <td>98.10</td>\n",
       "      <td>98.42</td>\n",
       "      <td>97.75</td>\n",
       "      <td>102.88</td>\n",
       "      <td>-4.73</td>\n",
       "      <td>-14.22</td>\n",
       "      <td>5.36</td>\n",
       "      <td>-4.23</td>\n",
       "      <td>...</td>\n",
       "      <td>-0.72</td>\n",
       "      <td>-2.81</td>\n",
       "      <td>-1.54</td>\n",
       "      <td>-1.38</td>\n",
       "      <td>-0.25</td>\n",
       "      <td>2.25</td>\n",
       "      <td>0.1249</td>\n",
       "      <td>0.0976</td>\n",
       "      <td>0.2047</td>\n",
       "      <td>0.2180</td>\n",
       "    </tr>\n",
       "  </tbody>\n",
       "</table>\n",
       "<p>5 rows × 44 columns</p>\n",
       "</div>"
      ],
      "text/plain": [
       "     TIMESTAMP STATION  PRESSUREAVG  PRESSUREMAX  PRESSUREMIN  SLPAVG  \\\n",
       "0  1/1/18 0:00  Gypsum        99.44       100.03        98.73  104.44   \n",
       "1  1/2/18 0:00  Gypsum        99.79       100.14        99.40  104.88   \n",
       "2  1/3/18 0:00  Gypsum        98.87        99.52        97.94  103.81   \n",
       "3  1/4/18 0:00  Gypsum        98.22        98.54        97.90  102.99   \n",
       "4  1/5/18 0:00  Gypsum        98.10        98.42        97.75  102.88   \n",
       "\n",
       "   TEMP2MAVG  TEMP2MMIN  TEMP2MMAX  TEMP10MAVG  ...  SOILTMP10MAX  \\\n",
       "0     -15.15     -19.56     -11.00      -15.31  ...         -1.18   \n",
       "1     -16.48     -22.10     -10.40      -16.38  ...         -1.56   \n",
       "2     -11.03     -20.64      -2.71      -10.66  ...         -1.49   \n",
       "3      -5.83     -11.79       0.24       -5.01  ...         -0.98   \n",
       "4      -4.73     -14.22       5.36       -4.23  ...         -0.72   \n",
       "\n",
       "   SOILTMP10MIN  SOILTMP5AVG655  SOILTMP10AVG655  SOILTMP20AVG655  \\\n",
       "0         -2.45           -1.33            -1.14             0.74   \n",
       "1         -3.46           -2.10            -1.82             0.28   \n",
       "2         -3.61           -2.21            -1.93            -0.08   \n",
       "3         -2.67           -1.60            -1.46            -0.21   \n",
       "4         -2.81           -1.54            -1.38            -0.25   \n",
       "\n",
       "   SOILTMP50AVG655  VWC5CM  VWC10CM  VWC20CM  VWC50CM  \n",
       "0             3.50  0.1377   0.1167   0.2665   0.2203  \n",
       "1             3.13  0.1234   0.1021   0.2642   0.2196  \n",
       "2             2.76  0.1206   0.0965   0.2353   0.2189  \n",
       "3             2.45  0.1235   0.0973   0.2094   0.2182  \n",
       "4             2.25  0.1249   0.0976   0.2047   0.2180  \n",
       "\n",
       "[5 rows x 44 columns]"
      ]
     },
     "execution_count": 137,
     "metadata": {},
     "output_type": "execute_result"
    }
   ],
   "source": [
    "df = pd.read_csv(\"../datasets/gypsum_ks_daily_2018.csv\")\n",
    "df.head()\n"
   ]
  },
  {
   "cell_type": "code",
   "execution_count": 138,
   "metadata": {},
   "outputs": [
    {
     "data": {
      "text/plain": [
       "TIMESTAMP          0\n",
       "STATION            0\n",
       "PRESSUREAVG        0\n",
       "PRESSUREMAX        0\n",
       "PRESSUREMIN        0\n",
       "SLPAVG             0\n",
       "TEMP2MAVG          1\n",
       "TEMP2MMIN          1\n",
       "TEMP2MMAX          2\n",
       "TEMP10MAVG         0\n",
       "TEMP10MMIN         1\n",
       "TEMP10MMAX         2\n",
       "RELHUM2MAVG        0\n",
       "RELHUM2MMAX        0\n",
       "RELHUM2MMIN        1\n",
       "RELHUM10MAVG       0\n",
       "RELHUM10MMAX       0\n",
       "RELHUM10MMIN       1\n",
       "VPDEFAVG           1\n",
       "PRECIP             0\n",
       "SRAVG              0\n",
       "SR                 0\n",
       "WSPD2MAVG          0\n",
       "WSPD2MMAX          0\n",
       "WSPD10MAVG         0\n",
       "WSPD10MMAX         0\n",
       "WDIR2M             0\n",
       "WDIR2MSTD          0\n",
       "WDIR10M            0\n",
       "WDIR10MSTD         0\n",
       "SOILTMP5AVG        0\n",
       "SOILTMP5MAX        0\n",
       "SOILTMP5MIN        0\n",
       "SOILTMP10AVG       0\n",
       "SOILTMP10MAX       0\n",
       "SOILTMP10MIN       0\n",
       "SOILTMP5AVG655     0\n",
       "SOILTMP10AVG655    0\n",
       "SOILTMP20AVG655    0\n",
       "SOILTMP50AVG655    0\n",
       "VWC5CM             0\n",
       "VWC10CM            0\n",
       "VWC20CM            0\n",
       "VWC50CM            0\n",
       "dtype: int64"
      ]
     },
     "execution_count": 138,
     "metadata": {},
     "output_type": "execute_result"
    }
   ],
   "source": [
    "df.isna().sum()"
   ]
  },
  {
   "cell_type": "code",
   "execution_count": 139,
   "metadata": {},
   "outputs": [
    {
     "data": {
      "text/plain": [
       "178   NaN\n",
       "263   NaN\n",
       "Name: TEMP2MMAX, dtype: float64"
      ]
     },
     "execution_count": 139,
     "metadata": {},
     "output_type": "execute_result"
    }
   ],
   "source": [
    "# Get position of missing max air temperature at 2-m height\n",
    "idx = df[\"TEMP2MMAX\"].isna()\n",
    "df.loc[idx,\"TEMP2MMAX\"]\n"
   ]
  },
  {
   "cell_type": "code",
   "execution_count": 140,
   "metadata": {},
   "outputs": [
    {
     "data": {
      "image/png": "[encoded data removed]",
      "text/plain": [
       "<Figure size 720x432 with 1 Axes>"
      ]
     },
     "metadata": {
      "needs_background": "light"
     },
     "output_type": "display_data"
    }
   ],
   "source": [
    "# Interpolate missing data\n",
    "plt.figure(figsize=(10,6))\n",
    "plt.plot(df[\"TIMESTAMP\"], df[\"TEMP2MMAX\"].interpolate(method='polynomial', order=2), '--r')\n",
    "plt.plot(df[\"TIMESTAMP\"], df[\"TEMP2MMAX\"], '-k', linewidth=2)\n",
    "plt.ylabel('Max. air temperature at 2 m height (Celsius)')\n",
    "plt.show()\n"
   ]
  },
  {
   "cell_type": "markdown",
   "metadata": {},
   "source": [
    "## Daily to hourly data\n"
   ]
  },
  {
   "cell_type": "code",
   "execution_count": 141,
   "metadata": {},
   "outputs": [],
   "source": [
    "# Convert date strings to pandas datetime format\n",
    "df[\"TIMESTAMP\"] = pd.to_datetime(df[\"TIMESTAMP\"], format=\"%m/%d/%y %H:%M\")\n"
   ]
  },
  {
   "cell_type": "code",
   "execution_count": 142,
   "metadata": {},
   "outputs": [
    {
     "data": {
      "image/png": "[encoded data removed]",
      "text/plain": [
       "<Figure size 432x288 with 1 Axes>"
      ]
     },
     "metadata": {
      "needs_background": "light"
     },
     "output_type": "display_data"
    }
   ],
   "source": [
    "# Inspect data\n",
    "plt.plot(df[\"TIMESTAMP\"], df[\"VWC5CM\"])\n",
    "plt.show()\n"
   ]
  },
  {
   "cell_type": "markdown",
   "metadata": {},
   "source": [
    "When we use the `plot` command the library automatically connects consecutive points. In reality, individual observations should be represented using a scatter plot.\n"
   ]
  },
  {
   "cell_type": "code",
   "execution_count": 143,
   "metadata": {},
   "outputs": [
    {
     "data": {
      "image/png": "[encoded data removed]",
      "text/plain": [
       "<Figure size 432x288 with 1 Axes>"
      ]
     },
     "metadata": {
      "needs_background": "light"
     },
     "output_type": "display_data"
    }
   ],
   "source": [
    "plt.scatter(df[\"TIMESTAMP\"], df[\"VWC5CM\"], s=5)\n",
    "plt.show()"
   ]
  },
  {
   "cell_type": "markdown",
   "metadata": {},
   "source": [
    "For most applications daily time steps are adequate and either plot will suffice our objectives. But what if we need to estimate the sub-daily soil moisture based on daily values. Can we fill these gaps by interpolating the data? Can we use the same technique to fill in the gaps left by missing observations?\n"
   ]
  },
  {
   "cell_type": "code",
   "execution_count": 152,
   "metadata": {},
   "outputs": [
    {
     "data": {
      "text/html": [
       "<div>\n",
       "<style scoped>\n",
       "    .dataframe tbody tr th:only-of-type {\n",
       "        vertical-align: middle;\n",
       "    }\n",
       "\n",
       "    .dataframe tbody tr th {\n",
       "        vertical-align: top;\n",
       "    }\n",
       "\n",
       "    .dataframe thead th {\n",
       "        text-align: right;\n",
       "    }\n",
       "</style>\n",
       "<table border=\"1\" class=\"dataframe\">\n",
       "  <thead>\n",
       "    <tr style=\"text-align: right;\">\n",
       "      <th></th>\n",
       "      <th>TIMESTAMP</th>\n",
       "    </tr>\n",
       "  </thead>\n",
       "  <tbody>\n",
       "    <tr>\n",
       "      <th>0</th>\n",
       "      <td>2018-01-01 00:00:00</td>\n",
       "    </tr>\n",
       "    <tr>\n",
       "      <th>1</th>\n",
       "      <td>2018-01-01 01:00:00</td>\n",
       "    </tr>\n",
       "    <tr>\n",
       "      <th>2</th>\n",
       "      <td>2018-01-01 02:00:00</td>\n",
       "    </tr>\n",
       "    <tr>\n",
       "      <th>3</th>\n",
       "      <td>2018-01-01 03:00:00</td>\n",
       "    </tr>\n",
       "    <tr>\n",
       "      <th>4</th>\n",
       "      <td>2018-01-01 04:00:00</td>\n",
       "    </tr>\n",
       "  </tbody>\n",
       "</table>\n",
       "</div>"
      ],
      "text/plain": [
       "            TIMESTAMP\n",
       "0 2018-01-01 00:00:00\n",
       "1 2018-01-01 01:00:00\n",
       "2 2018-01-01 02:00:00\n",
       "3 2018-01-01 03:00:00\n",
       "4 2018-01-01 04:00:00"
      ]
     },
     "execution_count": 152,
     "metadata": {},
     "output_type": "execute_result"
    }
   ],
   "source": [
    "df_hourly = pd.DataFrame()\n",
    "df_hourly[\"TIMESTAMP\"] = pd.date_range(start=df[\"TIMESTAMP\"].iloc[0], end=df[\"TIMESTAMP\"].iloc[-1], freq='H')\n",
    "df_hourly.head()\n"
   ]
  },
  {
   "cell_type": "code",
   "execution_count": 153,
   "metadata": {},
   "outputs": [
    {
     "name": "stdout",
     "output_type": "stream",
     "text": [
      "Daily dataframe:  2018-01-01 00:00:00\n",
      "Daily dataframe:  2018-12-31 00:00:00\n",
      "Hourly dataframe:  2018-01-01 00:00:00\n",
      "Hourly dataframe:  2018-12-31 00:00:00\n"
     ]
    }
   ],
   "source": [
    "print(\"Daily dataframe: \", df[\"TIMESTAMP\"].iloc[0])\n",
    "print(\"Daily dataframe: \", df[\"TIMESTAMP\"].iloc[-1])\n",
    "\n",
    "print(\"Hourly dataframe: \", df_hourly[\"TIMESTAMP\"].iloc[0])\n",
    "print(\"Hourly dataframe: \", df_hourly[\"TIMESTAMP\"].iloc[-1])"
   ]
  },
  {
   "cell_type": "code",
   "execution_count": 154,
   "metadata": {},
   "outputs": [
    {
     "name": "stdout",
     "output_type": "stream",
     "text": [
      "(8737,)\n"
     ]
    },
    {
     "data": {
      "text/plain": [
       "0        True\n",
       "1       False\n",
       "2       False\n",
       "3       False\n",
       "4       False\n",
       "        ...  \n",
       "8732    False\n",
       "8733    False\n",
       "8734    False\n",
       "8735    False\n",
       "8736     True\n",
       "Name: TIMESTAMP, Length: 8737, dtype: bool"
      ]
     },
     "execution_count": 154,
     "metadata": {},
     "output_type": "execute_result"
    }
   ],
   "source": [
    "idx_timestamp = df_hourly[\"TIMESTAMP\"].isin(df[\"TIMESTAMP\"])\n",
    "print(idx_timestamp.shape)\n",
    "idx_timestamp\n"
   ]
  },
  {
   "cell_type": "code",
   "execution_count": 155,
   "metadata": {},
   "outputs": [
    {
     "data": {
      "text/html": [
       "<div>\n",
       "<style scoped>\n",
       "    .dataframe tbody tr th:only-of-type {\n",
       "        vertical-align: middle;\n",
       "    }\n",
       "\n",
       "    .dataframe tbody tr th {\n",
       "        vertical-align: top;\n",
       "    }\n",
       "\n",
       "    .dataframe thead th {\n",
       "        text-align: right;\n",
       "    }\n",
       "</style>\n",
       "<table border=\"1\" class=\"dataframe\">\n",
       "  <thead>\n",
       "    <tr style=\"text-align: right;\">\n",
       "      <th></th>\n",
       "      <th>TIMESTAMP</th>\n",
       "      <th>VWC5CM</th>\n",
       "    </tr>\n",
       "  </thead>\n",
       "  <tbody>\n",
       "    <tr>\n",
       "      <th>0</th>\n",
       "      <td>2018-01-01 00:00:00</td>\n",
       "      <td>NaN</td>\n",
       "    </tr>\n",
       "    <tr>\n",
       "      <th>1</th>\n",
       "      <td>2018-01-01 01:00:00</td>\n",
       "      <td>NaN</td>\n",
       "    </tr>\n",
       "    <tr>\n",
       "      <th>2</th>\n",
       "      <td>2018-01-01 02:00:00</td>\n",
       "      <td>NaN</td>\n",
       "    </tr>\n",
       "    <tr>\n",
       "      <th>3</th>\n",
       "      <td>2018-01-01 03:00:00</td>\n",
       "      <td>NaN</td>\n",
       "    </tr>\n",
       "    <tr>\n",
       "      <th>4</th>\n",
       "      <td>2018-01-01 04:00:00</td>\n",
       "      <td>NaN</td>\n",
       "    </tr>\n",
       "  </tbody>\n",
       "</table>\n",
       "</div>"
      ],
      "text/plain": [
       "            TIMESTAMP  VWC5CM\n",
       "0 2018-01-01 00:00:00     NaN\n",
       "1 2018-01-01 01:00:00     NaN\n",
       "2 2018-01-01 02:00:00     NaN\n",
       "3 2018-01-01 03:00:00     NaN\n",
       "4 2018-01-01 04:00:00     NaN"
      ]
     },
     "execution_count": 155,
     "metadata": {},
     "output_type": "execute_result"
    }
   ],
   "source": [
    "df_hourly[\"VWC5CM\"] = np.nan\n",
    "df_hourly.head()\n"
   ]
  },
  {
   "cell_type": "code",
   "execution_count": 159,
   "metadata": {},
   "outputs": [
    {
     "name": "stderr",
     "output_type": "stream",
     "text": [
      "/opt/anaconda3/lib/python3.7/site-packages/pandas/core/indexing.py:670: SettingWithCopyWarning: \n",
      "A value is trying to be set on a copy of a slice from a DataFrame\n",
      "\n",
      "See the caveats in the documentation: https://pandas.pydata.org/pandas-docs/stable/user_guide/indexing.html#returning-a-view-versus-a-copy\n",
      "  self._setitem_with_indexer(indexer, value)\n"
     ]
    }
   ],
   "source": [
    "#df_hourly.loc[idx_timestamp,\"VWC5CM\"] = df[\"VWC5CM\"]\n",
    "\n",
    "#df_hourly = df_hourly.merge(df, how='left', left_on='TIMESTAMP', right_on='TIMESTAMP')\n",
    "#df_hourly.head(50)\n",
    "\n",
    "for i in range(df.shape[0]):\n",
    "    for j in range(df_hourly.shape[0]):\n",
    "        if df[\"TIMESTAMP\"][i] == df_hourly[\"TIMESTAMP\"][j]:\n",
    "            df_hourly[\"VWC5CM\"].iloc[j] = df[\"VWC5CM\"].iloc[i]\n",
    "            "
   ]
  },
  {
   "cell_type": "code",
   "execution_count": 161,
   "metadata": {},
   "outputs": [
    {
     "data": {
      "text/html": [
       "<div>\n",
       "<style scoped>\n",
       "    .dataframe tbody tr th:only-of-type {\n",
       "        vertical-align: middle;\n",
       "    }\n",
       "\n",
       "    .dataframe tbody tr th {\n",
       "        vertical-align: top;\n",
       "    }\n",
       "\n",
       "    .dataframe thead th {\n",
       "        text-align: right;\n",
       "    }\n",
       "</style>\n",
       "<table border=\"1\" class=\"dataframe\">\n",
       "  <thead>\n",
       "    <tr style=\"text-align: right;\">\n",
       "      <th></th>\n",
       "      <th>TIMESTAMP</th>\n",
       "      <th>VWC5CM</th>\n",
       "      <th>VWC5CM_linear</th>\n",
       "      <th>VWC5CM_poly2</th>\n",
       "      <th>VWC5CM_pchip</th>\n",
       "    </tr>\n",
       "  </thead>\n",
       "  <tbody>\n",
       "    <tr>\n",
       "      <th>0</th>\n",
       "      <td>2018-01-01 00:00:00</td>\n",
       "      <td>0.1377</td>\n",
       "      <td>0.137700</td>\n",
       "      <td>0.137700</td>\n",
       "      <td>0.137700</td>\n",
       "    </tr>\n",
       "    <tr>\n",
       "      <th>1</th>\n",
       "      <td>2018-01-01 01:00:00</td>\n",
       "      <td>NaN</td>\n",
       "      <td>0.137104</td>\n",
       "      <td>0.136859</td>\n",
       "      <td>0.136868</td>\n",
       "    </tr>\n",
       "    <tr>\n",
       "      <th>2</th>\n",
       "      <td>2018-01-01 02:00:00</td>\n",
       "      <td>NaN</td>\n",
       "      <td>0.136508</td>\n",
       "      <td>0.136040</td>\n",
       "      <td>0.136044</td>\n",
       "    </tr>\n",
       "    <tr>\n",
       "      <th>3</th>\n",
       "      <td>2018-01-01 03:00:00</td>\n",
       "      <td>NaN</td>\n",
       "      <td>0.135912</td>\n",
       "      <td>0.135242</td>\n",
       "      <td>0.135231</td>\n",
       "    </tr>\n",
       "    <tr>\n",
       "      <th>4</th>\n",
       "      <td>2018-01-01 04:00:00</td>\n",
       "      <td>NaN</td>\n",
       "      <td>0.135317</td>\n",
       "      <td>0.134465</td>\n",
       "      <td>0.134429</td>\n",
       "    </tr>\n",
       "    <tr>\n",
       "      <th>...</th>\n",
       "      <td>...</td>\n",
       "      <td>...</td>\n",
       "      <td>...</td>\n",
       "      <td>...</td>\n",
       "      <td>...</td>\n",
       "    </tr>\n",
       "    <tr>\n",
       "      <th>8732</th>\n",
       "      <td>2018-12-30 20:00:00</td>\n",
       "      <td>NaN</td>\n",
       "      <td>0.339033</td>\n",
       "      <td>0.339185</td>\n",
       "      <td>0.338985</td>\n",
       "    </tr>\n",
       "    <tr>\n",
       "      <th>8733</th>\n",
       "      <td>2018-12-30 21:00:00</td>\n",
       "      <td>NaN</td>\n",
       "      <td>0.338600</td>\n",
       "      <td>0.338720</td>\n",
       "      <td>0.338562</td>\n",
       "    </tr>\n",
       "    <tr>\n",
       "      <th>8734</th>\n",
       "      <td>2018-12-30 22:00:00</td>\n",
       "      <td>NaN</td>\n",
       "      <td>0.338167</td>\n",
       "      <td>0.338250</td>\n",
       "      <td>0.338140</td>\n",
       "    </tr>\n",
       "    <tr>\n",
       "      <th>8735</th>\n",
       "      <td>2018-12-30 23:00:00</td>\n",
       "      <td>NaN</td>\n",
       "      <td>0.337733</td>\n",
       "      <td>0.337777</td>\n",
       "      <td>0.337719</td>\n",
       "    </tr>\n",
       "    <tr>\n",
       "      <th>8736</th>\n",
       "      <td>2018-12-31 00:00:00</td>\n",
       "      <td>0.3373</td>\n",
       "      <td>0.337300</td>\n",
       "      <td>0.337300</td>\n",
       "      <td>0.337300</td>\n",
       "    </tr>\n",
       "  </tbody>\n",
       "</table>\n",
       "<p>8737 rows × 5 columns</p>\n",
       "</div>"
      ],
      "text/plain": [
       "               TIMESTAMP  VWC5CM  VWC5CM_linear  VWC5CM_poly2  VWC5CM_pchip\n",
       "0    2018-01-01 00:00:00  0.1377       0.137700      0.137700      0.137700\n",
       "1    2018-01-01 01:00:00     NaN       0.137104      0.136859      0.136868\n",
       "2    2018-01-01 02:00:00     NaN       0.136508      0.136040      0.136044\n",
       "3    2018-01-01 03:00:00     NaN       0.135912      0.135242      0.135231\n",
       "4    2018-01-01 04:00:00     NaN       0.135317      0.134465      0.134429\n",
       "...                  ...     ...            ...           ...           ...\n",
       "8732 2018-12-30 20:00:00     NaN       0.339033      0.339185      0.338985\n",
       "8733 2018-12-30 21:00:00     NaN       0.338600      0.338720      0.338562\n",
       "8734 2018-12-30 22:00:00     NaN       0.338167      0.338250      0.338140\n",
       "8735 2018-12-30 23:00:00     NaN       0.337733      0.337777      0.337719\n",
       "8736 2018-12-31 00:00:00  0.3373       0.337300      0.337300      0.337300\n",
       "\n",
       "[8737 rows x 5 columns]"
      ]
     },
     "execution_count": 161,
     "metadata": {},
     "output_type": "execute_result"
    }
   ],
   "source": [
    "df_hourly[\"VWC5CM_linear\"] = df_hourly[\"VWC5CM\"].interpolate(method='linear')\n",
    "df_hourly[\"VWC5CM_poly2\"] = df_hourly[\"VWC5CM\"].interpolate(method='polynomial', order=2)\n",
    "df_hourly[\"VWC5CM_pchip\"] = df_hourly[\"VWC5CM\"].interpolate(method='pchip')\n",
    "df_hourly\n"
   ]
  },
  {
   "cell_type": "code",
   "execution_count": 227,
   "metadata": {},
   "outputs": [
    {
     "data": {
      "image/png": "[encoded data removed]",
      "text/plain": [
       "<Figure size 864x432 with 1 Axes>"
      ]
     },
     "metadata": {
      "needs_background": "light"
     },
     "output_type": "display_data"
    }
   ],
   "source": [
    "plt.figure(figsize=(12,6))\n",
    "plt.scatter(df[\"TIMESTAMP\"],df[\"VWC5CM\"], marker='s', s=50, facecolor='k')\n",
    "plt.plot(df_hourly[\"TIMESTAMP\"], df_hourly[\"VWC5CM_linear\"], '--b', alpha=1, linewidth=2)\n",
    "plt.plot(df_hourly[\"TIMESTAMP\"], df_hourly[\"VWC5CM_poly2\"], ':g', alpha=1, linewidth=3)\n",
    "plt.plot(df_hourly[\"TIMESTAMP\"], df_hourly[\"VWC5CM_pchip\"], '-k', alpha=1, linewidth=2)\n",
    "#plt.scatter(df_hourly[\"TIMESTAMP\"], df_hourly[\"VWC5CM_linear\"], marker='+', s=40, alpha=1)\n",
    "\n",
    "plt.xlim(df_hourly[\"TIMESTAMP\"].iloc[4150], df_hourly[\"TIMESTAMP\"].iloc[4300])\n",
    "plt.xticks(rotation=45)\n",
    "plt.show()\n"
   ]
  }
 ],
 "metadata": {
  "kernelspec": {
   "display_name": "Python 3",
   "language": "python",
   "name": "python3"
  },
  "language_info": {
   "codemirror_mode": {
    "name": "ipython",
    "version": 3
   },
   "file_extension": ".py",
   "mimetype": "text/x-python",
   "name": "python",
   "nbconvert_exporter": "python",
   "pygments_lexer": "ipython3",
   "version": "3.8.5"
  }
 },
 "nbformat": 4,
 "nbformat_minor": 4
}
