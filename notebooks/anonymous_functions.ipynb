{
 "cells": [
  {
   "cell_type": "markdown",
   "metadata": {},
   "source": [
    "# Lambda Functions\n",
    "\n",
    "Lambda functions (also known as anonymous functions) are not defined or stored in a file or cell. Anonymous functions are typically short, one-line, and/or code-specific functions that may not warrant the effort to store them as a separate function. \n",
    "\n",
    "In Python, anonymous functions are called `lambda` functions, which to some extent it makes total sense because they are not really \"anonymous\". We do actually give them names, so that we can use (call, invoke) these functions at later steps in our code.\n",
    "\n",
    "You will typically find or use `lambda` functions when passing formulas into optimization routines, but they can be used in lots of different scenarios.\n"
   ]
  },
  {
   "cell_type": "markdown",
   "metadata": {},
   "source": [
    "## Fahrenheit to Celsius\n",
    "Imagine a code in which the user passes data in degrees Fahrenheit and we need to convert these data into degrees Celsius. Instead of typing the equation every time you need to conver temperatures, we can write the expression for converting temperature units into a `lambda` function that we can call whenever we need it. Functions are just that, code encapsulated behind a name that we can invoke by simply calling its name. This way we avoid repeating code and we minimize the risk of making mistakes since we only write the main equation one time.\n",
    "\n",
    "$$C = \\frac{5}{9}(F-32)$$\n",
    "\n",
    "The function can then be implemetned and used as follows:"
   ]
  },
  {
   "cell_type": "code",
   "execution_count": 15,
   "metadata": {},
   "outputs": [
    {
     "data": {
      "text/plain": [
       "100.0"
      ]
     },
     "execution_count": 15,
     "metadata": {},
     "output_type": "execute_result"
    }
   ],
   "source": [
    "fahrenheitToCelsius = lambda F: 5/9*(F-32)\n",
    "fahrenheitToCelsius(212)"
   ]
  },
  {
   "cell_type": "markdown",
   "metadata": {},
   "source": [
    "It makes sense, 212 degrees Fahrenheit are indeed equivalent to 100 degrees Celsius, which is the boiling temperature for water. Now you can call `fahrenheitToCelsius()` anywhere you want, even in other cells of the Jupyter Notebook."
   ]
  },
  {
   "cell_type": "markdown",
   "metadata": {},
   "source": [
    "## Polynomials\n",
    "\n",
    "Polynomials are simple mathematical expressions that become handy in countless scenarios. Below is an example of a second order (i.e. quadratic) polynomial.\n",
    "\n",
    "$$ y = \\beta_1 + \\beta_2 \\; x + \\beta_3 \\; x^2$$\n",
    "\n"
   ]
  },
  {
   "cell_type": "code",
   "execution_count": 1,
   "metadata": {},
   "outputs": [
    {
     "data": {
      "text/plain": [
       "1241"
      ]
     },
     "execution_count": 1,
     "metadata": {},
     "output_type": "execute_result"
    }
   ],
   "source": [
    "poly2 = lambda b1,b2,b3,x : b1 + b2*x + b3*x**2\n",
    "poly2(1,2,3,20)"
   ]
  },
  {
   "cell_type": "markdown",
   "metadata": {},
   "source": [
    "## Saturation vapor pressure\n",
    "\n",
    "Sometimes the computation of a specific variable (e.g. vapor pressure) can be done for all the temperature and relative humidity data at one time using Numpy arrays. However, if we are writing a simple Python script that requires computation of vepor pressure in multiple places, let's say within a for loop, then using a lambda function can become practical. Again, one of the best advantages is that we code the formula only once, minimizing the chances of introducing typos, particularly, when typing coefficients.\n",
    "\n",
    "$$e = 0.611 \\; exp\\Bigg(\\frac{17.502 T} {T + 240.97}\\Bigg)$$"
   ]
  },
  {
   "cell_type": "code",
   "execution_count": 11,
   "metadata": {},
   "outputs": [
    {
     "data": {
      "text/plain": [
       "3.165946398560656"
      ]
     },
     "execution_count": 11,
     "metadata": {},
     "output_type": "execute_result"
    }
   ],
   "source": [
    "import math\n",
    "e_sat = lambda T : 0.611 * math.exp((17.502*T)/(T+240.97)) # Result is in kPa. T is in degrees Celsius\n",
    "e_sat(25) # Example for T = 25 Celsius"
   ]
  },
  {
   "cell_type": "markdown",
   "metadata": {},
   "source": [
    "## Volume of tree trunk\n",
    "\n",
    "Trunk volume is used in forestry and ecology to document and track the size of trees. While the actual shape of a trunk can be complex, its cylindricity allow us to make fairly good estimations using simple measurements such as trunk diameter and height.\n",
    "\n",
    "Some of the Giant Sequoias can have trunk volumes of up to 1,486.9 m$^3$, which is about half the volume of an olympic swimming pool (50 m x 25 m x 2 m).\n",
    "\n",
    "$$ V = \\frac{\\pi \\; h \\; (r_1^2 + r_1^2 + r_1 r_2)}{3} $$\n",
    "\n",
    "You can learn more about measuring tree volume at <https://www.wikiwand.com/en/Tree_volume_measurement>"
   ]
  },
  {
   "cell_type": "code",
   "execution_count": 9,
   "metadata": {},
   "outputs": [
    {
     "data": {
      "text/plain": [
       "1319.468914507713"
      ]
     },
     "execution_count": 9,
     "metadata": {},
     "output_type": "execute_result"
    }
   ],
   "source": [
    "import math\n",
    "trunk_vol = lambda r1,r2,h: (math.pi * h * (r1**2 + r2**2 + r1*r2))/3\n",
    "\n",
    "r_base = 4  # meters\n",
    "r_top = 1   # meters\n",
    "height = 60 # meters\n",
    "trunk_vol(r_base,r_top,height) # meters^3\n"
   ]
  }
 ],
 "metadata": {
  "kernelspec": {
   "display_name": "Python 3",
   "language": "python",
   "name": "python3"
  },
  "language_info": {
   "codemirror_mode": {
    "name": "ipython",
    "version": 3
   },
   "file_extension": ".py",
   "mimetype": "text/x-python",
   "name": "python",
   "nbconvert_exporter": "python",
   "pygments_lexer": "ipython3",
   "version": "3.8.5"
  }
 },
 "nbformat": 4,
 "nbformat_minor": 4
}
