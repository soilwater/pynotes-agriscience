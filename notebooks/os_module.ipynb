{
 "cells": [
  {
   "cell_type": "markdown",
   "metadata": {},
   "source": [
    "# Operating system module\n",
    "\n",
    "The OS module is extremely useful to navigate directories and load and save data in different locations of your computer. Here we cover the most common functions within the module:\n",
    "\n",
    "- `getcwd()`   = get current working directory\n",
    "- `os.sep`    = directory separator '/' in macs and '\\' in Windows\n",
    "- `os.chdir()` = change directory. See that in Python is slightly different than in the terminal\n",
    "\n",
    "We will first learn how to gather information and then how to navigate the directory."
   ]
  },
  {
   "cell_type": "code",
   "execution_count": null,
   "metadata": {},
   "outputs": [],
   "source": [
    "import os"
   ]
  },
  {
   "cell_type": "markdown",
   "metadata": {},
   "source": [
    "## Access directory information"
   ]
  },
  {
   "cell_type": "code",
   "execution_count": 32,
   "metadata": {},
   "outputs": [
    {
     "name": "stdout",
     "output_type": "stream",
     "text": [
      "/Users/andrespatrignani/Desktop\n",
      "<class 'str'>\n"
     ]
    }
   ],
   "source": [
    "# Get current working directory (cwd)\n",
    "my_dir = os.getcwd()  \n",
    "print(my_dir)\n",
    "print(type(my_dir))   # Print type. It should be a string\n"
   ]
  },
  {
   "cell_type": "code",
   "execution_count": 33,
   "metadata": {},
   "outputs": [
    {
     "name": "stdout",
     "output_type": "stream",
     "text": [
      "['', 'Users', 'andrespatrignani', 'Desktop']\n",
      "<class 'list'>\n",
      "/\n"
     ]
    }
   ],
   "source": [
    "# Split full path at each slash. Windows has a back slash (\\) and Mac has a forward slash (/) to \n",
    "# separate diretories.\n",
    "\n",
    "my_var  = os.getcwd().split(os.sep)\n",
    "print(my_var)        # Print list\n",
    "print(type(my_var))  # Type list. The split function converts it from string to list, so that we can access individual items.\n",
    "\n",
    "print(os.sep)        # Prints the slash accoridng to your system. Handy when sharing code between different platforms.\n"
   ]
  },
  {
   "cell_type": "code",
   "execution_count": 35,
   "metadata": {},
   "outputs": [
    {
     "name": "stdout",
     "output_type": "stream",
     "text": [
      "Users\n",
      "Desktop\n"
     ]
    }
   ],
   "source": [
    "# Access first folder name in the list (the zero index is empty)\n",
    "foldername = my_var[1]\n",
    "print(foldername)\n",
    "\n",
    "# Access last folder name in the list\n",
    "print(os.getcwd().split(os.sep)[-1])"
   ]
  },
  {
   "cell_type": "markdown",
   "metadata": {},
   "source": [
    "## Navigate directory with Python\n",
    "\n",
    "Changing directories using Python commands will enable you to load files and access data located in different folders. \n",
    ">**Note** that the file navigation bar on the left of the Jupyter Lab and the Python interprer can be in different directories. In other words, when you change the directory using Python, the navigation bar on the left of the Jupyter Lab will not change. They are independent and you need to focus on the Python interpreter for this to work."
   ]
  },
  {
   "cell_type": "code",
   "execution_count": 36,
   "metadata": {},
   "outputs": [
    {
     "name": "stdout",
     "output_type": "stream",
     "text": [
      "/Users/andrespatrignani/Desktop/Coding/sandbox\n",
      "/Users/andrespatrignani/Desktop/Coding\n",
      "/Users/andrespatrignani/Desktop/Coding/sandbox\n",
      "/Users/andrespatrignani/Desktop\n"
     ]
    }
   ],
   "source": [
    "# Navigation\n",
    "\n",
    "# Go to a specific directory:\n",
    "os.chdir(\"/Users/andrespatrignani/Desktop/Coding/sandbox/\")\n",
    "\n",
    "# You can type the tilde character followed by the Tab key to auto-complete the home directory:\n",
    "# os.chdir(\"~/Desktop/Coding/sandbox/\")\n",
    "\n",
    "# If in doubt, just get the current working directory with the following command:\n",
    "print(os.getcwd())\n",
    "\n",
    "# Navigate one directory up (outside current folder)\n",
    "os.chdir(\"..\")\n",
    "\n",
    "# Find again where the Python is:\n",
    "print(os.getcwd())\n",
    "\n",
    "# Navigate back into one of the folders\n",
    "os.chdir(\"sandbox/\")\n",
    "\n",
    "# Find again where Python is:\n",
    "print(os.getcwd())\n",
    "\n",
    "# Navigate two directories up (outside current folder)\n",
    "# I will use os.sep to automatically insert the correct slash. Try print(os.sep)\n",
    "os.chdir(\"..\" + os.sep + \"..\") # Same as: os.chdir(\"../..\") or os.chdir(\"..\\..\") \n",
    "\n",
    "# Find again where the Python  is:\n",
    "print(os.getcwd())"
   ]
  },
  {
   "cell_type": "markdown",
   "metadata": {},
   "source": [
    "## List files"
   ]
  },
  {
   "cell_type": "code",
   "execution_count": 42,
   "metadata": {},
   "outputs": [
    {
     "data": {
      "text/plain": [
       "['.DS_Store',\n",
       " '.ipynb_checkpoints',\n",
       " '.localized',\n",
       " 'abstract_example.pdf',\n",
       " 'apatrig',\n",
       " 'apatrigksu',\n",
       " 'api_state_sm.m',\n",
       " 'background_soil.jpg']"
      ]
     },
     "execution_count": 42,
     "metadata": {},
     "output_type": "execute_result"
    }
   ],
   "source": [
    "# List all files in current directory (including hidden files)\n",
    "os.listdir()"
   ]
  }
 ],
 "metadata": {
  "kernelspec": {
   "display_name": "Python 3",
   "language": "python",
   "name": "python3"
  },
  "language_info": {
   "codemirror_mode": {
    "name": "ipython",
    "version": 3
   },
   "file_extension": ".py",
   "mimetype": "text/x-python",
   "name": "python",
   "nbconvert_exporter": "python",
   "pygments_lexer": "ipython3",
   "version": "3.7.0"
  }
 },
 "nbformat": 4,
 "nbformat_minor": 2
}
