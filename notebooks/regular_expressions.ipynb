{
 "cells": [
  {
   "cell_type": "markdown",
   "metadata": {},
   "source": [
    "# Regular Expressions\n",
    "\n",
    "One of the most useful coding skills when heavily working with text and text patterns. In Environmental Sciences data in the form of text is far less common than in other disciplines like journalism, history, and digital humanities. Nonetheless, matching of string patterns becomes relevant when trying to decode the genetic code represented as a sequence of nucleotides or proteins represented by sequences of aminoacids.\n",
    "\n",
    "In this exercise we will learn the basics of regular expressions (regexp for short). A regular expression is a sequence of characters that follow a specific syntax and are used to express a search pattern within a string. \n",
    "\n",
    "The fact that we don't typically use regular expressions in Environmental Sciences does not mean that there is no potential. Beyond genomics, regular expressions could be useful to match plot or sample identification numbers, reading specific files, and efficiently conducting literature research.\n",
    "\n",
    "Official documentation: https://docs.python.org/3/library/re.html"
   ]
  },
  {
   "cell_type": "code",
   "execution_count": 53,
   "metadata": {},
   "outputs": [],
   "source": [
    "# Import modules\n",
    "import re\n"
   ]
  },
  {
   "cell_type": "code",
   "execution_count": 87,
   "metadata": {},
   "outputs": [],
   "source": [
    "# Some random DNA sequence as a sample text to get us started\n",
    "# This DNA contains 4 random sequences of 18 bases each\n",
    "# Source: https://www.bioinformatics.org/sms2/random_coding_dna.html\n",
    "DNA = 'atggcgcacggaccctagatgcgacgtccgtactaaatgcagcaacacgtgtagatgcggcggtcgcaatga'\n"
   ]
  },
  {
   "cell_type": "code",
   "execution_count": 86,
   "metadata": {},
   "outputs": [
    {
     "name": "stdout",
     "output_type": "stream",
     "text": [
      "22\n",
      "22\n"
     ]
    }
   ],
   "source": [
    "# Count the number of Guanine\n",
    "guanine = re.findall('g', DNA)\n",
    "print(len(guanine))\n",
    "\n",
    "# Alternative solution using the built-in count( method)\n",
    "# This is to remind you that there isn't always need for a library\n",
    "print(DNA.count('g'))\n"
   ]
  },
  {
   "cell_type": "code",
   "execution_count": 85,
   "metadata": {},
   "outputs": [
    {
     "name": "stdout",
     "output_type": "stream",
     "text": [
      "0.57\n"
     ]
    }
   ],
   "source": [
    "# Chargaff's rule states that the GC ratio should be 0.5\n",
    "# Now we can use the full power of the regular expressions \n",
    "# module using the 'set' operator\n",
    "gc = re.findall('[gc]', DNA)\n",
    "chargaff_rule = len(gc) / len(DNA)\n",
    "print(round(chargaff_rule,2))\n"
   ]
  },
  {
   "cell_type": "code",
   "execution_count": 84,
   "metadata": {},
   "outputs": [
    {
     "name": "stdout",
     "output_type": "stream",
     "text": [
      "auggcgcacggacccuagaugcgacguccguacuaaaugcagcaacacguguagaugcggcggucgcaauga\n"
     ]
    }
   ],
   "source": [
    "# Substitute Thymine for Uracil (i.e. replace t for u)\n",
    "# This will convert DNA into RNA\n",
    "RNA = re.sub(\"t\", \"u\", DNA)\n",
    "print(RNA)\n"
   ]
  },
  {
   "cell_type": "code",
   "execution_count": 60,
   "metadata": {},
   "outputs": [
    {
     "name": "stdout",
     "output_type": "stream",
     "text": [
      "['aug', 'aug', 'aug', 'aug', 'aug']\n",
      "5\n"
     ]
    }
   ],
   "source": [
    "# Find all methinine codons 'aug'\n",
    "start_codons = re.findall('aug',RNA)\n",
    "print(start_codons)\n",
    "print(len(start_codons))\n",
    "\n",
    "# There is an extra 'aug'"
   ]
  },
  {
   "cell_type": "code",
   "execution_count": null,
   "metadata": {},
   "outputs": [],
   "source": [
    "re.finditer"
   ]
  },
  {
   "cell_type": "code",
   "execution_count": 80,
   "metadata": {},
   "outputs": [
    {
     "name": "stdout",
     "output_type": "stream",
     "text": [
      "['uag', 'uaa', 'uag', 'uga']\n"
     ]
    }
   ],
   "source": [
    "# Find all stop codons: uaa, uag, uga using the 'or' operator\n",
    "stop_codons = re.findall('uaa|uag|uga',RNA)\n",
    "print(stop_codons)\n"
   ]
  },
  {
   "cell_type": "code",
   "execution_count": null,
   "metadata": {},
   "outputs": [],
   "source": [
    "re.search('aug', RNA)"
   ]
  },
  {
   "cell_type": "code",
   "execution_count": 56,
   "metadata": {},
   "outputs": [
    {
     "name": "stdout",
     "output_type": "stream",
     "text": [
      "0\n",
      "3\n",
      "(0, 3)\n"
     ]
    }
   ],
   "source": [
    "# Find position of starting codons for Methionine (aug)\n",
    "methionine = re.search('aug', RNA)\n",
    "print(methionine.start())\n",
    "print(methionine.end())\n",
    "print(methionine.span()) # Returns both start and end in a tuple\n"
   ]
  },
  {
   "cell_type": "code",
   "execution_count": null,
   "metadata": {},
   "outputs": [],
   "source": [
    "# Find position of starting codon for Methionine (aug)\n",
    "methionine = re.search('aug', RNA)\n",
    "print(methionine.start())\n",
    "print(methionine.end())\n",
    "print(methionine.span()) # Returns both start and end in a tuple\n"
   ]
  },
  {
   "cell_type": "code",
   "execution_count": 90,
   "metadata": {},
   "outputs": [
    {
     "name": "stdout",
     "output_type": "stream",
     "text": [
      "['auggcgcacggaccc', 'augcgacguccguac', 'augcagcaacacgug', 'augcggcggucgcaa', '']\n"
     ]
    }
   ],
   "source": [
    "# Split RNA at the stop codons. Note that stop codons have been removed from the resulting list\n",
    "splitted_RNA = re.split(\"uaa|uag|uga\", RNA)\n",
    "print(splitted_RNA)\n"
   ]
  },
  {
   "cell_type": "code",
   "execution_count": 174,
   "metadata": {},
   "outputs": [],
   "source": [
    "# Example with serial numbers (match last four digits)\n",
    "stations_string = 'Ottawa 20SE,Tribune 6NE,Ashland 8S,Elmdale 1SE,Belleville 2W'\n"
   ]
  },
  {
   "cell_type": "code",
   "execution_count": 189,
   "metadata": {},
   "outputs": [
    {
     "data": {
      "text/plain": [
       "['Ottawa', 'Tribune', 'Ashland', 'Elmdale', 'Belleville']"
      ]
     },
     "execution_count": 189,
     "metadata": {},
     "output_type": "execute_result"
    }
   ],
   "source": [
    "re.findall('[A-Z]+[a-z]+', stations_string)\n"
   ]
  },
  {
   "cell_type": "code",
   "execution_count": 190,
   "metadata": {},
   "outputs": [
    {
     "data": {
      "text/plain": [
       "['20', '6', '8', '1', '2']"
      ]
     },
     "execution_count": 190,
     "metadata": {},
     "output_type": "execute_result"
    }
   ],
   "source": [
    "re.findall('\\d+', stations_string)\n"
   ]
  },
  {
   "cell_type": "code",
   "execution_count": 191,
   "metadata": {},
   "outputs": [
    {
     "data": {
      "text/plain": [
       "['SE', 'NE', 'S', 'SE', 'W']"
      ]
     },
     "execution_count": 191,
     "metadata": {},
     "output_type": "execute_result"
    }
   ],
   "source": [
    "re.findall('\\B[A-Z][A-Z]?', stations_string)\n"
   ]
  },
  {
   "cell_type": "markdown",
   "metadata": {},
   "source": [
    "`\\B` located at the beginning of the statements means: not at the beginning of the string\n",
    "\n",
    "`[A-Z]` any upper case letter\n",
    "\n",
    "`[A-Z]?` optionally followed by a seconda any upper case letter"
   ]
  },
  {
   "cell_type": "markdown",
   "metadata": {},
   "source": [
    "## References\n",
    "\n",
    "https://docs.python.org/3/library/re.html"
   ]
  }
 ],
 "metadata": {
  "kernelspec": {
   "display_name": "Python 3",
   "language": "python",
   "name": "python3"
  },
  "language_info": {
   "codemirror_mode": {
    "name": "ipython",
    "version": 3
   },
   "file_extension": ".py",
   "mimetype": "text/x-python",
   "name": "python",
   "nbconvert_exporter": "python",
   "pygments_lexer": "ipython3",
   "version": "3.7.6"
  }
 },
 "nbformat": 4,
 "nbformat_minor": 4
}
