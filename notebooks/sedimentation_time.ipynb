{
 "cells": [
  {
   "cell_type": "markdown",
   "metadata": {},
   "source": [
    "# Sedimentation time\n",
    "\n",
    "The first example is about computing the time that it takes for a particle of a given diameter to settle down in a lake of a given depth using Stoke's law. Stoke's law assumes:\n",
    "\n",
    "- Laminar flow (non-turbulent)\n",
    "- Particles do not interact with each other\n",
    "- Particles are round\n",
    "- Particles settle down at constant velocity (no acceleration, this the terminal velocity). This is the point where drag force and buoyant force are equal to the gravitational force.\n",
    "\n",
    "The terminal velocity $u$ according to Stoke's law is given by:\n",
    "\n",
    "$$ u = \\frac{d^2 \\; g \\; (\\rho_s - \\rho_f)}{18 \\; \\eta}$$"
   ]
  },
  {
   "cell_type": "code",
   "execution_count": 1,
   "metadata": {},
   "outputs": [],
   "source": [
    "# Import modules\n",
    "import datetime\n"
   ]
  },
  {
   "cell_type": "code",
   "execution_count": 1,
   "metadata": {},
   "outputs": [
    {
     "name": "stdout",
     "output_type": "stream",
     "text": [
      "Typical particle diameters: sand=0.5 mm, silt=0.05 mm, and clay=0.0005 mm\n"
     ]
    },
    {
     "name": "stdin",
     "output_type": "stream",
     "text": [
      "Enter particle diameter (mm): 0.01\n"
     ]
    },
    {
     "name": "stdout",
     "output_type": "stream",
     "text": [
      "Large lake=500 m, small lake=15 to 20 m\n"
     ]
    },
    {
     "name": "stdin",
     "output_type": "stream",
     "text": [
      "Lake depth (m): 20\n"
     ]
    },
    {
     "name": "stdout",
     "output_type": "stream",
     "text": [
      "The sedimentation time is 2 days, 13:46:48\n"
     ]
    }
   ],
   "source": [
    "# Display some tentative values\n",
    "print('Typical particle diameters: sand=0.5 mm, silt=0.05 mm, and clay=0.0005 mm')\n",
    "\n",
    "# Request particle size\n",
    "diameter = input('Enter particle diameter (mm):')\n",
    "diameter = float(diameter) / 1000 # Convert to meters\n",
    "\n",
    "# Request depth of lake\n",
    "print('Large lake=500 m, small lake=15 to 20 m')\n",
    "lake_depth = input('Lake depth (m):')\n",
    "lake_depth = float(lake_depth)\n",
    "\n",
    "# Compute terminal velocity\n",
    "g = 9.81                   # m/s^2\n",
    "density_solid = 2650       # kg/m^3\n",
    "density_fluid = 1000       # kg/m^3\n",
    "viscosity_fluid = 0.001    # kg/(m s)\n",
    "\n",
    "terminal_velocity = diameter**2 * g * (density_solid-density_fluid)/(18*viscosity_fluid) # m/s\n",
    "sedimentation_seconds = round(lake_depth/terminal_velocity) # seconds\n",
    "\n",
    "# Convert to datetime.timedelta object\n",
    "sedimentation_time = datetime.timedelta(seconds=sedimentation_seconds)\n",
    "\n",
    "# Display result\n",
    "print('The sedimentation time is {time}'.format(time=sedimentation_time))\n"
   ]
  }
 ],
 "metadata": {
  "kernelspec": {
   "display_name": "Python 3",
   "language": "python",
   "name": "python3"
  },
  "language_info": {
   "codemirror_mode": {
    "name": "ipython",
    "version": 3
   },
   "file_extension": ".py",
   "mimetype": "text/x-python",
   "name": "python",
   "nbconvert_exporter": "python",
   "pygments_lexer": "ipython3",
   "version": "3.8.5"
  }
 },
 "nbformat": 4,
 "nbformat_minor": 4
}
