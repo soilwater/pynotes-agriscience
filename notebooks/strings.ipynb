{
 "cells": [
  {
   "cell_type": "markdown",
   "metadata": {
    "slideshow": {
     "slide_type": "-"
    }
   },
   "source": [
    "# Strings\n",
    "\n",
    "At first it seems that programming languages are only useful to only crunch numbers, but often times we realize that we need to manipulating strings. Strings are ubiquitous, they are appear in sample names, locations, table headers, DNA sequences, and even for printing short strings to debug your own code."
   ]
  },
  {
   "cell_type": "markdown",
   "metadata": {},
   "source": [
    "## Define strings"
   ]
  },
  {
   "cell_type": "code",
   "execution_count": 18,
   "metadata": {},
   "outputs": [
    {
     "data": {
      "text/plain": [
       "str"
      ]
     },
     "execution_count": 18,
     "metadata": {},
     "output_type": "execute_result"
    }
   ],
   "source": [
    "# Apostrophes\n",
    "mystr1 = 'This is a string'\n",
    "type(mystr1)\n"
   ]
  },
  {
   "cell_type": "code",
   "execution_count": 19,
   "metadata": {},
   "outputs": [
    {
     "data": {
      "text/plain": [
       "str"
      ]
     },
     "execution_count": 19,
     "metadata": {},
     "output_type": "execute_result"
    }
   ],
   "source": [
    "# Quotation marks\n",
    "mystr2 = \"This is also a string\"\n",
    "type(mystr2)\n"
   ]
  },
  {
   "cell_type": "code",
   "execution_count": 6,
   "metadata": {},
   "outputs": [
    {
     "name": "stdout",
     "output_type": "stream",
     "text": [
      "This is a long string\n",
      "spanning multiple \n",
      "lines\n",
      "This is also a \n",
      "multiline \n",
      "string\n",
      "Just the place for a Snark!\" the Bellman cried,\n",
      "As he landed his crew with care;\n",
      "Supporting each man on the top of the tide\n",
      "By a finger entwined in his hair.\n"
     ]
    }
   ],
   "source": [
    "# Triple quotes\n",
    "\n",
    "print(\"\"\"This is a long string\n",
    "spanning multiple \n",
    "lines\"\"\") # We will use this to document functions\n",
    "\n",
    "mystr3 = '''This is also a \n",
    "multiline \n",
    "string'''\n",
    "print(mystr3)\n",
    "\n",
    "# Triple quotes can span multiple lines and are super useful to document functions and scripts\n",
    "snark = '''Just the place for a Snark!\" the Bellman cried,\n",
    "As he landed his crew with care;\n",
    "Supporting each man on the top of the tide\n",
    "By a finger entwined in his hair.'''\n",
    "\n",
    "print(snark)"
   ]
  },
  {
   "cell_type": "markdown",
   "metadata": {},
   "source": [
    "## Split text lines into a list"
   ]
  },
  {
   "cell_type": "code",
   "execution_count": 9,
   "metadata": {},
   "outputs": [
    {
     "name": "stdout",
     "output_type": "stream",
     "text": [
      "Just the place for a Snark!\" the Bellman cried,\n",
      "As he landed his crew with care;\n",
      "Supporting each man on the top of the tide\n",
      "By a finger entwined in his hair.\n",
      "\n",
      "['Just the place for a Snark!\" the Bellman cried,', 'As he landed his crew with care;', 'Supporting each man on the top of the tide', 'By a finger entwined in his hair.']\n",
      "Just the place for a Snark!\" the Bellman cried,\n"
     ]
    }
   ],
   "source": [
    "# Split text lines into a list\n",
    "\n",
    "print(snark) # Print original text\n",
    "\n",
    "snark_lines = snark.splitlines(); # Split\n",
    "\n",
    "print('') # Add some space for readability\n",
    "print(snark_lines) # Print splitted text\n",
    "print(snark_lines[0])\n"
   ]
  },
  {
   "cell_type": "markdown",
   "metadata": {},
   "source": [
    "## Split string on a given character"
   ]
  },
  {
   "cell_type": "code",
   "execution_count": 4,
   "metadata": {},
   "outputs": [
    {
     "name": "stdout",
     "output_type": "stream",
     "text": [
      "['This', ' is', ' a', ' string', ' separated', ' by', ' commas']\n",
      " separated\n"
     ]
    }
   ],
   "source": [
    "csv_string = 'This, is, a, string, separated, by, commas'\n",
    "splitted_csv_string = csv_string.split(',')\n",
    "print(splitted_csv_string)\n",
    "print(splitted_csv_string[4]) # Now we can access individual words\n"
   ]
  },
  {
   "cell_type": "code",
   "execution_count": 32,
   "metadata": {},
   "outputs": [
    {
     "name": "stdout",
     "output_type": "stream",
     "text": [
      "['lat', '36.7', 'lon', '-97.5', 'elev', '345', 'meters']\n",
      "36.7\n"
     ]
    }
   ],
   "source": [
    "# Split a single string. This method is useful when we encode information in file names and URL links.\n",
    "data = 'lat_36.7_lon_-97.5_elev_345_meters'.split('_')\n",
    "print(data)\n",
    "print(data[1])\n",
    "lat = float(data[1]) # Convert string into float and store it in a variable called 'lat'\n"
   ]
  },
  {
   "cell_type": "markdown",
   "metadata": {},
   "source": [
    "## Replace characters"
   ]
  },
  {
   "cell_type": "code",
   "execution_count": 31,
   "metadata": {},
   "outputs": [
    {
     "name": "stdout",
     "output_type": "stream",
     "text": [
      "filename\n",
      "filehelloname\n"
     ]
    }
   ],
   "source": [
    "# Use the replace function to add or strip a character (or sequence of characters) from a string\n",
    "print('file_name'.replace('_', ''))      # Remove underscore\n",
    "print('file_name'.replace('-', 'hello')) # Replace underscore with 'hello'"
   ]
  },
  {
   "cell_type": "markdown",
   "metadata": {},
   "source": [
    "## Join strings"
   ]
  },
  {
   "cell_type": "code",
   "execution_count": 6,
   "metadata": {},
   "outputs": [
    {
     "name": "stdout",
     "output_type": "stream",
     "text": [
      "Silty clay loam\n",
      "Silty-clay-loam\n"
     ]
    }
   ],
   "source": [
    "# Concatenate strigs in list using custom delimiter\n",
    "\n",
    "# Useful when building file names and URLs. You can pass a tuple or a list.\n",
    "texture_list = [\"Silty\", \"clay\", \"loam\"]\n",
    "print(\" \".join(texture_list))\n",
    "print(\"-\".join(texture_list))\n"
   ]
  },
  {
   "cell_type": "code",
   "execution_count": 5,
   "metadata": {},
   "outputs": [
    {
     "name": "stdout",
     "output_type": "stream",
     "text": [
      "Silty clay loam\n"
     ]
    }
   ],
   "source": [
    "# Concatenate strigs in tuple using custom delimiter\n",
    "\n",
    "texture_tuple = (\"Silty\", \"clay\", \"loam\")\n",
    "print(\" \".join(texture_tuple))"
   ]
  },
  {
   "cell_type": "code",
   "execution_count": 10,
   "metadata": {},
   "outputs": [
    {
     "name": "stdout",
     "output_type": "stream",
     "text": [
      "/User/Documents/Datasets/myfile.csv\n"
     ]
    }
   ],
   "source": [
    "# Concatenate strings using the '+' sign\n",
    "\n",
    "filename = \"myfile\"\n",
    "extension = \".csv\"\n",
    "path = \"/User/Documents/Datasets/\"\n",
    "fullpath = path + filename + extension\n",
    "print(fullpath)\n"
   ]
  },
  {
   "cell_type": "code",
   "execution_count": 30,
   "metadata": {},
   "outputs": [
    {
     "name": "stdout",
     "output_type": "stream",
     "text": [
      "A = 2\n"
     ]
    }
   ],
   "source": [
    "# Merge strings and numbers\n",
    "\n",
    "A = 2\n",
    "print('A = ' + str(A)) # Need to convert the integer to a string using the str() function"
   ]
  },
  {
   "cell_type": "markdown",
   "metadata": {},
   "source": [
    "## Formatting strings"
   ]
  },
  {
   "cell_type": "code",
   "execution_count": 18,
   "metadata": {},
   "outputs": [
    {
     "data": {
      "text/plain": [
       "True"
      ]
     },
     "execution_count": 18,
     "metadata": {},
     "output_type": "execute_result"
    }
   ],
   "source": [
    "# Check whether ALL the characters in the string are numbers \n",
    "\n",
    "str.isnumeric('20')   # Returns True\n"
   ]
  },
  {
   "cell_type": "code",
   "execution_count": 19,
   "metadata": {},
   "outputs": [
    {
     "data": {
      "text/plain": [
       "False"
      ]
     },
     "execution_count": 19,
     "metadata": {},
     "output_type": "execute_result"
    }
   ],
   "source": [
    "# Pperiods are not numbers!\n",
    "str.isnumeric('2.0')  # Returns False"
   ]
  },
  {
   "cell_type": "code",
   "execution_count": 23,
   "metadata": {},
   "outputs": [
    {
     "name": "stdout",
     "output_type": "stream",
     "text": [
      "The sky is blue as the ocean\n",
      "The sky is %s as the ocean blue\n",
      "The sky is blue as the ocean\n",
      "The sky is blue as the ocean\n"
     ]
    }
   ],
   "source": [
    "# Traditional way of formatting strings. Also known as %-formatting\n",
    "print(\"The sky is %s as the ocean\" % \"blue\") # Still works, but might be deprecated in the future\n",
    "print(\"The sky is %s as the ocean\" , \"blue\") # This won't work\n",
    "\n",
    "# New f-string formatting\n",
    "print(\"The sky is {} as the ocean\".format(\"blue\")) # Variables must follow the order of the brackets\n",
    "print(\"The sky is {color} as the ocean\".format(color=\"blue\")) # Recommended\n"
   ]
  },
  {
   "cell_type": "code",
   "execution_count": 24,
   "metadata": {},
   "outputs": [
    {
     "name": "stdout",
     "output_type": "stream",
     "text": [
      "\n",
      "Jan\n",
      "Feb\n",
      "Mar\n"
     ]
    }
   ],
   "source": [
    "# Print in new line\n",
    "print(\"\\nJan\\nFeb\\nMar\") # \\n represents a new line"
   ]
  },
  {
   "cell_type": "code",
   "execution_count": 7,
   "metadata": {},
   "outputs": [
    {
     "name": "stdout",
     "output_type": "stream",
     "text": [
      "The height is 6' 4\"\n"
     ]
    }
   ],
   "source": [
    "# Escaping using the backslash since inches are represented by \"\n",
    "print(\"The height is 6' 4\\\"\") "
   ]
  },
  {
   "cell_type": "code",
   "execution_count": 8,
   "metadata": {},
   "outputs": [
    {
     "name": "stdout",
     "output_type": "stream",
     "text": [
      "The area of a circle with a diameter of 1 cm has an area of 3.14 cm\n"
     ]
    }
   ],
   "source": [
    "diameter = 1\n",
    "circle_area = 3.14\n",
    "print('The area of a circle with a diameter of {diameter} cm has an area of {circle_area} cm'\n",
    "      .format(diameter=diameter,circle_area=circle_area))\n"
   ]
  },
  {
   "cell_type": "code",
   "execution_count": 16,
   "metadata": {},
   "outputs": [
    {
     "name": "stdout",
     "output_type": "stream",
     "text": [
      "fit: a=0.300, b=0.100, c=120\n",
      "DOY: 001\n",
      "DOY: 012\n",
      "DOY: 365\n",
      "DOY: A001\n",
      "DOY: A365\n",
      "034\n"
     ]
    }
   ],
   "source": [
    "# Write a label for a plot using %-formatting\n",
    "\n",
    "# % Denotes the beginning of the string format\n",
    "# f stands for float\n",
    "parvalue = [0.3,0.1,120] # Three parameter values, typically obtained by curve fitting\n",
    "label = 'fit: a=%5.3f, b=%5.3f, c=%3.0f' % tuple(parvalue)\n",
    "print(label)\n",
    "\n",
    "# 5 is the field width (columns including the dot), and 3 is the number of decimal places\n",
    "\n",
    "print('DOY: %03.0f' % tuple([1]))\n",
    "print('DOY: %03.0f' % tuple([12]))\n",
    "print('DOY: %03.0f' % tuple([365]))\n",
    "\n",
    "# Example for MODIS URL request date\n",
    "print('DOY: A%03.0f' % tuple([1]))\n",
    "print('DOY: A%03.0f' % tuple([365]))\n",
    "\n",
    "# An alternative to fill with leading zeros\n",
    "print('34'.zfill(3))\n"
   ]
  },
  {
   "cell_type": "markdown",
   "metadata": {},
   "source": [
    "## Comparing strings"
   ]
  },
  {
   "cell_type": "code",
   "execution_count": 27,
   "metadata": {},
   "outputs": [
    {
     "data": {
      "text/plain": [
       "False"
      ]
     },
     "execution_count": 27,
     "metadata": {},
     "output_type": "execute_result"
    }
   ],
   "source": [
    "# Compare strings\n",
    "str1 = 'orange'\n",
    "str2 = 'apple'\n",
    "str3 = 'lemon'\n",
    "\n",
    "str1 == str2 # or simply 'orange' == 'apple'\n"
   ]
  },
  {
   "cell_type": "code",
   "execution_count": 28,
   "metadata": {},
   "outputs": [
    {
     "name": "stdout",
     "output_type": "stream",
     "text": [
      "Original string: orange\n",
      "Orange\n",
      "ORANGE\n"
     ]
    }
   ],
   "source": [
    "# Case matters\n",
    "'apple' == 'Apple'\n",
    "\n",
    "# Capitalize\n",
    "print('Original string: ' + str1)\n",
    "print(str1.capitalize())\n",
    "\n",
    "print(str1.upper())"
   ]
  },
  {
   "cell_type": "markdown",
   "metadata": {},
   "source": [
    "## String sequences"
   ]
  },
  {
   "cell_type": "code",
   "execution_count": 29,
   "metadata": {},
   "outputs": [
    {
     "name": "stdout",
     "output_type": "stream",
     "text": [
      "True\n",
      "True\n"
     ]
    }
   ],
   "source": [
    "# String sequences\n",
    "str2.count('p') # Count number of 'p' characters in apple\n",
    "\n",
    "# or sequence of characters\n",
    "'apple'.count('pl') # You can also use a string, without declaring a new variable.\n",
    "\n",
    "# Find if word starts with one of the following sequences\n",
    "print(str2.startswith(('app','ora'))) # Note that the input is a tuple: ('app','ora')\n",
    "\n",
    "# Find if word ends with one of the following sequences\n",
    "print(str2.endswith(('ple','nge')))   # Note that the input is a tuple ('ple','nge')"
   ]
  }
 ],
 "metadata": {
  "kernelspec": {
   "display_name": "Python 3",
   "language": "python",
   "name": "python3"
  },
  "language_info": {
   "codemirror_mode": {
    "name": "ipython",
    "version": 3
   },
   "file_extension": ".py",
   "mimetype": "text/x-python",
   "name": "python",
   "nbconvert_exporter": "python",
   "pygments_lexer": "ipython3",
   "version": "3.7.0"
  }
 },
 "nbformat": 4,
 "nbformat_minor": 2
}
