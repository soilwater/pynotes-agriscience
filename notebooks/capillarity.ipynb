{
 "cells": [
  {
   "cell_type": "markdown",
   "metadata": {},
   "source": [
    "# Capillarity\n",
    "\n",
    "The phenomenom of capillarity describes the ability of a fluid to increase or decrease its height within a narrow capillary tube. Capillarity is the result of cohesive and adhesive forces at the molecular level. The resulting capillary rise or depression is described by the Young-Laplace equation. \n",
    "\n",
    "$$ h = \\frac{2 \\ \\gamma \\ cos(\\alpha)}{\\rho \\ g \\ r}$$\n",
    "\n",
    "where,\n",
    "\n",
    "$h$ is the capillary rise (positive values) or depression (negative values) in meters\n",
    "\n",
    "$\\gamma$ is the surface tension of the liquid-air interface in $mN/m$\n",
    "\n",
    "$\\alpha$ is the contact angle of the solid-liquid interface in degrees\n",
    "\n",
    "$\\rho$ is the desnity of the fluid in $kg/m^3$\n",
    "\n",
    "$g$ is the acceleration due to gravity in $m/s^2$\n",
    "\n",
    "$r$ is the radius of the capillary tube in meters\n",
    "\n",
    ">To simplify the input of the radius into the function we will pass the radius in micrometers and we will convert it into meters within the function.\n",
    "\n",
    "This equation is often used in soil science to approximate the height of capillary rise (e.g. from a water table) or to find the average pore radius (when solve for *r* instead of *h*.\n",
    "\n",
    "In this example we will assign the properties of water as the default values since this is probably the most common context for the application of the Young-Laplace equation.\n"
   ]
  },
  {
   "cell_type": "code",
   "execution_count": 5,
   "metadata": {},
   "outputs": [],
   "source": [
    "import math\n"
   ]
  },
  {
   "cell_type": "code",
   "execution_count": 6,
   "metadata": {},
   "outputs": [],
   "source": [
    "def capillary(radius,contact_angle=0,surface_tension=0.073,density=1000):\n",
    "    \"\"\"\n",
    "    Function that approximates the height of capillary rise/depression\n",
    "    given the radius of the capillary tube (or average soil prore radius)\n",
    "    based on the Young-Laplace equation.\n",
    "    \n",
    "    Input variables:\n",
    "    radius: radius of the capillary tube (or mean pore radius) in micrometers\n",
    "    contact_angle: contact angle of the liquid-gas interface on glass. Default 0 degrees\n",
    "    surface_tension: surface tension. Default 0.073 N/m for water at 20 Celsius \n",
    "    density: Density of the fluid in kg/m^3. Default 1000 kg/m^3 for water\n",
    "    \n",
    "    Output variables\n",
    "    height: height of the resulting water column in meters\n",
    "    \"\"\"\n",
    "    \n",
    "    # Define constants\n",
    "    g = 9.81 # Acceleration due to gravity in m/s^2\n",
    "\n",
    "    # Change units of input radius to match all other units in meters\n",
    "    radius = radius/10**6  # convert from micrometers to meters\n",
    "    \n",
    "    # Convert contact angle into radians (required by the math module)\n",
    "    contact_angle = math.radians(contact_angle) \n",
    "    \n",
    "    # Compute capillary rise using Young-Laplace equation\n",
    "    numerator = 2*surface_tension*math.cos(contact_angle)\n",
    "    denominator = density*g*radius\n",
    "    height = numerator/denominator # height in meters\n",
    "    \n",
    "    # Convert height into cm for more intuitive output\n",
    "    height = round(height*100,2) # height in centimeters\n",
    "\n",
    "    return height\n"
   ]
  },
  {
   "cell_type": "code",
   "execution_count": 29,
   "metadata": {},
   "outputs": [],
   "source": [
    "# Define capillary radius\n",
    "radius = 1 # micrometers\n"
   ]
  },
  {
   "cell_type": "code",
   "execution_count": 30,
   "metadata": {},
   "outputs": [
    {
     "name": "stdout",
     "output_type": "stream",
     "text": [
      "1398.52 cm\n",
      "137.15 kPa\n"
     ]
    }
   ],
   "source": [
    "# Properties for water\n",
    "contact_angle = 20 # degrees for water on soil\n",
    "\n",
    "# Compute resulting height for water\n",
    "h_water = capillary(radius,contact_angle)\n",
    "\n",
    "print(round(h_water,2), 'cm')\n",
    "print(round(h_water*0.0980665,2), 'kPa') # convert cm of water to kPa"
   ]
  },
  {
   "cell_type": "code",
   "execution_count": 31,
   "metadata": {},
   "outputs": [
    {
     "name": "stdout",
     "output_type": "stream",
     "text": [
      "-542.25 cm\n",
      "-72.29 kPa\n"
     ]
    }
   ],
   "source": [
    "# Properties for mercury\n",
    "contact_angle = 138\n",
    "surface_tension = 486.5 / 1000  # mN/m to N/m at 20 Celsius\n",
    "density = 13593 # kg/m^3\n",
    "\n",
    "# Compute resulting height for mercury\n",
    "h_mercury = capillary(radius,contact_angle,surface_tension,density)\n",
    "\n",
    "print(round(h_mercury,2), 'cm')\n",
    "print(round(h_mercury*0.133322,2), 'kPa') # convert cm of water to kPa"
   ]
  },
  {
   "cell_type": "markdown",
   "metadata": {},
   "source": [
    "## References\n",
    "\n",
    "Table of surface tension values for different fluids: https://www.wikiwand.com/en/Surface-tension_values\n"
   ]
  }
 ],
 "metadata": {
  "kernelspec": {
   "display_name": "Python 3",
   "language": "python",
   "name": "python3"
  },
  "language_info": {
   "codemirror_mode": {
    "name": "ipython",
    "version": 3
   },
   "file_extension": ".py",
   "mimetype": "text/x-python",
   "name": "python",
   "nbconvert_exporter": "python",
   "pygments_lexer": "ipython3",
   "version": "3.8.5"
  }
 },
 "nbformat": 4,
 "nbformat_minor": 4
}
