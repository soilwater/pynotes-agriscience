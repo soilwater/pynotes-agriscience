{
 "cells": [
  {
   "cell_type": "markdown",
   "metadata": {},
   "source": [
    "# Analysis of Variance\n",
    "\n",
    "Perhaps there is no other statistical analysis as popular as the ANalysis Of VAriance. The main purpose of an ANOVA test is to detect whether the means of a specific observation variable between groups (e.g. grain yield of corn plots subjected to different levels of fertilizer application, biomass production of two watersheds exposed to different burning regimes, etc.) are *significantly* different. The word *significantly* has special meaning in this context and represents conclusion of our analysis under a set  error rate. As you can imagine, detecting whether two or more things are different from each other requires agreement on some baseline.\n",
    "\n",
    "A one-way anova is used to test the hypothesis that the samples in the objective variable (e.g. biomass production) of different groups are drawn from populations with the same mean against the alternative hypothesis that the population means are not all the same. Rejecting the null hypothesis would imply that at least one of the means is different. \n",
    "\n",
    "In this exercise we will use a dataset of corn yield for different treatments of nitrogen fertilizer on multiple US states. The dataset is a subset of the study published by Tremblay et al., 2012 (see references for more details) and it was obtained from (http://www.nue.okstate.edu/).\n",
    "\n",
    "Does the application of nitrogen fertilizer result in systematically greater corn yields or are the yield responses a mere consequence of random noise due to sampling?\n"
   ]
  },
  {
   "cell_type": "code",
   "execution_count": 8,
   "metadata": {},
   "outputs": [],
   "source": [
    "import pandas as pd\n",
    "import matplotlib.pyplot as plt\n",
    "from statsmodels.formula.api import ols\n",
    "from statsmodels.stats.anova import anova_lm\n",
    "from statsmodels.stats.multicomp import MultiComparison\n"
   ]
  },
  {
   "cell_type": "code",
   "execution_count": 9,
   "metadata": {},
   "outputs": [
    {
     "data": {
      "text/html": [
       "<div>\n",
       "<style scoped>\n",
       "    .dataframe tbody tr th:only-of-type {\n",
       "        vertical-align: middle;\n",
       "    }\n",
       "\n",
       "    .dataframe tbody tr th {\n",
       "        vertical-align: top;\n",
       "    }\n",
       "\n",
       "    .dataframe thead th {\n",
       "        text-align: right;\n",
       "    }\n",
       "</style>\n",
       "<table border=\"1\" class=\"dataframe\">\n",
       "  <thead>\n",
       "    <tr style=\"text-align: right;\">\n",
       "      <th></th>\n",
       "      <th>Year</th>\n",
       "      <th>State</th>\n",
       "      <th>Site</th>\n",
       "      <th>Textural_class</th>\n",
       "      <th>Replications</th>\n",
       "      <th>Treatments</th>\n",
       "      <th>N_Planting_kg_ha</th>\n",
       "      <th>N_Sidedress_kg_ha</th>\n",
       "      <th>N_Total_kg_ha</th>\n",
       "      <th>Yield_T_ha</th>\n",
       "    </tr>\n",
       "  </thead>\n",
       "  <tbody>\n",
       "    <tr>\n",
       "      <th>0</th>\n",
       "      <td>2006</td>\n",
       "      <td>Illinois</td>\n",
       "      <td>Pad</td>\n",
       "      <td>Silt loam</td>\n",
       "      <td>1</td>\n",
       "      <td>1</td>\n",
       "      <td>0</td>\n",
       "      <td>0</td>\n",
       "      <td>0</td>\n",
       "      <td>3.26</td>\n",
       "    </tr>\n",
       "    <tr>\n",
       "      <th>1</th>\n",
       "      <td>2006</td>\n",
       "      <td>Illinois</td>\n",
       "      <td>Pad</td>\n",
       "      <td>Silt loam</td>\n",
       "      <td>1</td>\n",
       "      <td>3</td>\n",
       "      <td>36</td>\n",
       "      <td>0</td>\n",
       "      <td>36</td>\n",
       "      <td>4.15</td>\n",
       "    </tr>\n",
       "    <tr>\n",
       "      <th>2</th>\n",
       "      <td>2006</td>\n",
       "      <td>Illinois</td>\n",
       "      <td>Pad</td>\n",
       "      <td>Silt loam</td>\n",
       "      <td>1</td>\n",
       "      <td>5</td>\n",
       "      <td>36</td>\n",
       "      <td>54</td>\n",
       "      <td>90</td>\n",
       "      <td>8.64</td>\n",
       "    </tr>\n",
       "    <tr>\n",
       "      <th>3</th>\n",
       "      <td>2006</td>\n",
       "      <td>Illinois</td>\n",
       "      <td>Pad</td>\n",
       "      <td>Silt loam</td>\n",
       "      <td>1</td>\n",
       "      <td>7</td>\n",
       "      <td>36</td>\n",
       "      <td>107</td>\n",
       "      <td>143</td>\n",
       "      <td>10.52</td>\n",
       "    </tr>\n",
       "    <tr>\n",
       "      <th>4</th>\n",
       "      <td>2006</td>\n",
       "      <td>Illinois</td>\n",
       "      <td>Pad</td>\n",
       "      <td>Silt loam</td>\n",
       "      <td>1</td>\n",
       "      <td>9</td>\n",
       "      <td>36</td>\n",
       "      <td>161</td>\n",
       "      <td>197</td>\n",
       "      <td>11.47</td>\n",
       "    </tr>\n",
       "  </tbody>\n",
       "</table>\n",
       "</div>"
      ],
      "text/plain": [
       "   Year     State Site Textural_class  Replications  Treatments  \\\n",
       "0  2006  Illinois  Pad      Silt loam             1           1   \n",
       "1  2006  Illinois  Pad      Silt loam             1           3   \n",
       "2  2006  Illinois  Pad      Silt loam             1           5   \n",
       "3  2006  Illinois  Pad      Silt loam             1           7   \n",
       "4  2006  Illinois  Pad      Silt loam             1           9   \n",
       "\n",
       "   N_Planting_kg_ha  N_Sidedress_kg_ha  N_Total_kg_ha  Yield_T_ha  \n",
       "0                 0                  0              0        3.26  \n",
       "1                36                  0             36        4.15  \n",
       "2                36                 54             90        8.64  \n",
       "3                36                107            143       10.52  \n",
       "4                36                161            197       11.47  "
      ]
     },
     "execution_count": 9,
     "metadata": {},
     "output_type": "execute_result"
    }
   ],
   "source": [
    "# Load data\n",
    "df = pd.read_csv(\"../datasets/corn_nue_multiple_locs.csv\")\n",
    "df.head()\n"
   ]
  },
  {
   "cell_type": "code",
   "execution_count": 10,
   "metadata": {},
   "outputs": [
    {
     "name": "stdout",
     "output_type": "stream",
     "text": [
      "['Pad' 'Dixon' 'Manhattan' 'Copeland' 'Diederick']\n",
      "[1 3 5 7 9]\n",
      "[1 2 3 4]\n",
      "(120, 10)\n"
     ]
    }
   ],
   "source": [
    "# Print some useful properties of the dataset\n",
    "print(df['Site'].unique())        # Locations\n",
    "print(df['Treatments'].unique())   # Treatments\n",
    "print(df['Replications'].unique()) # Replications\n",
    "print(df.shape)\n",
    "\n"
   ]
  },
  {
   "cell_type": "code",
   "execution_count": 11,
   "metadata": {},
   "outputs": [
    {
     "data": {
      "image/png": "[encoded data removed]",
      "text/plain": [
       "<Figure size 432x288 with 1 Axes>"
      ]
     },
     "metadata": {
      "needs_background": "light"
     },
     "output_type": "display_data"
    }
   ],
   "source": [
    "# Examine yield data using boxplots for all locations combined\n",
    "df.boxplot(column='Yield_T_ha', by='N_Total_kg_ha')\n",
    "plt.show()\n"
   ]
  },
  {
   "cell_type": "code",
   "execution_count": 12,
   "metadata": {},
   "outputs": [
    {
     "data": {
      "image/png": "[encoded data removed]",
      "text/plain": [
       "<Figure size 432x288 with 1 Axes>"
      ]
     },
     "metadata": {
      "needs_background": "light"
     },
     "output_type": "display_data"
    }
   ],
   "source": [
    "# Examine yield by state\n",
    "df.boxplot(column='Yield_T_ha', by='State')\n",
    "plt.show()\n"
   ]
  },
  {
   "cell_type": "code",
   "execution_count": 13,
   "metadata": {},
   "outputs": [
    {
     "data": {
      "image/png": "[encoded data removed]",
      "text/plain": [
       "<Figure size 432x288 with 1 Axes>"
      ]
     },
     "metadata": {
      "needs_background": "light"
     },
     "output_type": "display_data"
    }
   ],
   "source": [
    "# Examine yield by site\n",
    "df.boxplot(column='Yield_T_ha', by='Site')\n",
    "plt.show()\n"
   ]
  },
  {
   "cell_type": "markdown",
   "metadata": {},
   "source": [
    "## ANOVA assumptions\n",
    "\n",
    "1. Samples drawn from a population are normally distributed. **Test**: Shapiro-Wilk\n",
    "\n",
    "2. Samples drawn from all populations have (approximately) the same variance. This property is called homoscedasticity or homogeneity of variances.\" **Tests**: Bartlett's and Levene's tests.\n",
    "\n",
    "3. Samples are independent of each other. Test: No test. Here we rely on the nature of the variable being observed and the experimental design.\n"
   ]
  },
  {
   "cell_type": "markdown",
   "metadata": {},
   "source": [
    "## One-way ANOVA\n",
    "\n",
    "Here we will compare an independent variable with a single predictor. The predictor `N_Total_kg_ha` will be used as a categorical varaible. Alternatively we could use the `Treatments` column, but it is easier to read the table if we present the values using the actual treatment values, so that we quickly devise which Nitrogen rates show statistical differences.\n"
   ]
  },
  {
   "cell_type": "code",
   "execution_count": 14,
   "metadata": {},
   "outputs": [
    {
     "data": {
      "text/html": [
       "<div>\n",
       "<style scoped>\n",
       "    .dataframe tbody tr th:only-of-type {\n",
       "        vertical-align: middle;\n",
       "    }\n",
       "\n",
       "    .dataframe tbody tr th {\n",
       "        vertical-align: top;\n",
       "    }\n",
       "\n",
       "    .dataframe thead th {\n",
       "        text-align: right;\n",
       "    }\n",
       "</style>\n",
       "<table border=\"1\" class=\"dataframe\">\n",
       "  <thead>\n",
       "    <tr style=\"text-align: right;\">\n",
       "      <th></th>\n",
       "      <th>df</th>\n",
       "      <th>sum_sq</th>\n",
       "      <th>mean_sq</th>\n",
       "      <th>F</th>\n",
       "      <th>PR(&gt;F)</th>\n",
       "    </tr>\n",
       "  </thead>\n",
       "  <tbody>\n",
       "    <tr>\n",
       "      <th>C(N_Total_kg_ha)</th>\n",
       "      <td>4.0</td>\n",
       "      <td>386.085542</td>\n",
       "      <td>96.521385</td>\n",
       "      <td>11.431259</td>\n",
       "      <td>7.582811e-08</td>\n",
       "    </tr>\n",
       "    <tr>\n",
       "      <th>Residual</th>\n",
       "      <td>115.0</td>\n",
       "      <td>971.018108</td>\n",
       "      <td>8.443636</td>\n",
       "      <td>NaN</td>\n",
       "      <td>NaN</td>\n",
       "    </tr>\n",
       "  </tbody>\n",
       "</table>\n",
       "</div>"
      ],
      "text/plain": [
       "                     df      sum_sq    mean_sq          F        PR(>F)\n",
       "C(N_Total_kg_ha)    4.0  386.085542  96.521385  11.431259  7.582811e-08\n",
       "Residual          115.0  971.018108   8.443636        NaN           NaN"
      ]
     },
     "execution_count": 14,
     "metadata": {},
     "output_type": "execute_result"
    }
   ],
   "source": [
    "# Anova table with statsmodels\n",
    "formula = 'Yield_T_ha ~ C(N_Total_kg_ha)'\n",
    "lm = ols(formula, data=df).fit()\n",
    "anova_statsmodels = anova_lm(lm)\n",
    "anova_statsmodels\n"
   ]
  },
  {
   "cell_type": "markdown",
   "metadata": {},
   "source": [
    "The ANOVA table shows the there is significant differences between treatments. The catch is that we don't know which groups are different. The ANOVA table only tells us that at least one  group has a mean value that is substantially (read *significantly*) different from the rest.\n",
    "\n",
    "The **F** is the F-statistic to test the null hypothesis that the corresponding coefficient is zero.\n",
    "\n",
    "The **pValue** of the F-statistic indicates whether a factor is not significant at the 5% significance level given the other terms in the model.\n",
    "\n",
    "A mean multicomparison test can help us identify which treatments show signifcant differences.\n"
   ]
  },
  {
   "cell_type": "code",
   "execution_count": 15,
   "metadata": {},
   "outputs": [
    {
     "name": "stdout",
     "output_type": "stream",
     "text": [
      "Multiple Comparison of Means - Tukey HSD, FWER=0.05\n",
      "===================================================\n",
      "group1 group2 meandiff p-adj   lower  upper  reject\n",
      "---------------------------------------------------\n",
      "     0     36   1.3175 0.5165 -1.0074 3.6424  False\n",
      "     0     90   3.0358  0.004  0.7109 5.3607   True\n",
      "     0    143   4.3096  0.001  1.9847 6.6345   True\n",
      "     0    197   4.7454  0.001  2.4205 7.0703   True\n",
      "    36     90   1.7183 0.2499 -0.6066 4.0432  False\n",
      "    36    143   2.9921 0.0047  0.6672  5.317   True\n",
      "    36    197   3.4279  0.001   1.103 5.7528   True\n",
      "    90    143   1.2738 0.5458 -1.0512 3.5987  False\n",
      "    90    197   1.7096 0.2547 -0.6153 4.0345  False\n",
      "   143    197   0.4358    0.9 -1.8891 2.7607  False\n",
      "---------------------------------------------------\n"
     ]
    }
   ],
   "source": [
    "# Multicomparison test\n",
    "groups = MultiComparison(df[\"Yield_T_ha\"],df['N_Total_kg_ha']).tukeyhsd(alpha=0.05)\n",
    "print(groups)\n"
   ]
  },
  {
   "cell_type": "code",
   "execution_count": 16,
   "metadata": {},
   "outputs": [
    {
     "data": {
      "image/png": "[encoded data removed]",
      "text/plain": [
       "<Figure size 720x432 with 1 Axes>"
      ]
     },
     "metadata": {
      "needs_background": "light"
     },
     "output_type": "display_data"
    }
   ],
   "source": [
    "# Visualize significantly different groups relative to a specific group\n",
    "groups.plot_simultaneous(comparison_name=90)\n",
    "plt.xlabel('Cron yield in T/ha', size=12)\n",
    "plt.ylabel('Nitrogen Treatments in kg/ha', size=12)\n",
    "plt.show()\n"
   ]
  },
  {
   "cell_type": "markdown",
   "metadata": {},
   "source": [
    "## Two-way ANOVA\n",
    "\n",
    "In this case we will add two predictors variables, soil textural class and total nitrogen applied. In many cases researchers add `Location` as a proxy for local environmental conditions (including soil) and `Year` as a proxy for the particular weather conditions during each growing season. In this case we have soil textural class available, so we will make use of that first, since it will give our results broader applications that, in principle, can be related to soil types elsewhere.\n"
   ]
  },
  {
   "cell_type": "code",
   "execution_count": 240,
   "metadata": {},
   "outputs": [
    {
     "data": {
      "text/html": [
       "<div>\n",
       "<style scoped>\n",
       "    .dataframe tbody tr th:only-of-type {\n",
       "        vertical-align: middle;\n",
       "    }\n",
       "\n",
       "    .dataframe tbody tr th {\n",
       "        vertical-align: top;\n",
       "    }\n",
       "\n",
       "    .dataframe thead th {\n",
       "        text-align: right;\n",
       "    }\n",
       "</style>\n",
       "<table border=\"1\" class=\"dataframe\">\n",
       "  <thead>\n",
       "    <tr style=\"text-align: right;\">\n",
       "      <th></th>\n",
       "      <th>df</th>\n",
       "      <th>sum_sq</th>\n",
       "      <th>mean_sq</th>\n",
       "      <th>F</th>\n",
       "      <th>PR(&gt;F)</th>\n",
       "    </tr>\n",
       "  </thead>\n",
       "  <tbody>\n",
       "    <tr>\n",
       "      <th>C(N_Total_kg_ha)</th>\n",
       "      <td>4.0</td>\n",
       "      <td>386.085542</td>\n",
       "      <td>96.521385</td>\n",
       "      <td>11.750059</td>\n",
       "      <td>5.022955e-08</td>\n",
       "    </tr>\n",
       "    <tr>\n",
       "      <th>C(Textural_class)</th>\n",
       "      <td>1.0</td>\n",
       "      <td>34.560000</td>\n",
       "      <td>34.560000</td>\n",
       "      <td>4.207172</td>\n",
       "      <td>4.254546e-02</td>\n",
       "    </tr>\n",
       "    <tr>\n",
       "      <th>Residual</th>\n",
       "      <td>114.0</td>\n",
       "      <td>936.458108</td>\n",
       "      <td>8.214545</td>\n",
       "      <td>NaN</td>\n",
       "      <td>NaN</td>\n",
       "    </tr>\n",
       "  </tbody>\n",
       "</table>\n",
       "</div>"
      ],
      "text/plain": [
       "                      df      sum_sq    mean_sq          F        PR(>F)\n",
       "C(N_Total_kg_ha)     4.0  386.085542  96.521385  11.750059  5.022955e-08\n",
       "C(Textural_class)    1.0   34.560000  34.560000   4.207172  4.254546e-02\n",
       "Residual           114.0  936.458108   8.214545        NaN           NaN"
      ]
     },
     "execution_count": 240,
     "metadata": {},
     "output_type": "execute_result"
    }
   ],
   "source": [
    "# Two predictors\n",
    "formula = 'Yield_T_ha ~ C(N_Total_kg_ha) + C(Textural_class)'\n",
    "anova_lm(ols(formula, data=df).fit())\n"
   ]
  },
  {
   "cell_type": "markdown",
   "metadata": {},
   "source": [
    "Soil textual class was barely significant considering all locations and years at the the 0.05 level."
   ]
  },
  {
   "cell_type": "code",
   "execution_count": 241,
   "metadata": {},
   "outputs": [
    {
     "data": {
      "text/html": [
       "<div>\n",
       "<style scoped>\n",
       "    .dataframe tbody tr th:only-of-type {\n",
       "        vertical-align: middle;\n",
       "    }\n",
       "\n",
       "    .dataframe tbody tr th {\n",
       "        vertical-align: top;\n",
       "    }\n",
       "\n",
       "    .dataframe thead th {\n",
       "        text-align: right;\n",
       "    }\n",
       "</style>\n",
       "<table border=\"1\" class=\"dataframe\">\n",
       "  <thead>\n",
       "    <tr style=\"text-align: right;\">\n",
       "      <th></th>\n",
       "      <th>df</th>\n",
       "      <th>sum_sq</th>\n",
       "      <th>mean_sq</th>\n",
       "      <th>F</th>\n",
       "      <th>PR(&gt;F)</th>\n",
       "    </tr>\n",
       "  </thead>\n",
       "  <tbody>\n",
       "    <tr>\n",
       "      <th>C(N_Total_kg_ha)</th>\n",
       "      <td>4.0</td>\n",
       "      <td>386.085542</td>\n",
       "      <td>96.521385</td>\n",
       "      <td>12.530231</td>\n",
       "      <td>1.960683e-08</td>\n",
       "    </tr>\n",
       "    <tr>\n",
       "      <th>C(Textural_class)</th>\n",
       "      <td>1.0</td>\n",
       "      <td>34.560000</td>\n",
       "      <td>34.560000</td>\n",
       "      <td>4.486516</td>\n",
       "      <td>3.641510e-02</td>\n",
       "    </tr>\n",
       "    <tr>\n",
       "      <th>C(N_Total_kg_ha):C(Textural_class)</th>\n",
       "      <td>4.0</td>\n",
       "      <td>89.119178</td>\n",
       "      <td>22.279795</td>\n",
       "      <td>2.892322</td>\n",
       "      <td>2.547188e-02</td>\n",
       "    </tr>\n",
       "    <tr>\n",
       "      <th>Residual</th>\n",
       "      <td>110.0</td>\n",
       "      <td>847.338930</td>\n",
       "      <td>7.703081</td>\n",
       "      <td>NaN</td>\n",
       "      <td>NaN</td>\n",
       "    </tr>\n",
       "  </tbody>\n",
       "</table>\n",
       "</div>"
      ],
      "text/plain": [
       "                                       df      sum_sq    mean_sq          F  \\\n",
       "C(N_Total_kg_ha)                      4.0  386.085542  96.521385  12.530231   \n",
       "C(Textural_class)                     1.0   34.560000  34.560000   4.486516   \n",
       "C(N_Total_kg_ha):C(Textural_class)    4.0   89.119178  22.279795   2.892322   \n",
       "Residual                            110.0  847.338930   7.703081        NaN   \n",
       "\n",
       "                                          PR(>F)  \n",
       "C(N_Total_kg_ha)                    1.960683e-08  \n",
       "C(Textural_class)                   3.641510e-02  \n",
       "C(N_Total_kg_ha):C(Textural_class)  2.547188e-02  \n",
       "Residual                                     NaN  "
      ]
     },
     "execution_count": 241,
     "metadata": {},
     "output_type": "execute_result"
    }
   ],
   "source": [
    "# Two predictors with interaction\n",
    "formula = 'Yield_T_ha ~ C(N_Total_kg_ha) * C(Textural_class)'\n",
    "anova_lm(ols(formula, data=df).fit())\n"
   ]
  },
  {
   "cell_type": "markdown",
   "metadata": {},
   "source": [
    "The interaction of nitrogen rate and textural class also resulted statistically significant at the 0.05 level."
   ]
  },
  {
   "cell_type": "code",
   "execution_count": 261,
   "metadata": {},
   "outputs": [
    {
     "data": {
      "text/html": [
       "<div>\n",
       "<style scoped>\n",
       "    .dataframe tbody tr th:only-of-type {\n",
       "        vertical-align: middle;\n",
       "    }\n",
       "\n",
       "    .dataframe tbody tr th {\n",
       "        vertical-align: top;\n",
       "    }\n",
       "\n",
       "    .dataframe thead th {\n",
       "        text-align: right;\n",
       "    }\n",
       "</style>\n",
       "<table border=\"1\" class=\"dataframe\">\n",
       "  <thead>\n",
       "    <tr style=\"text-align: right;\">\n",
       "      <th></th>\n",
       "      <th>df</th>\n",
       "      <th>sum_sq</th>\n",
       "      <th>mean_sq</th>\n",
       "      <th>F</th>\n",
       "      <th>PR(&gt;F)</th>\n",
       "    </tr>\n",
       "  </thead>\n",
       "  <tbody>\n",
       "    <tr>\n",
       "      <th>C(N_Total_kg_ha)</th>\n",
       "      <td>4.0</td>\n",
       "      <td>386.085542</td>\n",
       "      <td>96.521385</td>\n",
       "      <td>20.522835</td>\n",
       "      <td>3.270251e-12</td>\n",
       "    </tr>\n",
       "    <tr>\n",
       "      <th>State</th>\n",
       "      <td>2.0</td>\n",
       "      <td>234.432785</td>\n",
       "      <td>117.216393</td>\n",
       "      <td>24.923106</td>\n",
       "      <td>1.989675e-09</td>\n",
       "    </tr>\n",
       "    <tr>\n",
       "      <th>C(Year)</th>\n",
       "      <td>2.0</td>\n",
       "      <td>112.504702</td>\n",
       "      <td>56.252351</td>\n",
       "      <td>11.960642</td>\n",
       "      <td>2.328310e-05</td>\n",
       "    </tr>\n",
       "    <tr>\n",
       "      <th>C(N_Total_kg_ha):State</th>\n",
       "      <td>8.0</td>\n",
       "      <td>140.688973</td>\n",
       "      <td>17.586122</td>\n",
       "      <td>3.739245</td>\n",
       "      <td>7.649526e-04</td>\n",
       "    </tr>\n",
       "    <tr>\n",
       "      <th>C(N_Total_kg_ha):C(Year)</th>\n",
       "      <td>8.0</td>\n",
       "      <td>36.595110</td>\n",
       "      <td>4.574389</td>\n",
       "      <td>0.972628</td>\n",
       "      <td>4.621589e-01</td>\n",
       "    </tr>\n",
       "    <tr>\n",
       "      <th>State:C(Year)</th>\n",
       "      <td>4.0</td>\n",
       "      <td>3.702425</td>\n",
       "      <td>0.925606</td>\n",
       "      <td>0.196807</td>\n",
       "      <td>9.394924e-01</td>\n",
       "    </tr>\n",
       "    <tr>\n",
       "      <th>C(N_Total_kg_ha):State:C(Year)</th>\n",
       "      <td>16.0</td>\n",
       "      <td>17.058994</td>\n",
       "      <td>1.066187</td>\n",
       "      <td>0.226698</td>\n",
       "      <td>9.991834e-01</td>\n",
       "    </tr>\n",
       "    <tr>\n",
       "      <th>Residual</th>\n",
       "      <td>95.0</td>\n",
       "      <td>446.796537</td>\n",
       "      <td>4.703121</td>\n",
       "      <td>NaN</td>\n",
       "      <td>NaN</td>\n",
       "    </tr>\n",
       "  </tbody>\n",
       "</table>\n",
       "</div>"
      ],
      "text/plain": [
       "                                  df      sum_sq     mean_sq          F  \\\n",
       "C(N_Total_kg_ha)                 4.0  386.085542   96.521385  20.522835   \n",
       "State                            2.0  234.432785  117.216393  24.923106   \n",
       "C(Year)                          2.0  112.504702   56.252351  11.960642   \n",
       "C(N_Total_kg_ha):State           8.0  140.688973   17.586122   3.739245   \n",
       "C(N_Total_kg_ha):C(Year)         8.0   36.595110    4.574389   0.972628   \n",
       "State:C(Year)                    4.0    3.702425    0.925606   0.196807   \n",
       "C(N_Total_kg_ha):State:C(Year)  16.0   17.058994    1.066187   0.226698   \n",
       "Residual                        95.0  446.796537    4.703121        NaN   \n",
       "\n",
       "                                      PR(>F)  \n",
       "C(N_Total_kg_ha)                3.270251e-12  \n",
       "State                           1.989675e-09  \n",
       "C(Year)                         2.328310e-05  \n",
       "C(N_Total_kg_ha):State          7.649526e-04  \n",
       "C(N_Total_kg_ha):C(Year)        4.621589e-01  \n",
       "State:C(Year)                   9.394924e-01  \n",
       "C(N_Total_kg_ha):State:C(Year)  9.991834e-01  \n",
       "Residual                                 NaN  "
      ]
     },
     "execution_count": 261,
     "metadata": {},
     "output_type": "execute_result"
    }
   ],
   "source": [
    "# Classical ANOVA with Treatment, Location, and Year interactions\n",
    "formula = 'Yield_T_ha ~ C(N_Total_kg_ha) * State * C(Year)'\n",
    "anova_lm(ols(formula, data=df).fit())\n"
   ]
  },
  {
   "cell_type": "markdown",
   "metadata": {},
   "source": [
    "In a multi-treatment, multi-year, and multi-state study, it is not surprising that treatment, site, and year resulted highly significant (P<0.01).\n",
    "\n",
    "Note that the interactions `N_Total_kg_ha:Year`, `State:Year`, and `N_Total_kg_ha:State:Year` were not significant at the P<0.05 level."
   ]
  },
  {
   "cell_type": "markdown",
   "metadata": {},
   "source": [
    "## References\n",
    "\n",
    "Tremblay, N.,  Y.M. Bouroubi,  C. Bélec,  R.W. Mullen,  N.R. Kitchen,  W.E. Thomason,  S. Ebelhar,  D.B. Mengel,  W.R. Raun,  D.D. Francis,  E.D. Vories, and I. Ortiz-Monasterio. 2012. Corn response to nitrogen is influenced by soil texture and weather. Agron. J. 104:1658–1671. doi:10.2134/agronj2012.018.\n"
   ]
  }
 ],
 "metadata": {
  "kernelspec": {
   "display_name": "Python 3",
   "language": "python",
   "name": "python3"
  },
  "language_info": {
   "codemirror_mode": {
    "name": "ipython",
    "version": 3
   },
   "file_extension": ".py",
   "mimetype": "text/x-python",
   "name": "python",
   "nbconvert_exporter": "python",
   "pygments_lexer": "ipython3",
   "version": "3.8.5"
  }
 },
 "nbformat": 4,
 "nbformat_minor": 4
}
