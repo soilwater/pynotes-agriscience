{
 "cells": [
  {
   "cell_type": "markdown",
   "metadata": {},
   "source": [
    "# Central Dogma: Decoding Multiple Polypeptides\n",
    "\n",
    "Building up on top of concepts and lines of codes from previous exercises we will create a set of functions to decode DNA sequences with multiple polypeptides.\n",
    "\n",
    "A function is handy and the entire blueprint on how to do DNA transcription is encapsulated in a single function that we can invoke anytime we need to conver DNA into mRNA, very much like invoking an enzyme to do the job for us. \n",
    "\n",
    ">In some cases your code will start as a script, but it may end up a little longer than our previous script and may also contain the solution to multiple processes, in which case I suggest partitioning the script into multiple functions, each function being specific with a well defined purpose."
   ]
  },
  {
   "cell_type": "code",
   "execution_count": 1,
   "metadata": {},
   "outputs": [],
   "source": [
    "# Import modules\n",
    "import pandas as pd\n",
    "import pprint\n"
   ]
  },
  {
   "cell_type": "code",
   "execution_count": 11,
   "metadata": {},
   "outputs": [
    {
     "data": {
      "text/html": [
       "<div>\n",
       "<style scoped>\n",
       "    .dataframe tbody tr th:only-of-type {\n",
       "        vertical-align: middle;\n",
       "    }\n",
       "\n",
       "    .dataframe tbody tr th {\n",
       "        vertical-align: top;\n",
       "    }\n",
       "\n",
       "    .dataframe thead th {\n",
       "        text-align: right;\n",
       "    }\n",
       "</style>\n",
       "<table border=\"1\" class=\"dataframe\">\n",
       "  <thead>\n",
       "    <tr style=\"text-align: right;\">\n",
       "      <th></th>\n",
       "      <th>codon</th>\n",
       "      <th>letter</th>\n",
       "      <th>aminoacid</th>\n",
       "    </tr>\n",
       "  </thead>\n",
       "  <tbody>\n",
       "    <tr>\n",
       "      <th>0</th>\n",
       "      <td>AAA</td>\n",
       "      <td>K</td>\n",
       "      <td>Lysine</td>\n",
       "    </tr>\n",
       "    <tr>\n",
       "      <th>1</th>\n",
       "      <td>AAC</td>\n",
       "      <td>N</td>\n",
       "      <td>Asparagine</td>\n",
       "    </tr>\n",
       "    <tr>\n",
       "      <th>2</th>\n",
       "      <td>AAG</td>\n",
       "      <td>K</td>\n",
       "      <td>Lysine</td>\n",
       "    </tr>\n",
       "    <tr>\n",
       "      <th>3</th>\n",
       "      <td>AAU</td>\n",
       "      <td>N</td>\n",
       "      <td>Asparagine</td>\n",
       "    </tr>\n",
       "    <tr>\n",
       "      <th>4</th>\n",
       "      <td>ACA</td>\n",
       "      <td>T</td>\n",
       "      <td>Threonine</td>\n",
       "    </tr>\n",
       "  </tbody>\n",
       "</table>\n",
       "</div>"
      ],
      "text/plain": [
       "  codon letter   aminoacid\n",
       "0   AAA      K      Lysine\n",
       "1   AAC      N  Asparagine\n",
       "2   AAG      K      Lysine\n",
       "3   AAU      N  Asparagine\n",
       "4   ACA      T   Threonine"
      ]
     },
     "execution_count": 11,
     "metadata": {},
     "output_type": "execute_result"
    }
   ],
   "source": [
    "# Load data\n",
    "lookup = pd.read_csv('../datasets/codon_aminoacids.csv')\n",
    "lookup.head()"
   ]
  },
  {
   "cell_type": "markdown",
   "metadata": {},
   "source": [
    "## Transcription\n",
    "\n",
    "Given a sequence of DNA bases we need to find the complementary strand. The catch here is that we also need to account for the fact that the base `thymine` is replaced by the base `uracil` in RNA.\n",
    "\n",
    "To check for potential typos in the sequence of DNA or to prevent that the user feeds a sequence of mRNA instead of DNA to the transcription function, we will use the `raise` statement, which will automatically stop and exit the `for` loop and throw a custom error message if the code finds a base a base other than A,T,C, or G. The location of the `raise` statement is crucial since we only want to trigger this action if a certain condition is met (i.e. we find an unknown base). So, we will place the `raise` statement inside the `if` statement within the `for` loop. We will also return the location in the sequence of the unknown base using the `find()` method. \n",
    "\n",
    "The error catching method described above is simple and practical for small applications, but it has some limitations. For instance, we cannot identify whether there are more than one unknwon bases and we cannot let the user know the location of all these bases. Nonetheless, this is a good starting point."
   ]
  },
  {
   "cell_type": "code",
   "execution_count": 19,
   "metadata": {},
   "outputs": [],
   "source": [
    "def transcription(DNA):\n",
    "    '''\n",
    "    Function that converts a sequence of DNA bases into messenger RNA\n",
    "    Input: string of DNA\n",
    "    Author: Andres Patrignani\n",
    "    Date: 3-Feb-2020\n",
    "    '''\n",
    "    # Translation table\n",
    "    transcription_table = DNA.maketrans('ATCG','UAGC')\n",
    "    #print(transcription_table) {65: 85, 84: 65, 67: 71, 71: 67}\n",
    "    \n",
    "    # Translate using table\n",
    "    mRNA = DNA.translate(transcription_table)\n",
    "    return mRNA\n",
    "    "
   ]
  },
  {
   "cell_type": "markdown",
   "metadata": {},
   "source": [
    "## Translation\n",
    "\n",
    "The logic of the translation function will be similar to our previous example. The only catch is that we need to keep track of the different polypeptides and the `start` and `stop` signals in the mRNA. These signals dictate the sequence of aminoacids for each polypeptide. Here are some steps of the logic:\n",
    "\n",
    "* Scan the mRNA in steps of three bases\n",
    "\n",
    "* Trigger a new polypeptide only when we find the starting 'AUG' codon\n",
    "\n",
    "* After that we know the ribosome is inside the mRNA that encodes aminoacids\n",
    "\n",
    "* The end of the polypeptide occurs when the ribosome finds any of the stop codons: 'UAA', 'UAG', 'UGA'"
   ]
  },
  {
   "cell_type": "code",
   "execution_count": 17,
   "metadata": {},
   "outputs": [],
   "source": [
    "# Translation function\n",
    "\n",
    "def translation(mRNA):\n",
    "    '''\n",
    "    Function that decodes a sequence of mRNA into a chain of aminoacids\n",
    "    Input: string of mRNA\n",
    "    Author: Andres Patrignani\n",
    "    Date: 27-Dec-2019\n",
    "    '''\n",
    "    \n",
    "    # Initialize variables\n",
    "    polypeptides = dict() # More convenient and human-readable than creating a list of lists\n",
    "    start = False # Ribosome outside region of mRNA that encodes aminoacids\n",
    "    polypeptide_counter = 0 # A counter to name our polypetides\n",
    "    \n",
    "    for i in range(0,len(mRNA)-2,3):\n",
    "        codon = mRNA[i:i+3] # Add 3 to avoid overlapping the bases between iterations.\n",
    "        aminoacid_idx = lookup.codon == codon # Match current codon with all codons in lookup table\n",
    "        aminoacid = lookup.aminoacid[aminoacid_idx].values[0]\n",
    "        \n",
    "        # Logic to find in which polypeptide the Ribosome is in\n",
    "        if codon == 'AUG':\n",
    "            start = True\n",
    "            polypeptide_counter += 1 \n",
    "            polypeptide_name = 'P' + str(polypeptide_counter)\n",
    "            polypeptides[polypeptide_name] = []\n",
    "        \n",
    "        elif codon == 'UAA' or codon == 'UAG' or codon == 'UGA':\n",
    "            start = False\n",
    "        \n",
    "        # If the Ribosme found a starting codon (Methionine)\n",
    "        if start:\n",
    "            polypeptides[polypeptide_name].append(aminoacid)\n",
    "        \n",
    "    return polypeptides\n",
    "    "
   ]
  },
  {
   "cell_type": "markdown",
   "metadata": {},
   "source": [
    "In the traslation function we could have used `if aminoacid == 'Methionine':` for the first logical statement and `elif aminoacid == 'Stop':` for the second logical statement. I decided to use the codons rather than the aminoacids to closely match the mechanics of the Ribosome, but the statements are equivalent in terms of the outputs that the function generates.\n",
    "\n",
    ">Q: What happens if you indent four additional spaces the line: `return polypeptide` in the translation function? You will need to modify, save, and call the function to see the answer to this question."
   ]
  },
  {
   "cell_type": "code",
   "execution_count": 20,
   "metadata": {},
   "outputs": [
    {
     "name": "stdout",
     "output_type": "stream",
     "text": [
      "{65: 85, 84: 65, 67: 71, 71: 67}\n",
      "AUGAGCAGUGUCCAAUGGGGUUUGUAAAUGACGCUGCAUAUUUGAAUGACGUGUUUACACUGA\n",
      "{'P1': ['Methionine',\n",
      "        'Serine',\n",
      "        'Serine',\n",
      "        'Valine',\n",
      "        'Glutamine',\n",
      "        'Tryptophan',\n",
      "        'Glycine',\n",
      "        'Leucine'],\n",
      " 'P2': ['Methionine', 'Threonine', 'Leucine', 'Histidine', 'Isoleucine'],\n",
      " 'P3': ['Methionine', 'Threonine', 'Cysteine', 'Leucine', 'Histidine']}\n"
     ]
    }
   ],
   "source": [
    "DNA = 'TACTCGTCACAGGTTACCCCAAACATTTACTGCGACGTATAAACTTACTGCACAAATGTGACT'\n",
    "mRNA = transcription(DNA)\n",
    "print(mRNA)\n",
    "polypeptides = translation(mRNA)\n",
    "pprint.pprint(polypeptides)"
   ]
  }
 ],
 "metadata": {
  "kernelspec": {
   "display_name": "Python 3",
   "language": "python",
   "name": "python3"
  },
  "language_info": {
   "codemirror_mode": {
    "name": "ipython",
    "version": 3
   },
   "file_extension": ".py",
   "mimetype": "text/x-python",
   "name": "python",
   "nbconvert_exporter": "python",
   "pygments_lexer": "ipython3",
   "version": "3.7.6"
  }
 },
 "nbformat": 4,
 "nbformat_minor": 4
}
