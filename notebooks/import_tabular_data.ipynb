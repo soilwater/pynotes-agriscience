{
 "cells": [
  {
   "cell_type": "markdown",
   "metadata": {},
   "source": [
    "# Import Tabular Data\n",
    "\n",
    "Loading data is an essential step when using Python for scientific data analysis. In this tutorial we will cover three ways of importing data. This tutorial will not focus on how to access or analyze the data."
   ]
  },
  {
   "cell_type": "markdown",
   "metadata": {},
   "source": [
    "## Function arguments\n",
    "\n",
    "`\"r\"` - Read (default\n",
    "\n",
    "`\"a\"` - Append\n",
    "\n",
    "`\"w\"` - Write\n",
    "\n",
    "`\"x\"` - Creates the specified file\n",
    "\n",
    "`\"t\"` - Text - Default\n",
    "\n",
    "`\"b\"` - Binary (e.g. images)\n",
    "\n",
    "Source: <https://www.w3schools.com/python/python_file_handling.asp>"
   ]
  },
  {
   "cell_type": "code",
   "execution_count": 15,
   "metadata": {},
   "outputs": [
    {
     "name": "stdout",
     "output_type": "stream",
     "text": [
      "['LOCUS: SCU49845', 'ACCESSION: U49845', \"ORGANISM: Saccharomyces cerevisiae (baker's yeast)          \", 'AUTHORS: Roemer,T., Madden,K., Chang,J. and Snyder,M.', 'TITLE: Selection of axial growth sites in yeast requires Axl2p, a novel plasma membrane glycoprotein', 'JOURNAL: Genes Dev. 10 (7), 777-793 (1996)', 'PUBMED: 8846915', 'SOURCE: https://www.ncbi.nlm.nih.gov/nuccore/U49845.1?report=genbank&to=5028', 'GATCCTCCATATACAACGGTATCTCCACCTCAGGTTTAGATCTCAACAACGGAACCATTGCCGACATGAG', 'ACAGTTAGGTATCGTCGAGAGTTACAAGCTAAAACGAGCAGTAGTCAGCTCTGCATCTGAAGCCGCTGAA']\n"
     ]
    }
   ],
   "source": [
    "# Read data\n",
    "dna_list = open(\"../datasets/dna_sequence.txt\", \"r\").read().split('\\n')\n",
    "print(dna_list[0:10])\n"
   ]
  },
  {
   "cell_type": "code",
   "execution_count": 14,
   "metadata": {},
   "outputs": [
    {
     "name": "stdout",
     "output_type": "stream",
     "text": [
      "['LOCUS: SCU49845', 'ACCESSION: U49845', \"ORGANISM: Saccharomyces cerevisiae (baker's yeast)          \", 'AUTHORS: Roemer,T., Madden,K., Chang,J. and Snyder,M.', 'TITLE: Selection of axial growth sites in yeast requires Axl2p, a novel plasma membrane glycoprotein', 'JOURNAL: Genes Dev. 10 (7), 777-793 (1996)', 'PUBMED: 8846915', 'SOURCE: https://www.ncbi.nlm.nih.gov/nuccore/U49845.1?report=genbank&to=5028', 'GATCCTCCATATACAACGGTATCTCCACCTCAGGTTTAGATCTCAACAACGGAACCATTGCCGACATGAG', 'ACAGTTAGGTATCGTCGAGAGTTACAAGCTAAAACGAGCAGTAGTCAGCTCTGCATCTGAAGCCGCTGAA']\n"
     ]
    }
   ],
   "source": [
    "# Using a list comprehension\n",
    "dna_list = [line.strip('\\n') for line in open(\"../datasets/dna_sequence.txt\",\"r\")]\n",
    "print(dna_list[0:10])\n"
   ]
  }
 ],
 "metadata": {
  "kernelspec": {
   "display_name": "Python 3",
   "language": "python",
   "name": "python3"
  },
  "language_info": {
   "codemirror_mode": {
    "name": "ipython",
    "version": 3
   },
   "file_extension": ".py",
   "mimetype": "text/x-python",
   "name": "python",
   "nbconvert_exporter": "python",
   "pygments_lexer": "ipython3",
   "version": "3.7.6"
  }
 },
 "nbformat": 4,
 "nbformat_minor": 4
}
