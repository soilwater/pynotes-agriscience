{
 "cells": [
  {
   "cell_type": "markdown",
   "metadata": {},
   "source": [
    "# Soil Evaporation\n",
    "\n",
    "Soil evaporation is the process by which water leaves the pore spaces in the soil to become part of the surrounding atmopshere. The process of evaporating soil moisture requires energy, either directly supplied by the sun or from the internal energy of the soil.\n",
    "\n",
    "Assuming that we start from a fairly moist soil, the evaporative process undergoes two distinct stages. The first stage is characterized by a constant evaporation rate that is only limited by the energy available for evaporation (energy-limited). During this stage water in the pore spaces right beneath the surface can still reach the surface by means of capillarity. A second stage characterized by a decreasing evaporative rate is evident when the soil cannot keep up with the evaporative rate of the first stage. The second stage is limited by the soil's ability to conduct water to the evaporative surface (supply-limited). During long evaporative processes, a third stage of almost no evaporation rate (evaporation asymptotically approaches zero) can be identified."
   ]
  },
  {
   "cell_type": "code",
   "execution_count": 128,
   "metadata": {},
   "outputs": [],
   "source": [
    "# Import modules\n",
    "import pandas as pd\n",
    "import numpy as np\n",
    "import matplotlib.pyplot as plt\n"
   ]
  },
  {
   "cell_type": "code",
   "execution_count": 129,
   "metadata": {},
   "outputs": [
    {
     "data": {
      "text/html": [
       "<div>\n",
       "<style scoped>\n",
       "    .dataframe tbody tr th:only-of-type {\n",
       "        vertical-align: middle;\n",
       "    }\n",
       "\n",
       "    .dataframe tbody tr th {\n",
       "        vertical-align: top;\n",
       "    }\n",
       "\n",
       "    .dataframe thead th {\n",
       "        text-align: right;\n",
       "    }\n",
       "</style>\n",
       "<table border=\"1\" class=\"dataframe\">\n",
       "  <thead>\n",
       "    <tr style=\"text-align: right;\">\n",
       "      <th></th>\n",
       "      <th>timestamp</th>\n",
       "      <th>sample_mass</th>\n",
       "    </tr>\n",
       "  </thead>\n",
       "  <tbody>\n",
       "    <tr>\n",
       "      <th>0</th>\n",
       "      <td>10/18/17 17:21</td>\n",
       "      <td>297.1</td>\n",
       "    </tr>\n",
       "    <tr>\n",
       "      <th>1</th>\n",
       "      <td>10/18/17 17:26</td>\n",
       "      <td>297.0</td>\n",
       "    </tr>\n",
       "    <tr>\n",
       "      <th>2</th>\n",
       "      <td>10/18/17 17:31</td>\n",
       "      <td>297.0</td>\n",
       "    </tr>\n",
       "    <tr>\n",
       "      <th>3</th>\n",
       "      <td>10/18/17 17:36</td>\n",
       "      <td>297.0</td>\n",
       "    </tr>\n",
       "    <tr>\n",
       "      <th>4</th>\n",
       "      <td>10/18/17 17:41</td>\n",
       "      <td>296.9</td>\n",
       "    </tr>\n",
       "  </tbody>\n",
       "</table>\n",
       "</div>"
      ],
      "text/plain": [
       "        timestamp  sample_mass\n",
       "0  10/18/17 17:21        297.1\n",
       "1  10/18/17 17:26        297.0\n",
       "2  10/18/17 17:31        297.0\n",
       "3  10/18/17 17:36        297.0\n",
       "4  10/18/17 17:41        296.9"
      ]
     },
     "execution_count": 129,
     "metadata": {},
     "output_type": "execute_result"
    }
   ],
   "source": [
    "# Load dataset\n",
    "df = pd.read_csv('../datasets/evaporation.csv')\n",
    "df.head()\n"
   ]
  },
  {
   "cell_type": "code",
   "execution_count": 130,
   "metadata": {},
   "outputs": [],
   "source": [
    "# Convert dates to Pandas datetime format\n",
    "df[\"timestamp\"] = pd.to_datetime(df[\"timestamp\"], format=\"%m/%d/%y %H:%M\")\n"
   ]
  },
  {
   "cell_type": "code",
   "execution_count": 131,
   "metadata": {},
   "outputs": [
    {
     "data": {
      "text/html": [
       "<div>\n",
       "<style scoped>\n",
       "    .dataframe tbody tr th:only-of-type {\n",
       "        vertical-align: middle;\n",
       "    }\n",
       "\n",
       "    .dataframe tbody tr th {\n",
       "        vertical-align: top;\n",
       "    }\n",
       "\n",
       "    .dataframe thead th {\n",
       "        text-align: right;\n",
       "    }\n",
       "</style>\n",
       "<table border=\"1\" class=\"dataframe\">\n",
       "  <thead>\n",
       "    <tr style=\"text-align: right;\">\n",
       "      <th></th>\n",
       "      <th>timestamp</th>\n",
       "      <th>sample_mass</th>\n",
       "      <th>elapsed_time</th>\n",
       "      <th>day</th>\n",
       "      <th>hours</th>\n",
       "    </tr>\n",
       "  </thead>\n",
       "  <tbody>\n",
       "    <tr>\n",
       "      <th>0</th>\n",
       "      <td>2017-10-18 17:21:00</td>\n",
       "      <td>297.1</td>\n",
       "      <td>0.000000</td>\n",
       "      <td>18</td>\n",
       "      <td>17</td>\n",
       "    </tr>\n",
       "    <tr>\n",
       "      <th>1</th>\n",
       "      <td>2017-10-18 17:26:00</td>\n",
       "      <td>297.0</td>\n",
       "      <td>0.003472</td>\n",
       "      <td>18</td>\n",
       "      <td>17</td>\n",
       "    </tr>\n",
       "    <tr>\n",
       "      <th>2</th>\n",
       "      <td>2017-10-18 17:31:00</td>\n",
       "      <td>297.0</td>\n",
       "      <td>0.006944</td>\n",
       "      <td>18</td>\n",
       "      <td>17</td>\n",
       "    </tr>\n",
       "    <tr>\n",
       "      <th>3</th>\n",
       "      <td>2017-10-18 17:36:00</td>\n",
       "      <td>297.0</td>\n",
       "      <td>0.010417</td>\n",
       "      <td>18</td>\n",
       "      <td>17</td>\n",
       "    </tr>\n",
       "    <tr>\n",
       "      <th>4</th>\n",
       "      <td>2017-10-18 17:41:00</td>\n",
       "      <td>296.9</td>\n",
       "      <td>0.013889</td>\n",
       "      <td>18</td>\n",
       "      <td>17</td>\n",
       "    </tr>\n",
       "  </tbody>\n",
       "</table>\n",
       "</div>"
      ],
      "text/plain": [
       "            timestamp  sample_mass  elapsed_time  day  hours\n",
       "0 2017-10-18 17:21:00        297.1      0.000000   18     17\n",
       "1 2017-10-18 17:26:00        297.0      0.003472   18     17\n",
       "2 2017-10-18 17:31:00        297.0      0.006944   18     17\n",
       "3 2017-10-18 17:36:00        297.0      0.010417   18     17\n",
       "4 2017-10-18 17:41:00        296.9      0.013889   18     17"
      ]
     },
     "execution_count": 131,
     "metadata": {},
     "output_type": "execute_result"
    }
   ],
   "source": [
    "# Compute elapsed time since beginning of the experiment in days\n",
    "df[\"elapsed_time\"] = (df[\"timestamp\"] - df[\"timestamp\"][0]).dt.total_seconds()/86400\n",
    "df[\"day\"] = df[\"timestamp\"].dt.day\n",
    "df[\"hours\"] = df[\"timestamp\"].dt.hour\n",
    "\n",
    "df.head()\n"
   ]
  },
  {
   "cell_type": "code",
   "execution_count": 132,
   "metadata": {},
   "outputs": [
    {
     "data": {
      "image/png": "[encoded data removed]",
      "text/plain": [
       "<Figure size 432x288 with 1 Axes>"
      ]
     },
     "metadata": {
      "needs_background": "light"
     },
     "output_type": "display_data"
    }
   ],
   "source": [
    "# Inspect data\n",
    "plt.figure()\n",
    "plt.plot(df[\"elapsed_time\"], df[\"sample_mass\"])\n",
    "plt.xlabel(\"Days since start of the experiment\")\n",
    "plt.ylabel(\"Samples mass (g)\")\n",
    "plt.show()\n"
   ]
  },
  {
   "cell_type": "code",
   "execution_count": 133,
   "metadata": {},
   "outputs": [],
   "source": [
    "# Smooth samples mass data\n",
    "df[\"smoothed_sample_mass\"] = df[\"sample_mass\"].rolling(window=15).mean()\n"
   ]
  },
  {
   "cell_type": "code",
   "execution_count": 134,
   "metadata": {},
   "outputs": [],
   "source": [
    "# Compute evaporation rate\n",
    "E_rate = np.diff(df[\"smoothed_sample_mass\"].iloc[0::20]) / np.diff(df[\"elapsed_time\"].iloc[0::20])\n",
    "E_rate = E_rate * -1\n"
   ]
  },
  {
   "cell_type": "code",
   "execution_count": 135,
   "metadata": {},
   "outputs": [
    {
     "data": {
      "image/png": "[encoded data removed]",
      "text/plain": [
       "<Figure size 432x288 with 1 Axes>"
      ]
     },
     "metadata": {
      "needs_background": "light"
     },
     "output_type": "display_data"
    }
   ],
   "source": [
    "plt.figure()\n",
    "plt.scatter(df[\"elapsed_time\"].iloc[20::20], E_rate)\n",
    "plt.axvline(1.25, linestyle='--', color='k')\n",
    "plt.axvline(4,linestyle='--', color='k')\n",
    "plt.show()"
   ]
  }
 ],
 "metadata": {
  "kernelspec": {
   "display_name": "Python 3",
   "language": "python",
   "name": "python3"
  },
  "language_info": {
   "codemirror_mode": {
    "name": "ipython",
    "version": 3
   },
   "file_extension": ".py",
   "mimetype": "text/x-python",
   "name": "python",
   "nbconvert_exporter": "python",
   "pygments_lexer": "ipython3",
   "version": "3.8.5"
  }
 },
 "nbformat": 4,
 "nbformat_minor": 4
}
