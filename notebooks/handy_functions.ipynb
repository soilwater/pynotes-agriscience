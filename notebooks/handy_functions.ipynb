{
 "cells": [
  {
   "cell_type": "markdown",
   "metadata": {},
   "source": [
    "# Handy functions for data science\n",
    "\n",
    "To use the functions below you need to know how to:\n",
    "\n",
    "- Define a custom function\n",
    "- Create Lambda functions: An short anonymous function in python\n",
    "- Know the basic structure of iterables. An iterable is simply a list, tuple, or dictionary over which the functions below will iterate over."
   ]
  },
  {
   "cell_type": "markdown",
   "metadata": {},
   "source": [
    "## Map\n",
    "\n",
    "`map(function, iterable)`\n",
    "\n",
    "Function that maps individual values in one list to another list following a specific function. If you are alrady using the Numpy module in your code, then you might be able to perform element-wise operations without the need for the `map()` functions.\n"
   ]
  },
  {
   "cell_type": "code",
   "execution_count": 23,
   "metadata": {},
   "outputs": [
    {
     "name": "stdout",
     "output_type": "stream",
     "text": [
      "[32.0, 50.0, 68.0, 212.0]\n"
     ]
    }
   ],
   "source": [
    "celsius = [0,10,20,100]\n",
    "fahrenheit = list(map(lambda x: (x*9/5)+32, celsius))\n",
    "print(fahrenheit)\n"
   ]
  },
  {
   "cell_type": "code",
   "execution_count": 18,
   "metadata": {},
   "outputs": [
    {
     "name": "stdout",
     "output_type": "stream",
     "text": [
      "UAAGCCCGUUUAUACG\n"
     ]
    }
   ],
   "source": [
    "# Convert a DNA sequence into RNA\n",
    "# RNA doesn't contain thymine bases, but it contains uracil\n",
    "dna = 'ATTCGGGCAAATATGC'\n",
    "lookup = dict({\"A\":\"U\", \"T\":\"A\", \"C\":\"G\", \"G\":\"C\"})\n",
    "rna = list(map(lambda x: lookup[x], dna))\n",
    "print(''.join(rna))\n"
   ]
  },
  {
   "cell_type": "markdown",
   "metadata": {},
   "source": [
    "## Filter\n",
    "\n",
    "`filter(function, iterable)`"
   ]
  },
  {
   "cell_type": "code",
   "execution_count": 55,
   "metadata": {},
   "outputs": [
    {
     "data": {
      "text/plain": [
       "['A', 'A', 'A', 'A', 'A']"
      ]
     },
     "execution_count": 55,
     "metadata": {},
     "output_type": "execute_result"
    }
   ],
   "source": [
    "# Get the occurrence of all adenine nucleotides\n",
    "dna = 'ATTCGGGCAAATATGC'\n",
    "list(filter(lambda x: x == \"A\", dna))\n"
   ]
  },
  {
   "cell_type": "code",
   "execution_count": 54,
   "metadata": {},
   "outputs": [
    {
     "data": {
      "text/plain": [
       "[90, 150]"
      ]
     },
     "execution_count": 54,
     "metadata": {},
     "output_type": "execute_result"
    }
   ],
   "source": [
    "def hydrophobic(contact_angle):\n",
    "\n",
    "    if contact_angle < 90:\n",
    "        repel = False\n",
    "    elif contact_angle >= 90 and contact_angle <= 180:\n",
    "        repel = True\n",
    "    \n",
    "    return repel\n",
    "\n",
    "contact_angles = [5,10,20,50,90,150]\n",
    "list(filter(hydrophobic, contact_angles))\n"
   ]
  },
  {
   "cell_type": "markdown",
   "metadata": {},
   "source": [
    "## Reduce\n",
    "\n",
    "`reduce(function, iterable)`\n",
    "\n",
    "This is basically a rolling computation"
   ]
  },
  {
   "cell_type": "code",
   "execution_count": 37,
   "metadata": {},
   "outputs": [],
   "source": [
    "from functools import reduce"
   ]
  },
  {
   "cell_type": "code",
   "execution_count": 57,
   "metadata": {},
   "outputs": [
    {
     "name": "stdout",
     "output_type": "stream",
     "text": [
      "5050\n"
     ]
    }
   ],
   "source": [
    "# Compute the cumulative sum\n",
    "cumsum = reduce(lambda x, y: x+y, range(0,101)) \n",
    "print(cumsum)\n"
   ]
  },
  {
   "cell_type": "markdown",
   "metadata": {},
   "source": [
    ">Again, if you are handling data with Pandas or Numpy these functions may not look that powerful. I particularly like the `map()` function combined with dictionaries.\n"
   ]
  },
  {
   "cell_type": "code",
   "execution_count": null,
   "metadata": {},
   "outputs": [],
   "source": []
  }
 ],
 "metadata": {
  "kernelspec": {
   "display_name": "Python 3",
   "language": "python",
   "name": "python3"
  },
  "language_info": {
   "codemirror_mode": {
    "name": "ipython",
    "version": 3
   },
   "file_extension": ".py",
   "mimetype": "text/x-python",
   "name": "python",
   "nbconvert_exporter": "python",
   "pygments_lexer": "ipython3",
   "version": "3.7.6"
  }
 },
 "nbformat": 4,
 "nbformat_minor": 4
}
