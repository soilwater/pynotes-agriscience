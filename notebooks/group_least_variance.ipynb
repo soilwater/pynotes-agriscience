{
 "cells": [
  {
   "cell_type": "markdown",
   "metadata": {},
   "source": [
    "# Group with the Least Variance\n",
    "\n",
    "While growing corn plants for an experiment I noted that despite using seeds of the same size, similar vigor, and burying them at the same depth was still causing some differences in plant size soon after germination. I was careful with the amount of water applied, fertilizer application, room temperature, and light distribution. I tried to controlled everything, but yet there was some variability. Of course, despite trying to control many variables to the best of my abilities (and instruments available), some variables were not under my control. The mositure level right around the seed, room ventilation, and the biochemistry of the seed itself despite all having similar sizes.\n",
    "\n",
    "So, I decided to grow few extra plants. I needed twelve, but I seeded about 20, with the goal that at the start of the experiment I would only select the twelve that present the least variance in terms of plant height (I guess with modern technology we could be talking about volume of above-ground plant).\n",
    "\n",
    "Below is a short code that returns the set of $n$ plants that exhibit the least variance. We will import a plotting library just to visualize the variance of all the groups, but certainly this is not needed if you are only interested in *the* group with the lowest variance (or perhaps highest variance depending on your application).\n"
   ]
  },
  {
   "cell_type": "code",
   "execution_count": 67,
   "metadata": {},
   "outputs": [],
   "source": [
    "# Import modules\n",
    "import numpy as np\n",
    "from itertools import combinations  \n"
   ]
  },
  {
   "cell_type": "code",
   "execution_count": null,
   "metadata": {},
   "outputs": [],
   "source": [
    "# Load some sample data\n",
    "sample_data = np.array([1,1,2,1.2,3,2,3,6,7,9])\n"
   ]
  },
  {
   "cell_type": "code",
   "execution_count": 69,
   "metadata": {},
   "outputs": [],
   "source": [
    "# Define function\n",
    "def groupleastvar(data,k):\n",
    "    \"\"\"Function that finds the k members of a group with the minimum variance\n",
    "\n",
    "    Inputs\n",
    "        -data:  must be a column or row vector of the variable of interest.\n",
    "                This function can handle NaN values.\n",
    "        -k:     positive integer that denotes the members per group.\n",
    "    \n",
    "    Outputs\n",
    "        -comb_min:  list with the position of the group with the least variance. \n",
    "                    It has a length of k elements\n",
    "    \"\"\"\n",
    "\n",
    "    combs = list(combinations(range(len(data)), k))\n",
    "\n",
    "    V = np.array([])\n",
    "    for group in combs:\n",
    "        group = list(group)\n",
    "        group_var = np.nanvar(data[group])\n",
    "        V = np.append(V, group_var)\n",
    "\n",
    "    # Select group with the lowest variance\n",
    "    idx_min = np.argmin(V)\n",
    "    comb_min = list(combs[idx_min])\n",
    "    return comb_min\n"
   ]
  },
  {
   "cell_type": "code",
   "execution_count": 70,
   "metadata": {},
   "outputs": [
    {
     "name": "stdout",
     "output_type": "stream",
     "text": [
      "The 5 members with the lowest variance are: [0, 1, 2, 3, 5] and their values are: [1.  1.  2.  1.2 2. ]\n"
     ]
    }
   ],
   "source": [
    "# Call the function with a dataset\n",
    "k = 5\n",
    "comb_min = groupleastvar(data,k)\n",
    "print(\"The\",k,\"members with the lowest variance are:\",comb_min,\"and their values are:\",data[comb_min])\n"
   ]
  },
  {
   "cell_type": "markdown",
   "metadata": {},
   "source": [
    "To obtain the actual values rather the indices, the following line of code should work:\n",
    "```python\n",
    "combs = np.array(list(combinations(data, k)))\n",
    "```\n",
    "\n",
    "In our case we needed the index, since we want to go back and retreive the group with the lowest variance. From the practical point of view, we need to be able to identify the *k* members that have the lowest variance, and indices are more useful that the actual value for this operation.\n",
    "\n",
    "An extension of this exercise is to use boolean indexing to return the *q* groups with the lowest variance as determined by the 5th percentile.\n"
   ]
  }
 ],
 "metadata": {
  "kernelspec": {
   "display_name": "Python 3",
   "language": "python",
   "name": "python3"
  },
  "language_info": {
   "codemirror_mode": {
    "name": "ipython",
    "version": 3
   },
   "file_extension": ".py",
   "mimetype": "text/x-python",
   "name": "python",
   "nbconvert_exporter": "python",
   "pygments_lexer": "ipython3",
   "version": "3.8.5"
  }
 },
 "nbformat": 4,
 "nbformat_minor": 4
}
