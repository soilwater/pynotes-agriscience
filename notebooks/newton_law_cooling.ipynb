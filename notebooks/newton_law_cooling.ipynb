{
 "cells": [
  {
   "cell_type": "markdown",
   "metadata": {},
   "source": [
    "# Newton's law of cooling\n",
    "\n",
    "The model states that the rate of cooling of a warm body without internal heating is proportional to the temperature difference between the body of interest and the ambient temperature. As a result, the temperature of the body with respect to its surroundings decreases exponentially with time.\n",
    "\n",
    "$$\\frac{dT}{dt}=-K(T_{obj} - T_{amb}) $$\n",
    "\n",
    "\n",
    "$\\frac{dT}{dt}$ Rate of change of temperature\n",
    "\n",
    "$-K$ Newton's cooling constant of proportionality (found empirically)\n",
    "\n",
    "$T_{obj}$ Temperature of the medium of interest\n",
    "\n",
    "$T_{amb}$ Ambient temperature. Assumed to be constant and not affected by the object's temperature\n",
    "\n",
    "The equation can be solved analytically or numerically. To practice `for loops` we will implement the solution numerically by discretizing the equation into one minute intervals. This means that the rate of cooling at time $t$ will be approximated by using the temperature of the object at time $t-1$. Numerical solutions are just approximations, but if we carefully select the time step and the way in which we conduct the iteration process, then the results can be extremely accurate. In more formal terms:\n",
    "\n",
    "$$\\frac{\\Delta T}{\\Delta t} \\approx \\frac{dT}{dt}=-K(T_{obj} - T_{amb}) $$\n",
    "\n",
    "\n",
    "\n",
    ">Note that this law does not apply to homeotherm (opposite to poikilotherm) animals. For that case you may want to consider using Fourier's law of heat flow. For more details refer to Kleiber 1972. Some considerations for using this equation for homeotherms is given by Tracy 1972, in which a time-dependent constant of proportionality is suggested as a function of the changing environmental conditions (e.g. wind speed).\n",
    "\n",
    "In case you are interested, a large portion of Newton's research notes have been digitized by [Cambridge University Library](https://cudl.lib.cam.ac.uk/collections/newton/1). I highly encourage you to take a look at such wonderful collection from one of the greatest scientists of all time."
   ]
  },
  {
   "cell_type": "code",
   "execution_count": 1,
   "metadata": {},
   "outputs": [],
   "source": [
    "import numpy as np\n",
    "import matplotlib.pyplot as plt\n",
    "%matplotlib inline"
   ]
  },
  {
   "cell_type": "code",
   "execution_count": 5,
   "metadata": {},
   "outputs": [],
   "source": [
    "# Define initial conditions of the system\n",
    "dt = 1 # minutes\n",
    "period = 121 # minutes\n",
    "t_cup_pred = range(period)# minutes\n",
    "T_cup_pred = [70] # Celsius\n",
    "T_amb = 22.5 # Celsius\n",
    "K = 0.022 # 1/minutes\n"
   ]
  },
  {
   "cell_type": "code",
   "execution_count": 6,
   "metadata": {},
   "outputs": [],
   "source": [
    "# Implement iterative solution\n",
    "for t in range(1,period):\n",
    "    dT = -K*(T_cup_pred[t-1] - T_amb)*dt # Change in temperature of object\n",
    "    T_cup_pred_update = T_cup_pred[t-1] + dT # New temperature for current time step\n",
    "    T_cup_pred.append(T_cup_pred_update)\n"
   ]
  },
  {
   "cell_type": "code",
   "execution_count": 55,
   "metadata": {},
   "outputs": [],
   "source": [
    "# Alternative one-line solution using the [-1] indexing operator\n",
    "T_cup_pred = [70]\n",
    "for t in range(1,period):\n",
    "    T_cup_pred.append(T_cup_pred[-1] + -K*(T_cup_pred[-1] - T_amb)*dt)\n",
    "    "
   ]
  },
  {
   "cell_type": "code",
   "execution_count": 7,
   "metadata": {},
   "outputs": [],
   "source": [
    "# Observations using hot water in a regular ceramic mug\n",
    "T_cup_obs = [70,69,67,65,64,63,62.5,61.5,60.7,60,59,55,52.1,49.3,47,43,39.5,36.5,34.3,28]\n",
    "t_cup_obs = [0,1,2,3,4,5,6,7,8,9,10,15,20,25,30,40,50,60,70,120]\n"
   ]
  },
  {
   "cell_type": "code",
   "execution_count": 8,
   "metadata": {},
   "outputs": [
    {
     "name": "stdout",
     "output_type": "stream",
     "text": [
      "1.27 degrees Celsius\n"
     ]
    }
   ],
   "source": [
    "# A way to compute the mean absolute error (MAE) of the model\n",
    "E = np.take(T_cup_pred,t_cup_obs) - T_cup_obs # Compute error\n",
    "MAE = np.mean(np.abs(E)) # Compute mean absolute error in Celsius\n",
    "print(round(MAE,2), 'degrees Celsius')\n"
   ]
  },
  {
   "cell_type": "code",
   "execution_count": 9,
   "metadata": {},
   "outputs": [
    {
     "data": {
      "image/png": "[encoded data removed]",
      "text/plain": [
       "<Figure size 576x360 with 1 Axes>"
      ]
     },
     "metadata": {
      "needs_background": "light"
     },
     "output_type": "display_data"
    }
   ],
   "source": [
    "plt.figure(figsize=(8,5))\n",
    "plt.plot(t_cup_pred, T_cup_pred, '--r')\n",
    "plt.plot(t_cup_obs, T_cup_obs, 'ok')  \n",
    "plt.xlabel('Time (Minutes)', size=16)\n",
    "plt.ylabel('Temperature (Celsius)', size=16)\n",
    "plt.annotate('MAE = ' + str(round(MAE,2)) + ' Celsius', (70,65), size=16 )\n",
    "#plt.savefig('myplot.jpg') # Save figure before rendering to avoid blank image\n",
    "plt.show()\n"
   ]
  },
  {
   "cell_type": "markdown",
   "metadata": {},
   "source": [
    "An object at 180 degrees Celsius is submersed into a water bath kept at a constant temperature of 30 degrees Celsius. From a previous pilot experiment using the same object and the same water bath, it is known that after 1 minute the temperature of the object drops to 150 degrees Celsius. How long will take until the object is within 1 degree Celsius of the water bath (i.e. near equilibrium conditions).\n"
   ]
  },
  {
   "cell_type": "code",
   "execution_count": 11,
   "metadata": {},
   "outputs": [
    {
     "name": "stdout",
     "output_type": "stream",
     "text": [
      "2.0000000000000004 88.52582180140108\n"
     ]
    }
   ],
   "source": [
    "T_cup_pred = 180\n",
    "T_target = 90\n",
    "K = np.log(2)\n",
    "dt = 0.1\n",
    "counter = 0\n",
    "while T_cup_pred > T_target:\n",
    "    T_cup_pred = T_cup_pred - K*(T_cup_pred - 60)*dt\n",
    "    counter += dt\n",
    "\n",
    "\n",
    "print(counter,T_cup_pred)"
   ]
  },
  {
   "cell_type": "markdown",
   "metadata": {},
   "source": [
    "$$ \\frac{dT}{dt} = -k(T - T_{env})$$\n",
    "\n",
    "Using separation of variables we first obtain:\n",
    "\n",
    "$$ \\frac{dT}{T-T_{env}} = -k dt $$\n",
    "\n",
    "and integrating using observations during the pilot experiment to find the thermal conductivity:\n",
    "\n",
    "$$ \\int_{T=180}^{120}  \\frac{dT}{T-60} = -k \\int_{t=0}^{1} dt $$\n",
    "\n",
    "which results in:\n",
    "\n",
    "$$ k = log(2) $$\n",
    "\n",
    "Now that we know $k = log(2)$ based on data from the pilot experiment, we can use the value of $k$ for computing the time for the object to reach any specific temperature \n",
    "\n",
    "$$ \\int_{T=90}^{180}  \\frac{dT}{T-60} = -log(2) \\int_{t=0}^{t} dt $$\n",
    "\n"
   ]
  },
  {
   "cell_type": "code",
   "execution_count": 77,
   "metadata": {},
   "outputs": [],
   "source": [
    "import sympy as sp\n",
    "t,T,k = sp.symbols('t T k')"
   ]
  },
  {
   "cell_type": "code",
   "execution_count": 78,
   "metadata": {},
   "outputs": [
    {
     "name": "stdout",
     "output_type": "stream",
     "text": [
      "LHS =  -log(2)\n",
      "RHS =  -k\n",
      "The value of k is: log(2)\n"
     ]
    }
   ],
   "source": [
    "# Variables\n",
    "T_initial = 180\n",
    "T_target = 90\n",
    "T_env = 60\n",
    "\n",
    "# Using the data for the pilot experiment we first integrate to compute k\n",
    "LHS = sp.simplify(sp.integrate(1/(T-60), (T, 180, 120)))\n",
    "print('LHS = ',LHS)\n",
    "\n",
    "RHS = sp.integrate(-k, (t, 0, 1))\n",
    "print('RHS = ',RHS)\n",
    "\n",
    "k = sp.solve(sp.Eq( LHS,RHS ), k)\n",
    "print('The value of k is:',k[0])"
   ]
  },
  {
   "cell_type": "code",
   "execution_count": 79,
   "metadata": {},
   "outputs": [
    {
     "name": "stdout",
     "output_type": "stream",
     "text": [
      "-log(4)\n",
      "-t*log(2)\n"
     ]
    }
   ],
   "source": [
    "LHS2 = sp.simplify(sp.integrate(1/(T-60), (T, 180, 90)))\n",
    "print(LHS2)\n",
    "\n",
    "RHS2 = sp.integrate(-k[0], (t, 0, t))\n",
    "print(RHS2)"
   ]
  },
  {
   "cell_type": "code",
   "execution_count": 82,
   "metadata": {},
   "outputs": [
    {
     "name": "stdout",
     "output_type": "stream",
     "text": [
      "It will take [2] minutes for the object to reach a temperature of 90 degrees Celsius\n"
     ]
    }
   ],
   "source": [
    "solution = solve(Eq(LHS2,RHS2),t)\n",
    "print('It will take',solution,'minutes for the object to reach a temperature of',T_target,'degrees Celsius')"
   ]
  },
  {
   "cell_type": "markdown",
   "metadata": {},
   "source": [
    "## Practice\n",
    "\n",
    "- Using a cooking thermometer to regularly record the temperature of a hot cup of coffee or te as it cools down. You may want to take readings frequently (e.g. every minute) at the beginning that is when the water cools down rapidly. Use the observations of time and temperature to fit Newton's law of cooling. Everytime you take a temperature reading also take a sip and take some notes on whether the beverage is too hot, too cold, or at desirable temperature. Using the collected observations, calculate how many minutes you have to drink the coffee/te before it gets too cold."
   ]
  },
  {
   "cell_type": "markdown",
   "metadata": {},
   "source": [
    "## References\n",
    "\n",
    "Kleiber, M., 1972. A new Newton's law of cooling?. Science, 178(4067), pp.1283-1285.\n",
    "\n",
    "Newton, I., 1701. Scala graduum caloris et frigoris. In Phil. Trans. R. Soc.\n",
    "\n",
    "Tracy, C.R., 1972. Newton's law: its application for expressing heat losses from homeotherms. BioScience, 22(11), pp.656-659.\n",
    "\n",
    "Vollmer, M., 2009. Newton's law of cooling revisited. European Journal of Physics, 30(5), p.1063."
   ]
  }
 ],
 "metadata": {
  "kernelspec": {
   "display_name": "Python 3",
   "language": "python",
   "name": "python3"
  },
  "language_info": {
   "codemirror_mode": {
    "name": "ipython",
    "version": 3
   },
   "file_extension": ".py",
   "mimetype": "text/x-python",
   "name": "python",
   "nbconvert_exporter": "python",
   "pygments_lexer": "ipython3",
   "version": "3.8.5"
  }
 },
 "nbformat": 4,
 "nbformat_minor": 4
}
