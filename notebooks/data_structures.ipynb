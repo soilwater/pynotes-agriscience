{
 "cells": [
  {
   "cell_type": "markdown",
   "metadata": {},
   "source": [
    "# Data Structures\n",
    "\n",
    "Information lives in data structures. You can view thse data structures as containers in which we store information for later use or processing. The selection of the right data structure depends on the structure, format, and level of complexity of the information that we want to store. Many times the same information can be stored in more than one data structure. The choice of the right data structure will depend on the application and, to a great extent, on your experience and coding preferences.\n"
   ]
  },
  {
   "cell_type": "markdown",
   "metadata": {},
   "source": [
    "## Lists\n",
    "\n",
    "Lists are great for storing short or long sequences of elements. One of the most distinct features is that we access information stored in lists by using either a positional index (retrieve single item) or slicing (retrieve one or more items). Lists are the typical arrays in other languages. I think it is worth mentioning that the standard Python lists cannot handle element-wise operations. For this we need use Numpy arrays, which we will cover later.\n",
    "\n",
    "List can have mixed data types and are `mutable`, which means that we can overwrite the information. This `mutable` capability can be good and bad. If we want to prevent accidentally changing the information of the list, then it could lead to some serious issues. On the other hand, if we want to re-define or update a variable then this feature is convenient."
   ]
  },
  {
   "cell_type": "code",
   "execution_count": 7,
   "metadata": {},
   "outputs": [
    {
     "name": "stdout",
     "output_type": "stream",
     "text": [
      "[2, 3, 5, 7, 11, 13, 17]\n"
     ]
    },
    {
     "data": {
      "text/plain": [
       "list"
      ]
     },
     "execution_count": 7,
     "metadata": {},
     "output_type": "execute_result"
    }
   ],
   "source": [
    "# Simple list\n",
    "list_primes = [2, 3, 5, 7, 11, 13, 17]  # A row vector\n",
    "print(list_primes)\n",
    "type(list_primes)"
   ]
  },
  {
   "cell_type": "code",
   "execution_count": 9,
   "metadata": {},
   "outputs": [
    {
     "name": "stdout",
     "output_type": "stream",
     "text": [
      "[31, 37, 41, 43]\n"
     ]
    }
   ],
   "source": [
    "# Re-define list (they are mutable)\n",
    "list_primes = [31, 37, 41, 43]\n",
    "print(list_primes)"
   ]
  },
  {
   "cell_type": "code",
   "execution_count": 10,
   "metadata": {},
   "outputs": [
    {
     "data": {
      "text/plain": [
       "4"
      ]
     },
     "execution_count": 10,
     "metadata": {},
     "output_type": "execute_result"
    }
   ],
   "source": [
    "# Determine the number of elements in a list\n",
    "len(list_primes)"
   ]
  },
  {
   "cell_type": "code",
   "execution_count": 11,
   "metadata": {},
   "outputs": [
    {
     "name": "stdout",
     "output_type": "stream",
     "text": [
      "[1, 2, 3, 4, 'five', 'six']\n"
     ]
    }
   ],
   "source": [
    "mixed_list = [1, 2, 3, 4, 'five', 'six']\n",
    "print(mixed_list)"
   ]
  },
  {
   "cell_type": "code",
   "execution_count": 18,
   "metadata": {},
   "outputs": [
    {
     "name": "stdout",
     "output_type": "stream",
     "text": [
      "1980\n",
      "['sand', 'silt', 'clay']\n",
      "silt\n",
      "c\n"
     ]
    }
   ],
   "source": [
    "# Lists can be nested\n",
    "nested_list = [1980, 1990, 2000, 2010,['sand','silt','clay']]\n",
    "\n",
    "print(nested_list[0])         # Access first element of list in the first position\n",
    "print(nested_list[4])         # Access list in second position\n",
    "print(nested_list[4][1])      # Access 'silt'\n",
    "print(nested_list[4][2][0])   # Access the 'c' in 'clay'"
   ]
  },
  {
   "cell_type": "code",
   "execution_count": 22,
   "metadata": {},
   "outputs": [
    {
     "name": "stdout",
     "output_type": "stream",
     "text": [
      "['sand', 'silt', 'clay']\n",
      "[1980, 1990, 2000, 2010, ['sand', 'silt', 'clay']]\n"
     ]
    }
   ],
   "source": [
    "# Extract and save a nested list in a different variable\n",
    "particles = nested_list[4]\n",
    "print(particles)    # Copy information and store in a variable with a different name\n",
    "print(nested_list)  # This list remains untouched"
   ]
  },
  {
   "cell_type": "code",
   "execution_count": 24,
   "metadata": {},
   "outputs": [
    {
     "data": {
      "text/plain": [
       "1"
      ]
     },
     "execution_count": 24,
     "metadata": {},
     "output_type": "execute_result"
    }
   ],
   "source": [
    "# Count method\n",
    "nested_list.count(2000) # Count specific element. Takes only one argument\n"
   ]
  },
  {
   "cell_type": "code",
   "execution_count": 32,
   "metadata": {},
   "outputs": [
    {
     "data": {
      "text/plain": [
       "3"
      ]
     },
     "execution_count": 32,
     "metadata": {},
     "output_type": "execute_result"
    }
   ],
   "source": [
    "# Index of specific entry\n",
    "nested_list.index(2010) "
   ]
  },
  {
   "cell_type": "markdown",
   "metadata": {},
   "source": [
    "**Will the following command work?**\n",
    "\n",
    "```python\n",
    "nested_list.index('sand')\n",
    "```\n",
    "\n",
    "**Solution**\n",
    "```python\n",
    "nested_list[4].index('sand')\n",
    "```\n"
   ]
  },
  {
   "cell_type": "code",
   "execution_count": 29,
   "metadata": {},
   "outputs": [
    {
     "name": "stdout",
     "output_type": "stream",
     "text": [
      "[1980, 1990, 2000, 2010, ['sand', 'silt', 'clay'], [2020, 2030]]\n"
     ]
    }
   ],
   "source": [
    "nested_list.append([2020,2030])\n",
    "print(nested_list)"
   ]
  },
  {
   "cell_type": "code",
   "execution_count": 33,
   "metadata": {},
   "outputs": [
    {
     "name": "stdout",
     "output_type": "stream",
     "text": [
      "[]\n"
     ]
    }
   ],
   "source": [
    "# Clear list and check that list was cleared (it should print empty brackets)\n",
    "nested_list.clear()\n",
    "print(nested_list)"
   ]
  },
  {
   "cell_type": "code",
   "execution_count": 2,
   "metadata": {},
   "outputs": [
    {
     "data": {
      "text/plain": [
       "'a'"
      ]
     },
     "execution_count": 2,
     "metadata": {},
     "output_type": "execute_result"
    }
   ],
   "source": [
    "# Here is a more challenging example:\n",
    "new_list = [ [1,2,3] , [4,5,6, ['a','b','c']] ]\n",
    "new_list[1][3][0]"
   ]
  },
  {
   "cell_type": "markdown",
   "metadata": {},
   "source": [
    "**What letter will the following Python command return?**\n",
    "```python\n",
    "new_list[1][3][0]\n",
    "```\n",
    "\n",
    "**Solution**\n",
    "```python\n",
    "'a'\n",
    "```"
   ]
  },
  {
   "cell_type": "markdown",
   "metadata": {},
   "source": [
    "### Creating a 2D matrix\n"
   ]
  },
  {
   "cell_type": "code",
   "execution_count": 17,
   "metadata": {},
   "outputs": [
    {
     "name": "stdout",
     "output_type": "stream",
     "text": [
      "[[1, 4, 5], [-5, 8, 9]]\n"
     ]
    }
   ],
   "source": [
    "M = [[1, 4, 5],\n",
    "    [-5, 8, 9]]\n",
    "print(M)"
   ]
  },
  {
   "cell_type": "markdown",
   "metadata": {},
   "source": [
    "### Append single element to a list"
   ]
  },
  {
   "cell_type": "code",
   "execution_count": 15,
   "metadata": {},
   "outputs": [
    {
     "name": "stdout",
     "output_type": "stream",
     "text": [
      "['Gelisols', 'Histosols', 'Spodosols', 'Andisols']\n"
     ]
    }
   ],
   "source": [
    "# Append a single element\n",
    "soil_orders = ['Gelisols','Histosols','Spodosols']\n",
    "soil_orders.append('Andisols') # Add new item to the existing list\n",
    "print(soil_orders)\n"
   ]
  },
  {
   "cell_type": "markdown",
   "metadata": {},
   "source": [
    "### Append multiple elements to a list"
   ]
  },
  {
   "cell_type": "code",
   "execution_count": 35,
   "metadata": {},
   "outputs": [
    {
     "name": "stdout",
     "output_type": "stream",
     "text": [
      "['Gelisols', 'Histosols', 'Spodosols', ['Oxisols', 'Aridisols', 'Vertisols', 'Ultisols']]\n"
     ]
    }
   ],
   "source": [
    "# Append multiple elements\n",
    "soil_orders = ['Gelisols','Histosols','Spodosols']\n",
    "extra_soil_orders = ['Oxisols','Aridisols','Vertisols','Ultisols']\n",
    "soil_orders.append(extra_soil_orders)\n",
    "print(soil_orders)\n"
   ]
  },
  {
   "cell_type": "markdown",
   "metadata": {},
   "source": [
    ">Note the difference in the output list between `append()` in the previous code cell and `extend()` in the following code cell. In the previous cell the appended list appears nested, while the `extend()` method truly merges both lists to make a single, larger list."
   ]
  },
  {
   "cell_type": "markdown",
   "metadata": {},
   "source": [
    "### Merge lists"
   ]
  },
  {
   "cell_type": "code",
   "execution_count": 12,
   "metadata": {},
   "outputs": [
    {
     "name": "stdout",
     "output_type": "stream",
     "text": [
      "['Gelisols', 'Histosols', 'Spodosols', 'Oxisols', 'Aridisols', 'Vertisols']\n"
     ]
    }
   ],
   "source": [
    "# Extend list\n",
    "soil_orders = ['Gelisols','Histosols','Spodosols']\n",
    "extra_soil_orders = ['Oxisols','Aridisols','Vertisols']\n",
    "\n",
    "soil_orders.extend(extra_soil_orders)\n",
    "print(soil_orders)\n"
   ]
  },
  {
   "cell_type": "markdown",
   "metadata": {},
   "source": [
    "### Delete element from list"
   ]
  },
  {
   "cell_type": "code",
   "execution_count": 13,
   "metadata": {},
   "outputs": [
    {
     "name": "stdout",
     "output_type": "stream",
     "text": [
      "['Gelisols', 'Histosols', 'Spodosols', 'Oxisols', 'Aridisols', 'Vertisols']\n",
      "['Gelisols', 'Spodosols', 'Oxisols', 'Aridisols', 'Vertisols']\n"
     ]
    }
   ],
   "source": [
    "# Eliminate last element\n",
    "print(soil_orders) # Print original list\n",
    "soil_orders.pop(1) # Eliminate the second element of the list and print remaining elements\n",
    "print(soil_orders)\n"
   ]
  },
  {
   "cell_type": "code",
   "execution_count": 14,
   "metadata": {},
   "outputs": [
    {
     "name": "stdout",
     "output_type": "stream",
     "text": [
      "['Gelisols', 'Aridisols', 'Vertisols']\n"
     ]
    }
   ],
   "source": [
    "# An alternative method to delete one or more elements of the list.\n",
    "del soil_orders[1:3]\n",
    "print(soil_orders)"
   ]
  },
  {
   "cell_type": "markdown",
   "metadata": {},
   "source": [
    "## Tuples\n",
    "\n",
    "Tuples are another data strcuture in python. Tuples are convenient when storing data defined by one or more values. For instance, a point in a two-dimensional plane is defined by its `x` and `y` coordinates. So a tuple `point(x,y)` would make sense. Both pieces of infomration are critical to define a point. Then many points could be stored within a list, such as: `many_points = [(x1,y1),(x2,y2),(x3,y3),(x4,y4)]`. Another example that requires three pieces of inofmation is color in the RGB space. Each band of the RGB space could be store in a tuple to store color information `(r,g,b)`. Some plotting libraries, like HoloViews, use tuples to pass pairs of `x` and `y` varaibles and plot options.\n",
    "\n",
    "Tuples have an important property: they are `immutable`. Let's define a tuple and try to change its content to see what happens.\n"
   ]
  },
  {
   "cell_type": "code",
   "execution_count": 27,
   "metadata": {},
   "outputs": [
    {
     "data": {
      "text/plain": [
       "tuple"
      ]
     },
     "execution_count": 27,
     "metadata": {},
     "output_type": "execute_result"
    }
   ],
   "source": [
    "# Tuples (immutable)\n",
    "point = (2.5,4.7) # (x,y) coordinates\n",
    "type(point)\n"
   ]
  },
  {
   "cell_type": "code",
   "execution_count": null,
   "metadata": {},
   "outputs": [],
   "source": [
    "point[0] = 1.3; # This will throw an error. We can't change the value of a tuple (immutable)."
   ]
  },
  {
   "cell_type": "markdown",
   "metadata": {},
   "source": [
    "Similar to cartesion coordinates, tuples would be great for storing geographic information such as latitude, longitude, and altitude."
   ]
  },
  {
   "cell_type": "code",
   "execution_count": 33,
   "metadata": {},
   "outputs": [
    {
     "data": {
      "text/plain": [
       "[(19.536111, -155.576111, 3397), (39.106704, -96.608968, 320)]"
      ]
     },
     "execution_count": 33,
     "metadata": {},
     "output_type": "execute_result"
    }
   ],
   "source": [
    "# Geographic coordinates \n",
    "mauna_loa = (19.536111, -155.576111, 3397) # Mauna Load Observatory in Hawaii\n",
    "konza_prairie = (39.106704, -96.608968, 320) # Konza Prairie in Kansas\n",
    "\n",
    "coords = [mauna_loa,konza_prairie]\n",
    "coords"
   ]
  },
  {
   "cell_type": "code",
   "execution_count": 29,
   "metadata": {},
   "outputs": [
    {
     "data": {
      "text/plain": [
       "[(0, 0, 0), (255, 255, 255), (0, 255, 0)]"
      ]
     },
     "execution_count": 29,
     "metadata": {},
     "output_type": "execute_result"
    }
   ],
   "source": [
    "# A list of tuples\n",
    "colors = [(0,0,0), (255,255,255), (0,255,0)] # Each tuple refers to RGB colors: black, white, and green.\n",
    "colors"
   ]
  },
  {
   "cell_type": "markdown",
   "metadata": {},
   "source": [
    "By storing data in tuples within a list is much easier to access data all at once. For instance, to retrieve the color of the third element"
   ]
  },
  {
   "cell_type": "code",
   "execution_count": 30,
   "metadata": {},
   "outputs": [
    {
     "data": {
      "text/plain": [
       "(0, 255, 0)"
      ]
     },
     "execution_count": 30,
     "metadata": {},
     "output_type": "execute_result"
    }
   ],
   "source": [
    "colors[2]"
   ]
  },
  {
   "cell_type": "markdown",
   "metadata": {},
   "source": [
    "## Dictionaries\n",
    "\n",
    "Dictionaries are an extremely versatile and one of the most popular python data structures. One of the most powerful features is the ability to store and retrieve information using names. When we use lists we need to know the content in each postion of the list to retrieve the right piece of information. If we don't then we need to do some sort of matching process. With `dictionaries` this type of operations are easier and much more intuitive. Often times our datasets contain names of cities, laboratories, treatments, etc. that we can easily remember and use to access data.\n",
    "\n",
    "```{note}\n",
    "Dictionaries are defined using `{}` and data inside dictionaries is associated to names using `name:value` pairs.\n",
    "```\n",
    "\n",
    "For example, the dictionary below stores information about different soil hydraulic properties and fitting parameters for pedotrasnfer functions for different soil textural classes obtained from the ROSETTA model (Schaap et al., 2001). \n",
    "\n",
    "Each list contains values for:\n",
    "\n",
    "- Residual water content ($cm^3/cm^3$)\n",
    "- Saturated water content ($cm^3/cm^3$)\n",
    "- Fitting parameter alpha (1/cm)\n",
    "- Fitting parameter n (unitless)\n",
    "- Saturated hydraulic conductivity (cm/hr)\n",
    "\n",
    "\n",
    "Schaap, M.G., Leij, F.J. and Van Genuchten, M.T., 2001. Rosetta: A computer program for estimating soil hydraulic parameters with hierarchical pedotransfer functions. Journal of hydrology, 251(3-4), pp.163-176."
   ]
  },
  {
   "cell_type": "code",
   "execution_count": 21,
   "metadata": {},
   "outputs": [],
   "source": [
    "parameters = {'clay' : [0.098,0.459,0.015,1.25,0.615],\n",
    "              'clay loam' : [0.079,0.442,0.0158,1.42,0.341],\n",
    "              'loam' : [0.061,0.399,0.0111,1.47,0.502],\n",
    "              'loamy sand' : [0.049,0.390, 0.0348, 1.75,4.383],\n",
    "              'sand' : [0.053,0.375,0.0352,3.18,26.779],\n",
    "              'sandy clay' : [0.117,0.385,0.0334,1.21,0.473],\n",
    "              'sandy clay loam' : [0.063,0.384,0.0211,1.33,0.549],\n",
    "              'sandy loam' : [0.039,0.387,0.0267,1.45,1.595],\n",
    "              'silt' : [0.05,0.489,0.0066,1.68,1.823],\n",
    "              'silty clay' : [0.111,0.481,0.0162,1.32,0.401],\n",
    "              'silty clay loam' : [0.090,0.482,0.0084,1.52,0.463],\n",
    "              'silty loam' : [0.065,0.439,0.0051,1.66,0.760]\n",
    "            }"
   ]
  },
  {
   "cell_type": "code",
   "execution_count": 22,
   "metadata": {},
   "outputs": [
    {
     "data": {
      "text/plain": [
       "[0.065, 0.439, 0.0051, 1.66, 0.76]"
      ]
     },
     "execution_count": 22,
     "metadata": {},
     "output_type": "execute_result"
    }
   ],
   "source": [
    "# Obtain all parameters for a single textural class\n",
    "parameters['silty loam']"
   ]
  },
  {
   "cell_type": "code",
   "execution_count": 23,
   "metadata": {},
   "outputs": [
    {
     "data": {
      "text/plain": [
       "0.439"
      ]
     },
     "execution_count": 23,
     "metadata": {},
     "output_type": "execute_result"
    }
   ],
   "source": [
    "# Obtain specific parameter for a single textural class\n",
    "parameters['silty loam'][1] # Saturated water content"
   ]
  },
  {
   "cell_type": "markdown",
   "metadata": {},
   "source": [
    "Sometimes we don't know all the keys in a dictionary, so the `keys()` method can be used to return a list of all the keys. The returned list can be stored and used to access a specific property by iterating over each dictionary key."
   ]
  },
  {
   "cell_type": "code",
   "execution_count": 24,
   "metadata": {},
   "outputs": [
    {
     "data": {
      "text/plain": [
       "dict_keys(['clay', 'clay loam', 'loam', 'loamy sand', 'sand', 'sandy clay', 'sandy clay loam', 'sandy loam', 'silt', 'silty clay', 'silty clay loam', 'silty loam'])"
      ]
     },
     "execution_count": 24,
     "metadata": {},
     "output_type": "execute_result"
    }
   ],
   "source": [
    "# Return all keys\n",
    "parameters.keys() # alternatively K = parameters.keys(); print(K)"
   ]
  },
  {
   "cell_type": "markdown",
   "metadata": {},
   "source": [
    "The order of the items in the returned list follows a specific order. Which means that we need to know the order of the list items in advance to access the right property. In this particular case, the dictionary is useful to access hydraulic properties by textural class, but it does not explicity exposes the different properties. A more refined version of the dictionary could be:"
   ]
  },
  {
   "cell_type": "code",
   "execution_count": 25,
   "metadata": {},
   "outputs": [],
   "source": [
    "parameters = {'clay' : {'theta_res':0.098, 'theta_sat':0.459, 'alpha':0.015, 'n':1.25, 'Ksat':0.615},\n",
    "              'clay loam' : {'theta_res':0.079, 'theta_sat':0.442, 'alpha':0.0158, 'n':1.42, 'Ksat':0.341},\n",
    "              'loam' : {'theta_res':0.061, 'theta_sat':0.399, 'alpha':0.0111, 'n':1.47, 'Ksat':0.502},\n",
    "              'loamy sand' : {'theta_res':0.049, 'theta_sat':0.390, 'alpha':0.0348, 'n':1.75, 'Ksat':4.383},\n",
    "              'sand' : {'theta_res':0.053, 'theta_sat':0.375, 'alpha':0.0352, 'n':3.18, 'Ksat':26.779},\n",
    "              'sandy clay' : {'theta_res':0.117, 'theta_sat':0.385, 'alpha':0.0334, 'n':1.21, 'Ksat':0.473},\n",
    "              'sandy clay loam' : {'theta_res':0.063, 'theta_sat':0.384, 'alpha':0.0211, 'n':1.33, 'Ksat':0.549},\n",
    "              'sandy loam' : {'theta_res':0.039, 'theta_sat':0.387, 'alpha':0.0267, 'n':1.45, 'Ksat':1.595},\n",
    "              'silt' : {'theta_res':0.05, 'theta_sat':0.489, 'alpha':0.0066, 'n':1.68, 'Ksat':1.823},\n",
    "              'silty clay' : {'theta_res':0.111, 'theta_sat':0.481, 'alpha':0.0162, 'n':1.32, 'Ksat':0.401},\n",
    "              'silty clay loam' : {'theta_res':0.090, 'theta_sat':0.482, 'alpha':0.0084, 'n':1.52, 'Ksat':0.463},\n",
    "              'silty loam' : {'theta_res':0.065, 'theta_sat':0.439, 'alpha':0.0051, 'n':1.66, 'Ksat':0.760}\n",
    "            }"
   ]
  },
  {
   "cell_type": "code",
   "execution_count": 26,
   "metadata": {},
   "outputs": [
    {
     "data": {
      "text/plain": [
       "0.439"
      ]
     },
     "execution_count": 26,
     "metadata": {},
     "output_type": "execute_result"
    }
   ],
   "source": [
    "parameters['silty loam']['theta_sat']"
   ]
  },
  {
   "cell_type": "markdown",
   "metadata": {},
   "source": [
    "The new dictionary is more verbose, but it is harder to mistake one physical property for another. Depending on the application and the your preferences as a programmer you can opt for different ways of storing data."
   ]
  },
  {
   "cell_type": "markdown",
   "metadata": {},
   "source": [
    "Much of the data in the internet is stored and transferred using structures similar to dictionaries called JSON (Javascript Object Notation). These JSON structures are very much like Python dictionaries. Below is an example JSON retrieved from [OpenWeatherMap.org](https://openweathermap.org/) documentation page for the city of London.\n"
   ]
  },
  {
   "cell_type": "code",
   "execution_count": 22,
   "metadata": {},
   "outputs": [
    {
     "name": "stdout",
     "output_type": "stream",
     "text": [
      "-0.13\n",
      "4.1\n"
     ]
    }
   ],
   "source": [
    "# Here is a more concrete example using actual weather data obtained from OpenWeatherMap:\n",
    "\n",
    "data = {\"coord\":{\"lon\":-0.13,\"lat\":51.51},\n",
    "        \"weather\":[{\"description\":\"light intensity drizzle\"}],\n",
    "        \"base\":\"stations\",\n",
    "        \"main\":{\"temp\":280.32,\"pressure\":1012,\"humidity\":81},\n",
    "        \"visibility\":10000,\n",
    "        \"wind\":{\"speed\":4.1,\"deg\":80},\n",
    "        \"clouds\":{\"all\":90},\n",
    "        \"dt\":1485789600,\n",
    "        \"sys\":{\"country\":\"GB\",\"sunrise\":1485762037},\n",
    "        \"id\":2643743,\n",
    "        \"name\":\"London\",\n",
    "        \"cod\":200}\n",
    "\n",
    "print(data['coord']['lon'])\n",
    "print(data['wind']['speed']) # Using apostrophes\n"
   ]
  },
  {
   "cell_type": "code",
   "execution_count": 43,
   "metadata": {},
   "outputs": [
    {
     "name": "stdout",
     "output_type": "stream",
     "text": [
      "['coord', 'weather', 'base', 'main', 'visibility', 'wind', 'clouds', 'dt', 'sys', 'id', 'name', 'cod']\n"
     ]
    }
   ],
   "source": [
    "# Get all the keys in a list\n",
    "print([*data])"
   ]
  },
  {
   "cell_type": "markdown",
   "metadata": {},
   "source": [
    "## Sets"
   ]
  },
  {
   "cell_type": "code",
   "execution_count": 44,
   "metadata": {},
   "outputs": [
    {
     "name": "stdout",
     "output_type": "stream",
     "text": [
      "{'California', 'Alaska', 'Kansas', 'Texas'}\n",
      "True\n",
      "False\n"
     ]
    }
   ],
   "source": [
    "# Sets (set of unique values, test membership)\n",
    "\n",
    "states = ['Kansas', 'Texas', 'California', 'Texas', 'Alaska', 'Kansas']\n",
    "uniqueStates = set(states) # \n",
    "print(uniqueStates)\n",
    "\n",
    "print('Kansas' in uniqueStates) # Testing membership (True)\n",
    "print('Iowa' in uniqueStates)   # Testing membership (False)"
   ]
  },
  {
   "cell_type": "code",
   "execution_count": 54,
   "metadata": {},
   "outputs": [
    {
     "name": "stdout",
     "output_type": "stream",
     "text": [
      "{'A', 'G', 'T'}\n",
      "{'A', 'G', 'C', 'T'}\n"
     ]
    }
   ],
   "source": [
    "dna1 = set('ATTTGAATTA') # DNA sequence 1\n",
    "dna2 = set('GGATTCGCGT') # DNA sequence 2\n",
    "\n",
    "# Print unique bases in each DNA sequence\n",
    "print(dna1)\n",
    "print(dna2)"
   ]
  },
  {
   "cell_type": "markdown",
   "metadata": {},
   "source": [
    "## Practice\n",
    "\n",
    "- Create a list with the scientific names of three common grasses in the US Great Plains: big bluestem, switchgrass, indian grass, and little bluestem.\n",
    "\n",
    "- Using a periodic table, store in a dictionary the name, symbol, atomic mass, melting point, and boiling point of oxygen, nitrogen, phosphorus, potassium, and hydrogen. Then, write two separate python statements to retrieve the boiling point of oxygen and hydrogen. Combined, these two atoms can form water, which has a boiling point of 100 degrees Celsius. How does this value compare to the boiling point of the individual elements?\n",
    "\n",
    "- Without editing the dictionary that you created earlier, append the properties for a new element: carbon.\n",
    "\n",
    "- Create a list of tuples encoding the latitude, longitude, and altitude of five national parks of your choice.\n",
    "\n",
    "- Create a short list of tuples for the two DNA base pairs."
   ]
  }
 ],
 "metadata": {
  "kernelspec": {
   "display_name": "Python 3",
   "language": "python",
   "name": "python3"
  },
  "language_info": {
   "codemirror_mode": {
    "name": "ipython",
    "version": 3
   },
   "file_extension": ".py",
   "mimetype": "text/x-python",
   "name": "python",
   "nbconvert_exporter": "python",
   "pygments_lexer": "ipython3",
   "version": "3.8.5"
  }
 },
 "nbformat": 4,
 "nbformat_minor": 4
}
