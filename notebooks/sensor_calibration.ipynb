{
 "cells": [
  {
   "cell_type": "markdown",
   "metadata": {},
   "source": [
    "# Linear Regression: Sensor Calibration\n",
    "\n",
    "In this exercise we will improve the readings of the FieldScout TDR 300 hand-held soil moisture meter. \n",
    "\n",
    "An simple experiment was conduted at the KSU Soil Water Processes lab to collect soil mositure observations in 1-gallon containers packed with four contrasting soils (silt loam, silty clay, clay loam, and sand) and with carefully measured soil moisture. The aim of study was to generate a universal custom model that converts period average (the raw varaible measured by the sensor) into volumetric water content (volume of water per unit volume of soil).\n",
    "\n",
    "To find a custom calibration equation, in this exercise we will use univariate and multivariate linear regression with and without the use of categorical variables (e.g. soil type) and interactions.\n"
   ]
  },
  {
   "cell_type": "code",
   "execution_count": 298,
   "metadata": {},
   "outputs": [],
   "source": [
    "# Import modules\n",
    "import pandas as pd\n",
    "import numpy as np\n",
    "import matplotlib.pyplot as plt\n",
    "\n",
    "from statsmodels.formula.api import ols\n",
    "from statsmodels.sandbox.regression.predstd import wls_prediction_std\n",
    "from statsmodels.graphics.api import qqplot\n"
   ]
  },
  {
   "cell_type": "code",
   "execution_count": 318,
   "metadata": {},
   "outputs": [
    {
     "data": {
      "text/html": [
       "<div>\n",
       "<style scoped>\n",
       "    .dataframe tbody tr th:only-of-type {\n",
       "        vertical-align: middle;\n",
       "    }\n",
       "\n",
       "    .dataframe tbody tr th {\n",
       "        vertical-align: top;\n",
       "    }\n",
       "\n",
       "    .dataframe thead th {\n",
       "        text-align: right;\n",
       "    }\n",
       "</style>\n",
       "<table border=\"1\" class=\"dataframe\">\n",
       "  <thead>\n",
       "    <tr style=\"text-align: right;\">\n",
       "      <th></th>\n",
       "      <th>site</th>\n",
       "      <th>soil_texture</th>\n",
       "      <th>vwc_sensor</th>\n",
       "      <th>period</th>\n",
       "      <th>bulk_density</th>\n",
       "      <th>vwc_obs</th>\n",
       "    </tr>\n",
       "  </thead>\n",
       "  <tbody>\n",
       "    <tr>\n",
       "      <th>0</th>\n",
       "      <td>Moundridge_bottomslope</td>\n",
       "      <td>loam</td>\n",
       "      <td>1.70</td>\n",
       "      <td>2040</td>\n",
       "      <td>1.34</td>\n",
       "      <td>0.023</td>\n",
       "    </tr>\n",
       "    <tr>\n",
       "      <th>1</th>\n",
       "      <td>Moundridge_bottomslope</td>\n",
       "      <td>loam</td>\n",
       "      <td>14.90</td>\n",
       "      <td>2295</td>\n",
       "      <td>1.30</td>\n",
       "      <td>0.149</td>\n",
       "    </tr>\n",
       "    <tr>\n",
       "      <th>2</th>\n",
       "      <td>Moundridge_bottomslope</td>\n",
       "      <td>loam</td>\n",
       "      <td>14.40</td>\n",
       "      <td>2290</td>\n",
       "      <td>1.18</td>\n",
       "      <td>0.165</td>\n",
       "    </tr>\n",
       "    <tr>\n",
       "      <th>3</th>\n",
       "      <td>Moundridge_bottomslope</td>\n",
       "      <td>loam</td>\n",
       "      <td>44.65</td>\n",
       "      <td>2915</td>\n",
       "      <td>1.27</td>\n",
       "      <td>0.316</td>\n",
       "    </tr>\n",
       "    <tr>\n",
       "      <th>4</th>\n",
       "      <td>Moundridge_bottomslope</td>\n",
       "      <td>loam</td>\n",
       "      <td>64.00</td>\n",
       "      <td>3315</td>\n",
       "      <td>1.49</td>\n",
       "      <td>0.328</td>\n",
       "    </tr>\n",
       "  </tbody>\n",
       "</table>\n",
       "</div>"
      ],
      "text/plain": [
       "                     site soil_texture  vwc_sensor  period  bulk_density  \\\n",
       "0  Moundridge_bottomslope         loam        1.70    2040          1.34   \n",
       "1  Moundridge_bottomslope         loam       14.90    2295          1.30   \n",
       "2  Moundridge_bottomslope         loam       14.40    2290          1.18   \n",
       "3  Moundridge_bottomslope         loam       44.65    2915          1.27   \n",
       "4  Moundridge_bottomslope         loam       64.00    3315          1.49   \n",
       "\n",
       "   vwc_obs  \n",
       "0    0.023  \n",
       "1    0.149  \n",
       "2    0.165  \n",
       "3    0.316  \n",
       "4    0.328  "
      ]
     },
     "execution_count": 318,
     "metadata": {},
     "output_type": "execute_result"
    }
   ],
   "source": [
    "# Load data\n",
    "df = pd.read_csv('../datasets/soil_moisture_sensor_calibration_data.csv')\n",
    "df.head()\n"
   ]
  },
  {
   "cell_type": "code",
   "execution_count": 287,
   "metadata": {},
   "outputs": [],
   "source": [
    "# Unit conversions\n",
    "df[\"vwc_sensor\"] = df[\"vwc_sensor\"]/100 # from percent to fraction to match obs\n",
    "df[\"period\"] = df[\"period\"] /1000 # from microseconds to milliseconds\n"
   ]
  },
  {
   "cell_type": "code",
   "execution_count": 288,
   "metadata": {},
   "outputs": [
    {
     "data": {
      "text/html": [
       "<div>\n",
       "<style scoped>\n",
       "    .dataframe tbody tr th:only-of-type {\n",
       "        vertical-align: middle;\n",
       "    }\n",
       "\n",
       "    .dataframe tbody tr th {\n",
       "        vertical-align: top;\n",
       "    }\n",
       "\n",
       "    .dataframe thead th {\n",
       "        text-align: right;\n",
       "    }\n",
       "</style>\n",
       "<table border=\"1\" class=\"dataframe\">\n",
       "  <thead>\n",
       "    <tr style=\"text-align: right;\">\n",
       "      <th></th>\n",
       "      <th>site</th>\n",
       "      <th>soil_texture</th>\n",
       "      <th>vwc_sensor</th>\n",
       "      <th>period</th>\n",
       "      <th>bulk_density</th>\n",
       "      <th>vwc_obs</th>\n",
       "    </tr>\n",
       "  </thead>\n",
       "  <tbody>\n",
       "    <tr>\n",
       "      <th>31</th>\n",
       "      <td>Sand</td>\n",
       "      <td>sand</td>\n",
       "      <td>0.0060</td>\n",
       "      <td>2.03</td>\n",
       "      <td>1.71</td>\n",
       "      <td>0.002</td>\n",
       "    </tr>\n",
       "    <tr>\n",
       "      <th>32</th>\n",
       "      <td>Sand</td>\n",
       "      <td>sand</td>\n",
       "      <td>0.0145</td>\n",
       "      <td>2.03</td>\n",
       "      <td>1.70</td>\n",
       "      <td>0.003</td>\n",
       "    </tr>\n",
       "    <tr>\n",
       "      <th>7</th>\n",
       "      <td>Moundridge_upslope_subsurf</td>\n",
       "      <td>silty clay</td>\n",
       "      <td>0.0120</td>\n",
       "      <td>2.03</td>\n",
       "      <td>1.29</td>\n",
       "      <td>0.013</td>\n",
       "    </tr>\n",
       "    <tr>\n",
       "      <th>0</th>\n",
       "      <td>Moundridge_bottomslope</td>\n",
       "      <td>loam</td>\n",
       "      <td>0.0170</td>\n",
       "      <td>2.04</td>\n",
       "      <td>1.34</td>\n",
       "      <td>0.023</td>\n",
       "    </tr>\n",
       "    <tr>\n",
       "      <th>16</th>\n",
       "      <td>Moundridge_upslope_surf</td>\n",
       "      <td>silty clay loam</td>\n",
       "      <td>0.0195</td>\n",
       "      <td>2.04</td>\n",
       "      <td>1.35</td>\n",
       "      <td>0.025</td>\n",
       "    </tr>\n",
       "  </tbody>\n",
       "</table>\n",
       "</div>"
      ],
      "text/plain": [
       "                          site     soil_texture  vwc_sensor  period  \\\n",
       "31                        Sand             sand      0.0060    2.03   \n",
       "32                        Sand             sand      0.0145    2.03   \n",
       "7   Moundridge_upslope_subsurf       silty clay      0.0120    2.03   \n",
       "0       Moundridge_bottomslope             loam      0.0170    2.04   \n",
       "16     Moundridge_upslope_surf  silty clay loam      0.0195    2.04   \n",
       "\n",
       "    bulk_density  vwc_obs  \n",
       "31          1.71    0.002  \n",
       "32          1.70    0.003  \n",
       "7           1.29    0.013  \n",
       "0           1.34    0.023  \n",
       "16          1.35    0.025  "
      ]
     },
     "execution_count": 288,
     "metadata": {},
     "output_type": "execute_result"
    }
   ],
   "source": [
    "# Sort dataframe by the independent variable period\n",
    "df.sort_values(by=\"period\", inplace=True)\n",
    "df.head()\n"
   ]
  },
  {
   "cell_type": "code",
   "execution_count": 289,
   "metadata": {},
   "outputs": [
    {
     "data": {
      "image/png": "[encoded data removed]",
      "text/plain": [
       "<Figure size 576x432 with 1 Axes>"
      ]
     },
     "metadata": {
      "needs_background": "light"
     },
     "output_type": "display_data"
    }
   ],
   "source": [
    "# Plot sensor and observed data\n",
    "plt.figure(figsize=(8,6))\n",
    "plt.scatter(df[\"period\"],df['vwc_sensor'], s=50, facecolor='w', edgecolor='k')\n",
    "plt.scatter(df[\"period\"], df[\"vwc_obs\"], s=50, facecolor='w', edgecolor='r')\n",
    "plt.xlabel('Period average in milliseconds')\n",
    "plt.ylabel('VWC observed $cm^3 cm^{-3}$')\n",
    "plt.legend(['VWC sensor','VWC obs'])\n",
    "plt.show()\n"
   ]
  },
  {
   "cell_type": "markdown",
   "metadata": {},
   "source": [
    "The problem is clear, typical volumetric water contents for mineral soils (opposed to organic soils) have a maximum value of 0.5 cm$^3$ cm$^{-3}$, which is approximately the pore space of the soil. The soil moisture sensors in question with its factory calibration returns values of volumetric water content much higher than usual porosity values. This means that the factory calibration to convert period average into volumetric water content is not adequate for the soils tested in this experiment.\n",
    "\n",
    "Our goal is to find a better model. This will also imply that when we use this sensor we need to ignore the readings in volumetric water content and we need to record the raw period average readings for posterior trasnlation using our custom model.\n"
   ]
  },
  {
   "cell_type": "markdown",
   "metadata": {},
   "source": [
    "## Linear model\n",
    "\n",
    "THe simplest and easiest model to start our linear regression exercise"
   ]
  },
  {
   "cell_type": "code",
   "execution_count": 290,
   "metadata": {},
   "outputs": [
    {
     "data": {
      "text/html": [
       "<table class=\"simpletable\">\n",
       "<caption>OLS Regression Results</caption>\n",
       "<tr>\n",
       "  <th>Dep. Variable:</th>         <td>vwc_obs</td>     <th>  R-squared:         </th> <td>   0.907</td>\n",
       "</tr>\n",
       "<tr>\n",
       "  <th>Model:</th>                   <td>OLS</td>       <th>  Adj. R-squared:    </th> <td>   0.904</td>\n",
       "</tr>\n",
       "<tr>\n",
       "  <th>Method:</th>             <td>Least Squares</td>  <th>  F-statistic:       </th> <td>   359.2</td>\n",
       "</tr>\n",
       "<tr>\n",
       "  <th>Date:</th>             <td>Wed, 29 Apr 2020</td> <th>  Prob (F-statistic):</th> <td>1.22e-20</td>\n",
       "</tr>\n",
       "<tr>\n",
       "  <th>Time:</th>                 <td>11:05:26</td>     <th>  Log-Likelihood:    </th> <td>  64.186</td>\n",
       "</tr>\n",
       "<tr>\n",
       "  <th>No. Observations:</th>      <td>    39</td>      <th>  AIC:               </th> <td>  -124.4</td>\n",
       "</tr>\n",
       "<tr>\n",
       "  <th>Df Residuals:</th>          <td>    37</td>      <th>  BIC:               </th> <td>  -121.0</td>\n",
       "</tr>\n",
       "<tr>\n",
       "  <th>Df Model:</th>              <td>     1</td>      <th>                     </th>     <td> </td>   \n",
       "</tr>\n",
       "<tr>\n",
       "  <th>Covariance Type:</th>      <td>nonrobust</td>    <th>                     </th>     <td> </td>   \n",
       "</tr>\n",
       "</table>\n",
       "<table class=\"simpletable\">\n",
       "<tr>\n",
       "      <td></td>         <th>coef</th>     <th>std err</th>      <th>t</th>      <th>P>|t|</th>  <th>[0.025</th>    <th>0.975]</th>  \n",
       "</tr>\n",
       "<tr>\n",
       "  <th>Intercept</th> <td>   -0.4786</td> <td>    0.038</td> <td>  -12.597</td> <td> 0.000</td> <td>   -0.556</td> <td>   -0.402</td>\n",
       "</tr>\n",
       "<tr>\n",
       "  <th>period</th>    <td>    0.2649</td> <td>    0.014</td> <td>   18.953</td> <td> 0.000</td> <td>    0.237</td> <td>    0.293</td>\n",
       "</tr>\n",
       "</table>\n",
       "<table class=\"simpletable\">\n",
       "<tr>\n",
       "  <th>Omnibus:</th>       <td> 2.321</td> <th>  Durbin-Watson:     </th> <td>   1.397</td>\n",
       "</tr>\n",
       "<tr>\n",
       "  <th>Prob(Omnibus):</th> <td> 0.313</td> <th>  Jarque-Bera (JB):  </th> <td>   1.311</td>\n",
       "</tr>\n",
       "<tr>\n",
       "  <th>Skew:</th>          <td> 0.064</td> <th>  Prob(JB):          </th> <td>   0.519</td>\n",
       "</tr>\n",
       "<tr>\n",
       "  <th>Kurtosis:</th>      <td> 2.111</td> <th>  Cond. No.          </th> <td>    15.2</td>\n",
       "</tr>\n",
       "</table><br/><br/>Warnings:<br/>[1] Standard Errors assume that the covariance matrix of the errors is correctly specified."
      ],
      "text/plain": [
       "<class 'statsmodels.iolib.summary.Summary'>\n",
       "\"\"\"\n",
       "                            OLS Regression Results                            \n",
       "==============================================================================\n",
       "Dep. Variable:                vwc_obs   R-squared:                       0.907\n",
       "Model:                            OLS   Adj. R-squared:                  0.904\n",
       "Method:                 Least Squares   F-statistic:                     359.2\n",
       "Date:                Wed, 29 Apr 2020   Prob (F-statistic):           1.22e-20\n",
       "Time:                        11:05:26   Log-Likelihood:                 64.186\n",
       "No. Observations:                  39   AIC:                            -124.4\n",
       "Df Residuals:                      37   BIC:                            -121.0\n",
       "Df Model:                           1                                         \n",
       "Covariance Type:            nonrobust                                         \n",
       "==============================================================================\n",
       "                 coef    std err          t      P>|t|      [0.025      0.975]\n",
       "------------------------------------------------------------------------------\n",
       "Intercept     -0.4786      0.038    -12.597      0.000      -0.556      -0.402\n",
       "period         0.2649      0.014     18.953      0.000       0.237       0.293\n",
       "==============================================================================\n",
       "Omnibus:                        2.321   Durbin-Watson:                   1.397\n",
       "Prob(Omnibus):                  0.313   Jarque-Bera (JB):                1.311\n",
       "Skew:                           0.064   Prob(JB):                        0.519\n",
       "Kurtosis:                       2.111   Cond. No.                         15.2\n",
       "==============================================================================\n",
       "\n",
       "Warnings:\n",
       "[1] Standard Errors assume that the covariance matrix of the errors is correctly specified.\n",
       "\"\"\""
      ]
     },
     "execution_count": 290,
     "metadata": {},
     "output_type": "execute_result"
    }
   ],
   "source": [
    "# Model as a function of period\n",
    "formula = 'vwc_obs ~ period'\n",
    "lm = ols(formula, data=df).fit()\n",
    "lm.summary()\n"
   ]
  },
  {
   "cell_type": "markdown",
   "metadata": {},
   "source": [
    "## Quadratic model\n",
    "\n",
    "Despite its name, linear regression can be used to fit non-linear functions. A linear regression model is linear in the model parameters, not necessarily in the predictors."
   ]
  },
  {
   "cell_type": "code",
   "execution_count": 291,
   "metadata": {},
   "outputs": [
    {
     "data": {
      "text/html": [
       "<table class=\"simpletable\">\n",
       "<caption>OLS Regression Results</caption>\n",
       "<tr>\n",
       "  <th>Dep. Variable:</th>         <td>vwc_obs</td>     <th>  R-squared:         </th> <td>   0.938</td>\n",
       "</tr>\n",
       "<tr>\n",
       "  <th>Model:</th>                   <td>OLS</td>       <th>  Adj. R-squared:    </th> <td>   0.935</td>\n",
       "</tr>\n",
       "<tr>\n",
       "  <th>Method:</th>             <td>Least Squares</td>  <th>  F-statistic:       </th> <td>   272.8</td>\n",
       "</tr>\n",
       "<tr>\n",
       "  <th>Date:</th>             <td>Wed, 29 Apr 2020</td> <th>  Prob (F-statistic):</th> <td>1.78e-22</td>\n",
       "</tr>\n",
       "<tr>\n",
       "  <th>Time:</th>                 <td>11:05:27</td>     <th>  Log-Likelihood:    </th> <td>  72.204</td>\n",
       "</tr>\n",
       "<tr>\n",
       "  <th>No. Observations:</th>      <td>    39</td>      <th>  AIC:               </th> <td>  -138.4</td>\n",
       "</tr>\n",
       "<tr>\n",
       "  <th>Df Residuals:</th>          <td>    36</td>      <th>  BIC:               </th> <td>  -133.4</td>\n",
       "</tr>\n",
       "<tr>\n",
       "  <th>Df Model:</th>              <td>     2</td>      <th>                     </th>     <td> </td>   \n",
       "</tr>\n",
       "<tr>\n",
       "  <th>Covariance Type:</th>      <td>nonrobust</td>    <th>                     </th>     <td> </td>   \n",
       "</tr>\n",
       "</table>\n",
       "<table class=\"simpletable\">\n",
       "<tr>\n",
       "         <td></td>           <th>coef</th>     <th>std err</th>      <th>t</th>      <th>P>|t|</th>  <th>[0.025</th>    <th>0.975]</th>  \n",
       "</tr>\n",
       "<tr>\n",
       "  <th>Intercept</th>      <td>   -1.2276</td> <td>    0.178</td> <td>   -6.904</td> <td> 0.000</td> <td>   -1.588</td> <td>   -0.867</td>\n",
       "</tr>\n",
       "<tr>\n",
       "  <th>period</th>         <td>    0.8183</td> <td>    0.130</td> <td>    6.303</td> <td> 0.000</td> <td>    0.555</td> <td>    1.082</td>\n",
       "</tr>\n",
       "<tr>\n",
       "  <th>I(period ** 2)</th> <td>   -0.0980</td> <td>    0.023</td> <td>   -4.279</td> <td> 0.000</td> <td>   -0.144</td> <td>   -0.052</td>\n",
       "</tr>\n",
       "</table>\n",
       "<table class=\"simpletable\">\n",
       "<tr>\n",
       "  <th>Omnibus:</th>       <td> 0.773</td> <th>  Durbin-Watson:     </th> <td>   2.133</td>\n",
       "</tr>\n",
       "<tr>\n",
       "  <th>Prob(Omnibus):</th> <td> 0.680</td> <th>  Jarque-Bera (JB):  </th> <td>   0.756</td>\n",
       "</tr>\n",
       "<tr>\n",
       "  <th>Skew:</th>          <td> 0.063</td> <th>  Prob(JB):          </th> <td>   0.685</td>\n",
       "</tr>\n",
       "<tr>\n",
       "  <th>Kurtosis:</th>      <td> 2.330</td> <th>  Cond. No.          </th> <td>    297.</td>\n",
       "</tr>\n",
       "</table><br/><br/>Warnings:<br/>[1] Standard Errors assume that the covariance matrix of the errors is correctly specified."
      ],
      "text/plain": [
       "<class 'statsmodels.iolib.summary.Summary'>\n",
       "\"\"\"\n",
       "                            OLS Regression Results                            \n",
       "==============================================================================\n",
       "Dep. Variable:                vwc_obs   R-squared:                       0.938\n",
       "Model:                            OLS   Adj. R-squared:                  0.935\n",
       "Method:                 Least Squares   F-statistic:                     272.8\n",
       "Date:                Wed, 29 Apr 2020   Prob (F-statistic):           1.78e-22\n",
       "Time:                        11:05:27   Log-Likelihood:                 72.204\n",
       "No. Observations:                  39   AIC:                            -138.4\n",
       "Df Residuals:                      36   BIC:                            -133.4\n",
       "Df Model:                           2                                         \n",
       "Covariance Type:            nonrobust                                         \n",
       "==================================================================================\n",
       "                     coef    std err          t      P>|t|      [0.025      0.975]\n",
       "----------------------------------------------------------------------------------\n",
       "Intercept         -1.2276      0.178     -6.904      0.000      -1.588      -0.867\n",
       "period             0.8183      0.130      6.303      0.000       0.555       1.082\n",
       "I(period ** 2)    -0.0980      0.023     -4.279      0.000      -0.144      -0.052\n",
       "==============================================================================\n",
       "Omnibus:                        0.773   Durbin-Watson:                   2.133\n",
       "Prob(Omnibus):                  0.680   Jarque-Bera (JB):                0.756\n",
       "Skew:                           0.063   Prob(JB):                        0.685\n",
       "Kurtosis:                       2.330   Cond. No.                         297.\n",
       "==============================================================================\n",
       "\n",
       "Warnings:\n",
       "[1] Standard Errors assume that the covariance matrix of the errors is correctly specified.\n",
       "\"\"\""
      ]
     },
     "execution_count": 291,
     "metadata": {},
     "output_type": "execute_result"
    }
   ],
   "source": [
    "# Quadratic calibration model\n",
    "formula = 'vwc_obs ~ period + I(period ** 2)'\n",
    "lm_quadratic = ols(formula, data=df).fit()\n",
    "lm_quadratic.summary()\n"
   ]
  },
  {
   "cell_type": "markdown",
   "metadata": {},
   "source": [
    ">The `I` character in the formula forces a new parameter for the quadratic term."
   ]
  },
  {
   "cell_type": "markdown",
   "metadata": {},
   "source": [
    "## Linear model with categorical term\n",
    "\n",
    "You can pass a varaible as a categorical variables using the `C()` notation, for instance: `C(soil_texture)`. \n",
    "\n",
    "If you previously converted the variable to categorical using pandas `pd.Categorical()`, then just call the variable in the formula directly, for instance: `vwc_obs ~ period + soil_texture`\n"
   ]
  },
  {
   "cell_type": "code",
   "execution_count": 292,
   "metadata": {},
   "outputs": [
    {
     "data": {
      "text/html": [
       "<table class=\"simpletable\">\n",
       "<caption>OLS Regression Results</caption>\n",
       "<tr>\n",
       "  <th>Dep. Variable:</th>         <td>vwc_obs</td>     <th>  R-squared:         </th> <td>   0.929</td>\n",
       "</tr>\n",
       "<tr>\n",
       "  <th>Model:</th>                   <td>OLS</td>       <th>  Adj. R-squared:    </th> <td>   0.918</td>\n",
       "</tr>\n",
       "<tr>\n",
       "  <th>Method:</th>             <td>Least Squares</td>  <th>  F-statistic:       </th> <td>   86.19</td>\n",
       "</tr>\n",
       "<tr>\n",
       "  <th>Date:</th>             <td>Wed, 29 Apr 2020</td> <th>  Prob (F-statistic):</th> <td>5.80e-18</td>\n",
       "</tr>\n",
       "<tr>\n",
       "  <th>Time:</th>                 <td>11:05:28</td>     <th>  Log-Likelihood:    </th> <td>  69.494</td>\n",
       "</tr>\n",
       "<tr>\n",
       "  <th>No. Observations:</th>      <td>    39</td>      <th>  AIC:               </th> <td>  -127.0</td>\n",
       "</tr>\n",
       "<tr>\n",
       "  <th>Df Residuals:</th>          <td>    33</td>      <th>  BIC:               </th> <td>  -117.0</td>\n",
       "</tr>\n",
       "<tr>\n",
       "  <th>Df Model:</th>              <td>     5</td>      <th>                     </th>     <td> </td>   \n",
       "</tr>\n",
       "<tr>\n",
       "  <th>Covariance Type:</th>      <td>nonrobust</td>    <th>                     </th>     <td> </td>   \n",
       "</tr>\n",
       "</table>\n",
       "<table class=\"simpletable\">\n",
       "<tr>\n",
       "                   <td></td>                     <th>coef</th>     <th>std err</th>      <th>t</th>      <th>P>|t|</th>  <th>[0.025</th>    <th>0.975]</th>  \n",
       "</tr>\n",
       "<tr>\n",
       "  <th>Intercept</th>                          <td>   -0.5134</td> <td>    0.042</td> <td>  -12.294</td> <td> 0.000</td> <td>   -0.598</td> <td>   -0.428</td>\n",
       "</tr>\n",
       "<tr>\n",
       "  <th>C(soil_texture)[T.sand]</th>            <td>    0.0431</td> <td>    0.024</td> <td>    1.813</td> <td> 0.079</td> <td>   -0.005</td> <td>    0.092</td>\n",
       "</tr>\n",
       "<tr>\n",
       "  <th>C(soil_texture)[T.silt loam]</th>       <td>    0.0185</td> <td>    0.023</td> <td>    0.804</td> <td> 0.427</td> <td>   -0.028</td> <td>    0.065</td>\n",
       "</tr>\n",
       "<tr>\n",
       "  <th>C(soil_texture)[T.silty clay]</th>      <td>   -0.0187</td> <td>    0.023</td> <td>   -0.816</td> <td> 0.420</td> <td>   -0.065</td> <td>    0.028</td>\n",
       "</tr>\n",
       "<tr>\n",
       "  <th>C(soil_texture)[T.silty clay loam]</th> <td>   -0.0171</td> <td>    0.023</td> <td>   -0.747</td> <td> 0.460</td> <td>   -0.064</td> <td>    0.030</td>\n",
       "</tr>\n",
       "<tr>\n",
       "  <th>period</th>                             <td>    0.2760</td> <td>    0.014</td> <td>   20.378</td> <td> 0.000</td> <td>    0.248</td> <td>    0.304</td>\n",
       "</tr>\n",
       "</table>\n",
       "<table class=\"simpletable\">\n",
       "<tr>\n",
       "  <th>Omnibus:</th>       <td> 3.842</td> <th>  Durbin-Watson:     </th> <td>   1.292</td>\n",
       "</tr>\n",
       "<tr>\n",
       "  <th>Prob(Omnibus):</th> <td> 0.146</td> <th>  Jarque-Bera (JB):  </th> <td>   3.512</td>\n",
       "</tr>\n",
       "<tr>\n",
       "  <th>Skew:</th>          <td>-0.722</td> <th>  Prob(JB):          </th> <td>   0.173</td>\n",
       "</tr>\n",
       "<tr>\n",
       "  <th>Kurtosis:</th>      <td> 2.724</td> <th>  Cond. No.          </th> <td>    20.4</td>\n",
       "</tr>\n",
       "</table><br/><br/>Warnings:<br/>[1] Standard Errors assume that the covariance matrix of the errors is correctly specified."
      ],
      "text/plain": [
       "<class 'statsmodels.iolib.summary.Summary'>\n",
       "\"\"\"\n",
       "                            OLS Regression Results                            \n",
       "==============================================================================\n",
       "Dep. Variable:                vwc_obs   R-squared:                       0.929\n",
       "Model:                            OLS   Adj. R-squared:                  0.918\n",
       "Method:                 Least Squares   F-statistic:                     86.19\n",
       "Date:                Wed, 29 Apr 2020   Prob (F-statistic):           5.80e-18\n",
       "Time:                        11:05:28   Log-Likelihood:                 69.494\n",
       "No. Observations:                  39   AIC:                            -127.0\n",
       "Df Residuals:                      33   BIC:                            -117.0\n",
       "Df Model:                           5                                         \n",
       "Covariance Type:            nonrobust                                         \n",
       "======================================================================================================\n",
       "                                         coef    std err          t      P>|t|      [0.025      0.975]\n",
       "------------------------------------------------------------------------------------------------------\n",
       "Intercept                             -0.5134      0.042    -12.294      0.000      -0.598      -0.428\n",
       "C(soil_texture)[T.sand]                0.0431      0.024      1.813      0.079      -0.005       0.092\n",
       "C(soil_texture)[T.silt loam]           0.0185      0.023      0.804      0.427      -0.028       0.065\n",
       "C(soil_texture)[T.silty clay]         -0.0187      0.023     -0.816      0.420      -0.065       0.028\n",
       "C(soil_texture)[T.silty clay loam]    -0.0171      0.023     -0.747      0.460      -0.064       0.030\n",
       "period                                 0.2760      0.014     20.378      0.000       0.248       0.304\n",
       "==============================================================================\n",
       "Omnibus:                        3.842   Durbin-Watson:                   1.292\n",
       "Prob(Omnibus):                  0.146   Jarque-Bera (JB):                3.512\n",
       "Skew:                          -0.722   Prob(JB):                        0.173\n",
       "Kurtosis:                       2.724   Cond. No.                         20.4\n",
       "==============================================================================\n",
       "\n",
       "Warnings:\n",
       "[1] Standard Errors assume that the covariance matrix of the errors is correctly specified.\n",
       "\"\"\""
      ]
     },
     "execution_count": 292,
     "metadata": {},
     "output_type": "execute_result"
    }
   ],
   "source": [
    "# Linear calibration model including soil texture as a categorical\n",
    "formula = 'vwc_obs ~ period + C(soil_texture)'\n",
    "lm_with_cat = ols(formula, data=df).fit()\n",
    "lm_with_cat.summary()\n"
   ]
  },
  {
   "cell_type": "markdown",
   "metadata": {},
   "source": [
    "## Linear model with an interaction term"
   ]
  },
  {
   "cell_type": "code",
   "execution_count": 293,
   "metadata": {},
   "outputs": [
    {
     "data": {
      "text/html": [
       "<table class=\"simpletable\">\n",
       "<caption>OLS Regression Results</caption>\n",
       "<tr>\n",
       "  <th>Dep. Variable:</th>         <td>vwc_obs</td>     <th>  R-squared:         </th> <td>   0.922</td>\n",
       "</tr>\n",
       "<tr>\n",
       "  <th>Model:</th>                   <td>OLS</td>       <th>  Adj. R-squared:    </th> <td>   0.915</td>\n",
       "</tr>\n",
       "<tr>\n",
       "  <th>Method:</th>             <td>Least Squares</td>  <th>  F-statistic:       </th> <td>   137.8</td>\n",
       "</tr>\n",
       "<tr>\n",
       "  <th>Date:</th>             <td>Wed, 29 Apr 2020</td> <th>  Prob (F-statistic):</th> <td>1.92e-19</td>\n",
       "</tr>\n",
       "<tr>\n",
       "  <th>Time:</th>                 <td>11:05:32</td>     <th>  Log-Likelihood:    </th> <td>  67.682</td>\n",
       "</tr>\n",
       "<tr>\n",
       "  <th>No. Observations:</th>      <td>    39</td>      <th>  AIC:               </th> <td>  -127.4</td>\n",
       "</tr>\n",
       "<tr>\n",
       "  <th>Df Residuals:</th>          <td>    35</td>      <th>  BIC:               </th> <td>  -120.7</td>\n",
       "</tr>\n",
       "<tr>\n",
       "  <th>Df Model:</th>              <td>     3</td>      <th>                     </th>     <td> </td>   \n",
       "</tr>\n",
       "<tr>\n",
       "  <th>Covariance Type:</th>      <td>nonrobust</td>    <th>                     </th>     <td> </td>   \n",
       "</tr>\n",
       "</table>\n",
       "<table class=\"simpletable\">\n",
       "<tr>\n",
       "           <td></td>              <th>coef</th>     <th>std err</th>      <th>t</th>      <th>P>|t|</th>  <th>[0.025</th>    <th>0.975]</th>  \n",
       "</tr>\n",
       "<tr>\n",
       "  <th>Intercept</th>           <td>    0.3098</td> <td>    0.404</td> <td>    0.766</td> <td> 0.449</td> <td>   -0.511</td> <td>    1.131</td>\n",
       "</tr>\n",
       "<tr>\n",
       "  <th>period</th>              <td>   -0.0860</td> <td>    0.159</td> <td>   -0.540</td> <td> 0.593</td> <td>   -0.410</td> <td>    0.238</td>\n",
       "</tr>\n",
       "<tr>\n",
       "  <th>bulk_density</th>        <td>   -0.5903</td> <td>    0.296</td> <td>   -1.997</td> <td> 0.054</td> <td>   -1.191</td> <td>    0.010</td>\n",
       "</tr>\n",
       "<tr>\n",
       "  <th>period:bulk_density</th> <td>    0.2629</td> <td>    0.118</td> <td>    2.236</td> <td> 0.032</td> <td>    0.024</td> <td>    0.502</td>\n",
       "</tr>\n",
       "</table>\n",
       "<table class=\"simpletable\">\n",
       "<tr>\n",
       "  <th>Omnibus:</th>       <td> 1.347</td> <th>  Durbin-Watson:     </th> <td>   1.748</td>\n",
       "</tr>\n",
       "<tr>\n",
       "  <th>Prob(Omnibus):</th> <td> 0.510</td> <th>  Jarque-Bera (JB):  </th> <td>   1.262</td>\n",
       "</tr>\n",
       "<tr>\n",
       "  <th>Skew:</th>          <td>-0.407</td> <th>  Prob(JB):          </th> <td>   0.532</td>\n",
       "</tr>\n",
       "<tr>\n",
       "  <th>Kurtosis:</th>      <td> 2.663</td> <th>  Cond. No.          </th> <td>    366.</td>\n",
       "</tr>\n",
       "</table><br/><br/>Warnings:<br/>[1] Standard Errors assume that the covariance matrix of the errors is correctly specified."
      ],
      "text/plain": [
       "<class 'statsmodels.iolib.summary.Summary'>\n",
       "\"\"\"\n",
       "                            OLS Regression Results                            \n",
       "==============================================================================\n",
       "Dep. Variable:                vwc_obs   R-squared:                       0.922\n",
       "Model:                            OLS   Adj. R-squared:                  0.915\n",
       "Method:                 Least Squares   F-statistic:                     137.8\n",
       "Date:                Wed, 29 Apr 2020   Prob (F-statistic):           1.92e-19\n",
       "Time:                        11:05:32   Log-Likelihood:                 67.682\n",
       "No. Observations:                  39   AIC:                            -127.4\n",
       "Df Residuals:                      35   BIC:                            -120.7\n",
       "Df Model:                           3                                         \n",
       "Covariance Type:            nonrobust                                         \n",
       "=======================================================================================\n",
       "                          coef    std err          t      P>|t|      [0.025      0.975]\n",
       "---------------------------------------------------------------------------------------\n",
       "Intercept               0.3098      0.404      0.766      0.449      -0.511       1.131\n",
       "period                 -0.0860      0.159     -0.540      0.593      -0.410       0.238\n",
       "bulk_density           -0.5903      0.296     -1.997      0.054      -1.191       0.010\n",
       "period:bulk_density     0.2629      0.118      2.236      0.032       0.024       0.502\n",
       "==============================================================================\n",
       "Omnibus:                        1.347   Durbin-Watson:                   1.748\n",
       "Prob(Omnibus):                  0.510   Jarque-Bera (JB):                1.262\n",
       "Skew:                          -0.407   Prob(JB):                        0.532\n",
       "Kurtosis:                       2.663   Cond. No.                         366.\n",
       "==============================================================================\n",
       "\n",
       "Warnings:\n",
       "[1] Standard Errors assume that the covariance matrix of the errors is correctly specified.\n",
       "\"\"\""
      ]
     },
     "execution_count": 293,
     "metadata": {},
     "output_type": "execute_result"
    }
   ],
   "source": [
    "# Linear calibration model including soil texture as a categorical\n",
    "formula = 'vwc_obs ~ period * bulk_density'\n",
    "lm_with_interactions = ols(formula, data=df).fit()\n",
    "lm_with_interactions.summary()\n"
   ]
  },
  {
   "cell_type": "markdown",
   "metadata": {},
   "source": [
    "## Selecting a model\n",
    "\n",
    "Because soil texture was not significant and because bulk desnity is not always available, we will select the quadratic model as a function of period average.\n"
   ]
  },
  {
   "cell_type": "code",
   "execution_count": 294,
   "metadata": {},
   "outputs": [],
   "source": [
    "y = lm_quadratic.predict(df[\"period\"])\n",
    "prstd, iv_l, iv_u = wls_prediction_std(lm_quadratic)\n"
   ]
  },
  {
   "cell_type": "code",
   "execution_count": 295,
   "metadata": {},
   "outputs": [],
   "source": [
    "# Annotations\n",
    "str_rsquared = \"Rsquared:\" + str(round(lm_quadratic.rsquared, 2))\n"
   ]
  },
  {
   "cell_type": "code",
   "execution_count": 316,
   "metadata": {},
   "outputs": [
    {
     "data": {
      "image/png": "[encoded data removed]",
      "text/plain": [
       "<Figure size 576x432 with 1 Axes>"
      ]
     },
     "metadata": {
      "needs_background": "light"
     },
     "output_type": "display_data"
    }
   ],
   "source": [
    "plt.figure(figsize=(8,6))\n",
    "plt.scatter(df[\"period\"], df[\"vwc_obs\"], s=50, facecolor='w', edgecolor='b')\n",
    "plt.plot(x,y,'-k')\n",
    "plt.plot(x, iv_u, 'r--')\n",
    "plt.plot(x, iv_l, 'r--')\n",
    "\n",
    "plt.xlabel('Period average in milliseconds', size=14)\n",
    "plt.ylabel('VWC $cm^3 cm^{-3}$', size=14)\n",
    "plt.legend(['Quadratic model','95% CI'])\n",
    "plt.annotate(str_rsquared, (2,0.45), size=12)\n",
    "plt.show()\n"
   ]
  },
  {
   "cell_type": "code",
   "execution_count": 317,
   "metadata": {},
   "outputs": [
    {
     "data": {
      "image/png": "[encoded data removed]",
      "text/plain": [
       "<Figure size 864x288 with 2 Axes>"
      ]
     },
     "metadata": {
      "needs_background": "light"
     },
     "output_type": "display_data"
    }
   ],
   "source": [
    "plt.figure(figsize=(12,4))\n",
    "plt.subplot(1,2,1)\n",
    "plt.hist(lm_quadratic.resid, bins='sturges')\n",
    "\n",
    "ax = plt.subplot(1,2,2)\n",
    "qqplot(lm_quadratic.resid, line='q', ax=ax, fit=True)\n",
    "plt.show()\n"
   ]
  },
  {
   "cell_type": "markdown",
   "metadata": {},
   "source": [
    "In a normal distribution points would fall right on the line. In this case we observe some oscillation, but values don't largely deviate from the line, which suggests that the residuals are normally distributed. Remember that we are dealing with a highly variable porous media, with some error due to the nature of the measurements (some small amount of water evaporates while doing the sensor readings), and our sampling size is rather small, so all things considered this seems to be acceptable. To further test normality we can run a normality test (e.g. Shapiro-Wilk or Kolmogorov-Smirnov)."
   ]
  },
  {
   "cell_type": "code",
   "execution_count": 315,
   "metadata": {},
   "outputs": [
    {
     "name": "stdout",
     "output_type": "stream",
     "text": [
      "Test statistic: 0.964810848236084\n",
      "p-value for the hypothesis test: 0.257048100233078\n"
     ]
    }
   ],
   "source": [
    "from scipy import stats\n",
    "W, pvalue = stats.shapiro(lm_quadratic.resid)\n",
    "\n",
    "print('Test statistic:', W)\n",
    "print('p-value for the hypothesis test:', pvalue)\n"
   ]
  },
  {
   "cell_type": "markdown",
   "metadata": {},
   "source": [
    "The p-value is greater than 0.05, so it fails to reject the null hypothesis that the residuals are normally distributed.\n",
    "\n",
    "Note that the table summary alrady has a metric for the normality of residuals using the `Jarque-Bera` test. Below I added the Shapiro-Wilk test since is one of the most common and robust normality tests. The `statsmodels` also has a method for computing the Kolmogorov-Smirnov normality test, look for `statsmodels.stats.diagnostic.kstest_normal`"
   ]
  },
  {
   "cell_type": "markdown",
   "metadata": {},
   "source": [
    "## References\n",
    "\n",
    "Yap, B.W. and Sim, C.H., 2011. Comparisons of various types of normality tests. Journal of Statistical Computation and Simulation, 81(12), pp.2141-2155."
   ]
  }
 ],
 "metadata": {
  "kernelspec": {
   "display_name": "Python 3",
   "language": "python",
   "name": "python3"
  },
  "language_info": {
   "codemirror_mode": {
    "name": "ipython",
    "version": 3
   },
   "file_extension": ".py",
   "mimetype": "text/x-python",
   "name": "python",
   "nbconvert_exporter": "python",
   "pygments_lexer": "ipython3",
   "version": "3.8.5"
  }
 },
 "nbformat": 4,
 "nbformat_minor": 4
}
