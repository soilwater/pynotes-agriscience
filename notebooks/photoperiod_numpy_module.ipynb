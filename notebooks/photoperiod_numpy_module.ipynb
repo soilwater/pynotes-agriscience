{
 "cells": [
  {
   "cell_type": "markdown",
   "metadata": {},
   "source": [
    "# Photoperiod\n",
    "\n",
    "The photoperiod (i.e. daylight hours) is a variable highly related to plant development, particularly regulating the transition between vegetative and reproductive stages, a transition that is typically characterized by flowering. This is an evolutionary adaptation to ensure that seed production occurs during the right environmental conditions to increase the survival rate and ensure the perpetuation of the specie.\n",
    "\n",
    "The length of light period required to induce flowering depends on plant species. Some plants like barley and wheat are induced to flowering when days are becoming longer (known as long-day plants), while some plants like cotton, rice, and chrysanthemums change stages when days are becoming shorter (known as short-day plants).\n",
    "\n",
    ">While initially researchers thought it was the number of daylight hours that influenced the physiological and morphological changes in plants, it was later discovered that it is actually the length of dark hours that regulates plant development. So, short-day plants are actually long-night plants, and viceversa.\n",
    "\n",
    "Photoperiodism also affects animals byaffecting migration patterns, triggering the entry into hibernation, and conditioning sexual behaviour. \n",
    "\n",
    "Because of its tilted angle and the consistent orbit of the Earth around the sun, the theoretical photoperiod can be accurately estimated based on the day of the year and latitude. Of course, the effective photoperiod observed at the Earth's surface may change depending on sky conditions.\n",
    "\n",
    "The goal of this challenge is to write a Python script to compute the number of daylight hours for a **user-specified** date and latitude.\n",
    "\n",
    "\n",
    "You can learn more about photoperiodism at:\n",
    "\n",
    "<iframe src=\"https://www.wikiwand.com/en/Photoperiodism\"></iframe>\n"
   ]
  },
  {
   "cell_type": "code",
   "execution_count": 36,
   "metadata": {},
   "outputs": [],
   "source": [
    "# Import modules\n",
    "import numpy as np\n",
    "import matplotlib.pyplot as plt\n"
   ]
  },
  {
   "cell_type": "code",
   "execution_count": 37,
   "metadata": {},
   "outputs": [],
   "source": [
    "# Define function\n",
    "def photoperiod(phi,doy,verbose=False):\n",
    "    \n",
    "    phi = np.radians(phi) # Convert to radians\n",
    "    light_intensity = 2.206 * 10**-3\n",
    "\n",
    "    C = np.sin(np.radians(23.44)) # sin of the obliquity of 23.44 degrees.\n",
    "    B = -4.76 - 1.03 * np.log(light_intensity) # Eq. [5]. Angle of the sun below the horizon. Civil twilight is -4.76 degrees.\n",
    "\n",
    "    # Calculations\n",
    "    alpha = np.radians(90 + B) # Eq. [6]. Value at sunrise and sunset.\n",
    "    M = 0.9856*doy - 3.251 # Eq. [4].\n",
    "    lmd = M + 1.916*np.sin(np.radians(M)) + 0.020*np.sin(np.radians(2*M)) + 282.565 # Eq. [3]. Lambda\n",
    "    delta = np.arcsin(C*np.sin(np.radians(lmd))) # Eq. [2].\n",
    "\n",
    "    # Defining sec(x) = 1/cos(x)\n",
    "    P = 2/15 * np.degrees( np.arccos( np.cos(alpha) * (1/np.cos(phi)) * (1/np.cos(delta)) - np.tan(phi) * np.tan(delta) ) ) # Eq. [1].\n",
    "\n",
    "    # Print results in order for each computation to match example in paper\n",
    "    if verbose:\n",
    "        print('Input latitude =', np.degrees(phi))\n",
    "        print('[Eq 5] B =', B)\n",
    "        print('[Eq 6] alpha =', np.degrees(alpha))\n",
    "        print('[Eq 4] M =', M[0])\n",
    "        print('[Eq 3] Lambda =', lmd[0])\n",
    "        print('[Eq 2] delta=', np.degrees(delta[0]))\n",
    "        print('[Eq 1] Daylength =', P[0])\n",
    "    \n",
    "    return P\n"
   ]
  },
  {
   "cell_type": "code",
   "execution_count": 38,
   "metadata": {},
   "outputs": [
    {
     "name": "stdout",
     "output_type": "stream",
     "text": [
      "Input latitude = 33.4\n",
      "[Eq 5] B = 1.5400715888953513\n",
      "[Eq 6] alpha = 91.54007158889536\n",
      "[Eq 4] M = 194.8546\n",
      "[Eq 3] Lambda = 476.93831283687416\n",
      "[Eq 2] delta= 20.770548026002125\n",
      "[Eq 1] Daylength = 14.203998218048154\n",
      "Photoperiod: 14.2 hours/day\n"
     ]
    }
   ],
   "source": [
    "# Invoke function with scalars\n",
    "phi = 33.4;  # Latitude for consistency with notation in literature.\n",
    "doy = np.array([201]); # Day of the year. Julian calendar. Day from January 1.\n",
    "\n",
    "P = photoperiod(phi,doy,verbose=True)\n",
    "print('Photoperiod: ' + str(np.round(P[0],2)) + ' hours/day')\n"
   ]
  },
  {
   "cell_type": "code",
   "execution_count": 39,
   "metadata": {},
   "outputs": [
    {
     "data": {
      "image/png": "[encoded data removed]",
      "text/plain": [
       "<Figure size 576x432 with 1 Axes>"
      ]
     },
     "metadata": {
      "needs_background": "light"
     },
     "output_type": "display_data"
    }
   ],
   "source": [
    "# Multiple inputs call\n",
    "phi = 33.4;\n",
    "doy = np.arange(1,365);\n",
    "P = photoperiod(phi,doy)\n",
    "\n",
    "plt.figure(figsize=(8,6))\n",
    "plt.plot(doy,P)\n",
    "plt.title('Latitude:' + str(phi))\n",
    "plt.xlabel('Day of the year', size=14)\n",
    "plt.ylabel('Photoperiod (hours per day)', size=14)\n",
    "plt.show()\n"
   ]
  },
  {
   "cell_type": "markdown",
   "metadata": {},
   "source": [
    "## References\n",
    "\n",
    "Keisling, T.C., 1982. Calculation of the Length of Day 1. Agronomy Journal, 74(4), pp.758-759."
   ]
  }
 ],
 "metadata": {
  "kernelspec": {
   "display_name": "Python 3",
   "language": "python",
   "name": "python3"
  },
  "language_info": {
   "codemirror_mode": {
    "name": "ipython",
    "version": 3
   },
   "file_extension": ".py",
   "mimetype": "text/x-python",
   "name": "python",
   "nbconvert_exporter": "python",
   "pygments_lexer": "ipython3",
   "version": "3.7.6"
  }
 },
 "nbformat": 4,
 "nbformat_minor": 4
}
