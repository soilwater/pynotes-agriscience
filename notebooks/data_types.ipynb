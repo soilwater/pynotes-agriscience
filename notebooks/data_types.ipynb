{
 "cells": [
  {
   "cell_type": "markdown",
   "metadata": {},
   "source": [
    "# Data Types\n",
    "\n",
    "At first glance it may seem that commands such as `a = 4` and `a = 4.0` are the same, however, for the computer these statements represent two different data types. Let's explore the different ways in which we can store infromation in Python. We will visit different data type, but we will cover data structures in a different tutorial. Briefly, a data structure is the container of one or more data types. For instance, lists can store different datatypes such as strings, integers, and floats. See data type refers to each single element or item, while data structures refer to the container."
   ]
  },
  {
   "cell_type": "markdown",
   "metadata": {},
   "source": [
    "## Integers"
   ]
  },
  {
   "cell_type": "code",
   "execution_count": 1,
   "metadata": {},
   "outputs": [
    {
     "name": "stdout",
     "output_type": "stream",
     "text": [
      "8\n",
      "<class 'int'>\n"
     ]
    }
   ],
   "source": [
    "a = 8\n",
    "print(a)\n",
    "print(type(a)) # This is class int\n"
   ]
  },
  {
   "cell_type": "markdown",
   "metadata": {},
   "source": [
    "## Floating point"
   ]
  },
  {
   "cell_type": "code",
   "execution_count": 31,
   "metadata": {},
   "outputs": [
    {
     "name": "stdout",
     "output_type": "stream",
     "text": [
      "2.718\n",
      "<class 'float'>\n"
     ]
    }
   ],
   "source": [
    "euler = 2.718\n",
    "print(euler)\n",
    "print(type(euler)) # This is class float (numbers with decimal places)\n"
   ]
  },
  {
   "cell_type": "markdown",
   "metadata": {},
   "source": [
    "## Strings"
   ]
  },
  {
   "cell_type": "code",
   "execution_count": 28,
   "metadata": {},
   "outputs": [
    {
     "name": "stdout",
     "output_type": "stream",
     "text": [
      "Simplicity is the ultimate sophistication\n",
      "<class 'str'>\n",
      "<class 'str'>\n"
     ]
    }
   ],
   "source": [
    "# Strings are defined by apostrophes or quotation marks\n",
    "quote = 'Simplicity is the ultimate sophistication'\n",
    "author = \"Leonardo DaVinci\"\n",
    "print(quote)\n",
    "print(type(quote))\n",
    "print(type(author))\n"
   ]
  },
  {
   "cell_type": "code",
   "execution_count": null,
   "metadata": {},
   "outputs": [],
   "source": [
    "# What happens when we want to add an integer to a string?\n",
    "var1 = 25\n",
    "var2 = '3'\n",
    "print(var1 + var2)\n",
    "\n",
    "# We get an error: unsupported operand type(s) for +: 'int' and 'str'"
   ]
  },
  {
   "cell_type": "code",
   "execution_count": 6,
   "metadata": {},
   "outputs": [
    {
     "name": "stdout",
     "output_type": "stream",
     "text": [
      "28\n"
     ]
    }
   ],
   "source": [
    "# If we convert the string into an integer then the command will generate the right result.\n",
    "print(var1 + int(var2))"
   ]
  },
  {
   "cell_type": "markdown",
   "metadata": {},
   "source": [
    "## Booleans\n",
    "\n",
    "A boolean operation tests whether an expression is `True` or `False`. Booleans play a decisive role in controlling the flow of your code using logic. Here is where human knowledge is transferred to the machine in terms of logical statements. The idea is that depending on the result of a statement, then different code will be triggered. For this reason it makes sense that booleans are usually coupled with `if` statements to control de flow of the code.\n",
    "\n",
    "> Python evaluates conditional arguments from left to right. The evaluation stops as soon as the outcome is determined and the resulting value is returned. Python does not evaluate subsequent operands unless it is necessary to resolve the result.\n",
    "\n",
    "### Boolean logical operators\n",
    "\n",
    "`or`: Will evaluate to `True` **if at least one (but not necessarily both)** statements is `True`\n",
    "\n",
    "`and`: Will evaluate to `True` **only if both** statements are `True`\n",
    "\n",
    "`not`: Reverses the result of the statement\n",
    "\n",
    "### Boolean comparison operators include:\n",
    "\n",
    "`==`: equal\n",
    "\n",
    "`!=`: not equal\n",
    "\n",
    "`>=`: greater or equal than\n",
    "\n",
    "`<=`: less or equal than\n",
    "\n",
    "`>`: greater than\n",
    "\n",
    "`<`: less than\n"
   ]
  },
  {
   "cell_type": "code",
   "execution_count": 1,
   "metadata": {},
   "outputs": [
    {
     "data": {
      "text/plain": [
       "False"
      ]
     },
     "execution_count": 1,
     "metadata": {},
     "output_type": "execute_result"
    }
   ],
   "source": [
    "# Test for equality\n",
    "'TAA' == 'ATG' # Stop codon vs methionine codon"
   ]
  },
  {
   "cell_type": "code",
   "execution_count": 23,
   "metadata": {},
   "outputs": [
    {
     "data": {
      "text/plain": [
       "bool"
      ]
     },
     "execution_count": 23,
     "metadata": {},
     "output_type": "execute_result"
    }
   ],
   "source": [
    "# Show data type\n",
    "type('TAA' == 'ATG')"
   ]
  },
  {
   "cell_type": "code",
   "execution_count": 3,
   "metadata": {},
   "outputs": [
    {
     "data": {
      "text/plain": [
       "True"
      ]
     },
     "execution_count": 3,
     "metadata": {},
     "output_type": "execute_result"
    }
   ],
   "source": [
    "# Test for inequality\n",
    "'TAA' != 'ATG'"
   ]
  },
  {
   "cell_type": "code",
   "execution_count": 9,
   "metadata": {},
   "outputs": [],
   "source": [
    "# Define an example aminoacid codon\n",
    "serine = 'AGU'"
   ]
  },
  {
   "cell_type": "code",
   "execution_count": 18,
   "metadata": {},
   "outputs": [
    {
     "data": {
      "text/plain": [
       "False"
      ]
     },
     "execution_count": 18,
     "metadata": {},
     "output_type": "execute_result"
    }
   ],
   "source": [
    "# AND conditional\n",
    "serine == 'CGC' and serine == 'AGU'"
   ]
  },
  {
   "cell_type": "code",
   "execution_count": 19,
   "metadata": {},
   "outputs": [
    {
     "data": {
      "text/plain": [
       "True"
      ]
     },
     "execution_count": 19,
     "metadata": {},
     "output_type": "execute_result"
    }
   ],
   "source": [
    "# OR conditional\n",
    "serine == 'CGC' or serine == 'AGU'"
   ]
  },
  {
   "cell_type": "code",
   "execution_count": 13,
   "metadata": {},
   "outputs": [
    {
     "data": {
      "text/plain": [
       "False"
      ]
     },
     "execution_count": 13,
     "metadata": {},
     "output_type": "execute_result"
    }
   ],
   "source": [
    "# Reverse result\n",
    "not serine == 'AGU' or serine == 'CGC'"
   ]
  },
  {
   "cell_type": "code",
   "execution_count": 20,
   "metadata": {},
   "outputs": [
    {
     "data": {
      "text/plain": [
       "True"
      ]
     },
     "execution_count": 20,
     "metadata": {},
     "output_type": "execute_result"
    }
   ],
   "source": [
    "# Combined AND-OR conditional (evaluated from left to right)\n",
    "serine == 'AGU' or serine == 'CGC' and serine == 'CCA'"
   ]
  },
  {
   "cell_type": "code",
   "execution_count": 13,
   "metadata": {},
   "outputs": [
    {
     "data": {
      "text/plain": [
       "False"
      ]
     },
     "execution_count": 13,
     "metadata": {},
     "output_type": "execute_result"
    }
   ],
   "source": [
    "# Grouping statements is essential to ensure desired logic\n",
    "(serine == 'AGU' or serine == 'CGC') and serine == 'CCA'"
   ]
  },
  {
   "cell_type": "code",
   "execution_count": 27,
   "metadata": {},
   "outputs": [
    {
     "data": {
      "text/plain": [
       "False"
      ]
     },
     "execution_count": 27,
     "metadata": {},
     "output_type": "execute_result"
    }
   ],
   "source": [
    "# Checks the entire expression\n",
    "[1,2,3] == [3]"
   ]
  },
  {
   "cell_type": "code",
   "execution_count": 10,
   "metadata": {},
   "outputs": [
    {
     "data": {
      "text/plain": [
       "array([False,  True, False])"
      ]
     },
     "execution_count": 10,
     "metadata": {},
     "output_type": "execute_result"
    }
   ],
   "source": [
    "# Use & and | to make element-wise comparisons\n",
    "# For this we need to use numpy arrays\n",
    "\n",
    "import numpy as np\n",
    "np.array([1,2,3]) == [3]\n",
    "\n",
    "np.fromiter(serine, (np.unicode,1)) == 'G'"
   ]
  },
  {
   "cell_type": "markdown",
   "metadata": {},
   "source": [
    "## Ranges"
   ]
  },
  {
   "cell_type": "code",
   "execution_count": 12,
   "metadata": {},
   "outputs": [
    {
     "name": "stdout",
     "output_type": "stream",
     "text": [
      "range(2, 8, 2)\n",
      "<class 'range'>\n",
      "[2, 4, 6]\n"
     ]
    }
   ],
   "source": [
    "# range(start,end,step) \n",
    "# Ranges will exclude the last number, so you need to go one extra value to include the last number\n",
    "# Ranges will also not display the sequence of numbers unless we force the range to be a list\n",
    "\n",
    "values = range(2,8,2) # Numbers from 2 to 6.\n",
    "print(values)\n",
    "print(type(values))\n",
    "print(list(values))\n"
   ]
  },
  {
   "cell_type": "markdown",
   "metadata": {},
   "source": [
    "## Integers to strings"
   ]
  },
  {
   "cell_type": "code",
   "execution_count": 19,
   "metadata": {},
   "outputs": [
    {
     "name": "stdout",
     "output_type": "stream",
     "text": [
      "<class 'int'>\n",
      "11\n",
      "<class 'str'>\n"
     ]
    }
   ],
   "source": [
    "### Integers to string\n",
    "int_num = 8\n",
    "print(type(int_num))   # Print data type before conversion\n",
    "print(int_num + 3)     # This will work\n",
    "\n",
    "int_str = str(int_num) # Store converted string into a separate variable to avoid overwriting 'a'\n",
    "print(type(int_str)) \n",
    "\n",
    "#print(int_str + 3)     # This will not work"
   ]
  },
  {
   "cell_type": "markdown",
   "metadata": {},
   "source": [
    "## Float to string"
   ]
  },
  {
   "cell_type": "code",
   "execution_count": 20,
   "metadata": {},
   "outputs": [
    {
     "name": "stdout",
     "output_type": "stream",
     "text": [
      "<class 'float'>\n",
      "<class 'str'>\n"
     ]
    }
   ],
   "source": [
    "### Floats to string\n",
    "float_num = 3.1415\n",
    "print(type(float_num))       # Print data type before conversion\n",
    "print(type(str(float_num)))  # Print resulting data type "
   ]
  },
  {
   "cell_type": "markdown",
   "metadata": {},
   "source": [
    "## String to integers and floats"
   ]
  },
  {
   "cell_type": "code",
   "execution_count": 22,
   "metadata": {},
   "outputs": [
    {
     "name": "stdout",
     "output_type": "stream",
     "text": [
      "<class 'float'>\n"
     ]
    },
    {
     "data": {
      "text/plain": [
       "True"
      ]
     },
     "execution_count": 22,
     "metadata": {},
     "output_type": "execute_result"
    }
   ],
   "source": [
    "# Strings to integers/floats\n",
    "float_str = '3'\n",
    "float_num = float(float_str)\n",
    "print(type(float_num))\n",
    "\n",
    "# Check if string is numeric\n",
    "float_str.isnumeric()"
   ]
  },
  {
   "cell_type": "markdown",
   "metadata": {},
   "source": [
    "## Floats to integers"
   ]
  },
  {
   "cell_type": "code",
   "execution_count": 25,
   "metadata": {},
   "outputs": [
    {
     "name": "stdout",
     "output_type": "stream",
     "text": [
      "<class 'int'>\n",
      "4\n"
     ]
    }
   ],
   "source": [
    "# Floats to integers\n",
    "float_num = 4.9\n",
    "int_num = int(float_num)\n",
    "print(type(int_num))\n",
    "print(int_num)"
   ]
  },
  {
   "cell_type": "markdown",
   "metadata": {},
   "source": [
    "In some cases Python will change the class according to the operation. For instance, the following code starts from two integers and results in a floating point."
   ]
  },
  {
   "cell_type": "code",
   "execution_count": 26,
   "metadata": {},
   "outputs": [
    {
     "name": "stdout",
     "output_type": "stream",
     "text": [
      "<class 'int'>\n",
      "<class 'int'>\n",
      "2.5\n",
      "<class 'float'>\n"
     ]
    }
   ],
   "source": [
    "numerator = 5\n",
    "denominator = 2\n",
    "print(type(numerator))\n",
    "print(type(denominator))\n",
    "\n",
    "answer = numerator / denominator  # Two integers\n",
    "print(answer)\n",
    "print(type(answer))   # Result is a float\n"
   ]
  }
 ],
 "metadata": {
  "kernelspec": {
   "display_name": "Python 3",
   "language": "python",
   "name": "python3"
  },
  "language_info": {
   "codemirror_mode": {
    "name": "ipython",
    "version": 3
   },
   "file_extension": ".py",
   "mimetype": "text/x-python",
   "name": "python",
   "nbconvert_exporter": "python",
   "pygments_lexer": "ipython3",
   "version": "3.8.5"
  }
 },
 "nbformat": 4,
 "nbformat_minor": 4
}
