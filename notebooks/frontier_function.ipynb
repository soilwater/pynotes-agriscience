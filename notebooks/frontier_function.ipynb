{
 "cells": [
  {
   "cell_type": "markdown",
   "metadata": {},
   "source": [
    "# Frontier Production Function\n",
    "\n",
    "A frontier production function is a method of economic analysis used to asses the use efficiency of a limited number of resources in industry. Perhaps, the most traditional example involves the analysis of resources such as labor and capital required to produce a specic good. The concept has also been widely applied in agriculture to assess the regional (e.g. county, shire) or farm production efficiency as a function of growing season water supply. \n",
    "\n",
    "In this exercise you will learn how to fit a frontier production function using a dataset of winter wheat grain yield and growing season precipitation for Grant county in Oklahoma. We will implement the Cobb-Douglas model, which is one of the most common models. If you are interested in this topic you should read the seminal paper by Cobb and Douglas published in 1928.\n",
    "\n",
    "$$ y = a + b \\ ln(x) + c \\ [ln(x)]^2 \\ , \\quad x>0 $$"
   ]
  },
  {
   "cell_type": "code",
   "execution_count": 1,
   "metadata": {},
   "outputs": [],
   "source": [
    "# Import modules\n",
    "import glob\n",
    "import pandas as pd\n",
    "import numpy as np\n",
    "from scipy.optimize import curve_fit, newton\n",
    "import matplotlib.pyplot as plt\n",
    "\n",
    "np.seterr(divide = 'ignore'); # Suppress warning about diving by zero\n"
   ]
  },
  {
   "cell_type": "code",
   "execution_count": 2,
   "metadata": {},
   "outputs": [
    {
     "data": {
      "text/html": [
       "<div>\n",
       "<style scoped>\n",
       "    .dataframe tbody tr th:only-of-type {\n",
       "        vertical-align: middle;\n",
       "    }\n",
       "\n",
       "    .dataframe tbody tr th {\n",
       "        vertical-align: top;\n",
       "    }\n",
       "\n",
       "    .dataframe thead th {\n",
       "        text-align: right;\n",
       "    }\n",
       "</style>\n",
       "<table border=\"1\" class=\"dataframe\">\n",
       "  <thead>\n",
       "    <tr style=\"text-align: right;\">\n",
       "      <th></th>\n",
       "      <th>year</th>\n",
       "      <th>county</th>\n",
       "      <th>grain_yield</th>\n",
       "      <th>rainfall</th>\n",
       "    </tr>\n",
       "  </thead>\n",
       "  <tbody>\n",
       "    <tr>\n",
       "      <th>0</th>\n",
       "      <td>1919</td>\n",
       "      <td>GRANT</td>\n",
       "      <td>1021.596244</td>\n",
       "      <td>602.107</td>\n",
       "    </tr>\n",
       "    <tr>\n",
       "      <th>1</th>\n",
       "      <td>1920</td>\n",
       "      <td>GRANT</td>\n",
       "      <td>1122.411663</td>\n",
       "      <td>477.647</td>\n",
       "    </tr>\n",
       "    <tr>\n",
       "      <th>2</th>\n",
       "      <td>1922</td>\n",
       "      <td>GRANT</td>\n",
       "      <td>678.823820</td>\n",
       "      <td>389.128</td>\n",
       "    </tr>\n",
       "    <tr>\n",
       "      <th>3</th>\n",
       "      <td>1923</td>\n",
       "      <td>GRANT</td>\n",
       "      <td>860.291574</td>\n",
       "      <td>591.185</td>\n",
       "    </tr>\n",
       "    <tr>\n",
       "      <th>4</th>\n",
       "      <td>1924</td>\n",
       "      <td>GRANT</td>\n",
       "      <td>1021.596244</td>\n",
       "      <td>516.001</td>\n",
       "    </tr>\n",
       "  </tbody>\n",
       "</table>\n",
       "</div>"
      ],
      "text/plain": [
       "   year county  grain_yield  rainfall\n",
       "0  1919  GRANT  1021.596244   602.107\n",
       "1  1920  GRANT  1122.411663   477.647\n",
       "2  1922  GRANT   678.823820   389.128\n",
       "3  1923  GRANT   860.291574   591.185\n",
       "4  1924  GRANT  1021.596244   516.001"
      ]
     },
     "execution_count": 2,
     "metadata": {},
     "output_type": "execute_result"
    }
   ],
   "source": [
    "# Load yield and precipitation data\n",
    "data = pd.read_csv(\"../datasets/frontier_yield_rainfall.csv\", header=1)\n",
    "data.head()\n"
   ]
  },
  {
   "cell_type": "code",
   "execution_count": 5,
   "metadata": {},
   "outputs": [
    {
     "data": {
      "image/png": "[encoded data removed]",
      "text/plain": [
       "<Figure size 576x432 with 1 Axes>"
      ]
     },
     "metadata": {
      "needs_background": "light"
     },
     "output_type": "display_data"
    }
   ],
   "source": [
    "# Explore data\n",
    "plt.figure(figsize=(8,6))\n",
    "plt.scatter(data[\"rainfall\"], data[\"grain_yield\"], edgecolor='k', alpha=0.75)\n",
    "plt.xlabel('Growing season precipitation (mm)')\n",
    "plt.ylabel('Grain yield (kg/ha)')\n",
    "plt.show()\n"
   ]
  },
  {
   "cell_type": "markdown",
   "metadata": {},
   "source": [
    "Our next step is to partition the dataset into continuous and non-overlapping rainfall intervals that we will call bins, similar to histogram bins.\n",
    "\n",
    "To generate the bins we will search for the minimum and maximum values of the rainfall vector and then use this information to generate linearly spaced (it could also be log-spaced) rainfall values that we will use to partion the dataset at regular intervals. In other words, each bin will be defined by a lower and upper rainfall boundary.\n",
    "\n",
    "THen, the idea is to select the highest observed grain yield obtained within a specific bin. We will also need to identify the position of the highest yield observation for that specific bin because we also need to retrive the growing season rainfall at which the highest yield was achieved. The highest yield and its corresponding rainfall within a bin represent a pair of `x,y` coordinates that we can use to approximate the frontier function. Of course we will collect several of these pairs, as many as `N-1`, where `N` denotes the number of bins.\n",
    "\n",
    "As usual, we need to consider potentially missing values (represented as NaN) or perhaps rainfall bins that do not contain any yield data. The latter situation could arise from a dataset with insufficient yield observations in certain rainfall ranges or a as a result of dividing the dataset into a large number of bins, and therefore, so narrow that there might not be any historical yield record for that specific narrow bin.\n"
   ]
  },
  {
   "cell_type": "code",
   "execution_count": 6,
   "metadata": {},
   "outputs": [
    {
     "name": "stdout",
     "output_type": "stream",
     "text": [
      "[ 206.629       271.80721429  336.98542857  402.16364286  467.34185714\n",
      "  532.52007143  597.69828571  662.8765      728.05471429  793.23292857\n",
      "  858.41114286  923.58935714  988.76757143 1053.94578571 1119.124     ]\n"
     ]
    }
   ],
   "source": [
    "# Identify boundary points\n",
    "max_rainfall = np.max(data.rainfall)\n",
    "min_rainfall = np.min(data.rainfall)\n",
    "N = 15 # Number of bins\n",
    "rainfall_bins = np.linspace(min_rainfall, max_rainfall, N)\n",
    "print(rainfall_bins)\n"
   ]
  },
  {
   "cell_type": "markdown",
   "metadata": {},
   "source": [
    "Now that we have the intervals for our rainfall bins is time to test whether we can select rainfall events within the lower and upper  bins limits. We will test this operation by hard coding a lower and upper limit. I will make the arbitrary choice of select `great or equal than` for the lower limit and `greater than` for the upper limit.\n",
    "\n",
    ">Note how we are braking down the problem and testing individual components of a larger operation. I highly encourage you to build your code line by line. Test the code using a simple example to ensure that it works as expected. Then, proceed with another line.\n"
   ]
  },
  {
   "cell_type": "code",
   "execution_count": 7,
   "metadata": {},
   "outputs": [
    {
     "data": {
      "text/plain": [
       "0     True\n",
       "1     True\n",
       "2     True\n",
       "3     True\n",
       "4     True\n",
       "      ... \n",
       "68    True\n",
       "69    True\n",
       "70    True\n",
       "71    True\n",
       "72    True\n",
       "Name: rainfall, Length: 73, dtype: bool"
      ]
     },
     "execution_count": 7,
     "metadata": {},
     "output_type": "execute_result"
    }
   ],
   "source": [
    "# Let's test the boolean for selecting rainfall values above the bin lower limit\n",
    "# Run this cell to see the list of True and False entries (it is long)\n",
    "data.rainfall >= rainfall_bins[0]\n"
   ]
  },
  {
   "cell_type": "code",
   "execution_count": 8,
   "metadata": {},
   "outputs": [
    {
     "data": {
      "text/plain": [
       "0     False\n",
       "1     False\n",
       "2     False\n",
       "3     False\n",
       "4     False\n",
       "      ...  \n",
       "68    False\n",
       "69    False\n",
       "70    False\n",
       "71    False\n",
       "72    False\n",
       "Name: rainfall, Length: 73, dtype: bool"
      ]
     },
     "execution_count": 8,
     "metadata": {},
     "output_type": "execute_result"
    }
   ],
   "source": [
    "# Let's test the boolean for selecting rainfall values below the bin upper limit\n",
    "# Run this cell to see the list of True and False entries (it is long)\n",
    "data.rainfall < rainfall_bins[1]\n"
   ]
  },
  {
   "cell_type": "markdown",
   "metadata": {},
   "source": [
    "What we really need to do is to put these two statements together. Only values that are `True` in both statements will result to be also `True`in the final statement."
   ]
  },
  {
   "cell_type": "code",
   "execution_count": 9,
   "metadata": {},
   "outputs": [
    {
     "data": {
      "text/plain": [
       "0     False\n",
       "1     False\n",
       "2     False\n",
       "3     False\n",
       "4     False\n",
       "      ...  \n",
       "68    False\n",
       "69    False\n",
       "70    False\n",
       "71    False\n",
       "72     True\n",
       "Name: rainfall, Length: 73, dtype: bool"
      ]
     },
     "execution_count": 9,
     "metadata": {},
     "output_type": "execute_result"
    }
   ],
   "source": [
    "# Let's test these two boolean statements together for n = 1\n",
    "n = 1\n",
    "(data.rainfall >= rainfall_bins[n]) & (data.rainfall < rainfall_bins[n+1])\n"
   ]
  },
  {
   "cell_type": "markdown",
   "metadata": {},
   "source": [
    "We have the bins and we know how to select years (because rainfall and yield are provided for different years) within different rainfall intervals.\n",
    "\n",
    "The next step consists of iterating over each bin, get the highest yield for the bin, get the matching growing season rainfall, store these value, and proceed with the next bin until we exhaust all the bins (i.e. we reach the maximum rainfall value)\n",
    "\n",
    "As mentioned earlier, it will be wise to account for bins with no yield, just in case we divided the rainfall vector in way too many intervals. I will simple check if all the boolean values are `False`. Our code may still crash due to other issues that aren't within our radar.\n",
    "\n",
    ">What can I do to anticipate errors or roadblocks in my code? First I suggest exploring your data. Open and inspect the file to check for missing values, mixed strings and numbers, etc. In addition, I highly recommend sketching the method by drawing a chart. You will need to instruct the computer to follow the same steps. So drawing and sketching are excellent exercises to breakdown problems into smaller steps.\n"
   ]
  },
  {
   "cell_type": "code",
   "execution_count": 10,
   "metadata": {},
   "outputs": [
    {
     "name": "stdout",
     "output_type": "stream",
     "text": [
      "[ 261.  336.  354.  422.  509.  553.  621.  697.  739.  803. 1020.]\n",
      "[1815. 2104. 2272. 1915. 2890. 2621. 2722. 2339. 2688. 1781. 2084.]\n"
     ]
    }
   ],
   "source": [
    "# Loop over each rainfall interval\n",
    "\n",
    "# Initiate the empty array to collect values\n",
    "frontier_yield_obs = np.array([])\n",
    "frontier_rainfall_obs = np.array([])\n",
    "\n",
    "# The loop below will go to N-1, so that when we reach the end of the loop\n",
    "# and we call N+1 we retrieve the last element. Otherwise, if we iterate until N\n",
    "# when we call the N+1 element it will return an error since there is no such element.\n",
    "for n in range(0,len(rainfall_bins)-1):\n",
    "    idx = (data.rainfall >= rainfall_bins[n]) & (data.rainfall < rainfall_bins[n+1])\n",
    "    \n",
    "    if np.all(idx == False):\n",
    "        continue\n",
    "        \n",
    "    else:\n",
    "        rainfall_bin = data.loc[idx, 'rainfall']\n",
    "        yield_bin = data.loc[idx, 'grain_yield']\n",
    "        \n",
    "        max_yield_bin = np.amax(yield_bin)\n",
    "        idx_max_yield_bin = np.argmax(yield_bin.values)\n",
    "        corresponding_rainfall_bin = rainfall_bin.iloc[idx_max_yield_bin]\n",
    "        \n",
    "        frontier_rainfall_obs = np.append(frontier_rainfall_obs, corresponding_rainfall_bin)\n",
    "        frontier_yield_obs = np.append(frontier_yield_obs, max_yield_bin)\n",
    "\n",
    "# Display outputs. For simplicity I rounded the outputs at the time of printing.\n",
    "print(np.round(frontier_rainfall_obs))\n",
    "print(np.round(frontier_yield_obs))\n"
   ]
  },
  {
   "cell_type": "markdown",
   "metadata": {},
   "source": [
    "Done! We have the highest yield and the corresponding rainfall for each selected yield. Note how the variable names, despite being a bit verbose, actually help to read and follow the logic of the code.\n"
   ]
  },
  {
   "cell_type": "markdown",
   "metadata": {},
   "source": [
    "The last step to create the frontier production function consists of defining the model of the frontier and optimizing model parameters based the pairwise rainfall-yield data that we just collected for the rainfall bins.\n",
    "\n",
    "There are multiple Python packages that can be used to optimize functions. We will use the standard curve_fit function based on non-linear least squares from the SciPy module."
   ]
  },
  {
   "cell_type": "code",
   "execution_count": 11,
   "metadata": {},
   "outputs": [
    {
     "name": "stdout",
     "output_type": "stream",
     "text": [
      "Optimized parameters: [-55245.  18306.  -1450.]\n",
      "The frontier was built using a total of: 1120 points\n"
     ]
    }
   ],
   "source": [
    "# Define Cobb-Douglas model\n",
    "cobb_douglas = lambda x, a, b, c: a + b * np.log(x) + c * np.log(x)**2\n",
    "\n",
    "# Define initial guess for the parameters of the Cobb-Douglas model\n",
    "par0 = [1,1,1]\n",
    "\n",
    "# Fit Cobb-Douglas model\n",
    "par = curve_fit(cobb_douglas, frontier_rainfall_obs, frontier_yield_obs, par0)\n",
    "print('Optimized parameters:', np.round(par[0]))\n",
    "\n",
    "# Create range of x values using a step increase (default). This will give us enough detail\n",
    "# to have an accurate curve for most practical purposes.\n",
    "frontier_rainfall_line = np.arange(0,max_rainfall)\n",
    "frontier_yield_line = cobb_douglas(frontier_rainfall_line, *par[0])\n",
    "\n",
    "print('The frontier was built using a total of:', len(frontier_rainfall_line), 'points')\n"
   ]
  },
  {
   "cell_type": "code",
   "execution_count": 42,
   "metadata": {},
   "outputs": [
    {
     "data": {
      "image/png": "[encoded data removed]",
      "text/plain": [
       "<Figure size 576x432 with 1 Axes>"
      ]
     },
     "metadata": {
      "needs_background": "light"
     },
     "output_type": "display_data"
    }
   ],
   "source": [
    "# Plot the data and frontier\n",
    "plt.figure(figsize=(8,6))\n",
    "plt.scatter(frontier_rainfall_obs, frontier_yield_obs, s=200, alpha=0.5, facecolor='w', color='r', linewidths=1)\n",
    "plt.scatter(data[\"rainfall\"], data[\"grain_yield\"], edgecolor='k', alpha=0.75)\n",
    "plt.plot(frontier_rainfall_line, frontier_yield_line, '-k')\n",
    "plt.xlabel('Growing season precipitation (mm)', size=16)\n",
    "plt.ylabel('Grain yield (kg/ha)', size=16)\n",
    "plt.xticks(fontsize=16)\n",
    "plt.yticks(fontsize=16)\n",
    "plt.ylim(0,3200)\n",
    "plt.show()\n"
   ]
  },
  {
   "cell_type": "markdown",
   "metadata": {},
   "source": [
    "## Curve interpretation\n",
    "\n",
    "- The part of the frontier intercepting the `y axis` is negative. We restricted the plot to plausible yield values, which are certainly greater than zero.\n",
    "\n",
    "- The part of the frontier that intercepts the `x axis` represents the amount of growing season water supply that genertes zero yield. This can be viewed as an inefficiency of the system and represents the minimum water losses (due to runoff, evaporation, drainage, canopy interception, etc.).\n",
    "\n",
    "- The highest point of the curve gives us an idea of the growing season rainfall required to achieve the highest yeilds. Note that during many years yields in the central range can be much lower than the highest yield. To a great extent this associated to other factors, such as the distribution of the rainfall during the growing season or the occurrence of other factors like heat stress, hail damage, or yield losses due to diseases and pests.\n",
    "\n",
    "- The last, and decaying, portion of the curve could be due to two main reasons: 1) There is insuficient yield data for years with high growing season rainfall. The chances of receiving two or three times as much rainfall than the median rainfall in a single growing season are probably not very high. 2) Excess of water can be detrimental to the production of grain yield. This actually makes sense and can be related to flooding events, plant lodging, increased disease pressure, weaker root anchoring, and even larger number of cloudy days that reduce the amount of solar radiation for photosynthesis. We don't know the answer from this dataset.\n",
    "\n",
    "To complete the analysis we will compute few extra metrics that might be useful to summarize the dataset. I assume most of you are familiar with the concept of median (i.e. 50th percentile), which is auseful metric of central tendency robust to outliers and skewed distributions. Perhaps, the most challenging step is the one regarding the searching of the function roots. We can use the Newton-Raphson method (also known as the secant method) for finding function roots (i.e. at what value(s) of x the function f(x) intersects the x-axis). Based on a visual inspection of the graph, we will pass an initial guess for the serach of 200 mm. If you want to learn more about this function you can read the official [SciPy documentation](https://docs.scipy.org/doc/scipy/reference/generated/scipy.optimize.newton.html).\n",
    "\n",
    "We can also estimate the ideal rainfall by finding the point at which the frontier does not show any additional increase in yield with increasing rainfall. We can find this optimum point by finding the point at which the first derivative of the frontier function is zero.\n"
   ]
  },
  {
   "cell_type": "markdown",
   "metadata": {},
   "source": [
    "## Additional summary metrics"
   ]
  },
  {
   "cell_type": "code",
   "execution_count": 43,
   "metadata": {},
   "outputs": [
    {
     "name": "stdout",
     "output_type": "stream",
     "text": [
      "508.254 mm\n",
      "1680.25698 kg/ha\n",
      "Minimum losses:  147.0 mm\n",
      "Optimal rainfall: 550.0 mm\n",
      "Optimal yield: 2525.0 kg/ha\n"
     ]
    }
   ],
   "source": [
    "# Median rainfall\n",
    "median_rainfall = np.median(data.rainfall)\n",
    "print(median_rainfall, 'mm')\n",
    "\n",
    "# Median grain yield\n",
    "median_yield = np.median(data.grain_yield)\n",
    "print(median_yield, 'kg/ha')\n",
    "\n",
    "# Estimate minimum_losses using the Newton-Raphson method\n",
    "minimum_losses = newton(cobb_douglas, 200, args=par[0])\n",
    "print('Minimum losses: ', round(minimum_losses), 'mm')\n",
    "\n",
    "# Optimal rainfall (system input) and grain yield (system output)\n",
    "# We will approaximate the first derivative using the set of points (i.e. numerical approx.)\n",
    "# Step 1: Calcualte derivative, Step 2: Calculate absolute value, Step 3: find minimum value\n",
    "first_diff_approax = np.diff(frontier_yield_line)\n",
    "idx_zero_diff = np.argmin(np.abs(first_diff_approax))\n",
    "optimal_rainfall = frontier_rainfall_line[idx_zero_diff]\n",
    "optimal_yield = frontier_yield_line[idx_zero_diff]\n",
    "print('Optimal rainfall:', round(optimal_rainfall), 'mm')\n",
    "print('Optimal yield:', round(optimal_yield), 'kg/ha')\n"
   ]
  },
  {
   "cell_type": "markdown",
   "metadata": {},
   "source": [
    "## Quantile regression\n",
    "\n",
    "In the previous line of reasoning we have focused on selecting the highest yield within a given rainfall interval. This approach makes direct use of both rainfall and yield observations to build the frontier production function.\n",
    "\n",
    "An alternative approach is to calculate some statistical variables for each interval. A commonly used technique is that of selecting percentiles or quantiles. You probably heard the term \"Quantile regression analysis\". I'm sure that `Python` and `R` packages have some advanced features, but here I want show the concept behind the technique, which is similar to the approach described earlier.\n",
    "\n",
    "For each bin we will simply calculate the yield 95th percentile and the average rainfall. The pairwise points will not necessarily match observations and will likely be smoother since we are filtering out some of the noise.\n"
   ]
  },
  {
   "cell_type": "code",
   "execution_count": 52,
   "metadata": {},
   "outputs": [
    {
     "data": {
      "image/png": "[encoded data removed]",
      "text/plain": [
       "<Figure size 576x432 with 1 Axes>"
      ]
     },
     "metadata": {
      "needs_background": "light"
     },
     "output_type": "display_data"
    }
   ],
   "source": [
    "# Quantile regression\n",
    "max_rainfall = np.max(data.rainfall)\n",
    "min_rainfall = np.min(data.rainfall)\n",
    "N = 10 # Number of bins\n",
    "rainfall_bins = np.linspace(min_rainfall, max_rainfall, N)\n",
    "\n",
    "frontier_yield_obs = np.array([])\n",
    "frontier_rainfall_obs = np.array([])\n",
    "\n",
    "for n in range(0,len(rainfall_bins)-1):\n",
    "    idx = (data.rainfall >= rainfall_bins[n]) & (data.rainfall < rainfall_bins[n+1])\n",
    "    \n",
    "    if np.all(idx == False):\n",
    "        continue\n",
    "        \n",
    "    else:\n",
    "        rainfall_bin = data.loc[idx, 'rainfall']\n",
    "        yield_bin = data.loc[idx, 'grain_yield']        \n",
    "\n",
    "        frontier_rainfall_obs = np.append(frontier_rainfall_obs, np.mean(rainfall_bin))\n",
    "        frontier_yield_obs = np.append(frontier_yield_obs, np.percentile(yield_bin, 95))\n",
    "\n",
    "par0 = [1,1,1]\n",
    "\n",
    "par = curve_fit(cobb_douglas, frontier_rainfall_obs, frontier_yield_obs, par0)\n",
    "\n",
    "frontier_rainfall_line = np.arange(0,max_rainfall)\n",
    "frontier_yield_line = cobb_douglas(frontier_rainfall_line, *par[0])\n",
    "\n",
    "\n",
    "# Plot the data and frontier\n",
    "plt.figure(figsize=(8,6))\n",
    "plt.scatter(frontier_rainfall_obs, frontier_yield_obs, \n",
    "            s=200, alpha=0.25, facecolor='b', edgecolors='k', linewidths=1)\n",
    "plt.scatter(data[\"rainfall\"], data[\"grain_yield\"], edgecolor='k', alpha=0.75)\n",
    "plt.plot(frontier_rainfall_line, frontier_yield_line, '-k')\n",
    "plt.xlabel('Growing season precipitation (mm)', size=16)\n",
    "plt.ylabel('Grain yield (kg/ha)', size=16)\n",
    "plt.xticks(fontsize=16)\n",
    "plt.yticks(fontsize=16)\n",
    "plt.ylim(0,3200)\n",
    "plt.show()\n"
   ]
  },
  {
   "cell_type": "code",
   "execution_count": 15,
   "metadata": {},
   "outputs": [
    {
     "name": "stdout",
     "output_type": "stream",
     "text": [
      "Minimum losses:  147.0 mm\n",
      "Optimal rainfall: 580.0 mm\n",
      "Optimal yield: 2592.0 kg/ha\n"
     ]
    }
   ],
   "source": [
    "# Estimate minimum_losses using the Newton-Raphson method\n",
    "minimum_losses = newton(cobb_douglas, 200, args=par[0])\n",
    "print('Minimum losses: ', round(minimum_losses), 'mm')\n",
    "\n",
    "# Optimal rainfall (system input) and grain yield (system output)\n",
    "# We will approaximate the first derivative using the set of points (i.e. numerical approx.)\n",
    "# Step 1: Calcualte derivative, Step 2: Calculate absolute value, Step 3: find minimum value\n",
    "first_diff_approax = np.diff(frontier_yield_line)\n",
    "idx_zero_diff = np.argmin(np.abs(first_diff_approax))\n",
    "optimal_rainfall = frontier_rainfall_line[idx_zero_diff]\n",
    "optimal_yield = frontier_yield_line[idx_zero_diff]\n",
    "print('Optimal rainfall:', round(optimal_rainfall), 'mm')\n",
    "print('Optimal yield:', round(optimal_yield), 'kg/ha')\n"
   ]
  },
  {
   "cell_type": "markdown",
   "metadata": {},
   "source": [
    "## Observations\n",
    "\n",
    "Depending on the method we obtained somewhat different values of minimum losses, optimal rainfall, and optimal yield. So here are some questions for you to think:\n",
    "\n",
    "- As a researcher how do we determine the right method to analyze our data? Particularly when methods result in slightly different answers.\n",
    "\n",
    "- Run the code again using a different number of bins. How different are the values for minimum losses and optimum rainfall amounts?\n",
    "\n",
    "- Should we consider an asymptotic model or a model like the Cobb-Douglas that may exhibit a decreasing trend at high growing season rainfall amounts?\n"
   ]
  },
  {
   "cell_type": "markdown",
   "metadata": {},
   "source": [
    "## References\n",
    "\n",
    "Cobb, C.W. and Douglas, P.H., 1928. A theory of production. The American Economic Review, 18(1), pp.139-165.\n",
    "\n",
    "French, R.J. and Schultz, J.E., 1984. Water use efficiency of wheat in a Mediterranean-type environment. I. The relation between yield, water use and climate. Australian Journal of Agricultural Research, 35(6), pp.743-764.\n",
    "\n",
    "Grassini, P., Yang, H. and Cassman, K.G., 2009. Limits to maize productivity in Western Corn-Belt: a simulation analysis for fully irrigated and rainfed conditions. Agricultural and forest meteorology, 149(8), pp.1254-1265.\n",
    "\n",
    "Patrignani, A., Lollato, R.P., Ochsner, T.E., Godsey, C.B. and Edwards, J., 2014. Yield gap and production gap of rainfed winter wheat in the southern Great Plains. Agronomy Journal, 106(4), pp.1329-1339.\n",
    "\n"
   ]
  }
 ],
 "metadata": {
  "kernelspec": {
   "display_name": "Python 3",
   "language": "python",
   "name": "python3"
  },
  "language_info": {
   "codemirror_mode": {
    "name": "ipython",
    "version": 3
   },
   "file_extension": ".py",
   "mimetype": "text/x-python",
   "name": "python",
   "nbconvert_exporter": "python",
   "pygments_lexer": "ipython3",
   "version": "3.8.5"
  }
 },
 "nbformat": 4,
 "nbformat_minor": 4
}
