{
 "cells": [
  {
   "cell_type": "markdown",
   "metadata": {},
   "source": [
    "# Radiocarbon dating\n",
    "\n",
    "Radiocarbon is an effective method for dating archaeological, geological, and hydrogeological carbonaceous samples. The methods was proposed by Willard Libby, who received the Nobel Prize in chemistry in 1960 for inventing the technique of radiocarbon dating.\n",
    "\n",
    "Carbon is an integral part of the structure of living organisms that is absorbed from the air they breath and food sources they eat while they are alive. This carbon is mostly $^{12}C$, but the environment also has a certain amount of natural radioactive $^{14}C$. About 99% of the carbon is  $^{12}C$, and there are only trace amounts of  $^{14}C$. \n",
    "\n",
    ">Isotopes are basically similar versions of an atom with extra neutrons in the nucleus. $^{12}C$ has a total of 6 neutrons and 6 protons. Galactic cosmic-rays impinging the Earth's atmosphere can cause changes in the nucleus of $^{14}N$ (the stable isotope of Nitrogen), creating small fractions of $^{14}C$, which has 6 protons and 8 neutrons. $^{14}C$ is an unstable isotope, meaning that gradually $^{14}C$ is converted back into $^{14}N$.\n",
    "\n",
    "When organisms die, the $^{12}C$ remains constant because is stable. On the other hand, $^{14}C$ is unstable (i.e. unstable ratio of protons and neutrons in the nucleus), so $^{14}C$ is gradually converted back into $^{14}N$ via beta decay (a proton is converted into a neutron). So, the $^{14}C$/$^{12}C$ ratio can be used for fossil dating. IN toher words, the ratio of $^{14}C$/$^{12}C$ in fossils acts as an internal clock.\n",
    "\n",
    "The half-life for $^{14}C$ is approximately 5,730 years. This means that after 5,730 years the amount of $^{14}C$ in a sample is reduced to about 50% of its original amount. The $^{14}C$ isotope is only useful for dating fossils up to about 50,000 years old. Fossils older than 50,000 years may have an undetectable amount of $^{14}C$. \n",
    "\n",
    ">Half-life is defined as the amount of time that it takes for an initial amount of a radioactive isotope to be reduced by 50%.\n",
    "\n",
    "The initial level of $^{14}C$ for the calculation can be obtained from live/dead tree-ring data, lake and ocean sediments, stalagmites from cave deposits. The only quantity which can be expected to be largely independent of the geographic location is the radiocarbon content. The rings of tree trunks such as Bristlecone pine (*Pinus aristata*) found in the USA and Oak (*Quercus sp.*) found in Ireland and Germany are often used as a reference of the $^{14}C$/$^{12}C$ ratio.\n",
    "\n",
    "The equation describing the exponential decay is as follows:\n",
    "\n",
    "$$ N(t) = N_0 \\, e^{ (-kt) }$$\n",
    "\n",
    "\n",
    "$N_0$ is the initial concentration of $^{14}C$\n",
    "\n",
    "$N_t$ is the concetration of $^{14}C$ at time $t$\n",
    "\n",
    "$k$ is the decay constant\n",
    "\n",
    "Based on its definition, the half-life (i.e. $\\frac{N_0}{2}$)can be derived from the following expression:\n",
    "\n",
    "$$ \\frac{N_0}{2} = N_0 \\, e^{ (-kt) }$$\n",
    "\n",
    "\n",
    "Knowing that the half-life of $^{14}C$ is 5730 years, solving for $k$ we obtain:\n",
    "\n",
    "$$ k = \\frac{ln(1/2)}{5730} = -0.000121$$\n",
    "\n",
    "The value of $k$ is different for different isotopes with different half-lives. "
   ]
  },
  {
   "cell_type": "markdown",
   "metadata": {},
   "source": [
    "## Example\n",
    "\n",
    "An archeologist found an object dated 5000 B.C. Based on the half-life of $^{14}C$, what is the remaining percentage of the radioisotope in the object?"
   ]
  },
  {
   "cell_type": "code",
   "execution_count": 1,
   "metadata": {},
   "outputs": [],
   "source": [
    "import numpy as np\n",
    "import matplotlib.pyplot as plt\n"
   ]
  },
  {
   "cell_type": "code",
   "execution_count": 6,
   "metadata": {},
   "outputs": [
    {
     "name": "stdout",
     "output_type": "stream",
     "text": [
      "k= -0.00012096809433855938\n"
     ]
    }
   ],
   "source": [
    "# Compute k\n",
    "k = np.log(0.5)/5730\n",
    "print('k=',k)"
   ]
  },
  {
   "cell_type": "code",
   "execution_count": 15,
   "metadata": {},
   "outputs": [
    {
     "name": "stdout",
     "output_type": "stream",
     "text": [
      "The remaining amount of C-14 is 0.43 %\n"
     ]
    }
   ],
   "source": [
    "remaining_C14 = np.exp(k*(5000+2020))\n",
    "print('The remaining amount of C-14 is', round(remaining_C14,2),'%')"
   ]
  },
  {
   "cell_type": "code",
   "execution_count": 17,
   "metadata": {},
   "outputs": [
    {
     "name": "stdout",
     "output_type": "stream",
     "text": [
      "10265 years\n"
     ]
    }
   ],
   "source": [
    "# Dating objects assuming known N0\n",
    "radiocarbon = lambda N,N0: np.log(N/N0)/k\n",
    "\n",
    "N0 = 45 # Known from tree rings, cave deposits, trapped air in ice crystals\n",
    "N = 13\n",
    "print(round(radiocarbon(N,N0)),'years')\n"
   ]
  },
  {
   "cell_type": "code",
   "execution_count": 18,
   "metadata": {},
   "outputs": [
    {
     "data": {
      "image/png": "[encoded data removed]",
      "text/plain": [
       "<Figure size 432x288 with 1 Axes>"
      ]
     },
     "metadata": {
      "needs_background": "light"
     },
     "output_type": "display_data"
    }
   ],
   "source": [
    "# Show temporal decay of C-14\n",
    "fraction_C14 = np.linspace(0.001,1,1000)\n",
    "years = np.log(fraction_C14)/-0.000121\n",
    "\n",
    "plt.plot(years,fraction_C14)\n",
    "plt.xlabel('Years')\n",
    "plt.ylabel('Relative concentration of C-14')\n",
    "plt.show()\n"
   ]
  },
  {
   "cell_type": "markdown",
   "metadata": {},
   "source": [
    "## References\n",
    "\n",
    "Currie, L.A., 2004. The remarkable metrological history of radiocarbon dating [II]. Journal of Research of the National Institute of Standards and Technology, 109(2), p.185.\n",
    "\n",
    "Libby, W.F., 1961. Radiocarbon dating. Science, 133(3453), pp.621-629.\n",
    "\n",
    "Libby, W.F., 1970. Radiocarbon dating. Philosophical Transactions of the Royal Society of London. Series A, Mathematical and Physical Sciences, 269(1193), pp.1-10.\n",
    "\n",
    "Suess, H.E., 1980. The radiocarbon record in tree rings of the last 8000 years. Radiocarbon, 22(2), pp.200-209.\n",
    "\n",
    "Jones, N. 2020. Carbon dating, the archaeological workhorse, is getting a major reboot. Nature. doi: https://doi.org/10.1038/d41586-020-01499-y\n",
    "\n",
    "https://www.acs.org/content/acs/en/education/whatischemistry/landmarks/radiocarbon-dating.html"
   ]
  }
 ],
 "metadata": {
  "kernelspec": {
   "display_name": "Python 3",
   "language": "python",
   "name": "python3"
  },
  "language_info": {
   "codemirror_mode": {
    "name": "ipython",
    "version": 3
   },
   "file_extension": ".py",
   "mimetype": "text/x-python",
   "name": "python",
   "nbconvert_exporter": "python",
   "pygments_lexer": "ipython3",
   "version": "3.8.5"
  }
 },
 "nbformat": 4,
 "nbformat_minor": 4
}
