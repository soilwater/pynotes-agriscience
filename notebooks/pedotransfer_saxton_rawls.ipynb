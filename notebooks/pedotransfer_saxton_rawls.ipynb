{
 "cells": [
  {
   "cell_type": "markdown",
   "metadata": {},
   "source": [
    "# Pedotransfer Functions\n",
    "\n",
    "Understanding and qunatifying the storage and transport of water, heat, and solutes in the soil requires detailed knowledge of the soil physical properties. Soil physical properties such as soil textural class and bulk density are easy to measure, while others such as saturated hydraulic conductivity and the energy-state of the soil water are more time consuming and require specialized equipment. Because of the inherent connection between particle size and many of the soil hydraulic and thermal properties, scientists have developed correlations between easy-to-measure properties and difficult-to-measure properties. These empirical correlations are known as \"pedotransfer functions\".\n",
    "\n",
    "One of the most widely known and practical set of pedotransfer functions was developed by Saxton and Rawls in 1986 and refined in 2006.\n"
   ]
  },
  {
   "cell_type": "code",
   "execution_count": 8,
   "metadata": {},
   "outputs": [],
   "source": [
    "# Import modules\n",
    "import numpy as np\n",
    "import pandas as pd\n"
   ]
  },
  {
   "cell_type": "code",
   "execution_count": 46,
   "metadata": {},
   "outputs": [],
   "source": [
    "def ptf(clay, sand, om=0.02, ec=0, rho=np.nan):\n",
    "    \"\"\" \n",
    "    Set of pedotransfer functions to determine soil physical properties from \n",
    "    soil texture information and organic matter.\n",
    "\n",
    "    Inputs: clay, sand, and organic matter (om) represented as a fraction. Values range between 0 and 1.\n",
    "\n",
    "    Outputs: S is a dictionary containing scalar values.\n",
    "             V is a Pandas dataframe containing vector values across the range from 1500 to 0 kPa.\n",
    "\n",
    "    \"\"\" \n",
    "\n",
    "\n",
    "    # Section numbering does NOT follow the Saxton and Rawls paper\n",
    "    # 1. Permanent wilting point\n",
    "    # Calculation of soil water retention at -1500 kPa of tension (Table 1. Eq. 1)\n",
    "    theta_1500t = -0.024*sand + 0.487*clay + 0.006*om + 0.005*(sand*om) - 0.013*(clay*om) + 0.068*(sand*clay) + 0.031 \n",
    "    theta_1500 = theta_1500t + (0.14*theta_1500t - 0.02)\n",
    "\n",
    "    # 2. Field capacity\n",
    "    # Calculation of soil water retention at -33 kPa of tension (Table 1. Eq. 2)\n",
    "    theta_33t= -0.251*sand + 0.195*clay + 0.011*om + 0.006*(sand*om) - 0.027*(clay*om) + 0.452*(sand*clay) + 0.299\n",
    "    theta_33 = theta_33t + 1.283*(theta_33t)**2 - 0.374*(theta_33t) - 0.015\n",
    "\n",
    "    # 3. Saturation-Field capacity.\n",
    "    # Volumetric soil water content between 0 and -33 kPa of tension (Table 1. Eq. 3). \n",
    "    thetaS_33t= 0.278*sand + 0.034*clay + 0.022*om - 0.018*(sand*om) - 0.027*(clay*om) - 0.584*(sand*clay) + 0.078\n",
    "    thetaS_33= thetaS_33t + (0.636*thetaS_33t - 0.107)\n",
    "\n",
    "    # 4. Tension at air entry suction.\n",
    "    # Estimation of the tension at air entry (Table 1. Eq. 4).\n",
    "    psi_et = -21.67*sand - 27.93*clay - 81.97*thetaS_33 + 71.12*sand*thetaS_33 + 8.29*clay*thetaS_33 + 14.05*sand*clay + 27.16\n",
    "    psi_e = max(psi_et + 0.02*psi_et**2 - 0.113*psi_et - 0.7,0.1); # A minimum air-entry suction of 1 kPa was assumed to avoid negative values in sandy soils. \n",
    "\n",
    "    # 5. Saturation.\n",
    "    # Calculation of soil water retention at -0 kPa of tension (Table 1. Eq. 5)\n",
    "    thetaS = theta_33 + thetaS_33 - 0.097*sand + 0.043 # Saturation at normal density\n",
    "\n",
    "    # 6. Density effects (allow user to input of bulk density in case is known)\n",
    "    if ~np.isnan(rho):\n",
    "        rho_DF = rho\n",
    "    else:\n",
    "        rho_N = (1-thetaS)*2.65 # Particle density is assumed to be 2.65 g cm^-3. (Table 1. Eq. 6)\n",
    "        DF = 1 # Compaction degree.\n",
    "        rho_DF = rho_N*DF # (Table 1. Eq. 7).\n",
    "\n",
    "    thetaS_DF = 1 - (rho_DF/2.65) # (Table 1. Eq. 8).\n",
    "    theta_33_DF = theta_33 - 0.2*(thetaS-thetaS_DF) # (Table 1. Eq. 9).\n",
    "    thetaS_33_DF = thetaS_DF - theta_33_DF; # (Table 1. Eq. 10).\n",
    "    # thetaS_33_DF is used with equations that account for gravel, not present\n",
    "    # in this version. For more information see Table 1 Eqs. 19-22 in Saxton and Rawls, 2006.\n",
    "\n",
    "    # 7. Moisture tension\n",
    "    B = (np.log(1500) - np.log(33))/(np.log(theta_33) - np.log(theta_1500)) # (Table 1. Eq. 15).\n",
    "    A = np.exp(np.log(33) + B*np.log(theta_33)); # (Table 1. Eq. 14).\n",
    "\n",
    "    # Generate points of volumetric water content.\n",
    "    theta_piece1 = np.linspace(theta_1500, theta_33_DF, 1000) # theta from theta_1500 to theta_33\n",
    "    theta_piece2 = np.linspace(theta_33_DF, thetaS_DF, 1000) # theta from theta_33 to theta_0\n",
    "\n",
    "    # Generate soil matric potential values\n",
    "    psi_piece1 = A*theta_piece1**(-B) # Matric potential from 1500 to 33 kPa (Table 1. Eq. 11). \n",
    "    psi_piece2 = 33 - ((theta_piece2 - theta_33)*(33 - psi_e)/(thetaS_DF - theta_33)) # Matric potential from 33 kPa to air-entry suction (Table 1. Eq. 12).\n",
    "\n",
    "    # Merge water content and matric potential pieces to generate the soil water retention curve\n",
    "    theta = np.concatenate((theta_piece1, theta_piece2, [thetaS_DF]))\n",
    "    psi_m = np.concatenate((psi_piece1, psi_piece2, [0.1]))\n",
    "\n",
    "    # 8. Calculate volumetric water content at 10 kPa (perhaps a better definition of field capacity)\n",
    "    psi_diff10 = (psi_m - 10)**2;\n",
    "    theta_10_DF = theta[psi_diff10.argmin(axis=0)]\n",
    "\n",
    "    # 9. Moisture conductivity\n",
    "    par_lambda = 1/B; # (Table 1. Eq. 18).\n",
    "    Ks = 1930*(thetaS_DF - theta_33)**(3 - par_lambda) # (Table 1. Eq. 16) in [mm/h].\n",
    "    K_theta = Ks*(theta/thetaS_DF)**(3 + (2/par_lambda)) # (Table 1. Eq. 17).\n",
    "\n",
    "    # 10. Salinity effects\n",
    "    psi_o = 36*ec # (Table 1. Eq. 23).\n",
    "    psi_o_theta = thetaS/theta*psi_o # (Table 1. Eq. 24).\n",
    "\n",
    "    # 11. Set outputs\n",
    "    S = dict([('theta_sat',thetaS_DF), \n",
    "              ('theta_10',theta_10_DF), \n",
    "              ('theta_33',theta_33_DF), \n",
    "              ('theta_1500',theta_1500), \n",
    "              ('K_sat',Ks), \n",
    "              ('psi_o',psi_o), \n",
    "              ('rho',rho_DF)])\n",
    "\n",
    "    V = pd.DataFrame(np.transpose([theta, psi_m, psi_o_theta, K_theta]))\n",
    "    V.columns = ['theta', 'psi_m', 'psi_o', 'K_theta']\n",
    "\n",
    "    return S,V \n",
    "\n"
   ]
  },
  {
   "cell_type": "code",
   "execution_count": 52,
   "metadata": {},
   "outputs": [
    {
     "name": "stdout",
     "output_type": "stream",
     "text": [
      "{'theta_sat': 0.4339622641509434, 'theta_10': 0.43279196976870016, 'theta_33': 0.3504534007323006, 'theta_1500': 0.20392632400000002, 'K_sat': 1.5160753706941434, 'psi_o': 2.6999999999999997, 'rho': 1.5}\n"
     ]
    },
    {
     "data": {
      "text/html": [
       "<div>\n",
       "<style scoped>\n",
       "    .dataframe tbody tr th:only-of-type {\n",
       "        vertical-align: middle;\n",
       "    }\n",
       "\n",
       "    .dataframe tbody tr th {\n",
       "        vertical-align: top;\n",
       "    }\n",
       "\n",
       "    .dataframe thead th {\n",
       "        text-align: right;\n",
       "    }\n",
       "</style>\n",
       "<table border=\"1\" class=\"dataframe\">\n",
       "  <thead>\n",
       "    <tr style=\"text-align: right;\">\n",
       "      <th></th>\n",
       "      <th>theta</th>\n",
       "      <th>psi_m</th>\n",
       "      <th>psi_o</th>\n",
       "      <th>K_theta</th>\n",
       "    </tr>\n",
       "  </thead>\n",
       "  <tbody>\n",
       "    <tr>\n",
       "      <th>1996</th>\n",
       "      <td>0.433711</td>\n",
       "      <td>9.740105</td>\n",
       "      <td>2.751992</td>\n",
       "      <td>1.501269</td>\n",
       "    </tr>\n",
       "    <tr>\n",
       "      <th>1997</th>\n",
       "      <td>0.433795</td>\n",
       "      <td>9.716288</td>\n",
       "      <td>2.751462</td>\n",
       "      <td>1.506189</td>\n",
       "    </tr>\n",
       "    <tr>\n",
       "      <th>1998</th>\n",
       "      <td>0.433879</td>\n",
       "      <td>9.692471</td>\n",
       "      <td>2.750932</td>\n",
       "      <td>1.511125</td>\n",
       "    </tr>\n",
       "    <tr>\n",
       "      <th>1999</th>\n",
       "      <td>0.433962</td>\n",
       "      <td>9.668654</td>\n",
       "      <td>2.750402</td>\n",
       "      <td>1.516075</td>\n",
       "    </tr>\n",
       "    <tr>\n",
       "      <th>2000</th>\n",
       "      <td>0.433962</td>\n",
       "      <td>0.100000</td>\n",
       "      <td>2.750402</td>\n",
       "      <td>1.516075</td>\n",
       "    </tr>\n",
       "  </tbody>\n",
       "</table>\n",
       "</div>"
      ],
      "text/plain": [
       "         theta     psi_m     psi_o   K_theta\n",
       "1996  0.433711  9.740105  2.751992  1.501269\n",
       "1997  0.433795  9.716288  2.751462  1.506189\n",
       "1998  0.433879  9.692471  2.750932  1.511125\n",
       "1999  0.433962  9.668654  2.750402  1.516075\n",
       "2000  0.433962  0.100000  2.750402  1.516075"
      ]
     },
     "execution_count": 52,
     "metadata": {},
     "output_type": "execute_result"
    }
   ],
   "source": [
    "# Example inputs\n",
    "clay = 0.34 # 34% clay\n",
    "sand = 0.22 # 22% sand\n",
    "om = 0.015  # 1.5% OM\n",
    "\n",
    "# Call function\n",
    "S,V = ptf(clay, sand, om, ec)\n",
    "\n",
    "# Optional call if electrical conductivity and bulk density are known\n",
    "# S,V = ptf(clay, sand, om, ec, rho=1.5)\n",
    "# ec = 0.075  # 0.075 dS/m\n",
    "# rho=1.5 # g/cm^3\n",
    "# S,V = ptf(clay, sand, om, ec=ec, rho=rho)\n",
    "\n",
    "print(S)\n",
    "V.tail()"
   ]
  },
  {
   "cell_type": "code",
   "execution_count": 50,
   "metadata": {},
   "outputs": [
    {
     "data": {
      "image/png": "[encoded data removed]",
      "text/plain": [
       "<Figure size 576x432 with 1 Axes>"
      ]
     },
     "metadata": {
      "needs_background": "light"
     },
     "output_type": "display_data"
    }
   ],
   "source": [
    "import matplotlib.pyplot as plt\n",
    "\n",
    "plt.figure(figsize=(8,6))\n",
    "plt.plot(V[\"psi_m\"],V[\"theta\"])\n",
    "plt.xlabel(\"$|\\psi_m| (kPa)$\")\n",
    "plt.ylabel(\"Volumetric water content $cm^3/cm^3$\")\n",
    "plt.show()"
   ]
  },
  {
   "cell_type": "markdown",
   "metadata": {},
   "source": [
    "## References\n",
    "\n",
    "Rawls, W.J., Brakensiek, D.L. and Saxtonn, K.E., 1982. Estimation of soil water properties. Transactions of the ASAE, 25(5), pp.1316-1320.\n",
    "           \n",
    "Saxton, K.E., Rawls, W., Romberger, J.S. and Papendick, R.I., 1986. Estimating generalized soil-water characteristics from texture 1. Soil science society of America Journal, 50(4), pp.1031-1036.\n",
    "\n",
    "Saxton, K.E. and Rawls, W.J., 2006. Soil water characteristic estimates by texture and organic matter for hydrologic solutions. Soil science society of America Journal, 70(5), pp.1569-1578."
   ]
  }
 ],
 "metadata": {
  "kernelspec": {
   "display_name": "Python 3",
   "language": "python",
   "name": "python3"
  },
  "language_info": {
   "codemirror_mode": {
    "name": "ipython",
    "version": 3
   },
   "file_extension": ".py",
   "mimetype": "text/x-python",
   "name": "python",
   "nbconvert_exporter": "python",
   "pygments_lexer": "ipython3",
   "version": "3.8.5"
  }
 },
 "nbformat": 4,
 "nbformat_minor": 4
}
