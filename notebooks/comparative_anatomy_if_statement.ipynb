{
 "cells": [
  {
   "cell_type": "markdown",
   "metadata": {},
   "source": [
    "# Comparative Anatomy of If Statements\n",
    "\n",
    "A short example was coded in several common languages for data science and scientific computing to illustrate syntax similarities of `if statements`.\n",
    "\n",
    "The aridity index represents the level of dryness/wetness of a climate region and is determined by the ration between the annual precipitation and potential atmospheric demand. Depending on the value of this ratio the climate is typically classified as arid, mid, or humid. There exist finer divisions and classifications, but for the sake of simplicity I only considered the three most prominent categories.\n"
   ]
  },
  {
   "cell_type": "markdown",
   "metadata": {},
   "source": [
    "## Python\n",
    "\n",
    "```python\n",
    "AI = 0.5 # Aridity Index\n",
    "    \n",
    "if AI <= 0.5:\n",
    "    macroclimate_class = 'Arid'\n",
    "\n",
    "elif AI > 0.5 and AI <= 0.75:\n",
    "    macroclimate_class = 'Mid'\n",
    "    \n",
    "else:\n",
    "    macroclimate_class = 'Humid'\n",
    "\n",
    "print(macroclimate_class)\n",
    "```\n",
    "\n",
    "```\n",
    "Arid\n",
    "```"
   ]
  },
  {
   "cell_type": "markdown",
   "metadata": {},
   "source": [
    "---\n",
    "\n",
    "## Matlab\n",
    "\n",
    "```matlab\n",
    "AI = 0.5; % Aridity Index\n",
    "    \n",
    "if AI <= 0.5\n",
    "    macroclimate_class = 'Arid';\n",
    "    \n",
    "elseif AI > 0.5 && AI <= 0.75\n",
    "    macroclimate_class = 'Mid';\n",
    "    \n",
    "else\n",
    "    macroclimate_class = 'Humid';\n",
    "end\n",
    "\n",
    "disp(macroclimate_class)\n",
    "\n",
    "```\n",
    "\n",
    "**Answer**\n",
    "```\n",
    "Arid\n",
    "```"
   ]
  },
  {
   "cell_type": "markdown",
   "metadata": {},
   "source": [
    "---\n",
    "\n",
    "## Javascript\n",
    "\n",
    "```javascript\n",
    "AI = 0.5 // Aridity Index\n",
    "    \n",
    "if (AI <= 0.5){\n",
    "    macroclimate_class = 'Arid'\n",
    "    \n",
    "} else if (AI > 0.5 && AI <= 0.75){\n",
    "    macroclimate_class = 'Mid'\n",
    "    \n",
    "} else {\n",
    "    macroclimate_class = 'Humid'\n",
    "}\n",
    "\n",
    "console.log(macroclimate_class)\n",
    "```\n",
    "\n",
    "**Answer**\n",
    "\n",
    "```\n",
    "Arid\n",
    "```"
   ]
  },
  {
   "cell_type": "markdown",
   "metadata": {},
   "source": [
    "---\n",
    "\n",
    "## Julia\n",
    "\n",
    "```julia\n",
    "AI = 0.5 # Aridity Index\n",
    "\n",
    "if AI <= 0.5\n",
    "    macroclimate_class = \"Arid\"\n",
    "\n",
    "elseif AI > 0.5 && AI <= 0.75\n",
    "    macroclimate_class = \"Mid\"\n",
    "\n",
    "else\n",
    "    macroclimate_class = \"Humid\"\n",
    "end\n",
    "\n",
    "print(macroclimate_class)\n",
    "\n",
    "```\n",
    "\n",
    "**Answer**\n",
    "\n",
    "```\n",
    "Arid\n",
    "```"
   ]
  },
  {
   "cell_type": "markdown",
   "metadata": {},
   "source": [
    "## Synthesis\n",
    "\n",
    "- All languages follow the syntax `if condition`\n",
    "\n",
    "- All languages contain syntax for `if`, `else if`, and `else` options\n",
    "\n",
    "- Boolean operators `==`, `<`, and `>` are pretty much the same across different languages. The operators `and` and `or` may be represented differently but conceptually are the same acroos multiple languages."
   ]
  }
 ],
 "metadata": {
  "kernelspec": {
   "display_name": "Python 3",
   "language": "python",
   "name": "python3"
  },
  "language_info": {
   "codemirror_mode": {
    "name": "ipython",
    "version": 3
   },
   "file_extension": ".py",
   "mimetype": "text/x-python",
   "name": "python",
   "nbconvert_exporter": "python",
   "pygments_lexer": "ipython3",
   "version": "3.7.6"
  }
 },
 "nbformat": 4,
 "nbformat_minor": 4
}
