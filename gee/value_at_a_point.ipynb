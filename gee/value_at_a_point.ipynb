{
 "cells": [
  {
   "cell_type": "raw",
   "id": "c6d1e472-af4f-4d9d-8430-2e0f5227b689",
   "metadata": {},
   "source": [
    "---\n",
    "title: \"Value at a point\"\n",
    "author: \"Andres Patrignani and Joaquin Peraza\"\n",
    "date: \"1/26/2024\"\n",
    "keywords: [\"gee\", \"single value\", \"point\"]\n",
    "---"
   ]
  },
  {
   "cell_type": "markdown",
   "id": "e1b43a4b-ff6a-439a-b184-15a0189a358c",
   "metadata": {},
   "source": [
    "Perhaps, one of the simplest and most basic operations in Google Earth Engine is to retrieve information for a single point. Typical examples include elevation, mean annual temperature, and soil properties. In other words, this type of operations is mostly intended at retrieving information that does not change with time. "
   ]
  },
  {
   "cell_type": "code",
   "execution_count": 1,
   "id": "1e7fbf59-5516-4274-aaf0-980ed863a935",
   "metadata": {},
   "outputs": [],
   "source": [
    "# Import modules\n",
    "import ee\n",
    "import folium\n",
    "from pprint import pprint"
   ]
  },
  {
   "cell_type": "code",
   "execution_count": 2,
   "id": "2883e3c1-7499-4fac-bf07-256e3a1965b6",
   "metadata": {},
   "outputs": [],
   "source": [
    "# Authenticate\n",
    "ee.Authenticate()\n",
    "\n",
    "# Initialize the library.\n",
    "ee.Initialize()\n"
   ]
  },
  {
   "cell_type": "markdown",
   "id": "b500404f-7224-47d5-965a-ca4cd22121ef",
   "metadata": {},
   "source": [
    "## Example 1: Elevation\n",
    "\n",
    "In the following example we will retrieve the elevation for a specific point on Earth.\n",
    "\n",
    "**Product**: USGS/SRTMGL1_003"
   ]
  },
  {
   "cell_type": "code",
   "execution_count": 3,
   "id": "3ac4d939-7466-414e-a912-33dece3fc8aa",
   "metadata": {},
   "outputs": [],
   "source": [
    "# Define geographic coordinates\n",
    "lat = 39.186512 # This is y\n",
    "lon = -96.576844 # This is x\n",
    "\n",
    "# Convert coordinates into a Point geometry following the x,y notation\n",
    "point = ee.Geometry.Point([lon, lat])\n",
    "\n",
    "# Explore point geometry\n",
    "point.getInfo()\n"
   ]
  },
  {
   "cell_type": "code",
   "execution_count": 6,
   "id": "1ef52271-7e96-4598-865a-7e244f7128e1",
   "metadata": {},
   "outputs": [],
   "source": [
    "# Load digital elevation model (DEM) from Shuttle Radar Topography Mission (SRTM) \n",
    "dem = ee.Image('USGS/SRTMGL1_003')\n"
   ]
  },
  {
   "cell_type": "code",
   "execution_count": null,
   "id": "e17fd910-8c4c-45bc-b610-01ad0a436c96",
   "metadata": {},
   "outputs": [],
   "source": [
    "# Obtain some information about the DEM layer (output is long!)\n",
    "pprint(dem.getInfo())\n"
   ]
  },
  {
   "cell_type": "code",
   "execution_count": 8,
   "id": "ffe56001-42a0-41b0-86d3-3b7ea9ebe393",
   "metadata": {},
   "outputs": [
    {
     "data": {
      "text/plain": [
       "{'type': 'FeatureCollection',\n",
       " 'columns': {'elevation': 'Short'},\n",
       " 'properties': {'band_order': ['elevation']},\n",
       " 'features': [{'type': 'Feature',\n",
       "   'geometry': None,\n",
       "   'id': '0',\n",
       "   'properties': {'elevation': 317}}]}"
      ]
     },
     "execution_count": 8,
     "metadata": {},
     "output_type": "execute_result"
    }
   ],
   "source": [
    "# Retrieve the elevation value: This step will get us close to the answer, but we are not there yet\n",
    "dem.sample(point, 1).getInfo()\n"
   ]
  },
  {
   "cell_type": "code",
   "execution_count": 9,
   "id": "a9c08474-f1e8-434e-a05c-9d650bbeca61",
   "metadata": {},
   "outputs": [
    {
     "data": {
      "text/plain": [
       "{'type': 'Feature',\n",
       " 'geometry': None,\n",
       " 'id': '0',\n",
       " 'properties': {'elevation': 317}}"
      ]
     },
     "execution_count": 9,
     "metadata": {},
     "output_type": "execute_result"
    }
   ],
   "source": [
    "# Retrieve the elevation value: This step will get us even closer to the answer, but we are not there yet\n",
    "dem.sample(point, 1).first().getInfo()\n"
   ]
  },
  {
   "cell_type": "code",
   "execution_count": 10,
   "id": "bc0fe7ba-2b20-48b2-a7a0-7a228b309f73",
   "metadata": {},
   "outputs": [
    {
     "name": "stdout",
     "output_type": "stream",
     "text": [
      "Elevation: 317 m\n"
     ]
    }
   ],
   "source": [
    "# Retrieve the elevation value: This step will get us the correct value\n",
    "elev = dem.sample(point, 1).first().getNumber('elevation').getInfo()\n",
    "print(f'Elevation: {elev} m')\n"
   ]
  },
  {
   "cell_type": "code",
   "execution_count": 12,
   "id": "a0f698e1-16a8-4e07-a39b-1ba756a4c470",
   "metadata": {},
   "outputs": [
    {
     "data": {
      "text/html": [
       "<div style=\"width:100%;\"><div style=\"position:relative;width:100%;height:0;padding-bottom:60%;\"><span style=\"color:#565656\">Make this Notebook Trusted to load map: File -> Trust Notebook</span><iframe srcdoc=\"&lt;!DOCTYPE html&gt;\n",
       "&lt;head&gt;    \n",
       "    &lt;meta http-equiv=&quot;content-type&quot; content=&quot;text/html; charset=UTF-8&quot; /&gt;\n",
       "    \n",
       "        &lt;script&gt;\n",
       "            L_NO_TOUCH = false;\n",
       "            L_DISABLE_3D = false;\n",
       "        &lt;/script&gt;\n",
       "    \n",
       "    &lt;style&gt;html, body {width: 100%;height: 100%;margin: 0;padding: 0;}&lt;/style&gt;\n",
       "    &lt;style&gt;#map {position:absolute;top:0;bottom:0;right:0;left:0;}&lt;/style&gt;\n",
       "    &lt;script src=&quot;https://cdn.jsdelivr.net/npm/leaflet@1.6.0/dist/leaflet.js&quot;&gt;&lt;/script&gt;\n",
       "    &lt;script src=&quot;https://code.jquery.com/jquery-1.12.4.min.js&quot;&gt;&lt;/script&gt;\n",
       "    &lt;script src=&quot;https://maxcdn.bootstrapcdn.com/bootstrap/3.2.0/js/bootstrap.min.js&quot;&gt;&lt;/script&gt;\n",
       "    &lt;script src=&quot;https://cdnjs.cloudflare.com/ajax/libs/Leaflet.awesome-markers/2.0.2/leaflet.awesome-markers.js&quot;&gt;&lt;/script&gt;\n",
       "    &lt;link rel=&quot;stylesheet&quot; href=&quot;https://cdn.jsdelivr.net/npm/leaflet@1.6.0/dist/leaflet.css&quot;/&gt;\n",
       "    &lt;link rel=&quot;stylesheet&quot; href=&quot;https://maxcdn.bootstrapcdn.com/bootstrap/3.2.0/css/bootstrap.min.css&quot;/&gt;\n",
       "    &lt;link rel=&quot;stylesheet&quot; href=&quot;https://maxcdn.bootstrapcdn.com/bootstrap/3.2.0/css/bootstrap-theme.min.css&quot;/&gt;\n",
       "    &lt;link rel=&quot;stylesheet&quot; href=&quot;https://maxcdn.bootstrapcdn.com/font-awesome/4.6.3/css/font-awesome.min.css&quot;/&gt;\n",
       "    &lt;link rel=&quot;stylesheet&quot; href=&quot;https://cdnjs.cloudflare.com/ajax/libs/Leaflet.awesome-markers/2.0.2/leaflet.awesome-markers.css&quot;/&gt;\n",
       "    &lt;link rel=&quot;stylesheet&quot; href=&quot;https://cdn.jsdelivr.net/gh/python-visualization/folium/folium/templates/leaflet.awesome.rotate.min.css&quot;/&gt;\n",
       "    \n",
       "            &lt;meta name=&quot;viewport&quot; content=&quot;width=device-width,\n",
       "                initial-scale=1.0, maximum-scale=1.0, user-scalable=no&quot; /&gt;\n",
       "            &lt;style&gt;\n",
       "                #map_d2fe25672aebbc310cc8ba4d674c86cd {\n",
       "                    position: relative;\n",
       "                    width: 100.0%;\n",
       "                    height: 100.0%;\n",
       "                    left: 0.0%;\n",
       "                    top: 0.0%;\n",
       "                }\n",
       "            &lt;/style&gt;\n",
       "        \n",
       "&lt;/head&gt;\n",
       "&lt;body&gt;    \n",
       "    \n",
       "            &lt;div class=&quot;folium-map&quot; id=&quot;map_d2fe25672aebbc310cc8ba4d674c86cd&quot; &gt;&lt;/div&gt;\n",
       "        \n",
       "&lt;/body&gt;\n",
       "&lt;script&gt;    \n",
       "    \n",
       "            var map_d2fe25672aebbc310cc8ba4d674c86cd = L.map(\n",
       "                &quot;map_d2fe25672aebbc310cc8ba4d674c86cd&quot;,\n",
       "                {\n",
       "                    center: [39.186512, -96.576844],\n",
       "                    crs: L.CRS.EPSG3857,\n",
       "                    zoom: 12,\n",
       "                    zoomControl: true,\n",
       "                    preferCanvas: false,\n",
       "                }\n",
       "            );\n",
       "\n",
       "            \n",
       "\n",
       "        \n",
       "    \n",
       "            var tile_layer_44f28430e7bf2f11e81bbb0b3fc14f25 = L.tileLayer(\n",
       "                &quot;https://{s}.tile.openstreetmap.org/{z}/{x}/{y}.png&quot;,\n",
       "                {&quot;attribution&quot;: &quot;Data by \\u0026copy; \\u003ca href=\\&quot;http://openstreetmap.org\\&quot;\\u003eOpenStreetMap\\u003c/a\\u003e, under \\u003ca href=\\&quot;http://www.openstreetmap.org/copyright\\&quot;\\u003eODbL\\u003c/a\\u003e.&quot;, &quot;detectRetina&quot;: false, &quot;maxNativeZoom&quot;: 18, &quot;maxZoom&quot;: 18, &quot;minZoom&quot;: 0, &quot;noWrap&quot;: false, &quot;opacity&quot;: 1, &quot;subdomains&quot;: &quot;abc&quot;, &quot;tms&quot;: false}\n",
       "            ).addTo(map_d2fe25672aebbc310cc8ba4d674c86cd);\n",
       "        \n",
       "    \n",
       "            var marker_b39157c28d71d30035e947d5c2393062 = L.marker(\n",
       "                [39.186512, -96.576844],\n",
       "                {}\n",
       "            ).addTo(map_d2fe25672aebbc310cc8ba4d674c86cd);\n",
       "        \n",
       "    \n",
       "        var popup_ad8ed43a180a3d20dcc5752c12e6fb8d = L.popup({&quot;maxWidth&quot;: &quot;100%&quot;});\n",
       "\n",
       "        \n",
       "            var html_c8bcd7dc1680ff954ba8334dda1f37af = $(`&lt;div id=&quot;html_c8bcd7dc1680ff954ba8334dda1f37af&quot; style=&quot;width: 100.0%; height: 100.0%;&quot;&gt;&lt;i&gt;Elevation 317 m&lt;/i&gt;&lt;/div&gt;`)[0];\n",
       "            popup_ad8ed43a180a3d20dcc5752c12e6fb8d.setContent(html_c8bcd7dc1680ff954ba8334dda1f37af);\n",
       "        \n",
       "\n",
       "        marker_b39157c28d71d30035e947d5c2393062.bindPopup(popup_ad8ed43a180a3d20dcc5752c12e6fb8d)\n",
       "        ;\n",
       "\n",
       "        \n",
       "    \n",
       "    \n",
       "            marker_b39157c28d71d30035e947d5c2393062.bindTooltip(\n",
       "                `&lt;div&gt;\n",
       "                     Home\n",
       "                 &lt;/div&gt;`,\n",
       "                {&quot;sticky&quot;: true}\n",
       "            );\n",
       "        \n",
       "&lt;/script&gt;\" style=\"position:absolute;width:100%;height:100%;left:0;top:0;border:none !important;\" allowfullscreen webkitallowfullscreen mozallowfullscreen></iframe></div></div>"
      ],
      "text/plain": [
       "<folium.folium.Map at 0x1b4e11ae670>"
      ]
     },
     "execution_count": 12,
     "metadata": {},
     "output_type": "execute_result"
    }
   ],
   "source": [
    "# Create map to visualize point\n",
    "m = folium.Map(location=[lat,lon], zoom_start=12)\n",
    "folium.Marker([lat,lon], popup=f\"<i>Elevation {elev} m</i>\", tooltip=\"Home\").add_to(m)\n",
    "m"
   ]
  },
  {
   "cell_type": "markdown",
   "id": "ac80ea0a-a934-4d28-8be3-1eda4666ac8e",
   "metadata": {
    "tags": []
   },
   "source": [
    "## Example 2: Weather variables\n",
    "\n",
    "Obtain the mean annual air temperature and precipitation for a specific location\n",
    "\n",
    "**Product**: [WorldClim BIO](https://developers.google.com/earth-engine/datasets/catalog/WORLDCLIM_V1_BIO)"
   ]
  },
  {
   "cell_type": "code",
   "execution_count": 1,
   "id": "4790a911-ad61-4547-822d-2dfeaf21d480",
   "metadata": {},
   "outputs": [],
   "source": [
    "# Import modules\n",
    "import ee\n"
   ]
  },
  {
   "cell_type": "code",
   "execution_count": 2,
   "id": "8a60997f-90d9-45e9-b363-d13d6500215b",
   "metadata": {},
   "outputs": [],
   "source": [
    "# Initialize GEE module\n",
    "ee.Initialize()\n"
   ]
  },
  {
   "cell_type": "code",
   "execution_count": 3,
   "id": "77ade073-b016-45bc-a345-2c3b10d900c6",
   "metadata": {},
   "outputs": [],
   "source": [
    "# Define geographic coordinates\n",
    "lat = 39.186512 # This is y\n",
    "lon = -96.576844 # This is x\n",
    "\n",
    "# Convert coordinates into a Point geometry following the x,y notation\n",
    "point = ee.Geometry.Point(lon, lat)\n"
   ]
  },
  {
   "cell_type": "code",
   "execution_count": 9,
   "id": "f312672b-a4a4-4d15-93ee-dffe7cbcd705",
   "metadata": {},
   "outputs": [],
   "source": [
    "# Load WorldClim BIO dataset\n",
    "dataset = ee.Image('WORLDCLIM/V1/BIO')\n"
   ]
  },
  {
   "cell_type": "code",
   "execution_count": 10,
   "id": "832cb2f7-6c41-4eae-b4c7-e09536ec99ed",
   "metadata": {},
   "outputs": [
    {
     "name": "stdout",
     "output_type": "stream",
     "text": [
      "Mean annual air temperature: 12.2 Celsius\n"
     ]
    }
   ],
   "source": [
    "# Get long-term mean annual air temperature\n",
    "T_mean = dataset.select('bio01').sample(point,1).first().getNumber('bio01').multiply(0.1).getInfo()\n",
    "print(f'Mean annual air temperature: {round(T_mean,1)} Celsius')\n"
   ]
  },
  {
   "cell_type": "code",
   "execution_count": 11,
   "id": "6222126b-989d-4c0e-bcf9-53b75db472b1",
   "metadata": {},
   "outputs": [
    {
     "name": "stdout",
     "output_type": "stream",
     "text": [
      "Mean annual precipitation: 857 mm\n"
     ]
    }
   ],
   "source": [
    "# Get long-term annual precipitation\n",
    "P_annual = dataset.select('bio12').sample(point,1).first().get('bio12').getInfo()\n",
    "print(f'Mean annual precipitation: {round(P_annual,1)} mm')\n"
   ]
  },
  {
   "cell_type": "markdown",
   "id": "16e187b1-2846-4fa0-bdc1-6ce4bfcb1b19",
   "metadata": {},
   "source": [
    "## Example 3: Reference ET\n",
    "\n",
    "In this example we will retrieve daily values of reference evapotranspiration for a point.\n",
    "\n",
    "**Product**: [GRIDMET](https://developers.google.com/earth-engine/datasets/catalog/IDAHO_EPSCOR_GRIDMET?hl=en)\n"
   ]
  },
  {
   "cell_type": "code",
   "execution_count": 8,
   "id": "5fd5f892-af27-42af-8a37-75f1f6bc28f9",
   "metadata": {},
   "outputs": [],
   "source": [
    "# Define point\n",
    "point = ee.Geometry.Point([-96.576844, 39.186512])\n"
   ]
  },
  {
   "cell_type": "code",
   "execution_count": 9,
   "id": "85e3292c-1bec-4146-9ebd-8b7b5cd44f16",
   "metadata": {},
   "outputs": [],
   "source": [
    "# Obtain GRIDMET dataset for a specific period. End date is excluded from the call\n",
    "start_date = ee.Date('2022-07-01')\n",
    "end_date = ee.Date('2022-07-02')\n",
    "day_of_interest = ee.Date('2022-03-15')\n",
    "dataset = ee.ImageCollection('IDAHO_EPSCOR/GRIDMET').filterDate(start_date, end_date)\n"
   ]
  },
  {
   "cell_type": "code",
   "execution_count": null,
   "id": "a1c9b4e8-bfc9-460d-89f3-773f08b480a7",
   "metadata": {},
   "outputs": [],
   "source": [
    "# Information about image collection\n",
    "pprint(dataset.getInfo())\n"
   ]
  },
  {
   "cell_type": "code",
   "execution_count": null,
   "id": "e4a9a5ed-fcde-4cba-a40e-239df36ba755",
   "metadata": {},
   "outputs": [],
   "source": [
    "# Use the get methog to retrieve a specific property\n",
    "dataset.get('description').getInfo()\n"
   ]
  },
  {
   "cell_type": "code",
   "execution_count": null,
   "id": "1a81d8b0-1cca-4296-8966-62e7cd30aac5",
   "metadata": {},
   "outputs": [],
   "source": [
    "# Information about first image within the collection\n",
    "dataset.first().getInfo()\n"
   ]
  },
  {
   "cell_type": "code",
   "execution_count": 7,
   "id": "4080f919-11b1-487a-bb46-2c84085e3298",
   "metadata": {},
   "outputs": [
    {
     "data": {
      "text/plain": [
       "{'type': 'FeatureCollection',\n",
       " 'columns': {'bi': 'Float',\n",
       "  'erc': 'Float',\n",
       "  'eto': 'Float',\n",
       "  'etr': 'Float',\n",
       "  'fm100': 'Float',\n",
       "  'fm1000': 'Float',\n",
       "  'pr': 'Float',\n",
       "  'rmax': 'Float',\n",
       "  'rmin': 'Float',\n",
       "  'sph': 'Float',\n",
       "  'srad': 'Float',\n",
       "  'th': 'Float',\n",
       "  'tmmn': 'Float',\n",
       "  'tmmx': 'Float',\n",
       "  'vpd': 'Float',\n",
       "  'vs': 'Float'},\n",
       " 'properties': {'band_order': ['pr',\n",
       "   'rmax',\n",
       "   'rmin',\n",
       "   'sph',\n",
       "   'srad',\n",
       "   'th',\n",
       "   'tmmn',\n",
       "   'tmmx',\n",
       "   'vs',\n",
       "   'erc',\n",
       "   'eto',\n",
       "   'bi',\n",
       "   'fm100',\n",
       "   'fm1000',\n",
       "   'etr',\n",
       "   'vpd']},\n",
       " 'features': [{'type': 'Feature',\n",
       "   'geometry': None,\n",
       "   'id': '0',\n",
       "   'properties': {'bi': 0,\n",
       "    'erc': 20,\n",
       "    'eto': 4.5,\n",
       "    'etr': 5.300000190734863,\n",
       "    'fm100': 14.899999618530273,\n",
       "    'fm1000': 17.799999237060547,\n",
       "    'pr': 43.70000076293945,\n",
       "    'rmax': 90.9000015258789,\n",
       "    'rmin': 60.20000076293945,\n",
       "    'sph': 0.014340000227093697,\n",
       "    'srad': 249.39999389648438,\n",
       "    'th': 114,\n",
       "    'tmmn': 293.70001220703125,\n",
       "    'tmmx': 300.1000061035156,\n",
       "    'vpd': 0.7300000190734863,\n",
       "    'vs': 2.799999952316284}}]}"
      ]
     },
     "execution_count": 7,
     "metadata": {},
     "output_type": "execute_result"
    }
   ],
   "source": [
    "# Information about feature collection\n",
    "dataset.first().sample(point,1).getInfo()\n"
   ]
  },
  {
   "cell_type": "code",
   "execution_count": 8,
   "id": "2e8987e4-ca35-4f27-9332-057fa8ad3175",
   "metadata": {},
   "outputs": [
    {
     "name": "stdout",
     "output_type": "stream",
     "text": [
      "The grass reference ET is 4.5 mm\n"
     ]
    }
   ],
   "source": [
    "# Information about feature\n",
    "eto = dataset.first().sample(point,1).first().getNumber('eto').getInfo()\n",
    "print(f'The grass reference ET is {eto} mm')"
   ]
  },
  {
   "cell_type": "markdown",
   "id": "edef3b2f-ebd5-49e5-b55c-7735f9fef070",
   "metadata": {},
   "source": [
    "Alternative solution: Access the image directly rather than the collection.\n",
    "\n",
    "```python\n",
    "ee.Image('IDAHO_EPSCOR/GRIDMET/20220701').sample(point,1).first().getNumber('eto').getInfo()\n",
    "```"
   ]
  },
  {
   "cell_type": "code",
   "execution_count": 9,
   "id": "6ca3027f-c682-4fa9-bbce-31ddb1864083",
   "metadata": {},
   "outputs": [
    {
     "data": {
      "text/plain": [
       "1656655200000"
      ]
     },
     "execution_count": 9,
     "metadata": {},
     "output_type": "execute_result"
    }
   ],
   "source": [
    "# Obtain the START time of the dataset to check that it matches our request.\n",
    "# Response is in milliseconds since 1-Jan-1970\n",
    "dataset.select('eto').first().getNumber('system:time_start').getInfo()\n"
   ]
  },
  {
   "cell_type": "code",
   "execution_count": 10,
   "id": "e4dee880-1385-4ad9-b712-33e3affa269d",
   "metadata": {},
   "outputs": [
    {
     "data": {
      "text/plain": [
       "1656741600000"
      ]
     },
     "execution_count": 10,
     "metadata": {},
     "output_type": "execute_result"
    }
   ],
   "source": [
    "# Obtain the END time of the dataset to check that it matches our request.\n",
    "# Response is in milliseconds since 1-Jan-1970\n",
    "dataset.select('eto').first().getNumber('system:time_end').getInfo()\n"
   ]
  },
  {
   "cell_type": "code",
   "execution_count": 11,
   "id": "7827a045-e1f2-4f36-958f-443589ec82fa",
   "metadata": {},
   "outputs": [
    {
     "name": "stdout",
     "output_type": "stream",
     "text": [
      "Start time: 2022-07-01 01:00:00.000000\n",
      "End time: 2022-07-02 01:00:00.000000\n"
     ]
    }
   ],
   "source": [
    "# Find the datetime of the serial date numbers\n",
    "# Input in \"fromtimestamp()\" has to be in seconds, so we divide by 1000\n",
    "print('Start time:', datetime.datetime.fromtimestamp(1656655200000/1000).strftime('%Y-%m-%d %H:%M:%S.%f'))\n",
    "print('End time:', datetime.datetime.fromtimestamp(1656741600000/1000).strftime('%Y-%m-%d %H:%M:%S.%f'))\n"
   ]
  },
  {
   "cell_type": "markdown",
   "id": "0dd38304-3139-402f-b0d0-55f5a2e1ae07",
   "metadata": {},
   "source": [
    "# Retrieve soil properties for a given location\n",
    "\n",
    "Product: SoilGrids\n",
    "\n",
    "Source: https://samapriya.github.io/awesome-gee-community-datasets/projects/isric/"
   ]
  },
  {
   "cell_type": "code",
   "execution_count": 4,
   "id": "eaecd5ef-5888-4902-bc81-d2ae1c72c3cd",
   "metadata": {},
   "outputs": [],
   "source": [
    "#Load the SoilGrids dataset from GEE\n",
    "soil_grids = ee.Image(\"projects/soilgrids-isric/sand_mean\")\n"
   ]
  },
  {
   "cell_type": "code",
   "execution_count": 5,
   "id": "e18d7f23-186b-49c4-b31e-b891b6d6aa29",
   "metadata": {},
   "outputs": [],
   "source": [
    "# Define a point geometry\n",
    "lat = 37.839154\n",
    "lon = -99.101594\n",
    "point = ee.Geometry.Point(lon,lat)\n",
    "sand = soil_grids.sample(point,250).first().getNumber('sand_0-5cm_mean').multiply(0.1).getInfo()\n"
   ]
  },
  {
   "cell_type": "code",
   "execution_count": 6,
   "id": "a2190855-c9ec-413f-8382-048cc17047de",
   "metadata": {},
   "outputs": [
    {
     "name": "stdout",
     "output_type": "stream",
     "text": [
      "The percentage of sand at (37.839154,-99.101594) is: 53 %\n"
     ]
    }
   ],
   "source": [
    "print(f'The percentage of sand at ({lat},{lon}) is: {round(sand)} %')"
   ]
  }
 ],
 "metadata": {
  "kernelspec": {
   "display_name": "Python 3 (ipykernel)",
   "language": "python",
   "name": "python3"
  },
  "language_info": {
   "codemirror_mode": {
    "name": "ipython",
    "version": 3
   },
   "file_extension": ".py",
   "mimetype": "text/x-python",
   "name": "python",
   "nbconvert_exporter": "python",
   "pygments_lexer": "ipython3",
   "version": "3.10.9"
  }
 },
 "nbformat": 4,
 "nbformat_minor": 5
}
