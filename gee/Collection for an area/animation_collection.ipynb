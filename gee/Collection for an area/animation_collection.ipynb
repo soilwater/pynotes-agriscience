{
 "cells": [
  {
   "cell_type": "markdown",
   "id": "e89e6cba-4aa5-4751-a5b7-77805dddac41",
   "metadata": {},
   "source": [
    "# Create an animated sequence of images from an image collection\n",
    "\n",
    "In this notebook we will compute the average normalize difference vegetation index (NDVI) for each day of the year using data for the past 10 years.\n",
    "\n",
    "**Task**: Run the code cells below and try to follow the reasoning. The code creates an animation for Kansas. Your job is to create an animation for a different US state or a different country.\n",
    "\n",
    "If you decide on a country, consider the FAO dataset for administrative boundaries: https://developers.google.com/earth-engine/datasets/catalog/FAO_GAUL_SIMPLIFIED_500m_2015_level1?hl=en#table-schema\n",
    "\n",
    "You need to upload the modified code and the resulting .GIF file.\n",
    "\n",
    "**Expected result**: A GIF image showing the sequence of images for the year.\n",
    "\n",
    "**Due date**: Assignment is due on Thursday, August 4rd at 8 AM. Please, upload to canvas the modified Jupyter notebook and the resulting animation.\n"
   ]
  },
  {
   "cell_type": "code",
   "execution_count": 1,
   "id": "4e217c27-4fe6-4081-bae3-a8728f89f141",
   "metadata": {},
   "outputs": [],
   "source": [
    "# Import and initialize GEE\n",
    "import ee\n",
    "ee.Initialize()\n"
   ]
  },
  {
   "cell_type": "code",
   "execution_count": 2,
   "id": "ed7b43af-7c8e-45a0-addb-24fe68981bc2",
   "metadata": {},
   "outputs": [],
   "source": [
    "# Define a region (Need to modify this if selecting a state other than Kansas)\n",
    "# Four numbers in the order xMin, yMin, xMax, yMax.\n",
    "rect = ee.Geometry.Rectangle([[-103,36.5], [-94,40.5]]);\n"
   ]
  },
  {
   "cell_type": "code",
   "execution_count": 3,
   "id": "4786f5e3-78e4-4b04-8108-0b86c7c6712b",
   "metadata": {},
   "outputs": [],
   "source": [
    "# Select a collection from the available dataset\n",
    "collection = ee.ImageCollection('MODIS/006/MOD13A2').select('NDVI')\n"
   ]
  },
  {
   "cell_type": "code",
   "execution_count": 4,
   "id": "30c09437-e0ad-447b-880a-db697d482596",
   "metadata": {},
   "outputs": [],
   "source": [
    "# Select a range of dates and a specific band\n",
    "vegetation = collection.filterDate('2012-01-01', '2022-01-01');\n"
   ]
  },
  {
   "cell_type": "code",
   "execution_count": 5,
   "id": "3cfe448b-5030-4dcd-8bd2-81351510c07d",
   "metadata": {},
   "outputs": [],
   "source": [
    "# Select state boundary\n",
    "# For countries you can use: FAO/GAUL_SIMPLIFIED_500m/2015/level1\n",
    "# A site with country codes: http://www.statoids.com/wab.html\n",
    "\n",
    "region = ee.FeatureCollection(\"TIGER/2018/States\").filter(ee.Filter.eq('NAME', 'Kansas'))\n",
    "\n"
   ]
  },
  {
   "cell_type": "code",
   "execution_count": 6,
   "id": "c334f8c2-7b69-40c3-91f6-79dc6e7b4c48",
   "metadata": {},
   "outputs": [],
   "source": [
    "# Obtained images from the collection for each day of the year.\n",
    "# Note that we need to define a function for each image and then pass this function to GEE.\n",
    "# GEE automatically iterates over all the images in the collection (this is what the 'map()' method does.\n",
    "\n",
    "# Define function\n",
    "def get_doy(img):\n",
    "    doy = ee.Date(img.get('system:time_start')).getRelative('day', 'year')\n",
    "    return img.set('doy', doy)\n",
    "\n",
    "# Call map and apply the function to each image\n",
    "collection = collection.map(get_doy)\n"
   ]
  },
  {
   "cell_type": "code",
   "execution_count": 7,
   "id": "4f6e613d-b226-45c6-a305-9c8ff6330644",
   "metadata": {},
   "outputs": [],
   "source": [
    "# Filter the complete collection to a single year of data e.g. 2021.\n",
    "# We use one year as a dummy variable to compute the day of the year.\n",
    "distinctDOY = collection.filterDate('2021-01-01', '2022-01-01')\n"
   ]
  },
  {
   "cell_type": "code",
   "execution_count": 8,
   "id": "c4f639af-835e-4d7d-88cf-d1805c791dc8",
   "metadata": {},
   "outputs": [],
   "source": [
    "# Define a filter that identifies which images from the complete collection\n",
    "# match the DOY from the distinct DOY collection.\n",
    "# leftField == rightField\n",
    "filt = ee.Filter.equals(leftField='doy', rightField='doy')\n"
   ]
  },
  {
   "cell_type": "code",
   "execution_count": 9,
   "id": "5a8f46fb-57cc-4315-9c10-ea0aa98dbd41",
   "metadata": {},
   "outputs": [],
   "source": [
    "# Define a join.\n",
    "join = ee.Join.saveAll('doy_matches')\n",
    "\n",
    "# Apply the join and convert the resulting FeatureCollection to an ImageCollection.\n",
    "joinCol = ee.ImageCollection(join.apply(distinctDOY, collection, filt))\n"
   ]
  },
  {
   "cell_type": "code",
   "execution_count": 10,
   "id": "d3620f41-7f20-455e-9751-573727755ff4",
   "metadata": {},
   "outputs": [],
   "source": [
    "# Apply median reduction among matching DOY collections.\n",
    "def apply_median(img):\n",
    "    doyCol = ee.ImageCollection.fromImages(img.get('doy_matches'))\n",
    "    return doyCol.reduce(ee.Reducer.median()).multiply(0.0001)\n",
    "\n",
    "composite = joinCol.map(apply_median)\n"
   ]
  },
  {
   "cell_type": "code",
   "execution_count": 11,
   "id": "4caeb814-c74d-42cd-b624-2b43bf99c8ca",
   "metadata": {},
   "outputs": [],
   "source": [
    "# Create animation\n",
    "\n",
    "# Function that handles the visuals (paint adds the boundary, \n",
    "# which is a assigned a value (-0.1) relative to the other pixels (so a low value means red here).\n",
    "def animate(img):\n",
    "    cmap = ['red','FFFFFF', 'CE7E45', 'DF923D', 'F1B555', 'FCD163', '99B718', '74A901',\n",
    "        '66A000', '529400', '3E8601', '207401', '056201', '004C00', '023B01',\n",
    "        '012E01', '011D01', '011301']\n",
    "    frame = img.paint(region,-0.1,2).visualize(min=-0.1, max=0.8, palette=cmap)\n",
    "    return frame\n",
    "\n",
    "# Map the function to each image\n",
    "animation = composite.map(animate)\n"
   ]
  },
  {
   "cell_type": "code",
   "execution_count": 12,
   "id": "8efd10e6-0261-4bfb-87da-3a6b143f67b4",
   "metadata": {},
   "outputs": [],
   "source": [
    "# Animation options\n",
    "animationOptions = {'region': rect,     # Selected region on the map\n",
    "                    'dimensions': 600,    # Size of the animation\n",
    "                    'crs': 'EPSG:3857',   # Coordinate reference system\n",
    "                    'framesPerSecond': 6  # Animation speed\n",
    "}"
   ]
  },
  {
   "cell_type": "code",
   "execution_count": 13,
   "id": "8042e3c5-c6c7-417a-afbd-7e7afd18db6b",
   "metadata": {},
   "outputs": [
    {
     "name": "stdout",
     "output_type": "stream",
     "text": [
      "https://earthengine.googleapis.com/v1alpha/projects/earthengine-legacy/videoThumbnails/06365075ae1da38db7e2d880bb4f7221-b3fb45bed9f1a3f692b0ff5194918715:getPixels\n"
     ]
    }
   ],
   "source": [
    "# Render the GIF animation in the console.\n",
    "print(animation.getVideoThumbURL(animationOptions))\n"
   ]
  },
  {
   "cell_type": "code",
   "execution_count": null,
   "id": "1e0b57a1-6896-4d83-8027-14e51e97fe15",
   "metadata": {},
   "outputs": [],
   "source": [
    "# Right click on the generated GIF image in the browser and select \"save image as\" to download it.\n"
   ]
  }
 ],
 "metadata": {
  "kernelspec": {
   "display_name": "Python 3 (ipykernel)",
   "language": "python",
   "name": "python3"
  },
  "language_info": {
   "codemirror_mode": {
    "name": "ipython",
    "version": 3
   },
   "file_extension": ".py",
   "mimetype": "text/x-python",
   "name": "python",
   "nbconvert_exporter": "python",
   "pygments_lexer": "ipython3",
   "version": "3.10.9"
  }
 },
 "nbformat": 4,
 "nbformat_minor": 5
}
