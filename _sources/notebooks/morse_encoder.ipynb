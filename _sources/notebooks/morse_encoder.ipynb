{
 "cells": [
  {
   "cell_type": "markdown",
   "metadata": {},
   "source": [
    "# Morse code encoder\n",
    "\n",
    "Use Python to encode a string into the International Morse Code system. Morse code is a character encoding scheme used in telecommunication that encodes text characters as standardized sequences of two different signal durations called dots and dashes or dits and dahs. Morse code is named for Samuel F. B. Morse, the inventor of the telegraph [1]\n",
    "\n",
    "[1] https://www.wikiwand.com/en/Morse_code\n",
    "\n",
    "\n",
    "## Auxilliary files\n",
    "In the datasets folder there is a `.csv` file containing the Morse code equivalent for the most comoon characters of the English language.\n",
    "\n",
    "## Skills\n",
    "- Importing modules\n",
    "- Import data using Pandas library\n",
    "- Logical indexing using Pandas library\n",
    "- Accessing data in Pandas dataframe\n",
    "- Create lists and append elements\n",
    "- Manipulation of strings (join strings, change case, multiply strings)\n",
    "- For loop\n",
    "- If statement\n",
    "\n",
    "**Let's do it!** or in Morse code:\n",
    "\n",
    "    \n",
    "    `.- -..   .- ... - .-. .-   .--. . .-.   .- ... .--. . .-. .-`\n"
   ]
  },
  {
   "cell_type": "markdown",
   "metadata": {},
   "source": [
    "## Goal\n",
    "\n",
    "For any given string, replace each character (letter, exclamation point, comma, etc.) with its corresponding Morse code. The idea is to return a single string with the input string encoded in Morse code."
   ]
  },
  {
   "cell_type": "markdown",
   "metadata": {},
   "source": [
    "## Step 1: Break down the problem into smaller pieces\n",
    "\n",
    "When we follow a tutorial we typically see nice and logically-organized code. However, we hardly ever write code like this. Instead, we try to break down the problem into smaller components and we test these smaller components. Then, we assemble the code, where new challenges will likely emerge. So, there are several iterations of the polishing process.\n",
    "\n",
    "Here are few of the steps that I envisioned before writing the code:\n",
    "\n",
    "- Search or create a lookup table of English characters and Morse codes.\n",
    "\n",
    "- Iterate over each character of the input string\n",
    "\n",
    "- Match a character from the input string to the list of characters in the lookup table\n",
    "\n",
    "- Retrieve the Morse code for the matched character\n",
    "\n",
    "- Store this code (at this point I still did not know I was going to use a list, althought it sorts of make sense)\n",
    "\n",
    "- Repeat steps with the following character of the input string\n",
    "\n",
    "<br/>\n",
    "\n",
    "**Things that I ignored at this stage and that later on became important**\n",
    "\n",
    "- Spacing between letters and words. By reading the Wikipedia page I found that there are actually rules for spacing characters and words. So I tried to implement a rough variation of them in my code.\n",
    "\n",
    "- Join all the Morse codes in a list to form a string. I dealt with this problem once the code was working and I needed to focus on how to print the output string.\n",
    "\n",
    "- Spaces in input string. The lookup table has Morse codes for characters, but it has no way of dealing with spaces. My first script was unable to handle spaces and was crashing even for something like `Hello world`. So, I focused on getting the right answer for just `Hello`. If I can retrive the correct Morse codes for a simple word, then it means that I'm close. Aim at accomplishing small steps and then proceed. After savoring small victories I feel motivated and engaged to resolve the next step."
   ]
  },
  {
   "cell_type": "markdown",
   "metadata": {},
   "source": [
    "## Step 2: Create a Morse code lookup table \n",
    "\n",
    "THe first step consists of creating a lookup table between common English characters and Morse codes. I obtained the codes from Wikipedia and saved them into a text file. The file is in the `Datasets` folder.\n",
    "\n",
    "If you copy-paste text from a website or file, make sure to remove the any formatting. I also had to disable in TextEdit (Mac) software the \"smart dashes\" and \"smart quotes\", so that the text editor keeps \"---\" as three dashes instad of creating a horizontal line.\n",
    "\n",
    "I compiled the Morse codes for a total of 52 characters and I saved them in a tab-delimeted file.\n",
    "\n",
    "This is an example of steps that take some 20 to 30 minutes just to prepare the data. "
   ]
  },
  {
   "cell_type": "markdown",
   "metadata": {},
   "source": [
    "## Step 3: Load lookup table\n",
    "\n",
    "Since we have a text file with two columns (character and code), it's pretty obvious that Pandas is a good alternative.\n",
    "\n",
    "Pandas linrary also allows for logical indexing, which means that we can use a vector of Booleans to easily retrieve information from specific column cells.\n",
    "\n",
    "To load the lookuptable into Python we need few pieces of information:\n",
    "\n",
    "1. URL for the file\n",
    "2. File delimiter\n",
    "3. Parser engine to use. We will use the python engine, which is more feature-complete. The default parser will throw an error.\n",
    "\n",
    "After loading the lookup table we will display the entire dataframe to double-check that everything is loaded as expected.\n",
    "\n",
    "**Note**: I had no idea that Python has different parsers. I first thought that my code was crashing because I encoded something wrong in the text file and that Python was having a hard time to read my file. Much of this problem arose after I added characters such as apostrophes to my lookup table. So, I first found a thread in StackOverflow and then I went to the [Pandas official documentation](<https://pandas.pydata.org/pandas-docs/stable/reference/api/pandas.read_csv.html)...and there it was!, a succint but nice explanation about parser engines."
   ]
  },
  {
   "cell_type": "code",
   "execution_count": 17,
   "metadata": {},
   "outputs": [],
   "source": [
    "import pandas as pd"
   ]
  },
  {
   "cell_type": "code",
   "execution_count": 18,
   "metadata": {},
   "outputs": [
    {
     "data": {
      "text/html": [
       "<div>\n",
       "<style scoped>\n",
       "    .dataframe tbody tr th:only-of-type {\n",
       "        vertical-align: middle;\n",
       "    }\n",
       "\n",
       "    .dataframe tbody tr th {\n",
       "        vertical-align: top;\n",
       "    }\n",
       "\n",
       "    .dataframe thead th {\n",
       "        text-align: right;\n",
       "    }\n",
       "</style>\n",
       "<table border=\"1\" class=\"dataframe\">\n",
       "  <thead>\n",
       "    <tr style=\"text-align: right;\">\n",
       "      <th></th>\n",
       "      <th>character</th>\n",
       "      <th>code</th>\n",
       "    </tr>\n",
       "  </thead>\n",
       "  <tbody>\n",
       "    <tr>\n",
       "      <th>0</th>\n",
       "      <td>A</td>\n",
       "      <td>.-</td>\n",
       "    </tr>\n",
       "    <tr>\n",
       "      <th>1</th>\n",
       "      <td>B</td>\n",
       "      <td>-...</td>\n",
       "    </tr>\n",
       "    <tr>\n",
       "      <th>2</th>\n",
       "      <td>C</td>\n",
       "      <td>-.-.</td>\n",
       "    </tr>\n",
       "    <tr>\n",
       "      <th>3</th>\n",
       "      <td>D</td>\n",
       "      <td>-..</td>\n",
       "    </tr>\n",
       "    <tr>\n",
       "      <th>4</th>\n",
       "      <td>E</td>\n",
       "      <td>.</td>\n",
       "    </tr>\n",
       "    <tr>\n",
       "      <th>5</th>\n",
       "      <td>F</td>\n",
       "      <td>..-.</td>\n",
       "    </tr>\n",
       "    <tr>\n",
       "      <th>6</th>\n",
       "      <td>G</td>\n",
       "      <td>--.</td>\n",
       "    </tr>\n",
       "    <tr>\n",
       "      <th>7</th>\n",
       "      <td>H</td>\n",
       "      <td>....</td>\n",
       "    </tr>\n",
       "    <tr>\n",
       "      <th>8</th>\n",
       "      <td>I</td>\n",
       "      <td>..</td>\n",
       "    </tr>\n",
       "    <tr>\n",
       "      <th>9</th>\n",
       "      <td>J</td>\n",
       "      <td>.---</td>\n",
       "    </tr>\n",
       "    <tr>\n",
       "      <th>10</th>\n",
       "      <td>K</td>\n",
       "      <td>-.-</td>\n",
       "    </tr>\n",
       "    <tr>\n",
       "      <th>11</th>\n",
       "      <td>L</td>\n",
       "      <td>.-..</td>\n",
       "    </tr>\n",
       "    <tr>\n",
       "      <th>12</th>\n",
       "      <td>M</td>\n",
       "      <td>--</td>\n",
       "    </tr>\n",
       "    <tr>\n",
       "      <th>13</th>\n",
       "      <td>N</td>\n",
       "      <td>-.</td>\n",
       "    </tr>\n",
       "    <tr>\n",
       "      <th>14</th>\n",
       "      <td>O</td>\n",
       "      <td>---</td>\n",
       "    </tr>\n",
       "    <tr>\n",
       "      <th>15</th>\n",
       "      <td>P</td>\n",
       "      <td>.--.</td>\n",
       "    </tr>\n",
       "    <tr>\n",
       "      <th>16</th>\n",
       "      <td>Q</td>\n",
       "      <td>--.-</td>\n",
       "    </tr>\n",
       "    <tr>\n",
       "      <th>17</th>\n",
       "      <td>R</td>\n",
       "      <td>.-.</td>\n",
       "    </tr>\n",
       "    <tr>\n",
       "      <th>18</th>\n",
       "      <td>S</td>\n",
       "      <td>...</td>\n",
       "    </tr>\n",
       "    <tr>\n",
       "      <th>19</th>\n",
       "      <td>T</td>\n",
       "      <td>-</td>\n",
       "    </tr>\n",
       "    <tr>\n",
       "      <th>20</th>\n",
       "      <td>U</td>\n",
       "      <td>..-</td>\n",
       "    </tr>\n",
       "    <tr>\n",
       "      <th>21</th>\n",
       "      <td>V</td>\n",
       "      <td>...-</td>\n",
       "    </tr>\n",
       "    <tr>\n",
       "      <th>22</th>\n",
       "      <td>W</td>\n",
       "      <td>.--</td>\n",
       "    </tr>\n",
       "    <tr>\n",
       "      <th>23</th>\n",
       "      <td>X</td>\n",
       "      <td>-..-</td>\n",
       "    </tr>\n",
       "    <tr>\n",
       "      <th>24</th>\n",
       "      <td>Y</td>\n",
       "      <td>-.--</td>\n",
       "    </tr>\n",
       "    <tr>\n",
       "      <th>25</th>\n",
       "      <td>Z</td>\n",
       "      <td>--..</td>\n",
       "    </tr>\n",
       "    <tr>\n",
       "      <th>26</th>\n",
       "      <td>0</td>\n",
       "      <td>-----</td>\n",
       "    </tr>\n",
       "    <tr>\n",
       "      <th>27</th>\n",
       "      <td>1</td>\n",
       "      <td>.----</td>\n",
       "    </tr>\n",
       "    <tr>\n",
       "      <th>28</th>\n",
       "      <td>2</td>\n",
       "      <td>..---</td>\n",
       "    </tr>\n",
       "    <tr>\n",
       "      <th>29</th>\n",
       "      <td>3</td>\n",
       "      <td>...--</td>\n",
       "    </tr>\n",
       "    <tr>\n",
       "      <th>30</th>\n",
       "      <td>4</td>\n",
       "      <td>....-</td>\n",
       "    </tr>\n",
       "    <tr>\n",
       "      <th>31</th>\n",
       "      <td>5</td>\n",
       "      <td>.....</td>\n",
       "    </tr>\n",
       "    <tr>\n",
       "      <th>32</th>\n",
       "      <td>6</td>\n",
       "      <td>-....</td>\n",
       "    </tr>\n",
       "    <tr>\n",
       "      <th>33</th>\n",
       "      <td>7</td>\n",
       "      <td>--...</td>\n",
       "    </tr>\n",
       "    <tr>\n",
       "      <th>34</th>\n",
       "      <td>8</td>\n",
       "      <td>---..</td>\n",
       "    </tr>\n",
       "    <tr>\n",
       "      <th>35</th>\n",
       "      <td>9</td>\n",
       "      <td>----.</td>\n",
       "    </tr>\n",
       "    <tr>\n",
       "      <th>36</th>\n",
       "      <td>.</td>\n",
       "      <td>.-.-.-</td>\n",
       "    </tr>\n",
       "    <tr>\n",
       "      <th>37</th>\n",
       "      <td>,</td>\n",
       "      <td>--..--</td>\n",
       "    </tr>\n",
       "    <tr>\n",
       "      <th>38</th>\n",
       "      <td>?</td>\n",
       "      <td>..--..</td>\n",
       "    </tr>\n",
       "    <tr>\n",
       "      <th>39</th>\n",
       "      <td>=</td>\n",
       "      <td>-...-</td>\n",
       "    </tr>\n",
       "    <tr>\n",
       "      <th>40</th>\n",
       "      <td>'</td>\n",
       "      <td>.----.</td>\n",
       "    </tr>\n",
       "    <tr>\n",
       "      <th>41</th>\n",
       "      <td>/</td>\n",
       "      <td>-..-.</td>\n",
       "    </tr>\n",
       "    <tr>\n",
       "      <th>42</th>\n",
       "      <td>(</td>\n",
       "      <td>-.--.</td>\n",
       "    </tr>\n",
       "    <tr>\n",
       "      <th>43</th>\n",
       "      <td>)</td>\n",
       "      <td>-.--.-</td>\n",
       "    </tr>\n",
       "    <tr>\n",
       "      <th>44</th>\n",
       "      <td>&amp;</td>\n",
       "      <td>.-...</td>\n",
       "    </tr>\n",
       "    <tr>\n",
       "      <th>45</th>\n",
       "      <td>;</td>\n",
       "      <td>-.-.-.</td>\n",
       "    </tr>\n",
       "    <tr>\n",
       "      <th>46</th>\n",
       "      <td>:</td>\n",
       "      <td>---...</td>\n",
       "    </tr>\n",
       "    <tr>\n",
       "      <th>47</th>\n",
       "      <td>\"</td>\n",
       "      <td>.-..-.</td>\n",
       "    </tr>\n",
       "    <tr>\n",
       "      <th>48</th>\n",
       "      <td>$</td>\n",
       "      <td>...-..-</td>\n",
       "    </tr>\n",
       "    <tr>\n",
       "      <th>49</th>\n",
       "      <td>!</td>\n",
       "      <td>-.-.--</td>\n",
       "    </tr>\n",
       "    <tr>\n",
       "      <th>50</th>\n",
       "      <td>_</td>\n",
       "      <td>..--.-.</td>\n",
       "    </tr>\n",
       "    <tr>\n",
       "      <th>51</th>\n",
       "      <td>-</td>\n",
       "      <td>-....-</td>\n",
       "    </tr>\n",
       "    <tr>\n",
       "      <th>52</th>\n",
       "      <td>@</td>\n",
       "      <td>.--.-.</td>\n",
       "    </tr>\n",
       "    <tr>\n",
       "      <th>53</th>\n",
       "      <td>+</td>\n",
       "      <td>.-.-.</td>\n",
       "    </tr>\n",
       "  </tbody>\n",
       "</table>\n",
       "</div>"
      ],
      "text/plain": [
       "   character     code\n",
       "0          A       .-\n",
       "1          B     -...\n",
       "2          C     -.-.\n",
       "3          D      -..\n",
       "4          E        .\n",
       "5          F     ..-.\n",
       "6          G      --.\n",
       "7          H     ....\n",
       "8          I       ..\n",
       "9          J     .---\n",
       "10         K      -.-\n",
       "11         L     .-..\n",
       "12         M       --\n",
       "13         N       -.\n",
       "14         O      ---\n",
       "15         P     .--.\n",
       "16         Q     --.-\n",
       "17         R      .-.\n",
       "18         S      ...\n",
       "19         T        -\n",
       "20         U      ..-\n",
       "21         V     ...-\n",
       "22         W      .--\n",
       "23         X     -..-\n",
       "24         Y     -.--\n",
       "25         Z     --..\n",
       "26         0    -----\n",
       "27         1    .----\n",
       "28         2    ..---\n",
       "29         3    ...--\n",
       "30         4    ....-\n",
       "31         5    .....\n",
       "32         6    -....\n",
       "33         7    --...\n",
       "34         8    ---..\n",
       "35         9    ----.\n",
       "36         .   .-.-.-\n",
       "37         ,   --..--\n",
       "38         ?   ..--..\n",
       "39         =    -...-\n",
       "40         '   .----.\n",
       "41         /    -..-.\n",
       "42         (    -.--.\n",
       "43         )   -.--.-\n",
       "44         &    .-...\n",
       "45         ;   -.-.-.\n",
       "46         :   ---...\n",
       "47         \"   .-..-.\n",
       "48         $  ...-..-\n",
       "49         !   -.-.--\n",
       "50         _  ..--.-.\n",
       "51         -   -....-\n",
       "52         @   .--.-.\n",
       "53         +    .-.-."
      ]
     },
     "execution_count": 18,
     "metadata": {},
     "output_type": "execute_result"
    }
   ],
   "source": [
    "# Load lookup table\n",
    "morse_table = pd.read_csv('https://raw.githubusercontent.com/soilwater/pynotes-agriscience/gh-pages/datasets/morse_lookup_table.txt',\n",
    "                          sep='\\t',\n",
    "                          engine='python')\n",
    "# Display dataframe\n",
    "morse_table"
   ]
  },
  {
   "cell_type": "markdown",
   "metadata": {},
   "source": [
    "## Step 4: Test the steps\n",
    "\n",
    "Breaking down the problem into smaller pieces in step 1 does not necessarily means that we know how to code these steps. It's important that you understand the difference. If you can break down a complex problem into smaller, simpler problems you will be able to find a solution or workaround.\n",
    "\n",
    "Below are few examples of the tests that I tried before attempting to write the Morse encoder script. Note that my tests are based on trivial examples. If the code works for the letter `A` then it will work for other letters.\n",
    "\n",
    "### Test 1: Match a single character to an entire Pandas column of characters"
   ]
  },
  {
   "cell_type": "code",
   "execution_count": 4,
   "metadata": {},
   "outputs": [
    {
     "data": {
      "text/plain": [
       "0      True\n",
       "1     False\n",
       "2     False\n",
       "3     False\n",
       "4     False\n",
       "5     False\n",
       "6     False\n",
       "7     False\n",
       "8     False\n",
       "9     False\n",
       "10    False\n",
       "11    False\n",
       "12    False\n",
       "13    False\n",
       "14    False\n",
       "15    False\n",
       "16    False\n",
       "17    False\n",
       "18    False\n",
       "19    False\n",
       "20    False\n",
       "21    False\n",
       "22    False\n",
       "23    False\n",
       "24    False\n",
       "25    False\n",
       "26    False\n",
       "27    False\n",
       "28    False\n",
       "29    False\n",
       "30    False\n",
       "31    False\n",
       "32    False\n",
       "33    False\n",
       "34    False\n",
       "35    False\n",
       "36    False\n",
       "37    False\n",
       "38    False\n",
       "39    False\n",
       "40    False\n",
       "41    False\n",
       "42    False\n",
       "43    False\n",
       "44    False\n",
       "45    False\n",
       "46    False\n",
       "47    False\n",
       "48    False\n",
       "49    False\n",
       "50    False\n",
       "51    False\n",
       "52    False\n",
       "53    False\n",
       "Name: character, dtype: bool"
      ]
     },
     "execution_count": 4,
     "metadata": {},
     "output_type": "execute_result"
    }
   ],
   "source": [
    "morse_table.character == 'A'"
   ]
  },
  {
   "cell_type": "markdown",
   "metadata": {},
   "source": [
    "Output is a Boolean vector, where the first value is True and the rest are False. The code successfully identifies the location of the character 'A'.\n",
    "\n",
    "### Test 2: Retrieve the Morse code for the matched character. \n",
    "Here I decided to save the boolean vector into a variable, so that I can pass it to the Pandas column."
   ]
  },
  {
   "cell_type": "code",
   "execution_count": 5,
   "metadata": {},
   "outputs": [
    {
     "name": "stdout",
     "output_type": "stream",
     "text": [
      "0    .-\n",
      "Name: code, dtype: object\n",
      "<class 'pandas.core.series.Series'>\n"
     ]
    }
   ],
   "source": [
    "idx = morse_table.character == 'A'   \n",
    "print(morse_table.code[idx]) # I want the Morse code for the row that returned True\n",
    "print(type(morse_table.code[idx])) "
   ]
  },
  {
   "cell_type": "markdown",
   "metadata": {},
   "source": [
    "Close, but not exactly what I expected. See the problem is that this is type pandas.series. I just want the Morse code as a string, so that I can store it or concatenate it.\n",
    "\n",
    "### Test 2 (second attempt)\n",
    "After trying few alternatives and visiting the official documentation I found that we can access the information inside the pandas.series by specifying the value."
   ]
  },
  {
   "cell_type": "code",
   "execution_count": 6,
   "metadata": {},
   "outputs": [
    {
     "name": "stdout",
     "output_type": "stream",
     "text": [
      ".-\n",
      "<class 'str'>\n"
     ]
    }
   ],
   "source": [
    "idx = morse_table.character == 'A'\n",
    "print(morse_table.code[idx].values[0])\n",
    "print(type(morse_table.code[idx].values[0]))"
   ]
  },
  {
   "cell_type": "markdown",
   "metadata": {},
   "source": [
    "Bingo! But the code above does not work for lower case characters like 'a'. So we need to learn how to do that. Fortunately, this is easy to implement in python (see next test)."
   ]
  },
  {
   "cell_type": "code",
   "execution_count": 7,
   "metadata": {},
   "outputs": [
    {
     "name": "stdout",
     "output_type": "stream",
     "text": [
      "A\n"
     ]
    }
   ],
   "source": [
    "# Test 3: Change case of character\n",
    "\n",
    "mystr = 'a'\n",
    "print(mystr.upper())"
   ]
  },
  {
   "cell_type": "markdown",
   "metadata": {},
   "source": [
    "It works!\n",
    "\n",
    "### Test 4: Append characters\n",
    "In step 1 I realized that after finding the Morse code for a specific character I had to find a way of storing that string before I move on, otherwise I would keep iterating and overwriting my Morse codes."
   ]
  },
  {
   "cell_type": "code",
   "execution_count": 8,
   "metadata": {},
   "outputs": [
    {
     "name": "stdout",
     "output_type": "stream",
     "text": [
      "['.-']\n",
      "['.-', '.---']\n"
     ]
    }
   ],
   "source": [
    "# Start with an empty list\n",
    "output_string = []\n",
    "\n",
    "# Append an example string (I don't even know what character this Morse code represents)\n",
    "output_string.append('.-')\n",
    "\n",
    "# Print string to see its current state\n",
    "print(output_string)\n",
    "\n",
    "# Append another random Morse code\n",
    "output_string.append('.---')\n",
    "\n",
    "# Print list\n",
    "print(output_string)"
   ]
  },
  {
   "cell_type": "markdown",
   "metadata": {},
   "source": [
    "It's working. The Morse codes here do not matter, the idea is to test the code that will enable us to store the codes in a list.\n",
    "\n",
    "### Test 5: Join string list items into a single string.\n",
    "If I store all the Morse codes in a list, how do I print them all together at the end? See, I want my code to return a 'translated' string.\n",
    "Since the previous step worked as expected, I will use it in this test. From the Strings tutorial we learned that we can join list items as follows:"
   ]
  },
  {
   "cell_type": "code",
   "execution_count": 9,
   "metadata": {},
   "outputs": [
    {
     "name": "stdout",
     "output_type": "stream",
     "text": [
      ".-&.---\n"
     ]
    }
   ],
   "source": [
    "print('&'.join(output_string))"
   ]
  },
  {
   "cell_type": "markdown",
   "metadata": {},
   "source": [
    "So, if I assign a string with a single space into a new variable, I should be able to merge all the Morse codes and separate them by a single space to make it more readable. In other words, each Morse code representing a character will be separated by a blank space."
   ]
  },
  {
   "cell_type": "code",
   "execution_count": 10,
   "metadata": {},
   "outputs": [
    {
     "name": "stdout",
     "output_type": "stream",
     "text": [
      ".- .---\n"
     ]
    }
   ],
   "source": [
    "separator = \" \"\n",
    "print(separator.join(output_string))"
   ]
  },
  {
   "cell_type": "markdown",
   "metadata": {},
   "source": [
    "Then I asked myself, what happens if I add more spaces, will the resulting string of Morse codes look better or worse? There is only one way to find out. Here is a cool Python trick. It's much more transparent and readable than adding the spaces"
   ]
  },
  {
   "cell_type": "code",
   "execution_count": null,
   "metadata": {},
   "outputs": [],
   "source": [
    "separator = \" \" * 3\n",
    "print(separator.join(output_string))"
   ]
  },
  {
   "cell_type": "markdown",
   "metadata": {},
   "source": [
    "## Step 5: Put the pieces together\n",
    "\n",
    "Now that we ran several tests and that we know how to code the different parts of the problem we are ready to put the puzzle together. It will be the first try, so it's fine if it doesn't work from top to bottom. The goal here is to get at least some steps to work together.\n"
   ]
  },
  {
   "cell_type": "code",
   "execution_count": 11,
   "metadata": {},
   "outputs": [
    {
     "name": "stdout",
     "output_type": "stream",
     "text": [
      ".-   .---\n"
     ]
    }
   ],
   "source": [
    "# First attempt to encode strings into Morse code\n",
    "\n",
    "decoded_string = \"Hello\"\n",
    "encoded_string = []\n",
    "letter_sep = \" \" * 3\n",
    "\n",
    "for letter in decoded_string:\n",
    "    idx = morse_table.character == letter.upper()\n",
    "    encoded_string.append(morse_table.code[idx].values[0])\n",
    "\n",
    "print(letter_sep.join(output_string))"
   ]
  },
  {
   "cell_type": "markdown",
   "metadata": {},
   "source": [
    "The code works, but it crashes when I add a string with spaces, like \"Hello world\". This is because spaces are not part of the lookup table. So, we need to handle this in the code using an 'if' statement is probably the first thing that comes to mind. Let's try it"
   ]
  },
  {
   "cell_type": "code",
   "execution_count": 14,
   "metadata": {},
   "outputs": [
    {
     "name": "stdout",
     "output_type": "stream",
     "text": [
      "....   .   .-..   .-..   ---           .--   ---   .-.   .-..   -..\n"
     ]
    }
   ],
   "source": [
    "# If we find a space between words then we will add a space larger than that between letters.\n",
    "decoded_string = \"Hello world\"\n",
    "encoded_string = []\n",
    "\n",
    "letter_sep = \" \" * 3 # Space between letters\n",
    "word_sep = \" \" * 5   # Space between words\n",
    "\n",
    "for letter in decoded_string:\n",
    "    if letter == \" \":\n",
    "        encoded_string.append(word_sep)\n",
    "    else:\n",
    "        idx = morse_table.character == letter.upper()\n",
    "        encoded_string.append(morse_table.code[idx].values[0])\n",
    "\n",
    "print(letter_sep.join(encoded_string))"
   ]
  },
  {
   "cell_type": "code",
   "execution_count": 22,
   "metadata": {},
   "outputs": [
    {
     "name": "stdout",
     "output_type": "stream",
     "text": [
      "- .... .   .--. .-. --- --. .-. .- -- -- . .-. ...   --- ..-.   - --- -- --- .-. .-. --- .--   .- .-. .   - .... .   .-- .. --.. .- .-. -.. ...   --- ..-.   - .... .   ..-. ..- - ..- .-. . .-.-.-   -.-- --- ..-   .- .-. .   --. --- .. -. --.   - ---   .-.. --- --- -.-   .-.. .. -.- .   -.-- --- ..-   .... .- ...- .   -- .- --. .. -.-.   .--. --- .-- . .-. ...   -.-. --- -- .--. .- .-. . -..   - ---   . ...- . .-. -.-- -... --- -.. -.--   . .-.. ... . .-.-.-   --. .- -... .   -. . .-- . .-.. .-..\n"
     ]
    }
   ],
   "source": [
    "# A complete and improved version of the previous code that handles strings with multiple lines.\n",
    "\n",
    "decoded_string = \"\"\"The programmers of tomorrow are the wizards of the future. You are going to look like you have magic powers compared to everybody else. Gabe Newell\"\"\"\n",
    "#decoded_string = \"Let's do it!\"\n",
    "encoded_string = []\n",
    "\n",
    "letter_sep = \" \" * 1\n",
    "word_sep = \" \" * 1 # Alternatively to better identify words\n",
    "\n",
    "for letter in decoded_string:\n",
    "    \n",
    "    # Handle spaces between words\n",
    "    if letter == ' ':\n",
    "        encoded_string.append(word_sep)\n",
    "        \n",
    "    # Handle new line in text with multiple lines. I basically decided to ignore it.\n",
    "    elif letter == \"\\n\":\n",
    "        continue\n",
    "        \n",
    "    else:\n",
    "        idx = morse_table.character == letter.upper()\n",
    "        encoded_string.append(morse_table.code[idx].values[0])\n",
    "\n",
    "print(letter_sep.join(encoded_string))\n"
   ]
  },
  {
   "cell_type": "markdown",
   "metadata": {},
   "source": [
    "## Final comments\n",
    "\n",
    "We can certainly keep adding features to our code. Other ideas that stem from this project are:\n",
    "- Convert the script into a function\n",
    "- Add input validation (e.g. ensure that input is a string)\n",
    "- Print the actual English string above the Morse code\n",
    "- Write a script or function that converts Morse code back into English\n",
    "- Create a game that asks the player to guess which character is a random Morse code"
   ]
  }
 ],
 "metadata": {
  "kernelspec": {
   "display_name": "Python 3",
   "language": "python",
   "name": "python3"
  },
  "language_info": {
   "codemirror_mode": {
    "name": "ipython",
    "version": 3
   },
   "file_extension": ".py",
   "mimetype": "text/x-python",
   "name": "python",
   "nbconvert_exporter": "python",
   "pygments_lexer": "ipython3",
   "version": "3.8.5"
  }
 },
 "nbformat": 4,
 "nbformat_minor": 4
}
