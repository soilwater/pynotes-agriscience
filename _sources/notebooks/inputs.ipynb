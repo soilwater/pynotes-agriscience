{
 "cells": [
  {
   "cell_type": "markdown",
   "metadata": {},
   "source": [
    "# Inputs\n",
    "\n",
    "A rather useful feature of Python is its ability to interact with the user to gather information and trigger specific actions. In research this feature can be useful to automate lab routines, reduce data entry errors, and even used for learning and teaching purposes.\n"
   ]
  },
  {
   "cell_type": "markdown",
   "metadata": {},
   "source": [
    "## Unit conversion"
   ]
  },
  {
   "cell_type": "code",
   "execution_count": 3,
   "metadata": {},
   "outputs": [
    {
     "name": "stdin",
     "output_type": "stream",
     "text": [
      "Insert temperature in degrees Fahrenheit: 212\n"
     ]
    },
    {
     "name": "stdout",
     "output_type": "stream",
     "text": [
      "100.0\n"
     ]
    }
   ],
   "source": [
    "F = input(\"Insert temperature in degrees Fahrenheit:\")\n",
    "F = float(F)\n",
    "print( (F-32)*5/9 )\n"
   ]
  },
  {
   "cell_type": "markdown",
   "metadata": {},
   "source": [
    "## Volume of rainfall"
   ]
  },
  {
   "cell_type": "code",
   "execution_count": 4,
   "metadata": {},
   "outputs": [
    {
     "name": "stdin",
     "output_type": "stream",
     "text": [
      "Rainfall in mm 1\n"
     ]
    },
    {
     "name": "stdout",
     "output_type": "stream",
     "text": [
      "1 liters per m^2\n",
      "1000000 liters per km^2\n",
      "1069 gallons per acre\n"
     ]
    }
   ],
   "source": [
    "rainfall = input(\"Rainfall in mm\")\n",
    "rainfall = float(rainfall)/10 # convert to float and then to cm\n",
    "area = 100 * 100 # area in cm^2\n",
    "volume = area*rainfall # volume in cm^3\n",
    "liters = volume / 1000 # 1 liter is 1000 cm^3\n",
    "\n",
    "print(round(liters),'liters per m^2')\n",
    "print(round(liters*10**6),'liters per km^2')\n",
    "print(round(liters*4046.86/3.785),'gallons per acre')\n"
   ]
  },
  {
   "cell_type": "markdown",
   "metadata": {},
   "source": [
    "## Hydrometer Readings\n",
    "\n",
    "The hydrometer method is one of the most popular methods for soil particle size analysis. The method consists of dispersion a known amount of ground (<2 mm sieve) and dry soil in a solution of de-ionized water with sodium hexametaphosphate (dispersing agent). \n",
    "\n",
    "Readings with a hydrometer are made at specific times according to the particle diameter and corresponding sedimentation time in the cylinder calculated based on Stoke's law. To build a detailed curve of particle sizes, hydrometer readings need to be made more frequently. \n",
    "\n",
    "A blank treatment only containing de-ionized water and sodium hexametaphosphate is required to remove the density effect of the dispersing agent. THe blank reading is substracted from each reading before proceding with the computations.\n",
    "\n",
    "In this example we will use a fixed input mass of oven-dried soil of 40 grams.\n",
    "\n",
    "Learn more about the [hydrometer method](https://www.wikiwand.com/en/Soil_texture)\n"
   ]
  },
  {
   "cell_type": "code",
   "execution_count": 9,
   "metadata": {},
   "outputs": [
    {
     "name": "stdin",
     "output_type": "stream",
     "text": [
      "Sample name: Manhattan\n",
      "Blank reading (g/L): 5\n",
      "First reading (g/L): 34\n",
      "Second reading (g/L): 24\n"
     ]
    },
    {
     "name": "stdout",
     "output_type": "stream",
     "text": [
      "Manhattan\n",
      "Sand: 15%, Silt: 25%, Clay: 60%\n"
     ]
    }
   ],
   "source": [
    "# Sample location\n",
    "sample_name = input(\"Sample name:\")\n",
    "\n",
    "# Blank reading\n",
    "blank_reading = float(input(\"Blank reading (g/L):\"))\n",
    "\n",
    "# First reading\n",
    "first_reading = float(input(\"First reading (g/L):\"))\n",
    "\n",
    "# Second reading\n",
    "second_reading = float(input(\"Second reading (g/L):\"))\n",
    "\n",
    "# Calculate percent of sand, silt, and clay\n",
    "# For each soil reading we need to subtract the blank reading\n",
    "dry_soil = 40 # grams\n",
    "sand_content = round((dry_soil - first_reading)/dry_soil*100)\n",
    "clay_content = round(second_reading/dry_soil*100)\n",
    "silt_content = 100 - sand_content - clay_content\n",
    "\n",
    "# Print results to user\n",
    "print(sample_name)\n",
    "print('Sand: {sand}%, Silt: {silt}%, Clay: {clay}%'\n",
    "      .format(sand= sand_content, \n",
    "              silt= silt_content, \n",
    "              clay= clay_content))"
   ]
  }
 ],
 "metadata": {
  "kernelspec": {
   "display_name": "Python 3",
   "language": "python",
   "name": "python3"
  },
  "language_info": {
   "codemirror_mode": {
    "name": "ipython",
    "version": 3
   },
   "file_extension": ".py",
   "mimetype": "text/x-python",
   "name": "python",
   "nbconvert_exporter": "python",
   "pygments_lexer": "ipython3",
   "version": "3.7.6"
  }
 },
 "nbformat": 4,
 "nbformat_minor": 4
}
