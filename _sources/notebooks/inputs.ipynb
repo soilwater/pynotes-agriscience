{
 "cells": [
  {
   "cell_type": "markdown",
   "metadata": {},
   "source": [
    "# Inputs\n",
    "\n",
    "A rather useful feature of Python is its ability to interact with the user to gather information and trigger specific actions. In research this feature can be useful to automate lab routines, reduce data entry errors, and even used for learning and teaching purposes.\n"
   ]
  },
  {
   "cell_type": "markdown",
   "metadata": {},
   "source": [
    "## Unit conversion"
   ]
  },
  {
   "cell_type": "code",
   "execution_count": 3,
   "metadata": {},
   "outputs": [
    {
     "name": "stdin",
     "output_type": "stream",
     "text": [
      "Insert temperature in degrees Fahrenheit: 212\n"
     ]
    },
    {
     "name": "stdout",
     "output_type": "stream",
     "text": [
      "100.0\n"
     ]
    }
   ],
   "source": [
    "F = input(\"Insert temperature in degrees Fahrenheit:\")\n",
    "F = float(F)\n",
    "print( (F-32)*5/9 )\n"
   ]
  },
  {
   "cell_type": "markdown",
   "metadata": {},
   "source": [
    "## Volume of rainfall"
   ]
  },
  {
   "cell_type": "code",
   "execution_count": 4,
   "metadata": {},
   "outputs": [
    {
     "name": "stdin",
     "output_type": "stream",
     "text": [
      "Rainfall in mm 1\n"
     ]
    },
    {
     "name": "stdout",
     "output_type": "stream",
     "text": [
      "1 liters per m^2\n",
      "1000000 liters per km^2\n",
      "1069 gallons per acre\n"
     ]
    }
   ],
   "source": [
    "rainfall = input(\"Rainfall in mm\")\n",
    "rainfall = float(rainfall)/10 # convert to float and then to cm\n",
    "area = 100 * 100 # area in cm^2\n",
    "volume = area*rainfall # volume in cm^3\n",
    "liters = volume / 1000 # 1 liter is 1000 cm^3\n",
    "\n",
    "print(round(liters),'liters per m^2')\n",
    "print(round(liters*10**6),'liters per km^2')\n",
    "print(round(liters*4046.86/3.785),'gallons per acre')\n"
   ]
  }
 ],
 "metadata": {
  "kernelspec": {
   "display_name": "Python 3 (ipykernel)",
   "language": "python",
   "name": "python3"
  },
  "language_info": {
   "codemirror_mode": {
    "name": "ipython",
    "version": 3
   },
   "file_extension": ".py",
   "mimetype": "text/x-python",
   "name": "python",
   "nbconvert_exporter": "python",
   "pygments_lexer": "ipython3",
   "version": "3.9.7"
  }
 },
 "nbformat": 4,
 "nbformat_minor": 4
}
