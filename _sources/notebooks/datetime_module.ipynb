{
 "cells": [
  {
   "cell_type": "markdown",
   "metadata": {},
   "source": [
    "# Datetime Module\n",
    "\n",
    "The `datetime` module is useful to handle arithmetic operations that involve timestamps. With this module we can extract the day, month, year, and even milliseconds from a datetime object and then do some sort of computation with it. The `datetime` module also allows for changing the string format without affecting the timestamp infomration."
   ]
  },
  {
   "cell_type": "code",
   "execution_count": 1,
   "metadata": {},
   "outputs": [],
   "source": [
    "import datetime"
   ]
  },
  {
   "cell_type": "code",
   "execution_count": 2,
   "metadata": {},
   "outputs": [
    {
     "name": "stdout",
     "output_type": "stream",
     "text": [
      "2021-02-01 14:08:37.132024\n",
      "<class 'datetime.datetime'>\n"
     ]
    }
   ],
   "source": [
    "# Get current date\n",
    "currentDate = datetime.datetime.now()\n",
    "print(currentDate)\n",
    "print(type(currentDate))"
   ]
  },
  {
   "cell_type": "code",
   "execution_count": 3,
   "metadata": {},
   "outputs": [
    {
     "name": "stdout",
     "output_type": "stream",
     "text": [
      "2021-02-01\n",
      "14:08:37.132024\n",
      "1\n",
      "2\n",
      "8\n"
     ]
    }
   ],
   "source": [
    "# Specific component of the date (e.g. day, hour, day of the week, etc.)\n",
    "print(currentDate.date())\n",
    "print(currentDate.time())\n",
    "print(currentDate.day)\n",
    "print(currentDate.month)\n",
    "print(currentDate.minute)"
   ]
  },
  {
   "cell_type": "markdown",
   "metadata": {},
   "source": [
    "## Output formats"
   ]
  },
  {
   "cell_type": "code",
   "execution_count": 4,
   "metadata": {},
   "outputs": [
    {
     "name": "stdout",
     "output_type": "stream",
     "text": [
      "Feb\n",
      "February\n",
      "21\n",
      "2021\n",
      "01\n",
      "Mon Feb  1 14:08:37 2021\n",
      "02/01/21\n"
     ]
    }
   ],
   "source": [
    "# Example month format\n",
    "print(currentDate.strftime(\"%b\"))\n",
    "print(currentDate.strftime(\"%B\"))\n",
    "\n",
    "# Example year format\n",
    "print(currentDate.strftime(\"%y\"))\n",
    "print(currentDate.strftime(\"%Y\"))\n",
    "\n",
    "# Example day format\n",
    "print(currentDate.strftime(\"%d\"))\n",
    "\n",
    "# Example full date format\n",
    "print(currentDate.strftime(\"%c\"))\n",
    "print(currentDate.strftime(\"%x\"))\n"
   ]
  },
  {
   "cell_type": "markdown",
   "metadata": {},
   "source": [
    "## Parse a string into a date\n",
    "\n",
    "`.strptime` means *string parse time*"
   ]
  },
  {
   "cell_type": "code",
   "execution_count": 5,
   "metadata": {},
   "outputs": [
    {
     "name": "stdout",
     "output_type": "stream",
     "text": [
      "<class 'str'>\n"
     ]
    }
   ],
   "source": [
    "date_str = \"2020-02-03 14:30:00\"\n",
    "print(type(date_str))\n"
   ]
  },
  {
   "cell_type": "code",
   "execution_count": 6,
   "metadata": {},
   "outputs": [
    {
     "name": "stdout",
     "output_type": "stream",
     "text": [
      "2020-03-02 14:30:00\n",
      "<class 'datetime.datetime'>\n",
      "0\n"
     ]
    }
   ],
   "source": [
    "date_str = datetime.datetime.strptime(date_str, \"%Y-%d-%m %H:%M:%S\") \n",
    "print(date_str)\n",
    "print(type(date_str))\n",
    "print(date_str.weekday())  # Monday is 0 and Sunday is 6"
   ]
  },
  {
   "cell_type": "markdown",
   "metadata": {},
   "source": [
    "## Build a date\n",
    "\n",
    "To create a datetime we use the `datetime.datetime(year, month, day, hour, minute, second, microseconds)` method. It is also possible to generate a new datetime object by only passing a limited number of inputs, such as `datetime.datetime(year, month, day)`."
   ]
  },
  {
   "cell_type": "code",
   "execution_count": 7,
   "metadata": {},
   "outputs": [
    {
     "name": "stdout",
     "output_type": "stream",
     "text": [
      "2018-06-01 08:00:00.000005\n",
      "2018-06-01 00:00:00\n"
     ]
    }
   ],
   "source": [
    "print(datetime.datetime(2018, 6, 1, 8, 0, 0, 5))\n",
    "print(datetime.datetime(2018, 6, 1))"
   ]
  },
  {
   "cell_type": "markdown",
   "metadata": {},
   "source": [
    "## Arthmetic operations with dates\n",
    "\n",
    "Operations with dates are easy using this module. In fact, since handling dates can sometimes be tricky, it is highly recommended to use a module to handle dates to avoid introducing errors."
   ]
  },
  {
   "cell_type": "code",
   "execution_count": 8,
   "metadata": {},
   "outputs": [
    {
     "name": "stdout",
     "output_type": "stream",
     "text": [
      "976 days, 14:09:06.262802\n"
     ]
    }
   ],
   "source": [
    "date_start = datetime.datetime(2018, 6, 1)\n",
    "date_end = datetime.datetime.now()\n",
    "date_diff = date_end - date_start;\n",
    "print(date_diff)"
   ]
  },
  {
   "cell_type": "code",
   "execution_count": 9,
   "metadata": {},
   "outputs": [
    {
     "name": "stdout",
     "output_type": "stream",
     "text": [
      "<class 'datetime.datetime'>\n",
      "<class 'datetime.timedelta'>\n"
     ]
    }
   ],
   "source": [
    "print(type(date_start))  # Class datetime\n",
    "print(type(date_diff))   # Class timedelta"
   ]
  },
  {
   "cell_type": "markdown",
   "metadata": {},
   "source": [
    "# Working with seconds\n",
    "\n",
    "Converting any date and time into seconds also enables the use seconds as a sort of digital number that we can employ to carry operations in a single unit of time. For instance, once we know the difference between two dates in terms of seconds we can integrate this information with the `math` module."
   ]
  },
  {
   "cell_type": "code",
   "execution_count": 24,
   "metadata": {},
   "outputs": [
    {
     "name": "stdout",
     "output_type": "stream",
     "text": [
      "52927612.878049\n"
     ]
    }
   ],
   "source": [
    "print(date_diff.total_seconds()) # Only for timedelta datatype"
   ]
  },
  {
   "cell_type": "code",
   "execution_count": 26,
   "metadata": {},
   "outputs": [
    {
     "name": "stdout",
     "output_type": "stream",
     "text": [
      "612.588112014456\n"
     ]
    }
   ],
   "source": [
    "secs_per_day = 60 * 60 * 24 # 86400 seconds in one day\n",
    "print(date_diff.total_seconds()/secs_per_day)"
   ]
  },
  {
   "cell_type": "code",
   "execution_count": 27,
   "metadata": {},
   "outputs": [
    {
     "name": "stdout",
     "output_type": "stream",
     "text": [
      "52927612\n"
     ]
    }
   ],
   "source": [
    "import math\n",
    "print(math.floor(date_diff.total_seconds())) # Only for timedelta datatype"
   ]
  },
  {
   "cell_type": "markdown",
   "metadata": {},
   "source": [
    "## Add time to existing datetime\n",
    "\n",
    "Sometimes we need to add extra time to an existing datetime object. In this situation, the `timedelta` sub-module becomes handy."
   ]
  },
  {
   "cell_type": "code",
   "execution_count": 3,
   "metadata": {},
   "outputs": [
    {
     "name": "stdout",
     "output_type": "stream",
     "text": [
      "2021-01-13 17:16:12.088240\n",
      "2021-01-20 17:16:12.088240\n"
     ]
    }
   ],
   "source": [
    "current_time = datetime.datetime.now()\n",
    "new_time = current_time + datetime.timedelta(days=7)\n",
    "print(current_time)\n",
    "print(new_time)"
   ]
  },
  {
   "cell_type": "markdown",
   "metadata": {},
   "source": [
    "```{note}\n",
    "If you import the datetime submodule like this: `from datetime import datetime` it will help you write shorter code, but now the `timedelta` submodule is not available. You can import both as follows: `from datetime import datetime, timedelta`\n",
    "```"
   ]
  },
  {
   "cell_type": "markdown",
   "metadata": {},
   "source": [
    "## References\n",
    "\n",
    "Official docs: https://docs.python.org/3/library/datetime.html\n",
    "\n",
    "Data formats: https://docs.python.org/3/library/time.html"
   ]
  }
 ],
 "metadata": {
  "kernelspec": {
   "display_name": "Python 3",
   "language": "python",
   "name": "python3"
  },
  "language_info": {
   "codemirror_mode": {
    "name": "ipython",
    "version": 3
   },
   "file_extension": ".py",
   "mimetype": "text/x-python",
   "name": "python",
   "nbconvert_exporter": "python",
   "pygments_lexer": "ipython3",
   "version": "3.8.5"
  }
 },
 "nbformat": 4,
 "nbformat_minor": 4
}
