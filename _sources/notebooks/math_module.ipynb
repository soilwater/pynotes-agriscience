{
 "cells": [
  {
   "cell_type": "markdown",
   "metadata": {},
   "source": [
    "# Math Module\n",
    "\n",
    "The `math` module is a core Python module that can be helpful for common arithmetic and trigonometric operations."
   ]
  },
  {
   "cell_type": "code",
   "execution_count": 2,
   "metadata": {},
   "outputs": [],
   "source": [
    "# Import module\n",
    "import math"
   ]
  },
  {
   "cell_type": "markdown",
   "metadata": {},
   "source": [
    "## Rounding\n",
    "\n",
    "Before we move too far I need to let you know that the math module does not have a round function. The `round()` function is readily available when we load Python without the need for importing the `math` module. However, the `math` module has some handy methods for rounding up and down."
   ]
  },
  {
   "cell_type": "code",
   "execution_count": 3,
   "metadata": {},
   "outputs": [
    {
     "name": "stdout",
     "output_type": "stream",
     "text": [
      "90.8752\n",
      "90\n",
      "91\n",
      "91\n"
     ]
    }
   ],
   "source": [
    "value = 90.8752\n",
    "print(value)\n",
    "\n",
    "# Floor and ceil and \n",
    "print(math.floor(value))   # largest integer smaller than or equal to a given number.\n",
    "print(math.ceil(value))    # smallest integer greater than or equal to a given number.\n",
    "print(round(value))        # The math module does not have a round function"
   ]
  },
  {
   "cell_type": "markdown",
   "metadata": {},
   "source": [
    "## Trigonometric operations\n",
    "\n",
    "A really useful feature is that it also provides with common constants such as Pi. It also has a function to compute radians, making this core module an excellent choice for trigonometric operations involving the computation of Euclide distance, perimeter, area, and volume of many geometric objects.\n"
   ]
  },
  {
   "cell_type": "code",
   "execution_count": 10,
   "metadata": {},
   "outputs": [
    {
     "name": "stdout",
     "output_type": "stream",
     "text": [
      "3.141592653589793\n"
     ]
    }
   ],
   "source": [
    "# Pi constant\n",
    "print(math.pi)"
   ]
  },
  {
   "cell_type": "code",
   "execution_count": 30,
   "metadata": {},
   "outputs": [
    {
     "name": "stdout",
     "output_type": "stream",
     "text": [
      "3.141592653589793\n"
     ]
    }
   ],
   "source": [
    "# Radians\n",
    "angle = 180 # degrees\n",
    "print(math.radians(angle))"
   ]
  },
  {
   "cell_type": "code",
   "execution_count": 29,
   "metadata": {},
   "outputs": [
    {
     "data": {
      "text/plain": [
       "\u001b[0;31mSignature:\u001b[0m \u001b[0mmath\u001b[0m\u001b[0;34m.\u001b[0m\u001b[0msin\u001b[0m\u001b[0;34m(\u001b[0m\u001b[0mx\u001b[0m\u001b[0;34m,\u001b[0m \u001b[0;34m/\u001b[0m\u001b[0;34m)\u001b[0m\u001b[0;34m\u001b[0m\u001b[0m\n",
       "\u001b[0;31mDocstring:\u001b[0m Return the sine of x (measured in radians).\n",
       "\u001b[0;31mType:\u001b[0m      builtin_function_or_method\n"
      ]
     },
     "metadata": {},
     "output_type": "display_data"
    }
   ],
   "source": [
    "# Trigonometric functions (input is in radians)\n",
    "math.sin?\n"
   ]
  },
  {
   "cell_type": "code",
   "execution_count": 31,
   "metadata": {},
   "outputs": [
    {
     "data": {
      "text/plain": [
       "1.5707963267948966"
      ]
     },
     "execution_count": 31,
     "metadata": {},
     "output_type": "execute_result"
    }
   ],
   "source": [
    "math.radians(90)"
   ]
  },
  {
   "cell_type": "markdown",
   "metadata": {},
   "source": [
    "The docstring of the `sin()` method clearly states that the input argument must be in radians. Note that the computer does not know whether the value is alrady in radians or not. For instance, if want to compute the sine of 90 degrees and we type `math.sin(90)`, the computer assumes that we want the sine of `90 radians`. So, it is our job to ensure that the outputs are meaningful within the context of our particular application.\n",
    "\n",
    ">Always try naive examples fro which you know the answer. This way you can quickly detect if something is not right."
   ]
  },
  {
   "cell_type": "code",
   "execution_count": null,
   "metadata": {},
   "outputs": [],
   "source": [
    "# cosine\n",
    "print(math.cos( math.radians(0) ))\n",
    "\n",
    "# sine\n",
    "print(math.sin( math.radians(90) ))"
   ]
  },
  {
   "cell_type": "markdown",
   "metadata": {},
   "source": [
    "## Not a Number\n",
    "\n",
    "`NaN` stands for \"Not a Number\" and although it may appear to be a string, it is actually interpreted as a `float`. `NaN` is typically used as a placeholder for missing values. \n",
    "\n",
    "```{note}\n",
    "Do not confuse the built-in `NaN` with the Numpy `NaN`.\n",
    "```"
   ]
  },
  {
   "cell_type": "code",
   "execution_count": 4,
   "metadata": {},
   "outputs": [
    {
     "name": "stdout",
     "output_type": "stream",
     "text": [
      "True\n",
      "<class 'float'>\n"
     ]
    }
   ],
   "source": [
    "nan_value = float(\"NaN\")\n",
    "print(math.isnan(nan_value))\n",
    "print(type(nan_value))"
   ]
  },
  {
   "cell_type": "markdown",
   "metadata": {},
   "source": [
    "## Calculate area of a circle\n"
   ]
  },
  {
   "cell_type": "code",
   "execution_count": 13,
   "metadata": {},
   "outputs": [
    {
     "name": "stdout",
     "output_type": "stream",
     "text": [
      "A circle of 2.5 cm in diameter has an area of 4.9 cm^2\n"
     ]
    }
   ],
   "source": [
    "diameter = 2.5 # cm\n",
    "circle_area = round(math.pi * (diameter/2)**2, 1)\n",
    "print('A circle of', diameter, 'cm in diameter has an area of', circle_area, 'cm^2')\n"
   ]
  },
  {
   "cell_type": "markdown",
   "metadata": {},
   "source": [
    "## Calculate vapor pressure deficit using math module\n",
    "\n",
    "You can also use the `math` module for many other calculations. The example below for computing the vapor pressure deficit (VPD) based on air temperature and air relative humidity amkes use of the exponential function `math.exp()`. Computing the VPD takes three steps:\n",
    "\n",
    "1. Compute the hypothetical saturated vapor pressure of air\n",
    "\n",
    "2. Compute actual vapor pressure of the air\n",
    "\n",
    "3. The difference between the two is know as the vapor pressure deficit\n",
    "\n",
    "### Formula for saturated vapor pressure\n",
    "\n",
    "This is know as the Tetens equation for temperatures above 0 Celsius and has units of kPa:\n",
    "\n",
    "$$ e_s = 0.611 \\; exp\\Bigg( \\frac{17.3 \\; T_{air}}{T_{air} + 237}\\Bigg)$$\n",
    "\n",
    "$T_{air}$ is air temperature in degrees Celsius\n",
    "\n",
    "### Formula for actual vapor pressure\n",
    "\n",
    "$$ e_a = e_s * RH/100$$\n",
    "\n",
    "$RH$ is relative humidity expressed as a percentage\n",
    "\n",
    "### Formula for vapor pressure deficit\n",
    "\n",
    "$$ VPD = e_s - e_a $$"
   ]
  },
  {
   "cell_type": "code",
   "execution_count": 34,
   "metadata": {},
   "outputs": [
    {
     "name": "stdout",
     "output_type": "stream",
     "text": [
      "3.11 kPa\n"
     ]
    }
   ],
   "source": [
    "T_air = 35; # Celsius\n",
    "RH = 45; # Percent\n",
    "\n",
    "e_sat = 0.611 * math.exp( (17.3*T_air)/(T_air + 237) ) # kPa\n",
    "e_act = e_sat * RH/100;\n",
    "\n",
    "vpd = e_sat - e_act\n",
    "print(str( round(vpd,2) ) + ' kPa')"
   ]
  },
  {
   "cell_type": "markdown",
   "metadata": {},
   "source": [
    "## References\n",
    "\n",
    "Official Python Math module documentation: https://docs.python.org/3/library/math.html"
   ]
  }
 ],
 "metadata": {
  "kernelspec": {
   "display_name": "Python 3",
   "language": "python",
   "name": "python3"
  },
  "language_info": {
   "codemirror_mode": {
    "name": "ipython",
    "version": 3
   },
   "file_extension": ".py",
   "mimetype": "text/x-python",
   "name": "python",
   "nbconvert_exporter": "python",
   "pygments_lexer": "ipython3",
   "version": "3.8.5"
  }
 },
 "nbformat": 4,
 "nbformat_minor": 4
}
