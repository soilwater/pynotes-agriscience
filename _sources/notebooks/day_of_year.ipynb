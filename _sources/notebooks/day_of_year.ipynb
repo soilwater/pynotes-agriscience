{
 "cells": [
  {
   "cell_type": "markdown",
   "metadata": {},
   "source": [
    "# Day of the Year\n",
    "\n",
    "The day of the year (commonly abbreviate as DOY) is a useful variable to predict phenomena tightly related to the recurrent Earth orbital cycles around the sun. Many meteorological and physiological process are related to solar radiation and/or temperature patterns. The day of the year provides a convenient date-agnostic framework to predict these patterns without much additional data.\n",
    "\n",
    "The key idea here is to realize that the day of the year is defined relative to January 1. So this will be our baseline for any year.\n"
   ]
  },
  {
   "cell_type": "code",
   "execution_count": 2,
   "metadata": {},
   "outputs": [],
   "source": [
    "import datetime\n",
    "import math\n"
   ]
  },
  {
   "cell_type": "code",
   "execution_count": 4,
   "metadata": {},
   "outputs": [],
   "source": [
    "# Define a specific date\n",
    "input_date = datetime.datetime(2020,2,27) # Unmute this line to compute DOY for any date\n"
   ]
  },
  {
   "cell_type": "markdown",
   "metadata": {},
   "source": [
    ">When working with dates and time, using total seconds sometimes can make operations way easier. Remember that there are 3600 seconds in one hour and 86400 seconds in one day."
   ]
  },
  {
   "cell_type": "code",
   "execution_count": 5,
   "metadata": {},
   "outputs": [
    {
     "name": "stdout",
     "output_type": "stream",
     "text": [
      "Day of the year: 58\n"
     ]
    }
   ],
   "source": [
    "#current_date = datetime.datetime.now()\n",
    "date_one = datetime.datetime(input_date.year,1,1)\n",
    "date_diff = current_date - date_one; # Operations between datetime objects result in datetime objects\n",
    "\n",
    "doy_float = date_diff.total_seconds()/86400 + 1 # gives the doy with decimal places\n",
    "doy_int = math.floor(doy_float) # found that total_seconds is a method from the error of dateDiff.total_seconds\n",
    "\n",
    "print('Day of the year: ' + str(doy_int))\n"
   ]
  },
  {
   "cell_type": "markdown",
   "metadata": {},
   "source": [
    "Note that adding a unit in doy_float makes sense if you just want to know the DOY in integer format. In its current state, the code will return DOY=1 for 1-Jan, which is what we expect. If you also want to return the fraction of DOY, then you need to realize that 0.5 would 1-Jan at noon. However, most applications demanding the DOY will assume that 1-Jan is day 1 and not day 0. If this is what you need, then directly working in seconds as a proxy for a serial dates number might be the way to go.\n"
   ]
  },
  {
   "cell_type": "code",
   "execution_count": 6,
   "metadata": {},
   "outputs": [
    {
     "name": "stdout",
     "output_type": "stream",
     "text": [
      "58\n"
     ]
    }
   ],
   "source": [
    "# Alternative using built-in methods\n",
    "day_of_year = input_date.timetuple().tm_yday\n",
    "print(day_of_year)\n"
   ]
  }
 ],
 "metadata": {
  "kernelspec": {
   "display_name": "Python 3",
   "language": "python",
   "name": "python3"
  },
  "language_info": {
   "codemirror_mode": {
    "name": "ipython",
    "version": 3
   },
   "file_extension": ".py",
   "mimetype": "text/x-python",
   "name": "python",
   "nbconvert_exporter": "python",
   "pygments_lexer": "ipython3",
   "version": "3.8.5"
  }
 },
 "nbformat": 4,
 "nbformat_minor": 4
}
