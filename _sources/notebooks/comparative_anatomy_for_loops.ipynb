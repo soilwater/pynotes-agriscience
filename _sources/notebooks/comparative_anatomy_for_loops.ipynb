{
 "cells": [
  {
   "cell_type": "markdown",
   "metadata": {},
   "source": [
    "# Comparative Anatomy of For Loops\n",
    "\n",
    "A short example was coded in several common languages for data science and scientific computing to illustrate syntax similarities of `for loops`. The goal is to understand that if you know how to break down a problem logically, then implementing the logic in different languages is mostly a matter of learning some syntax. Certainly, experience with a particular language will allow you to write better and optimized code, but you can translate and prototype simple scripts or code snippets fairly quickly.\n",
    "\n",
    "To simplify the example I wrote a simple code that returns the first ten numbers of the Fibonacci sequence: `0, 1, 1, 2, 3, 5, 8, 13, 21, 34`\n",
    "\n",
    "Note that in the examples below the step of the loop was added for completeness. The default value of the step is one and in most cases you will not need to specify the step increment of the `for loop` when the increment is assumed to be one unit.\n"
   ]
  },
  {
   "cell_type": "markdown",
   "metadata": {},
   "source": [
    "## Python\n",
    "\n",
    "```python\n",
    "F_seq = [0,1] # Seed values\n",
    "N = 10\n",
    "step = 1\n",
    "\n",
    "for i in range(2,N,step):\n",
    "    F_seq_new = sum(F_seq[-2:])\n",
    "    F_seq.append(F_seq_new)\n",
    "```\n",
    "\n",
    "```\n",
    "[0, 1, 1, 2, 3, 5, 8, 13, 21, 34]\n",
    "```\n"
   ]
  },
  {
   "cell_type": "markdown",
   "metadata": {},
   "source": [
    "---\n",
    "\n",
    "## Matlab\n",
    "\n",
    "Appended new values using the `(end+1)` notation. This is inefficient and not recommended in Matlab, but it was used to illustrate a straight forward solution\n",
    "```matlab\n",
    "F_seq = [0,1]; % Seed values\n",
    "N = 10;\n",
    "step =1;\n",
    "\n",
    "for i = 3:step:N\n",
    "    F_seq_new = sum(F_seq(end-1:end)); % Get last two items of the array\n",
    "    F_seq(end+1) = F_seq_new;          % Append new value.\n",
    "end\n",
    "```\n",
    "\n",
    "```\n",
    "0     1     1     2     3     5     8    13    21    34\n",
    "```"
   ]
  },
  {
   "cell_type": "markdown",
   "metadata": {},
   "source": [
    "---\n",
    "\n",
    "## Javascript\n",
    "\n",
    "Solved without using the reduce() method for easier readability for non Javascript programmers. Javascript does not have a `sum()` method.\n",
    "\n",
    "```javascript\n",
    "F_seq = [0,1];\n",
    "\n",
    "for (i=2; i<10; i++){\n",
    "    F_last_two_digits = F_seq.slice(-2); // Get last two elements of the sequence\n",
    "    F_seq_new = F_last_two_digits[0] + F_last_two_digits[1]; // Add the last two elements\n",
    "    F_seq.push(F_seq_new);  // Append to array\n",
    "}\n",
    "```\n",
    "\n",
    "```\n",
    " [0, 1, 1, 2, 3, 5, 8, 13, 21, 34]\n",
    " ```"
   ]
  },
  {
   "cell_type": "markdown",
   "metadata": {},
   "source": [
    "---\n",
    "\n",
    "## Julia\n",
    "\n",
    "```julia\n",
    "F_seq = [0,1] # Seed values\n",
    "N = 10\n",
    "step =1\n",
    "\n",
    "for i = 3:step:N\n",
    "    F_seq_new = sum(F_seq[end-1:end]) # Get last two items of the array\n",
    "    append!(F_seq,F_seq_new)          # Append new value.\n",
    "end\n",
    "```\n",
    "\n",
    "```\n",
    "10-element Array{Int64,1}:\n",
    "  0\n",
    "  1\n",
    "  1\n",
    "  2\n",
    "  3\n",
    "  5\n",
    "  8\n",
    " 13\n",
    " 21\n",
    " 34\n",
    " ```"
   ]
  },
  {
   "cell_type": "markdown",
   "metadata": {},
   "source": [
    "## Synthesis\n",
    "\n",
    "- All languages contain a keyword to define the `for loop`\n",
    "\n",
    "- All languages contain syntax for defining the start, end, and step of the iterative process\n",
    "\n",
    "- All languages specify an iterator that carries the current value of the iteration"
   ]
  }
 ],
 "metadata": {
  "kernelspec": {
   "display_name": "Python 3",
   "language": "python",
   "name": "python3"
  },
  "language_info": {
   "codemirror_mode": {
    "name": "ipython",
    "version": 3
   },
   "file_extension": ".py",
   "mimetype": "text/x-python",
   "name": "python",
   "nbconvert_exporter": "python",
   "pygments_lexer": "ipython3",
   "version": "3.7.6"
  }
 },
 "nbformat": 4,
 "nbformat_minor": 4
}
