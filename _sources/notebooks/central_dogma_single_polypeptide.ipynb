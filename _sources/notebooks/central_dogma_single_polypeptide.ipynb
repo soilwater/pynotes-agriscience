{
 "cells": [
  {
   "cell_type": "markdown",
   "metadata": {},
   "source": [
    "# Central Dogma: Decoding a Single Polypeptide\n",
    "\n",
    "*The DNA is the carrier of genetic information and its simplest form can be viewed as a long string of characters that encode biological features and attributes*\n",
    "\n",
    "The central dogma of molecular biology consists of a two step process to convert the information contained in DNA sequences into proteins. These steps are transcription (DNA into messenger RNA) and translation (messenger RNA into aminoacids). The RNA polymerase is an enzyme that participates in the transcription process, while ribosomes are large molecular structures that translate messenger RNA into a chain of aminoacids to form polypetides and proteines.\n",
    "\n",
    "\n",
    "<img src=\"https://www.nature.com/scitable/content/ne0000/ne0000/ne0000/ne0000/105292327/44350_36a.jpg\">\n",
    "\n",
    "**Figure: A gene is expressed through the processes of transcription and translation.\n",
    "During transcription, the enzyme RNA polymerase (green) uses DNA as a template to produce a pre-mRNA transcript (pink). The pre-mRNA is processed to form a mature mRNA molecule that can be translated to build the protein molecule (polypeptide) encoded by the original gene.\n",
    "Source: Nature Education.**\n",
    "\n",
    "You can learn more by reading an excellent educational article by [Suzanne Clancy and William Brown (2008)](https://www.nature.com/scitable/topicpage/translation-dna-to-mrna-to-protein-393/)\n",
    "\n",
    "The **goal** of this exercise is to use Python to emulate both the RNA polymerase and a ribosome to decode the aminoacids present in a sequence of DNA. To accomplish this goal we will need a DNA sequence and a lookup table to convert codons into aminoacids. I transcribed the information in the table below into a JSON file.\n",
    "\n",
    "<img src=\"https://www.nature.com/scitable/content/ne0000/ne0000/ne0000/ne0000/105292568/44376_38b.jpg\">\n",
    "\n",
    "**Figure: The large ribosomal subunit binds to the small ribosomal subunit to complete the initiation complex.\n",
    "The initiator tRNA molecule, carrying the methionine amino acid that will serve as the first amino acid of the polypeptide chain, is bound to the P site on the ribosome. The A site is aligned with the next codon, which will be bound by the anticodon of the next incoming tRNA. Source: Nature Education.** \n",
    "\n",
    "Codons refer to the triplets in the mRNA. The triplets in the sequence of transfer RNA (tRNA) are called anti-codons and are complementary to the codons in the mRNA. In the figure above, `AUG` (in the 5' to 3' mRNA) is the codon for Methionine, while `UAC` (in the tRNA) is the anti-codon for Methionine\n",
    "\n",
    "There are total of 23 essential aminoacids that encoded in codons consisting of three bases. Some codons are dedicated at instructing the ribosomes the START or STOP of the sequence. The genetic code includes 64 possible permutations, or combinations, of three-letter nucleotide sequences that can be made from the four nucleotides. Of the 64 codons, 61 represent amino acids, and three are stop signals. For example, the codon CAG represents the amino acid glutamine, and TAA is a stop codon. The genetic code is described as degenerate, or redundant, because a single amino acid may be coded for by more than one codon. When codons are read from the nucleotide sequence, they are read in succession and do not overlap with one another.\n",
    "\n",
    "## Assumptions\n",
    "\n",
    "* For simplicity we will ignore additional portions of DNA such as promoter and a terminator regions that play an important role during transcription, but that do not contribute the sequence of the polypeptide.\n",
    "\n",
    "* All bases will be represented in upper case for consistency.\n",
    "\n",
    "* We will assume that the ribosome is made of a single unit and contains a single activation site. So basically a simplified version of the figure above.\n",
    "\n",
    "\n",
    "As usual we will start by importing the necessary modules and by loading all the data for the exercise."
   ]
  },
  {
   "cell_type": "code",
   "execution_count": 11,
   "metadata": {},
   "outputs": [],
   "source": [
    "# Import modules\n",
    "import pandas as pd\n"
   ]
  },
  {
   "cell_type": "code",
   "execution_count": 12,
   "metadata": {},
   "outputs": [
    {
     "data": {
      "text/html": [
       "<div>\n",
       "<style scoped>\n",
       "    .dataframe tbody tr th:only-of-type {\n",
       "        vertical-align: middle;\n",
       "    }\n",
       "\n",
       "    .dataframe tbody tr th {\n",
       "        vertical-align: top;\n",
       "    }\n",
       "\n",
       "    .dataframe thead th {\n",
       "        text-align: right;\n",
       "    }\n",
       "</style>\n",
       "<table border=\"1\" class=\"dataframe\">\n",
       "  <thead>\n",
       "    <tr style=\"text-align: right;\">\n",
       "      <th></th>\n",
       "      <th>codon</th>\n",
       "      <th>letter</th>\n",
       "      <th>aminoacid</th>\n",
       "    </tr>\n",
       "  </thead>\n",
       "  <tbody>\n",
       "    <tr>\n",
       "      <th>0</th>\n",
       "      <td>AAA</td>\n",
       "      <td>K</td>\n",
       "      <td>Lysine</td>\n",
       "    </tr>\n",
       "    <tr>\n",
       "      <th>1</th>\n",
       "      <td>AAC</td>\n",
       "      <td>N</td>\n",
       "      <td>Asparagine</td>\n",
       "    </tr>\n",
       "    <tr>\n",
       "      <th>2</th>\n",
       "      <td>AAG</td>\n",
       "      <td>K</td>\n",
       "      <td>Lysine</td>\n",
       "    </tr>\n",
       "    <tr>\n",
       "      <th>3</th>\n",
       "      <td>AAU</td>\n",
       "      <td>N</td>\n",
       "      <td>Asparagine</td>\n",
       "    </tr>\n",
       "    <tr>\n",
       "      <th>4</th>\n",
       "      <td>ACA</td>\n",
       "      <td>T</td>\n",
       "      <td>Threonine</td>\n",
       "    </tr>\n",
       "  </tbody>\n",
       "</table>\n",
       "</div>"
      ],
      "text/plain": [
       "  codon letter   aminoacid\n",
       "0   AAA      K      Lysine\n",
       "1   AAC      N  Asparagine\n",
       "2   AAG      K      Lysine\n",
       "3   AAU      N  Asparagine\n",
       "4   ACA      T   Threonine"
      ]
     },
     "execution_count": 12,
     "metadata": {},
     "output_type": "execute_result"
    }
   ],
   "source": [
    "# Read codon-aminoacids lookup table\n",
    "# Note that the table mathes aminoacids to codons (not the anti-codon)\n",
    "lookup = pd.read_csv('../datasets/codon_aminoacids.csv')\n",
    "lookup.head()\n"
   ]
  },
  {
   "cell_type": "code",
   "execution_count": 13,
   "metadata": {},
   "outputs": [
    {
     "name": "stdout",
     "output_type": "stream",
     "text": [
      "TACCTATTTCACTGCCGTCCGTTGCACTACGAACGGAAGCCGTGCTCAGACCAACACGTCCAGCAACAAAGAACT\n"
     ]
    }
   ],
   "source": [
    "# Random DNA sequence\n",
    "# Source: https://www.bioinformatics.org\n",
    "DNA = 'tacctatttcactgccgtccgttgcactacgaacggaagccgtgctcagaccaacacgtccagcaacaaagaact'\n",
    "DNA = DNA.upper()\n",
    "print(DNA)\n"
   ]
  },
  {
   "cell_type": "markdown",
   "metadata": {},
   "source": [
    "I decided to keep it simple, but you can create longer and more diverse DNA sequences using this [random coding DNA tool](https://www.bioinformatics.org/sms2/random_coding_dna.html). For clarity, notice that this tool already provides the complementary DNA strand. Since in this exercise we are also implementing the transcription step I reversed the DNA sequence obtained from the website. Here is the original DNA strand that I obtained from the online tool: `atggataaagtgacggcaggcaacgtgatgcttgccttcggcacgagtctggttgtgcaggtcgttgtttcttga`, which I reversed using the code from the `complementaty DNA sequence` exercise. If you don't do this step, the code will still decode aminoacids, but the resulting polypeptide will not look right (i.e. Methionine will not be the first aminoacid). I simply reversed the DNA strand to closely match textbook examples and available material online."
   ]
  },
  {
   "cell_type": "markdown",
   "metadata": {},
   "source": [
    "## Transcription\n",
    "\n",
    "Given a sequence of DNA bases we need to find the complementary strand. The catch here is that we also need to account for the fact that the base `thymine` is replaced by the base `uracil` in RNA.\n",
    "\n",
    "To check for potential typos in the sequence of DNA or to prevent that the user feeds a sequence of mRNA instead of DNA to the transcription function, we will use the `raise` statement, which will automatically stop and exit the `for` loop and throw a custom error message if the code finds a base a base other than A,T,C, or G. The location of the `raise` statement is crucial since we only want to trigger this action if a certain condition is met (i.e. we find an unknown base). So, we will place the `raise` statement inside the `if` statement within the `for` loop. We will also return the location in the sequence of the unknown base using the `find()` method. \n",
    "\n",
    "The error catching method described above is simple and practical for small applications, but it has some limitations. For instance, we cannot identify whether there are more than one unknwon bases and we cannot let the user know the location of all these bases. Nonetheless, this is a good starting point.\n"
   ]
  },
  {
   "cell_type": "code",
   "execution_count": 18,
   "metadata": {},
   "outputs": [],
   "source": [
    "def transcription(DNA):\n",
    "    '''\n",
    "    Docstring: Function that converts a strand of DNA into \n",
    "    a strand of messenger RNA based on the following nucleotide paris\n",
    "    A-U, T-A, C-G, G-C.\n",
    "    \n",
    "    Input must be a single strand of DNA in string format.\n",
    "    '''\n",
    "    mRNA = '' # initialize strand of messenger RNA\n",
    "    for base in DNA:\n",
    "        if base == 'A':\n",
    "            mRNA += 'U'\n",
    "        elif base == 'T':\n",
    "            mRNA += 'A'\n",
    "        elif base == 'C':\n",
    "            mRNA += 'G'\n",
    "        elif base == 'G':\n",
    "            mRNA += 'C'\n",
    "        else:\n",
    "            errorMessage = 'Unknown base: ' + base + ' found at: ' + str(DNA.find(base))\n",
    "            raise Exception(errorMessage)\n",
    "    \n",
    "    return mRNA\n"
   ]
  },
  {
   "cell_type": "markdown",
   "metadata": {},
   "source": [
    "After solving the problem with a short script, we could easily convert the script into a function. This will allow us to use the function multiple times without re-writing the instructions."
   ]
  },
  {
   "cell_type": "markdown",
   "metadata": {},
   "source": [
    "## Translation"
   ]
  },
  {
   "cell_type": "markdown",
   "metadata": {},
   "source": [
    "We are at a breakpoint. We loaded the lookup table and we have the mRNA sequence. Our next step is to solve the translation problem. Basically we need to find a way to search the matching aminoacid for any given codon. If we we find a way to do this, then we can implement it into a `for` loop and apply to the entire mRNA sequence. We will start simple, I want to show you the value of a trivial example. \n"
   ]
  },
  {
   "cell_type": "code",
   "execution_count": 9,
   "metadata": {},
   "outputs": [
    {
     "data": {
      "text/plain": [
       "0    Lysine\n",
       "Name: aminoacid, dtype: object"
      ]
     },
     "execution_count": 9,
     "metadata": {},
     "output_type": "execute_result"
    }
   ],
   "source": [
    "# Test that we can match a codon an retrieve the aminoacid\n",
    "aa_idx = lookup.codon == 'AAA' # AAA is a possible codon from the lookup the table\n",
    "lookup.aminoacid[aa_idx]       # Use the resulting boolean vector to obtain the aminoacid\n"
   ]
  },
  {
   "cell_type": "markdown",
   "metadata": {},
   "source": [
    "We cracked the translation problem! The statement can successfully match and retrieve the name of the matching aminoacid given a codon of three bases. This is exactly what we mean with breaking down problems. It can be extremely rewarding to solve small bits of code and will prevent you from writing long chunks of code that are hard to troubleshoot. With practice you will be able to learn how to breakdown large problems into small pieces that can be solved as a logical sequence of smaller problems.\n",
    "\n",
    "Let's not get too excited, while the answer is correct, the format does not seem entirely correct. We did not obtain a string. The answer also contains additional information (e.g. Name and dtype) about the object. We need to keep in mind that we need to be able to use the resulting string to do something with it (e.g. create a chain of aminoacid names, which will resemble a polypeptide).\n",
    "\n",
    "So here is a better solution to extract the information we really need:"
   ]
  },
  {
   "cell_type": "code",
   "execution_count": 164,
   "metadata": {},
   "outputs": [
    {
     "data": {
      "text/plain": [
       "'Lysine'"
      ]
     },
     "execution_count": 164,
     "metadata": {},
     "output_type": "execute_result"
    }
   ],
   "source": [
    "lookup.aminoacid[aa_idx].values[0] # This syntax access the string within the Pandas object"
   ]
  },
  {
   "cell_type": "markdown",
   "metadata": {},
   "source": [
    "Now we can proceed to translate the mRNA into a chain of aminoacids"
   ]
  },
  {
   "cell_type": "code",
   "execution_count": 20,
   "metadata": {},
   "outputs": [],
   "source": [
    "def translation(mRNA):\n",
    "    '''\n",
    "    Docstring: Function that trsnlates a strand of mRNA into \n",
    "    a sequence of aminoacids, which is know as a polypeptide.\n",
    "    \n",
    "    Input must be a single strand of mRNA in string format.\n",
    "    '''\n",
    "        \n",
    "    # Initial conditions of our ribosome\n",
    "    polypeptide = [];\n",
    "\n",
    "    # Iterate over each codon triplet. We will use a step of 3 in the loop.\n",
    "    for i in range(0,len(mRNA)-2,3):\n",
    "        codon = mRNA[i:i+3] # Add 3 to avoid overlapping the bases between iterations.\n",
    "        aminoacid_idx = lookup.codon == codon # Match current codon with all codons in lookup table\n",
    "        aminoacid = lookup.aminoacid[aminoacid_idx].values[0]\n",
    "        polypeptide.append(aminoacid)\n",
    "\n",
    "    return polypeptide\n"
   ]
  },
  {
   "cell_type": "markdown",
   "metadata": {},
   "source": [
    "## DNA in action"
   ]
  },
  {
   "cell_type": "code",
   "execution_count": 22,
   "metadata": {},
   "outputs": [
    {
     "name": "stdout",
     "output_type": "stream",
     "text": [
      "DNA sequence: TACCTATTTCACTGCCGTCCGTTGCACTACGAACGGAAGCCGTGCTCAGACCAACACGTCCAGCAACAAAGAACT\n",
      "mRNA sequence: AUGGAUAAAGUGACGGCAGGCAACGUGAUGCUUGCCUUCGGCACGAGUCUGGUUGUGCAGGUCGUUGUUUCUUGA\n",
      "Polypeptide: Methionine-Aspartic_acid-Lysine-Valine-Threonine-Alanine-Glycine-Asparagine-Valine-Methionine-Leucine-Alanine-Phenylalanine-Glycine-Threonine-Serine-Leucine-Valine-Valine-Glutamine-Valine-Valine-Valine-Serine-Stop\n"
     ]
    }
   ],
   "source": [
    "mRNA = transcription(DNA)\n",
    "polypeptide = translation(mRNA)\n",
    "\n",
    "print('DNA sequence:',DNA)\n",
    "print('mRNA sequence:',mRNA)\n",
    "print('Polypeptide:','-'.join(polypeptide))"
   ]
  },
  {
   "cell_type": "markdown",
   "metadata": {},
   "source": [
    "Despite some simplifications, our exercise makes sense. Methionine is the first aminoacid of new proteins (although it can be removed in subsequent steps) and our last codon resulted to be a stop codon. The resulting sequence is our polypeptide!\n",
    "\n",
    "If you deal with DNA and mRNA seqeuences on a daily basis, consider creating a module with transcription and translation functions that you can readily use in multiple projects.\n",
    "\n",
    "Our code can only handle a single sequence encoding a single polypeptide. Below I leave a DNA sequence encoding 3 polypeptides. Can you write a function capable of decoding a DNA sequence of multiple polypeptides, each with different number of aminoacids?\n",
    "\n",
    "`TACTCGTCACAGGTTACCCCAAACATTTACTGCGACGTATAAACTTACTGCACAAATGTGACT`"
   ]
  },
  {
   "cell_type": "markdown",
   "metadata": {},
   "source": [
    "## References\n",
    "\n",
    "Clancy, S. and Brown, W., 2008. Translation: DNA to mRNA to protein. Nature Education, 1(1), p.101.\n",
    "\n",
    "Stothard P. 2000. The Sequence Manipulation Suite: JavaScript programs for analyzing and formatting protein and DNA sequences. Biotechniques 28:1102-1104.\n"
   ]
  }
 ],
 "metadata": {
  "kernelspec": {
   "display_name": "Python 3",
   "language": "python",
   "name": "python3"
  },
  "language_info": {
   "codemirror_mode": {
    "name": "ipython",
    "version": 3
   },
   "file_extension": ".py",
   "mimetype": "text/x-python",
   "name": "python",
   "nbconvert_exporter": "python",
   "pygments_lexer": "ipython3",
   "version": "3.5.6"
  }
 },
 "nbformat": 4,
 "nbformat_minor": 4
}
