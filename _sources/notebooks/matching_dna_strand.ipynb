{
 "cells": [
  {
   "cell_type": "markdown",
   "metadata": {},
   "source": [
    "# Complementary DNA sequence\n",
    "\n",
    "The *Deoxyribonucleic acid* (DNA) is the carrier of genetic information and in its simplest form can be viewed as a long string of characters that encode biological features and attributes.\n",
    "\n",
    "The DNA is an organic molecule consisting of a sequence of two strands held together by complemetary nucleotides (adenine-thymine [A-T] and cytosine-guanine [C-G]). The individual nucleotides consist of a sugar (the deoxyribose) and phosphate group (Figure 1). This sequence of nucleotides carries genetic information and through the two-step process of transcription and translation organisms can decode it to create aminoacids and build specific proteins. The process of transcription and translation is universal across organisms and is considered to be the central dogma of molecular biology.\n",
    "\n",
    "<img src=\"https://upload.wikimedia.org/wikipedia/commons/e/e4/DNA_chemical_structure.svg\" alt=\"sketch_image\" width=\"400\"/>\n",
    "\n",
    "*Figure 1: In the DNA segment shown, the 5′ to 3′ directions are down the left strand and up the right strand. Figure created by Madeleine Price Ball* Source: [Wikipedia](https://en.wikipedia.org/wiki/File:DNA_\n",
    "chemical_structure.svg#file)\n",
    "\n",
    "The goal of the exercise is to write a script that finds the complementary DNA sequence of a portion of DNA from *Saccharomyces cerevisiae* (Baker's yeast). This is an actual DNA sequence written in the 5' to 3' direction. You will need to handle the extra header lines at the top of the file using Python. The function needs to generate the complementary sequence in the 3' to 5' direction.\n",
    "\n",
    "Use your knowledge of basic biology to assign the complementary DNA bases (i.e. A-T and C-G).\n",
    "\n",
    "The reasoning behind this challenge is as follows:\n",
    "\n",
    "- We scan each base of a long DNA sequence using a for loop\n",
    "- We use a boolean statement to check the nucleotide.\n",
    "- Return the matching nucleotide\n",
    "- Move onto the next base\n",
    "\n",
    "## Set some rules\n",
    "\n",
    "- The function must accept a single, long `input` in `string` format consisting of DNA bases.\n",
    "\n",
    "- The function must `return` the matching DNA strand as a single, long `string` of DNA bases.\n",
    "\n",
    "- If the function finds an unknown base other than A, G, T, and C (e.g. U for Uracil or something else, perhaps a typo), then the function must return a message detailing the position and value of the unknown base.\n",
    "\n",
    ">The original DNA sequence is not corrupted, but our code should handle unknown bases. When an unknownThe code should simply stop and let the user know that there is an unknown base. That is all. In real life a human would need to check what is going on.\n",
    "\n",
    "- The function should not print the string when called (it might be too long).\n",
    "\n",
    "## Dataset\n",
    "\n",
    "The sequence was obtained from the National Center for Biotechnology Information. You can find more information about this sequence (that I picked at random) in the file header lines.\n",
    "\n",
    "Before you start writing any code I highly recommend opening and inspecting the file containing the DNA sequence to learn how the DNA information is organinzed. Some coding decisions will depend on the structure of the file.\n",
    "\n",
    ">**Important**: Avoid removing the header lines or altering the DNA sequence by hand, this will violate the entire purpose of using coding to generate reproducible research. Header lines might seem annoying, but they provide valuable information about the dataset.\n",
    "\n"
   ]
  },
  {
   "cell_type": "code",
   "execution_count": 3,
   "metadata": {},
   "outputs": [],
   "source": [
    "# Read file\n",
    "dna = open(\"../datasets/dna_sequence.txt\").read().split('\\n')\n"
   ]
  },
  {
   "cell_type": "code",
   "execution_count": 4,
   "metadata": {},
   "outputs": [
    {
     "name": "stdout",
     "output_type": "stream",
     "text": [
      "['LOCUS: SCU49845', 'ACCESSION: U49845', \"ORGANISM: Saccharomyces cerevisiae (baker's yeast)          \", 'AUTHORS: Roemer,T., Madden,K., Chang,J. and Snyder,M.', 'TITLE: Selection of axial growth sites in yeast requires Axl2p, a novel plasma membrane glycoprotein', 'JOURNAL: Genes Dev. 10 (7), 777-793 (1996)', 'PUBMED: 8846915', 'SOURCE: https://www.ncbi.nlm.nih.gov/nuccore/U49845.1?report=genbank&to=5028', 'GATCCTCCATATACAACGGTATCTCCACCTCAGGTTTAGATCTCAACAACGGAACCATTGCCGACATGAG', 'ACAGTTAGGTATCGTCGAGAGTTACAAGCTAAAACGAGCAGTAGTCAGCTCTGCATCTGAAGCCGCTGAA']\n"
     ]
    }
   ],
   "source": [
    "# Inspect data\n",
    "print(dna[0:10])\n"
   ]
  },
  {
   "cell_type": "code",
   "execution_count": 5,
   "metadata": {},
   "outputs": [],
   "source": [
    "# Remove headerlines and merge list elements into a single string\n",
    "dna = ''.join(dna[8:])\n"
   ]
  },
  {
   "cell_type": "code",
   "execution_count": 6,
   "metadata": {},
   "outputs": [
    {
     "name": "stdout",
     "output_type": "stream",
     "text": [
      "<class 'str'>\n",
      "5028\n"
     ]
    }
   ],
   "source": [
    "# Let's examine the type and length of the returned variable \n",
    "print(type(dna)) # type string\n",
    "print(len(dna))\n"
   ]
  },
  {
   "cell_type": "code",
   "execution_count": 13,
   "metadata": {},
   "outputs": [],
   "source": [
    "# Define function\n",
    "def dnamatching(strand):\n",
    "    '''\n",
    "    Function that finds the matching strand of a sequence of DNA bases\n",
    "    Input: string of DNA bases\n",
    "    Author: Andres Patrignani\n",
    "    Date: 22-Feb-2019\n",
    "    '''\n",
    "    matching_strand = ''\n",
    "    for k,base in enumerate(strand):\n",
    "        if base == 'A':\n",
    "            matching_strand += 'T'\n",
    "        elif base == 'T':\n",
    "            matching_strand += 'A'\n",
    "        elif base == 'C':\n",
    "            matching_strand += 'G'\n",
    "        elif base == 'G':\n",
    "            matching_strand += 'C'\n",
    "        else:\n",
    "            return print('Unknown base', base, 'found in position:', k)\n",
    "        \n",
    "    return matching_strand"
   ]
  },
  {
   "cell_type": "code",
   "execution_count": 14,
   "metadata": {},
   "outputs": [
    {
     "data": {
      "text/plain": [
       "'CTAGGAGGTA'"
      ]
     },
     "execution_count": 14,
     "metadata": {},
     "output_type": "execute_result"
    }
   ],
   "source": [
    "# Test function using a trivial case\n",
    "dnamatching('GATCCTCCAT')\n"
   ]
  },
  {
   "cell_type": "code",
   "execution_count": 15,
   "metadata": {},
   "outputs": [
    {
     "name": "stdout",
     "output_type": "stream",
     "text": [
      "Unknown base U found in position: 2\n"
     ]
    }
   ],
   "source": [
    "# Test function using a trivial case with corrupted nucleotides\n",
    "dnamatching('GAUCCTCCAT')\n"
   ]
  },
  {
   "cell_type": "code",
   "execution_count": 16,
   "metadata": {},
   "outputs": [
    {
     "name": "stdout",
     "output_type": "stream",
     "text": [
      "CTAGGAGGTATATGTTGCCATAGAGGTGGAGTCCAAATCTAGAGTTGTTGCCTTGGTAACGGCTGTACTCTGTCAATCCATAGCAGCTCTCAATGTTCGATTTTGCTCGTCATCAGTCGAGACGTAGACTTCGGCGACTTCAAGATGATTCCCACCTATTGTAGTAGGCACGTTCTGGTTCTTGGCGGTTATCTGTTGTATACATTGTATAAATCCTATATGGAGCTTTTATTATTTGGCGGTGTGACAGTAATAATATTAATCTTTGTCTTGCGTTTTTAATAGGTGATATATTAAGTTTCTGCGCTTTTTTTTTCTTGTTGCGCAGTATCTTGAAAACCGTTAAGCGCAGTGTTTATTTAAAACCGTTGAATACAAAGGAGAAGCTCGTCATGAGCTCGGGACAGAGTTCTTACATTATTATGGGTAGCATCCATACCAATTTCTATCGTAGAGGTGTTGGAGTTTCGAGGAACGGCTCTCAGCGGGAGGAAACAGCTCATTAAAAGTGAAAAGTATACTCTTGAATAAAAGAATAAGAAATGAGAGTGTAGGACATCACTAACTGTGACGTTGTCGGTGGTAGTGATCTTCTTGTCTTGTTAATGAATTATCTTTTTAATATAGAAGGAGCTTTGCTAAAGGACGAAGGTTGTAGATGCATATAGTTCTTCGTAAGTGAATGGTACTGTGTCGAAGTCTAAAGTAATAACGACTGTCGATGATATAGTGATGAGGTAGATCATCACCGGTGCGGGATACTCCGTATAGGATAGCCTTTTGTTATGGGGGGTCACCGTTCTCAGTTACTTAGCAAATGTAAAGTTTAAAGGTTACTATGGATATTTAGCAGACATCTGTTCTGTCGAGTTTATTGTATGTTAACGAAGCTGAATGGCTCGACCGAAAGCAAACTGAGATCAAGATCTTGCAAGAGTCCACTTGGAAGAAGACTGAATGATAGACTACGCTTGTGGTGCAACATAAAGTTACATTATGAGCTCCCATGCCTGAGACGGCTGTCGTGCAGAAACTTGTTATGTATGGTTAAACAACAATGTTTGGCAGGTAGGTAGAGCGATAGCAGTCTAAAGTTAGATAACCGCAACAATTTTTTGATACCAATATGATTGCCGTTTTTGCGAGACTTTGATCTAGGATTACTTCAGAAGTTGCACTGAAAACTGGCAAGTTACAAGTGATTGCTTCTTAGGTAACACAGCATAATGCCTGCAAGAGTCAACATATTACGCGGCAATGGGTTAACCGACAAGAAGCTAAGACCGCTCAACTTCAAATGACCCTGCCGTGGCCACTATTTGAGCCGCTAACGAGGTCTTTGTTCGATGTCAAAACAGTAGTAGCGATGTCTGTAACTTCCTAAAAGACGGCAACTCCATCTTAAGCTTAATCAGTAGCCCCGAGTGGTCAATTGATGGAGATAAGTTTTATCAAACTATTAGTTGCAATGACTGTGTCCATTGCAAAGTATACTGAATGGAGATTTGATACAAATAGAGCTACTGCTAGGATAAAGAAGACTATTTAACCCAAGATATTTGAATAACCTACGAGGTCTGACCCACCGTAATCTATTACGATGGTAAAGGCCCAGACAGGGTCTACTTAATGAGCCATTCTTGAGGTTAGGACGGTTAAAAAGACACAGGTAAATACTATGAATACCACTACACTAAATAAAGTTGAAGCTTCAACAGAGGTGTTGCCTAAACAAACGGTAATCAAGAGAAGGGTTATAATTGCGATGTTCCCCACTTACCAAGAGGATGATAAAAAACGGAAGAGTCAAATGTCTGATGCACTTATGTTTGCAAAGTAATCTCAAATGATTAAGTTCGGTTCTGGTACTGACCCACTTTAAGGTTAGTAGATTAAATTGTAATCGACCTCTTCACGGGTTCTTAAAGCTGTTCGAAAGTAATCCAAACTTTCGCTTGGTTCCAAGTGTTAGAGTTCTCGATATAAAATTGTAGTAACCGTACCTAAGTTTCTATTGAGTGAGTTTGGTGTCACGCTTACGTTGCAGGTGTTCTTCAAGAGTGGTGAGGTGGAGTTGTTCAAGAATGTGTAGAAGATGAATGTGACGTTTTTAAAGAAGATGGAGGCGACGACGATGAAGAAGACGAGGTCGTCGCGACGGTCGTCGGTTATTTTGAAGTAGAGTGTTATTTTTTCGTCATCGTTAACGCACGCCACAACGATAGGGTAATCCGCAATAGGATCATCGAGAGTAAACGAAGGATTATAAGACCTCTGCGTCTTCCCTTTTAGGTCTGCTACTTTTGAATGGCGTACGATAATCACCTGGACTAAACTTATTAGGACGTTTATTTGGTTTAGTTCTTTTGCGATGTGGAAACTTGTTGGGGAAACTACTACTACGAAGGAGCATGCTACTATGAAGTTATCGTTCTTCTAACCGACGAAACTTGTGAAACTTTAACCTATTGGTGAGACGGTGACTTAGACTATAAAGGTCGCACCTACTTTTCTCTCTAAGAGATAGTCCATACTTATGTATGTTACTAGTCAAGGTTAGGGTTTCATTTCTTCTTAATAATCGTTTTGGGGGTCATGTCGGAGGTCTCTCGGGCAAGAAACTGGGTGTCTTATCCAGAAGAAGACACATATACCTATCACTTGGTCGTCATTTATTTAGGACCGCTATATGACCGTTGGACAGTGGTCAGAGACTATAACAGTCTCTGTCAATGCCTAGTGTTTTTTGACAACTATGTCTTTTTGAAAAGCTAAATCTTCGTGGTCTCTTCCTTTTTGCATGCAGTTCCCTACAGTGATACAGAAGTGACCTGGGAACCTTGTCGTTATAATCGGGAAGAGGGCATTCTTTTAGTCATTGTGGTAGTGGTATATTGCATTGCTTCGTAGCATTGGCGGTGAATGTTTTATAAGTTCTGAGAGTTTCGCCATTTTTGCCTTAGTGAGGGTGTTGTTACAGTTGAAGTAGAAGACTGCTAAAACAAGGCCAATTTCTACCACTTTTAAAAACGACCCAGGTATCGTACCTTGGTCTGTCTTCTGGTTCATTCTTTTCCAATCATCTAAAAAGTTTATTCTCATTACAGTTACAACCAGTTCAATTCCTGTAAGTGCCTGCGTAGGGTCTTTACGACACTAATATGCGTTGCTATAAAACGAATTAAAATAAAAGGACAAAATAAAAAATAATCACCAAATGTCTATGGGATATAAAATAAATCAAAAATATGAATCTCTGTAAATTAAAATTAAGGTAAGAAGTTTAAAGTAAAAACGTGAATTTTGTTTCTAGGTTTTTACGAGAGCGGGAGAAGTATAACTCTTATGTGAGGTAAGTTTTAAAACAGCAGTGGCGACTAATTAAAAAGTGATTTGACTACTTATTAGTTTCCGGGGTGCAGTCTTGGCTGATTTCTTCACTCAAAATAAAATCCTCCAACTTTTGGTAATAACAGACCATTTAAAAGTAGAAGAACTGTAAATTGGGTCAAACTTAGGGAAAGTTAAAGACGAAAAAGGAGGTTTGATAGCTGGGAGGACAAAGACAGGTTGAATACAGGATCAAGGTTAAGCTAGCGTAATTATTGACGAAGTTTACAATAACACAGTAGCAACTGAAATCCATTAAAGAGGTTTACGTATTAGTTTGATAAATTCCTTCTAGCCTTAAGCAGCTTGTGAAGTCAAAGGCATTACTAGACTAGCAGAAATAGGTGTACAACATTAAGTGATTTTAGATTTTGCATAAAAAGTTACGTATTTAGCAAGAAAAATAATTATTACGTCTACCTTTTAGACATTTGCACGCAATTAAATCTTTCTTGTAGGTCATATTCAAGAAGATATATCAGTTAATTTCGTCCTACGGATAATTACCCTTGCTTGACGCCGTTCAACTTACTGACCATTCATCACATCAGCTTACTGACTCCACCCATATGTAAAGATATTTTATTTTAGTTTAATTACATCGTAAAATTCATATGGGAGTCGGTGAAGAGATGGGTAGATAAGTATTTCGACTGCGTTGCTAATGATAAAAAAAAAAGAAGAACCTAGAGTCAGCAGCGTTTTTGCATATGGAAGAAAAAGGCTGGAAAAAAAATCGAAAGACCTTTTCAAATATAATCAATTTGTCCCAGATCAGAATCACACTTTCGATCACCAAAGCTAACTGACTATAATTCTTTCACCTTTAATTTAATCATCACATCTGCATATACGTATACATAAAGAGCGGACAAATACAAAGATGCATGAAAACTAAATATCGTTCCCCTTTTCTTTATGTATGATAAAAAACCATTTCCACTTTCGTATTACATTTTCGATCTTATTTTACCTGCTTTATTTCTCTCCGAATCAAGTAGAAAAAAGGTTTTTCGTGGGTTACTATTATTGATTTTACTTTTCCTAAACGGTAGACAGTCGTTGTAGTCAACACACTCGTTATTATTTTAGTAGTGGAGGCAACGGAAATCGCGCAAACAGCAAACATAGAAGGCATTAAAATCAGAATAGTTACCCTTAGTATTTAAAAGGTTACTTAATCGTTAAAGCAGGTTAAGAAAAACTCGAAGAAGTATAAACGAAACCTTAAGAAGCGTGAAGAAAAGGGTAAGTAGAGAAAGAAGAAGGTTTCGTTGCTAGGAAGATGGGTAAACGAGTCTCAAGTTTAGCCGGAGAAAGTCAAATAGGTAACGAAGGAAGTCAAACCGAAGTGACAGAAGATCGACAACAAGATCTAGGACCAAAAAGAACCACATCAAGAGTAATAATCTAGAGTTCAATAACCTCAGAAGTCGGTTAACGAAACATAGTCTGTTAACTGAGAGATTGAAGAGGTGAAGTGACAGCTCAACGAGCAAAAATCGCCTGTTTCTAAATTAGAGCAAAAGAAAAAGTCACAATCTAACGAGATTAAGAAACTCGACAAGAGAGTCGAGGAGTATAAAAAGAACGGTACTGAGTCTAAGATTAAAATTCGATAAGTTAAAGAGAAACTAG\n"
     ]
    }
   ],
   "source": [
    "# Call function\n",
    "dna_matching_strand = dnamatching(dna)\n",
    "print(dna_matching_strand)\n"
   ]
  }
 ],
 "metadata": {
  "kernelspec": {
   "display_name": "Python 3",
   "language": "python",
   "name": "python3"
  },
  "language_info": {
   "codemirror_mode": {
    "name": "ipython",
    "version": 3
   },
   "file_extension": ".py",
   "mimetype": "text/x-python",
   "name": "python",
   "nbconvert_exporter": "python",
   "pygments_lexer": "ipython3",
   "version": "3.7.6"
  }
 },
 "nbformat": 4,
 "nbformat_minor": 4
}
