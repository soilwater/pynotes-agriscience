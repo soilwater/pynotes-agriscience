{
 "cells": [
  {
   "cell_type": "markdown",
   "metadata": {},
   "source": [
    "# Change Coordinate Reference System\n",
    "\n",
    "Converting from EPSG:9001 to EPSG:4326, which represents spatial coordinates in terms of latitude and longitude based on the World Geodetic System 1984 (WGS84)."
   ]
  },
  {
   "cell_type": "code",
   "execution_count": 1,
   "metadata": {},
   "outputs": [],
   "source": [
    "# Import modules\n",
    "import numpy as np\n",
    "import matplotlib.pyplot as plt\n",
    "import rasterio\n",
    "from rasterio.warp import calculate_default_transform, reproject, Resampling\n",
    "from rasterio.plot import show\n"
   ]
  },
  {
   "cell_type": "code",
   "execution_count": 2,
   "metadata": {},
   "outputs": [
    {
     "data": {
      "text/plain": [
       "{'driver': 'GTiff',\n",
       " 'dtype': 'float32',\n",
       " 'nodata': None,\n",
       " 'width': 1121,\n",
       " 'height': 881,\n",
       " 'count': 1,\n",
       " 'crs': CRS.from_wkt('PROJCS[\"NOAA_HRAP_Grid\",GEOGCS[\"GCS_NOAA_HRAP\",DATUM[\"D_NOAA_HRAP\",SPHEROID[\"Sphere\",6371200,0]],PRIMEM[\"Greenwich\",0],UNIT[\"degree\",0.0174532925199433]],PROJECTION[\"Polar_Stereographic\"],PARAMETER[\"latitude_of_origin\",60],PARAMETER[\"central_meridian\",-105],PARAMETER[\"scale_factor\",1],PARAMETER[\"false_easting\",0],PARAMETER[\"false_northing\",0],UNIT[\"metre\",1,AUTHORITY[\"EPSG\",\"9001\"]]]'),\n",
       " 'transform': Affine(4763.0, 0.0, -1904912.11073866,\n",
       "        0.0, -4763.0, -3423783.69569394)}"
      ]
     },
     "execution_count": 2,
     "metadata": {},
     "output_type": "execute_result"
    }
   ],
   "source": [
    "# Read metadata of raster map\n",
    "raster_path = '../datasets/rainfall/nws_precip_1day_20190515_conus.tif'\n",
    "raster = rasterio.open(raster_path)\n",
    "raster.meta\n"
   ]
  },
  {
   "cell_type": "markdown",
   "metadata": {},
   "source": [
    "## Save raster with new CRS in a separate file"
   ]
  },
  {
   "cell_type": "code",
   "execution_count": 3,
   "metadata": {},
   "outputs": [],
   "source": [
    "# Set properties to be used in the new reprojected raster map\n",
    "new_crs = 'EPSG:4326' # As an alternative the EPSG:3857 represents the web meractor \n",
    "transform, width, height = calculate_default_transform(raster.crs,new_crs,raster.width,raster.height,*raster.bounds)\n",
    "kwargs = raster.meta.copy()\n",
    "kwargs.update({'crs':new_crs, 'transform':transform, 'width':width, 'height':height})\n"
   ]
  },
  {
   "cell_type": "code",
   "execution_count": 4,
   "metadata": {},
   "outputs": [],
   "source": [
    "# Iterate over each band and reproject\n",
    "# This step will save a new reprojected .tiff file\n",
    "new_filename = \"../datasets/rainfall/nws_precip_1day_20190515_conus_latlon.tif\"\n",
    "with rasterio.open(new_filename, 'w', **kwargs) as dst:\n",
    "    for i in range(1, raster.count + 1):\n",
    "        reproject(\n",
    "            source = rasterio.band(raster, i),\n",
    "            destination = rasterio.band(dst, i),\n",
    "            src_transform = raster.transform,\n",
    "            src_crs = raster.crs,\n",
    "            dst_transform = transform,\n",
    "            dst_crs = new_crs,\n",
    "            resampling = Resampling.nearest)\n",
    "        "
   ]
  },
  {
   "cell_type": "code",
   "execution_count": 5,
   "metadata": {},
   "outputs": [
    {
     "name": "stdout",
     "output_type": "stream",
     "text": [
      "{'driver': 'GTiff', 'dtype': 'float32', 'nodata': None, 'width': 1675, 'height': 860, 'count': 1, 'crs': CRS.from_epsg(4326), 'transform': Affine(0.044273720114906476, 0.0, -134.09052600184998,\n",
      "       0.0, -0.044273720114906476, 57.86725177915063)}\n"
     ]
    }
   ],
   "source": [
    "# Load newly created and reprojected .tiff file and display the new metadata\n",
    "# to check that we did the right CRS conversion\n",
    "raster_reprojected = rasterio.open(new_filename)\n",
    "print(raster_reprojected.meta)\n"
   ]
  },
  {
   "cell_type": "markdown",
   "metadata": {},
   "source": [
    "## Overwrite file with new CRS\n",
    "\n",
    "Here is an exploratory alternative that can do everything without creating a separate file. It needs some fine tunning, but I decided to post this here in Markdown to prevent conflict with the preceding cells.\n",
    "\n",
    "```python\n",
    "# Change CRS in existing raster variable\n",
    "raster_reprojected = raster\n",
    "with rasterio.open(raster_path, 'r+', **kwargs) as raster:\n",
    "    for i in range(1, raster.count + 1):\n",
    "        reproject(\n",
    "            source = rasterio.band(raster, i),\n",
    "            destination = rasterio.band(raster, i),\n",
    "            src_transform = raster.transform,\n",
    "            src_crs = raster.crs,\n",
    "            dst_transform = transform,\n",
    "            dst_crs = new_crs,\n",
    "            resampling = Resampling.nearest)\n",
    "        \n",
    "raster = rasterio.open(raster_path)\n",
    "\n",
    "# Check new coordinate referece system\n",
    "print(raster.meta)\n",
    "\n",
    "```"
   ]
  },
  {
   "cell_type": "markdown",
   "metadata": {},
   "source": [
    "## Generate matrices of latitude and longitude\n",
    "\n",
    "Often times we need to gain access to the entire matrix of latitude and longitude values, say to determine the pixel nearest to a point of interest."
   ]
  },
  {
   "cell_type": "code",
   "execution_count": 6,
   "metadata": {},
   "outputs": [
    {
     "name": "stdout",
     "output_type": "stream",
     "text": [
      "(860, 1675)\n",
      "(860, 1675)\n",
      "(860, 1675)\n"
     ]
    }
   ],
   "source": [
    "# Generate grid of rows and columns\n",
    "y_vector = np.arange(raster_reprojected.shape[0]) # y is latitude\n",
    "x_vector = np.arange(raster_reprojected.shape[1]) # x is longitude\n",
    "[X,Y] = np.meshgrid(x_vector, y_vector)\n",
    "\n",
    "print(raster_reprojected.shape)\n",
    "print(X.shape)\n",
    "print(Y.shape)"
   ]
  },
  {
   "cell_type": "code",
   "execution_count": 7,
   "metadata": {},
   "outputs": [
    {
     "data": {
      "image/png": "[encoded data removed]",
      "text/plain": [
       "<Figure size 864x432 with 2 Axes>"
      ]
     },
     "metadata": {
      "needs_background": "light"
     },
     "output_type": "display_data"
    }
   ],
   "source": [
    "# Plot gradients to check our computations.\n",
    "plt.figure(figsize=(12,6))\n",
    "\n",
    "plt.subplot(1,2,1)\n",
    "plt.title('X Matrix (Y is constant for any given X)')\n",
    "plt.imshow(X)\n",
    "\n",
    "plt.subplot(1,2,2)\n",
    "plt.title('Y Matrix (X is constant for any given Y)')\n",
    "plt.imshow(Y)\n",
    "\n",
    "plt.show()"
   ]
  },
  {
   "cell_type": "code",
   "execution_count": 8,
   "metadata": {},
   "outputs": [
    {
     "name": "stdout",
     "output_type": "stream",
     "text": [
      "Xmin: 0 Xmax: 1674\n",
      "Ymin: 0 Ymax: 859\n"
     ]
    }
   ],
   "source": [
    "print('Xmin:',X[0,0],'Xmax:',X[-1,-1])\n",
    "print('Ymin:',Y[0,0],'Ymax:',Y[-1,-1])"
   ]
  },
  {
   "cell_type": "markdown",
   "metadata": {},
   "source": [
    "## Matching X,Y to Lat,Lon\n",
    "\n",
    "This part can be tricky since X is Lon and Y is Lat. Here I suggest devising a way to test that we get the right results for the corners, and then we proceed to pass the matrices of Xs and Ys. This will save us countless hours of debugging and a headache down the road."
   ]
  },
  {
   "cell_type": "code",
   "execution_count": 9,
   "metadata": {},
   "outputs": [
    {
     "data": {
      "text/plain": [
       "BoundingBox(left=-134.09052600184998, bottom=19.79185248033106, right=-59.93204480938164, top=57.86725177915063)"
      ]
     },
     "execution_count": 9,
     "metadata": {},
     "output_type": "execute_result"
    }
   ],
   "source": [
    "# First the bounds from the raster we want to match\n",
    "# Our corners using X and Y need to match these value or else the conversion is wrong.\n",
    "raster_reprojected.bounds\n"
   ]
  },
  {
   "cell_type": "code",
   "execution_count": 10,
   "metadata": {},
   "outputs": [
    {
     "name": "stdout",
     "output_type": "stream",
     "text": [
      "(-134.09052600184998, 57.86725177915063)\n"
     ]
    }
   ],
   "source": [
    "# This gives us the correct upper-right corner\n",
    "print(raster_reprojected.xy(0,0,'ul'))\n"
   ]
  },
  {
   "cell_type": "code",
   "execution_count": 11,
   "metadata": {},
   "outputs": [
    {
     "name": "stdout",
     "output_type": "stream",
     "text": [
      "(-59.93204480938162, 19.79185248033106)\n"
     ]
    }
   ],
   "source": [
    "# This gives us the correct lower-right corner\n",
    "print(raster_reprojected.xy(859,1674,'lr'))\n"
   ]
  },
  {
   "cell_type": "markdown",
   "metadata": {},
   "source": [
    "Passing the `X` and `Y` matrices into rasterio `xy()` method would result in a tuple with nested arrays that are a bit more difficult to work with. So, to keep things simple, we can `flatten` the input arrays and then `reshape` the resulting arrays to amtch the dimension of the raster image. Sometimes is worth doing a little exploration on the output format and ensure variables are in a format that we feel comfortable working with. "
   ]
  },
  {
   "cell_type": "code",
   "execution_count": 12,
   "metadata": {},
   "outputs": [],
   "source": [
    "# This part may take few seconds\n",
    "lon_vector,lat_vector = raster_reprojected.xy(Y.flatten(), X.flatten())\n"
   ]
  },
  {
   "cell_type": "code",
   "execution_count": 13,
   "metadata": {},
   "outputs": [],
   "source": [
    "lon_grid = np.reshape(lon_vector , X.shape)\n",
    "lat_grid = np.reshape(lat_vector , Y.shape)"
   ]
  },
  {
   "cell_type": "code",
   "execution_count": 14,
   "metadata": {},
   "outputs": [
    {
     "name": "stdout",
     "output_type": "stream",
     "text": [
      "Latitude: (860, 1675)\n",
      "Longitude: (860, 1675)\n"
     ]
    }
   ],
   "source": [
    "# Check resulting matrix dimensions\n",
    "print('Latitude:', lat_grid.shape)\n",
    "print('Longitude:', lon_grid.shape)\n"
   ]
  },
  {
   "cell_type": "code",
   "execution_count": 15,
   "metadata": {},
   "outputs": [
    {
     "name": "stdout",
     "output_type": "stream",
     "text": [
      "UL (Northwest corner) => Lat: [57.84511492] Lon: [-134.06838914]\n",
      "UR (Northeast corner) => Lat: [57.84511492] Lon: [-59.95418167]\n",
      "LR (Southeast corner) => Lat: [19.81398934] Lon: [-59.95418167]\n",
      "LL (Southwest corner) => Lat: [19.81398934] Lon: [-134.06838914]\n"
     ]
    }
   ],
   "source": [
    "# Check corners of matrix (in clockwise order)\n",
    "print('UL (Northwest corner) => Lat:', lat_grid[[0],[0]], 'Lon:', lon_grid[[0],[0]])\n",
    "print('UR (Northeast corner) => Lat:', lat_grid[[0],[0]], 'Lon:', lon_grid[[-1],[-1]])\n",
    "print('LR (Southeast corner) => Lat:', lat_grid[[-1],[-1]], 'Lon:', lon_grid[[-1],[-1]])\n",
    "print('LL (Southwest corner) => Lat:', lat_grid[[-1],[-1]], 'Lon:', lon_grid[[0],[0]])\n"
   ]
  },
  {
   "cell_type": "code",
   "execution_count": 16,
   "metadata": {},
   "outputs": [],
   "source": [
    "def haversine(lat_point,lon_point,lat_list, lon_list):\n",
    "\n",
    "    \"\"\"Haversine function: Computes distance between the geogrpahic\n",
    "    coordinates of two points on a sphere or a point and list of points.\n",
    "\n",
    "    Inputs: geographic coordinates in decimal degrees.\n",
    "    Output: Approximate distance in kilometers\"\"\"\n",
    "\n",
    "   # Convert point coordinates to radians\n",
    "    lat_point = np.radians(lat_point)\n",
    "    lon_point = np.radians(lon_point)\n",
    "\n",
    "    # Convert list coordinates to radians\n",
    "    lat_list = np.radians(lat_list)\n",
    "    lon_list = np.radians(lon_list)\n",
    "\n",
    "    # Compute deltas to simplify equation below\n",
    "    lat_delta = lat_list - lat_point\n",
    "    lon_delta = lon_list - lon_point\n",
    "\n",
    "    # Define average Earth radius in kilometers\n",
    "    earth_radius = 6367 # kilometers\n",
    "\n",
    "    # Haversine formula\n",
    "    a = (np.sin(lat_delta/2))**2 + np.cos(lat_point) * np.cos(lat_list) * (np.sin(lon_delta/2))**2\n",
    "    a[a>1] = 1\n",
    "    a[a<0] = 0\n",
    "    d = 2 * earth_radius * np.arcsin(np.sqrt(a))\n",
    "    return d\n"
   ]
  },
  {
   "cell_type": "code",
   "execution_count": 30,
   "metadata": {},
   "outputs": [
    {
     "name": "stdout",
     "output_type": "stream",
     "text": [
      "Shape of distance matrix D: (860, 1675)\n",
      "Row and Column of nearest pixel: (493, 318)\n"
     ]
    },
    {
     "data": {
      "image/png": "[encoded data removed]",
      "text/plain": [
       "<Figure size 432x288 with 2 Axes>"
      ]
     },
     "metadata": {
      "needs_background": "light"
     },
     "output_type": "display_data"
    }
   ],
   "source": [
    "# Define coordinates for a point of interest\n",
    "POI_lat = 36\n",
    "POI_lon = -120\n",
    "\n",
    "# Compute distance from POI to all pixels\n",
    "D = haversine(POI_lat, POI_lon, lat_grid, lon_grid)\n",
    "print('Shape of distance matrix D:', D.shape)\n",
    "\n",
    "# Find nearest pixel to POI\n",
    "idx_nearest = np.unravel_index(np.argmin(D, axis=None), D.shape)\n",
    "print('Row and Column of nearest pixel:',idx_nearest)\n",
    "\n",
    "# Create plot of distances\n",
    "plt.imshow(D, cmap='Spectral')\n",
    "plt.colorbar(orientation=\"horizontal\", label=\"Distance in Km\")\n",
    "plt.show()\n"
   ]
  },
  {
   "cell_type": "markdown",
   "metadata": {},
   "source": [
    "In the cell above you can change the coordinates of the POI for any place in the United States to see how the intensity of the distance matrix changes."
   ]
  },
  {
   "cell_type": "markdown",
   "metadata": {},
   "source": [
    "## Convert Lat,Lon to X,Y\n",
    "\n",
    "A quick option to change from from geogrpahic to projected coordinates is to use the PyProj library."
   ]
  },
  {
   "cell_type": "code",
   "execution_count": 2,
   "metadata": {},
   "outputs": [
    {
     "name": "stdout",
     "output_type": "stream",
     "text": [
      "-1405334.8530004257 4194697.664163701\n"
     ]
    }
   ],
   "source": [
    "from pyproj import Proj\n",
    "POI_lat = 36\n",
    "POI_lon = -120\n",
    "\n",
    "pp = Proj(proj='utm',zone=14,ellps='WGS84', preserve_units=False)\n",
    "#x,y = pp(df['longitude'].values,df['latitude'].values)\n",
    "x,y = pp(POI_lon, POI_lat)\n",
    "print(x,y)"
   ]
  }
 ],
 "metadata": {
  "kernelspec": {
   "display_name": "Python 3",
   "language": "python",
   "name": "python3"
  },
  "language_info": {
   "codemirror_mode": {
    "name": "ipython",
    "version": 3
   },
   "file_extension": ".py",
   "mimetype": "text/x-python",
   "name": "python",
   "nbconvert_exporter": "python",
   "pygments_lexer": "ipython3",
   "version": "3.8.5"
  }
 },
 "nbformat": 4,
 "nbformat_minor": 4
}
