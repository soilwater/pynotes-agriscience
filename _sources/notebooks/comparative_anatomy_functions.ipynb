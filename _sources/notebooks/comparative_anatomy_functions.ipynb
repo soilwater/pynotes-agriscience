{
 "cells": [
  {
   "cell_type": "markdown",
   "metadata": {},
   "source": [
    "# Comparative Anatomy of Functions\n",
    "\n",
    "Simialr to the notebooks about the comparative anatomy of `for loops` and `if statements`, in this notebook the goal is to observe similarities when declaring and invoking functions in common languages for scientific computing."
   ]
  },
  {
   "cell_type": "markdown",
   "metadata": {},
   "source": [
    "## Python\n",
    "\n",
    "```python\n",
    "# Define function\n",
    "def hypotenuse(C1,C2):\n",
    "    H = (C1**2 + C2**2)**0.5\n",
    "    return H\n",
    "\n",
    "# Invoke function\n",
    "hypothenuse(3,4)\n",
    "```\n",
    "\n",
    "**Answer**\n",
    "```\n",
    "5.0\n",
    "```"
   ]
  },
  {
   "cell_type": "markdown",
   "metadata": {},
   "source": [
    "---\n",
    "\n",
    "## Matlab\n",
    "\n",
    "Functions defined within a script must be defined at the end of the script in Matlab\n",
    "\n",
    "```matlab\n",
    "\n",
    "% Invoke function\n",
    "hypotenuse(3,4)\n",
    "\n",
    "% Define function\n",
    "function [H] = hypothenuse(C1,C2)\n",
    "    H = (C1.^2 + C2.^2).^0.5;\n",
    "end\n",
    "```\n",
    "\n",
    "**Answer**\n",
    "```\n",
    "5\n",
    "```"
   ]
  },
  {
   "cell_type": "markdown",
   "metadata": {},
   "source": [
    "---\n",
    "\n",
    "## Javascript\n",
    "\n",
    "```javascript\n",
    "\n",
    "//Define function\n",
    "function hypotenuse(C1,C2){\n",
    "    H = (C1**2 + C2**2)**0.5\n",
    "    return H\n",
    "}\n",
    "\n",
    "//Invoke function\n",
    "hypothenuse(3,4)\n",
    "```\n",
    "\n",
    "**Answer**\n",
    "```\n",
    "5\n",
    "```"
   ]
  },
  {
   "cell_type": "markdown",
   "metadata": {},
   "source": [
    "---\n",
    "\n",
    "## Julia\n",
    "\n",
    "```julia\n",
    "# Define function\n",
    "function hypotenuse(C1,C2)\n",
    "    H = (C1^2 + C2^2)^0.5\n",
    "    return H\n",
    "end\n",
    "```\n",
    "\n",
    "**Answer**\n",
    "```\n",
    "5.0\n",
    "```"
   ]
  },
  {
   "cell_type": "markdown",
   "metadata": {},
   "source": [
    "## Synthesis\n",
    "\n",
    "- All languages contain a keyword defining the declaration of a function\n",
    "\n",
    "- All languages contain syntax for declaring function name, inputs, and outputs\n",
    "\n",
    "- Functions are invoked in all languages by calling the function by its name and passing the input arguments between parentheses.\n",
    "\n"
   ]
  }
 ],
 "metadata": {
  "kernelspec": {
   "display_name": "Python 3",
   "language": "python",
   "name": "python3"
  },
  "language_info": {
   "codemirror_mode": {
    "name": "ipython",
    "version": 3
   },
   "file_extension": ".py",
   "mimetype": "text/x-python",
   "name": "python",
   "nbconvert_exporter": "python",
   "pygments_lexer": "ipython3",
   "version": "3.7.6"
  }
 },
 "nbformat": 4,
 "nbformat_minor": 4
}
