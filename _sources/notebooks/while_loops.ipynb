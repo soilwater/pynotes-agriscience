{
 "cells": [
  {
   "cell_type": "markdown",
   "metadata": {},
   "source": [
    "# While loops\n",
    "\n",
    "Similar to a `for loop`, a `while loop` is intended to iterate over a specific set of lines of code. However, the need for a `while loop` might not be as clear to new programmers as with `for loops`. The difference is in that a `while loop` runs indefinetely until a certain condition is met, which means that in some cases the code could run forever if the condition is never met. In a `while loop` the interpreter is constatnly running the code and checking to whether a specific condition is met or not. If not, then the code runs one more time.\n",
    "\n",
    "The structure of the `while loop` is simple and its syntax in Python is as follows:\n",
    "\n",
    "```python\n",
    "while condition:\n",
    "    code goes here\n",
    "```\n",
    "\n",
    "For example,\n",
    "\n",
    "```python\n",
    "A = 0\n",
    "while A < 3:\n",
    "    A += 1\n",
    "    print(A)\n",
    "```\n",
    "\n",
    "In the code above we initialize a variable `A` with a value of zero. We then create a `while loop` that will iterate over the code. Note that there is no index, as with the `for loop`. The `while loop` is constatnly checking the condition defined at the top in each iteration. This means that within the code it should be possible to turn the conditonal statement from `True` to `False`. If at some point the condition is no longer `True`, then the loop will break and the Python will continue with other lines (if any) after the `while loop`.\n",
    "\n",
    ">In Python empty variables are considered `False`, and non-empty variables are considered `True`. We can use this fact to succintly implement a condition in a `while loop`. For instance: `while len(a) > 0:` could be replaced by `while a:`\n"
   ]
  },
  {
   "cell_type": "markdown",
   "metadata": {},
   "source": [
    "## A simple while loop\n",
    "\n",
    "This trivial case will only print values 0, 1, and 2. As soon as the fourth iteration starts the condition is no longet met and the while loop will break."
   ]
  },
  {
   "cell_type": "code",
   "execution_count": 54,
   "metadata": {},
   "outputs": [
    {
     "name": "stdout",
     "output_type": "stream",
     "text": [
      "0\n",
      "1\n",
      "2\n"
     ]
    }
   ],
   "source": [
    "A = 0\n",
    "while A < 3:\n",
    "    print(A)\n",
    "    A += 1"
   ]
  },
  {
   "cell_type": "markdown",
   "metadata": {},
   "source": [
    "Using these concepts we can create a little game that records a list of *N* elements and prints all the entries at the end. Note that the last line is outside the `while loop`, which means that will only print once the while loop is over. If we put the last line inside the `while loop` the list will print every time we enter something."
   ]
  },
  {
   "cell_type": "markdown",
   "metadata": {},
   "source": [
    "## Guess the number\n",
    "\n",
    "In this example we will create a game that is about guessing a random number selected by the computer. The game ends once we correctly guess the number, otherwise the computer will give us another chance to guess."
   ]
  },
  {
   "cell_type": "code",
   "execution_count": 2,
   "metadata": {},
   "outputs": [
    {
     "name": "stdin",
     "output_type": "stream",
     "text": [
      "Guess my number? 1\n"
     ]
    },
    {
     "name": "stdout",
     "output_type": "stream",
     "text": [
      "Try again\n"
     ]
    },
    {
     "name": "stdin",
     "output_type": "stream",
     "text": [
      "Guess my number? 2\n"
     ]
    },
    {
     "name": "stdout",
     "output_type": "stream",
     "text": [
      "You guessed it! The number was: 2\n"
     ]
    }
   ],
   "source": [
    "# Guess the number\n",
    "import random\n",
    "\n",
    "# Set variable to true in order to get started with the game\n",
    "min_value = 1\n",
    "max_value = 10\n",
    "computer_number = random.randint(min_value,max_value)\n",
    "user_guess = ''\n",
    "\n",
    "while computer_number != user_guess:\n",
    "\n",
    "    user_guess = int(input('Guess my number?'))\n",
    "    \n",
    "    if user_guess != computer_number:\n",
    "        print('Try again')\n",
    "        \n",
    "    else:\n",
    "        print('You guessed it! The number was: ' + str(computer_number))\n",
    "        guess = False # Turn to false in order to stop the game\n"
   ]
  },
  {
   "cell_type": "markdown",
   "metadata": {},
   "source": [
    "## List of lab supplies\n",
    "\n",
    "In the next exercise we will create a simple code that records items into a list, similar to a shopping list. The way we stop the program execution in this case is by writing the keyword `done`, which will terminate the while loop. Otherwise the program will keep asking wfor more items."
   ]
  },
  {
   "cell_type": "code",
   "execution_count": 14,
   "metadata": {},
   "outputs": [
    {
     "name": "stdin",
     "output_type": "stream",
     "text": [
      "Add lab supply: Filter paper\n",
      "Add lab supply: Napkins\n",
      "Add lab supply: Erlenmeyer flask\n",
      "Add lab supply: done\n"
     ]
    },
    {
     "name": "stdout",
     "output_type": "stream",
     "text": [
      "You need to buy: \n",
      "['Filter paper', 'Napkins', 'Erlenmeyer flask']\n"
     ]
    }
   ],
   "source": [
    "# Grocery store list maker\n",
    "\n",
    "# Initialize empty list\n",
    "supplies_list = []\n",
    "\n",
    "# Initialize empty item\n",
    "#item = ''\n",
    "\n",
    "while True: #item != 'done':\n",
    "    \n",
    "    # Request user input\n",
    "    item_number = str(len(supplies_list) + 1)\n",
    "    item = input('Add lab supply:')\n",
    "    \n",
    "    # If the user inputs 'done', then the while loop will print the list and then break.\n",
    "    if item.lower() == 'done':\n",
    "        print('You need to buy: ')\n",
    "        print(supplies_list)\n",
    "        break\n",
    "    \n",
    "    # Else we append the item to the list of supplies\n",
    "    else:\n",
    "        supplies_list.append(item) # Else, append item to list\n",
    "    \n",
    "    "
   ]
  }
 ],
 "metadata": {
  "kernelspec": {
   "display_name": "Python 3",
   "language": "python",
   "name": "python3"
  },
  "language_info": {
   "codemirror_mode": {
    "name": "ipython",
    "version": 3
   },
   "file_extension": ".py",
   "mimetype": "text/x-python",
   "name": "python",
   "nbconvert_exporter": "python",
   "pygments_lexer": "ipython3",
   "version": "3.7.0"
  }
 },
 "nbformat": 4,
 "nbformat_minor": 2
}
