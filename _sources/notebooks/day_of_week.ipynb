{
 "cells": [
  {
   "cell_type": "markdown",
   "metadata": {},
   "source": [
    "# Day of the week\n",
    "\n",
    "Determination of the day of the week for any day based on Lewis Carroll approach as described in Lewis Carroll in Numberland by by Robin Wilson (2008). The code is partitioned into a rather long and cumbersome series of steps. The code was implemented to closely follow a textbook example describing the method.\n"
   ]
  },
  {
   "cell_type": "code",
   "execution_count": null,
   "metadata": {},
   "outputs": [],
   "source": [
    "# Import modules\n",
    "import datetime\n",
    "import math"
   ]
  },
  {
   "cell_type": "code",
   "execution_count": 12,
   "metadata": {},
   "outputs": [],
   "source": [
    "# Auxiliary functions\n",
    "def dozens(value):\n",
    "    dozen = math.floor(value/12)\n",
    "    fraction = value - dozen*12\n",
    "    return dozen,fraction\n",
    "\n",
    "\n",
    "def digitsum(number):\n",
    "    counter_digits = 0\n",
    "    counter_fours = 0\n",
    "    for digit in str(number):\n",
    "        counter_digits += int(digit) \n",
    "        if digit == 4:\n",
    "            counter_fours += 1\n",
    "    return counter_digits, counter_fours\n",
    "\n",
    "\n",
    "def roundseven(number):\n",
    "    if number >= 7:\n",
    "        number = number % 7\n",
    "    else:\n",
    "        number\n",
    "    return number\n",
    "\n",
    "\n",
    "def monthitem(month):\n",
    "    D = {\"months\": [\"January\",\"February\",\"March\",\"April\",\"May\",\"June\",\"July\",\"August\",\"September\",\"October\",\"November\",\"December\"],\n",
    "        \"item\": [0,3,3,6,1,4,6,2,5,0,3,5]}\n",
    "    for i in range(0,len(D[\"months\"])):\n",
    "        if month == D[\"months\"][i]:\n",
    "            return D[\"item\"][i]\n",
    "        \n",
    "\n",
    "def adjustleap(year,month,partial_sum):\n",
    "    if year % 4 == 0 and (month == 'January' or month == \"February\"):\n",
    "        if partial_sum == 0:\n",
    "            partial_sum += 7\n",
    "        partial_sum -= 1\n",
    "    return partial_sum\n",
    "\n",
    "\n",
    "def dayofweek(partial_sum):\n",
    "    week_days = [\"Sunday\",\"Monday\",\"Tuesday\",\"Wednesday\",\"Thursday\",\"Friday\",\"Saturday\"]\n",
    "    for i in range(0,len(week_days)):\n",
    "        if partial_sum == i:\n",
    "            return week_days[i]\n",
    "        \n",
    "        "
   ]
  },
  {
   "cell_type": "code",
   "execution_count": 13,
   "metadata": {},
   "outputs": [
    {
     "data": {
      "text/plain": [
       "'Saturday'"
      ]
     },
     "execution_count": 13,
     "metadata": {},
     "output_type": "execute_result"
    }
   ],
   "source": [
    "# Define input date\n",
    "# date = datetime.datetime(1676,2,23)\n",
    "date = datetime.datetime.now()\n",
    "\n",
    "# Century item\n",
    "century = math.floor(date.year/100)\n",
    "century_item = (3 - century % 4)*2\n",
    "century_item = roundseven(century_item)\n",
    "\n",
    "# Year item\n",
    "year = math.floor((date.year-century*100))\n",
    "dozen,fraction = dozens(year)\n",
    "sum_fraction, fours = digitsum(fraction)\n",
    "year_item = dozen + fraction + sum_fraction + fours\n",
    "year_item = roundseven(year_item)\n",
    "\n",
    "# Partial sum\n",
    "partial_sum = century_item + year_item\n",
    "partial_sum = roundseven(partial_sum)\n",
    "\n",
    "# Month item\n",
    "month = date.strftime(\"%B\")\n",
    "month_item = monthitem(month)\n",
    "\n",
    "# Partial sum\n",
    "partial_sum = roundseven(partial_sum + month_item)\n",
    "\n",
    "# Day item\n",
    "day_item = roundseven(date.day)\n",
    "\n",
    "# Partial sum\n",
    "partial_sum = roundseven(partial_sum + day_item)\n",
    "\n",
    "# Adjust for leap years\n",
    "adjustleap(date.year,month,partial_sum)\n",
    "\n",
    "# Print the day of the week\n",
    "dayofweek(partial_sum)"
   ]
  },
  {
   "cell_type": "markdown",
   "metadata": {},
   "source": [
    "## References\n",
    "- Lewis Carroll in Numberland, p. 167\n",
    "- <https://www.reddit.com/r/learnmath/comments/2jjl4c/lewis_carrolls_day_of_the_week_algorithm/>"
   ]
  }
 ],
 "metadata": {
  "kernelspec": {
   "display_name": "Python 3",
   "language": "python",
   "name": "python3"
  },
  "language_info": {
   "codemirror_mode": {
    "name": "ipython",
    "version": 3
   },
   "file_extension": ".py",
   "mimetype": "text/x-python",
   "name": "python",
   "nbconvert_exporter": "python",
   "pygments_lexer": "ipython3",
   "version": "3.8.5"
  }
 },
 "nbformat": 4,
 "nbformat_minor": 4
}
