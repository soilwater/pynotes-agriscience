{
 "cells": [
  {
   "cell_type": "markdown",
   "metadata": {},
   "source": [
    "# Glob Module\n",
    "\n",
    "An easy and complete module for directory navigation. Somewhat similar to the operating system module (os module)."
   ]
  },
  {
   "cell_type": "code",
   "execution_count": 1,
   "metadata": {},
   "outputs": [],
   "source": [
    "import glob"
   ]
  },
  {
   "cell_type": "markdown",
   "metadata": {},
   "source": [
    "One of the most useful commands is the `getcwd()`, which stands for *get current working directory*. With this command we know where the Python interpreter is at. If we want to work in a project that requires navigation over several folders, we might consider first navigating to the root folder of the project. Imagine you need to load files in a specific folder, then crunch some numbers, and finally store the outputs in a different folder. The `glob` module would be ideal for this.\n",
    "\n",
    "Let's first print (you could also store the output into a variable) the current working directory"
   ]
  },
  {
   "cell_type": "code",
   "execution_count": 2,
   "metadata": {},
   "outputs": [
    {
     "name": "stdout",
     "output_type": "stream",
     "text": [
      "/Users/andrespatrignani/Dropbox/Teaching/Scientific programming/pynotes/notebooks\n"
     ]
    }
   ],
   "source": [
    "print(glob.os.getcwd())"
   ]
  },
  {
   "cell_type": "markdown",
   "metadata": {},
   "source": [
    "We can navigate one level up (outside the current folder) in the directory using `..`"
   ]
  },
  {
   "cell_type": "code",
   "execution_count": 3,
   "metadata": {},
   "outputs": [],
   "source": [
    "glob.os.chdir('..')"
   ]
  },
  {
   "cell_type": "markdown",
   "metadata": {},
   "source": [
    "We can repeat one more time the `getcwd()` command to indeed ensure we are in the right directory"
   ]
  },
  {
   "cell_type": "code",
   "execution_count": 4,
   "metadata": {},
   "outputs": [
    {
     "name": "stdout",
     "output_type": "stream",
     "text": [
      "/Users/andrespatrignani/Dropbox/Teaching/Scientific programming/pynotes\n"
     ]
    }
   ],
   "source": [
    "print(glob.os.getcwd())"
   ]
  },
  {
   "cell_type": "markdown",
   "metadata": {},
   "source": [
    "Another alternative is to navigate one level down the directory structure (insde a new folder) by simply typing the name of the folder. We can also multiple folders in tandem. For instance: `folder1/folder2/folder3/`"
   ]
  },
  {
   "cell_type": "code",
   "execution_count": 5,
   "metadata": {},
   "outputs": [],
   "source": [
    "glob.os.chdir('datasets/')"
   ]
  },
  {
   "cell_type": "code",
   "execution_count": 7,
   "metadata": {},
   "outputs": [
    {
     "name": "stdout",
     "output_type": "stream",
     "text": [
      "/Users/andrespatrignani/Dropbox/Teaching/Scientific programming/pynotes/datasets\n"
     ]
    }
   ],
   "source": [
    "print(glob.os.getcwd())"
   ]
  },
  {
   "cell_type": "markdown",
   "metadata": {},
   "source": [
    "Another useful function is to list all the files in a directory. Sometimes you might be interested in files of a specific type (`csv`, `txt`, `jpg`, etc.) that are in the same directory mixed with other files. In the latter case we can make use of a wildcard (a placeholder meaning *all files with a specific extension*). The wildcard is represented with a `*`. For instance, to retrieve all the text files in a given directory we would specify it as: `*.txt`. Let's looks at these two examples below:"
   ]
  },
  {
   "cell_type": "code",
   "execution_count": 8,
   "metadata": {},
   "outputs": [
    {
     "name": "stdout",
     "output_type": "stream",
     "text": [
      "['.DS_Store', '.ipynb_checkpoints', 'corn_allometric_biomass.csv', 'dna_sequence.txt', 'faostats_usa_arable_land.csv', 'fargo_hourly_deep_soil_temperature.csv', 'global_wheat.csv', 'gypsum_hourly.csv', 'gypsum_ks_daily_2018.csv', 'gypsum_ks_drydown_2017.csv', 'jabberwocky_lewis_carroll.txt', 'KS_Manhattan_6_SSW.txt', 'mauna_loa_co2.csv', 'morse_lookup_table.txt', 'mosquito_abundance.csv', 'nobel_physics.txt', 'ok_mesonet_8_apr_2019.csv', 'oliver_twist.txt', 'population_area_and_density.csv', 'soil_water_retention_curve.csv', 'storage_20180701_1km_v1.tif', 'wheat.jpg', 'world_wheat.csv']\n"
     ]
    }
   ],
   "source": [
    "# All files in the directory\n",
    "print(glob.os.listdir())"
   ]
  },
  {
   "cell_type": "code",
   "execution_count": 10,
   "metadata": {},
   "outputs": [
    {
     "name": "stdout",
     "output_type": "stream",
     "text": [
      "dna_sequence.txt\n",
      "jabberwocky_lewis_carroll.txt\n",
      "KS_Manhattan_6_SSW.txt\n",
      "morse_lookup_table.txt\n",
      "nobel_physics.txt\n",
      "oliver_twist.txt\n"
     ]
    }
   ],
   "source": [
    "# List and store all the text files in the same directory\n",
    "# using a list comprehension\n",
    "txtfiles = [file in glob.glob(\"*.txt\")]\n"
   ]
  },
  {
   "cell_type": "markdown",
   "metadata": {},
   "source": [
    "The last exercise of this short tutorial is to navigate a level up and then down to return to the directory in which we started this tutorial."
   ]
  },
  {
   "cell_type": "code",
   "execution_count": 13,
   "metadata": {},
   "outputs": [
    {
     "name": "stdout",
     "output_type": "stream",
     "text": [
      "/Users/andrespatrignani/Dropbox/Teaching/Scientific programming/pynotes/datasets\n",
      "/Users/andrespatrignani/Dropbox/Teaching/Scientific programming/pynotes/notebooks\n"
     ]
    }
   ],
   "source": [
    "print(glob.os.getcwd())\n",
    "glob.os.chdir('../notebooks/')\n",
    "print(glob.os.getcwd())"
   ]
  },
  {
   "cell_type": "markdown",
   "metadata": {},
   "source": [
    " As you can see it's farily easy to navigate the directory. You can use to initialize a project or inside for loops to control the the directories of your code."
   ]
  }
 ],
 "metadata": {
  "kernelspec": {
   "display_name": "Python 3",
   "language": "python",
   "name": "python3"
  },
  "language_info": {
   "codemirror_mode": {
    "name": "ipython",
    "version": 3
   },
   "file_extension": ".py",
   "mimetype": "text/x-python",
   "name": "python",
   "nbconvert_exporter": "python",
   "pygments_lexer": "ipython3",
   "version": "3.7.6"
  }
 },
 "nbformat": 4,
 "nbformat_minor": 4
}
