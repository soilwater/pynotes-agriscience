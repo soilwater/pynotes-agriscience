{
 "cells": [
  {
   "cell_type": "markdown",
   "metadata": {},
   "source": [
    "# Random module\n",
    "\n",
    "The `random` module from the standard Python library provides useful methods for choosing samples with or without replacement, drawing values from common distributions, generating random numbers within a specified range, and specifying random seeds for reproducibility.\n"
   ]
  },
  {
   "cell_type": "code",
   "execution_count": 1,
   "metadata": {},
   "outputs": [],
   "source": [
    "# Import module\n",
    "import random"
   ]
  },
  {
   "cell_type": "markdown",
   "metadata": {},
   "source": [
    "## Random number from a specific range\n",
    "\n",
    "By default the `random()` method will return a random float in the range 0 to 1 from a uniform distribution. In the uniform distribution each number has the same probability of being picked.\n",
    "\n",
    "In the examples below you can run the cell multiple times to generate different random numbers.\n"
   ]
  },
  {
   "cell_type": "code",
   "execution_count": 4,
   "metadata": {},
   "outputs": [
    {
     "data": {
      "text/plain": [
       "0.07532936865064432"
      ]
     },
     "execution_count": 4,
     "metadata": {},
     "output_type": "execute_result"
    }
   ],
   "source": [
    "random.random()"
   ]
  },
  {
   "cell_type": "code",
   "execution_count": 33,
   "metadata": {},
   "outputs": [
    {
     "data": {
      "text/plain": [
       "32.95480829051052"
      ]
     },
     "execution_count": 33,
     "metadata": {},
     "output_type": "execute_result"
    }
   ],
   "source": [
    "# Random float between 0 and 100\n",
    "random.random()*100"
   ]
  },
  {
   "cell_type": "code",
   "execution_count": 155,
   "metadata": {},
   "outputs": [
    {
     "data": {
      "text/plain": [
       "5"
      ]
     },
     "execution_count": 155,
     "metadata": {},
     "output_type": "execute_result"
    }
   ],
   "source": [
    "# Random integers\n",
    "random.randint(0,5) # Integer from 0 to 5"
   ]
  },
  {
   "cell_type": "code",
   "execution_count": 171,
   "metadata": {},
   "outputs": [
    {
     "name": "stdout",
     "output_type": "stream",
     "text": [
      "168.1272141045335\n"
     ]
    }
   ],
   "source": [
    "# A random float within a specific range\n",
    "min_val = 20\n",
    "max_val = 250\n",
    "rnd_val = (max_val - min_val)*random.random() + min_val\n",
    "print(rnd_val)"
   ]
  },
  {
   "cell_type": "code",
   "execution_count": 170,
   "metadata": {},
   "outputs": [
    {
     "data": {
      "text/plain": [
       "82"
      ]
     },
     "execution_count": 170,
     "metadata": {},
     "output_type": "execute_result"
    }
   ],
   "source": [
    "# Single random integer\n",
    "random.randrange(120)  # Integer from 0 to 119"
   ]
  },
  {
   "cell_type": "code",
   "execution_count": 5,
   "metadata": {},
   "outputs": [
    {
     "data": {
      "text/plain": [
       "133"
      ]
     },
     "execution_count": 5,
     "metadata": {},
     "output_type": "execute_result"
    }
   ],
   "source": [
    "# Random number from user-specified range\n",
    "random.randrange(120,150)"
   ]
  },
  {
   "cell_type": "code",
   "execution_count": 7,
   "metadata": {},
   "outputs": [
    {
     "data": {
      "text/plain": [
       "240"
      ]
     },
     "execution_count": 7,
     "metadata": {},
     "output_type": "execute_result"
    }
   ],
   "source": [
    "# Random numbers from user-specified range and step\n",
    "step = 10\n",
    "random.randrange(120,250,step)"
   ]
  },
  {
   "cell_type": "code",
   "execution_count": 8,
   "metadata": {},
   "outputs": [
    {
     "data": {
      "text/plain": [
       "4.565407149663365"
      ]
     },
     "execution_count": 8,
     "metadata": {},
     "output_type": "execute_result"
    }
   ],
   "source": [
    "# Random number from normal distribution\n",
    "mu, sigma = 5, 3 # Both variables defined at the same time\n",
    "random.gauss(mu, sigma)\n"
   ]
  },
  {
   "cell_type": "code",
   "execution_count": 11,
   "metadata": {},
   "outputs": [
    {
     "data": {
      "text/plain": [
       "0.0035038912626613175"
      ]
     },
     "execution_count": 11,
     "metadata": {},
     "output_type": "execute_result"
    }
   ],
   "source": [
    "# Random number from gamma distribution\n",
    "alpha = 0.1\n",
    "beta = 3\n",
    "random.gammavariate(alpha, beta)\n"
   ]
  },
  {
   "cell_type": "markdown",
   "metadata": {},
   "source": [
    "## Random elements from lists\n",
    "\n",
    "In many cases we are not interested in generating random numbers *per se*, but in drawing a random element from a list of elements. In this case the methods `choice()`, `choices()`, and `sample()` can result very useful.\n"
   ]
  },
  {
   "cell_type": "code",
   "execution_count": 54,
   "metadata": {},
   "outputs": [],
   "source": [
    " # Define a list of five elements for this section\n",
    "array = ['ATTA','AGTT','AAAC','CCTG','GGAT']\n"
   ]
  },
  {
   "cell_type": "code",
   "execution_count": 53,
   "metadata": {},
   "outputs": [
    {
     "data": {
      "text/plain": [
       "'ATTA'"
      ]
     },
     "execution_count": 53,
     "metadata": {},
     "output_type": "execute_result"
    }
   ],
   "source": [
    "# Single random element\n",
    "random.choice(array)\n"
   ]
  },
  {
   "cell_type": "code",
   "execution_count": 49,
   "metadata": {},
   "outputs": [
    {
     "data": {
      "text/plain": [
       "['AAAC', 'AAAC', 'AGTT', 'GGAT']"
      ]
     },
     "execution_count": 49,
     "metadata": {},
     "output_type": "execute_result"
    }
   ],
   "source": [
    "# Multiple elements WITH replacement\n",
    "random.choices(array, k=4) \n"
   ]
  },
  {
   "cell_type": "markdown",
   "metadata": {},
   "source": [
    "```{note}\n",
    "When drawing elemets **WITH replacement** the elements in the resulting list may appear more than one time. Run the previous code cell few times to see if you can obtain repeated elements.\n",
    "```"
   ]
  },
  {
   "cell_type": "code",
   "execution_count": 58,
   "metadata": {},
   "outputs": [
    {
     "data": {
      "text/plain": [
       "['CCTG', 'AAAC', 'GGAT', 'AGTT']"
      ]
     },
     "execution_count": 58,
     "metadata": {},
     "output_type": "execute_result"
    }
   ],
   "source": [
    "# Multiple elements WITHOUT replacement\n",
    "random.sample(array, k=4)\n",
    "#random.sample(array, k=len(array)) # To shuffle all elements"
   ]
  },
  {
   "cell_type": "markdown",
   "metadata": {},
   "source": [
    "```{note}\n",
    "When drawing elements **WITHOUT replacement** all the elements in the resulting list will be unique. In this case, the value of `k` must be equal or lower than the number of elements in the list.\n",
    "```"
   ]
  },
  {
   "cell_type": "markdown",
   "metadata": {},
   "source": [
    "## Setting up a random seed\n",
    "\n",
    "The random module actually generates pseudo-random numbers that have properties of random numbers. To ensure that results from random processes are reproducible it is possible to set up a random seed, which is basically a number that initializes the sequence in the random number generator.\n",
    "\n",
    "The Mersenne-Twister is perhaps one of the most popular pseudo-random generator algorithms (Matsumoto and Nishimura, 1998). For a simpler pseudo-random generator you can also read the manuscript by Payne et al 1969.\n",
    "\n",
    "If you run the example below you should obtain the same result that I obtained. It will also remain constant no matter how many times you run the cell.\n",
    "\n",
    ">Random seeds in Python are exclusive of the cell in which the seed was defined. So if you run the code `random.randint(a=0, b=10)` in a different cell you won't obtain the same number. To do that you need to specify the random seed again."
   ]
  },
  {
   "cell_type": "code",
   "execution_count": 47,
   "metadata": {},
   "outputs": [
    {
     "data": {
      "text/plain": [
       "9"
      ]
     },
     "execution_count": 47,
     "metadata": {},
     "output_type": "execute_result"
    }
   ],
   "source": [
    "random.seed(10)\n",
    "random.randint(a=0, b=10)"
   ]
  },
  {
   "cell_type": "code",
   "execution_count": 43,
   "metadata": {},
   "outputs": [
    {
     "data": {
      "text/plain": [
       "0"
      ]
     },
     "execution_count": 43,
     "metadata": {},
     "output_type": "execute_result"
    }
   ],
   "source": [
    "# Seed no longer applies\n",
    "# You will otain different values each time\n",
    "random.randint(a=0, b=10)"
   ]
  },
  {
   "cell_type": "markdown",
   "metadata": {},
   "source": [
    "## References\n",
    "\n",
    "Matsumoto, M. and Nishimura, T., 1998. Mersenne twister: a 623-dimensionally equidistributed uniform pseudo-random number generator. ACM Transactions on Modeling and Computer Simulation (TOMACS), 8(1), pp.3-30.\n",
    "\n",
    "Random module official documentation: https://docs.python.org/3/library/random.html\n",
    "\n",
    "Payne, W.H., Rabung, J.R. and Bogyo, T.P., 1969. Coding the Lehmer pseudo-random number generator. Communications of the ACM, 12(2), pp.85-86."
   ]
  }
 ],
 "metadata": {
  "kernelspec": {
   "display_name": "Python 3",
   "language": "python",
   "name": "python3"
  },
  "language_info": {
   "codemirror_mode": {
    "name": "ipython",
    "version": 3
   },
   "file_extension": ".py",
   "mimetype": "text/x-python",
   "name": "python",
   "nbconvert_exporter": "python",
   "pygments_lexer": "ipython3",
   "version": "3.8.5"
  }
 },
 "nbformat": 4,
 "nbformat_minor": 4
}
