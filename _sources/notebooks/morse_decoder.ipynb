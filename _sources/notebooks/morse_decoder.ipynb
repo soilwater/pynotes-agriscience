{
 "cells": [
  {
   "cell_type": "markdown",
   "metadata": {},
   "source": [
    "# Morse code decoder\n",
    "\n",
    "The goal of this exercise is to decode a message written using Morse code. Morse code consists of dits and dahs to represent alphanumeric characters. Although there are rules for the spacing between letters and words, in this case there is a single space between individual Morse codes and three spaces between words.\n",
    "\n",
    "A lookup table of Morse codes and characters is available in the Dataset folder. We will use the Pandas library to read the lookup table and also to identify the different codes and match them with the right letter of the alphabet. The message that we will decode is: \n",
    "\n",
    "    .- -..   .- ... - .-. .-   .--. . .-.   .- ... .--. . .-. .-\n",
    "\n",
    "\"Ad Astra per Aspera\", which is a Latin expression that means \"To the Stars through Difficulties\" and is the motto of the state of Kansas.\n",
    "\n",
    "Our first approach will be simple and will ignore some technical issues (e.g. spacing between words). Our goal is to decode the message and to print it in a human readable format. If we can achieve this, then we can spend more time embellishing the output and polishing technical aspects. The solution assumes that the encoded message is a single long string of Morse codes without breaklines.\n",
    "\n",
    ">Some insects like stingless bees (*Meliponini*) and nonpasserine birds such as Corncrake males (*Crex crex*) have shown simple ways of accoustic communication resembling Morse code.\n",
    "\n"
   ]
  },
  {
   "cell_type": "markdown",
   "metadata": {},
   "source": [
    "## Step 1: Load a Morse code lookup table\n",
    "\n",
    "Load lookup table of Morse codes and alphabet characters using the Pandas library. The `C` engine (default) is faster while the `python` engine is currently more feature-complete."
   ]
  },
  {
   "cell_type": "code",
   "execution_count": 11,
   "metadata": {},
   "outputs": [],
   "source": [
    "import pandas as pd\n",
    "\n",
    "morse_table = pd.read_csv('https://raw.githubusercontent.com/soilwater/pynotes-agriscience/gh-pages/datasets/morse_lookup_table.txt',\n",
    "                          sep='\\t',\n",
    "                          engine='python')\n"
   ]
  },
  {
   "cell_type": "markdown",
   "metadata": {},
   "source": [
    "## Step 2: Identify the individual Morse codes\n",
    "\n",
    "This step is essential to decode the message. The fundamental unit of the lookup table is a single code or character, so we need to work at this level to identify the matching Morse code in the DataFrame and then retrieve the corresponding character.\n",
    "\n",
    "We will use the `.split()` method of strings to accomplish this."
   ]
  },
  {
   "cell_type": "code",
   "execution_count": 24,
   "metadata": {},
   "outputs": [
    {
     "name": "stdout",
     "output_type": "stream",
     "text": [
      "['.-', '-..', '', '', '.-', '...', '-', '.-.', '.-', '', '', '.--.', '.', '.-.', '', '', '.-', '...', '.--.', '.', '.-.', '.-']\n"
     ]
    }
   ],
   "source": [
    "encoded_string = \".- -..   .- ... - .-. .-   .--. . .-.   .- ... .--. . .-. .-\"\n",
    "list_morse_codes = encoded_string.split(' ') # Splits at (and removes) the space.\n",
    "print(list_morse_codes) # Let's see the result of the previous line\n"
   ]
  },
  {
   "cell_type": "markdown",
   "metadata": {},
   "source": [
    "Note that the method removes the spaces but still leaves some empty strings. We will not worry about this right now. In fact, the `.split()` method removed all the spaces between codes so we can use the remaining empty strings to separate words. Again, maybe not ideal, but this is something we can fix later. **We made great progress splitting up the encoded message into individual Morse codes.**\n",
    "\n",
    "## Step 3: Match codes and characters\n",
    "Now that we have the different Morse codes separated into individual elements of a list we need to find a way of matching each code in the encoded string with the Morse code in the lookup, and then we will use the position of the matched Morse code to retrieve the corresponding character. This is similar to what we would do if we solve this problem by hand, it's just that we normally overlook tiny crucial steps. For instance, you may say: *sure after finding the matching Morse code we need to select the character located in the same matching row*, but we need to tell the computer all these tiny decisions, so that it can replicate what we do by hand using pencil and paper.\n",
    "\n",
    "We will start testing our approach with a single code. At this point it's common for beginners to start writing loops and if statements without ensuring that the task that will be iterated works as expected. A simple test using a trivial case can save substantial amount of time."
   ]
  },
  {
   "cell_type": "code",
   "execution_count": 25,
   "metadata": {},
   "outputs": [
    {
     "data": {
      "text/plain": [
       "0      True\n",
       "1     False\n",
       "2     False\n",
       "3     False\n",
       "4     False\n",
       "5     False\n",
       "6     False\n",
       "7     False\n",
       "8     False\n",
       "9     False\n",
       "10    False\n",
       "11    False\n",
       "12    False\n",
       "13    False\n",
       "14    False\n",
       "15    False\n",
       "16    False\n",
       "17    False\n",
       "18    False\n",
       "19    False\n",
       "20    False\n",
       "21    False\n",
       "22    False\n",
       "23    False\n",
       "24    False\n",
       "25    False\n",
       "26    False\n",
       "27    False\n",
       "28    False\n",
       "29    False\n",
       "30    False\n",
       "31    False\n",
       "32    False\n",
       "33    False\n",
       "34    False\n",
       "35    False\n",
       "36    False\n",
       "37    False\n",
       "38    False\n",
       "39    False\n",
       "40    False\n",
       "41    False\n",
       "42    False\n",
       "43    False\n",
       "44    False\n",
       "45    False\n",
       "46    False\n",
       "47    False\n",
       "48    False\n",
       "49    False\n",
       "50    False\n",
       "51    False\n",
       "52    False\n",
       "53    False\n",
       "Name: code, dtype: bool"
      ]
     },
     "execution_count": 25,
     "metadata": {},
     "output_type": "execute_result"
    }
   ],
   "source": [
    "morse_table.code == list_morse_codes[0] # Test matching the first Morse code, which is an 'A'"
   ]
  },
  {
   "cell_type": "markdown",
   "metadata": {},
   "source": [
    "We obtained a boolean vector that will allow us to retrieve the matching character effortlessly. This type of boolean arrays might result confusing at first, but they are extremely useful while matching, filtering, and synthesizing data.\n",
    "\n",
    "Now we can use this boolean vector to retrieve the corresponding character. The result will only consist of the rows that were designated as True."
   ]
  },
  {
   "cell_type": "code",
   "execution_count": 35,
   "metadata": {},
   "outputs": [
    {
     "data": {
      "text/plain": [
       "'A'"
      ]
     },
     "execution_count": 35,
     "metadata": {},
     "output_type": "execute_result"
    }
   ],
   "source": [
    "idx = morse_table.code == list_morse_codes[0] # store boolean into a variable called `idx`\n",
    "morse_table.character[idx].values[0]\n"
   ]
  },
  {
   "cell_type": "markdown",
   "metadata": {},
   "source": [
    "Bingo! We were able to decipher the first Morse code of the secret string. Now we need to repeat the same operation for each Morse code. We will also add an `if` statement to handle the empty strings `''`. Basically everytime we hit one of these empty strings we will append a space. This will result in words separated by two spaces rather than one, but this is a small detail at this point.\n",
    "\n",
    ">Note that if we don't handle the empty strings represented by `''` our code will crash because the look up table does not have such entry. Also, removing them from the list is not wise because we would lose track of the different words.\n",
    "\n",
    "## Step 4: Repeat for each Morse code"
   ]
  },
  {
   "cell_type": "code",
   "execution_count": 27,
   "metadata": {},
   "outputs": [
    {
     "name": "stdout",
     "output_type": "stream",
     "text": [
      "AD  ASTRA  PER  ASPERA\n"
     ]
    }
   ],
   "source": [
    "decoded_string = [] # initialize empty list to be populated with characters\n",
    "space = \" \"\n",
    "\n",
    "for code in list_morse_codes:\n",
    "    \n",
    "    # Handle empty strings as a consequence of the splitting\n",
    "    if code == '':\n",
    "        decoded_string.append(space) # Will add a space per each space between words in the original message\n",
    "        \n",
    "    else:\n",
    "        idx = morse_table.code == code\n",
    "        decoded_string.append(morse_table.character[idx].values[0])\n",
    "        \n",
    "print(''.join(decoded_string)) "
   ]
  },
  {
   "cell_type": "markdown",
   "metadata": {},
   "source": [
    "## Entire code\n",
    "\n",
    "Combining all the steps and adding few more lines of code to handle the emty strings results in the following code:"
   ]
  },
  {
   "cell_type": "code",
   "execution_count": 23,
   "metadata": {},
   "outputs": [
    {
     "name": "stdout",
     "output_type": "stream",
     "text": [
      "AD ASTRA PER ASPERA\n"
     ]
    }
   ],
   "source": [
    "# A complete and improved version of the previous code that handles strings with multiple lines.\n",
    "\n",
    "encoded_string = \".- -..   .- ... - .-. .-   .--. . .-.   .- ... .--. . .-. .-\"\n",
    "list_morse_codes = encoded_string.split(' ') # It removes the spaces, so we don't have to worry about spaces between characters anymore\n",
    "space = \" \"\n",
    "decoded_string = []\n",
    "preceding_space = False # Track empty spaces\n",
    "\n",
    "for code in list_morse_codes:\n",
    "    \n",
    "    # Handle first empty string to separate words\n",
    "    if code == '' and not preceding_space:\n",
    "        decoded_string.append(space) # Will add a space per each space between words in the original message\n",
    "        preceding_space = True # Convert to True because the next iteration needs to know that we already have a space\n",
    "    \n",
    "    # Bypass extra empty strings\n",
    "    elif preceding_space:\n",
    "        preceding_space = False # Restore the variable\n",
    "        continue\n",
    "        \n",
    "    else:\n",
    "        preceding_space = False # Restore the variable\n",
    "        idx = morse_table.code == code\n",
    "        decoded_string.append(morse_table.character[idx].values[0])\n",
    "        \n",
    "print(''.join(decoded_string)) \n"
   ]
  },
  {
   "cell_type": "markdown",
   "metadata": {},
   "source": [
    "## References\n",
    "\n",
    "Hrncir, M. and Barth, F.G., 2014. Vibratory communication in stingless bees (Meliponini): the challenge of interpreting the signals. In Studying vibrational communication (pp. 349-374). Springer, Berlin, Heidelberg.\n",
    "\n",
    "Ręk, P. and Osiejuk, T.S., 2010. Sophistication and simplicity: conventional communication in a rudimentary system. Behavioral Ecology, 21(6), pp.1203-1210."
   ]
  }
 ],
 "metadata": {
  "kernelspec": {
   "display_name": "Python 3",
   "language": "python",
   "name": "python3"
  },
  "language_info": {
   "codemirror_mode": {
    "name": "ipython",
    "version": 3
   },
   "file_extension": ".py",
   "mimetype": "text/x-python",
   "name": "python",
   "nbconvert_exporter": "python",
   "pygments_lexer": "ipython3",
   "version": "3.8.5"
  }
 },
 "nbformat": 4,
 "nbformat_minor": 4
}
