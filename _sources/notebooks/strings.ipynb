{
 "cells": [
  {
   "cell_type": "markdown",
   "metadata": {
    "slideshow": {
     "slide_type": "-"
    }
   },
   "source": [
    "# Strings\n",
    "\n",
    "At first it seems that programming languages are only useful to only crunch numbers, but often times we realize that we need to manipulating strings. Strings are ubiquitous, they are appear in sample names, locations, table headers, DNA sequences, and even for printing short strings to debug your own code."
   ]
  },
  {
   "cell_type": "markdown",
   "metadata": {},
   "source": [
    "## Define strings"
   ]
  },
  {
   "cell_type": "code",
   "execution_count": 12,
   "metadata": {},
   "outputs": [
    {
     "name": "stdout",
     "output_type": "stream",
     "text": [
      "<class 'str'>\n",
      "<class 'str'>\n",
      "<class 'str'>\n",
      "The layer(s) of generally loose mineral and/or organic material \n",
      "that are affected by physical, chemical, and/or biological processes\n",
      "at or near the planetary surface and usually hold liquids, gases, \n",
      "and biota and support plants.\n"
     ]
    }
   ],
   "source": [
    "# Apostrophes\n",
    "soil_1 = 'Clay loam'\n",
    "print(type(soil_1))\n",
    "\n",
    "# Quotation marks\n",
    "soil_2 = \"Silty loam\"\n",
    "print(type(soil_2))\n",
    "\n",
    "# Triple apostrophes or triple quotes can define a string spanning multiple lines\n",
    "soil_definition = \"\"\"The layer(s) of generally loose mineral and/or organic material \n",
    "that are affected by physical, chemical, and/or biological processes\n",
    "at or near the planetary surface and usually hold liquids, gases, \n",
    "and biota and support plants.\"\"\"\n",
    "\n",
    "print(type(soil_definition))\n",
    "print(soil_definition)"
   ]
  },
  {
   "cell_type": "markdown",
   "metadata": {},
   "source": [
    "## Split text lines into a list"
   ]
  },
  {
   "cell_type": "code",
   "execution_count": 19,
   "metadata": {},
   "outputs": [
    {
     "name": "stdout",
     "output_type": "stream",
     "text": [
      "['The layer(s) of generally loose mineral and/or organic material ', 'that are affected by physical, chemical, and/or biological processes', 'at or near the planetary surface and usually hold liquids, gases, ', 'and biota and support plants.']\n"
     ]
    }
   ],
   "source": [
    "# Split text lines into a list\n",
    "\n",
    "str_lines = soil_definition.splitlines(); # Split lines at the carriage return\n",
    "print(str_lines)"
   ]
  },
  {
   "cell_type": "markdown",
   "metadata": {},
   "source": [
    "## Split string on a given character"
   ]
  },
  {
   "cell_type": "code",
   "execution_count": 21,
   "metadata": {},
   "outputs": [
    {
     "name": "stdout",
     "output_type": "stream",
     "text": [
      "['The layer(s) of generally loose mineral and/or organic material \\nthat are affected by physical', ' chemical', ' and/or biological processes\\nat or near the planetary surface and usually hold liquids', ' gases', ' \\nand biota and support plants.']\n",
      " \n",
      "and biota and support plants.\n"
     ]
    }
   ],
   "source": [
    "str_commas = soil_definition.split(',')\n",
    "print(str_commas)\n",
    "print(str_commas[4]) # Now we can access individual words\n"
   ]
  },
  {
   "cell_type": "code",
   "execution_count": 22,
   "metadata": {},
   "outputs": [
    {
     "name": "stdout",
     "output_type": "stream",
     "text": [
      "['lat', '36.7', 'lon', '-97.5', 'elev', '345', 'meters']\n",
      "36.7\n"
     ]
    }
   ],
   "source": [
    "# Split a single string. This method is useful when we encode information in file names and URL links.\n",
    "data = 'lat_36.7_lon_-97.5_elev_345_meters'.split('_')\n",
    "print(data)\n",
    "print(data[1])\n",
    "lat = float(data[1]) # Convert string into float and store it in a variable called 'lat'\n"
   ]
  },
  {
   "cell_type": "markdown",
   "metadata": {},
   "source": [
    "## Replace characters"
   ]
  },
  {
   "cell_type": "code",
   "execution_count": 24,
   "metadata": {},
   "outputs": [
    {
     "name": "stdout",
     "output_type": "stream",
     "text": [
      "filename\n",
      "file_plot_name\n"
     ]
    }
   ],
   "source": [
    "# Use the replace function to add or strip a character (or sequence of characters) from a string\n",
    "print('file_name'.replace('_', ''))      # Remove underscore\n",
    "print('file_name'.replace('_', '_plot_')) # Replace underscore with 'hello'"
   ]
  },
  {
   "cell_type": "markdown",
   "metadata": {},
   "source": [
    "## Join strings"
   ]
  },
  {
   "cell_type": "code",
   "execution_count": 6,
   "metadata": {},
   "outputs": [
    {
     "name": "stdout",
     "output_type": "stream",
     "text": [
      "Silty clay loam\n",
      "Silty-clay-loam\n"
     ]
    }
   ],
   "source": [
    "# Concatenate strigs in list using custom delimiter\n",
    "\n",
    "# Useful when building file names and URLs. You can pass a tuple or a list.\n",
    "texture_list = [\"Silty\", \"clay\", \"loam\"]\n",
    "print(\" \".join(texture_list))\n",
    "print(\"-\".join(texture_list))\n"
   ]
  },
  {
   "cell_type": "code",
   "execution_count": 5,
   "metadata": {},
   "outputs": [
    {
     "name": "stdout",
     "output_type": "stream",
     "text": [
      "Silty clay loam\n"
     ]
    }
   ],
   "source": [
    "# Concatenate strigs in tuple using custom delimiter\n",
    "\n",
    "texture_tuple = (\"Silty\", \"clay\", \"loam\")\n",
    "print(\" \".join(texture_tuple))"
   ]
  },
  {
   "cell_type": "code",
   "execution_count": 10,
   "metadata": {},
   "outputs": [
    {
     "name": "stdout",
     "output_type": "stream",
     "text": [
      "/User/Documents/Datasets/myfile.csv\n"
     ]
    }
   ],
   "source": [
    "# Concatenate strings using the '+' sign\n",
    "\n",
    "filename = \"myfile\"\n",
    "extension = \".csv\"\n",
    "path = \"/User/Documents/Datasets/\"\n",
    "fullpath = path + filename + extension\n",
    "print(fullpath)\n"
   ]
  },
  {
   "cell_type": "code",
   "execution_count": 30,
   "metadata": {},
   "outputs": [
    {
     "name": "stdout",
     "output_type": "stream",
     "text": [
      "A = 2\n"
     ]
    }
   ],
   "source": [
    "# Merge strings and numbers\n",
    "\n",
    "A = 2\n",
    "print('A = ' + str(A)) # Need to convert the integer to a string using the str() function"
   ]
  },
  {
   "cell_type": "markdown",
   "metadata": {},
   "source": [
    "## Formatting strings"
   ]
  },
  {
   "cell_type": "code",
   "execution_count": 18,
   "metadata": {},
   "outputs": [
    {
     "data": {
      "text/plain": [
       "True"
      ]
     },
     "execution_count": 18,
     "metadata": {},
     "output_type": "execute_result"
    }
   ],
   "source": [
    "# Check whether ALL the characters in the string are numbers \n",
    "\n",
    "str.isnumeric('20')   # Returns True\n"
   ]
  },
  {
   "cell_type": "code",
   "execution_count": 19,
   "metadata": {},
   "outputs": [
    {
     "data": {
      "text/plain": [
       "False"
      ]
     },
     "execution_count": 19,
     "metadata": {},
     "output_type": "execute_result"
    }
   ],
   "source": [
    "# Pperiods are not numbers!\n",
    "str.isnumeric('2.0')  # Returns False"
   ]
  },
  {
   "cell_type": "code",
   "execution_count": 23,
   "metadata": {},
   "outputs": [
    {
     "name": "stdout",
     "output_type": "stream",
     "text": [
      "The sky is blue as the ocean\n",
      "The sky is %s as the ocean blue\n",
      "The sky is blue as the ocean\n",
      "The sky is blue as the ocean\n"
     ]
    }
   ],
   "source": [
    "# Traditional way of formatting strings. Also known as %-formatting\n",
    "print(\"The sky is %s as the ocean\" % \"blue\") # Still works, but might be deprecated in the future\n",
    "print(\"The sky is %s as the ocean\" , \"blue\") # This won't work\n",
    "\n",
    "# New f-string formatting\n",
    "print(\"The sky is {} as the ocean\".format(\"blue\")) # Variables must follow the order of the brackets\n",
    "print(\"The sky is {color} as the ocean\".format(color=\"blue\")) # Recommended\n"
   ]
  },
  {
   "cell_type": "code",
   "execution_count": 24,
   "metadata": {},
   "outputs": [
    {
     "name": "stdout",
     "output_type": "stream",
     "text": [
      "\n",
      "Jan\n",
      "Feb\n",
      "Mar\n"
     ]
    }
   ],
   "source": [
    "# Print in new line\n",
    "print(\"\\nJan\\nFeb\\nMar\") # \\n represents a new line"
   ]
  },
  {
   "cell_type": "code",
   "execution_count": 7,
   "metadata": {},
   "outputs": [
    {
     "name": "stdout",
     "output_type": "stream",
     "text": [
      "The height is 6' 4\"\n"
     ]
    }
   ],
   "source": [
    "# Escaping using the backslash since inches are represented by \"\n",
    "print(\"The height is 6' 4\\\"\") "
   ]
  },
  {
   "cell_type": "code",
   "execution_count": 8,
   "metadata": {},
   "outputs": [
    {
     "name": "stdout",
     "output_type": "stream",
     "text": [
      "The area of a circle with a diameter of 1 cm has an area of 3.14 cm\n"
     ]
    }
   ],
   "source": [
    "diameter = 1\n",
    "circle_area = 3.14\n",
    "print('The area of a circle with a diameter of {diameter} cm has an area of {circle_area} cm'\n",
    "      .format(diameter=diameter,circle_area=circle_area))\n"
   ]
  },
  {
   "cell_type": "code",
   "execution_count": 16,
   "metadata": {},
   "outputs": [
    {
     "name": "stdout",
     "output_type": "stream",
     "text": [
      "fit: a=0.300, b=0.100, c=120\n",
      "DOY: 001\n",
      "DOY: 012\n",
      "DOY: 365\n",
      "DOY: A001\n",
      "DOY: A365\n",
      "034\n"
     ]
    }
   ],
   "source": [
    "# Write a label for a plot using %-formatting\n",
    "\n",
    "# % Denotes the beginning of the string format\n",
    "# f stands for float\n",
    "parvalue = [0.3,0.1,120] # Three parameter values, typically obtained by curve fitting\n",
    "label = 'fit: a=%5.3f, b=%5.3f, c=%3.0f' % tuple(parvalue)\n",
    "print(label)\n",
    "\n",
    "# 5 is the field width (columns including the dot), and 3 is the number of decimal places\n",
    "\n",
    "print('DOY: %03.0f' % tuple([1]))\n",
    "print('DOY: %03.0f' % tuple([12]))\n",
    "print('DOY: %03.0f' % tuple([365]))\n",
    "\n",
    "# Example for MODIS URL request date\n",
    "print('DOY: A%03.0f' % tuple([1]))\n",
    "print('DOY: A%03.0f' % tuple([365]))\n",
    "\n",
    "# An alternative to fill with leading zeros\n",
    "print('34'.zfill(3))\n"
   ]
  },
  {
   "cell_type": "markdown",
   "metadata": {},
   "source": [
    "## Comparing strings"
   ]
  },
  {
   "cell_type": "code",
   "execution_count": 28,
   "metadata": {},
   "outputs": [
    {
     "name": "stdout",
     "output_type": "stream",
     "text": [
      "False\n",
      "False\n",
      "April\n",
      "APRIL\n"
     ]
    }
   ],
   "source": [
    "# Compare strings\n",
    "print('April' == 'May')\n",
    "print('April' == 'april') # Case matters\n",
    "\n",
    "print('april'.capitalize())\n",
    "print('april'.upper())"
   ]
  },
  {
   "cell_type": "markdown",
   "metadata": {},
   "source": [
    "## String sequences"
   ]
  },
  {
   "cell_type": "code",
   "execution_count": 30,
   "metadata": {},
   "outputs": [
    {
     "name": "stdout",
     "output_type": "stream",
     "text": [
      "6\n",
      "False\n",
      "False\n"
     ]
    }
   ],
   "source": [
    "# Count individual characters\n",
    "total_p = soil_definition.count('p') # Count number of 'p' characters in apple\n",
    "print(total_p)\n",
    "\n",
    "# Count sequence of characters\n",
    "soil_definition.count('s') # You can also use a string, without declaring a new variable.\n",
    "\n",
    "# Find if word starts with one of the following sequences\n",
    "print(soil_definition.startswith(('app','ora'))) # Note that the input is a tuple: ('app','ora')\n",
    "\n",
    "# Find if word ends with one of the following sequences\n",
    "print(soil_definition.endswith(('ple','nge')))   # Note that the input is a tuple ('ple','nge')"
   ]
  }
 ],
 "metadata": {
  "kernelspec": {
   "display_name": "Python 3",
   "language": "python",
   "name": "python3"
  },
  "language_info": {
   "codemirror_mode": {
    "name": "ipython",
    "version": 3
   },
   "file_extension": ".py",
   "mimetype": "text/x-python",
   "name": "python",
   "nbconvert_exporter": "python",
   "pygments_lexer": "ipython3",
   "version": "3.8.5"
  }
 },
 "nbformat": 4,
 "nbformat_minor": 4
}
