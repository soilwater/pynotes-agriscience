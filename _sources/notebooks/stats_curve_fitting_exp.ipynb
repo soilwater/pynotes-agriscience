{
 "cells": [
  {
   "cell_type": "markdown",
   "metadata": {},
   "source": [
    "# Curve Fitting: Exponential Decay\n",
    "\n",
    "In this example we will fit a simple exponential decay model to a timeseries of decreasing surface soil water content.\n",
    "\n",
    "## Intuition\n",
    "\n",
    "After a large rainfall event the soil surface becomes wet reaching values near saturation. Saturation simply means that the pores spaces in the soil are filled with water rather than air. From this point the soil starts losing water by drainage, evaporation, and root water uptake. As a consequence, and assuming no additional rainfal, the soil becomes drier with every day that goes by. However, because of adhesive forces between water molecules and soil particles, it becomes increasingly harder for the soil to lose water. At moderate to low moisture contents the soil water is mostly lost from the soil in the form of vapor due to the process of evaporation. Very little is lost due to drainage or even root water uptake. Thus, the rate of water loss is reduced, to an extreme where the rate of water loss becomes nearly zero and the soil water content remains constant.\n",
    "\n",
    "This process can be approximated using an exponential decay type of equation. Several studies have used this approach to test the drying rate of the soil surface from dedicated satellite mission that measure soil moisture.\n",
    "\n",
    "## An exponential decay model\n",
    "\n",
    "One of the many variations of this model is the following:\n",
    "\n",
    "$$\\theta = A \\; exp\\Bigg(\\frac{t}{\\tau}\\Bigg) + \\theta_f$$\n",
    "\n",
    "$\\theta$ = Volumetric water content in (cm<sup>3</sup> cm<sup>-3</sup>)\n",
    "\n",
    "$t$ is time since beginning of the drydown (days)\n",
    "\n",
    "$A$ represents the initial water content of the drydown period\n",
    "\n",
    "$\\tau$ is related to the rate of water loss and changes the concavity of the curve\n",
    "\n",
    "$\\theta_f$ is the asymptotic volumetric water content approached by the curve under a prolongued period without rainfall.\n",
    "\n",
    "$A$, $\\tau$, and $\\theta_f$ are empirical parameters determined by fitting observed data\n",
    "\n",
    "## Dataset\n",
    "\n",
    "The data set consists of a timeseries of voluemtric water content ($\\theta$) at 5-cm depth observed at the Gypsum station of the Kansas Mesonet. The drydown started on 1-jul-2017 (DOY=182)after a substantial rainfall event that was able to moisten the top soil and lasted for about 47 days. The drydown ended around 16-aug-2017 (DOY=228). There were no appreciable rainfall events during the drydown period.\n",
    "\n",
    "The dataset is in file names `gypsum_ks_drydown_2017.csv` contained in the the `Datasets` folder.\n"
   ]
  },
  {
   "cell_type": "markdown",
   "metadata": {},
   "source": [
    "## Problem\n",
    "\n",
    "The first step is to import a tentative list of modules that we need to solve the problem. We will load the usual modules to handle tabular data. The key module to perform the fitting routine is called `curve_fit` and is located in the `scipy.optimize` module."
   ]
  },
  {
   "cell_type": "code",
   "execution_count": 1,
   "metadata": {},
   "outputs": [],
   "source": [
    "import pandas as pd\n",
    "import matplotlib.pyplot as plt\n",
    "\n",
    "from scipy.optimize import curve_fit"
   ]
  },
  {
   "cell_type": "code",
   "execution_count": 2,
   "metadata": {},
   "outputs": [
    {
     "data": {
      "text/html": [
       "<div>\n",
       "<style scoped>\n",
       "    .dataframe tbody tr th:only-of-type {\n",
       "        vertical-align: middle;\n",
       "    }\n",
       "\n",
       "    .dataframe tbody tr th {\n",
       "        vertical-align: top;\n",
       "    }\n",
       "\n",
       "    .dataframe thead th {\n",
       "        text-align: right;\n",
       "    }\n",
       "</style>\n",
       "<table border=\"1\" class=\"dataframe\">\n",
       "  <thead>\n",
       "    <tr style=\"text-align: right;\">\n",
       "      <th></th>\n",
       "      <th>day_of_the_year</th>\n",
       "      <th>volumetric_water_content</th>\n",
       "    </tr>\n",
       "  </thead>\n",
       "  <tbody>\n",
       "    <tr>\n",
       "      <th>0</th>\n",
       "      <td>182</td>\n",
       "      <td>0.3766</td>\n",
       "    </tr>\n",
       "    <tr>\n",
       "      <th>1</th>\n",
       "      <td>183</td>\n",
       "      <td>0.3518</td>\n",
       "    </tr>\n",
       "    <tr>\n",
       "      <th>2</th>\n",
       "      <td>184</td>\n",
       "      <td>0.3284</td>\n",
       "    </tr>\n",
       "    <tr>\n",
       "      <th>3</th>\n",
       "      <td>185</td>\n",
       "      <td>0.3121</td>\n",
       "    </tr>\n",
       "    <tr>\n",
       "      <th>4</th>\n",
       "      <td>186</td>\n",
       "      <td>0.2926</td>\n",
       "    </tr>\n",
       "  </tbody>\n",
       "</table>\n",
       "</div>"
      ],
      "text/plain": [
       "   day_of_the_year  volumetric_water_content\n",
       "0              182                    0.3766\n",
       "1              183                    0.3518\n",
       "2              184                    0.3284\n",
       "3              185                    0.3121\n",
       "4              186                    0.2926"
      ]
     },
     "execution_count": 2,
     "metadata": {},
     "output_type": "execute_result"
    }
   ],
   "source": [
    "data = pd.read_csv('/Users/andrespatrignani/Dropbox/Teaching/Scientific programming/introcoding-spring-2019/Datasets/gypsum_ks_drydown_2017.csv')\n",
    "data.head(5)"
   ]
  },
  {
   "cell_type": "markdown",
   "metadata": {},
   "source": [
    "To handle the x (day of the year) and y (soil water content) data with shorter and more intuitive names during the curve fitting process we will store these variables into `xdata` and `ydata`. \n",
    "\n",
    "Here we need to clarify two points:\n",
    "\n",
    "1. The model requires days since the beginning of the drydown. Because the dataset contains days of the year we will need to re-adjust the values so that we start the drydown from day 0.\n",
    "\n",
    "2. We will also also convert the volumetric water content into percentage so that is a bit easier to read. For instance, a volumetric water content of 20% means that 20% of a given volume of soil is occupied by water."
   ]
  },
  {
   "cell_type": "code",
   "execution_count": 31,
   "metadata": {},
   "outputs": [],
   "source": [
    "xdata = data.day_of_the_year - data.day_of_the_year[0]\n",
    "ydata = data.volumetric_water_content*100"
   ]
  },
  {
   "cell_type": "markdown",
   "metadata": {},
   "source": [
    "It's always a good idea to visualize our dataset. We will throw some labels for completeness."
   ]
  },
  {
   "cell_type": "code",
   "execution_count": 44,
   "metadata": {},
   "outputs": [
    {
     "data": {
      "image/png": "[encoded data removed]",
      "text/plain": [
       "<Figure size 432x288 with 1 Axes>"
      ]
     },
     "metadata": {
      "needs_background": "light"
     },
     "output_type": "display_data"
    }
   ],
   "source": [
    "plt.plot(xdata, ydata, 'b-', label='obs')\n",
    "plt.xlabel('Days')\n",
    "plt.ylabel('Volumetric water content (% soil volume)')\n",
    "plt.show()"
   ]
  },
  {
   "cell_type": "markdown",
   "metadata": {},
   "source": [
    "Next step is about defining the model. We can use a traditional Python function or a lambda function. We will use the latter since this a rather simple model that we can fit in one line of code."
   ]
  },
  {
   "cell_type": "code",
   "execution_count": 33,
   "metadata": {},
   "outputs": [],
   "source": [
    "model = lambda x,a,b,c: a * np.exp(-x/b) + c"
   ]
  },
  {
   "cell_type": "markdown",
   "metadata": {},
   "source": [
    "It's time to fit the model to our data. Our goal is to obtained the best unbiased parameter values for our model. Remember that in the model description we said that there were three parameters that are determined empirically? This is step where we do that.\n",
    "\n",
    "The `curve_fit` functions is stright forward. We pass the `model`, then the `xdata`, and lastly the `ydata`. We can add some restrictions to the range of the parameters, but we will do that later to keep the problem a bit simpler for now."
   ]
  },
  {
   "cell_type": "code",
   "execution_count": 34,
   "metadata": {},
   "outputs": [
    {
     "name": "stdout",
     "output_type": "stream",
     "text": [
      "[26.63116598  6.94644223 12.58195859]\n"
     ]
    }
   ],
   "source": [
    "# Fit parameters\n",
    "par_opt, par_cov = curve_fit(model, xdata, ydata)\n",
    "print(par_opt)\n"
   ]
  },
  {
   "cell_type": "markdown",
   "metadata": {},
   "source": [
    "We can also estimate the standard deviation of each parameter by taking the square root of the variance of each parameter. The diagonal of the covariance matrix is simply the variance. So if we take the square root of the variance we end up with the standard deviation. Hope you remember basic statistics! Numpy functions become handy here since we can use `np.diag` and `np.sqrt` to make this step easy."
   ]
  },
  {
   "cell_type": "code",
   "execution_count": 47,
   "metadata": {},
   "outputs": [
    {
     "name": "stdout",
     "output_type": "stream",
     "text": [
      "[0.39435232 0.20168343 0.13383765]\n"
     ]
    }
   ],
   "source": [
    "par_err = np.sqrt(np.diag(par_cov)) # One standard deviation\n",
    "print(par_err)"
   ]
  },
  {
   "cell_type": "markdown",
   "metadata": {},
   "source": [
    "Done! It just took couple lines of code. The only thing that remains to be done is to plot the model with the optimize parameters and compare the fitted model with the observed data."
   ]
  },
  {
   "cell_type": "code",
   "execution_count": 49,
   "metadata": {},
   "outputs": [
    {
     "data": {
      "image/png": "[encoded data removed]",
      "text/plain": [
       "<Figure size 432x288 with 1 Axes>"
      ]
     },
     "metadata": {
      "needs_background": "light"
     },
     "output_type": "display_data"
    }
   ],
   "source": [
    "# Plot observed and fitted curves\n",
    "plt.plot(xdata, ydata, 'b-')\n",
    "plt.plot(xdata, model(xdata, *par_opt), '--r')\n",
    "plt.xlabel('Days')\n",
    "plt.ylabel('Volumetric water content (% soil volume)')\n",
    "plt.show()"
   ]
  },
  {
   "cell_type": "markdown",
   "metadata": {},
   "source": [
    "In this particular case some of the parameters have physical meaning. For instance $\\theta_f$ represents the asymptotic value appraoched by the soil water content. The value for this parameter can certainly not be negative, as negative soil water content would be unrealistic. If the soil does not receive any rainfall for a long period the soil will eventually dry out reaching a value of zero volumetric water content, but it cannot get lower than that. So it might be good if we can inform the `curve_fit` routine about lower and upper boundaries that we woudl like to enforce. We can do this using the `bounds` options. Here are some approaximate bounds (setting appropriate bounds will require some experience with the model and the range of the properties represented by the model parameters):\n",
    "\n",
    "`0%` <= $A$ <= `50%` (between completely dry and saturated soil)\n",
    "\n",
    "`0%` <= $\\tau$ <= `30%` (these values are just rough guess)\n",
    "\n",
    "`0%` <= $\\theta_f$ <= `20%` (between completely dry and a ballpark asymptote)"
   ]
  },
  {
   "cell_type": "code",
   "execution_count": 50,
   "metadata": {},
   "outputs": [
    {
     "data": {
      "text/plain": [
       "array([26.63116185,  6.94644701, 12.58195656])"
      ]
     },
     "execution_count": 50,
     "metadata": {},
     "output_type": "execute_result"
    }
   ],
   "source": [
    "lb = [0,0,0]\n",
    "ub = [45,30,20]\n",
    "par_opt_bounded, par_cov_bounded = curve_fit(model, xdata, ydata, bounds=(lb, ub))\n",
    "par_opt_bounded"
   ]
  },
  {
   "cell_type": "code",
   "execution_count": 51,
   "metadata": {},
   "outputs": [
    {
     "data": {
      "image/png": "[encoded data removed]",
      "text/plain": [
       "<Figure size 432x288 with 1 Axes>"
      ]
     },
     "metadata": {
      "needs_background": "light"
     },
     "output_type": "display_data"
    }
   ],
   "source": [
    "plt.plot(xdata, ydata, 'b-', label='data')\n",
    "plt.plot(xdata, func(xdata, *par_opt_bounded), 'g--',label='Bounded fitting')\n",
    "plt.xlabel('x')\n",
    "plt.ylabel('y')\n",
    "plt.legend()\n",
    "plt.show()"
   ]
  },
  {
   "cell_type": "markdown",
   "metadata": {},
   "source": [
    "## References\n",
    "Shellito, P.J., Small, E.E., Colliander, A., Bindlish, R., Cosh, M.H., Berg, A.A., Bosch, D.D., Caldwell, T.G., Goodrich, D.C., McNairn, H. and Prueger, J.H., 2016. SMAP soil moisture drying more rapid than observed in situ following rainfall events. Geophysical research letters, 43(15), pp.8068-8075."
   ]
  }
 ],
 "metadata": {
  "kernelspec": {
   "display_name": "Python 3",
   "language": "python",
   "name": "python3"
  },
  "language_info": {
   "codemirror_mode": {
    "name": "ipython",
    "version": 3
   },
   "file_extension": ".py",
   "mimetype": "text/x-python",
   "name": "python",
   "nbconvert_exporter": "python",
   "pygments_lexer": "ipython3",
   "version": "3.7.9"
  }
 },
 "nbformat": 4,
 "nbformat_minor": 4
}
