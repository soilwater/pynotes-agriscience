{
 "cells": [
  {
   "cell_type": "markdown",
   "metadata": {},
   "source": [
    "# Statistics module\n",
    "\n",
    "A simple module part of the Python Standard Library to handle basic statistical descriptive metrics. Most of these functions can be accessed through `Numpy` or `Pandas` library, but this module is still relevant when simple statistcs are required without the need for importing larger modules. \n",
    "\n",
    "For this exercise we will use data from FAO STATS about arable land in the US. The data set contains arable land data in millions of hectares from 1961 to 2016 for the USA.\n"
   ]
  },
  {
   "cell_type": "code",
   "execution_count": 2,
   "metadata": {},
   "outputs": [],
   "source": [
    "import pandas as pd\n",
    "import matplotlib.pyplot as plt\n",
    "import statistics as stats\n"
   ]
  },
  {
   "cell_type": "code",
   "execution_count": 3,
   "metadata": {},
   "outputs": [
    {
     "data": {
      "text/html": [
       "<div>\n",
       "<style scoped>\n",
       "    .dataframe tbody tr th:only-of-type {\n",
       "        vertical-align: middle;\n",
       "    }\n",
       "\n",
       "    .dataframe tbody tr th {\n",
       "        vertical-align: top;\n",
       "    }\n",
       "\n",
       "    .dataframe thead th {\n",
       "        text-align: right;\n",
       "    }\n",
       "</style>\n",
       "<table border=\"1\" class=\"dataframe\">\n",
       "  <thead>\n",
       "    <tr style=\"text-align: right;\">\n",
       "      <th></th>\n",
       "      <th>Domain</th>\n",
       "      <th>Area</th>\n",
       "      <th>Variable</th>\n",
       "      <th>Year</th>\n",
       "      <th>Unit</th>\n",
       "      <th>Value</th>\n",
       "    </tr>\n",
       "  </thead>\n",
       "  <tbody>\n",
       "    <tr>\n",
       "      <th>0</th>\n",
       "      <td>Land Use</td>\n",
       "      <td>United States of America</td>\n",
       "      <td>Arable land</td>\n",
       "      <td>1961</td>\n",
       "      <td>1000000 ha</td>\n",
       "      <td>180.630</td>\n",
       "    </tr>\n",
       "    <tr>\n",
       "      <th>1</th>\n",
       "      <td>Land Use</td>\n",
       "      <td>United States of America</td>\n",
       "      <td>Arable land</td>\n",
       "      <td>1962</td>\n",
       "      <td>1000000 ha</td>\n",
       "      <td>177.095</td>\n",
       "    </tr>\n",
       "    <tr>\n",
       "      <th>2</th>\n",
       "      <td>Land Use</td>\n",
       "      <td>United States of America</td>\n",
       "      <td>Arable land</td>\n",
       "      <td>1963</td>\n",
       "      <td>1000000 ha</td>\n",
       "      <td>179.574</td>\n",
       "    </tr>\n",
       "    <tr>\n",
       "      <th>3</th>\n",
       "      <td>Land Use</td>\n",
       "      <td>United States of America</td>\n",
       "      <td>Arable land</td>\n",
       "      <td>1964</td>\n",
       "      <td>1000000 ha</td>\n",
       "      <td>177.966</td>\n",
       "    </tr>\n",
       "    <tr>\n",
       "      <th>4</th>\n",
       "      <td>Land Use</td>\n",
       "      <td>United States of America</td>\n",
       "      <td>Arable land</td>\n",
       "      <td>1965</td>\n",
       "      <td>1000000 ha</td>\n",
       "      <td>177.000</td>\n",
       "    </tr>\n",
       "  </tbody>\n",
       "</table>\n",
       "</div>"
      ],
      "text/plain": [
       "     Domain                      Area     Variable  Year        Unit    Value\n",
       "0  Land Use  United States of America  Arable land  1961  1000000 ha  180.630\n",
       "1  Land Use  United States of America  Arable land  1962  1000000 ha  177.095\n",
       "2  Land Use  United States of America  Arable land  1963  1000000 ha  179.574\n",
       "3  Land Use  United States of America  Arable land  1964  1000000 ha  177.966\n",
       "4  Land Use  United States of America  Arable land  1965  1000000 ha  177.000"
      ]
     },
     "execution_count": 3,
     "metadata": {},
     "output_type": "execute_result"
    }
   ],
   "source": [
    "# Navigate to Datasets directory and load example file\n",
    "df = pd.read_csv('../datasets/faostats_usa_arable_land.csv')\n",
    "df.head(5)\n"
   ]
  },
  {
   "cell_type": "code",
   "execution_count": 4,
   "metadata": {},
   "outputs": [
    {
     "data": {
      "image/png": "[encoded data removed]",
      "text/plain": [
       "<Figure size 432x288 with 1 Axes>"
      ]
     },
     "metadata": {
      "needs_background": "light"
     },
     "output_type": "display_data"
    }
   ],
   "source": [
    "# Plot data\n",
    "plt.figure()\n",
    "plt.plot(df['Year'], df['Value'])\n",
    "plt.ylabel('Arable land [million hectares]')\n",
    "plt.show()\n"
   ]
  },
  {
   "cell_type": "code",
   "execution_count": 5,
   "metadata": {},
   "outputs": [
    {
     "name": "stdout",
     "output_type": "stream",
     "text": [
      "Mean: 177.05856785714286\n",
      "12.048125424089195\n",
      "145.15732623458445\n",
      "180.815\n",
      "180.63\n",
      "181.0\n",
      "180.5\n",
      "187.765\n",
      "11.940068304798451\n",
      "142.56523112325257\n"
     ]
    }
   ],
   "source": [
    "# Average\n",
    "print(\"Mean:\",stats.mean(df[\"Value\"]))\n",
    "\n",
    "# Sample standard deviation of data.\n",
    "print(stats.stdev(df[\"Value\"]))\n",
    "\n",
    "# Variance\n",
    "print(stats.variance(df[\"Value\"]))\n",
    "\n",
    "# Median 50th percentile of data.\n",
    "print(stats.median(df[\"Value\"]))\n",
    "\n",
    "# Low median of data.\n",
    "print(stats.median_low(df[\"Value\"]))\n",
    "\n",
    "# High median of data.\n",
    "print(stats.median_high(df[\"Value\"]))\n",
    "\n",
    "# Median, or 50th percentile, of grouped data.\n",
    "print(stats.median_grouped(df[\"Value\"]))\n",
    "\n",
    "# Most frequent data\n",
    "print(stats.mode(df[\"Value\"]))\n",
    "\n",
    "# Population standard deviation of data.\n",
    "print(stats.pstdev(df[\"Value\"]))\n",
    "\n",
    "# Population variance of data.\n",
    "print(stats.pvariance(df[\"Value\"]))\n"
   ]
  },
  {
   "cell_type": "markdown",
   "metadata": {},
   "source": [
    "## References\n",
    "\n",
    "Visit official documentation at: <https://docs.python.org/3.4/library/statistics.html>"
   ]
  }
 ],
 "metadata": {
  "kernelspec": {
   "display_name": "Python 3",
   "language": "python",
   "name": "python3"
  },
  "language_info": {
   "codemirror_mode": {
    "name": "ipython",
    "version": 3
   },
   "file_extension": ".py",
   "mimetype": "text/x-python",
   "name": "python",
   "nbconvert_exporter": "python",
   "pygments_lexer": "ipython3",
   "version": "3.7.6"
  }
 },
 "nbformat": 4,
 "nbformat_minor": 4
}
