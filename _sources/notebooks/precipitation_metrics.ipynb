{
 "cells": [
  {
   "cell_type": "markdown",
   "metadata": {},
   "source": [
    "# Precipitation Metrics\n",
    "\n",
    "Using a dataset of 5-minute rainfall records for the Manhattan station of the Kansas Mesonet we will examine the duration, amount, and maximum rainfall intensity of rainfall events. The goal of this exercise is to learn how extract and synthesize relevant information from long time series. Rainfall intensity is an important variable related to soil erosion, infiltration, surface and sub-suraface water runoff, and canopy interception.\n",
    "\n",
    "We will assume that a rainfall event is not conditioned to a specific day or storm. A rainfall event will be defined by the period without rainfall between two rainfall records greater than zero. This will allow us to account for multiple rainfall events within the same storm. So, in long rainy days where it starts raining, then stops, and then it starts raininign again we will compute more than one event. This is probably more accurate than using daily data. Often times the problem is the lack of precipitation data at temporal resolutions finer than 60 minutes. But our dataset with 5-minute data will allow us to examine rainfall events with greater detail. Likely the maximum rainfall intensity using 5-minute data will result in larger magnitudes than using hourly data.\n",
    "\n",
    "The data of this dataset is in millimeters and was recorded using a tipping bucket rain gauge (Texas Electronics), which sometimes can underestimate rainfall totals when the rainfall intensity is greater than about 50 mm per hour. This does not impose any restrictions for our data, but it is always good to know more about the limitations of our datasets.\n"
   ]
  },
  {
   "cell_type": "code",
   "execution_count": 1,
   "metadata": {},
   "outputs": [],
   "source": [
    "# Import modules\n",
    "import numpy as np\n",
    "import pandas as pd\n",
    "import matplotlib.pyplot as plt\n",
    "import matplotlib.dates as mdates\n"
   ]
  },
  {
   "cell_type": "code",
   "execution_count": 2,
   "metadata": {},
   "outputs": [
    {
     "data": {
      "text/html": [
       "<div>\n",
       "<style scoped>\n",
       "    .dataframe tbody tr th:only-of-type {\n",
       "        vertical-align: middle;\n",
       "    }\n",
       "\n",
       "    .dataframe tbody tr th {\n",
       "        vertical-align: top;\n",
       "    }\n",
       "\n",
       "    .dataframe thead th {\n",
       "        text-align: right;\n",
       "    }\n",
       "</style>\n",
       "<table border=\"1\" class=\"dataframe\">\n",
       "  <thead>\n",
       "    <tr style=\"text-align: right;\">\n",
       "      <th></th>\n",
       "      <th>timestamp</th>\n",
       "      <th>precipitation</th>\n",
       "    </tr>\n",
       "  </thead>\n",
       "  <tbody>\n",
       "    <tr>\n",
       "      <th>0</th>\n",
       "      <td>01-05-2017 00:00</td>\n",
       "      <td>0.0</td>\n",
       "    </tr>\n",
       "    <tr>\n",
       "      <th>1</th>\n",
       "      <td>01-05-2017 00:05</td>\n",
       "      <td>0.0</td>\n",
       "    </tr>\n",
       "    <tr>\n",
       "      <th>2</th>\n",
       "      <td>01-05-2017 00:10</td>\n",
       "      <td>0.0</td>\n",
       "    </tr>\n",
       "    <tr>\n",
       "      <th>3</th>\n",
       "      <td>01-05-2017 00:15</td>\n",
       "      <td>0.0</td>\n",
       "    </tr>\n",
       "    <tr>\n",
       "      <th>4</th>\n",
       "      <td>01-05-2017 00:20</td>\n",
       "      <td>0.0</td>\n",
       "    </tr>\n",
       "  </tbody>\n",
       "</table>\n",
       "</div>"
      ],
      "text/plain": [
       "          timestamp  precipitation\n",
       "0  01-05-2017 00:00            0.0\n",
       "1  01-05-2017 00:05            0.0\n",
       "2  01-05-2017 00:10            0.0\n",
       "3  01-05-2017 00:15            0.0\n",
       "4  01-05-2017 00:20            0.0"
      ]
     },
     "execution_count": 2,
     "metadata": {},
     "output_type": "execute_result"
    }
   ],
   "source": [
    "# Load rainfall data\n",
    "data = pd.read_csv('../datasets/manhattan_5min_precip.csv')\n",
    "data.head()\n"
   ]
  },
  {
   "cell_type": "code",
   "execution_count": 3,
   "metadata": {},
   "outputs": [
    {
     "name": "stdout",
     "output_type": "stream",
     "text": [
      "<class 'str'>\n",
      "<class 'pandas._libs.tslibs.timestamps.Timestamp'>\n"
     ]
    }
   ],
   "source": [
    "print(type(data.timestamp[0]))\n",
    "data.timestamp = pd.to_datetime(data.timestamp, format='%d-%m-%Y %H:%M')\n",
    "print(type(data.timestamp[0]))\n"
   ]
  },
  {
   "cell_type": "markdown",
   "metadata": {},
   "source": [
    "It is always a good idea to generate a plot of the data. This will allow you to detect any major anomaly of the dataset or required action before using the data. For instance, it is common to assign placeholder values such as -9999 to missing values. If the dataset contains some of these values they will show up in the plot. Plotting the data is also extremely useful to detect the maximum and minimum range of the variable and to detect large periods of missing data."
   ]
  },
  {
   "cell_type": "code",
   "execution_count": 4,
   "metadata": {},
   "outputs": [
    {
     "data": {
      "image/png": "[encoded data removed]",
      "text/plain": [
       "<Figure size 432x288 with 1 Axes>"
      ]
     },
     "metadata": {
      "needs_background": "light"
     },
     "output_type": "display_data"
    }
   ],
   "source": [
    "# Generate quick plot\n",
    "plt.figure()\n",
    "plt.plot(data[\"precipitation\"])\n",
    "plt.show()"
   ]
  },
  {
   "cell_type": "code",
   "execution_count": 5,
   "metadata": {},
   "outputs": [
    {
     "name": "stdout",
     "output_type": "stream",
     "text": [
      "There are 101 missing values.\n",
      "Missing values represent 0.04 % of the dataset\n"
     ]
    }
   ],
   "source": [
    "# Check if there are any missing values\n",
    "idx_missing = data[\"precipitation\"].isna()\n",
    "percent_missing = np.round(np.sum(idx_missing)/data.shape[0]*100,2)\n",
    "\n",
    "print('There are', np.sum(idx_missing), 'missing values.')\n",
    "print('Missing values represent', str(percent_missing),'% of the dataset')\n"
   ]
  },
  {
   "cell_type": "code",
   "execution_count": 6,
   "metadata": {},
   "outputs": [
    {
     "name": "stdout",
     "output_type": "stream",
     "text": [
      "Done\n",
      "Detected: 1677 rainfall events.\n"
     ]
    }
   ],
   "source": [
    "# Iterate over the time series of 5-minute rainfall\n",
    "\n",
    "# Create DataFrame to store summary metrics\n",
    "df = pd.DataFrame()\n",
    "df.insert(0, 'start_time', '')\n",
    "df.insert(1, 'end_time', '')\n",
    "df.insert(2, 'duration', np.array([]))\n",
    "df.insert(3, 'total', np.array([]))\n",
    "df.insert(4, 'max_intensity', np.array([]))\n",
    "\n",
    "\n",
    "interval = 5                # minutes over which rainfall data was collected\n",
    "event_interval = 5          # maximum elapsed minutes between rainfall events\n",
    "event_counter = 0           # counter of rainfall events\n",
    "period_without_rainfall = 0 # Track time without rainfall events\n",
    "event_duration = 0          # Duration of the rainfall event\n",
    "event_total = 0             # Total number of millimeters\n",
    "event_max_intensity = 0     # Max rainfall intensity (converted to mm/hr)\n",
    "within_event = False        # Boolean inside/outside a rain event\n",
    "\n",
    "for i,rain in enumerate(data[\"precipitation\"]):\n",
    "    \n",
    "    # If rainfall is greater than zero that means we are inside a rainfall event\n",
    "    if rain > 0:\n",
    "        #period_without_rainfall = 0 # Reset period_without_rainfall\n",
    "    \n",
    "        # Set parameters if this the first entry greater than zero rainfall\n",
    "        if not within_event:\n",
    "            within_event = True\n",
    "            event_counter += 1;\n",
    "            event_start_time = data[\"timestamp\"][i]\n",
    "\n",
    "        # Track duration, amount, and intensity of the precipitation event\n",
    "        event_duration += interval\n",
    "        event_total += rain\n",
    "        event_max_intensity = max(event_max_intensity,rain)\n",
    "\n",
    "    else:\n",
    "        period_without_rainfall += interval\n",
    "\n",
    "    # End of the rainfall event if there is a certain cumulative time without rainfall\n",
    "    if within_event and rain == 0: #period_without_rainfall >= event_interval:\n",
    "        \n",
    "        # Get timestamp of last entry fo this event. Noticed that this timestamp may not\n",
    "        # be the last rainfall record, but it could be the timestamp of the \n",
    "        event_end_time = data.timestamp[i-1] # Previous timestep had the last rain > 0\n",
    "\n",
    "        df.loc[event_counter-1] = [event_start_time, \n",
    "                                   event_end_time, \n",
    "                                   event_duration, \n",
    "                                   event_total, \n",
    "                                   event_max_intensity*60/5]\n",
    "        within_event = False\n",
    "        event_start_time = ''\n",
    "        event_end_time = ''\n",
    "        event_duration = 0\n",
    "        event_total = 0\n",
    "        event_max_intensity = 0\n",
    "        \n",
    "    if i == data.precipitation.shape[0]-1:\n",
    "        print('Done')\n",
    "        print('Detected:',df.shape[0],'rainfall events.')\n"
   ]
  },
  {
   "cell_type": "code",
   "execution_count": 7,
   "metadata": {},
   "outputs": [
    {
     "data": {
      "text/html": [
       "<div>\n",
       "<style scoped>\n",
       "    .dataframe tbody tr th:only-of-type {\n",
       "        vertical-align: middle;\n",
       "    }\n",
       "\n",
       "    .dataframe tbody tr th {\n",
       "        vertical-align: top;\n",
       "    }\n",
       "\n",
       "    .dataframe thead th {\n",
       "        text-align: right;\n",
       "    }\n",
       "</style>\n",
       "<table border=\"1\" class=\"dataframe\">\n",
       "  <thead>\n",
       "    <tr style=\"text-align: right;\">\n",
       "      <th></th>\n",
       "      <th>start_time</th>\n",
       "      <th>end_time</th>\n",
       "      <th>duration</th>\n",
       "      <th>total</th>\n",
       "      <th>max_intensity</th>\n",
       "    </tr>\n",
       "  </thead>\n",
       "  <tbody>\n",
       "    <tr>\n",
       "      <th>0</th>\n",
       "      <td>2017-05-01 01:25:00</td>\n",
       "      <td>2017-05-01 01:25:00</td>\n",
       "      <td>5.0</td>\n",
       "      <td>0.25</td>\n",
       "      <td>3.0</td>\n",
       "    </tr>\n",
       "    <tr>\n",
       "      <th>1</th>\n",
       "      <td>2017-05-01 02:55:00</td>\n",
       "      <td>2017-05-01 02:55:00</td>\n",
       "      <td>5.0</td>\n",
       "      <td>0.25</td>\n",
       "      <td>3.0</td>\n",
       "    </tr>\n",
       "    <tr>\n",
       "      <th>2</th>\n",
       "      <td>2017-05-02 22:45:00</td>\n",
       "      <td>2017-05-02 22:45:00</td>\n",
       "      <td>5.0</td>\n",
       "      <td>0.25</td>\n",
       "      <td>3.0</td>\n",
       "    </tr>\n",
       "    <tr>\n",
       "      <th>3</th>\n",
       "      <td>2017-05-03 03:15:00</td>\n",
       "      <td>2017-05-03 03:15:00</td>\n",
       "      <td>5.0</td>\n",
       "      <td>0.25</td>\n",
       "      <td>3.0</td>\n",
       "    </tr>\n",
       "    <tr>\n",
       "      <th>4</th>\n",
       "      <td>2017-05-03 03:45:00</td>\n",
       "      <td>2017-05-03 03:45:00</td>\n",
       "      <td>5.0</td>\n",
       "      <td>0.25</td>\n",
       "      <td>3.0</td>\n",
       "    </tr>\n",
       "  </tbody>\n",
       "</table>\n",
       "</div>"
      ],
      "text/plain": [
       "           start_time            end_time  duration  total  max_intensity\n",
       "0 2017-05-01 01:25:00 2017-05-01 01:25:00       5.0   0.25            3.0\n",
       "1 2017-05-01 02:55:00 2017-05-01 02:55:00       5.0   0.25            3.0\n",
       "2 2017-05-02 22:45:00 2017-05-02 22:45:00       5.0   0.25            3.0\n",
       "3 2017-05-03 03:15:00 2017-05-03 03:15:00       5.0   0.25            3.0\n",
       "4 2017-05-03 03:45:00 2017-05-03 03:45:00       5.0   0.25            3.0"
      ]
     },
     "execution_count": 7,
     "metadata": {},
     "output_type": "execute_result"
    }
   ],
   "source": [
    "df.head()"
   ]
  },
  {
   "cell_type": "code",
   "execution_count": 9,
   "metadata": {},
   "outputs": [
    {
     "data": {
      "image/png": "[encoded data removed]",
      "text/plain": [
       "<Figure size 432x288 with 1 Axes>"
      ]
     },
     "metadata": {
      "needs_background": "light"
     },
     "output_type": "display_data"
    }
   ],
   "source": [
    "plt.figure()\n",
    "plt.hist(df[\"total\"], bins=21)\n",
    "plt.show()"
   ]
  },
  {
   "cell_type": "code",
   "execution_count": 10,
   "metadata": {},
   "outputs": [
    {
     "name": "stdout",
     "output_type": "stream",
     "text": [
      "0.25\n",
      "0.75\n"
     ]
    }
   ],
   "source": [
    "# Print some basic stats\n",
    "print(np.percentile(df[\"total\"],50))\n",
    "print(np.percentile(df[\"total\"],75))"
   ]
  },
  {
   "cell_type": "code",
   "execution_count": 12,
   "metadata": {},
   "outputs": [
    {
     "data": {
      "text/plain": [
       "1284"
      ]
     },
     "execution_count": 12,
     "metadata": {},
     "output_type": "execute_result"
    }
   ],
   "source": [
    "# Plot cumulative time series of the \n",
    "idx_longest = df[\"duration\"].idxmax()\n",
    "idx_longest\n"
   ]
  },
  {
   "cell_type": "code",
   "execution_count": 14,
   "metadata": {},
   "outputs": [
    {
     "data": {
      "text/plain": [
       "DatetimeIndex(['2019-05-07 23:40:00', '2019-05-07 23:45:00',\n",
       "               '2019-05-07 23:50:00', '2019-05-07 23:55:00',\n",
       "               '2019-05-08 00:00:00', '2019-05-08 00:05:00',\n",
       "               '2019-05-08 00:10:00', '2019-05-08 00:15:00',\n",
       "               '2019-05-08 00:20:00', '2019-05-08 00:25:00',\n",
       "               '2019-05-08 00:30:00', '2019-05-08 00:35:00',\n",
       "               '2019-05-08 00:40:00', '2019-05-08 00:45:00',\n",
       "               '2019-05-08 00:50:00', '2019-05-08 00:55:00',\n",
       "               '2019-05-08 01:00:00', '2019-05-08 01:05:00',\n",
       "               '2019-05-08 01:10:00', '2019-05-08 01:15:00',\n",
       "               '2019-05-08 01:20:00', '2019-05-08 01:25:00',\n",
       "               '2019-05-08 01:30:00', '2019-05-08 01:35:00',\n",
       "               '2019-05-08 01:40:00', '2019-05-08 01:45:00',\n",
       "               '2019-05-08 01:50:00', '2019-05-08 01:55:00',\n",
       "               '2019-05-08 02:00:00', '2019-05-08 02:05:00',\n",
       "               '2019-05-08 02:10:00', '2019-05-08 02:15:00',\n",
       "               '2019-05-08 02:20:00', '2019-05-08 02:25:00',\n",
       "               '2019-05-08 02:30:00', '2019-05-08 02:35:00',\n",
       "               '2019-05-08 02:40:00', '2019-05-08 02:45:00',\n",
       "               '2019-05-08 02:50:00', '2019-05-08 02:55:00',\n",
       "               '2019-05-08 03:00:00', '2019-05-08 03:05:00',\n",
       "               '2019-05-08 03:10:00', '2019-05-08 03:15:00',\n",
       "               '2019-05-08 03:20:00', '2019-05-08 03:25:00',\n",
       "               '2019-05-08 03:30:00', '2019-05-08 03:35:00',\n",
       "               '2019-05-08 03:40:00', '2019-05-08 03:45:00',\n",
       "               '2019-05-08 03:50:00', '2019-05-08 03:55:00',\n",
       "               '2019-05-08 04:00:00', '2019-05-08 04:05:00',\n",
       "               '2019-05-08 04:10:00', '2019-05-08 04:15:00',\n",
       "               '2019-05-08 04:20:00', '2019-05-08 04:25:00'],\n",
       "              dtype='datetime64[ns]', freq='5T')"
      ]
     },
     "execution_count": 14,
     "metadata": {},
     "output_type": "execute_result"
    }
   ],
   "source": [
    "longest_date_range = pd.date_range(df[\"start_time\"][idx_longest], \n",
    "                                   df[\"end_time\"][idx_longest],\n",
    "                                   freq='5min')\n",
    "longest_date_range"
   ]
  },
  {
   "cell_type": "code",
   "execution_count": 16,
   "metadata": {},
   "outputs": [],
   "source": [
    "all_idx_longest = data[\"timestamp\"].isin(longest_date_range)\n"
   ]
  },
  {
   "cell_type": "markdown",
   "metadata": {},
   "source": [
    "Let's prove to ourselves that the period we selected has, indeed, the same duration as recorded in the summary table. It is always advisable to run checkpoints to ensure we are not carrying errors.\n",
    "\n",
    "For instance, when I ran this for the first time I noticed that the duration recorded in the summary table was one unit greater (59 5-minute intervals). This allowed me to discover that line `event_end_time = data.timestamp[i]` should have been `event_end_time = data.timestamp[i-1]`. If I hadn't run this step I would have never found that I was mistakenly considering an extra 5-minute interval! This can become even worse if the error starts to propagate into additional lines of code, making the debugging process a rather painful experience. So, make sure to check your work even if you think it is right. Nothing more rewarding that having some evidence proving that we are indeed correct and we are ready to move onto the next step."
   ]
  },
  {
   "cell_type": "code",
   "execution_count": 17,
   "metadata": {},
   "outputs": [
    {
     "name": "stdout",
     "output_type": "stream",
     "text": [
      "58\n",
      "58.0\n"
     ]
    }
   ],
   "source": [
    "print(sum(all_idx_longest))\n",
    "print(df[\"duration\"][idx_longest]/5)\n"
   ]
  },
  {
   "cell_type": "code",
   "execution_count": 18,
   "metadata": {},
   "outputs": [
    {
     "data": {
      "image/png": "[encoded data removed]",
      "text/plain": [
       "<Figure size 432x288 with 1 Axes>"
      ]
     },
     "metadata": {
      "needs_background": "light"
     },
     "output_type": "display_data"
    }
   ],
   "source": [
    "# Plot of precipitation for each 5-minute interval for the longest rainfall event\n",
    "plt.plot(data[\"timestamp\"][all_idx_longest], data[\"precipitation\"][all_idx_longest])\n",
    "plt.gca().xaxis.set_major_formatter(mdates.DateFormatter('%H:%M'))\n",
    "plt.ylabel('Precipitation (mm)')\n",
    "plt.title(df.start_time[idx_longest])\n",
    "plt.show()"
   ]
  },
  {
   "cell_type": "code",
   "execution_count": 19,
   "metadata": {},
   "outputs": [
    {
     "data": {
      "image/png": "[encoded data removed]",
      "text/plain": [
       "<Figure size 432x288 with 1 Axes>"
      ]
     },
     "metadata": {
      "needs_background": "light"
     },
     "output_type": "display_data"
    }
   ],
   "source": [
    "# Plot of cumulative rainfall\n",
    "plt.figure()\n",
    "plt.plot(data[\"timestamp\"][all_idx_longest], data[\"precipitation\"][all_idx_longest].cumsum())\n",
    "plt.gca().xaxis.set_major_formatter(mdates.DateFormatter('%H:%M'))\n",
    "plt.ylabel('Cumulative Precipitation (mm)')\n",
    "plt.title(df[\"start_time\"][idx_longest])\n",
    "plt.show()"
   ]
  }
 ],
 "metadata": {
  "kernelspec": {
   "display_name": "Python 3",
   "language": "python",
   "name": "python3"
  },
  "language_info": {
   "codemirror_mode": {
    "name": "ipython",
    "version": 3
   },
   "file_extension": ".py",
   "mimetype": "text/x-python",
   "name": "python",
   "nbconvert_exporter": "python",
   "pygments_lexer": "ipython3",
   "version": "3.8.5"
  }
 },
 "nbformat": 4,
 "nbformat_minor": 4
}
