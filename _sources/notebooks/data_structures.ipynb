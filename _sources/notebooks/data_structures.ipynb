{
 "cells": [
  {
   "cell_type": "markdown",
   "id": "6481c1bb-613d-4051-b930-d17734329f39",
   "metadata": {},
   "source": [
    "# Data Structures\n",
    "\n",
    "Information lives in data structures. You can view these data structures as containers in which we store information for later use or processing. To a great extent, the selection of the right data structure depends on the scalability of the application, the format and complexity of the data, and the preference of the programmer. Many times the same information can be stored in more than one data structure.\n"
   ]
  },
  {
   "cell_type": "markdown",
   "id": "50db212a-5ab8-4123-9f86-dc138d1db430",
   "metadata": {},
   "source": [
    "## Lists\n",
    "\n",
    "Lists are great for storing sequences of elements. Lists can store strings, numbers, or mixed data types. Lists can be nested and are `mutable` objects, which means that we can overwrite the information inside. A distinct feature of lists is that we can access information by using either a positional index (retrieve single item) or slicing (retrieve one or more items). Lists are also known as arrays in other languages (e.g. Matlab). It is worth mentioning that the standard Python lists cannot handle element-wise operations. To leverage element-wise and matric operations we need use Numpy arrays, which we will cover later.\n",
    "\n",
    ">Lists are represented by square brackets `[]`\n"
   ]
  },
  {
   "cell_type": "code",
   "execution_count": 47,
   "id": "3d2fc0ce-a6d0-48c3-9cbd-8ae578cd0351",
   "metadata": {},
   "outputs": [],
   "source": [
    "# List examples\n",
    "decades = [1980, 1990, 2000, 2010]\n",
    "soil_orders = ['Gelisols','Histosols','Spodosols']\n",
    "mixed_list = [1, 2, 3, 'four', 'five', 'six']\n",
    "nested = [[1,2,3],[4,5,6],[7,8,9]]\n"
   ]
  },
  {
   "cell_type": "code",
   "execution_count": 43,
   "id": "a7b6d3a8-1054-4354-ba68-c42c8e03233c",
   "metadata": {},
   "outputs": [
    {
     "name": "stdout",
     "output_type": "stream",
     "text": [
      "['Gelisols', 'Histosols', 'Spodosols', 'Andisols']\n"
     ]
    }
   ],
   "source": [
    "# Append elements to a list\n",
    "soil_orders.append('Andisols')\n",
    "print(soil_orders)\n"
   ]
  },
  {
   "cell_type": "code",
   "execution_count": 44,
   "id": "f25cf3fa-b53f-45dd-9cd8-ba6b87ddd982",
   "metadata": {},
   "outputs": [
    {
     "name": "stdout",
     "output_type": "stream",
     "text": [
      "['Gelisols', 'Histosols', 'Spodosols', 'Andisols', 'Oxisols', 'Aridisols', 'Vertisols', 'Ultisols']\n"
     ]
    }
   ],
   "source": [
    "# Append multiple elements\n",
    "extra_soil_orders = ['Oxisols','Aridisols','Vertisols','Ultisols']\n",
    "soil_orders.extend(extra_soil_orders)\n",
    "print(soil_orders)\n"
   ]
  },
  {
   "cell_type": "markdown",
   "id": "56e5f4a2-1cd7-4f71-abf4-fd6eea427c1c",
   "metadata": {},
   "source": [
    ">When appending multiple items using the `append()` method will results in nested lists, while using the `extend()` method will results in merged lists."
   ]
  },
  {
   "cell_type": "code",
   "execution_count": 45,
   "id": "b1098725-176c-4cce-a73b-45bd5c5968e8",
   "metadata": {},
   "outputs": [
    {
     "name": "stdout",
     "output_type": "stream",
     "text": [
      "['Gelisols', 'Spodosols', 'Andisols', 'Oxisols', 'Aridisols', 'Vertisols', 'Ultisols']\n"
     ]
    }
   ],
   "source": [
    "# Delete last element\n",
    "soil_orders.pop(1) # Eliminate the second element of the list and print remaining elements\n",
    "print(soil_orders)\n"
   ]
  },
  {
   "cell_type": "code",
   "execution_count": 46,
   "id": "969b8d43-0ed1-490b-95b9-3a6ba999eaf9",
   "metadata": {},
   "outputs": [
    {
     "name": "stdout",
     "output_type": "stream",
     "text": [
      "['Gelisols', 'Oxisols', 'Aridisols', 'Vertisols', 'Ultisols']\n",
      "<class 'list'>\n"
     ]
    }
   ],
   "source": [
    "# An alternative method to delete one or more elements of the list.\n",
    "del soil_orders[1:3]\n",
    "print(soil_orders)\n",
    "print(type(soil_orders))"
   ]
  },
  {
   "cell_type": "markdown",
   "id": "52a35ee2-a501-40ce-bb31-fda99fb2e289",
   "metadata": {},
   "source": [
    "## Tuples\n",
    "\n",
    "Tuples are another convenient data structure in Python. For instance, a point in a two-dimensional plane is defined by its `x` and `y` coordinates. So a tuple `point(x,y)` would make sense and multiple points could be nested within a list. Both pieces of information are critical to define a point on the two-dimensional plane. Another example that requires three pieces of information is color in the RGB space. Each band of the RGB space could be store in a tuple to store `(r,g,b)` triplets. Tuples have an important property: they are `immutable`. \n"
   ]
  },
  {
   "cell_type": "code",
   "execution_count": 27,
   "id": "5fb593fa-5e46-4ab4-8249-0deb486bbc49",
   "metadata": {},
   "outputs": [
    {
     "name": "stdout",
     "output_type": "stream",
     "text": [
      "[(19.536111, -155.576111, 3397), (39.106704, -96.608968, 320)]\n"
     ]
    }
   ],
   "source": [
    "# Geographic coordinates \n",
    "mauna_loa = (19.536111, -155.576111, 3397) # Mauna Load Observatory in Hawaii\n",
    "konza_prairie = (39.106704, -96.608968, 320) # Konza Prairie in Kansas\n",
    "\n",
    "coords = [mauna_loa,konza_prairie]\n",
    "print(coords)"
   ]
  },
  {
   "cell_type": "code",
   "execution_count": 40,
   "id": "7dcec63e-8e24-4eb0-827e-2bbe9672b1fe",
   "metadata": {},
   "outputs": [
    {
     "name": "stdout",
     "output_type": "stream",
     "text": [
      "[(0, 0, 0), (255, 255, 255), (0, 255, 0)]\n",
      "<class 'tuple'>\n"
     ]
    }
   ],
   "source": [
    "# A list of tuples\n",
    "colors = [(0,0,0), (255,255,255), (0,255,0)] # Each tuple refers to black, white, and green.\n",
    "print(colors)\n",
    "print(type(colors[0]))"
   ]
  },
  {
   "cell_type": "markdown",
   "id": "ea2d36e1-33a5-43b9-a23c-c27ef37ab3f2",
   "metadata": {},
   "source": [
    "What happens if we want to change the first element of the third tuple from `0` to `255`?\n",
    "```\n",
    "colors[2][0] = 255\n",
    "```\n",
    "Remember that tuples are `immutable`, which is a good if we want to prevent accidentally changing the value of the color."
   ]
  },
  {
   "cell_type": "markdown",
   "id": "26f0fe46-a729-4b42-b83d-d1b67083dbb0",
   "metadata": {},
   "source": [
    "## Dictionaries\n",
    "\n",
    "Dictionaries are an extremely versatile and one of the most popular python data structures. A powerful feature of dictionaries is the ability to store and retrieve information using names. Dictionaries are convenient when the data is not a square matrix or table and has multiple features that need to be stored together. A common example is weather data.\n",
    "\n",
    ">Dictionaries are defined using `{}` and data inside dictionaries is associated to names using `name:value` pairs"
   ]
  },
  {
   "cell_type": "code",
   "execution_count": 39,
   "id": "a121375c-305f-4a9d-94a2-a45811d782e5",
   "metadata": {},
   "outputs": [
    {
     "name": "stdout",
     "output_type": "stream",
     "text": [
      "{'city': 'Manhattan', 'state': 'Kansas', 'coords': (39.208722, -96.592248, 350), 'data': [{'date': '20220101', 'precipitation': {'value': 12.5, 'unit': 'mm', 'instrument': 'TE525'}, 'air_temperature': {'value': 5.6, 'units': 'Celsius', 'instrument': 'ATMOS14'}}, {'date': '20220102', 'precipitation': {'value': 0, 'unit': 'mm', 'instrument': 'TE525'}, 'air_temperature': {'value': 1.3, 'units': 'Celsius', 'instrument': 'ATMOS14'}}]}\n",
      "<class 'dict'>\n"
     ]
    }
   ],
   "source": [
    "D = {'city':'Manhattan',\n",
    "     'state':'Kansas',\n",
    "     'coords': (39.208722, -96.592248, 350),\n",
    "     'data': [{'date' : '20220101', \n",
    "              'precipitation' : {'value':12.5, 'unit':'mm', 'instrument':'TE525'},\n",
    "              'air_temperature' : {'value':5.6, 'units':'Celsius', 'instrument':'ATMOS14'}\n",
    "              },\n",
    "              {'date' : '20220102', \n",
    "              'precipitation' : {'value':0, 'unit':'mm', 'instrument':'TE525'},\n",
    "              'air_temperature' : {'value':1.3, 'units':'Celsius', 'instrument':'ATMOS14'}\n",
    "              }]\n",
    "    }\n",
    "\n",
    "print(D)\n",
    "print(type(D))"
   ]
  },
  {
   "cell_type": "markdown",
   "id": "57d94be8-3219-465b-89dd-8923908e6c6b",
   "metadata": {},
   "source": [
    "The example above has several interesting features:\n",
    "- The city and state names are ordinary strings\n",
    "- The geographic coordinates (latitude, longitude, and elevation) are grouped using a tuple.\n",
    "- Weather data for each day is a list of dictionaries\n",
    "\n",
    ">Note how dictionaries also allow us to add useful metadata such as variable units and instrument model.\n",
    "\n",
    "It's also important that you realize that the organization of the dictionary above depends on programmer preferences. For instance, rather than grouping all three coordinates into a tuple, a different programmer may prefer to store the values under individual `name:value` pairs."
   ]
  },
  {
   "cell_type": "markdown",
   "id": "d1984915-1850-4bae-8d32-de4161fbe1f5",
   "metadata": {},
   "source": [
    "## Sets\n",
    "\n",
    "Sets is the fourth Python data type and is used to store multiple items into a single variable. Unlike `lists`, Python `Sets` don't allow for duplicate items, items cannot be changed (although items can be added and removed), and items are not indexed.\n",
    "\n",
    ">Sets are represented by curly braces `{}`. They are similar to lists in the sense that they constitute a list of elements and are similar to dictionaries in the sense that we represent them using curly braces. Note that sets do not contain `name:value` pairs. The Python `sets` data structure does not seem to be as widely used as dictionaries, lists, and tuples."
   ]
  },
  {
   "cell_type": "code",
   "execution_count": 38,
   "id": "2b7b7ba4-9282-451f-b909-8b2fa8f6154c",
   "metadata": {},
   "outputs": [
    {
     "name": "stdout",
     "output_type": "stream",
     "text": [
      "{'A', 'G', 'T'}\n",
      "{'A', 'G', 'C', 'T'}\n"
     ]
    }
   ],
   "source": [
    "dna_1 = set('ATTTGAATTA') # DNA sequence 1\n",
    "dna_2 = set('GGATTCGCGT') # DNA sequence 2\n",
    "\n",
    "# Print unique bases in each DNA sequence\n",
    "print(dna_1)\n",
    "print(dna_2)\n"
   ]
  },
  {
   "cell_type": "code",
   "execution_count": 37,
   "id": "09735072-7d89-40c4-a268-9556bea2b52d",
   "metadata": {},
   "outputs": [
    {
     "name": "stdout",
     "output_type": "stream",
     "text": [
      "<class 'set'>\n"
     ]
    }
   ],
   "source": [
    "# Check data type\n",
    "print(type(dna_1))"
   ]
  },
  {
   "cell_type": "markdown",
   "id": "7995917c-4c6e-452c-89c5-43bc12f3cd3b",
   "metadata": {},
   "source": [
    "## Practice\n",
    "\n",
    "1. Create a list with the scientific names of three common grasses in the US Great Plains: big bluestem, switchgrass, indian grass, and little bluestem.\n",
    "\n",
    "2. Using a periodic table, store in a dictionary the name, symbol, atomic mass, melting point, and boiling point of oxygen, nitrogen, phosphorus, and hydrogen. Then, write two separate python statements to retrieve the boiling point of oxygen and hydrogen. Combined, these two atoms can form water, which has a boiling point of 100 degrees Celsius. How does this value compare to the boiling point of the individual elements?\n",
    "\n",
    "3. Without editing the dictionary that you created earlier, append the properties for a new element: carbon.\n",
    "\n",
    "4. Create a list of tuples encoding the latitude, longitude, and altitude of three national parks of your choice.\n",
    "\n",
    "5. Create a list of tuples containing the two matching DNA base pairs."
   ]
  }
 ],
 "metadata": {
  "kernelspec": {
   "display_name": "Python 3 (ipykernel)",
   "language": "python",
   "name": "python3"
  },
  "language_info": {
   "codemirror_mode": {
    "name": "ipython",
    "version": 3
   },
   "file_extension": ".py",
   "mimetype": "text/x-python",
   "name": "python",
   "nbconvert_exporter": "python",
   "pygments_lexer": "ipython3",
   "version": "3.9.7"
  }
 },
 "nbformat": 4,
 "nbformat_minor": 5
}
