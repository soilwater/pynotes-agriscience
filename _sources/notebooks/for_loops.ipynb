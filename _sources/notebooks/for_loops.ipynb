{
 "cells": [
  {
   "cell_type": "markdown",
   "metadata": {},
   "source": [
    "# For Loops\n",
    "\n",
    "When we think about computers we often think as machines that help us automating tasks. For loops are central to this concept and allow us to iterate, to repeate, an operation as many times as we want.\n",
    "\n",
    "For loops are practical to iterate over the time steps of a given process, iterate over files in a directory, and iterate over elements in an object (e.g. list, dictionary, dataframe, etc.). Together with `if` staments and boolean operations, a `for loop` is an essential operation for anyone interested in automating tasks. \n"
   ]
  },
  {
   "cell_type": "markdown",
   "metadata": {},
   "source": [
    "Loops require a specific syntax. The barebones of the for loop is as follows:\n",
    "\n",
    "```python\n",
    "for item in listOfItems:\n",
    "    do something\n",
    "```\n",
    "\n",
    "This is basic and potentially confusing if this is the first your attempting to write a `for loop`. Let's look at an example and then let's dissect the code into parts. A trivial example is:"
   ]
  },
  {
   "cell_type": "code",
   "execution_count": 1,
   "metadata": {},
   "outputs": [
    {
     "name": "stdout",
     "output_type": "stream",
     "text": [
      "0\n",
      "1\n",
      "2\n",
      "3\n",
      "4\n"
     ]
    }
   ],
   "source": [
    "for i in range(0, 5):\n",
    "    print(i)"
   ]
  },
  {
   "cell_type": "markdown",
   "metadata": {},
   "source": [
    "`for` = reserved command that indicates we are implementing a \"for loop\".\n",
    "\n",
    "`i` = temporary dummy variable that will carry the iteration value.\n",
    "\n",
    "`in range(0,5)` = set of values that will be incrementally adopted by *i*.\n",
    "\n",
    "`:` = punctuation mark that defines the end of the `for loop` syntax.\n",
    "\n",
    "`print(i)` = code inside the `for loop` has to be indented by 4 spaces.\n",
    "\n",
    "\n",
    ">The indentation is equivalent to 4 spaces with the spacebar or `Ctrl + ]` in Windows machines or `Cmd + ]` in Mac. **Indentation matters in Python.**\n"
   ]
  },
  {
   "cell_type": "code",
   "execution_count": 1,
   "metadata": {},
   "outputs": [
    {
     "name": "stdout",
     "output_type": "stream",
     "text": [
      "mollisols\n",
      "hapludols\n",
      "alfisols\n"
     ]
    }
   ],
   "source": [
    "soils = [\"mollisols\", \"hapludols\", \"alfisols\"]\n",
    "for x in soils:\n",
    "    print(x)\n"
   ]
  },
  {
   "cell_type": "code",
   "execution_count": 11,
   "metadata": {},
   "outputs": [
    {
     "name": "stdout",
     "output_type": "stream",
     "text": [
      "mollisols\n",
      "hapludols\n",
      "alfisols\n"
     ]
    }
   ],
   "source": [
    "# The variable name assigned to the iterator is irrelevant\n",
    "for taxonomic_order in soils:\n",
    "    print(taxonomic_order)\n",
    "    "
   ]
  },
  {
   "cell_type": "code",
   "execution_count": 5,
   "metadata": {},
   "outputs": [
    {
     "name": "stdout",
     "output_type": "stream",
     "text": [
      "0\n",
      "mollisols\n",
      "1\n",
      "hapludols\n",
      "2\n",
      "alfisols\n"
     ]
    }
   ],
   "source": [
    "for count,item in enumerate(soils):\n",
    "    print(count)\n",
    "    print(item)"
   ]
  },
  {
   "cell_type": "code",
   "execution_count": 14,
   "metadata": {},
   "outputs": [
    {
     "name": "stdout",
     "output_type": "stream",
     "text": [
      "coord\n",
      "weather\n",
      "base\n",
      "main\n",
      "visibility\n",
      "wind\n",
      "clouds\n",
      "dt\n",
      "sys\n",
      "id\n",
      "name\n",
      "cod\n"
     ]
    }
   ],
   "source": [
    "# Data from OpenWeatherMap.org\n",
    "# https://openweathermap.org/current\n",
    "\n",
    "data = {\"coord\":{\"lon\":-0.13,\"lat\":51.51},\n",
    "        \"weather\":[{\"description\":\"light intensity drizzle\"}],\n",
    "        \"base\":\"stations\",\n",
    "        \"main\":{\"temp\":280.32,\"pressure\":1012,\"humidity\":81},\n",
    "        \"visibility\":10000,\n",
    "        \"wind\":{\"speed\":4.1,\"deg\":80},\n",
    "        \"clouds\":{\"all\":90},\n",
    "        \"dt\":1485789600,\n",
    "        \"sys\":{\"country\":\"GB\",\"sunrise\":1485762037},\n",
    "        \"id\":2643743,\n",
    "        \"name\":\"London\",\n",
    "        \"cod\":200}\n",
    "\n",
    "\n",
    "# Print all fields of dictionary\n",
    "for i in data:\n",
    "    print(i)\n"
   ]
  },
  {
   "cell_type": "code",
   "execution_count": 13,
   "metadata": {},
   "outputs": [
    {
     "name": "stdout",
     "output_type": "stream",
     "text": [
      "lon\n",
      "lat\n"
     ]
    }
   ],
   "source": [
    "# Print all fields of dictionary\n",
    "for j in data['coord']:\n",
    "    print(j)"
   ]
  },
  {
   "cell_type": "code",
   "execution_count": 2,
   "metadata": {},
   "outputs": [
    {
     "name": "stdout",
     "output_type": "stream",
     "text": [
      "Plot: 1a\n",
      "Plot: 1b\n",
      "Plot: 1c\n",
      "Plot: 2a\n",
      "Plot: 2b\n",
      "Plot: 2c\n",
      "Plot: 3a\n",
      "Plot: 3b\n",
      "Plot: 3c\n"
     ]
    }
   ],
   "source": [
    "# Nested for loops\n",
    "# Useful when we need to iterate over two variables. Common in nested data arrays or \n",
    "# 2D arrays such as images.\n",
    "\n",
    "plots = range(1,4)\n",
    "treatments = ['a','b','c']\n",
    "for i in plots:\n",
    "    for j in treatments:\n",
    "        print('Plot:', str(i) + j) \n",
    "        \n",
    "# Try swapping the order of the treatment letters and see what happens."
   ]
  },
  {
   "cell_type": "markdown",
   "metadata": {},
   "source": [
    "We can easily list files in the current directory by combining a `for loop` with the `glob module`.\n",
    "Even better, we can filter the file type using the file extension."
   ]
  },
  {
   "cell_type": "code",
   "execution_count": 5,
   "metadata": {},
   "outputs": [
    {
     "name": "stdout",
     "output_type": "stream",
     "text": [
      "dna_sequence.txt\n",
      "IN_Bedford_5_WNW.txt\n",
      "KS_Manhattan_6_SSW.txt\n",
      "morse_lookup_table.txt\n",
      "nobel_physics.txt\n"
     ]
    }
   ],
   "source": [
    "# Store and print the list of text files (denoted with extension ''.txt') only\n",
    "import glob\n",
    "glob.os.chdir('../datasets')\n",
    "\n",
    "for file in glob.glob(\"*.txt\"):\n",
    "    print(file)\n"
   ]
  },
  {
   "cell_type": "code",
   "execution_count": 6,
   "metadata": {},
   "outputs": [
    {
     "name": "stdout",
     "output_type": "stream",
     "text": [
      "['dna_sequence.txt', 'IN_Bedford_5_WNW.txt', 'KS_Manhattan_6_SSW.txt', 'morse_lookup_table.txt', 'nobel_physics.txt']\n"
     ]
    }
   ],
   "source": [
    "# An alternative way in case you want to store the file names in a list\n",
    "txtfiles = []\n",
    "for file in glob.glob(\"*.txt\"):\n",
    "    txtfiles.append(file)\n",
    "\n",
    "print(txtfiles)  # This is not part of the loop"
   ]
  },
  {
   "cell_type": "markdown",
   "metadata": {},
   "source": [
    "## Break and continue\n",
    "\n",
    "These two reserved words are extrmely useful to control the flow of loops. A break will automatically interrupt the ongoing loop. Note that in nested loops the break will only interrupt the loop in which the break was inserted, meaning that to fully break of nested loop we need to add two or more break points."
   ]
  },
  {
   "cell_type": "code",
   "execution_count": 1,
   "metadata": {},
   "outputs": [
    {
     "name": "stdout",
     "output_type": "stream",
     "text": [
      "0\n",
      "1\n",
      "2\n",
      "3\n",
      "4\n",
      "5\n"
     ]
    }
   ],
   "source": [
    "# Break out of a for (or while) loop\n",
    "for i in range(10):\n",
    "    print(i)\n",
    "    if i == 5:\n",
    "        break"
   ]
  },
  {
   "cell_type": "code",
   "execution_count": 3,
   "metadata": {},
   "outputs": [
    {
     "name": "stdout",
     "output_type": "stream",
     "text": [
      "Tundra\n",
      "Rainforest\n",
      "Savanna\n",
      "Freshwater\n",
      "Wetlands\n"
     ]
    }
   ],
   "source": [
    "# Combined used of the break and continue key words in a for (or while) loop\n",
    "\n",
    "biomes = ['Tundra','Rainforest','Savanna','Freshwater','Wetlands','Marine','Coral reef','Estuaries']\n",
    "\n",
    "for biome in biomes:\n",
    "\n",
    "    if biome != 'Marine':\n",
    "        print(biome)\n",
    "        continue\n",
    "    else:\n",
    "        break"
   ]
  },
  {
   "cell_type": "markdown",
   "metadata": {},
   "source": [
    "## Note on application\n",
    "\n",
    "`for` Loops are great for iterating over lists, but they are also great for modeling time-dependant processes. In the case of the antecedent precipitation index, today's soil water content depends on yesterday's soil water content, today's rainfall, and a loss parameter that encapsulates the effect of soil drainage and atmopsheric demand. \n",
    "\n",
    "You can use for loops to model population dynamics, heat transfer, chemical reactions, radioactive decay, biomass accumulation of different organisms, and the list goes on."
   ]
  }
 ],
 "metadata": {
  "kernelspec": {
   "display_name": "Python 3",
   "language": "python",
   "name": "python3"
  },
  "language_info": {
   "codemirror_mode": {
    "name": "ipython",
    "version": 3
   },
   "file_extension": ".py",
   "mimetype": "text/x-python",
   "name": "python",
   "nbconvert_exporter": "python",
   "pygments_lexer": "ipython3",
   "version": "3.7.6"
  }
 },
 "nbformat": 4,
 "nbformat_minor": 4
}
