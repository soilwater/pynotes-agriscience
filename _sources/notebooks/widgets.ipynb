{
 "cells": [
  {
   "cell_type": "markdown",
   "id": "167d8b88-c8dd-4228-82e5-420615ce5231",
   "metadata": {},
   "source": [
    "# Widgets\n",
    "\n",
    "Adding interactivity to Jupyter notebooks can help with data exploration and can engage the reader of the notebook. The `ipywidgets` module has multiple widgets including sliders, buttons, textbox, and dropdowns to make our code more interactive.\n",
    "\n",
    "The `ipywidgets` [documentation](https://ipywidgets.readthedocs.io/en/latest/index.html) offers extensive description of each widgets and numerous examples. In this tutorial we will go over a few simple examples to highlight the main building blocks so that you can start creating your own interactive notebooks.\n"
   ]
  },
  {
   "cell_type": "markdown",
   "id": "8e5feb39-f2ee-4227-8471-c30c7e6c6147",
   "metadata": {},
   "source": [
    "## Convert bushels to metric tons\n",
    "\n",
    "Often times we need to convert yield from bushels per acre to metric tons per hectare. We will use `ipywidgets` to build a simple application to explore and convert between these two units for common agricultural crops.\n",
    "\n",
    "The following example will emphasize the following points:\n",
    "\n",
    "- Learn basic syntax to implement widgets and set custom parameters\n",
    "- Define a function that ingests widget values \n",
    "- Establish dynamic computation between the widget and the function\n"
   ]
  },
  {
   "cell_type": "code",
   "execution_count": 22,
   "id": "468ff67c-4760-4cec-9970-f62a974acb2c",
   "metadata": {},
   "outputs": [],
   "source": [
    "# Import modules\n",
    "import ipywidgets as widgets"
   ]
  },
  {
   "cell_type": "code",
   "execution_count": 23,
   "id": "072a2b0e-7e9e-4fc0-932c-fa5606912566",
   "metadata": {},
   "outputs": [
    {
     "data": {
      "application/vnd.jupyter.widget-view+json": {
       "model_id": "0654ad663adf454a9086ee241e22766c",
       "version_major": 2,
       "version_minor": 0
      },
      "text/plain": [
       "interactive(children=(Dropdown(description='Crop', index=4, options=('Barley', 'Corn', 'Sorghum', 'Soybeans', …"
      ]
     },
     "metadata": {},
     "output_type": "display_data"
    }
   ],
   "source": [
    "# Define widget\n",
    "crop_dropdown = widgets.Dropdown(options=['Barley','Corn','Sorghum','Soybeans','Wheat'],\n",
    "                                 value='Wheat', description='Crop')\n",
    "bushels_slider = widgets.FloatSlider(value=40, min=0, max=200, step=1,\n",
    "                                    description='Bushels/acre')\n",
    "\n",
    "# Define function\n",
    "def bushels_to_tons(crop, bu):\n",
    "    \"\"\"Function that converts bushels to metric tons for common crops.\n",
    "       Source: https://grains.org/\n",
    "    \"\"\"\n",
    "    # Define constants\n",
    "    lbs_per_ton = 0.453592/1000\n",
    "    acres_per_ha = 2.47105\n",
    "    \n",
    "    # Convert bu -> lbs -> tons\n",
    "    if crop == 'Barley':\n",
    "        tons =  bu * 48 * lbs_per_ton \n",
    "        \n",
    "    elif crop == 'Corn' or crop == 'Sorghum':\n",
    "        tons =  bu * 56 * lbs_per_ton\n",
    "        \n",
    "    elif crop == 'Wheat' or crop == 'Soybeans':\n",
    "        tons = bu * 60 * lbs_per_ton\n",
    "        \n",
    "    # Convert acre -> hectares\n",
    "    tons = round(tons * acres_per_ha, 2)\n",
    "    return widgets.FloatText(value=tons, description='Tons/ha', disabled=True)\n",
    "\n",
    "\n",
    "# Define interactivity\n",
    "widgets.interact(bushels_to_tons, crop=crop_dropdown, bu=bushels_slider);\n"
   ]
  },
  {
   "cell_type": "markdown",
   "id": "1605492d-53fe-462a-b86f-3e9fdf62b139",
   "metadata": {},
   "source": [
    "## Runoff-Precipitation\n",
    "\n",
    "`ipywidgets` can also be great to explore the result of models and simulations."
   ]
  },
  {
   "cell_type": "code",
   "execution_count": 24,
   "id": "ec47111f-d07a-4c63-8fae-ac48997b807d",
   "metadata": {},
   "outputs": [],
   "source": [
    "import ipywidgets as widgets\n",
    "import matplotlib.pyplot as plt\n",
    "import numpy as np\n",
    "plt.style.use('ggplot')"
   ]
  },
  {
   "cell_type": "code",
   "execution_count": 25,
   "id": "06e669f2-1e4f-4111-a71c-3e11dfa766c2",
   "metadata": {},
   "outputs": [
    {
     "data": {
      "application/vnd.jupyter.widget-view+json": {
       "model_id": "756bba4be13a46faa7b28339e7a0eec0",
       "version_major": 2,
       "version_minor": 0
      },
      "text/plain": [
       "interactive(children=(IntSlider(value=50, description='Curve number'), Output()), _dom_classes=('widget-intera…"
      ]
     },
     "metadata": {},
     "output_type": "display_data"
    }
   ],
   "source": [
    "# Create widget\n",
    "CN_slider = widgets.IntSlider(50, min=0,max=100, description='Curve number')\n",
    "\n",
    "# Create function\n",
    "def curve_number(CN):\n",
    "    \"\"\"Function that computes runoff based on the \n",
    "    curve number method proposed by the Soil Conservation Service\n",
    "    Source: https://www.wikiwand.com/en/Runoff_curve_number\n",
    "\n",
    "    Inputs\n",
    "    CN : Curve number. 0 means fully permeable and 100 means fully impervious.\n",
    "    \n",
    "    Returns\n",
    "    Figure of runoff as a function of precipitation\n",
    "    \"\"\"\n",
    "\n",
    "    P = np.arange(0,12,step=0.01) # Precipitation in inches\n",
    "    RO = np.zeros_like(P)\n",
    "    S = 1000/CN - 10\n",
    "    Ia = S * 0.05 # Initial abstraction (inches)\n",
    "    idx = P > Ia\n",
    "    RO[idx] = (P[idx] - Ia)**2 / (P[idx] - Ia + S)\n",
    "\n",
    "    # Create figure\n",
    "    plt.figure(figsize=(6,4))\n",
    "    plt.plot(P,RO,'--k')\n",
    "    plt.title('Curve Number Method')\n",
    "    plt.xlabel('Precipitation (inches)')\n",
    "    plt.ylabel('Runoff (inches)')\n",
    "    plt.xlim([0,12])\n",
    "    plt.ylim([0,12])\n",
    "    return plt.show()\n",
    "\n",
    "# Define interactivity\n",
    "widgets.interact(curve_number, CN = CN_slider);\n"
   ]
  },
  {
   "cell_type": "code",
   "execution_count": null,
   "id": "5d35d906-9df4-420f-a314-3cbd381edfa7",
   "metadata": {},
   "outputs": [],
   "source": []
  }
 ],
 "metadata": {
  "kernelspec": {
   "display_name": "Python 3 (ipykernel)",
   "language": "python",
   "name": "python3"
  },
  "language_info": {
   "codemirror_mode": {
    "name": "ipython",
    "version": 3
   },
   "file_extension": ".py",
   "mimetype": "text/x-python",
   "name": "python",
   "nbconvert_exporter": "python",
   "pygments_lexer": "ipython3",
   "version": "3.9.7"
  }
 },
 "nbformat": 4,
 "nbformat_minor": 5
}
