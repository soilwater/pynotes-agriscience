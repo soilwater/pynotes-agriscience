{
 "cells": [
  {
   "cell_type": "markdown",
   "metadata": {},
   "source": [
    "# Python help\n",
    "\n",
    "Python is one of the most popular languages for data science and as a consequence there is a large community generating content and helping new programmers. The Python Standard Library is the official and latest documentation for Python core modules: <https://docs.python.org/3/>. \n",
    "\n",
    "For instance, here is the official documentation for the `round()` function : <https://docs.python.org/3/library/functions.html?highlight=round#round>\n",
    "\n",
    "If you need quick access to learn more about the input arguments of the function below are some additional alternatives that you can use using the Python interpreter. Note that for the case of the `round()` function the options below do not provide the full documentation such as the special behavior of the function due to float representation.\n",
    "\n",
    "External modules common in scientific computing such as Numpy, Scipy, and Matplotlib have separate documentation website exclusively dedicated to the module. Most online documentation resources contain plenty of detail about input and output arguments, datatype of the required inputs, examples, and notes on special behavior of the code. \n"
   ]
  },
  {
   "cell_type": "code",
   "execution_count": 1,
   "metadata": {},
   "outputs": [
    {
     "name": "stdout",
     "output_type": "stream",
     "text": [
      "Help on built-in function round in module builtins:\n",
      "\n",
      "round(number, ndigits=None)\n",
      "    Round a number to a given precision in decimal digits.\n",
      "    \n",
      "    The return value is an integer if ndigits is omitted or None.  Otherwise\n",
      "    the return value has the same type as the number.  ndigits may be negative.\n",
      "\n"
     ]
    }
   ],
   "source": [
    "# The help command\n",
    "help(round)"
   ]
  },
  {
   "cell_type": "code",
   "execution_count": 2,
   "metadata": {},
   "outputs": [
    {
     "data": {
      "text/plain": [
       "\u001b[0;31mSignature:\u001b[0m \u001b[0mround\u001b[0m\u001b[0;34m(\u001b[0m\u001b[0mnumber\u001b[0m\u001b[0;34m,\u001b[0m \u001b[0mndigits\u001b[0m\u001b[0;34m=\u001b[0m\u001b[0;32mNone\u001b[0m\u001b[0;34m)\u001b[0m\u001b[0;34m\u001b[0m\u001b[0m\n",
       "\u001b[0;31mDocstring:\u001b[0m\n",
       "Round a number to a given precision in decimal digits.\n",
       "\n",
       "The return value is an integer if ndigits is omitted or None.  Otherwise\n",
       "the return value has the same type as the number.  ndigits may be negative.\n",
       "\u001b[0;31mType:\u001b[0m      builtin_function_or_method\n"
      ]
     },
     "metadata": {},
     "output_type": "display_data"
    }
   ],
   "source": [
    "# An alternative help shortcut command\n",
    "round?"
   ]
  },
  {
   "cell_type": "markdown",
   "metadata": {},
   "source": [
    "## List installed pacakges\n",
    "\n",
    "Only a small set of installed packeges are displayed below, but you should get the full list of modules."
   ]
  },
  {
   "cell_type": "code",
   "execution_count": null,
   "metadata": {},
   "outputs": [],
   "source": [
    "pip list"
   ]
  },
  {
   "cell_type": "markdown",
   "metadata": {},
   "source": [
    "    Package                            Version            \n",
    "    ---------------------------------- -------------------\n",
    "    affine                             2.3.0              \n",
    "    alabaster                          0.7.12             \n",
    "    anaconda-client                    1.7.2              \n",
    "    anaconda-navigator                 1.9.7                        \n",
    "    appnope                            0.1.0              \n",
    "    appscript                          1.0.1              \n",
    "    asn1crypto                         1.3.0              \n",
    "    attrs                              19.3.0             \n",
    "    Babel                              2.8.0              \n",
    "    basemap                            1.2.0              \n",
    "    beautifulsoup4                     4.8.2              \n",
    "    bitarray                           1.2.1              \n",
    "    bkcharts                           0.2                \n",
    "    bleach                             3.1.0              \n",
    "    bokeh                              1.4.0                "
   ]
  },
  {
   "cell_type": "markdown",
   "metadata": {},
   "source": [
    "## References\n",
    "\n",
    "Van Rossum, G. and Drake, F.L., 2011. The python language reference manual. Network Theory Ltd.."
   ]
  }
 ],
 "metadata": {
  "kernelspec": {
   "display_name": "Python 3",
   "language": "python",
   "name": "python3"
  },
  "language_info": {
   "codemirror_mode": {
    "name": "ipython",
    "version": 3
   },
   "file_extension": ".py",
   "mimetype": "text/x-python",
   "name": "python",
   "nbconvert_exporter": "python",
   "pygments_lexer": "ipython3",
   "version": "3.7.6"
  }
 },
 "nbformat": 4,
 "nbformat_minor": 4
}
