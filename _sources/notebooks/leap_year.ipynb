{
 "cells": [
  {
   "cell_type": "markdown",
   "metadata": {},
   "source": [
    "# Leap years\n",
    "\n",
    "Leap years refer to the years in which we add an extra day to the calendar to keep it synchronized with the time it takes for the Earth to complete one revolution around the Sun. It takes Earth approximately 365.242189 days, so during leap years we add an extra day to the month of February, meaning that in leap years February has a total of 29 days. \n",
    "\n",
    ">Every year that is exactly divisible by four is a leap year, except for years that are exactly divisible by 100, but these centurial years are leap years if they are exactly divisible by 400. For example, the years 1700, 1800, and 1900 are not leap years, but the years 1600 and 2000 are (United States Naval Observatory).\n",
    "\n",
    "- `Divisible by 4`. So, remaindeyear = 2000\n",
    "leap = year%4 == 0 and year%100 > 0 or year%400 == 0\n",
    "print(leap)r of year by 4 must be equal to zero.\n",
    "\n",
    "- `Not divisible by 100`. So, remainder of year by 100 must be greater than zero.\n",
    "\n",
    "- `Divisible by 400`. So, remainder of year by 400 must be equal to zero.\n",
    "\n",
    "Example leap years = 2016, 2020, 2024, 2000, 2400\n",
    "\n",
    "Example non leap years = 2100, 2200"
   ]
  },
  {
   "cell_type": "code",
   "execution_count": 4,
   "metadata": {},
   "outputs": [
    {
     "name": "stdout",
     "output_type": "stream",
     "text": [
      "True\n"
     ]
    }
   ],
   "source": [
    "# Short version\n",
    "\n",
    "year = 2000\n",
    "isleap = year%4 == 0 and year%100 > 0 or year%400 == 0\n",
    "print(isleap)\n"
   ]
  },
  {
   "cell_type": "code",
   "execution_count": 3,
   "metadata": {},
   "outputs": [
    {
     "name": "stdout",
     "output_type": "stream",
     "text": [
      "2000 is a leap year.\n"
     ]
    }
   ],
   "source": [
    "# Verbose version\n",
    "\n",
    "year = 2000\n",
    "\n",
    "if year%4 == 0:\n",
    "    if year%100 > 0:\n",
    "        print(year,'is a leap year.')\n",
    "    else:\n",
    "        if year%400 == 0:\n",
    "            print(year,'is a leap year.')\n",
    "        else:\n",
    "            print(year,'is not a leap year.')\n",
    "else:\n",
    "    print(year,'is not a leap year.')\n"
   ]
  },
  {
   "cell_type": "markdown",
   "metadata": {},
   "source": [
    "## References\n",
    "\n",
    "Wikipedia: https://www.wikiwand.com/en/Leap_year"
   ]
  }
 ],
 "metadata": {
  "kernelspec": {
   "display_name": "Python 3",
   "language": "python",
   "name": "python3"
  },
  "language_info": {
   "codemirror_mode": {
    "name": "ipython",
    "version": 3
   },
   "file_extension": ".py",
   "mimetype": "text/x-python",
   "name": "python",
   "nbconvert_exporter": "python",
   "pygments_lexer": "ipython3",
   "version": "3.8.5"
  }
 },
 "nbformat": 4,
 "nbformat_minor": 4
}
