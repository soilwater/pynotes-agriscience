{
 "cells": [
  {
   "cell_type": "markdown",
   "metadata": {},
   "source": [
    "# Indexing and slicing\n",
    "\n",
    "Learning how to access information stored in lists allow us to handle and use the data in our code.\n",
    "\n",
    "To access information stored in Python lists it helps if we understand the concepts of indexing and slicing. Indexing is accessing list items by their position on the list, while slicing is about retrieving a \"slice\" of one or more values from the list. Here is a basic sketch to illustrate indexing and slicing:\n",
    "\n",
    "```\n",
    "                             +---+---+---+---+---+---+\n",
    "                             | P | y | t | h | o | n |\n",
    "                             +---+---+---+---+---+---+\n",
    "             Slice position: 0   1   2   3   4   5   6\n",
    "             Index position:   0   1   2   3   4   5\n",
    "```"
   ]
  },
  {
   "cell_type": "markdown",
   "metadata": {},
   "source": [
    "## Indexing\n",
    "\n",
    "To retrieve an element from the list, we need to specify the postion of the item in the list. **Indexing results in items, not lists**.\n",
    "\n",
    "**Indexing syntax**: `list[index]`"
   ]
  },
  {
   "cell_type": "code",
   "execution_count": 16,
   "metadata": {},
   "outputs": [
    {
     "name": "stdout",
     "output_type": "stream",
     "text": [
      "P\n",
      "n\n",
      "<class 'str'>\n"
     ]
    }
   ],
   "source": [
    "python_word = ['P','y','t','h','o','n']\n",
    "\n",
    "# Indexing\n",
    "print(p[0])\n",
    "print(p[5])\n",
    "print(type(p[5]))\n"
   ]
  },
  {
   "cell_type": "markdown",
   "metadata": {},
   "source": [
    "## Slicing\n",
    "\n",
    "Extract one or more elements from a list. **Slicing results in a list** and requires the use of the `:` operator.\n",
    "\n",
    "**Slicing syntax**: `array[start:stop:step]`\n",
    "\n",
    "`start`: the beginning index of the slice, it will include the element at this index unless it is the same as the `stop`, defaults to 0, i.e. the first index. If it's negative, it means to \n",
    "start n items from the end.\n",
    "\n",
    "`stop`: the ending index of the slice, it does not include the element at this index, defaults to length of the sequence being sliced, that is, up to, and including, the end.\n",
    "\n",
    "`step`: the amount by which the index increases, defaults to 1. If it's negative, you're slicing over the iterable in reverse.\n",
    "\n",
    ">The colon is what tells Python that you are giving it a slice and not a regular index. \n",
    "Remember that slicing results in lists."
   ]
  },
  {
   "cell_type": "code",
   "execution_count": 4,
   "metadata": {},
   "outputs": [
    {
     "data": {
      "text/plain": [
       "['P']"
      ]
     },
     "execution_count": 4,
     "metadata": {},
     "output_type": "execute_result"
    }
   ],
   "source": [
    "# Single element\n",
    "p[0:1]\n"
   ]
  },
  {
   "cell_type": "code",
   "execution_count": 5,
   "metadata": {},
   "outputs": [
    {
     "data": {
      "text/plain": [
       "['P', 'y']"
      ]
     },
     "execution_count": 5,
     "metadata": {},
     "output_type": "execute_result"
    }
   ],
   "source": [
    "# More than two elements\n",
    "p[0:2]\n"
   ]
  },
  {
   "cell_type": "code",
   "execution_count": 6,
   "metadata": {},
   "outputs": [
    {
     "name": "stdout",
     "output_type": "stream",
     "text": [
      "<class 'list'>\n"
     ]
    }
   ],
   "source": [
    "print(type(p[0:2]))"
   ]
  },
  {
   "cell_type": "code",
   "execution_count": 7,
   "metadata": {},
   "outputs": [
    {
     "name": "stdout",
     "output_type": "stream",
     "text": [
      "['h', 'o', 'n']\n"
     ]
    }
   ],
   "source": [
    "# Get last 3 elements\n",
    "print(p[-3:]) # This means: \"3rd from the end, to the end.\"\n"
   ]
  },
  {
   "cell_type": "code",
   "execution_count": 8,
   "metadata": {},
   "outputs": [
    {
     "name": "stdout",
     "output_type": "stream",
     "text": [
      "['h', 'o', 'n']\n"
     ]
    }
   ],
   "source": [
    "# Technically this is what is going on behind the Python interpreter\n",
    "print(p[-3:len(p):1])\n"
   ]
  },
  {
   "cell_type": "markdown",
   "metadata": {},
   "source": [
    "The following statement will not return the last element."
   ]
  },
  {
   "cell_type": "code",
   "execution_count": 17,
   "metadata": {},
   "outputs": [
    {
     "name": "stdout",
     "output_type": "stream",
     "text": [
      "['h', 'o']\n"
     ]
    }
   ],
   "source": [
    "print(p[-3:-1])\n"
   ]
  },
  {
   "cell_type": "markdown",
   "metadata": {},
   "source": [
    "## References\n",
    "\n",
    "Source: https://stackoverflow.com/questions/509211/understanding-slice-notation\n"
   ]
  }
 ],
 "metadata": {
  "kernelspec": {
   "display_name": "Python 3",
   "language": "python",
   "name": "python3"
  },
  "language_info": {
   "codemirror_mode": {
    "name": "ipython",
    "version": 3
   },
   "file_extension": ".py",
   "mimetype": "text/x-python",
   "name": "python",
   "nbconvert_exporter": "python",
   "pygments_lexer": "ipython3",
   "version": "3.7.0"
  }
 },
 "nbformat": 4,
 "nbformat_minor": 2
}
