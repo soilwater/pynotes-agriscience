{
 "cells": [
  {
   "cell_type": "markdown",
   "metadata": {},
   "source": [
    "# Gray-Scott Model of Reaction-Diffusion\n",
    "\n",
    "The essence of the Gray-Scott model is aimed at simulating the interaction of two chemicals that diffuse, react, and are replenished and consumed at specific rates. By varying these numerical quantities we obtain different patterns and types of behavior. The discretized equations governing the system for chemical $A$ and $B$ are:\n",
    "\n",
    "$$ A' = A + ( D_A \\nabla^2 A - AB^2 + f(1-A)) \\ \\Delta t $$\n",
    "\n",
    "$$ B' = B + ( D_B \\nabla^2 B - AB^2 - (k+f)B) \\ \\Delta t $$\n",
    "\n",
    "$D_A$ is the diffusion coefficient of chemical *A*\n",
    "\n",
    "$D_B$ is the diffusion coefficient of chemical *B*\n",
    "\n",
    "$f$ feed rate of chemical *A*\n",
    "\n",
    "$k$ kill rate of chemical *B*\n",
    "\n",
    "\n",
    "The grids of chemicals *A* and *B* are initialized with A=1 and B=0. Then, a small area of *B* is seeded with ones. The starting pattern can modified to explore different scenarios. Try regular patterns and random patterns. I suggest setting the random seed, so that if you find a cool pattern you can reproduce it later on.\n",
    "\n",
    "The problem can be coded using constant boundary conditions or using the Born-von Karman conditions which aim at simulating an infinite media. The latter is also referred as torus, in which the sliding 2D window to compute the Laplacian uses the opposite row or column when exceeding the system boundaries.\n"
   ]
  },
  {
   "cell_type": "code",
   "execution_count": 74,
   "metadata": {},
   "outputs": [],
   "source": [
    "# Import modules\n",
    "import time\n",
    "import numpy as np\n",
    "import matplotlib.pyplot as plt\n",
    "import matplotlib.image as mpimg\n"
   ]
  },
  {
   "cell_type": "code",
   "execution_count": 75,
   "metadata": {},
   "outputs": [],
   "source": [
    "# Define colormap\n",
    "cmap = 'gray'"
   ]
  },
  {
   "cell_type": "code",
   "execution_count": 76,
   "metadata": {},
   "outputs": [],
   "source": [
    "# Define constants\n",
    "D_A = 0.03  # Diffusion rate of chemical A\n",
    "D_B = 0.02  # Diffusion rate of chemical B\n",
    "f = 0.01     # feed rate at which chemical A is added\n",
    "k = 0.062   # kill rate at which chemical B is removed\n",
    "delta_t = 1;\n"
   ]
  },
  {
   "cell_type": "code",
   "execution_count": 125,
   "metadata": {},
   "outputs": [],
   "source": [
    "# Create inital matrix\n",
    "N = 64\n",
    "rows = 64\n",
    "cols = 64\n",
    "A = np.ones([rows,cols], dtype=np.float64)\n",
    "B = np.zeros([rows,cols], dtype=np.float64)\n"
   ]
  },
  {
   "cell_type": "code",
   "execution_count": 126,
   "metadata": {},
   "outputs": [],
   "source": [
    "# Seed with A and B\n",
    "B[30:34,30:34] = 1\n",
    "#A += 0.01*np.random.random((N,N))\n",
    "#B += 0.01*np.random.random((N,N))\n",
    "#c = 8 # Offset to form a square\n",
    "#seed_rows = range(round(rows/2)-c, round(rows/2)+c)\n",
    "#seed_cols = range(round(cols/2)-c, round(cols/2)+c)\n",
    "#A[seed_rows,seed_cols] = 0.75\n",
    "#B[seed_rows,seed_cols] = 0.25\n"
   ]
  },
  {
   "cell_type": "code",
   "execution_count": 128,
   "metadata": {},
   "outputs": [
    {
     "data": {
      "image/png": "[encoded data removed]",
      "text/plain": [
       "<Figure size 864x432 with 2 Axes>"
      ]
     },
     "metadata": {
      "needs_background": "light"
     },
     "output_type": "display_data"
    }
   ],
   "source": [
    "# Plot initial conditions\n",
    "plt.figure(figsize=(12,6))\n",
    "\n",
    "plt.subplot(1,2,1)\n",
    "plt.tight_layout()\n",
    "plt.axis('off')\n",
    "plt.imshow(A, cmap='Greys')\n",
    "\n",
    "plt.subplot(1,2,2)\n",
    "plt.tight_layout()\n",
    "plt.axis('off')\n",
    "plt.pcolormesh(B, cmap='Greys_r')\n",
    "plt.show()\n"
   ]
  },
  {
   "cell_type": "code",
   "execution_count": 129,
   "metadata": {},
   "outputs": [
    {
     "data": {
      "text/plain": [
       "array([[0., 0., 0., 0., 0., 0., 0., 0.],\n",
       "       [0., 0., 0., 0., 0., 0., 0., 0.],\n",
       "       [0., 0., 1., 1., 1., 1., 0., 0.],\n",
       "       [0., 0., 1., 1., 1., 1., 0., 0.],\n",
       "       [0., 0., 1., 1., 1., 1., 0., 0.],\n",
       "       [0., 0., 1., 1., 1., 1., 0., 0.],\n",
       "       [0., 0., 0., 0., 0., 0., 0., 0.],\n",
       "       [0., 0., 0., 0., 0., 0., 0., 0.]])"
      ]
     },
     "execution_count": 129,
     "metadata": {},
     "output_type": "execute_result"
    }
   ],
   "source": [
    "B[28:36,28:36]"
   ]
  },
  {
   "cell_type": "code",
   "execution_count": 130,
   "metadata": {},
   "outputs": [],
   "source": [
    "# Define moving window\n",
    "offset_rows = np.array([ [-1, -1, -1], [0, 0, 0], [1, 1, 1] ])\n",
    "offset_cols = np.array([ [-1, 0, 1], [-1, 0, 1], [-1, 0, 1] ])\n",
    "\n",
    "# Define Laplacian weights\n",
    "W = np.array([ [0.05, 0.2, 0.05], [0.2, -1, 0.2], [0.05, 0.2, 0.05] ]);\n",
    "#W = np.array([ [0.0625, 0.1875, 0.0625], [0.1875, -1, 0.1875], [0.0625, 0.1875, 0.0625] ]);\n"
   ]
  },
  {
   "cell_type": "code",
   "execution_count": 131,
   "metadata": {},
   "outputs": [
    {
     "name": "stdout",
     "output_type": "stream",
     "text": [
      "Done in  352.40046339699984\n"
     ]
    }
   ],
   "source": [
    "# Pre-allocate new array\n",
    "Anew = np.ones(A.shape)*np.nan\n",
    "Bnew = np.ones(B.shape)*np.nan\n",
    "\n",
    "# Get time at the beginning of the simulation\n",
    "tic = time.perf_counter()\n",
    "\n",
    "for t in range(3000):\n",
    "    for i in range(rows):\n",
    "        for j in range(cols):\n",
    "            \n",
    "            # Torus for rows\n",
    "            rows_set = i + offset_rows\n",
    "            rows_set[rows_set >= rows] = 0 # if higher than last row, then use first row\n",
    "            rows_set[rows_set < 0] = rows - 1  # if lower than first row, then use last row\n",
    "            \n",
    "            # Torus for columns\n",
    "            cols_set = j + offset_cols\n",
    "            cols_set[cols_set >= cols] = 0 # if higher than last column, then use first column\n",
    "            cols_set[cols_set < 0] = cols - 1 # if lower than first column, then use last column\n",
    "            \n",
    "            # Compute Laplacian\n",
    "            L_A = A[rows_set, cols_set] * W\n",
    "            L_B = B[rows_set, cols_set] * W\n",
    "            \n",
    "            Anew[i,j] = A[i,j] + ( D_A * L_A.sum() - A[i,j] * B[i,j]**2 + f*(1-A[i,j]) ) * delta_t\n",
    "            Bnew[i,j] = B[i,j] + ( D_B * L_B.sum() + A[i,j] * B[i,j]**2 - (k+f)*B[i,j] ) * delta_t\n",
    "\n",
    "    A = Anew;\n",
    "    B = Bnew;\n",
    "    \n",
    "    Anew = np.ones(A.shape)*np.nan\n",
    "    Bnew = np.ones(B.shape)*np.nan\n",
    "\n",
    "    \n",
    "# Get time at end of simulation\n",
    "toc = time.perf_counter()\n",
    "\n",
    "# Let us know that the interpreter finished\n",
    "print('Done in ',str(toc-tic))\n"
   ]
  },
  {
   "cell_type": "code",
   "execution_count": 134,
   "metadata": {},
   "outputs": [
    {
     "data": {
      "image/png": "[encoded data removed]",
      "text/plain": [
       "<Figure size 864x432 with 2 Axes>"
      ]
     },
     "metadata": {},
     "output_type": "display_data"
    }
   ],
   "source": [
    "# Create figure\n",
    "cmap = 'terrain'\n",
    "plt.figure(figsize=(12,6),facecolor='w')\n",
    "\n",
    "plt.subplot(1,2,1)\n",
    "plt.title('Chemical A')\n",
    "plt.tight_layout()\n",
    "plt.axis('off')\n",
    "plt.pcolormesh(A, cmap=cmap)\n",
    "    \n",
    "plt.subplot(1,2,2)\n",
    "plt.title('Chemical B')\n",
    "plt.tight_layout()\n",
    "plt.axis('off')\n",
    "plt.pcolormesh(B, cmap=cmap)\n",
    "plt.show()"
   ]
  },
  {
   "cell_type": "markdown",
   "metadata": {},
   "source": [
    "## References\n",
    "\n",
    "https://www.karlsims.com/rd.html"
   ]
  }
 ],
 "metadata": {
  "kernelspec": {
   "display_name": "Python 3",
   "language": "python",
   "name": "python3"
  },
  "language_info": {
   "codemirror_mode": {
    "name": "ipython",
    "version": 3
   },
   "file_extension": ".py",
   "mimetype": "text/x-python",
   "name": "python",
   "nbconvert_exporter": "python",
   "pygments_lexer": "ipython3",
   "version": "3.7.6"
  }
 },
 "nbformat": 4,
 "nbformat_minor": 4
}
