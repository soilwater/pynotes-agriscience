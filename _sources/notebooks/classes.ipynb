{
 "cells": [
  {
   "cell_type": "markdown",
   "metadata": {},
   "source": [
    "# Classes\n",
    "\n",
    "Classes are at the core of object-oriented programming and are great to create new objects with custom attributes and functions. Unlike functional programming, in which the output of one function becomes the input of a subsequent function, using classes we can encapsulate functions that are only available to that object.\n",
    "\n",
    "Classes are basically the blueprint of new objects and once we create a class, we can create a new object by calling the class. This process of calling a class is similar to that of calling a function and has a specific term: \"instantiation\", which means that we called the class to create an new object. This new object can be empty or it can have default attributed and methods pre-populated in the blueprint.\n",
    "\n",
    "There are tow key concepts to learn before creating new classes.\n",
    "\n",
    "- **Attribute**: Property of the object. Not a function or method.\n",
    "- **Method** this is the name of functions defined with classes and that are associated to a particular object.\n",
    "- `self` is a placeholder for the object and must be the first argument of any function. This is usually defined with the words like `self`, `this`, or anything else you want. Typically is a short word so that it is easy to type. We will use `self` to match the official Python documentation.\n",
    "- The `__init__()` function is invoked automatically by the Python interpreter when we create a new object. So anything that is within this function will become part of the new object at the time of creation of the object.\n",
    "\n",
    "Let's look at some simple examples."
   ]
  },
  {
   "cell_type": "markdown",
   "metadata": {},
   "source": [
    "## Example: Laboratory sample\n",
    "\n",
    "Imagine that we run a laboratory for soil analyses. The soil samples that we receive from customers (e.g. farmers, gardeners, golf course superintendents, etc.) have a series of attibutes that we probably want to characterize. Some of these attributes could include: customer full name, date received by the lab, a unique identifier, location where the samples was collected, desired analyses, and the results of the analyses. So, the unit here is the sample, all the other information is metadata of the each sample. \n",
    "\n",
    "With some of these properties in mind, we can create a new Python class for our samples, so that when we receive a new sample we can create a new entry (we create a new instance of the class SoilSample). As you can see Python does not have this class within its core library, so classes bring flexibility to the user to create custom objects that fit a specific need.\n",
    "\n",
    "For this example we will use the `uuid` module to create a unique sample identifier and the `datetime` module to capture the timestamp when we create the new objects. Using existing modules will reduce the number of inputs when we instantiate the class.\n"
   ]
  },
  {
   "cell_type": "code",
   "execution_count": 140,
   "metadata": {},
   "outputs": [],
   "source": [
    "from datetime import datetime, timedelta\n",
    "import uuid"
   ]
  },
  {
   "cell_type": "code",
   "execution_count": 169,
   "metadata": {},
   "outputs": [],
   "source": [
    "class SoilSample:\n",
    "    \"\"\" Class that defines attributes and methods for soil samples\"\"\"\n",
    "    def __init__(this, customer, location, state):\n",
    "        \n",
    "        # CONSTANT attributes for all instances\n",
    "        this.laboratory = 'Soil Water Processes'\n",
    "        this.organization = 'Kansas State University'\n",
    "        \n",
    "        # USER-DEFINED when creating a new instance\n",
    "        this.customer = customer\n",
    "        this.location = location\n",
    "        this.state = state\n",
    "        \n",
    "        # AUTOMATICALLY populated when creating a new instance\n",
    "        this.entry_date = datetime.now()\n",
    "        this.deadline = this.entry_date + timedelta(days=7)\n",
    "        this.id = uuid.uuid1()\n",
    "        this.done = False\n",
    "        \n",
    "    def summary(this):\n",
    "        print(this.location + ',',this.state, 'entered on', this.entry_date)\n",
    "        \n",
    "    def get_id(this):\n",
    "        return this.id\n",
    "    \n",
    "    def remaining_time(this):\n",
    "        if this.done == False:\n",
    "            print(this.deadline - datetime.now())\n",
    "        else:\n",
    "            print('Sample already processed on',this.processed_date)\n",
    "    \n",
    "    def add_results(this, results):\n",
    "        this.processed_date = datetime.now()\n",
    "        this.results = results\n",
    "        this.done = True\n",
    "        \n",
    "    def get_results(this):\n",
    "        print(this.results)"
   ]
  },
  {
   "cell_type": "markdown",
   "metadata": {},
   "source": [
    "### Instantiation\n",
    "\n",
    "Create new instance upon receiving a sample. In this case we will store the new object into a varaible, but we could easily create a dictionary or list to append multiple samples. Too many steps at once can create a complex hierarchical structure that can be hard to understand."
   ]
  },
  {
   "cell_type": "code",
   "execution_count": 170,
   "metadata": {},
   "outputs": [],
   "source": [
    "# Create new instace when receiving the sample\n",
    "new_sample = SoilSample('John Smith','Tribune','KS')"
   ]
  },
  {
   "cell_type": "markdown",
   "metadata": {},
   "source": [
    "### Call object attributes"
   ]
  },
  {
   "cell_type": "code",
   "execution_count": 171,
   "metadata": {},
   "outputs": [
    {
     "data": {
      "text/plain": [
       "'Tribune'"
      ]
     },
     "execution_count": 171,
     "metadata": {},
     "output_type": "execute_result"
    }
   ],
   "source": [
    "new_sample.location"
   ]
  },
  {
   "cell_type": "code",
   "execution_count": 172,
   "metadata": {},
   "outputs": [
    {
     "data": {
      "text/plain": [
       "datetime.datetime(2021, 1, 13, 16, 51, 38, 343107)"
      ]
     },
     "execution_count": 172,
     "metadata": {},
     "output_type": "execute_result"
    }
   ],
   "source": [
    "new_sample.entry_date"
   ]
  },
  {
   "cell_type": "code",
   "execution_count": 173,
   "metadata": {},
   "outputs": [
    {
     "data": {
      "text/plain": [
       "'Soil Water Processes'"
      ]
     },
     "execution_count": 173,
     "metadata": {},
     "output_type": "execute_result"
    }
   ],
   "source": [
    "new_sample.laboratory"
   ]
  },
  {
   "cell_type": "markdown",
   "metadata": {},
   "source": [
    "### Call object methods"
   ]
  },
  {
   "cell_type": "code",
   "execution_count": 174,
   "metadata": {},
   "outputs": [
    {
     "data": {
      "text/plain": [
       "UUID('e50fd434-55f1-11eb-8fff-f45c89ca92fb')"
      ]
     },
     "execution_count": 174,
     "metadata": {},
     "output_type": "execute_result"
    }
   ],
   "source": [
    "new_sample.get_id()"
   ]
  },
  {
   "cell_type": "code",
   "execution_count": 175,
   "metadata": {},
   "outputs": [
    {
     "name": "stdout",
     "output_type": "stream",
     "text": [
      "Tribune, KS entered on 2021-01-13 16:51:38.343107\n"
     ]
    }
   ],
   "source": [
    "new_sample.summary()"
   ]
  },
  {
   "cell_type": "code",
   "execution_count": 176,
   "metadata": {},
   "outputs": [
    {
     "name": "stdout",
     "output_type": "stream",
     "text": [
      "6 days, 23:59:43.093864\n"
     ]
    }
   ],
   "source": [
    "new_sample.remaining_time()"
   ]
  },
  {
   "cell_type": "markdown",
   "metadata": {},
   "source": [
    "### Adding new information to object"
   ]
  },
  {
   "cell_type": "code",
   "execution_count": 177,
   "metadata": {},
   "outputs": [],
   "source": [
    "new_sample.add_results({'organic matterom':'3%', 'total_nitrogen':'150 ppm'})"
   ]
  },
  {
   "cell_type": "code",
   "execution_count": 178,
   "metadata": {},
   "outputs": [
    {
     "name": "stdout",
     "output_type": "stream",
     "text": [
      "{'organic matterom': '3%', 'total_nitrogen': '150 ppm'}\n"
     ]
    }
   ],
   "source": [
    "new_sample.get_results()"
   ]
  },
  {
   "cell_type": "code",
   "execution_count": 179,
   "metadata": {},
   "outputs": [
    {
     "name": "stdout",
     "output_type": "stream",
     "text": [
      "Sample already processed on 2021-01-13 16:51:57.822307\n"
     ]
    }
   ],
   "source": [
    "new_sample.remaining_time()"
   ]
  }
 ],
 "metadata": {
  "kernelspec": {
   "display_name": "Python 3",
   "language": "python",
   "name": "python3"
  },
  "language_info": {
   "codemirror_mode": {
    "name": "ipython",
    "version": 3
   },
   "file_extension": ".py",
   "mimetype": "text/x-python",
   "name": "python",
   "nbconvert_exporter": "python",
   "pygments_lexer": "ipython3",
   "version": "3.8.5"
  }
 },
 "nbformat": 4,
 "nbformat_minor": 4
}
