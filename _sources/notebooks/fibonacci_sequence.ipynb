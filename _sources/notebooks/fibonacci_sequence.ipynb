{
 "cells": [
  {
   "cell_type": "markdown",
   "metadata": {},
   "source": [
    "# Fibonacci Sequence\n",
    "\n",
    "The Fibonacci sequence is defined by the sum of the preceding two values. So, if start from the values 0 and 1 `sequence = [0,1]`, then then next value is `0 + 1 = 1` and by adding the last value to our sequence we get `sequence = [0,1,1]`. We can repeat this operation one more time. By adding the last two numbers of the list we now have `1 + 1 = 2`, and if we add this computation to the sequence we obtain `sequence = [0,1,1,2]`. Hope you can see the pattern. The next value of the sequence would be `1 + 2 = 3`.\n",
    "\n",
    "We can write some Python code to automate the calculation for us. Now only taht, we can also instruct Python to give as the entire sequence up to a specific number. Here is the formal definition of the sequence:\n",
    "\n",
    "$$ F_{0}=0,\\quad F_{1}=1 $$\n",
    "\n",
    "\n",
    "$$ F_{n}=F_{n-1}+F_{n-2} $$"
   ]
  },
  {
   "cell_type": "markdown",
   "metadata": {},
   "source": [
    "## Fibonacci sequence to a specific value (while loop)"
   ]
  },
  {
   "cell_type": "code",
   "execution_count": 7,
   "metadata": {},
   "outputs": [
    {
     "name": "stdout",
     "output_type": "stream",
     "text": [
      "[0, 1, 1, 2, 3, 5, 8, 13, 21, 34, 55, 89]\n"
     ]
    }
   ],
   "source": [
    "\n",
    "max_val = 100\n",
    "count = [0,1] \n",
    "\n",
    "while True:\n",
    "    new_val = sum(count[-2:])  # Add last two numbers\n",
    "    if new_val <= max_val:\n",
    "        count.append(new_val) \n",
    "    else:\n",
    "        break\n",
    "\n",
    "print(count)"
   ]
  },
  {
   "cell_type": "markdown",
   "metadata": {},
   "source": [
    "## Find the nth Fibonacci value (for loop)"
   ]
  },
  {
   "cell_type": "code",
   "execution_count": 11,
   "metadata": {},
   "outputs": [
    {
     "name": "stdout",
     "output_type": "stream",
     "text": [
      "[0, 1, 1, 2, 3, 5]\n",
      "The 6 value of the Fibonacci sequence is: 5\n"
     ]
    }
   ],
   "source": [
    "n = 6 # Value must be greater than 2\n",
    "count = [0,1] # Seed values\n",
    "\n",
    "for i in range(2,n):\n",
    "    new_value = sum(count[-2:])\n",
    "    count.append(new_value)\n",
    "\n",
    "print(count)\n",
    "print('The',str(n),'value of the Fibonacci sequence is:',new_value)"
   ]
  },
  {
   "cell_type": "markdown",
   "metadata": {},
   "source": [
    ">Of course, you can alter the initial set of numbers and use the same computation to find out new sequences."
   ]
  },
  {
   "cell_type": "markdown",
   "metadata": {},
   "source": [
    "## References\n",
    "\n",
    "Fibonacci sequence: <https://en.wikipedia.org/wiki/Fibonacci_number?oldformat=true/>"
   ]
  }
 ],
 "metadata": {
  "kernelspec": {
   "display_name": "Python 3",
   "language": "python",
   "name": "python3"
  },
  "language_info": {
   "codemirror_mode": {
    "name": "ipython",
    "version": 3
   },
   "file_extension": ".py",
   "mimetype": "text/x-python",
   "name": "python",
   "nbconvert_exporter": "python",
   "pygments_lexer": "ipython3",
   "version": "3.7.6"
  }
 },
 "nbformat": 4,
 "nbformat_minor": 4
}
