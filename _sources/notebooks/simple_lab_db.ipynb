{
 "cells": [
  {
   "cell_type": "markdown",
   "id": "319d40b4-e11d-4480-a950-abfe5f696380",
   "metadata": {},
   "source": [
    "# Simple Laboratory Database\n",
    "\n",
    "A great way to integrate programming concepts is to work on projects. In this project we will use Python to create a simple wizard to save information about soil samples entering a hypothetical soil laboratory that only measures soil texture. Assigning a unique identification number to each sample is essential for tracking samples around the lab and prevent duplicates entries in the database.\n",
    "\n",
    "To keep the example simple we will use a dictionary as our database. If you want to take this example to the next level, consider a similar exercise using something like `sqlite3`, which is a real database and is already included with Python.\n",
    "\n",
    "For each sample we will store the following features:\n",
    "\n",
    "- A unique serial number \n",
    "- Timestamp of data entry\n",
    "- Geographic coordinates of the sample\n",
    "- Results of particle size analysis (sand, silt, and clay)\n"
   ]
  },
  {
   "cell_type": "code",
   "execution_count": 4,
   "id": "fa48beef-5f40-4426-a330-cd5128f85bfb",
   "metadata": {},
   "outputs": [],
   "source": [
    "import uuid\n",
    "import pickle\n",
    "import pprint\n",
    "import datetime\n",
    "import os"
   ]
  },
  {
   "cell_type": "code",
   "execution_count": 5,
   "id": "7d4dcd01-9c86-4479-b974-0e74b169bfd1",
   "metadata": {},
   "outputs": [],
   "source": [
    "# Define important variables\n",
    "db_path = '/Users/andrespatrignani/Desktop'\n",
    "db_filename = 'db.pickle'\n"
   ]
  },
  {
   "cell_type": "code",
   "execution_count": 13,
   "id": "097192a1-3cf7-4849-9ad6-e2ebb760127e",
   "metadata": {},
   "outputs": [],
   "source": [
    "# Define sample class\n",
    "class Sample(object):\n",
    "    def __init__(self, lat, lon, sand, silt, clay):\n",
    "        self.id = str(uuid.uuid1())\n",
    "        self.timestamp = datetime.datetime.now().strftime('%Y-%m-%d %H:%M:%S')\n",
    "        self.lat = lat\n",
    "        self.lon = lon\n",
    "        self.sand = sand\n",
    "        self.silt = silt\n",
    "        self.clay = clay\n",
    "        \n",
    "    def is_hundred(self):\n",
    "        total = self.sand + self.silt + self.clay\n",
    "        return total == 100\n"
   ]
  },
  {
   "cell_type": "code",
   "execution_count": null,
   "id": "d702fa75-393b-4b90-9542-684d1719a79e",
   "metadata": {},
   "outputs": [],
   "source": [
    "# Navigate to directory of database\n",
    "# Use os.getcwd() to get current working directory\n",
    "os.chdir(db_path)\n",
    "\n",
    "# Check if database exists\n",
    "if not os.path.exists(db_filename):\n",
    "    \n",
    "    # Initialize dictionary\n",
    "    db = {'Laboratory':'ACME', 'archive':[]}\n",
    "\n",
    "    # Save database\n",
    "    with open(db_filename, 'wb') as file:\n",
    "        pickle.dump(db, file)\n",
    "        \n",
    "# Load database\n",
    "with open(db_filename, 'rb') as file:\n",
    "    db = pickle.load(file)\n",
    "    \n",
    "# Print welcome message and current number of samples in the database\n",
    "print('Welcome to ACME Labs')\n",
    "print('There are ', len(db['archive']), 'samples in the archive.')\n",
    "print('')\n",
    "\n",
    "# Listen to user inputs\n",
    "while True:\n",
    "\n",
    "    # Start message\n",
    "    print('Add the following information to enter a new sample.')\n",
    "    \n",
    "    # Request inputs\n",
    "    lat = float(input(\"Latitude:\"))\n",
    "    lon = float(input(\"Longitude:\"))\n",
    "    sand = int(input(\"Sand content (%):\"))\n",
    "    silt = int(input(\"Silt content (%):\"))\n",
    "    clay = int(input(\"Clay content (%):\"))\n",
    "\n",
    "    # Create new sample\n",
    "    new_sample = Sample(lat, lon, sand, silt, clay)\n",
    "    \n",
    "    if not new_sample.is_hundred():\n",
    "        print('The sum must be 100%. Total was:', total, '. Sample was not saved.')\n",
    "\n",
    "    else:\n",
    "        # Append new sample to database\n",
    "        db['archive'].append(vars(new_sample)) # vars creates a dict with properties and no methods\n",
    "\n",
    "        # Save database\n",
    "        with open(db_filename, 'wb') as file:\n",
    "            pickle.dump(db, file)\n",
    "\n",
    "        # Final message\n",
    "        print('New sample', new_sample.id, 'was successfully added to the database.')\n",
    "        print('There are', len(db['archive']), 'samples in the archive.')\n",
    "        \n",
    "    if input('Do you want to add another sample? y/n') == 'y':\n",
    "        continue\n",
    "    else:\n",
    "        if input('Do you want to print all the samples in the archive? y/n') == 'y':\n",
    "            pprint.pprint(db)\n",
    "            break\n",
    "        else:\n",
    "            print('Session terminated.')\n",
    "            break\n",
    "        "
   ]
  },
  {
   "cell_type": "markdown",
   "id": "57f37472-d0e3-47c5-9551-1f33e59c0f90",
   "metadata": {},
   "source": [
    "## Steps to create an executable file\n",
    "\n",
    "Save code as `simple_lab_db.py` and place it in a new folder. The last step will create a few additional files, so creating a new folder will help keeping all the files together in the same directory.\n",
    "\n",
    "Install `pyinstaller` using `pip install pyinstaller` in the terminal.\n",
    "\n",
    "To create the executable file run: `pyinstaller --onefile simple_lab_db.py`. This will create a Windows or Mac executable."
   ]
  }
 ],
 "metadata": {
  "kernelspec": {
   "display_name": "Python 3 (ipykernel)",
   "language": "python",
   "name": "python3"
  },
  "language_info": {
   "codemirror_mode": {
    "name": "ipython",
    "version": 3
   },
   "file_extension": ".py",
   "mimetype": "text/x-python",
   "name": "python",
   "nbconvert_exporter": "python",
   "pygments_lexer": "ipython3",
   "version": "3.9.7"
  }
 },
 "nbformat": 4,
 "nbformat_minor": 5
}
