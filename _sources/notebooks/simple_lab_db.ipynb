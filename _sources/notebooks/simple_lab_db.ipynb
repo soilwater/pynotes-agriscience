{
 "cells": [
  {
   "cell_type": "markdown",
   "id": "319d40b4-e11d-4480-a950-abfe5f696380",
   "metadata": {},
   "source": [
    "# Simple Laboratory Database\n",
    "\n",
    "A great way to integrate programming concepts is to work on projects. In this project we will use Python to create a simple wizard to save information about water samples containing arsenic, which is one of the most common heavy metals in drinking water. \n",
    "\n",
    "To keep the example simple we will use a dictionary as our database. If you want to take this example to the next level, consider a similar exercise using a real database like `sqlite3`, which is already included with Python.\n",
    "\n",
    "For each sample we will store the following features:\n",
    "\n",
    "- A unique identification number \n",
    "- Timestamp of data entry\n",
    "- Geographic coordinates of the sample\n",
    "- Results of arsenic concentration in parts per million\n"
   ]
  },
  {
   "cell_type": "code",
   "execution_count": null,
   "id": "7d4dcd01-9c86-4479-b974-0e74b169bfd1",
   "metadata": {},
   "outputs": [],
   "source": [
    "import uuid\n",
    "import datetime\n",
    "import json\n",
    "import os\n",
    "\n",
    "# Define main directory and filename\n",
    "db_directory = '/Users/andrespatrignani/Desktop/'\n",
    "db_filename = 'db.json'\n",
    "db_fullpath = db_directory + db_filename\n",
    "\n",
    "\n",
    "# Check if file called 'db' exists \n",
    "# If yes, then read the existing file; if not initialize an empty dictionary\n",
    "if os.path.exists(db_fullpath):\n",
    "    with open(db_fullpath, 'r') as f:\n",
    "        db = json.load(f)\n",
    "else:\n",
    "    db = {}  \n",
    "\n",
    "\n",
    "# Begin loop to request inputs from user\n",
    "while True:\n",
    "    # Unique ID used as sample key\n",
    "    uid = str(uuid.uuid4())\n",
    "    \n",
    "    # Sample info in the form of a dictionary.\n",
    "    db[uid] = {'timestamp' : datetime.datetime.now().strftime('%Y-%m-%d %H:%M:%S'),\n",
    "               'lat' : float(input(\"Enter latitude:\")),\n",
    "               'lon' : float(input(\"Enter longitude:\")),\n",
    "               'arsenic' : int(input(\"Enter Arsenic concetration (ppm):\"))\n",
    "              }    \n",
    "    \n",
    "    # Save file after each sample\n",
    "    with open(db_fullpath, 'w') as f:\n",
    "        json.dump(db, f)\n",
    "        \n",
    "    if input('Would you like to add a new sample?').lower() == 'no':\n",
    "        break"
   ]
  },
  {
   "cell_type": "markdown",
   "id": "57f37472-d0e3-47c5-9551-1f33e59c0f90",
   "metadata": {},
   "source": [
    "## Steps to create an executable file\n",
    "\n",
    "Save code as `simple_lab_db.py` in a new folder.\n",
    "\n",
    "Install `pyinstaller` using `pip install pyinstaller` in the terminal or from the notebook by executing `!pip install pyinstaller`\n",
    "\n",
    "To create the executable file run: `pyinstaller --onefile simple_lab_db.py`. This will create a Windows or Mac executable."
   ]
  }
 ],
 "metadata": {
  "kernelspec": {
   "display_name": "Python 3 (ipykernel)",
   "language": "python",
   "name": "python3"
  },
  "language_info": {
   "codemirror_mode": {
    "name": "ipython",
    "version": 3
   },
   "file_extension": ".py",
   "mimetype": "text/x-python",
   "name": "python",
   "nbconvert_exporter": "python",
   "pygments_lexer": "ipython3",
   "version": "3.9.7"
  }
 },
 "nbformat": 4,
 "nbformat_minor": 5
}
