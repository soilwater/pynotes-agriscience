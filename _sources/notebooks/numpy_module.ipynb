{
 "cells": [
  {
   "cell_type": "markdown",
   "metadata": {},
   "source": [
    "# Numpy Module\n",
    "\n",
    "Numpy is perhaps the most widely used Python library for scientific computing. Numpy is a numerical library for efficient numerical computation that enables vectorizing computations for element-wise and linear algebra operations in Python. Together with SciPy, Pandas, and Matplotlib, python has become the\n",
    "\n",
    "Module describing basic commands of the numpy module\n",
    "Documentation: <https://docs.scipy.org/doc/numpy/reference/index.html>"
   ]
  },
  {
   "cell_type": "code",
   "execution_count": 2,
   "metadata": {},
   "outputs": [],
   "source": [
    "# Import numpy module\n",
    "import numpy as np\n"
   ]
  },
  {
   "cell_type": "code",
   "execution_count": 2,
   "metadata": {},
   "outputs": [
    {
     "data": {
      "text/plain": [
       "[1, 2, 3, 4, 1, 2, 3, 4, 1, 2, 3, 4]"
      ]
     },
     "execution_count": 2,
     "metadata": {},
     "output_type": "execute_result"
    }
   ],
   "source": [
    "# Multiply a scalar by an array\n",
    "A = [1,2,3,4]\n",
    "A * 3\n",
    "\n",
    "# Not exactly what we are looking for. It will repeat the array three times"
   ]
  },
  {
   "cell_type": "code",
   "execution_count": null,
   "metadata": {},
   "outputs": [],
   "source": [
    "# Now let's create another array, B, with the same dimension as A\n",
    "B = [5,6,7,8]\n",
    "\n",
    "# and let's try to multiply it together\n",
    "A*B\n"
   ]
  },
  {
   "cell_type": "markdown",
   "metadata": {},
   "source": [
    "> The previous cell throws an error. We need to use Numpy to multiply vectors element-wise."
   ]
  },
  {
   "cell_type": "markdown",
   "metadata": {},
   "source": [
    "## Create Numpy arrays\n"
   ]
  },
  {
   "cell_type": "code",
   "execution_count": 4,
   "metadata": {},
   "outputs": [],
   "source": [
    "# Re-define the previous arrays as numpy arrays\n",
    "A = np.array([1,2,3,4])\n",
    "B = np.array([5,6,7,8])\n"
   ]
  },
  {
   "cell_type": "code",
   "execution_count": 5,
   "metadata": {},
   "outputs": [
    {
     "data": {
      "text/plain": [
       "array([1., 2., 3., 4.])"
      ]
     },
     "execution_count": 5,
     "metadata": {},
     "output_type": "execute_result"
    }
   ],
   "source": [
    "# An alternative by specifying the data type\n",
    "np.array([1,2,3,4], dtype=\"int64\")\n",
    "np.array([1,2,3,4], dtype=\"float64\")\n"
   ]
  },
  {
   "cell_type": "markdown",
   "metadata": {},
   "source": [
    "A common pitfall is to create a numpy array using parenthesis only. The following approach won't work:\n",
    "\n",
    "```python\n",
    "array = np.array(1,2,3,4)\n",
    "```"
   ]
  },
  {
   "cell_type": "code",
   "execution_count": 6,
   "metadata": {},
   "outputs": [
    {
     "name": "stdout",
     "output_type": "stream",
     "text": [
      "<class 'numpy.ndarray'>\n"
     ]
    }
   ],
   "source": [
    "# Check type\n",
    "print(type(A))\n"
   ]
  },
  {
   "cell_type": "markdown",
   "metadata": {},
   "source": [
    "## Operations"
   ]
  },
  {
   "cell_type": "code",
   "execution_count": 8,
   "metadata": {},
   "outputs": [
    {
     "name": "stdout",
     "output_type": "stream",
     "text": [
      "[ 3  6  9 12]\n",
      "[ 6  8 10 12]\n",
      "[-4 -4 -4 -4]\n",
      "[ 5 12 21 32]\n",
      "[0.2        0.33333333 0.42857143 0.5       ]\n",
      "[5.09901951 6.32455532 7.61577311 8.94427191]\n",
      "10\n",
      "26\n"
     ]
    }
   ],
   "source": [
    "# Operations with Numpy arrays\n",
    "print(A * 3)   # Vector times a scalar\n",
    "print(A + B)\n",
    "print(A - B)\n",
    "print(A * B)\n",
    "print(A / B)\n",
    "print(np.sqrt(A**2 + B**2)) # Exponentiation Calculate hypotenuse of multiple rectangle triangle\n",
    "print(A.sum())\n",
    "print(B.sum())\n"
   ]
  },
  {
   "cell_type": "code",
   "execution_count": 208,
   "metadata": {},
   "outputs": [
    {
     "name": "stdout",
     "output_type": "stream",
     "text": [
      "[[2.2 1.3]\n",
      " [5.2 4.3]]\n"
     ]
    }
   ],
   "source": [
    "# Dot product (useful for linear algebra operations)\n",
    "# The dot product is useful when dealing with matrix multiplication. \n",
    "# It is often used to calculate the weighted sum.\n",
    "\n",
    "O = [[1, 2, 3], \n",
    "      [4, 5, 6]]\n",
    "\n",
    "P = [[0.3, 0.8], \n",
    "     [0.2, 0.1],\n",
    "     [0.5, 0.1]]\n",
    "\n",
    "Q = np.dot(O, P)\n",
    "print(Q)\n"
   ]
  },
  {
   "cell_type": "markdown",
   "metadata": {},
   "source": [
    "The values of Q are calculated as follow:\n",
    "\n",
    "```python\n",
    "Q11 = 1*0.3 + 2*0.2 + 3*0.5\n",
    "Q21 = 4*0.3 + 5*0.2 + 6*0.5\n",
    "Q12 = 1*0.8 + 2*0.1 + 3*0.1\n",
    "Q22 = 4*0.8 + 5*0.1 + 6*0.1\n",
    "```\n"
   ]
  },
  {
   "cell_type": "markdown",
   "metadata": {},
   "source": [
    "## Attributes"
   ]
  },
  {
   "cell_type": "code",
   "execution_count": 213,
   "metadata": {},
   "outputs": [
    {
     "name": "stdout",
     "output_type": "stream",
     "text": [
      "2\n",
      "(2, 4)\n",
      "8\n",
      "int64\n",
      "2\n",
      "4\n"
     ]
    }
   ],
   "source": [
    "# Most important attributes of Numpy arrays\n",
    "array2D = np.array([[1,2,3,4],[5,6,7,8]]) # 2D array\n",
    "\n",
    "print(array2D.ndim)  # Number of dimensions\n",
    "print(array2D.shape) # Size of the array\n",
    "print(array2D.size)  # Total number of elements\n",
    "print(array2D.dtype) # Type of elements in array\n",
    "\n",
    "# Get specific dimensions of an array\n",
    "print(array2D.shape[0]) # number of rows\n",
    "print(array2D.shape[1]) # Number of columns"
   ]
  },
  {
   "cell_type": "code",
   "execution_count": 86,
   "metadata": {},
   "outputs": [
    {
     "name": "stdout",
     "output_type": "stream",
     "text": [
      "Original 2D:\n",
      "[[1 2 3 4]\n",
      " [5 6 7 8]]\n",
      "New 2D:\n",
      "[[1 2]\n",
      " [3 4]\n",
      " [5 6]\n",
      " [7 8]]\n",
      "New 3D:\n",
      "[[[1 2]\n",
      "  [3 4]]\n",
      "\n",
      " [[5 6]\n",
      "  [7 8]]]\n"
     ]
    }
   ],
   "source": [
    "# Change shape of array\n",
    "print('Original 2D:')\n",
    "print(array2D)\n",
    "\n",
    "print('New 2D:')\n",
    "print(array2D.reshape(4,2))\n",
    "\n",
    "print('New 3D:')\n",
    "print(array2D.reshape(2,2,2))"
   ]
  },
  {
   "cell_type": "markdown",
   "metadata": {},
   "source": [
    "## Numpy boolean operations\n"
   ]
  },
  {
   "cell_type": "code",
   "execution_count": 10,
   "metadata": {},
   "outputs": [
    {
     "name": "stdout",
     "output_type": "stream",
     "text": [
      "[False False  True False]\n",
      "[False  True False False]\n"
     ]
    }
   ],
   "source": [
    "expr1 = np.array([1,2,3,4]) == 3\n",
    "print(expr1)\n",
    "\n",
    "expr2 = np.array([1,2,3,4]) == 2\n",
    "print(expr2)\n"
   ]
  },
  {
   "cell_type": "code",
   "execution_count": 12,
   "metadata": {},
   "outputs": [
    {
     "name": "stdout",
     "output_type": "stream",
     "text": [
      "[False False False False]\n",
      "[False  True  True False]\n"
     ]
    }
   ],
   "source": [
    "# Elements in both vectors need to match to be considered True\n",
    "print(expr1 & expr2) # print(expr1 and expr2)\n",
    "\n",
    "# It is sufficient with a single match in one of the vectors\n",
    "print(expr1 | expr2) # print(expr1 or expr2)\n"
   ]
  },
  {
   "cell_type": "markdown",
   "metadata": {},
   "source": [
    "## Indexing and slicing\n",
    "\n",
    "                    +---+---+---+---+---+---+---+---+---+---+\n",
    "                    | 0 | 1 | 2 | 3 | 4 | 5 | 6 | 7 | 8 | 9 |\n",
    "                    +---+---+---+---+---+---+---+---+---+---+\n",
    "    Slice position: 0   1   2   3   4   5   6   7   8   9   10\n",
    "    Index position:   0   1   2   3   4   5   6   7   8   9\n",
    "\n"
   ]
  },
  {
   "cell_type": "code",
   "execution_count": 214,
   "metadata": {},
   "outputs": [
    {
     "name": "stdout",
     "output_type": "stream",
     "text": [
      "[0 1 2 3 4 5 6 7 8 9]\n",
      "1\n",
      "[0 1]\n",
      "[0 1 2 3 4 5 6 7 8 9]\n",
      "[0 2 4 6 8]\n",
      "[0 2 4 6 8]\n"
     ]
    }
   ],
   "source": [
    "# Create example array\n",
    "x = np.arange(10)\n",
    "print(x)\n",
    "\n",
    "# Indexing\n",
    "print(x[1]) # Second element\n",
    "\n",
    "# Slicing\n",
    "# array[start:stop:step]\n",
    "\n",
    "print(x[0:2])    # First and second element\n",
    "print(x[0:])     # All elements (from 0 and on)\n",
    "print(x[0:10:2]) # Every other element\n",
    "print(x[0:-1:2]) # Every other element, without knowing the total number of elements\n",
    "\n"
   ]
  },
  {
   "cell_type": "markdown",
   "metadata": {},
   "source": [
    "## Slicing exercise\n",
    "\n",
    "Given the following 5 by 5 matrix of integers:"
   ]
  },
  {
   "cell_type": "code",
   "execution_count": 3,
   "metadata": {},
   "outputs": [
    {
     "name": "stdout",
     "output_type": "stream",
     "text": [
      "[[5 0 3 3 7]\n",
      " [9 3 5 2 4]\n",
      " [7 6 8 8 1]\n",
      " [6 7 7 8 1]\n",
      " [5 9 8 9 4]]\n"
     ]
    }
   ],
   "source": [
    "np.random.seed(0)\n",
    "M = np.random.randint(0,10,[5,5])\n",
    "print(M)\n"
   ]
  },
  {
   "cell_type": "markdown",
   "metadata": {},
   "source": [
    "Write the five python commands to extract:\n",
    "- top row\n",
    "- bottom row\n",
    "- right-most column\n",
    "- left-most column\n",
    "- upper-right 3x3 matrix"
   ]
  },
  {
   "cell_type": "code",
   "execution_count": 4,
   "metadata": {},
   "outputs": [
    {
     "name": "stdout",
     "output_type": "stream",
     "text": [
      "[5 0 3 3 7]\n",
      "[5 0 3 3 7]\n",
      "[5 0 3 3 7]\n",
      "[5 9 8 9 4]\n",
      "[5 9 8 9 4]\n",
      "[5 9 8 9 4]\n",
      "[7 4 1 1 4]\n",
      "[5 9 7 6 5]\n",
      "[[3 3 7]\n",
      " [5 2 4]\n",
      " [8 8 1]]\n",
      "[[3 3 7]\n",
      " [5 2 4]\n",
      " [8 8 1]]\n"
     ]
    }
   ],
   "source": [
    "# Answer\n",
    "# Top row\n",
    "print(M[0,:]) # Preferred\n",
    "print(M[:1][0])\n",
    "print(M[0])\n",
    "\n",
    "# Bottom row\n",
    "print(M[-1,:]) # Preferred\n",
    "print(M[-1])\n",
    "print(M[4,:])\n",
    "\n",
    "\n",
    "# Right-most column\n",
    "print(M[:,-1])\n",
    "\n",
    "# Left-most column\n",
    "print(M[:,0])\n",
    "\n",
    "# Upper-right 3x3 matrix\n",
    "print(M[0:3,M.shape[1]-3:M.shape[1]])  # More versatile\n",
    "print(M[0:3,2:M.shape[1]])\n",
    "\n",
    "\n",
    "# This: M[0:3,2:1] will not work\n"
   ]
  },
  {
   "cell_type": "markdown",
   "metadata": {},
   "source": [
    "## Flattening\n",
    "\n",
    "Sometimes we want to serialize our 2D or 3D matrix into a long one-dimensional vector. This operation is called \"flattening\" and Numpy has a specific method to carry this coputation.\n"
   ]
  },
  {
   "cell_type": "code",
   "execution_count": 6,
   "metadata": {},
   "outputs": [
    {
     "data": {
      "text/plain": [
       "array([5, 0, 3, 3, 7, 9, 3, 5, 2, 4, 7, 6, 8, 8, 1, 6, 7, 7, 8, 1, 5, 9,\n",
       "       8, 9, 4])"
      ]
     },
     "execution_count": 6,
     "metadata": {},
     "output_type": "execute_result"
    }
   ],
   "source": [
    "M.flatten()"
   ]
  },
  {
   "cell_type": "markdown",
   "metadata": {},
   "source": [
    "## Numpy random module"
   ]
  },
  {
   "cell_type": "code",
   "execution_count": 90,
   "metadata": {},
   "outputs": [
    {
     "name": "stdout",
     "output_type": "stream",
     "text": [
      "[0.38648898 0.90259848 0.44994999 0.61306346 0.90234858]\n"
     ]
    }
   ],
   "source": [
    "# Random numbers between 0 and 1 from a uniform distribution\n",
    "print(np.random.rand(5))\n"
   ]
  },
  {
   "cell_type": "code",
   "execution_count": 87,
   "metadata": {},
   "outputs": [
    {
     "name": "stdout",
     "output_type": "stream",
     "text": [
      "5\n",
      "[0 3 3 7 9 3 5]\n",
      "[[2 4 7 6 8]\n",
      " [8 1 6 7 7]\n",
      " [8 1 5 9 8]\n",
      " [9 4 3 0 3]\n",
      " [5 0 2 3 8]]\n"
     ]
    }
   ],
   "source": [
    "# Random module within Numpy. Random integers from uniform distribution\n",
    "np.random.seed(0) # For reproducibility\n",
    "\n",
    "# numpy.random.randint(low, high=None, size=None, dtype='l')\n",
    "R1 = np.random.randint(0,10) # Scalar\n",
    "print(R1)\n",
    "\n",
    "R2 = np.random.randint(0,10,7) # One dimensional array\n",
    "print(R2)\n",
    "\n",
    "R3 = np.random.randint(0,10,[5,5]) # Two-dimensional array\n",
    "print(R3)\n"
   ]
  },
  {
   "cell_type": "code",
   "execution_count": 89,
   "metadata": {},
   "outputs": [
    {
     "data": {
      "text/plain": [
       "array([[-0.40602374,  0.26644534, -1.35571372],\n",
       "       [-0.11410253, -0.84423086,  0.70564081],\n",
       "       [-0.39878617, -0.82719653, -0.4157447 ]])"
      ]
     },
     "execution_count": 89,
     "metadata": {},
     "output_type": "execute_result"
    }
   ],
   "source": [
    "# Normally distributed random numbers from the “standard normal” distribution.\n",
    "# Mean = 0 \n",
    "# Standard deviation = 1 \n",
    "np.random.randn() # A single float\n",
    "np.random.randn(5) # A 1-D array\n",
    "np.random.randn(3,3) # A 2-D array\n"
   ]
  },
  {
   "cell_type": "code",
   "execution_count": 91,
   "metadata": {},
   "outputs": [],
   "source": [
    "# Random numbers from specific distribution\n",
    "\n",
    "mu, sigma = 0, 0.1 # mean and standard deviation\n",
    "s = np.random.normal(mu, sigma, 1000) # random samples from a Gaussian distribution\n",
    "print(s)\n"
   ]
  },
  {
   "cell_type": "markdown",
   "metadata": {},
   "source": [
    "Note the difference between the random module in Numpy and the core Random module:"
   ]
  },
  {
   "cell_type": "code",
   "execution_count": 24,
   "metadata": {},
   "outputs": [
    {
     "name": "stdout",
     "output_type": "stream",
     "text": [
      "1\n",
      "-1\n"
     ]
    }
   ],
   "source": [
    "# Core random module\n",
    "import random\n",
    "print(random.randint(-1,1))\n",
    "\n",
    "# Numpy random module\n",
    "print(np.random.randint(-1,2))\n"
   ]
  },
  {
   "cell_type": "markdown",
   "metadata": {},
   "source": [
    "## Numpy common functions"
   ]
  },
  {
   "cell_type": "code",
   "execution_count": 203,
   "metadata": {},
   "outputs": [
    {
     "name": "stdout",
     "output_type": "stream",
     "text": [
      "[0 1 2 3 4]\n",
      "[0 2 4]\n",
      "[ 0  5 10 15 20 25 30 35 40 45 50 55]\n",
      "5050\n"
     ]
    }
   ],
   "source": [
    "# Generate a range\n",
    "# np.arange(start,stop,step)\n",
    "print(np.arange(0,5))\n",
    "print(np.arange(0,5,2))\n",
    "print(np.arange(0,60,5))\n",
    "\n",
    "# Challenge: Compute sum of integers from 1 to 100 using numpy\n",
    "print(np.arange(101).sum())\n"
   ]
  },
  {
   "cell_type": "code",
   "execution_count": 165,
   "metadata": {},
   "outputs": [
    {
     "name": "stdout",
     "output_type": "stream",
     "text": [
      "[-10.          -6.66666667  -3.33333333   0.           3.33333333\n",
      "   6.66666667  10.        ]\n"
     ]
    }
   ],
   "source": [
    "# Linear range\n",
    "# numpy.linspace(start, stop, num=50, endpoint=True)\n",
    "print(np.linspace(-10, 10, 7))\n"
   ]
  },
  {
   "cell_type": "code",
   "execution_count": 96,
   "metadata": {},
   "outputs": [
    {
     "data": {
      "text/plain": [
       "array([[0., 0., 0.],\n",
       "       [0., 0., 0.],\n",
       "       [0., 0., 0.],\n",
       "       [0., 0., 0.],\n",
       "       [0., 0., 0.]])"
      ]
     },
     "execution_count": 96,
     "metadata": {},
     "output_type": "execute_result"
    }
   ],
   "source": [
    "# Array of zeros\n",
    "np.zeros([5,3])"
   ]
  },
  {
   "cell_type": "code",
   "execution_count": 97,
   "metadata": {},
   "outputs": [
    {
     "data": {
      "text/plain": [
       "array([[1., 1., 1.],\n",
       "       [1., 1., 1.],\n",
       "       [1., 1., 1.],\n",
       "       [1., 1., 1.]])"
      ]
     },
     "execution_count": 97,
     "metadata": {},
     "output_type": "execute_result"
    }
   ],
   "source": [
    "# Array of ones\n",
    "np.ones([4,3])\n"
   ]
  },
  {
   "cell_type": "code",
   "execution_count": 148,
   "metadata": {},
   "outputs": [
    {
     "data": {
      "text/plain": [
       "array([[nan, nan, nan],\n",
       "       [nan, nan, nan],\n",
       "       [nan, nan, nan],\n",
       "       [nan, nan, nan]])"
      ]
     },
     "execution_count": 148,
     "metadata": {},
     "output_type": "execute_result"
    }
   ],
   "source": [
    "# NaN values\n",
    "np.ones([4,3])*np.nan\n"
   ]
  },
  {
   "cell_type": "code",
   "execution_count": 191,
   "metadata": {},
   "outputs": [
    {
     "name": "stdout",
     "output_type": "stream",
     "text": [
      "[36. 37. 38. 39. 40.]\n",
      "[-102. -101. -100.  -99.  -98.]\n",
      "[[36. 37. 38. 39. 40.]\n",
      " [36. 37. 38. 39. 40.]\n",
      " [36. 37. 38. 39. 40.]\n",
      " [36. 37. 38. 39. 40.]\n",
      " [36. 37. 38. 39. 40.]]\n",
      "[[-102. -102. -102. -102. -102.]\n",
      " [-101. -101. -101. -101. -101.]\n",
      " [-100. -100. -100. -100. -100.]\n",
      " [ -99.  -99.  -99.  -99.  -99.]\n",
      " [ -98.  -98.  -98.  -98.  -98.]]\n"
     ]
    }
   ],
   "source": [
    "# Vector\n",
    "N = 5\n",
    "lat = np.linspace(36, 40, N)\n",
    "lon = np.linspace(-102, -98, N)\n",
    "print(lat)\n",
    "print(lon)\n",
    "\n",
    "# Matrix\n",
    "LAT,LON = np.meshgrid(lat,lon)\n",
    "print(LAT)\n",
    "print(LON)\n",
    "\n",
    "# Generate a Z matrix using the X and Y matrix\n",
    "Z = X**2 + Y**2\n"
   ]
  },
  {
   "cell_type": "markdown",
   "metadata": {},
   "source": [
    "## Create a noisy wave\n",
    "\n",
    "Using the `numpy random module` we can now create a wave with white noise."
   ]
  },
  {
   "cell_type": "code",
   "execution_count": 10,
   "metadata": {},
   "outputs": [],
   "source": [
    "# Set random seed for reproducibility\n",
    "np.random.seed(1) \n",
    "\n",
    "# Define wave inputs\n",
    "T_avg = 15              # Annual average [Celsius]\n",
    "A = 10                  # Annual amplitude [Celsius]\n",
    "doy = np.arange(1,366)  # Vector of days of the year\n",
    "\n",
    "# Generate x and y axis\n",
    "x = 2 * np.pi * doy/365     # Convert doy into pi-radians \n",
    "y = T_avg + A*np.sin(x) # Sine wave\n",
    "\n",
    "# Add random noise\n",
    "noise = np.random.normal(0, 3, x.size)  # White noise having zero mean\n",
    "y_noisy = y + noise\n"
   ]
  },
  {
   "cell_type": "code",
   "execution_count": 11,
   "metadata": {},
   "outputs": [
    {
     "data": {
      "image/png": "[encoded data removed]",
      "text/plain": [
       "<Figure size 576x432 with 1 Axes>"
      ]
     },
     "metadata": {
      "needs_background": "light"
     },
     "output_type": "display_data"
    }
   ],
   "source": [
    "# Visualize wave using Matplotlib\n",
    "import matplotlib.pyplot as plt\n",
    "\n",
    "# Plot wave\n",
    "plt.figure(figsize=(8,6))\n",
    "plt.plot(doy, y_noisy, '-k', label=\"Signal with noise\")\n",
    "plt.plot(doy, y, '-r', linewidth=2, label=\"Signal without noise\")\n",
    "plt.xlabel('Day of the Year', size=16)\n",
    "plt.ylabel('Air Temperature (Celsius)', size=16)\n",
    "plt.legend()\n",
    "plt.show()\n"
   ]
  },
  {
   "cell_type": "markdown",
   "metadata": {},
   "source": [
    "## Descriptive stats"
   ]
  },
  {
   "cell_type": "code",
   "execution_count": 12,
   "metadata": {},
   "outputs": [
    {
     "name": "stdout",
     "output_type": "stream",
     "text": [
      "15.0\n",
      "7.0710678118654755\n",
      "50.0\n",
      "15.000000000000007\n",
      "5.000092602638098\n",
      "24.999907397361902\n",
      "15.000000000000007\n",
      "[ 5.12930816 24.87069184]\n"
     ]
    }
   ],
   "source": [
    "# Descriptive stats\n",
    "print(y.mean())     # Mean\n",
    "print(y.std())      # Standard deviation\n",
    "print(y.var())      # Variance\n",
    "print(np.median(y)) # Median\n",
    "print(y.min())      # Minimum\n",
    "print(y.max())      # Maximum\n",
    "print(np.percentile(y,50))     # 50th percentile. Should equal to the median\n",
    "print(np.percentile(y,[5,95])) # 5th and 95th percentile\n"
   ]
  },
  {
   "cell_type": "markdown",
   "metadata": {},
   "source": [
    "## Reference\n",
    "\n",
    "Walt, S.V.D., Colbert, S.C. and Varoquaux, G., 2011. The NumPy array: a structure for efficient numerical computation. Computing in science & engineering, 13(2), pp.22-30."
   ]
  }
 ],
 "metadata": {
  "kernelspec": {
   "display_name": "Python 3",
   "language": "python",
   "name": "python3"
  },
  "language_info": {
   "codemirror_mode": {
    "name": "ipython",
    "version": 3
   },
   "file_extension": ".py",
   "mimetype": "text/x-python",
   "name": "python",
   "nbconvert_exporter": "python",
   "pygments_lexer": "ipython3",
   "version": "3.8.5"
  }
 },
 "nbformat": 4,
 "nbformat_minor": 4
}
