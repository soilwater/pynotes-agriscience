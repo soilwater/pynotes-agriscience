{
 "cells": [
  {
   "cell_type": "markdown",
   "metadata": {},
   "source": [
    "# Calculator Examples \n",
    "\n",
    "A great way to learn how to create variables and use basic functions is to use Python as a regular calculator. Below are short scripts that "
   ]
  },
  {
   "cell_type": "markdown",
   "metadata": {},
   "source": [
    "## Convert from degrees Fahrenheit to Celsius"
   ]
  },
  {
   "cell_type": "code",
   "execution_count": 2,
   "metadata": {},
   "outputs": [
    {
     "name": "stdout",
     "output_type": "stream",
     "text": [
      "The temperature is: 7.22 degrees Celsius\n"
     ]
    }
   ],
   "source": [
    "fahrenheit = 45\n",
    "celsius = (fahrenheit - 32) * 5/9\n",
    "print(\"The temperature is:\", round(celsius,2), \"degrees Celsius\")\n"
   ]
  },
  {
   "cell_type": "markdown",
   "metadata": {},
   "source": [
    "**Question**: Why do we need to separate inputs by commas?\n",
    "\n",
    "**Answer**: The print function can take multiple arguments as inputs. In this context, a comma acts as a delimiter between the inputs.\n",
    "\n",
    "```{note}\n",
    "In Python we can nest one function (e.g. `round()`) into another function (e.g. `print()`). In this case, Python will first resolve the innermost function `round()`, and then place the result in the second input argument of the `print()` function.\n",
    "```"
   ]
  },
  {
   "cell_type": "markdown",
   "metadata": {},
   "source": [
    "## Convert from inches to meters"
   ]
  },
  {
   "cell_type": "code",
   "execution_count": 2,
   "metadata": {},
   "outputs": [
    {
     "name": "stdout",
     "output_type": "stream",
     "text": [
      "72 inches are equivalent to 182.9 centimeters\n"
     ]
    }
   ],
   "source": [
    "inches = 72 # inches\n",
    "centimeters = inches * 2.54\n",
    "print(round(inches,1),\"inches are equivalent to\",round(centimeters,1),\"centimeters\")\n"
   ]
  },
  {
   "cell_type": "markdown",
   "metadata": {},
   "source": [
    "## Compute the hypotenuse\n",
    "\n",
    "Given that `a` and `b` are the sides of a right triangle, compute the hypotenuse. For instance, if `a = 3` and `b = 4`, then the command must return a value of `5`."
   ]
  },
  {
   "cell_type": "code",
   "execution_count": 8,
   "metadata": {},
   "outputs": [
    {
     "name": "stdout",
     "output_type": "stream",
     "text": [
      "Hypotenuse is: 6.26 cm\n"
     ]
    }
   ],
   "source": [
    "a = 3.0 # [cm]\n",
    "b = 5.5 # [cm]\n",
    "hypotenuse = (a**2 + b**2)**0.5\n",
    "print('Hypotenuse is:', round(hypotenuse,2),'cm')\n"
   ]
  },
  {
   "cell_type": "markdown",
   "metadata": {},
   "source": [
    "## Practice\n",
    "\n",
    "- Convert 34 acres to hectares. *Answer: 13.75 hectares*\n",
    "\n",
    "- Compute the slope (expressed in percentage) between two points on a terrain that are 150 meters apart and have difference in elevation of 12 meters. *Answer: 8% slope*\n",
    "\n",
    "- Compute the time that it takes for a beam of sunlight to reach our planet. The Earth-Sun distance is 149,597,870 km and the speed of light in vacuum is 300,000 km per second. Express your answer in minutes and seconds. Hint: be careful with the thousands separator. *Answer: 8 minutes and 19 seconds*\n",
    "\n",
    "**Interesting fact**: Code readability is a core priority of the Python language. Since Python 3.6, now we can use underscores to make large numbers more readable. For instance, the distance to the sun could be written in Python as: 149_597_870. The Python interpreter will ignore the underscores at the time of performing computations."
   ]
  }
 ],
 "metadata": {
  "kernelspec": {
   "display_name": "Python 3",
   "language": "python",
   "name": "python3"
  },
  "language_info": {
   "codemirror_mode": {
    "name": "ipython",
    "version": 3
   },
   "file_extension": ".py",
   "mimetype": "text/x-python",
   "name": "python",
   "nbconvert_exporter": "python",
   "pygments_lexer": "ipython3",
   "version": "3.8.5"
  }
 },
 "nbformat": 4,
 "nbformat_minor": 4
}
