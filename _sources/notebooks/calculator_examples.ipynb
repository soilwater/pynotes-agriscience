{
 "cells": [
  {
   "cell_type": "markdown",
   "metadata": {},
   "source": [
    "# Using Python as a Calculator\n",
    "\n",
    "A great way to learn coding is to use the Python programming language as a calculator. The following examples will help you learn how to:\n",
    "1. document a notebook using Markdown\n",
    "2. embed LaTeX equations in the documentation\n",
    "3. code and solve a simple algebraic problem\n"
   ]
  },
  {
   "cell_type": "markdown",
   "metadata": {},
   "source": [
    "## Example 1: Unit conversions\n",
    "\n",
    "Perhaps one of the most common uses of calculators is to do unit conversions. In this brief example we will use Python to conver from degrees Fahrenheit to degrees Celsius:\n",
    "\n",
    "$$ C = (F-32) \\frac{5}{9} $$"
   ]
  },
  {
   "cell_type": "code",
   "execution_count": 1,
   "metadata": {},
   "outputs": [
    {
     "name": "stdout",
     "output_type": "stream",
     "text": [
      "The temperature is 7.22 degrees Celsius\n"
     ]
    }
   ],
   "source": [
    "F = 45\n",
    "C = (F - 32) * 5/9\n",
    "print(\"The temperature is\", round(C, 2), \"degrees Celsius\")"
   ]
  },
  {
   "cell_type": "markdown",
   "metadata": {},
   "source": [
    ">The print function can take multiple arguments as inputs. In this context, a comma acts as a delimiter between the inputs."
   ]
  },
  {
   "cell_type": "markdown",
   "metadata": {},
   "source": [
    "## Example 2: Compute the hypotenuse\n",
    "\n",
    "Given that `a` and `b` are the sides of a right-angled triangle, let's compute the hypotenuse `c`. For instance, if `a = 3` and `b = 4`, then our code must return a value of `c = 5` since:\n",
    "\n",
    "$$ c = \\sqrt{a^2 + b^2} $$"
   ]
  },
  {
   "cell_type": "code",
   "execution_count": 8,
   "metadata": {},
   "outputs": [
    {
     "name": "stdout",
     "output_type": "stream",
     "text": [
      "The hypothenuse is 5.0 cm\n"
     ]
    }
   ],
   "source": [
    "a = 3 # cm\n",
    "b = 4 # cm\n",
    "c = (3**2 + 4**2)**0.5\n",
    "print('The hypothenuse is', c, 'cm')"
   ]
  },
  {
   "cell_type": "markdown",
   "metadata": {},
   "source": [
    "## Example 3: Vapor pressure deficit\n",
    "\n",
    "The vapor pressure deficit (VPD) represents the \"thirst\" of the atmosphere and is computed as the difference between the saturation vapor pressure and the actual vapor pressure. The saturation vapor pressure can be accurately approximated as a function of air temperature using the empirical [Tetens equation](https://www.wikiwand.com/en/Tetens_equation). Here is the set equations to compute VPD:\n",
    "\n",
    "**Saturation vapor pressure:**\n",
    "$$e_{sat} = 0.611 \\; exp\\Bigg(\\frac{17.502 \\ T} {T + 240.97}\\Bigg)$$\n",
    "\n",
    "**Actual vapor pressure:**\n",
    "$$e_{act} = e_{sat} \\frac{RH}{100}$$\n",
    "\n",
    "**Vapor pressure deficit:**\n",
    "$$VPD = e_{sat} - e_{act}$$\n",
    "\n",
    "**Variables**\n",
    "\n",
    "$e_{sat}$ is the saturation vapor pressure deficit (kPa)\n",
    "\n",
    "$e_{act}$ is the actual vapor pressure (kPa)\n",
    "\n",
    "$VPD$ is the vapor pressure deficit (kPa)\n",
    "\n",
    "$T$ is air temperature ($^\\circ$C)\n",
    "\n",
    "$RH$ is relative humidity (%)\n",
    "\n",
    "Note that in this example there is an exponential term. To solve this term and keep the syntax of our code similar to that of the equation we can import Python modules. For this example we will use the Numerical Python ([numpy](https://numpy.org/)) module. An alternative is to use the `math` module, you can try this as additional practice using the [math module official documentation](https://docs.python.org/3/library/math.html).\n",
    "\n",
    ">Python modules are additional libraries or toolboxes that bring additional functionality. There is a standard Python library and libraries developed by the community of Python developers. You can find many Python modules in the Python Package Index, or [PyPi](https://pypi.org/) for short."
   ]
  },
  {
   "cell_type": "code",
   "execution_count": 4,
   "metadata": {},
   "outputs": [
    {
     "name": "stdout",
     "output_type": "stream",
     "text": [
      "VPD is 1.11 kPa\n"
     ]
    }
   ],
   "source": [
    "# Import modules\n",
    "import numpy as np\n",
    "\n",
    "# Define input variables\n",
    "T = 25 # Celsius\n",
    "RH = 65 # %\n",
    "\n",
    "# Saturation vapor pressure\n",
    "e_sat = 0.611 * np.exp((17.502*T)/(T + 240.97)) # kPa\n",
    "\n",
    "# Actual vapor pressure\n",
    "e_act = e_sat * RH/100 # kPa\n",
    "\n",
    "# Vapor pressure deficit\n",
    "vpd = e_sat - e_act # kPa\n",
    "\n",
    "# Print result\n",
    "print('VPD is', round(vpd,2), 'kPa')"
   ]
  },
  {
   "cell_type": "markdown",
   "metadata": {},
   "source": [
    ">In Python we can nest one function (e.g. `round()`) into another function (e.g. `print()`). In this case, Python will first resolve the innermost function `round()`, and then it will use the result of that operation as the second input argument of the `print()` function."
   ]
  },
  {
   "cell_type": "markdown",
   "metadata": {},
   "source": [
    "## Practice\n",
    "\n",
    "Create a notebook that solves the following problems. Make sure to add a brief documentation using Markdown and LaTeX.\n",
    "\n",
    "- Convert 72 inches to centimeters. Round the answer to three significant figures. *Answer: 183 cm*\n",
    "\n",
    "- Convert 34 acres to hectares. *Answer: 13.75 hectares*\n",
    "\n",
    "- Compute the slope (expressed in percentage) between two points on a terrain that are 150 meters apart and have difference in elevation of 12 meters. *Answer: 8% slope*\n",
    "\n",
    "- Compute the time that it takes for a beam of sunlight to reach our planet. The Earth-Sun distance is 149,597,870 km and the speed of light in vacuum is 300,000 km per second. Express your answer in minutes and seconds. Hint: be careful with the thousands separator. *Answer: 8 minutes and 19 seconds*\n",
    "\n",
    ">Interesting fact: Code readability is a core priority of the Python language. Since Python 3.6, now we can use underscores to make large numbers more readable. For instance, the distance to the sun could be written in Python as: 149_597_870. The Python interpreter will ignore the underscores at the time of performing computations."
   ]
  }
 ],
 "metadata": {
  "kernelspec": {
   "display_name": "Python 3 (ipykernel)",
   "language": "python",
   "name": "python3"
  },
  "language_info": {
   "codemirror_mode": {
    "name": "ipython",
    "version": 3
   },
   "file_extension": ".py",
   "mimetype": "text/x-python",
   "name": "python",
   "nbconvert_exporter": "python",
   "pygments_lexer": "ipython3",
   "version": "3.9.7"
  }
 },
 "nbformat": 4,
 "nbformat_minor": 4
}
