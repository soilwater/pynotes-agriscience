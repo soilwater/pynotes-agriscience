{
 "cells": [
  {
   "cell_type": "markdown",
   "metadata": {},
   "source": [
    "# Basic Operations\n",
    "\n",
    "Before analyzing any dataset and doing advanced calculations will go over basic operations and commands.\n",
    "\n",
    "## Jupyter Notebooks\n",
    "\n",
    "- In [Jupyter notebooks](https://jupyter.org/) code lives in cells. Code cells help us break down the problem into smaller components and help us organize our code. Cells add modularity and improves readbility of your code. Cells can be executed individually to ensure that the code is working properly before moving into the next cell.\n",
    "\n",
    "- To run code in a cell press: `Ctrl + Enter` key. The result will appear right below the code.\n",
    "\n",
    "- To run code in a cell and move onto the next cell when done press: `Ctrl + Shift + Enter` keys"
   ]
  },
  {
   "cell_type": "markdown",
   "metadata": {},
   "source": [
    "## Hello world"
   ]
  },
  {
   "cell_type": "code",
   "execution_count": 2,
   "metadata": {},
   "outputs": [
    {
     "name": "stdout",
     "output_type": "stream",
     "text": [
      "Hello World\n"
     ]
    }
   ],
   "source": [
    "# The most iconic line of code when learning how to program\n",
    "print(\"Hello World\")"
   ]
  },
  {
   "cell_type": "markdown",
   "metadata": {},
   "source": [
    "## Comments"
   ]
  },
  {
   "cell_type": "code",
   "execution_count": 3,
   "metadata": {},
   "outputs": [],
   "source": [
    "# Comments are represented by the pound symbol \"#\". \n",
    "# So these few lines are comments and will be ignored by the Python interpreter.\n",
    "# Comments are useful to document your code"
   ]
  },
  {
   "cell_type": "code",
   "execution_count": 4,
   "metadata": {},
   "outputs": [
    {
     "name": "stdout",
     "output_type": "stream",
     "text": [
      "This sentence will print\n"
     ]
    }
   ],
   "source": [
    "print(\"This sentence will print\") # This sentence will not print"
   ]
  },
  {
   "cell_type": "markdown",
   "metadata": {},
   "source": [
    "## Variable definition"
   ]
  },
  {
   "cell_type": "code",
   "execution_count": 5,
   "metadata": {},
   "outputs": [
    {
     "name": "stdout",
     "output_type": "stream",
     "text": [
      "2.71828\n"
     ]
    }
   ],
   "source": [
    "# Define a variable\n",
    "e = 2.71828\n",
    "print(e)"
   ]
  },
  {
   "cell_type": "code",
   "execution_count": 6,
   "metadata": {},
   "outputs": [
    {
     "name": "stdout",
     "output_type": "stream",
     "text": [
      "2.71828\n"
     ]
    }
   ],
   "source": [
    "# Variables can be accessed from a different cell.\n",
    "print(e)"
   ]
  },
  {
   "cell_type": "code",
   "execution_count": 7,
   "metadata": {},
   "outputs": [
    {
     "name": "stdout",
     "output_type": "stream",
     "text": [
      "1.618\n"
     ]
    }
   ],
   "source": [
    "# Re-define a variable\n",
    "a = 1.618\n",
    "print(a)\n",
    "\n",
    "# The previous value of a = 2.71828 was replaced."
   ]
  },
  {
   "cell_type": "markdown",
   "metadata": {},
   "source": [
    ">Re-defining variables can be convenient, but we also run the risk of overwritting\n",
    "information accidentally. So, always assign meaningful names to your variables"
   ]
  },
  {
   "cell_type": "code",
   "execution_count": 8,
   "metadata": {},
   "outputs": [
    {
     "name": "stdout",
     "output_type": "stream",
     "text": [
      "euler_number = 2.718 and golden_ratio = 1.618\n"
     ]
    }
   ],
   "source": [
    "# For instance, we could have defined the following variables\n",
    "euler_number = 2.718\n",
    "golden_ratio = 1.618\n",
    "\n",
    "print('euler_number =', euler_number, 'and golden_ratio =', golden_ratio)"
   ]
  },
  {
   "cell_type": "code",
   "execution_count": 10,
   "metadata": {},
   "outputs": [
    {
     "name": "stdout",
     "output_type": "stream",
     "text": [
      "0\n",
      "0.2\n"
     ]
    }
   ],
   "source": [
    "# Define multiple variables at the same time\n",
    "mu, sigma = 0, 0.2\n",
    "print(mu)\n",
    "print(sigma)"
   ]
  },
  {
   "cell_type": "markdown",
   "metadata": {},
   "source": [
    "*Can we use numbers as variable names?*\n",
    "\n",
    "The short answer is no. Variable names must start with a letter or an underscore. Numbers can be included in variables names as long as they preceded by a letter or underscore."
   ]
  },
  {
   "cell_type": "code",
   "execution_count": 8,
   "metadata": {},
   "outputs": [
    {
     "ename": "SyntaxError",
     "evalue": "cannot assign to literal (751023081.py, line 2)",
     "output_type": "error",
     "traceback": [
      "\u001b[0;36m  File \u001b[0;32m\"/var/folders/w1/cgh8d8y962g9c6p4_dxgbn2jh5jy11/T/ipykernel_57732/751023081.py\"\u001b[0;36m, line \u001b[0;32m2\u001b[0m\n\u001b[0;31m    1 = \"a\"\u001b[0m\n\u001b[0m    ^\u001b[0m\n\u001b[0;31mSyntaxError\u001b[0m\u001b[0;31m:\u001b[0m cannot assign to literal\n"
     ]
    }
   ],
   "source": [
    "# This cell will produce an error \"SyntaxError: can't assign to literal\"\n",
    "1 = \"a\"\n"
   ]
  },
  {
   "cell_type": "markdown",
   "metadata": {},
   "source": [
    "## Arithmetic operations"
   ]
  },
  {
   "cell_type": "code",
   "execution_count": 10,
   "metadata": {},
   "outputs": [
    {
     "name": "stdout",
     "output_type": "stream",
     "text": [
      "7\n",
      "-1\n",
      "12\n",
      "0.75\n",
      "81\n",
      "2\n",
      "3\n"
     ]
    }
   ],
   "source": [
    "print(3 + 4)   # Addition\n",
    "print(3 - 4)   # Subtraction\n",
    "print(3 * 4)   # Multiplication\n",
    "print(3 / 4)   # Division\n",
    "print(3**4)    # Exponentiation\n",
    "print(10 % 4)  # Modulus\n",
    "print(10 // 3) # Floor division\n"
   ]
  }
 ],
 "metadata": {
  "kernelspec": {
   "display_name": "Python 3 (ipykernel)",
   "language": "python",
   "name": "python3"
  },
  "language_info": {
   "codemirror_mode": {
    "name": "ipython",
    "version": 3
   },
   "file_extension": ".py",
   "mimetype": "text/x-python",
   "name": "python",
   "nbconvert_exporter": "python",
   "pygments_lexer": "ipython3",
   "version": "3.9.7"
  }
 },
 "nbformat": 4,
 "nbformat_minor": 4
}
