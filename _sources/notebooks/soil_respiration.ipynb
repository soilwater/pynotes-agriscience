{
 "cells": [
  {
   "cell_type": "markdown",
   "metadata": {},
   "source": [
    "# Soil Respiration Rate\n",
    "\n",
    "Soil respiration was measured in an agricultural field at the Konza prairie during the fallow period using the EGM-5 portable CO$_2$ gas analyzer from PP Systems. Filtering the sensor signal is the first step to quantifying the soil respiration rate $\\frac{dC}{dT}$, which is then used to compute the soil CO$_2$ efflux:\n",
    "\n",
    "$$ F_{co2} = \\frac{dC}{dT} \\frac{\\mu mol}{mol \\ s} \\frac{P}{1013} \\frac{273}{273+T_{air}} \\frac{1 \\ mol}{22.4 \\ L} \\frac{V}{A} \\frac{10^3 L}{m^3}$$\n",
    "\n",
    "where,\n",
    "\n",
    "$F_{co2}$ is the soil carbon dioxide flux in $\\mu mol \\ m^{-2} \\ s^{-1}$\n",
    "\n",
    "$\\frac{dC}{dT}$ is the respiration rate, the slope of our measurement curve\n",
    "\n",
    "$P$ is the atmospheric pressure in millibars\n",
    "\n",
    "$T_air$ is air air temperature in degrees Celsius\n",
    "\n",
    "$V$ is the volume of the chamber in $m^3$\n",
    "\n",
    "$A$ is the area of the chamber in $m^2$\n"
   ]
  },
  {
   "cell_type": "code",
   "execution_count": 42,
   "metadata": {},
   "outputs": [],
   "source": [
    "# Import modules\n",
    "import pandas as pd\n",
    "import matplotlib.pyplot as plt\n"
   ]
  },
  {
   "cell_type": "code",
   "execution_count": 58,
   "metadata": {},
   "outputs": [],
   "source": [
    "# Define chamber volume \n",
    "V = 1171 # in ml\n",
    "V = V/1000 # in Liters\n",
    "\n",
    "# Define chamber area\n",
    "A = 78 # in cm2 \n",
    "A = 78/10000 # in m^2\n",
    "\n",
    "# Set window for estimating soil respiration rate\n",
    "# Somewhat arbitrary, discarded first and last minute\n",
    "start_range = 60\n",
    "end_range = 150\n"
   ]
  },
  {
   "cell_type": "code",
   "execution_count": 59,
   "metadata": {},
   "outputs": [
    {
     "data": {
      "text/html": [
       "<div>\n",
       "<style scoped>\n",
       "    .dataframe tbody tr th:only-of-type {\n",
       "        vertical-align: middle;\n",
       "    }\n",
       "\n",
       "    .dataframe tbody tr th {\n",
       "        vertical-align: top;\n",
       "    }\n",
       "\n",
       "    .dataframe thead th {\n",
       "        text-align: right;\n",
       "    }\n",
       "</style>\n",
       "<table border=\"1\" class=\"dataframe\">\n",
       "  <thead>\n",
       "    <tr style=\"text-align: right;\">\n",
       "      <th></th>\n",
       "      <th>Date</th>\n",
       "      <th>Time</th>\n",
       "      <th>CO2</th>\n",
       "      <th>Tair</th>\n",
       "      <th>Pressure</th>\n",
       "      <th>dC</th>\n",
       "      <th>dt</th>\n",
       "      <th>SRL</th>\n",
       "      <th>SRQ</th>\n",
       "    </tr>\n",
       "  </thead>\n",
       "  <tbody>\n",
       "    <tr>\n",
       "      <th>0</th>\n",
       "      <td>23/08/19</td>\n",
       "      <td>14:16:24</td>\n",
       "      <td>384</td>\n",
       "      <td>25.5</td>\n",
       "      <td>987.0</td>\n",
       "      <td>0</td>\n",
       "      <td>1</td>\n",
       "      <td>0.0</td>\n",
       "      <td>0.0</td>\n",
       "    </tr>\n",
       "    <tr>\n",
       "      <th>1</th>\n",
       "      <td>23/08/19</td>\n",
       "      <td>14:16:25</td>\n",
       "      <td>384</td>\n",
       "      <td>25.5</td>\n",
       "      <td>987.0</td>\n",
       "      <td>0</td>\n",
       "      <td>2</td>\n",
       "      <td>0.0</td>\n",
       "      <td>0.0</td>\n",
       "    </tr>\n",
       "    <tr>\n",
       "      <th>2</th>\n",
       "      <td>23/08/19</td>\n",
       "      <td>14:16:26</td>\n",
       "      <td>384</td>\n",
       "      <td>25.5</td>\n",
       "      <td>987.0</td>\n",
       "      <td>1</td>\n",
       "      <td>3</td>\n",
       "      <td>0.0</td>\n",
       "      <td>0.0</td>\n",
       "    </tr>\n",
       "    <tr>\n",
       "      <th>3</th>\n",
       "      <td>23/08/19</td>\n",
       "      <td>14:16:27</td>\n",
       "      <td>385</td>\n",
       "      <td>25.5</td>\n",
       "      <td>987.0</td>\n",
       "      <td>1</td>\n",
       "      <td>4</td>\n",
       "      <td>0.0</td>\n",
       "      <td>0.0</td>\n",
       "    </tr>\n",
       "    <tr>\n",
       "      <th>4</th>\n",
       "      <td>23/08/19</td>\n",
       "      <td>14:16:28</td>\n",
       "      <td>385</td>\n",
       "      <td>25.5</td>\n",
       "      <td>987.0</td>\n",
       "      <td>2</td>\n",
       "      <td>5</td>\n",
       "      <td>0.0</td>\n",
       "      <td>0.0</td>\n",
       "    </tr>\n",
       "  </tbody>\n",
       "</table>\n",
       "</div>"
      ],
      "text/plain": [
       "       Date      Time  CO2  Tair  Pressure  dC  dt  SRL  SRQ\n",
       "0  23/08/19  14:16:24  384  25.5     987.0   0   1  0.0  0.0\n",
       "1  23/08/19  14:16:25  384  25.5     987.0   0   2  0.0  0.0\n",
       "2  23/08/19  14:16:26  384  25.5     987.0   1   3  0.0  0.0\n",
       "3  23/08/19  14:16:27  385  25.5     987.0   1   4  0.0  0.0\n",
       "4  23/08/19  14:16:28  385  25.5     987.0   2   5  0.0  0.0"
      ]
     },
     "execution_count": 59,
     "metadata": {},
     "output_type": "execute_result"
    }
   ],
   "source": [
    "df = pd.read_csv('../datasets/soil_co2_efflux_konza.csv')\n",
    "df.head()\n"
   ]
  },
  {
   "cell_type": "code",
   "execution_count": 60,
   "metadata": {},
   "outputs": [
    {
     "data": {
      "image/png": "[encoded data removed]",
      "text/plain": [
       "<Figure size 720x576 with 1 Axes>"
      ]
     },
     "metadata": {
      "needs_background": "light"
     },
     "output_type": "display_data"
    }
   ],
   "source": [
    "plt.figure(figsize=(10,8))\n",
    "plt.plot(df[\"dt\"], df[\"CO2\"], '-k')\n",
    "plt.xlabel('Time in seconds', size=16)\n",
    "plt.ylabel('CO$_2$ concentration in ppm', size=16)\n",
    "plt.axvline(start_range, linestyle='--', color='k')\n",
    "plt.axvline(end_range, linestyle='--', color='k')\n",
    "plt.ylim(df[\"CO2\"].min(), df[\"CO2\"].max())\n",
    "plt.fill_betweenx(df[\"CO2\"], 60, 150, facecolor=[0.9,0.9,0.9])\n",
    "plt.show()\n"
   ]
  },
  {
   "cell_type": "markdown",
   "metadata": {},
   "source": [
    "The shaded area between the dashed lines represents the portion of our measurements that we will consider for estimating the soil respiration rate.\n"
   ]
  },
  {
   "cell_type": "code",
   "execution_count": 61,
   "metadata": {},
   "outputs": [
    {
     "name": "stdout",
     "output_type": "stream",
     "text": [
      "0.7555555555555555\n",
      "0.6640804123711344\n",
      "0.714975845410628\n"
     ]
    }
   ],
   "source": [
    "# Compute the soil respiration rate \n",
    "Co = df.loc[start_range,\"CO2\"]\n",
    "Cn = df.loc[end_range,\"CO2\"]\n",
    "dC = Cn - Co\n",
    "dt = end_range - start_range\n",
    "\n",
    "print(dC/dt) # From selected range\n",
    "print(df.loc[13:,\"SRL\"].mean()) # Estimated by sensor\n",
    "print((df[\"CO2\"].max() - df[\"CO2\"].min())/df.shape[0]) # Based on all observations.\n"
   ]
  },
  {
   "cell_type": "markdown",
   "metadata": {},
   "source": [
    "The different methods for estimating the soil repiration rate are slightly different but consistent. The computation of the soil respiration rate using the central portion of the data does not seem to show an advantage in this particular case, but it might be a more robust approach in chambers that exhibit leakage, particularly at high carbon dioxide concentrations.\n"
   ]
  },
  {
   "cell_type": "code",
   "execution_count": 65,
   "metadata": {},
   "outputs": [
    {
     "name": "stdout",
     "output_type": "stream",
     "text": [
      "Soil CO_2 efflux is: 4475.1  micromols per m^2 per second\n"
     ]
    }
   ],
   "source": [
    "# Compute average air pressure during window\n",
    "P = df.loc[start_range:end_range,\"Pressure\"].mean() \n",
    "\n",
    "# Compute average air temperature during window\n",
    "Tair =  df.loc[start_range:end_range,\"Tair\"].mean()\n",
    "\n",
    "# Compute the soil CO2 efflux\n",
    "F = dC/dt * P/1013 * 273/(273+Tair) * 1/22.4 * V/A * 1000\n",
    "print(\"Soil CO_2 efflux is:\", round(F,1), \" micromols per m^2 per second\")\n"
   ]
  },
  {
   "cell_type": "markdown",
   "metadata": {},
   "source": [
    "## References\n",
    "\n",
    "Parkinson, K.J., 1981. An improved method for measuring soil respiration in the field. Journal of applied ecology, pp.221-228.\n",
    "\n",
    "PPSytems, 2018. EGM-5 Portable CO2 Gas Analyzer Operation Manual version 1.06.\n"
   ]
  }
 ],
 "metadata": {
  "kernelspec": {
   "display_name": "Python 3",
   "language": "python",
   "name": "python3"
  },
  "language_info": {
   "codemirror_mode": {
    "name": "ipython",
    "version": 3
   },
   "file_extension": ".py",
   "mimetype": "text/x-python",
   "name": "python",
   "nbconvert_exporter": "python",
   "pygments_lexer": "ipython3",
   "version": "3.8.5"
  }
 },
 "nbformat": 4,
 "nbformat_minor": 4
}
