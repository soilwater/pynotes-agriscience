{
 "cells": [
  {
   "cell_type": "code",
   "execution_count": 1,
   "id": "3de0a859-f37c-4281-98d4-3c46236e1f1c",
   "metadata": {},
   "outputs": [],
   "source": [
    "import os\n",
    "import matplotlib.pyplot as plt"
   ]
  },
  {
   "cell_type": "code",
   "execution_count": 8,
   "id": "dd203627-b218-4a37-9035-6e291185f648",
   "metadata": {},
   "outputs": [],
   "source": [
    "dirs = os.listdir()\n",
    "counter = 0\n",
    "for d in dirs:\n",
    "    if os.path.isdir(d) == True and 'ipynb' not in d:\n",
    "        os.chdir(d)\n",
    "        filenames = os.listdir()\n",
    "        for f in filenames:\n",
    "            counter += 1\n",
    "            img = plt.imread(f)\n",
    "            new_filename = f'../{counter:03d}_{d}.jpg'\n",
    "            plt.imsave(new_filename, img)\n",
    "        os.chdir('..')"
   ]
  },
  {
   "cell_type": "code",
   "execution_count": 5,
   "id": "bf16f22e-c462-4771-a5d9-4135599fe370",
   "metadata": {},
   "outputs": [
    {
     "data": {
      "text/plain": [
       "'001'"
      ]
     },
     "execution_count": 5,
     "metadata": {},
     "output_type": "execute_result"
    }
   ],
   "source": [
    "counter = 1\n",
    "f'{counter:03d}'"
   ]
  },
  {
   "cell_type": "code",
   "execution_count": 6,
   "id": "7e40efa1-0d8f-48bb-a3b1-9c66923b440d",
   "metadata": {},
   "outputs": [
    {
     "data": {
      "text/plain": [
       "\u001b[0;31mSignature:\u001b[0m\n",
       "\u001b[0mplt\u001b[0m\u001b[0;34m.\u001b[0m\u001b[0mimsave\u001b[0m\u001b[0;34m(\u001b[0m\u001b[0;34m\u001b[0m\n",
       "\u001b[0;34m\u001b[0m    \u001b[0mfname\u001b[0m\u001b[0;34m:\u001b[0m \u001b[0;34m'str | os.PathLike | BinaryIO'\u001b[0m\u001b[0;34m,\u001b[0m\u001b[0;34m\u001b[0m\n",
       "\u001b[0;34m\u001b[0m    \u001b[0marr\u001b[0m\u001b[0;34m:\u001b[0m \u001b[0;34m'ArrayLike'\u001b[0m\u001b[0;34m,\u001b[0m\u001b[0;34m\u001b[0m\n",
       "\u001b[0;34m\u001b[0m    \u001b[0;34m**\u001b[0m\u001b[0mkwargs\u001b[0m\u001b[0;34m,\u001b[0m\u001b[0;34m\u001b[0m\n",
       "\u001b[0;34m\u001b[0m\u001b[0;34m)\u001b[0m \u001b[0;34m->\u001b[0m \u001b[0;34m'None'\u001b[0m\u001b[0;34m\u001b[0m\u001b[0;34m\u001b[0m\u001b[0m\n",
       "\u001b[0;31mDocstring:\u001b[0m\n",
       "Colormap and save an array as an image file.\n",
       "\n",
       "RGB(A) images are passed through.  Single channel images will be\n",
       "colormapped according to *cmap* and *norm*.\n",
       "\n",
       ".. note::\n",
       "\n",
       "   If you want to save a single channel image as gray scale please use an\n",
       "   image I/O library (such as pillow, tifffile, or imageio) directly.\n",
       "\n",
       "Parameters\n",
       "----------\n",
       "fname : str or path-like or file-like\n",
       "    A path or a file-like object to store the image in.\n",
       "    If *format* is not set, then the output format is inferred from the\n",
       "    extension of *fname*, if any, and from :rc:`savefig.format` otherwise.\n",
       "    If *format* is set, it determines the output format.\n",
       "arr : array-like\n",
       "    The image data. The shape can be one of\n",
       "    MxN (luminance), MxNx3 (RGB) or MxNx4 (RGBA).\n",
       "vmin, vmax : float, optional\n",
       "    *vmin* and *vmax* set the color scaling for the image by fixing the\n",
       "    values that map to the colormap color limits. If either *vmin*\n",
       "    or *vmax* is None, that limit is determined from the *arr*\n",
       "    min/max value.\n",
       "cmap : str or `~matplotlib.colors.Colormap`, default: :rc:`image.cmap`\n",
       "    A Colormap instance or registered colormap name. The colormap\n",
       "    maps scalar data to colors. It is ignored for RGB(A) data.\n",
       "format : str, optional\n",
       "    The file format, e.g. 'png', 'pdf', 'svg', ...  The behavior when this\n",
       "    is unset is documented under *fname*.\n",
       "origin : {'upper', 'lower'}, default: :rc:`image.origin`\n",
       "    Indicates whether the ``(0, 0)`` index of the array is in the upper\n",
       "    left or lower left corner of the axes.\n",
       "dpi : float\n",
       "    The DPI to store in the metadata of the file.  This does not affect the\n",
       "    resolution of the output image.  Depending on file format, this may be\n",
       "    rounded to the nearest integer.\n",
       "metadata : dict, optional\n",
       "    Metadata in the image file.  The supported keys depend on the output\n",
       "    format, see the documentation of the respective backends for more\n",
       "    information.\n",
       "    Currently only supported for \"png\", \"pdf\", \"ps\", \"eps\", and \"svg\".\n",
       "pil_kwargs : dict, optional\n",
       "    Keyword arguments passed to `PIL.Image.Image.save`.  If the 'pnginfo'\n",
       "    key is present, it completely overrides *metadata*, including the\n",
       "    default 'Software' key.\n",
       "\u001b[0;31mFile:\u001b[0m      ~/anaconda3/lib/python3.10/site-packages/matplotlib/pyplot.py\n",
       "\u001b[0;31mType:\u001b[0m      function"
      ]
     },
     "metadata": {},
     "output_type": "display_data"
    }
   ],
   "source": [
    "plt.imsave?"
   ]
  }
 ],
 "metadata": {
  "kernelspec": {
   "display_name": "Python 3 (ipykernel)",
   "language": "python",
   "name": "python3"
  },
  "language_info": {
   "codemirror_mode": {
    "name": "ipython",
    "version": 3
   },
   "file_extension": ".py",
   "mimetype": "text/x-python",
   "name": "python",
   "nbconvert_exporter": "python",
   "pygments_lexer": "ipython3",
   "version": "3.10.9"
  }
 },
 "nbformat": 4,
 "nbformat_minor": 5
}
